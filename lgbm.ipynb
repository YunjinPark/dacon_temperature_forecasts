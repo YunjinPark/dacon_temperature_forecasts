{
  "nbformat": 4,
  "nbformat_minor": 0,
  "metadata": {
    "colab": {
      "name": "lgbm_3.ipynb",
      "provenance": [],
      "collapsed_sections": []
    },
    "kernelspec": {
      "name": "python3",
      "display_name": "Python 3"
    },
    "accelerator": "GPU"
  },
  "cells": [
    {
      "cell_type": "markdown",
      "metadata": {
        "id": "sGyU3JRpucqp",
        "colab_type": "text"
      },
      "source": [
        "# lgbm\n",
        "transfer learning  \n",
        "리더보드 점수 8 "
      ]
    },
    {
      "cell_type": "code",
      "metadata": {
        "id": "7ASe8u1m4F13",
        "colab_type": "code",
        "colab": {}
      },
      "source": [
        "import numpy as np \n",
        "import pandas as pd\n",
        "from datetime import time, datetime\n",
        "\n",
        "import os\n",
        "from pathlib import Path\n"
      ],
      "execution_count": 0,
      "outputs": []
    },
    {
      "cell_type": "code",
      "metadata": {
        "id": "kHS-8t-EowGZ",
        "colab_type": "code",
        "colab": {}
      },
      "source": [
        "# 재생산성을 위해 시드 고정\n",
        "np.random.seed(7)"
      ],
      "execution_count": 0,
      "outputs": []
    },
    {
      "cell_type": "markdown",
      "metadata": {
        "id": "bIP3WpK3ieXL",
        "colab_type": "text"
      },
      "source": [
        "http://machinelearningkorea.com/2019/09/29/lightgbm-%ED%8C%8C%EB%9D%BC%EB%AF%B8%ED%84%B0/"
      ]
    },
    {
      "cell_type": "markdown",
      "metadata": {
        "id": "PSHLZvJmcPRs",
        "colab_type": "text"
      },
      "source": [
        "# 1. 데이터 불러오기"
      ]
    },
    {
      "cell_type": "code",
      "metadata": {
        "id": "4UP_N36kWbEw",
        "colab_type": "code",
        "outputId": "d99dd00d-19d1-410f-b000-17dfa0c1c1e1",
        "colab": {
          "base_uri": "https://localhost:8080/",
          "height": 124
        }
      },
      "source": [
        "from google.colab import drive\n",
        "drive.mount('/content/drive')"
      ],
      "execution_count": 0,
      "outputs": [
        {
          "output_type": "stream",
          "text": [
            "Go to this URL in a browser: https://accounts.google.com/o/oauth2/auth?client_id=947318989803-6bn6qk8qdgf4n4g3pfee6491hc0brc4i.apps.googleusercontent.com&redirect_uri=urn%3aietf%3awg%3aoauth%3a2.0%3aoob&response_type=code&scope=email%20https%3a%2f%2fwww.googleapis.com%2fauth%2fdocs.test%20https%3a%2f%2fwww.googleapis.com%2fauth%2fdrive%20https%3a%2f%2fwww.googleapis.com%2fauth%2fdrive.photos.readonly%20https%3a%2f%2fwww.googleapis.com%2fauth%2fpeopleapi.readonly\n",
            "\n",
            "Enter your authorization code:\n",
            "··········\n",
            "Mounted at /content/drive\n"
          ],
          "name": "stdout"
        }
      ]
    },
    {
      "cell_type": "code",
      "metadata": {
        "id": "y3u56aPzDA8f",
        "colab_type": "code",
        "outputId": "236e680d-2b65-40a6-b59b-82f07464cc14",
        "colab": {
          "base_uri": "https://localhost:8080/",
          "height": 34
        }
      },
      "source": [
        "folder = \"Colab Notebooks/dacon\"\n",
        "project_dir = \"temperature_forecasting\"\n",
        "data_folder = \"_data/data_dacon\"\n",
        "\n",
        "base_path = Path(\"/content/drive/My Drive/\")\n",
        "project_path = base_path / folder / project_dir\n",
        "data_path = base_path / data_folder / project_dir\n",
        "os.chdir(project_path)\n",
        "\n",
        "print(f\"현재 디렉토리 위치: {os.getcwd()}\")"
      ],
      "execution_count": 0,
      "outputs": [
        {
          "output_type": "stream",
          "text": [
            "현재 디렉토리 위치: /content/drive/My Drive/Colab Notebooks/dacon/temperature_forecasting\n"
          ],
          "name": "stdout"
        }
      ]
    },
    {
      "cell_type": "code",
      "metadata": {
        "id": "0Q_lQowbbf9h",
        "colab_type": "code",
        "outputId": "78b81454-6af0-44cf-b0c8-64a119125df6",
        "colab": {
          "base_uri": "https://localhost:8080/",
          "height": 34
        }
      },
      "source": [
        "df = pd.read_csv(os.path.join(data_path,'train.csv'), index_col = 'id')\n",
        "df.shape"
      ],
      "execution_count": 0,
      "outputs": [
        {
          "output_type": "execute_result",
          "data": {
            "text/plain": [
              "(4752, 59)"
            ]
          },
          "metadata": {
            "tags": []
          },
          "execution_count": 5
        }
      ]
    },
    {
      "cell_type": "code",
      "metadata": {
        "id": "cQ2Dsfc7JLwh",
        "colab_type": "code",
        "outputId": "ac0cec6a-06e7-462e-9927-e166da212570",
        "colab": {
          "base_uri": "https://localhost:8080/",
          "height": 34
        }
      },
      "source": [
        "df_test = pd.read_csv(os.path.join(data_path,'test.csv'), index_col = 'id')\n",
        "df_test.shape"
      ],
      "execution_count": 0,
      "outputs": [
        {
          "output_type": "execute_result",
          "data": {
            "text/plain": [
              "(11520, 40)"
            ]
          },
          "metadata": {
            "tags": []
          },
          "execution_count": 6
        }
      ]
    },
    {
      "cell_type": "markdown",
      "metadata": {
        "id": "uGcTv4O06Gbz",
        "colab_type": "text"
      },
      "source": [
        "#### 시간 정보 넣어주기"
      ]
    },
    {
      "cell_type": "code",
      "metadata": {
        "id": "l_bjB36N8VhM",
        "colab_type": "code",
        "colab": {}
      },
      "source": [
        "min_in_day = 24*6\n",
        "hour_in_day = 24\n",
        "\n",
        "def time_data(frame):\n",
        "    minute = (frame.index%144).astype(int)\n",
        "    hour= pd.Series((frame.index%144/6).astype(int))\n",
        "\n",
        "    minute_sin = np.sin(np.pi*minute/min_in_day) \n",
        "    minute_cos = np.cos(np.pi*minute/min_in_day)\n",
        "\n",
        "    hour_sin  = np.sin(np.pi*hour/hour_in_day)\n",
        "    hour_cos  = np.cos(np.pi*hour/hour_in_day)\n",
        "\n",
        "    return minute_sin, minute_cos, hour_sin, hour_cos"
      ],
      "execution_count": 0,
      "outputs": []
    },
    {
      "cell_type": "code",
      "metadata": {
        "id": "GsgCNE45qi-3",
        "colab_type": "code",
        "outputId": "695e8ccb-7a64-48fb-9e60-4e42a2374598",
        "colab": {
          "base_uri": "https://localhost:8080/",
          "height": 52
        }
      },
      "source": [
        "# train data\n",
        "print(df.shape)\n",
        "df['time_m_sin'], df['time_m_cos'], df['time_h_sin'], df['time_h_cos'] = time_data(df)\n",
        "print(df.shape)"
      ],
      "execution_count": 0,
      "outputs": [
        {
          "output_type": "stream",
          "text": [
            "(4752, 59)\n",
            "(4752, 63)\n"
          ],
          "name": "stdout"
        }
      ]
    },
    {
      "cell_type": "code",
      "metadata": {
        "id": "JirmkTaVrB32",
        "colab_type": "code",
        "outputId": "bb7245de-499f-410a-bb37-d3e3eed1165c",
        "colab": {
          "base_uri": "https://localhost:8080/",
          "height": 52
        }
      },
      "source": [
        "# test data\n",
        "print(df_test.shape)\n",
        "df_test['time_m_sin'], df_test['time_m_cos'], df_test['time_h_sin'], df_test['time_h_cos'] = time_data(df_test)\n",
        "print(df_test.shape)"
      ],
      "execution_count": 0,
      "outputs": [
        {
          "output_type": "stream",
          "text": [
            "(11520, 40)\n",
            "(11520, 44)\n"
          ],
          "name": "stdout"
        }
      ]
    },
    {
      "cell_type": "code",
      "metadata": {
        "id": "sBmyVGEc_wo5",
        "colab_type": "code",
        "colab": {}
      },
      "source": [
        "n = 4320"
      ],
      "execution_count": 0,
      "outputs": []
    },
    {
      "cell_type": "markdown",
      "metadata": {
        "id": "9k4dS_DVAL7j",
        "colab_type": "text"
      },
      "source": [
        "|-|30일(train)|3일(train)|80일(test)|\n",
        "|---|---|---|---|\n",
        "|Y18|NULL|432개|NULL|\n",
        "|Y00-Y17|4320개|NULL|NULL|\n",
        "|X00-X17|4320개|432개|11520개|"
      ]
    },
    {
      "cell_type": "code",
      "metadata": {
        "id": "hsWPUijJQaGd",
        "colab_type": "code",
        "colab": {}
      },
      "source": [
        "df_30 = df[:n]\n",
        "df_3 = df[n:n+n//10]"
      ],
      "execution_count": 0,
      "outputs": []
    },
    {
      "cell_type": "markdown",
      "metadata": {
        "id": "KBh2tXG4UwiV",
        "colab_type": "text"
      },
      "source": [
        "## time data"
      ]
    },
    {
      "cell_type": "code",
      "metadata": {
        "id": "lzqUeUO2UwB4",
        "colab_type": "code",
        "outputId": "9210cf72-3b65-4e4d-e63d-b05eeef22443",
        "colab": {
          "base_uri": "https://localhost:8080/",
          "height": 225
        }
      },
      "source": [
        "diff = np.mean(df[feat_temp][:n], axis=1)- np.mean(df[['Y15', 'Y16', 'Y09']][:n], axis=1)\n",
        "diff"
      ],
      "execution_count": 0,
      "outputs": [
        {
          "output_type": "execute_result",
          "data": {
            "text/plain": [
              "0       2.620000\n",
              "1       2.753333\n",
              "2       2.760000\n",
              "3       2.786667\n",
              "4       2.666667\n",
              "          ...   \n",
              "4315    0.120000\n",
              "4316    0.026667\n",
              "4317    0.273333\n",
              "4318    0.253333\n",
              "4319    0.260000\n",
              "Length: 4320, dtype: float64"
            ]
          },
          "metadata": {
            "tags": []
          },
          "execution_count": 99
        }
      ]
    },
    {
      "cell_type": "code",
      "metadata": {
        "id": "04rcwrkXWN9J",
        "colab_type": "code",
        "colab": {}
      },
      "source": [
        "diff_144 =[]\n",
        "for i in range(144):\n",
        "    diff_144.append(diff[i: :144].mean())\n",
        "diff_144 = np.array(diff_144)"
      ],
      "execution_count": 0,
      "outputs": []
    },
    {
      "cell_type": "code",
      "metadata": {
        "id": "XyqDlqiwUwFY",
        "colab_type": "code",
        "colab": {}
      },
      "source": [
        "normed_train_data['time'] = diff_144[normed_train_data.index%144]\n",
        "normed_test_data['time'] = diff_144[normed_test_data.index%144]\n",
        "normed_test_80['time'] = diff_144[normed_test_80.index%144]\n",
        "normed_test_3['time'] = diff_144[normed_test_3.index%144]"
      ],
      "execution_count": 0,
      "outputs": []
    },
    {
      "cell_type": "code",
      "metadata": {
        "id": "wbIq6gTxaZG-",
        "colab_type": "code",
        "colab": {}
      },
      "source": [
        "\n"
      ],
      "execution_count": 0,
      "outputs": []
    },
    {
      "cell_type": "markdown",
      "metadata": {
        "id": "BoVcePUUenSg",
        "colab_type": "text"
      },
      "source": [
        "# x"
      ]
    },
    {
      "cell_type": "markdown",
      "metadata": {
        "id": "HK-xZpb6eroq",
        "colab_type": "text"
      },
      "source": [
        "* feat_temp: 기온 \n",
        "* feat_air_press: 현지기압\n",
        "* feat_wind_speed: 풍속\n",
        "* feat_rainfall: 일일 누적강수량 \n",
        "* feat_sea_press: 해면기압\n",
        "* feat_insol: 일일 누적일사량\n",
        "* feat_humid: 습도\n",
        "* feat_dir_wind: 풍향\n",
        "\n"
      ]
    },
    {
      "cell_type": "code",
      "metadata": {
        "id": "JEdugNkuQEHm",
        "colab_type": "code",
        "colab": {}
      },
      "source": [
        "feat_time = ['time_m_sin', 'time_m_cos', 'time_h_sin', 'time_h_cos']\n",
        "feat_temp = ['X00', 'X07', 'X28', 'X31', 'X32']\n",
        "feat_air_press = ['X01', 'X06', 'X22', 'X27', 'X29']\n",
        "feat_wind_speed = ['X02', 'X03', 'X18', 'X24', 'X26']\n",
        "feat_rainfall = ['X04', 'X10', 'X21', 'X36', 'X39']\n",
        "feat_sea_press = ['X05', 'X08', 'X09', 'X23', 'X33']\n",
        "feat_insol = ['X11', 'X14', 'X16', 'X19', 'X34']\n",
        "feat_humid = ['X12', 'X20', 'X30', 'X37', 'X38']\n",
        "feat_dir_wind = ['X13', 'X15', 'X17', 'X25', 'X35']\n",
        "\n",
        "feat_x = ['X00', 'X01', 'X02', 'X03', 'X04', 'X05', 'X06', 'X07', 'X08', 'X09', \n",
        "          'X10', 'X11', 'X12', 'X13', 'X14', 'X15', 'X16', 'X17', 'X18', 'X19', \n",
        "          'X20', 'X21', 'X22', 'X23', 'X24', 'X25', 'X26', 'X27', 'X28', 'X29', \n",
        "          'X30', 'X31', 'X32', 'X33', 'X34', 'X35', 'X36', 'X37', 'X38', 'X39']\n",
        "\n",
        "feat_x_t = feat_x + feat_time "
      ],
      "execution_count": 0,
      "outputs": []
    },
    {
      "cell_type": "markdown",
      "metadata": {
        "id": "8aFJuvkrmJYe",
        "colab_type": "text"
      },
      "source": [
        "### 일일누적일사량 \n",
        "데이터가 의미 없는 열은 삭제 "
      ]
    },
    {
      "cell_type": "code",
      "metadata": {
        "id": "jys3mESmtFbM",
        "colab_type": "code",
        "colab": {}
      },
      "source": [
        "remove_col =  ['X14', 'X16', 'X19']"
      ],
      "execution_count": 0,
      "outputs": []
    },
    {
      "cell_type": "code",
      "metadata": {
        "colab_type": "code",
        "id": "i3W0bWFMl31u",
        "colab": {}
      },
      "source": [
        "\n",
        "for r in remove_col:\n",
        "    feat_insol.remove(r)\n",
        "    feat_x.remove(r)"
      ],
      "execution_count": 0,
      "outputs": []
    },
    {
      "cell_type": "code",
      "metadata": {
        "colab_type": "code",
        "id": "q0Cs558Ql31x",
        "colab": {}
      },
      "source": [
        "df = df.drop(remove_col, axis = 1)"
      ],
      "execution_count": 0,
      "outputs": []
    },
    {
      "cell_type": "code",
      "metadata": {
        "id": "lmh_pcGaPVrV",
        "colab_type": "code",
        "colab": {}
      },
      "source": [
        "df_test = df_test.drop(remove_col, axis = 1)"
      ],
      "execution_count": 0,
      "outputs": []
    },
    {
      "cell_type": "markdown",
      "metadata": {
        "id": "YDNoDj9ylJoF",
        "colab_type": "text"
      },
      "source": [
        "## y"
      ]
    },
    {
      "cell_type": "code",
      "metadata": {
        "id": "OohHQJHslMgN",
        "colab_type": "code",
        "colab": {}
      },
      "source": [
        "feat_y = ['Y00', 'Y01', 'Y02', 'Y03', 'Y04', 'Y05', 'Y06', 'Y07', 'Y08', \n",
        "          'Y09', 'Y10', 'Y11', 'Y12', 'Y13', 'Y14', 'Y15', 'Y16', 'Y17']"
      ],
      "execution_count": 0,
      "outputs": []
    },
    {
      "cell_type": "markdown",
      "metadata": {
        "id": "FTRee_DQL8lV",
        "colab_type": "text"
      },
      "source": [
        "# model"
      ]
    },
    {
      "cell_type": "markdown",
      "metadata": {
        "id": "b8HICTa0fczZ",
        "colab_type": "text"
      },
      "source": [
        "lgbm model - transfer learning (x로 yi평균 맞추게 하고 x로 y18 fine tuning)  \n",
        "  \n",
        "boosting_type 3가지 해봄. rf 는 계속 learning 할 수 없어서 못해봄 "
      ]
    },
    {
      "cell_type": "code",
      "metadata": {
        "id": "IIet6PL_9ccx",
        "colab_type": "code",
        "colab": {}
      },
      "source": [
        "import lightgbm as lgb\n",
        "import collections\n",
        "from sklearn.metrics import mean_squared_error"
      ],
      "execution_count": 0,
      "outputs": []
    },
    {
      "cell_type": "code",
      "metadata": {
        "id": "Cs3x7--tC9K-",
        "colab_type": "code",
        "colab": {}
      },
      "source": [
        "## loss function\n",
        "def mse1(y_pred, dataset):\n",
        "    y_true = dataset.get_label()\n",
        "\n",
        "    diff = abs(y_true - y_pred)\n",
        "    less_then_one = np.array([0 if x < 1 else 1 for x in diff])\n",
        "\n",
        "    y_pred = less_then_one * y_pred\n",
        "    y_true = less_then_one *y_true\n",
        "    \n",
        "    score= mean_squared_error(y_true, y_pred)\n",
        "    \n",
        "    return 'score', score, False"
      ],
      "execution_count": 0,
      "outputs": []
    },
    {
      "cell_type": "code",
      "metadata": {
        "id": "LJqLBt3EsUXd",
        "colab_type": "code",
        "colab": {}
      },
      "source": [
        "## data set \n",
        "## x_col, y_col 정하기 \n",
        "x_col = feat_temp + feat_air_press+ feat_rainfall+ feat_insol+feat_dir_wind+feat_time\n",
        "y_col = ['Y15', 'Y16', 'Y09'] \n",
        "\n",
        "data = df_30[x_col]\n",
        "label = df_30[y_col].mean(axis=1)\n",
        "m1_train_data = lgb.Dataset(data[:n*9//10], label=label[:n*9//10], free_raw_data=False)\n",
        "m1_validation_data = lgb.Dataset(data[n*9//10:], label=label[n*9//10:], free_raw_data=False)"
      ],
      "execution_count": 0,
      "outputs": []
    },
    {
      "cell_type": "code",
      "metadata": {
        "id": "ZYugELowukkw",
        "colab_type": "code",
        "colab": {}
      },
      "source": [
        "## data set (finetune)\n",
        "y_col = ['Y18'] \n",
        "m = 432\n",
        "data = df_3[x_col]\n",
        "label = df_3[y_col]\n",
        "m2_train_data = lgb.Dataset(data[:m*9//10], label=label[:m*9//10], free_raw_data=False)\n",
        "m2_validation_data = lgb.Dataset(data[m*9//10:], label=label[m*9//10:], free_raw_data=False)"
      ],
      "execution_count": 0,
      "outputs": []
    },
    {
      "cell_type": "markdown",
      "metadata": {
        "id": "wqRYHiO99apC",
        "colab_type": "text"
      },
      "source": [
        "## model - lgbm 1 성능 8 "
      ]
    },
    {
      "cell_type": "code",
      "metadata": {
        "id": "KlIbqahqt335",
        "colab_type": "code",
        "colab": {}
      },
      "source": [
        "## model parameter\n",
        "params ={'boosting_type': 'gbdt',\n",
        " 'learning_rate': 0.01,\n",
        " 'num_leaves': 51,\n",
        " 'random_state': 7,\n",
        " 'objective': 'regression'}"
      ],
      "execution_count": 0,
      "outputs": []
    },
    {
      "cell_type": "code",
      "metadata": {
        "id": "wBb_Sud_7FgQ",
        "colab_type": "code",
        "outputId": "8fe6cf07-9fa4-47f2-9723-bd74c79d9106",
        "colab": {
          "base_uri": "https://localhost:8080/",
          "height": 382
        }
      },
      "source": [
        "model1 = lgb.train(params, \n",
        "            m1_train_data,\n",
        "            feval=mse1,\n",
        "            valid_sets=m1_validation_data,\n",
        "            num_boost_round = 1000,\n",
        "            verbose_eval=20,\n",
        "            early_stopping_rounds=5,\n",
        "            keep_training_booster=True) "
      ],
      "execution_count": 0,
      "outputs": [
        {
          "output_type": "stream",
          "text": [
            "Training until validation scores don't improve for 5 rounds.\n",
            "[20]\tvalid_0's l2: 25.9261\tvalid_0's score: 25.8947\n",
            "[40]\tvalid_0's l2: 17.89\tvalid_0's score: 17.8423\n",
            "[60]\tvalid_0's l2: 12.5096\tvalid_0's score: 12.4462\n",
            "[80]\tvalid_0's l2: 8.85119\tvalid_0's score: 8.78657\n",
            "[100]\tvalid_0's l2: 6.33741\tvalid_0's score: 6.26589\n",
            "[120]\tvalid_0's l2: 4.62108\tvalid_0's score: 4.52814\n",
            "[140]\tvalid_0's l2: 3.45482\tvalid_0's score: 3.3432\n",
            "[160]\tvalid_0's l2: 2.73213\tvalid_0's score: 2.57824\n",
            "[180]\tvalid_0's l2: 2.24944\tvalid_0's score: 2.07695\n",
            "[200]\tvalid_0's l2: 1.92123\tvalid_0's score: 1.76038\n",
            "[220]\tvalid_0's l2: 1.70745\tvalid_0's score: 1.53651\n",
            "[240]\tvalid_0's l2: 1.56013\tvalid_0's score: 1.38247\n",
            "[260]\tvalid_0's l2: 1.4708\tvalid_0's score: 1.28258\n",
            "[280]\tvalid_0's l2: 1.41475\tvalid_0's score: 1.22998\n",
            "[300]\tvalid_0's l2: 1.37734\tvalid_0's score: 1.17809\n",
            "[320]\tvalid_0's l2: 1.35575\tvalid_0's score: 1.15451\n",
            "[340]\tvalid_0's l2: 1.33874\tvalid_0's score: 1.1399\n",
            "[360]\tvalid_0's l2: 1.32603\tvalid_0's score: 1.12595\n",
            "Early stopping, best iteration is:\n",
            "[365]\tvalid_0's l2: 1.32677\tvalid_0's score: 1.12538\n"
          ],
          "name": "stdout"
        }
      ]
    },
    {
      "cell_type": "code",
      "metadata": {
        "id": "AfeS5zvVHqSM",
        "colab_type": "code",
        "outputId": "87b186db-f12a-4632-ee01-b73b63af9ba4",
        "colab": {
          "base_uri": "https://localhost:8080/",
          "height": 1000
        }
      },
      "source": [
        "model2 = lgb.train(params, \n",
        "            m2_train_data,\n",
        "            feval = mse1,\n",
        "            valid_sets = m2_validation_data,\n",
        "            num_boost_round = 1000,\n",
        "            verbose_eval = 5,\n",
        "            early_stopping_rounds = 10,\n",
        "            init_model = model1) ## model1을 finetuning \n",
        "\n",
        "test_predictions = model2.predict(df_test[x_col], num_iteration=model2.best_iteration)\n"
      ],
      "execution_count": 0,
      "outputs": [
        {
          "output_type": "stream",
          "text": [
            "Training until validation scores don't improve for 10 rounds.\n",
            "[375]\tvalid_0's l2: 2.86532\tvalid_0's score: 2.79594\n",
            "[380]\tvalid_0's l2: 2.80834\tvalid_0's score: 2.73498\n",
            "[385]\tvalid_0's l2: 2.7384\tvalid_0's score: 2.66527\n",
            "[390]\tvalid_0's l2: 2.6784\tvalid_0's score: 2.58226\n",
            "[395]\tvalid_0's l2: 2.6198\tvalid_0's score: 2.52723\n",
            "[400]\tvalid_0's l2: 2.56536\tvalid_0's score: 2.43187\n",
            "[405]\tvalid_0's l2: 2.48944\tvalid_0's score: 2.36265\n",
            "[410]\tvalid_0's l2: 2.46199\tvalid_0's score: 2.33847\n",
            "[415]\tvalid_0's l2: 2.40166\tvalid_0's score: 2.26203\n",
            "[420]\tvalid_0's l2: 2.32853\tvalid_0's score: 2.19527\n",
            "[425]\tvalid_0's l2: 2.2767\tvalid_0's score: 2.12611\n",
            "[430]\tvalid_0's l2: 2.22105\tvalid_0's score: 2.07595\n",
            "[435]\tvalid_0's l2: 2.18134\tvalid_0's score: 2.01728\n",
            "[440]\tvalid_0's l2: 2.14015\tvalid_0's score: 1.98116\n",
            "[445]\tvalid_0's l2: 2.09714\tvalid_0's score: 1.94225\n",
            "[450]\tvalid_0's l2: 2.06206\tvalid_0's score: 1.91154\n",
            "[455]\tvalid_0's l2: 2.0291\tvalid_0's score: 1.86008\n",
            "[460]\tvalid_0's l2: 2.00543\tvalid_0's score: 1.83677\n",
            "[465]\tvalid_0's l2: 1.97771\tvalid_0's score: 1.81077\n",
            "[470]\tvalid_0's l2: 1.95879\tvalid_0's score: 1.79212\n",
            "[475]\tvalid_0's l2: 1.9392\tvalid_0's score: 1.75163\n",
            "[480]\tvalid_0's l2: 1.92627\tvalid_0's score: 1.74043\n",
            "[485]\tvalid_0's l2: 1.91373\tvalid_0's score: 1.73053\n",
            "[490]\tvalid_0's l2: 1.89752\tvalid_0's score: 1.71782\n",
            "[495]\tvalid_0's l2: 1.88791\tvalid_0's score: 1.71009\n",
            "[500]\tvalid_0's l2: 1.86195\tvalid_0's score: 1.66586\n",
            "[505]\tvalid_0's l2: 1.8301\tvalid_0's score: 1.61823\n",
            "[510]\tvalid_0's l2: 1.79665\tvalid_0's score: 1.59191\n",
            "[515]\tvalid_0's l2: 1.76172\tvalid_0's score: 1.56465\n",
            "[520]\tvalid_0's l2: 1.73325\tvalid_0's score: 1.54173\n",
            "[525]\tvalid_0's l2: 1.69823\tvalid_0's score: 1.51318\n",
            "[530]\tvalid_0's l2: 1.68937\tvalid_0's score: 1.4844\n",
            "[535]\tvalid_0's l2: 1.66984\tvalid_0's score: 1.47179\n",
            "[540]\tvalid_0's l2: 1.63926\tvalid_0's score: 1.45001\n",
            "[545]\tvalid_0's l2: 1.59684\tvalid_0's score: 1.35387\n",
            "[550]\tvalid_0's l2: 1.56532\tvalid_0's score: 1.31153\n",
            "[555]\tvalid_0's l2: 1.54506\tvalid_0's score: 1.30118\n",
            "[560]\tvalid_0's l2: 1.52839\tvalid_0's score: 1.29247\n",
            "[565]\tvalid_0's l2: 1.51825\tvalid_0's score: 1.24414\n",
            "[570]\tvalid_0's l2: 1.50137\tvalid_0's score: 1.23713\n",
            "[575]\tvalid_0's l2: 1.48815\tvalid_0's score: 1.23296\n",
            "[580]\tvalid_0's l2: 1.47344\tvalid_0's score: 1.22725\n",
            "[585]\tvalid_0's l2: 1.46241\tvalid_0's score: 1.22425\n",
            "[590]\tvalid_0's l2: 1.45439\tvalid_0's score: 1.22161\n",
            "[595]\tvalid_0's l2: 1.44797\tvalid_0's score: 1.22044\n",
            "[600]\tvalid_0's l2: 1.4369\tvalid_0's score: 1.21423\n",
            "[605]\tvalid_0's l2: 1.42509\tvalid_0's score: 1.20757\n",
            "[610]\tvalid_0's l2: 1.41337\tvalid_0's score: 1.20001\n",
            "[615]\tvalid_0's l2: 1.40141\tvalid_0's score: 1.19252\n",
            "[620]\tvalid_0's l2: 1.39039\tvalid_0's score: 1.18479\n",
            "[625]\tvalid_0's l2: 1.3789\tvalid_0's score: 1.17731\n",
            "[630]\tvalid_0's l2: 1.35984\tvalid_0's score: 1.16244\n",
            "[635]\tvalid_0's l2: 1.34923\tvalid_0's score: 1.15698\n",
            "[640]\tvalid_0's l2: 1.34684\tvalid_0's score: 1.15675\n",
            "[645]\tvalid_0's l2: 1.34016\tvalid_0's score: 1.15266\n",
            "[650]\tvalid_0's l2: 1.33341\tvalid_0's score: 1.1476\n",
            "[655]\tvalid_0's l2: 1.32907\tvalid_0's score: 1.1452\n",
            "[660]\tvalid_0's l2: 1.32484\tvalid_0's score: 1.14246\n",
            "[665]\tvalid_0's l2: 1.31726\tvalid_0's score: 1.13728\n",
            "[670]\tvalid_0's l2: 1.3118\tvalid_0's score: 1.13385\n",
            "[675]\tvalid_0's l2: 1.3055\tvalid_0's score: 1.12941\n",
            "[680]\tvalid_0's l2: 1.30103\tvalid_0's score: 1.12655\n",
            "[685]\tvalid_0's l2: 1.29786\tvalid_0's score: 1.10207\n",
            "[690]\tvalid_0's l2: 1.29588\tvalid_0's score: 1.10109\n",
            "[695]\tvalid_0's l2: 1.29336\tvalid_0's score: 1.07589\n",
            "[700]\tvalid_0's l2: 1.27647\tvalid_0's score: 1.06208\n",
            "[705]\tvalid_0's l2: 1.27332\tvalid_0's score: 1.06042\n",
            "[710]\tvalid_0's l2: 1.26493\tvalid_0's score: 1.0549\n",
            "[715]\tvalid_0's l2: 1.25277\tvalid_0's score: 1.04561\n",
            "[720]\tvalid_0's l2: 1.2373\tvalid_0's score: 1.03262\n",
            "[725]\tvalid_0's l2: 1.21661\tvalid_0's score: 1.01488\n",
            "[730]\tvalid_0's l2: 1.1998\tvalid_0's score: 1.00043\n",
            "[735]\tvalid_0's l2: 1.19513\tvalid_0's score: 0.9963\n",
            "[740]\tvalid_0's l2: 1.1906\tvalid_0's score: 0.994088\n",
            "[745]\tvalid_0's l2: 1.18598\tvalid_0's score: 0.968483\n",
            "[750]\tvalid_0's l2: 1.17635\tvalid_0's score: 0.960653\n",
            "[755]\tvalid_0's l2: 1.17201\tvalid_0's score: 0.935134\n",
            "[760]\tvalid_0's l2: 1.16575\tvalid_0's score: 0.930672\n",
            "[765]\tvalid_0's l2: 1.1523\tvalid_0's score: 0.920599\n",
            "[770]\tvalid_0's l2: 1.15038\tvalid_0's score: 0.917866\n",
            "[775]\tvalid_0's l2: 1.14437\tvalid_0's score: 0.8893\n",
            "[780]\tvalid_0's l2: 1.14431\tvalid_0's score: 0.888361\n",
            "[785]\tvalid_0's l2: 1.14628\tvalid_0's score: 0.88946\n",
            "[790]\tvalid_0's l2: 1.14975\tvalid_0's score: 0.891692\n",
            "Early stopping, best iteration is:\n",
            "[780]\tvalid_0's l2: 1.14431\tvalid_0's score: 0.888361\n"
          ],
          "name": "stdout"
        }
      ]
    },
    {
      "cell_type": "code",
      "metadata": {
        "colab_type": "code",
        "id": "BcDY65EYguNP",
        "colab": {}
      },
      "source": [
        "now = datetime.now()\n",
        "now =now.strftime('%m%d_%H%M')"
      ],
      "execution_count": 0,
      "outputs": []
    },
    {
      "cell_type": "code",
      "metadata": {
        "colab_type": "code",
        "id": "m6mpVSvpguNW",
        "colab": {}
      },
      "source": [
        "# 제출 파일 만들기\n",
        "submit = pd.DataFrame({'id':range(144*33, 144*113),\n",
        "              'Y18':test_predictions.reshape(1,-1)[0]})\n",
        "submit.to_csv('./results/baseline_result_2_'+now+'.csv', index = False)"
      ],
      "execution_count": 0,
      "outputs": []
    },
    {
      "cell_type": "markdown",
      "metadata": {
        "colab_type": "text",
        "id": "sY7m_CmxvqMW"
      },
      "source": [
        "## model - lgbm dart 성능 8  \n",
        "하이퍼파라메터 조정  \n",
        "boosting_type: dart  \n",
        "'num_leaves': 200  "
      ]
    },
    {
      "cell_type": "code",
      "metadata": {
        "colab_type": "code",
        "id": "KpIz8bcivqNa",
        "colab": {}
      },
      "source": [
        "## model parameter\n",
        "params ={'boosting_type': 'dart',\n",
        " 'learning_rate': 0.01,\n",
        " 'num_leaves': 200,\n",
        " 'random_state': 7,\n",
        " 'num_boost_round': 10000,\n",
        " 'objective': 'regression'}"
      ],
      "execution_count": 0,
      "outputs": []
    },
    {
      "cell_type": "code",
      "metadata": {
        "colab_type": "code",
        "outputId": "fdf41560-1736-43da-8c07-a5887d6b09b5",
        "id": "VwzNg8y6vqNw",
        "colab": {
          "base_uri": "https://localhost:8080/",
          "height": 1000
        }
      },
      "source": [
        "model1 = lgb.train(params, \n",
        "            m1_train_data,\n",
        "            feval=mse1,\n",
        "            valid_sets=m1_validation_data,\n",
        "            verbose_eval=100,\n",
        "         #   early_stopping_rounds=5,\n",
        "            keep_training_booster=True) "
      ],
      "execution_count": 0,
      "outputs": [
        {
          "output_type": "stream",
          "text": [
            "/usr/local/lib/python3.6/dist-packages/lightgbm/engine.py:118: UserWarning: Found `num_boost_round` in params. Will use it instead of argument\n",
            "  warnings.warn(\"Found `{}` in params. Will use it instead of argument\".format(alias))\n"
          ],
          "name": "stderr"
        },
        {
          "output_type": "stream",
          "text": [
            "[100]\tvalid_0's l2: 99.3202\tvalid_0's score: 99.3202\n",
            "[200]\tvalid_0's l2: 78.8948\tvalid_0's score: 78.8948\n",
            "[300]\tvalid_0's l2: 57.8919\tvalid_0's score: 57.8919\n",
            "[400]\tvalid_0's l2: 59.3466\tvalid_0's score: 59.3466\n",
            "[500]\tvalid_0's l2: 33.8652\tvalid_0's score: 33.8652\n",
            "[600]\tvalid_0's l2: 31.2215\tvalid_0's score: 31.2215\n",
            "[700]\tvalid_0's l2: 25.4981\tvalid_0's score: 25.4966\n",
            "[800]\tvalid_0's l2: 18.7528\tvalid_0's score: 18.7485\n",
            "[900]\tvalid_0's l2: 12.9713\tvalid_0's score: 12.9602\n",
            "[1000]\tvalid_0's l2: 9.91964\tvalid_0's score: 9.89259\n",
            "[1100]\tvalid_0's l2: 10.3864\tvalid_0's score: 10.3692\n",
            "[1200]\tvalid_0's l2: 14.605\tvalid_0's score: 14.5983\n",
            "[1300]\tvalid_0's l2: 10.5363\tvalid_0's score: 10.5199\n",
            "[1400]\tvalid_0's l2: 6.80191\tvalid_0's score: 6.73555\n",
            "[1500]\tvalid_0's l2: 5.89446\tvalid_0's score: 5.81089\n",
            "[1600]\tvalid_0's l2: 5.11424\tvalid_0's score: 5.01913\n",
            "[1700]\tvalid_0's l2: 4.22429\tvalid_0's score: 4.13095\n",
            "[1800]\tvalid_0's l2: 4.07641\tvalid_0's score: 3.98035\n",
            "[1900]\tvalid_0's l2: 4.32499\tvalid_0's score: 4.22429\n",
            "[2000]\tvalid_0's l2: 3.75831\tvalid_0's score: 3.65818\n",
            "[2100]\tvalid_0's l2: 3.29158\tvalid_0's score: 3.16598\n",
            "[2200]\tvalid_0's l2: 2.98466\tvalid_0's score: 2.84833\n",
            "[2300]\tvalid_0's l2: 3.13424\tvalid_0's score: 3.01092\n",
            "[2400]\tvalid_0's l2: 2.9534\tvalid_0's score: 2.8123\n",
            "[2500]\tvalid_0's l2: 3.1011\tvalid_0's score: 2.97899\n",
            "[2600]\tvalid_0's l2: 3.16619\tvalid_0's score: 3.04394\n",
            "[2700]\tvalid_0's l2: 3.05192\tvalid_0's score: 2.92448\n",
            "[2800]\tvalid_0's l2: 2.71176\tvalid_0's score: 2.56762\n",
            "[2900]\tvalid_0's l2: 2.71239\tvalid_0's score: 2.56848\n",
            "[3000]\tvalid_0's l2: 2.59901\tvalid_0's score: 2.45295\n",
            "[3100]\tvalid_0's l2: 2.25603\tvalid_0's score: 2.088\n",
            "[3200]\tvalid_0's l2: 2.26094\tvalid_0's score: 2.09494\n",
            "[3300]\tvalid_0's l2: 2.17975\tvalid_0's score: 2.0172\n",
            "[3400]\tvalid_0's l2: 1.99414\tvalid_0's score: 1.83001\n",
            "[3500]\tvalid_0's l2: 1.92405\tvalid_0's score: 1.75968\n",
            "[3600]\tvalid_0's l2: 2.01244\tvalid_0's score: 1.84809\n",
            "[3700]\tvalid_0's l2: 2.1043\tvalid_0's score: 1.92712\n",
            "[3800]\tvalid_0's l2: 1.99151\tvalid_0's score: 1.83464\n",
            "[3900]\tvalid_0's l2: 1.98088\tvalid_0's score: 1.82299\n",
            "[4000]\tvalid_0's l2: 1.65933\tvalid_0's score: 1.48425\n",
            "[4100]\tvalid_0's l2: 1.54204\tvalid_0's score: 1.36178\n",
            "[4200]\tvalid_0's l2: 1.4933\tvalid_0's score: 1.28792\n",
            "[4300]\tvalid_0's l2: 1.45363\tvalid_0's score: 1.24923\n",
            "[4400]\tvalid_0's l2: 1.65667\tvalid_0's score: 1.47755\n",
            "[4500]\tvalid_0's l2: 1.59059\tvalid_0's score: 1.41251\n",
            "[4600]\tvalid_0's l2: 1.66296\tvalid_0's score: 1.48867\n",
            "[4700]\tvalid_0's l2: 1.61475\tvalid_0's score: 1.43664\n",
            "[4800]\tvalid_0's l2: 1.65077\tvalid_0's score: 1.4757\n",
            "[4900]\tvalid_0's l2: 1.61678\tvalid_0's score: 1.44108\n",
            "[5000]\tvalid_0's l2: 1.6339\tvalid_0's score: 1.4592\n",
            "[5100]\tvalid_0's l2: 1.58828\tvalid_0's score: 1.41908\n",
            "[5200]\tvalid_0's l2: 1.59029\tvalid_0's score: 1.42449\n",
            "[5300]\tvalid_0's l2: 1.54675\tvalid_0's score: 1.36505\n",
            "[5400]\tvalid_0's l2: 1.52459\tvalid_0's score: 1.31997\n",
            "[5500]\tvalid_0's l2: 1.51682\tvalid_0's score: 1.3129\n",
            "[5600]\tvalid_0's l2: 1.51847\tvalid_0's score: 1.31857\n",
            "[5700]\tvalid_0's l2: 1.51148\tvalid_0's score: 1.31132\n",
            "[5800]\tvalid_0's l2: 1.5127\tvalid_0's score: 1.31199\n",
            "[5900]\tvalid_0's l2: 1.46621\tvalid_0's score: 1.26858\n",
            "[6000]\tvalid_0's l2: 1.4747\tvalid_0's score: 1.27925\n",
            "[6100]\tvalid_0's l2: 1.45951\tvalid_0's score: 1.25866\n",
            "[6200]\tvalid_0's l2: 1.46098\tvalid_0's score: 1.2658\n",
            "[6300]\tvalid_0's l2: 1.44371\tvalid_0's score: 1.23634\n",
            "[6400]\tvalid_0's l2: 1.44442\tvalid_0's score: 1.24073\n",
            "[6500]\tvalid_0's l2: 1.47399\tvalid_0's score: 1.28457\n",
            "[6600]\tvalid_0's l2: 1.44656\tvalid_0's score: 1.24518\n",
            "[6700]\tvalid_0's l2: 1.44211\tvalid_0's score: 1.23508\n",
            "[6800]\tvalid_0's l2: 1.44002\tvalid_0's score: 1.22835\n",
            "[6900]\tvalid_0's l2: 1.46943\tvalid_0's score: 1.27826\n",
            "[7000]\tvalid_0's l2: 1.40907\tvalid_0's score: 1.20946\n",
            "[7100]\tvalid_0's l2: 1.38912\tvalid_0's score: 1.18614\n",
            "[7200]\tvalid_0's l2: 1.4034\tvalid_0's score: 1.20554\n",
            "[7300]\tvalid_0's l2: 1.4272\tvalid_0's score: 1.22873\n",
            "[7400]\tvalid_0's l2: 1.43324\tvalid_0's score: 1.24078\n",
            "[7500]\tvalid_0's l2: 1.40948\tvalid_0's score: 1.21127\n",
            "[7600]\tvalid_0's l2: 1.43308\tvalid_0's score: 1.23585\n",
            "[7700]\tvalid_0's l2: 1.43667\tvalid_0's score: 1.23628\n",
            "[7800]\tvalid_0's l2: 1.45557\tvalid_0's score: 1.26145\n",
            "[7900]\tvalid_0's l2: 1.4521\tvalid_0's score: 1.26046\n",
            "[8000]\tvalid_0's l2: 1.41515\tvalid_0's score: 1.21836\n",
            "[8100]\tvalid_0's l2: 1.4076\tvalid_0's score: 1.20951\n",
            "[8200]\tvalid_0's l2: 1.40886\tvalid_0's score: 1.20877\n",
            "[8300]\tvalid_0's l2: 1.40954\tvalid_0's score: 1.20513\n",
            "[8400]\tvalid_0's l2: 1.4128\tvalid_0's score: 1.21279\n",
            "[8500]\tvalid_0's l2: 1.43339\tvalid_0's score: 1.2381\n",
            "[8600]\tvalid_0's l2: 1.40736\tvalid_0's score: 1.20848\n",
            "[8700]\tvalid_0's l2: 1.38487\tvalid_0's score: 1.18768\n",
            "[8800]\tvalid_0's l2: 1.38777\tvalid_0's score: 1.19141\n",
            "[8900]\tvalid_0's l2: 1.3784\tvalid_0's score: 1.18051\n",
            "[9000]\tvalid_0's l2: 1.38626\tvalid_0's score: 1.18594\n",
            "[9100]\tvalid_0's l2: 1.39094\tvalid_0's score: 1.19378\n",
            "[9200]\tvalid_0's l2: 1.39331\tvalid_0's score: 1.1961\n",
            "[9300]\tvalid_0's l2: 1.41721\tvalid_0's score: 1.21467\n",
            "[9400]\tvalid_0's l2: 1.41036\tvalid_0's score: 1.2097\n",
            "[9500]\tvalid_0's l2: 1.40333\tvalid_0's score: 1.2051\n",
            "[9600]\tvalid_0's l2: 1.40792\tvalid_0's score: 1.20906\n",
            "[9700]\tvalid_0's l2: 1.39343\tvalid_0's score: 1.19618\n",
            "[9800]\tvalid_0's l2: 1.38107\tvalid_0's score: 1.18579\n",
            "[9900]\tvalid_0's l2: 1.38883\tvalid_0's score: 1.19278\n",
            "[10000]\tvalid_0's l2: 1.37792\tvalid_0's score: 1.1809\n"
          ],
          "name": "stdout"
        }
      ]
    },
    {
      "cell_type": "code",
      "metadata": {
        "colab_type": "code",
        "outputId": "e7171519-4c89-43f8-fc63-cdfea25ce689",
        "id": "0QkUZGCEvqOE",
        "colab": {
          "base_uri": "https://localhost:8080/",
          "height": 1000
        }
      },
      "source": [
        "## model parameter\n",
        "params ={'boosting_type': 'dart',\n",
        " 'learning_rate': 0.01,\n",
        " 'num_leaves': 200,\n",
        " 'random_state': 7,\n",
        " 'objective': 'regression'}\n",
        "model2 = lgb.train(params, \n",
        "            m2_train_data,\n",
        "            feval = mse1,\n",
        "            valid_sets = m2_validation_data,\n",
        "            num_boost_round = 11070,\n",
        "            verbose_eval = 100,\n",
        "          #  early_stopping_rounds = 10,\n",
        "            init_model = model1) ## model1을 finetuning \n",
        "\n",
        "test_predictions = model2.predict(df_test[x_col], num_iteration=model2.best_iteration)\n"
      ],
      "execution_count": 0,
      "outputs": [
        {
          "output_type": "stream",
          "text": [
            "/usr/local/lib/python3.6/dist-packages/lightgbm/basic.py:814: UserWarning: The prediction of init_model will be overridden by init_score.\n",
            "  warnings.warn(\"The prediction of init_model will be overridden by init_score.\")\n"
          ],
          "name": "stderr"
        },
        {
          "output_type": "stream",
          "text": [
            "[10100]\tvalid_0's l2: 2.07584\tvalid_0's score: 1.92079\n",
            "[10200]\tvalid_0's l2: 1.63488\tvalid_0's score: 1.40966\n",
            "[10300]\tvalid_0's l2: 1.43416\tvalid_0's score: 1.22389\n",
            "[10400]\tvalid_0's l2: 1.29232\tvalid_0's score: 1.05839\n",
            "[10500]\tvalid_0's l2: 1.27152\tvalid_0's score: 0.999979\n",
            "[10600]\tvalid_0's l2: 1.28671\tvalid_0's score: 1.02349\n",
            "[10700]\tvalid_0's l2: 1.27666\tvalid_0's score: 1.0629\n",
            "[10800]\tvalid_0's l2: 1.26651\tvalid_0's score: 1.05057\n",
            "[10900]\tvalid_0's l2: 1.25879\tvalid_0's score: 1.02143\n",
            "[11000]\tvalid_0's l2: 1.27332\tvalid_0's score: 1.0541\n",
            "[11100]\tvalid_0's l2: 1.28798\tvalid_0's score: 1.06582\n",
            "[11200]\tvalid_0's l2: 1.29541\tvalid_0's score: 1.07352\n",
            "[11300]\tvalid_0's l2: 1.29779\tvalid_0's score: 1.0764\n",
            "[11400]\tvalid_0's l2: 1.29674\tvalid_0's score: 1.12161\n",
            "[11500]\tvalid_0's l2: 1.29959\tvalid_0's score: 1.10258\n",
            "[11600]\tvalid_0's l2: 1.29981\tvalid_0's score: 1.10451\n",
            "[11700]\tvalid_0's l2: 1.30843\tvalid_0's score: 1.11222\n",
            "[11800]\tvalid_0's l2: 1.3164\tvalid_0's score: 1.11909\n",
            "[11900]\tvalid_0's l2: 1.31682\tvalid_0's score: 1.12034\n",
            "[12000]\tvalid_0's l2: 1.32454\tvalid_0's score: 1.1267\n",
            "[12100]\tvalid_0's l2: 1.33147\tvalid_0's score: 1.13307\n",
            "[12200]\tvalid_0's l2: 1.337\tvalid_0's score: 1.13872\n",
            "[12300]\tvalid_0's l2: 1.34767\tvalid_0's score: 1.14726\n",
            "[12400]\tvalid_0's l2: 1.36276\tvalid_0's score: 1.1829\n",
            "[12500]\tvalid_0's l2: 1.37265\tvalid_0's score: 1.19164\n",
            "[12600]\tvalid_0's l2: 1.38072\tvalid_0's score: 1.19804\n",
            "[12700]\tvalid_0's l2: 1.38101\tvalid_0's score: 1.19857\n",
            "[12800]\tvalid_0's l2: 1.38426\tvalid_0's score: 1.20144\n",
            "[12900]\tvalid_0's l2: 1.38812\tvalid_0's score: 1.20471\n",
            "[13000]\tvalid_0's l2: 1.39499\tvalid_0's score: 1.20983\n",
            "[13100]\tvalid_0's l2: 1.40112\tvalid_0's score: 1.21456\n",
            "[13200]\tvalid_0's l2: 1.40515\tvalid_0's score: 1.21785\n",
            "[13300]\tvalid_0's l2: 1.41038\tvalid_0's score: 1.2221\n",
            "[13400]\tvalid_0's l2: 1.41498\tvalid_0's score: 1.22543\n",
            "[13500]\tvalid_0's l2: 1.41825\tvalid_0's score: 1.25051\n",
            "[13600]\tvalid_0's l2: 1.42386\tvalid_0's score: 1.27806\n",
            "[13700]\tvalid_0's l2: 1.42557\tvalid_0's score: 1.27979\n",
            "[13800]\tvalid_0's l2: 1.43022\tvalid_0's score: 1.28376\n",
            "[13900]\tvalid_0's l2: 1.43357\tvalid_0's score: 1.2867\n",
            "[14000]\tvalid_0's l2: 1.43558\tvalid_0's score: 1.28833\n",
            "[14100]\tvalid_0's l2: 1.43906\tvalid_0's score: 1.29135\n",
            "[14200]\tvalid_0's l2: 1.44174\tvalid_0's score: 1.29367\n",
            "[14300]\tvalid_0's l2: 1.4488\tvalid_0's score: 1.29994\n",
            "[14400]\tvalid_0's l2: 1.45048\tvalid_0's score: 1.30138\n",
            "[14500]\tvalid_0's l2: 1.45519\tvalid_0's score: 1.30551\n",
            "[14600]\tvalid_0's l2: 1.45805\tvalid_0's score: 1.30813\n",
            "[14700]\tvalid_0's l2: 1.45897\tvalid_0's score: 1.30924\n",
            "[14800]\tvalid_0's l2: 1.45951\tvalid_0's score: 1.30998\n",
            "[14900]\tvalid_0's l2: 1.46058\tvalid_0's score: 1.31089\n",
            "[15000]\tvalid_0's l2: 1.46068\tvalid_0's score: 1.31097\n",
            "[15100]\tvalid_0's l2: 1.46015\tvalid_0's score: 1.31056\n",
            "[15200]\tvalid_0's l2: 1.46166\tvalid_0's score: 1.31188\n",
            "[15300]\tvalid_0's l2: 1.46343\tvalid_0's score: 1.31331\n",
            "[15400]\tvalid_0's l2: 1.46304\tvalid_0's score: 1.31298\n",
            "[15500]\tvalid_0's l2: 1.46229\tvalid_0's score: 1.31234\n",
            "[15600]\tvalid_0's l2: 1.46232\tvalid_0's score: 1.31236\n",
            "[15700]\tvalid_0's l2: 1.46416\tvalid_0's score: 1.31399\n",
            "[15800]\tvalid_0's l2: 1.46536\tvalid_0's score: 1.31498\n",
            "[15900]\tvalid_0's l2: 1.46606\tvalid_0's score: 1.31558\n",
            "[16000]\tvalid_0's l2: 1.46634\tvalid_0's score: 1.31581\n",
            "[16100]\tvalid_0's l2: 1.46642\tvalid_0's score: 1.31583\n",
            "[16200]\tvalid_0's l2: 1.46676\tvalid_0's score: 1.31612\n",
            "[16300]\tvalid_0's l2: 1.46732\tvalid_0's score: 1.31664\n",
            "[16400]\tvalid_0's l2: 1.46842\tvalid_0's score: 1.34032\n",
            "[16500]\tvalid_0's l2: 1.46845\tvalid_0's score: 1.34029\n",
            "[16600]\tvalid_0's l2: 1.46831\tvalid_0's score: 1.34015\n",
            "[16700]\tvalid_0's l2: 1.46829\tvalid_0's score: 1.34017\n",
            "[16800]\tvalid_0's l2: 1.46823\tvalid_0's score: 1.3401\n",
            "[16900]\tvalid_0's l2: 1.46744\tvalid_0's score: 1.33944\n",
            "[17000]\tvalid_0's l2: 1.46717\tvalid_0's score: 1.33925\n",
            "[17100]\tvalid_0's l2: 1.46756\tvalid_0's score: 1.33964\n",
            "[17200]\tvalid_0's l2: 1.46716\tvalid_0's score: 1.33937\n",
            "[17300]\tvalid_0's l2: 1.4666\tvalid_0's score: 1.33895\n",
            "[17400]\tvalid_0's l2: 1.46598\tvalid_0's score: 1.33839\n",
            "[17500]\tvalid_0's l2: 1.46594\tvalid_0's score: 1.33846\n",
            "[17600]\tvalid_0's l2: 1.46541\tvalid_0's score: 1.33802\n",
            "[17700]\tvalid_0's l2: 1.46563\tvalid_0's score: 1.33825\n",
            "[17800]\tvalid_0's l2: 1.46577\tvalid_0's score: 1.33844\n",
            "[17900]\tvalid_0's l2: 1.4659\tvalid_0's score: 1.33857\n",
            "[18000]\tvalid_0's l2: 1.4659\tvalid_0's score: 1.33859\n",
            "[18100]\tvalid_0's l2: 1.46565\tvalid_0's score: 1.33837\n",
            "[18200]\tvalid_0's l2: 1.46573\tvalid_0's score: 1.33848\n",
            "[18300]\tvalid_0's l2: 1.46652\tvalid_0's score: 1.33921\n",
            "[18400]\tvalid_0's l2: 1.46658\tvalid_0's score: 1.3393\n",
            "[18500]\tvalid_0's l2: 1.46691\tvalid_0's score: 1.33963\n",
            "[18600]\tvalid_0's l2: 1.46697\tvalid_0's score: 1.3397\n",
            "[18700]\tvalid_0's l2: 1.46644\tvalid_0's score: 1.33926\n",
            "[18800]\tvalid_0's l2: 1.46678\tvalid_0's score: 1.3396\n",
            "[18900]\tvalid_0's l2: 1.46731\tvalid_0's score: 1.34009\n",
            "[19000]\tvalid_0's l2: 1.46716\tvalid_0's score: 1.33998\n",
            "[19100]\tvalid_0's l2: 1.46736\tvalid_0's score: 1.34022\n",
            "[19200]\tvalid_0's l2: 1.46757\tvalid_0's score: 1.34042\n",
            "[19300]\tvalid_0's l2: 1.46782\tvalid_0's score: 1.34065\n",
            "[19400]\tvalid_0's l2: 1.46779\tvalid_0's score: 1.34066\n",
            "[19500]\tvalid_0's l2: 1.4677\tvalid_0's score: 1.3406\n",
            "[19600]\tvalid_0's l2: 1.46776\tvalid_0's score: 1.34068\n",
            "[19700]\tvalid_0's l2: 1.46767\tvalid_0's score: 1.34056\n",
            "[19800]\tvalid_0's l2: 1.46767\tvalid_0's score: 1.34058\n",
            "[19900]\tvalid_0's l2: 1.46766\tvalid_0's score: 1.34057\n",
            "[20000]\tvalid_0's l2: 1.46783\tvalid_0's score: 1.34072\n",
            "[20100]\tvalid_0's l2: 1.46777\tvalid_0's score: 1.34067\n",
            "[20200]\tvalid_0's l2: 1.46772\tvalid_0's score: 1.34063\n",
            "[20300]\tvalid_0's l2: 1.46753\tvalid_0's score: 1.34046\n",
            "[20400]\tvalid_0's l2: 1.4674\tvalid_0's score: 1.34035\n",
            "[20500]\tvalid_0's l2: 1.46731\tvalid_0's score: 1.34027\n",
            "[20600]\tvalid_0's l2: 1.4674\tvalid_0's score: 1.34035\n",
            "[20700]\tvalid_0's l2: 1.46734\tvalid_0's score: 1.34028\n",
            "[20800]\tvalid_0's l2: 1.4675\tvalid_0's score: 1.34041\n",
            "[20900]\tvalid_0's l2: 1.4676\tvalid_0's score: 1.34049\n",
            "[21000]\tvalid_0's l2: 1.46765\tvalid_0's score: 1.34055\n"
          ],
          "name": "stdout"
        }
      ]
    },
    {
      "cell_type": "code",
      "metadata": {
        "colab_type": "code",
        "id": "ZrKRsLQLvqOM",
        "colab": {}
      },
      "source": [
        "now = datetime.now()\n",
        "now =now.strftime('%m%d_%H%M')"
      ],
      "execution_count": 0,
      "outputs": []
    },
    {
      "cell_type": "code",
      "metadata": {
        "colab_type": "code",
        "id": "Pa7buCvCvqOV",
        "colab": {}
      },
      "source": [
        "# 제출 파일 만들기\n",
        "submit = pd.DataFrame({'id':range(144*33, 144*113),\n",
        "              'Y18':test_predictions.reshape(1,-1)[0]})\n",
        "submit.to_csv('./results/baseline_result_2_'+now+'.csv', index = False)"
      ],
      "execution_count": 0,
      "outputs": []
    },
    {
      "cell_type": "markdown",
      "metadata": {
        "colab_type": "text",
        "id": "7Pt1Ig2GAkwn"
      },
      "source": [
        "## model - lgbm goss 성능 6.3\n",
        "하이퍼파라메터 조정  \n",
        "boosting_type: goss  \n",
        "'num_leaves': 50  "
      ]
    },
    {
      "cell_type": "code",
      "metadata": {
        "colab_type": "code",
        "id": "j7Og0LemAkw4",
        "colab": {}
      },
      "source": [
        "## model parameter\n",
        "params ={'boosting_type': 'goss',\n",
        " 'learning_rate': 0.005,\n",
        " 'num_leaves': 50,\n",
        " 'random_state': 7,\n",
        " 'objective': 'regression'}"
      ],
      "execution_count": 0,
      "outputs": []
    },
    {
      "cell_type": "code",
      "metadata": {
        "colab_type": "code",
        "outputId": "43d9ecee-d023-4a57-e4ee-30f4241ebee2",
        "id": "nXshDex2AkxS",
        "colab": {
          "base_uri": "https://localhost:8080/",
          "height": 260
        }
      },
      "source": [
        "model1 = lgb.train(params, \n",
        "            m1_train_data,\n",
        "            feval=mse1,\n",
        "            valid_sets=m1_validation_data,\n",
        "            verbose_eval=50,\n",
        "            num_boost_round = 5000, \n",
        "            early_stopping_rounds=30,\n",
        "            keep_training_booster=True) "
      ],
      "execution_count": 0,
      "outputs": [
        {
          "output_type": "stream",
          "text": [
            "Training until validation scores don't improve for 30 rounds.\n",
            "[50]\tvalid_0's l2: 23.6134\tvalid_0's score: 23.5687\n",
            "[100]\tvalid_0's l2: 14.9521\tvalid_0's score: 14.9032\n",
            "[150]\tvalid_0's l2: 9.69666\tvalid_0's score: 9.63253\n",
            "[200]\tvalid_0's l2: 6.35474\tvalid_0's score: 6.28138\n",
            "[250]\tvalid_0's l2: 2.51421\tvalid_0's score: 2.34909\n",
            "[300]\tvalid_0's l2: 1.79569\tvalid_0's score: 1.6187\n",
            "[350]\tvalid_0's l2: 1.56637\tvalid_0's score: 1.38484\n",
            "[400]\tvalid_0's l2: 1.47389\tvalid_0's score: 1.28815\n",
            "[450]\tvalid_0's l2: 1.42382\tvalid_0's score: 1.24602\n",
            "[500]\tvalid_0's l2: 1.39097\tvalid_0's score: 1.21737\n",
            "[550]\tvalid_0's l2: 1.40468\tvalid_0's score: 1.22529\n",
            "Early stopping, best iteration is:\n",
            "[553]\tvalid_0's l2: 1.27701\tvalid_0's score: 1.0829\n"
          ],
          "name": "stdout"
        }
      ]
    },
    {
      "cell_type": "code",
      "metadata": {
        "colab_type": "code",
        "outputId": "a2cdc18b-389c-46cb-ba56-284d1339d3b6",
        "id": "D7Z_rJpUAkxi",
        "colab": {
          "base_uri": "https://localhost:8080/",
          "height": 211
        }
      },
      "source": [
        "## model parameter\n",
        "model2 = lgb.train(params, \n",
        "            m2_train_data,\n",
        "            feval = mse1,\n",
        "            valid_sets = m2_validation_data,\n",
        "            verbose_eval = 20,\n",
        "            early_stopping_rounds = 20,\n",
        "            init_model = model1) ## model1을 finetuning \n",
        "\n",
        "test_predictions = model2.predict(df_test[x_col], num_iteration=model2.best_iteration)\n"
      ],
      "execution_count": 0,
      "outputs": [
        {
          "output_type": "stream",
          "text": [
            "/usr/local/lib/python3.6/dist-packages/lightgbm/basic.py:814: UserWarning: The prediction of init_model will be overridden by init_score.\n",
            "  warnings.warn(\"The prediction of init_model will be overridden by init_score.\")\n"
          ],
          "name": "stderr"
        },
        {
          "output_type": "stream",
          "text": [
            "Training until validation scores don't improve for 20 rounds.\n",
            "[600]\tvalid_0's l2: 2.82579\tvalid_0's score: 2.75336\n",
            "[620]\tvalid_0's l2: 2.69571\tvalid_0's score: 2.62233\n",
            "[640]\tvalid_0's l2: 2.58148\tvalid_0's score: 2.46921\n",
            "[660]\tvalid_0's l2: 2.46662\tvalid_0's score: 2.34215\n",
            "[680]\tvalid_0's l2: 2.39343\tvalid_0's score: 2.2566\n",
            "Did not meet early stopping. Best iteration is:\n",
            "[683]\tvalid_0's l2: 2.37456\tvalid_0's score: 2.23866\n"
          ],
          "name": "stdout"
        }
      ]
    },
    {
      "cell_type": "code",
      "metadata": {
        "colab_type": "code",
        "id": "Bi1iSQXvAkxp",
        "colab": {}
      },
      "source": [
        "now = datetime.now()\n",
        "now =now.strftime('%m%d_%H%M')"
      ],
      "execution_count": 0,
      "outputs": []
    },
    {
      "cell_type": "code",
      "metadata": {
        "colab_type": "code",
        "id": "M4fotQ7fAkxv",
        "colab": {}
      },
      "source": [
        "# 제출 파일 만들기\n",
        "submit = pd.DataFrame({'id':range(144*33, 144*113),\n",
        "              'Y18':test_predictions.reshape(1,-1)[0]})\n",
        "submit.to_csv('./results/baseline_result_2_'+now+'.csv', index = False)"
      ],
      "execution_count": 0,
      "outputs": []
    },
    {
      "cell_type": "code",
      "metadata": {
        "colab_type": "code",
        "id": "947N4J-LAkx0",
        "colab": {}
      },
      "source": [
        ""
      ],
      "execution_count": 0,
      "outputs": []
    },
    {
      "cell_type": "markdown",
      "metadata": {
        "colab_type": "text",
        "id": "9N-MPoM9hKRw"
      },
      "source": [
        "## model - lgbm goss - 2 성능 5.89\n",
        "하이퍼파라메터 조정  \n",
        "boosting_type: goss  \n",
        "'num_leaves': 100  "
      ]
    },
    {
      "cell_type": "code",
      "metadata": {
        "colab_type": "code",
        "id": "ScEXNXMihKSB",
        "colab": {}
      },
      "source": [
        "## model parameter\n",
        "params ={'boosting_type': 'goss',\n",
        " 'learning_rate': 0.0005,\n",
        " 'num_leaves': 100,\n",
        " 'random_state': 7,\n",
        " 'objective': 'regression'}"
      ],
      "execution_count": 0,
      "outputs": []
    },
    {
      "cell_type": "code",
      "metadata": {
        "colab_type": "code",
        "outputId": "2842873b-3db8-4260-a9fc-069cd6c3e2ee",
        "id": "2oSGYcvRhKSW",
        "colab": {
          "base_uri": "https://localhost:8080/",
          "height": 868
        }
      },
      "source": [
        "model1 = lgb.train(params, \n",
        "            m1_train_data,\n",
        "            feval=mse1,\n",
        "            valid_sets=m1_validation_data,\n",
        "            verbose_eval=100,\n",
        "            num_boost_round = 5000, \n",
        "            early_stopping_rounds=30,\n",
        "            keep_training_booster=True) "
      ],
      "execution_count": 0,
      "outputs": [
        {
          "output_type": "stream",
          "text": [
            "Training until validation scores don't improve for 30 rounds.\n",
            "[100]\tvalid_0's l2: 34.5363\tvalid_0's score: 34.4997\n",
            "[200]\tvalid_0's l2: 31.4328\tvalid_0's score: 31.3968\n",
            "[300]\tvalid_0's l2: 28.6231\tvalid_0's score: 28.585\n",
            "[400]\tvalid_0's l2: 26.0767\tvalid_0's score: 26.0382\n",
            "[500]\tvalid_0's l2: 23.737\tvalid_0's score: 23.698\n",
            "[600]\tvalid_0's l2: 21.594\tvalid_0's score: 21.5529\n",
            "[700]\tvalid_0's l2: 19.664\tvalid_0's score: 19.6162\n",
            "[800]\tvalid_0's l2: 17.9271\tvalid_0's score: 17.8815\n",
            "[900]\tvalid_0's l2: 16.3751\tvalid_0's score: 16.3297\n",
            "[1000]\tvalid_0's l2: 14.9883\tvalid_0's score: 14.9313\n",
            "[1100]\tvalid_0's l2: 13.7286\tvalid_0's score: 13.6747\n",
            "[1200]\tvalid_0's l2: 12.5806\tvalid_0's score: 12.5319\n",
            "[1300]\tvalid_0's l2: 11.5445\tvalid_0's score: 11.4957\n",
            "[1400]\tvalid_0's l2: 10.6019\tvalid_0's score: 10.5508\n",
            "[1500]\tvalid_0's l2: 9.72987\tvalid_0's score: 9.68106\n",
            "[1600]\tvalid_0's l2: 8.94257\tvalid_0's score: 8.8913\n",
            "[1700]\tvalid_0's l2: 8.23099\tvalid_0's score: 8.17841\n",
            "[1800]\tvalid_0's l2: 7.59486\tvalid_0's score: 7.53707\n",
            "[1900]\tvalid_0's l2: 7.01422\tvalid_0's score: 6.95392\n",
            "[2000]\tvalid_0's l2: 6.50023\tvalid_0's score: 6.42657\n",
            "[2100]\tvalid_0's l2: 4.9885\tvalid_0's score: 4.87192\n",
            "[2200]\tvalid_0's l2: 4.06249\tvalid_0's score: 3.91516\n",
            "[2300]\tvalid_0's l2: 3.45814\tvalid_0's score: 3.30716\n",
            "[2400]\tvalid_0's l2: 3.04254\tvalid_0's score: 2.89495\n",
            "[2500]\tvalid_0's l2: 2.74099\tvalid_0's score: 2.59164\n",
            "[2600]\tvalid_0's l2: 2.52273\tvalid_0's score: 2.36714\n",
            "[2700]\tvalid_0's l2: 2.34556\tvalid_0's score: 2.19047\n",
            "[2800]\tvalid_0's l2: 2.20107\tvalid_0's score: 2.03727\n",
            "[2900]\tvalid_0's l2: 2.08871\tvalid_0's score: 1.91608\n",
            "[3000]\tvalid_0's l2: 1.98411\tvalid_0's score: 1.81496\n",
            "[3100]\tvalid_0's l2: 1.90127\tvalid_0's score: 1.73353\n",
            "[3200]\tvalid_0's l2: 1.82554\tvalid_0's score: 1.64256\n",
            "[3300]\tvalid_0's l2: 1.76011\tvalid_0's score: 1.56746\n",
            "[3400]\tvalid_0's l2: 1.69783\tvalid_0's score: 1.50932\n",
            "[3500]\tvalid_0's l2: 1.64801\tvalid_0's score: 1.46053\n",
            "[3600]\tvalid_0's l2: 1.60236\tvalid_0's score: 1.41141\n",
            "[3700]\tvalid_0's l2: 1.57201\tvalid_0's score: 1.38306\n",
            "[3800]\tvalid_0's l2: 1.53883\tvalid_0's score: 1.34212\n",
            "[3900]\tvalid_0's l2: 1.51675\tvalid_0's score: 1.31849\n",
            "[4000]\tvalid_0's l2: 1.49561\tvalid_0's score: 1.29534\n",
            "[4100]\tvalid_0's l2: 1.48301\tvalid_0's score: 1.28456\n",
            "[4200]\tvalid_0's l2: 1.46784\tvalid_0's score: 1.27579\n",
            "[4300]\tvalid_0's l2: 1.45628\tvalid_0's score: 1.26361\n",
            "[4400]\tvalid_0's l2: 1.44704\tvalid_0's score: 1.25305\n",
            "[4500]\tvalid_0's l2: 1.43809\tvalid_0's score: 1.23984\n",
            "[4600]\tvalid_0's l2: 1.42915\tvalid_0's score: 1.23405\n",
            "Early stopping, best iteration is:\n",
            "[4668]\tvalid_0's l2: 1.42353\tvalid_0's score: 1.22706\n"
          ],
          "name": "stdout"
        }
      ]
    },
    {
      "cell_type": "code",
      "metadata": {
        "id": "SohGgVn_iORO",
        "colab_type": "code",
        "colab": {}
      },
      "source": [
        "## model parameter\n",
        "params ={'boosting_type': 'goss',\n",
        " 'learning_rate': 0.0001,\n",
        " 'num_leaves': 100,\n",
        " 'random_state': 7,\n",
        " 'objective': 'regression'}"
      ],
      "execution_count": 0,
      "outputs": []
    },
    {
      "cell_type": "code",
      "metadata": {
        "colab_type": "code",
        "outputId": "d684148f-193e-4eb2-c0df-be8f101f8417",
        "id": "FsNvOFdrhKSh",
        "colab": {
          "base_uri": "https://localhost:8080/",
          "height": 176
        }
      },
      "source": [
        "## model parameter\n",
        "model2 = lgb.train(params, \n",
        "            m2_train_data,\n",
        "            feval = mse1,\n",
        "            valid_sets = m2_validation_data,\n",
        "            verbose_eval = 20,\n",
        "            early_stopping_rounds = 50,\n",
        "            num_boost_round = 10000, \n",
        "            init_model = model1) ## model1을 finetuning \n",
        "\n",
        "test_predictions = model2.predict(df_test[x_col], num_iteration=model2.best_iteration)\n"
      ],
      "execution_count": 0,
      "outputs": [
        {
          "output_type": "stream",
          "text": [
            "/usr/local/lib/python3.6/dist-packages/lightgbm/basic.py:814: UserWarning: The prediction of init_model will be overridden by init_score.\n",
            "  warnings.warn(\"The prediction of init_model will be overridden by init_score.\")\n"
          ],
          "name": "stderr"
        },
        {
          "output_type": "stream",
          "text": [
            "Training until validation scores don't improve for 50 rounds.\n",
            "[4700]\tvalid_0's l2: 4.10741\tvalid_0's score: 4.06754\n",
            "[4720]\tvalid_0's l2: 25.7795\tvalid_0's score: 25.7795\n",
            "[4740]\tvalid_0's l2: 67.2597\tvalid_0's score: 67.2597\n",
            "Early stopping, best iteration is:\n",
            "[4699]\tvalid_0's l2: 3.54301\tvalid_0's score: 3.46206\n"
          ],
          "name": "stdout"
        }
      ]
    },
    {
      "cell_type": "code",
      "metadata": {
        "colab_type": "code",
        "id": "SerM2NjuhKSo",
        "colab": {}
      },
      "source": [
        "now = datetime.now()\n",
        "now =now.strftime('%m%d_%H%M')"
      ],
      "execution_count": 0,
      "outputs": []
    },
    {
      "cell_type": "code",
      "metadata": {
        "colab_type": "code",
        "id": "55vYuxMhhKSu",
        "colab": {}
      },
      "source": [
        "# 제출 파일 만들기\n",
        "submit = pd.DataFrame({'id':range(144*33, 144*113),\n",
        "              'Y18':test_predictions.reshape(1,-1)[0]})\n",
        "submit.to_csv('./results/baseline_result_2_'+now+'.csv', index = False)"
      ],
      "execution_count": 0,
      "outputs": []
    },
    {
      "cell_type": "code",
      "metadata": {
        "colab_type": "code",
        "id": "ibQkdec-hKSz",
        "outputId": "8fdf10cf-15f9-4e49-a1ba-cd167c2f3d72",
        "colab": {
          "base_uri": "https://localhost:8080/",
          "height": 34
        }
      },
      "source": [
        "model2.num_feature()"
      ],
      "execution_count": 0,
      "outputs": [
        {
          "output_type": "execute_result",
          "data": {
            "text/plain": [
              "26"
            ]
          },
          "metadata": {
            "tags": []
          },
          "execution_count": 59
        }
      ]
    },
    {
      "cell_type": "code",
      "metadata": {
        "id": "S9jrSLATjLEB",
        "colab_type": "code",
        "colab": {}
      },
      "source": [
        ""
      ],
      "execution_count": 0,
      "outputs": []
    },
    {
      "cell_type": "markdown",
      "metadata": {
        "colab_type": "text",
        "id": "x3jKw0Edk_AJ"
      },
      "source": [
        "## model - lgbm goss - 3 (0315_1013) 성능 \n",
        "하이퍼파라메터 조정  \n",
        "metric: l2 (rmse랑 같음) \n",
        "boosting_type: goss  \n",
        "'num_leaves': 100\n"
      ]
    },
    {
      "cell_type": "code",
      "metadata": {
        "colab_type": "code",
        "id": "A2n2-aBGk_Al",
        "colab": {}
      },
      "source": [
        "## model parameter\n",
        "params ={'metric': 'l2',\n",
        " 'boosting_type': 'goss',\n",
        " 'learning_rate': 0.0005,\n",
        " 'num_leaves': 100,\n",
        " 'random_state': 7,\n",
        " 'objective': 'regression'}"
      ],
      "execution_count": 0,
      "outputs": []
    },
    {
      "cell_type": "code",
      "metadata": {
        "colab_type": "code",
        "outputId": "481a1543-fd2d-4748-8b12-39090682e164",
        "id": "2DhALvRTk_A9",
        "colab": {
          "base_uri": "https://localhost:8080/",
          "height": 1000
        }
      },
      "source": [
        "model1 = lgb.train(params, \n",
        "            m1_train_data,\n",
        "           # feval=mse1,\n",
        "            valid_sets=m1_validation_data,\n",
        "            verbose_eval=100,\n",
        "            num_boost_round = 10000, \n",
        "            early_stopping_rounds=30,\n",
        "            keep_training_booster=True) "
      ],
      "execution_count": 0,
      "outputs": [
        {
          "output_type": "stream",
          "text": [
            "Training until validation scores don't improve for 30 rounds.\n",
            "[100]\tvalid_0's l2: 34.5363\n",
            "[200]\tvalid_0's l2: 31.4328\n",
            "[300]\tvalid_0's l2: 28.6231\n",
            "[400]\tvalid_0's l2: 26.0767\n",
            "[500]\tvalid_0's l2: 23.737\n",
            "[600]\tvalid_0's l2: 21.594\n",
            "[700]\tvalid_0's l2: 19.664\n",
            "[800]\tvalid_0's l2: 17.9271\n",
            "[900]\tvalid_0's l2: 16.3751\n",
            "[1000]\tvalid_0's l2: 14.9883\n",
            "[1100]\tvalid_0's l2: 13.7286\n",
            "[1200]\tvalid_0's l2: 12.5806\n",
            "[1300]\tvalid_0's l2: 11.5445\n",
            "[1400]\tvalid_0's l2: 10.6019\n",
            "[1500]\tvalid_0's l2: 9.72987\n",
            "[1600]\tvalid_0's l2: 8.94257\n",
            "[1700]\tvalid_0's l2: 8.23099\n",
            "[1800]\tvalid_0's l2: 7.59486\n",
            "[1900]\tvalid_0's l2: 7.01422\n",
            "[2000]\tvalid_0's l2: 6.50023\n",
            "[2100]\tvalid_0's l2: 4.9885\n",
            "[2200]\tvalid_0's l2: 4.06249\n",
            "[2300]\tvalid_0's l2: 3.45814\n",
            "[2400]\tvalid_0's l2: 3.04254\n",
            "[2500]\tvalid_0's l2: 2.74099\n",
            "[2600]\tvalid_0's l2: 2.52273\n",
            "[2700]\tvalid_0's l2: 2.34556\n",
            "[2800]\tvalid_0's l2: 2.20107\n",
            "[2900]\tvalid_0's l2: 2.08871\n",
            "[3000]\tvalid_0's l2: 1.98411\n",
            "[3100]\tvalid_0's l2: 1.90127\n",
            "[3200]\tvalid_0's l2: 1.82554\n",
            "[3300]\tvalid_0's l2: 1.76011\n",
            "[3400]\tvalid_0's l2: 1.69783\n",
            "[3500]\tvalid_0's l2: 1.64801\n",
            "[3600]\tvalid_0's l2: 1.60236\n",
            "[3700]\tvalid_0's l2: 1.57201\n",
            "[3800]\tvalid_0's l2: 1.53883\n",
            "[3900]\tvalid_0's l2: 1.51675\n",
            "[4000]\tvalid_0's l2: 1.49561\n",
            "[4100]\tvalid_0's l2: 1.48301\n",
            "[4200]\tvalid_0's l2: 1.46784\n",
            "[4300]\tvalid_0's l2: 1.45628\n",
            "[4400]\tvalid_0's l2: 1.44704\n",
            "[4500]\tvalid_0's l2: 1.43809\n",
            "[4600]\tvalid_0's l2: 1.42915\n",
            "[4700]\tvalid_0's l2: 1.42134\n",
            "[4800]\tvalid_0's l2: 1.41519\n",
            "[4900]\tvalid_0's l2: 1.40901\n",
            "[5000]\tvalid_0's l2: 1.40332\n",
            "[5100]\tvalid_0's l2: 1.39915\n",
            "[5200]\tvalid_0's l2: 1.39453\n",
            "[5300]\tvalid_0's l2: 1.39245\n",
            "[5400]\tvalid_0's l2: 1.38765\n",
            "Early stopping, best iteration is:\n",
            "[5439]\tvalid_0's l2: 1.38703\n"
          ],
          "name": "stdout"
        }
      ]
    },
    {
      "cell_type": "code",
      "metadata": {
        "colab_type": "code",
        "id": "wg6l9o9mk_BI",
        "colab": {}
      },
      "source": [
        "## model parameter\n",
        "params ={'boosting_type': 'goss',\n",
        " 'learning_rate': 0.0001,\n",
        " 'num_leaves': 100,\n",
        " 'random_state': 7,\n",
        " 'objective': 'regression'}"
      ],
      "execution_count": 0,
      "outputs": []
    },
    {
      "cell_type": "code",
      "metadata": {
        "colab_type": "code",
        "outputId": "cc1b607f-2ffe-4721-be1d-1858f79d9a7c",
        "id": "rjJNcGhGk_BP",
        "colab": {
          "base_uri": "https://localhost:8080/",
          "height": 176
        }
      },
      "source": [
        "## model parameter\n",
        "model2 = lgb.train(params, \n",
        "            m2_train_data,\n",
        "            feval = mse1,\n",
        "            valid_sets = m2_validation_data,\n",
        "            verbose_eval = 20,\n",
        "            early_stopping_rounds = 50,\n",
        "            num_boost_round = 20000, \n",
        "            init_model = model1) ## model1을 finetuning \n",
        "\n",
        "test_predictions = model2.predict(df_test[x_col], num_iteration=model2.best_iteration)\n"
      ],
      "execution_count": 0,
      "outputs": [
        {
          "output_type": "stream",
          "text": [
            "/usr/local/lib/python3.6/dist-packages/lightgbm/basic.py:814: UserWarning: The prediction of init_model will be overridden by init_score.\n",
            "  warnings.warn(\"The prediction of init_model will be overridden by init_score.\")\n"
          ],
          "name": "stderr"
        },
        {
          "output_type": "stream",
          "text": [
            "Training until validation scores don't improve for 50 rounds.\n",
            "[5480]\tvalid_0's l2: 11.4109\tvalid_0's score: 11.4109\n",
            "[5500]\tvalid_0's l2: 42.006\tvalid_0's score: 42.006\n",
            "[5520]\tvalid_0's l2: 92.3407\tvalid_0's score: 92.3407\n",
            "Early stopping, best iteration is:\n",
            "[5470]\tvalid_0's l2: 3.54301\tvalid_0's score: 3.46206\n"
          ],
          "name": "stdout"
        }
      ]
    },
    {
      "cell_type": "code",
      "metadata": {
        "colab_type": "code",
        "id": "IV5xVGmok_BV",
        "colab": {}
      },
      "source": [
        "now = datetime.now()\n",
        "now =now.strftime('%m%d_%H%M')"
      ],
      "execution_count": 0,
      "outputs": []
    },
    {
      "cell_type": "code",
      "metadata": {
        "colab_type": "code",
        "id": "5J3zt_cKk_Bb",
        "colab": {}
      },
      "source": [
        "# 제출 파일 만들기\n",
        "submit = pd.DataFrame({'id':range(144*33, 144*113),\n",
        "              'Y18':test_predictions.reshape(1,-1)[0]})\n",
        "submit.to_csv('./results/baseline_result_2_'+now+'.csv', index = False)"
      ],
      "execution_count": 0,
      "outputs": []
    },
    {
      "cell_type": "markdown",
      "metadata": {
        "colab_type": "text",
        "id": "_bNdZMPasgdc"
      },
      "source": [
        "## model - lgbm goss - 4 (0315-1029) 성능\n",
        "(3과 거의 비슷해서 안해봐도 될듯) \n",
        "하이퍼파라메터 조정  \n",
        "\n",
        "metric: mape\n",
        "boosting_type: goss  \n",
        "'num_leaves': 100\n"
      ]
    },
    {
      "cell_type": "code",
      "metadata": {
        "colab_type": "code",
        "id": "xC9A36Rdsgdt",
        "colab": {}
      },
      "source": [
        "## model parameter\n",
        "params ={'metric': 'mape',\n",
        " 'boosting_type': 'goss',\n",
        " 'learning_rate': 0.0005,\n",
        " 'num_leaves': 100,\n",
        " 'random_state': 7,\n",
        " 'objective': 'regression'}"
      ],
      "execution_count": 0,
      "outputs": []
    },
    {
      "cell_type": "code",
      "metadata": {
        "colab_type": "code",
        "outputId": "317bae10-98b3-4b01-cc06-11281cef119e",
        "id": "Ll1DMTatsgeA",
        "colab": {
          "base_uri": "https://localhost:8080/",
          "height": 903
        }
      },
      "source": [
        "model1 = lgb.train(params, \n",
        "            m1_train_data,\n",
        "           # feval=mse1,\n",
        "            valid_sets=m1_validation_data,\n",
        "            verbose_eval=100,\n",
        "            num_boost_round = 10000, \n",
        "            early_stopping_rounds=30,\n",
        "            keep_training_booster=True) "
      ],
      "execution_count": 0,
      "outputs": [
        {
          "output_type": "stream",
          "text": [
            "Training until validation scores don't improve for 30 rounds.\n",
            "[100]\tvalid_0's mape: 0.213002\n",
            "[200]\tvalid_0's mape: 0.203031\n",
            "[300]\tvalid_0's mape: 0.193598\n",
            "[400]\tvalid_0's mape: 0.184761\n",
            "[500]\tvalid_0's mape: 0.17636\n",
            "[600]\tvalid_0's mape: 0.168361\n",
            "[700]\tvalid_0's mape: 0.160769\n",
            "[800]\tvalid_0's mape: 0.153621\n",
            "[900]\tvalid_0's mape: 0.146946\n",
            "[1000]\tvalid_0's mape: 0.140613\n",
            "[1100]\tvalid_0's mape: 0.134582\n",
            "[1200]\tvalid_0's mape: 0.128849\n",
            "[1300]\tvalid_0's mape: 0.123463\n",
            "[1400]\tvalid_0's mape: 0.118364\n",
            "[1500]\tvalid_0's mape: 0.1135\n",
            "[1600]\tvalid_0's mape: 0.10891\n",
            "[1700]\tvalid_0's mape: 0.104593\n",
            "[1800]\tvalid_0's mape: 0.100589\n",
            "[1900]\tvalid_0's mape: 0.0967461\n",
            "[2000]\tvalid_0's mape: 0.0931253\n",
            "[2100]\tvalid_0's mape: 0.0774126\n",
            "[2200]\tvalid_0's mape: 0.0664663\n",
            "[2300]\tvalid_0's mape: 0.0588271\n",
            "[2400]\tvalid_0's mape: 0.0532439\n",
            "[2500]\tvalid_0's mape: 0.0494256\n",
            "[2600]\tvalid_0's mape: 0.0468737\n",
            "[2700]\tvalid_0's mape: 0.0447725\n",
            "[2800]\tvalid_0's mape: 0.0432375\n",
            "[2900]\tvalid_0's mape: 0.0420566\n",
            "[3000]\tvalid_0's mape: 0.0409844\n",
            "[3100]\tvalid_0's mape: 0.0401428\n",
            "[3200]\tvalid_0's mape: 0.0394026\n",
            "[3300]\tvalid_0's mape: 0.0388067\n",
            "[3400]\tvalid_0's mape: 0.0382267\n",
            "[3500]\tvalid_0's mape: 0.0377397\n",
            "[3600]\tvalid_0's mape: 0.0372529\n",
            "[3700]\tvalid_0's mape: 0.0369417\n",
            "[3800]\tvalid_0's mape: 0.0366042\n",
            "[3900]\tvalid_0's mape: 0.0363762\n",
            "[4000]\tvalid_0's mape: 0.0361817\n",
            "[4100]\tvalid_0's mape: 0.036049\n",
            "[4200]\tvalid_0's mape: 0.0358956\n",
            "[4300]\tvalid_0's mape: 0.0357528\n",
            "[4400]\tvalid_0's mape: 0.0356605\n",
            "[4500]\tvalid_0's mape: 0.0355744\n",
            "[4600]\tvalid_0's mape: 0.0354854\n",
            "[4700]\tvalid_0's mape: 0.0353797\n",
            "[4800]\tvalid_0's mape: 0.0353323\n",
            "Early stopping, best iteration is:\n",
            "[4775]\tvalid_0's mape: 0.0353209\n"
          ],
          "name": "stdout"
        }
      ]
    },
    {
      "cell_type": "code",
      "metadata": {
        "colab_type": "code",
        "id": "FEkACbxpsgeL",
        "colab": {}
      },
      "source": [
        "## model parameter\n",
        "params['learning_rate'] =  params['learning_rate']/5"
      ],
      "execution_count": 0,
      "outputs": []
    },
    {
      "cell_type": "code",
      "metadata": {
        "colab_type": "code",
        "outputId": "b022a70f-e922-4380-a897-f2f1bad44f50",
        "id": "jSWgHKUKsgeR",
        "colab": {
          "base_uri": "https://localhost:8080/",
          "height": 159
        }
      },
      "source": [
        "## model parameter\n",
        "model2 = lgb.train(params, \n",
        "            m2_train_data,\n",
        "            feval = mse1,\n",
        "            valid_sets = m2_validation_data,\n",
        "            verbose_eval = 10,\n",
        "            early_stopping_rounds = 50,\n",
        "            num_boost_round = 20000, \n",
        "            init_model = model1) ## model1을 finetuning \n",
        "\n",
        "test_predictions = model2.predict(df_test[x_col], num_iteration=model2.best_iteration)\n"
      ],
      "execution_count": 0,
      "outputs": [
        {
          "output_type": "stream",
          "text": [
            "/usr/local/lib/python3.6/dist-packages/lightgbm/basic.py:814: UserWarning: The prediction of init_model will be overridden by init_score.\n",
            "  warnings.warn(\"The prediction of init_model will be overridden by init_score.\")\n"
          ],
          "name": "stderr"
        },
        {
          "output_type": "stream",
          "text": [
            "Training until validation scores don't improve for 50 rounds.\n",
            "[4820]\tvalid_0's mape: 0.160725\tvalid_0's score: 15.9399\n",
            "[4840]\tvalid_0's mape: 0.286306\tvalid_0's score: 50.5004\n",
            "Early stopping, best iteration is:\n",
            "[4806]\tvalid_0's mape: 0.0729171\tvalid_0's score: 3.46206\n"
          ],
          "name": "stdout"
        }
      ]
    },
    {
      "cell_type": "code",
      "metadata": {
        "colab_type": "code",
        "id": "efMHi1oCsgeY",
        "colab": {}
      },
      "source": [
        "now = datetime.now()\n",
        "now =now.strftime('%m%d_%H%M')"
      ],
      "execution_count": 0,
      "outputs": []
    },
    {
      "cell_type": "code",
      "metadata": {
        "colab_type": "code",
        "id": "T8tN3pVLsged",
        "colab": {}
      },
      "source": [
        "# 제출 파일 만들기\n",
        "submit = pd.DataFrame({'id':range(144*33, 144*113),\n",
        "              'Y18':test_predictions.reshape(1,-1)[0]})\n",
        "submit.to_csv('./results/baseline_result_2_'+now+'.csv', index = False)"
      ],
      "execution_count": 0,
      "outputs": []
    },
    {
      "cell_type": "code",
      "metadata": {
        "colab_type": "code",
        "id": "qZGQ6L3Esgek",
        "colab": {}
      },
      "source": [
        ""
      ],
      "execution_count": 0,
      "outputs": []
    },
    {
      "cell_type": "code",
      "metadata": {
        "colab_type": "code",
        "id": "0EnzZmgkk_Bm",
        "colab": {}
      },
      "source": [
        ""
      ],
      "execution_count": 0,
      "outputs": []
    },
    {
      "cell_type": "markdown",
      "metadata": {
        "id": "MoHsobZRuOSh",
        "colab_type": "text"
      },
      "source": [
        "# tmp\n"
      ]
    },
    {
      "cell_type": "code",
      "metadata": {
        "id": "iJ-hpjKSukZD",
        "colab_type": "code",
        "colab": {}
      },
      "source": [
        ""
      ],
      "execution_count": 0,
      "outputs": []
    }
  ]
}