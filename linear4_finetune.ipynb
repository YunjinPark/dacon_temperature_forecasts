{
  "nbformat": 4,
  "nbformat_minor": 0,
  "metadata": {
    "colab": {
      "name": "eda.ipynb",
      "provenance": [],
      "collapsed_sections": [],
      "toc_visible": true
    },
    "kernelspec": {
      "name": "python3",
      "display_name": "Python 3"
    },
    "accelerator": "GPU"
  },
  "cells": [
    {
      "cell_type": "code",
      "metadata": {
        "id": "GyZEIHm2bJZT",
        "colab_type": "code",
        "outputId": "03e1690f-673e-46a0-f027-1557480ad43e",
        "colab": {
          "base_uri": "https://localhost:8080/",
          "height": 940
        }
      },
      "source": [
        "#!pip install tensorflow==2.0.0\n",
        "!pip install tensorflow-gpu==2.0.0"
      ],
      "execution_count": 1,
      "outputs": [
        {
          "output_type": "stream",
          "text": [
            "Collecting tensorflow-gpu==2.0.0\n",
            "\u001b[?25l  Downloading https://files.pythonhosted.org/packages/25/44/47f0722aea081697143fbcf5d2aa60d1aee4aaacb5869aee2b568974777b/tensorflow_gpu-2.0.0-cp36-cp36m-manylinux2010_x86_64.whl (380.8MB)\n",
            "\u001b[K     |████████████████████████████████| 380.8MB 48kB/s \n",
            "\u001b[?25hCollecting tensorboard<2.1.0,>=2.0.0\n",
            "\u001b[?25l  Downloading https://files.pythonhosted.org/packages/76/54/99b9d5d52d5cb732f099baaaf7740403e83fe6b0cedde940fabd2b13d75a/tensorboard-2.0.2-py3-none-any.whl (3.8MB)\n",
            "\u001b[K     |████████████████████████████████| 3.8MB 58.7MB/s \n",
            "\u001b[?25hRequirement already satisfied: wheel>=0.26 in /usr/local/lib/python3.6/dist-packages (from tensorflow-gpu==2.0.0) (0.34.2)\n",
            "Requirement already satisfied: numpy<2.0,>=1.16.0 in /usr/local/lib/python3.6/dist-packages (from tensorflow-gpu==2.0.0) (1.18.1)\n",
            "Requirement already satisfied: opt-einsum>=2.3.2 in /usr/local/lib/python3.6/dist-packages (from tensorflow-gpu==2.0.0) (3.2.0)\n",
            "Requirement already satisfied: keras-preprocessing>=1.0.5 in /usr/local/lib/python3.6/dist-packages (from tensorflow-gpu==2.0.0) (1.1.0)\n",
            "Requirement already satisfied: astor>=0.6.0 in /usr/local/lib/python3.6/dist-packages (from tensorflow-gpu==2.0.0) (0.8.1)\n",
            "Collecting tensorflow-estimator<2.1.0,>=2.0.0\n",
            "\u001b[?25l  Downloading https://files.pythonhosted.org/packages/fc/08/8b927337b7019c374719145d1dceba21a8bb909b93b1ad6f8fb7d22c1ca1/tensorflow_estimator-2.0.1-py2.py3-none-any.whl (449kB)\n",
            "\u001b[K     |████████████████████████████████| 450kB 58.6MB/s \n",
            "\u001b[?25hRequirement already satisfied: absl-py>=0.7.0 in /usr/local/lib/python3.6/dist-packages (from tensorflow-gpu==2.0.0) (0.9.0)\n",
            "Requirement already satisfied: gast==0.2.2 in /usr/local/lib/python3.6/dist-packages (from tensorflow-gpu==2.0.0) (0.2.2)\n",
            "Requirement already satisfied: six>=1.10.0 in /usr/local/lib/python3.6/dist-packages (from tensorflow-gpu==2.0.0) (1.12.0)\n",
            "Requirement already satisfied: wrapt>=1.11.1 in /usr/local/lib/python3.6/dist-packages (from tensorflow-gpu==2.0.0) (1.12.1)\n",
            "Requirement already satisfied: keras-applications>=1.0.8 in /usr/local/lib/python3.6/dist-packages (from tensorflow-gpu==2.0.0) (1.0.8)\n",
            "Requirement already satisfied: grpcio>=1.8.6 in /usr/local/lib/python3.6/dist-packages (from tensorflow-gpu==2.0.0) (1.24.3)\n",
            "Requirement already satisfied: google-pasta>=0.1.6 in /usr/local/lib/python3.6/dist-packages (from tensorflow-gpu==2.0.0) (0.1.8)\n",
            "Requirement already satisfied: termcolor>=1.1.0 in /usr/local/lib/python3.6/dist-packages (from tensorflow-gpu==2.0.0) (1.1.0)\n",
            "Requirement already satisfied: protobuf>=3.6.1 in /usr/local/lib/python3.6/dist-packages (from tensorflow-gpu==2.0.0) (3.10.0)\n",
            "Requirement already satisfied: google-auth<2,>=1.6.3 in /usr/local/lib/python3.6/dist-packages (from tensorboard<2.1.0,>=2.0.0->tensorflow-gpu==2.0.0) (1.7.2)\n",
            "Requirement already satisfied: google-auth-oauthlib<0.5,>=0.4.1 in /usr/local/lib/python3.6/dist-packages (from tensorboard<2.1.0,>=2.0.0->tensorflow-gpu==2.0.0) (0.4.1)\n",
            "Requirement already satisfied: werkzeug>=0.11.15 in /usr/local/lib/python3.6/dist-packages (from tensorboard<2.1.0,>=2.0.0->tensorflow-gpu==2.0.0) (1.0.0)\n",
            "Requirement already satisfied: setuptools>=41.0.0 in /usr/local/lib/python3.6/dist-packages (from tensorboard<2.1.0,>=2.0.0->tensorflow-gpu==2.0.0) (45.2.0)\n",
            "Requirement already satisfied: requests<3,>=2.21.0 in /usr/local/lib/python3.6/dist-packages (from tensorboard<2.1.0,>=2.0.0->tensorflow-gpu==2.0.0) (2.21.0)\n",
            "Requirement already satisfied: markdown>=2.6.8 in /usr/local/lib/python3.6/dist-packages (from tensorboard<2.1.0,>=2.0.0->tensorflow-gpu==2.0.0) (3.2.1)\n",
            "Requirement already satisfied: h5py in /usr/local/lib/python3.6/dist-packages (from keras-applications>=1.0.8->tensorflow-gpu==2.0.0) (2.8.0)\n",
            "Requirement already satisfied: rsa<4.1,>=3.1.4 in /usr/local/lib/python3.6/dist-packages (from google-auth<2,>=1.6.3->tensorboard<2.1.0,>=2.0.0->tensorflow-gpu==2.0.0) (4.0)\n",
            "Requirement already satisfied: cachetools<3.2,>=2.0.0 in /usr/local/lib/python3.6/dist-packages (from google-auth<2,>=1.6.3->tensorboard<2.1.0,>=2.0.0->tensorflow-gpu==2.0.0) (3.1.1)\n",
            "Requirement already satisfied: pyasn1-modules>=0.2.1 in /usr/local/lib/python3.6/dist-packages (from google-auth<2,>=1.6.3->tensorboard<2.1.0,>=2.0.0->tensorflow-gpu==2.0.0) (0.2.8)\n",
            "Requirement already satisfied: requests-oauthlib>=0.7.0 in /usr/local/lib/python3.6/dist-packages (from google-auth-oauthlib<0.5,>=0.4.1->tensorboard<2.1.0,>=2.0.0->tensorflow-gpu==2.0.0) (1.3.0)\n",
            "Requirement already satisfied: urllib3<1.25,>=1.21.1 in /usr/local/lib/python3.6/dist-packages (from requests<3,>=2.21.0->tensorboard<2.1.0,>=2.0.0->tensorflow-gpu==2.0.0) (1.24.3)\n",
            "Requirement already satisfied: idna<2.9,>=2.5 in /usr/local/lib/python3.6/dist-packages (from requests<3,>=2.21.0->tensorboard<2.1.0,>=2.0.0->tensorflow-gpu==2.0.0) (2.8)\n",
            "Requirement already satisfied: certifi>=2017.4.17 in /usr/local/lib/python3.6/dist-packages (from requests<3,>=2.21.0->tensorboard<2.1.0,>=2.0.0->tensorflow-gpu==2.0.0) (2019.11.28)\n",
            "Requirement already satisfied: chardet<3.1.0,>=3.0.2 in /usr/local/lib/python3.6/dist-packages (from requests<3,>=2.21.0->tensorboard<2.1.0,>=2.0.0->tensorflow-gpu==2.0.0) (3.0.4)\n",
            "Requirement already satisfied: pyasn1>=0.1.3 in /usr/local/lib/python3.6/dist-packages (from rsa<4.1,>=3.1.4->google-auth<2,>=1.6.3->tensorboard<2.1.0,>=2.0.0->tensorflow-gpu==2.0.0) (0.4.8)\n",
            "Requirement already satisfied: oauthlib>=3.0.0 in /usr/local/lib/python3.6/dist-packages (from requests-oauthlib>=0.7.0->google-auth-oauthlib<0.5,>=0.4.1->tensorboard<2.1.0,>=2.0.0->tensorflow-gpu==2.0.0) (3.1.0)\n",
            "\u001b[31mERROR: tensorflow 1.15.0 has requirement tensorboard<1.16.0,>=1.15.0, but you'll have tensorboard 2.0.2 which is incompatible.\u001b[0m\n",
            "\u001b[31mERROR: tensorflow 1.15.0 has requirement tensorflow-estimator==1.15.1, but you'll have tensorflow-estimator 2.0.1 which is incompatible.\u001b[0m\n",
            "\u001b[31mERROR: tensorflow-federated 0.12.0 has requirement tensorflow~=2.1.0, but you'll have tensorflow 1.15.0 which is incompatible.\u001b[0m\n",
            "\u001b[31mERROR: tensorflow-federated 0.12.0 has requirement tensorflow-addons~=0.7.0, but you'll have tensorflow-addons 0.8.3 which is incompatible.\u001b[0m\n",
            "Installing collected packages: tensorboard, tensorflow-estimator, tensorflow-gpu\n",
            "  Found existing installation: tensorboard 1.15.0\n",
            "    Uninstalling tensorboard-1.15.0:\n",
            "      Successfully uninstalled tensorboard-1.15.0\n",
            "  Found existing installation: tensorflow-estimator 1.15.1\n",
            "    Uninstalling tensorflow-estimator-1.15.1:\n",
            "      Successfully uninstalled tensorflow-estimator-1.15.1\n",
            "Successfully installed tensorboard-2.1.1 tensorflow-estimator-2.1.0 tensorflow-gpu-2.0.0\n"
          ],
          "name": "stdout"
        }
      ]
    },
    {
      "cell_type": "code",
      "metadata": {
        "id": "WZgTzkACnHe6",
        "colab_type": "code",
        "colab": {}
      },
      "source": [
        "!pip install -q pyyaml h5py"
      ],
      "execution_count": 0,
      "outputs": []
    },
    {
      "cell_type": "code",
      "metadata": {
        "id": "ljQmMhBrcVSf",
        "colab_type": "code",
        "outputId": "beb95cfb-fcc6-473d-f417-d58dc7601211",
        "colab": {
          "base_uri": "https://localhost:8080/",
          "height": 52
        }
      },
      "source": [
        "from __future__ import absolute_import, division, print_function, unicode_literals, unicode_literals\n",
        "\n",
        "import pathlib\n",
        "\n",
        "import matplotlib.pyplot as plt\n",
        "import pandas as pd\n",
        "import numpy as np\n",
        "import seaborn as sns\n",
        "\n",
        "import tensorflow as tf\n",
        "from tensorflow import keras\n",
        "from tensorflow.keras import layers\n",
        "\n",
        "print(tf.__version__)\n",
        "print(tf.test.is_gpu_available())"
      ],
      "execution_count": 3,
      "outputs": [
        {
          "output_type": "stream",
          "text": [
            "2.0.0\n",
            "True\n"
          ],
          "name": "stdout"
        }
      ]
    },
    {
      "cell_type": "code",
      "metadata": {
        "id": "9PV6s58O9VAr",
        "colab_type": "code",
        "colab": {
          "base_uri": "https://localhost:8080/",
          "height": 34
        },
        "outputId": "c43bdbf1-2edd-4f7f-d38c-4d6e8f32f942"
      },
      "source": [
        "print(\"Num GPUs Available: \", len(tf.config.experimental.list_physical_devices('GPU')))"
      ],
      "execution_count": 104,
      "outputs": [
        {
          "output_type": "stream",
          "text": [
            "Num GPUs Available:  1\n"
          ],
          "name": "stdout"
        }
      ]
    },
    {
      "cell_type": "code",
      "metadata": {
        "id": "exAR2Zb7J1l-",
        "colab_type": "code",
        "colab": {}
      },
      "source": [
        "tf.debugging.set_log_device_placement(True)"
      ],
      "execution_count": 0,
      "outputs": []
    },
    {
      "cell_type": "markdown",
      "metadata": {
        "id": "GnzbKvgWkMry",
        "colab_type": "text"
      },
      "source": [
        "# 0 한글 폰트"
      ]
    },
    {
      "cell_type": "code",
      "metadata": {
        "id": "C6K3dLGCcJly",
        "colab_type": "code",
        "outputId": "3afdb90f-5485-41e5-fd46-5f380009dfd0",
        "colab": {
          "base_uri": "https://localhost:8080/",
          "height": 416
        }
      },
      "source": [
        "!wget \"https://noto-website-2.storage.googleapis.com/pkgs/NotoSansCJKkr-hinted.zip\"\n",
        "!unzip \"NotoSansCJKkr-hinted.zip\""
      ],
      "execution_count": 5,
      "outputs": [
        {
          "output_type": "stream",
          "text": [
            "--2020-03-17 00:24:35--  https://noto-website-2.storage.googleapis.com/pkgs/NotoSansCJKkr-hinted.zip\n",
            "Resolving noto-website-2.storage.googleapis.com (noto-website-2.storage.googleapis.com)... 173.194.79.128, 2a00:1450:4013:c05::80\n",
            "Connecting to noto-website-2.storage.googleapis.com (noto-website-2.storage.googleapis.com)|173.194.79.128|:443... connected.\n",
            "HTTP request sent, awaiting response... 200 OK\n",
            "Length: 121163981 (116M) [application/zip]\n",
            "Saving to: ‘NotoSansCJKkr-hinted.zip’\n",
            "\n",
            "NotoSansCJKkr-hinte 100%[===================>] 115.55M  43.6MB/s    in 2.6s    \n",
            "\n",
            "2020-03-17 00:24:38 (43.6 MB/s) - ‘NotoSansCJKkr-hinted.zip’ saved [121163981/121163981]\n",
            "\n",
            "Archive:  NotoSansCJKkr-hinted.zip\n",
            "  inflating: LICENSE_OFL.txt         \n",
            "  inflating: NotoSansCJKkr-Black.otf  \n",
            "  inflating: NotoSansCJKkr-Bold.otf  \n",
            "  inflating: NotoSansCJKkr-DemiLight.otf  \n",
            "  inflating: NotoSansCJKkr-Light.otf  \n",
            "  inflating: NotoSansCJKkr-Medium.otf  \n",
            "  inflating: NotoSansCJKkr-Regular.otf  \n",
            "  inflating: NotoSansCJKkr-Thin.otf  \n",
            "  inflating: NotoSansMonoCJKkr-Bold.otf  \n",
            "  inflating: NotoSansMonoCJKkr-Regular.otf  \n",
            "  inflating: README                  \n"
          ],
          "name": "stdout"
        }
      ]
    },
    {
      "cell_type": "code",
      "metadata": {
        "id": "fzQ6HS3Ne5dn",
        "colab_type": "code",
        "colab": {}
      },
      "source": [
        "!mv NotoSansCJKkr-Medium.otf /usr/share/fonts/truetype/"
      ],
      "execution_count": 0,
      "outputs": []
    },
    {
      "cell_type": "code",
      "metadata": {
        "id": "0YfjC4ZHe62p",
        "colab_type": "code",
        "colab": {
          "base_uri": "https://localhost:8080/",
          "height": 89
        },
        "outputId": "4a746dc5-9665-43c5-e2f3-27232b3df6bf"
      },
      "source": [
        "import matplotlib.pyplot as plt\n",
        "import matplotlib.font_manager as fm\n",
        "\n",
        "font_dirs = ['/usr/share/fonts/truetype']\n",
        "font_files = fm.findSystemFonts(fontpaths=font_dirs)\n",
        "font_list = fm.createFontList(font_files)\n",
        "fm.fontManager.ttflist.extend(font_list)\n",
        "plt.rcParams['font.family'] = \"Noto Sans CJK KR\""
      ],
      "execution_count": 7,
      "outputs": [
        {
          "output_type": "stream",
          "text": [
            "/usr/local/lib/python3.6/dist-packages/ipykernel_launcher.py:6: MatplotlibDeprecationWarning: \n",
            "The createFontList function was deprecated in Matplotlib 3.2 and will be removed two minor releases later. Use FontManager.addfont instead.\n",
            "  \n"
          ],
          "name": "stderr"
        }
      ]
    },
    {
      "cell_type": "markdown",
      "metadata": {
        "id": "wM7X5C35N-4n",
        "colab_type": "text"
      },
      "source": [
        "# 1. 데이터 읽기 "
      ]
    },
    {
      "cell_type": "markdown",
      "metadata": {
        "id": "1CatWTjLPg_Q",
        "colab_type": "text"
      },
      "source": [
        "Contents of the Notebook:\n",
        "Part1: Exploratory Data Analysis(EDA):\n",
        "\n",
        "1)Analysis of the features.\n",
        "\n",
        "2)Finding any relations or trends considering multiple features.\n",
        "Part2: Feature Engineering and Data Cleaning:\n",
        "\n",
        "1)Adding any few features.\n",
        "\n",
        "2)Removing redundant features.\n",
        "\n",
        "3)Converting features into suitable form for modeling.\n",
        "Part3: Predictive Modeling\n",
        "\n",
        "1)Running Basic Algorithms.\n",
        "\n",
        "2)Cross Validation.\n",
        "\n",
        "3)Ensembling.\n",
        "\n",
        "4)Important Features Extraction"
      ]
    },
    {
      "cell_type": "code",
      "metadata": {
        "id": "iW8iwdRXf8NF",
        "colab_type": "code",
        "colab": {}
      },
      "source": [
        "import numpy as np \n",
        "import pandas as pd\n",
        "from datetime import time, datetime\n",
        "\n",
        "import os\n",
        "from pathlib import Path\n",
        "# 재생산성을 위해 시드 고정\n",
        "\n",
        "np.random.seed(7)\n",
        "tf.random.set_seed(7)"
      ],
      "execution_count": 0,
      "outputs": []
    },
    {
      "cell_type": "markdown",
      "metadata": {
        "id": "PSHLZvJmcPRs",
        "colab_type": "text"
      },
      "source": [
        "# 1. 데이터 불러오기"
      ]
    },
    {
      "cell_type": "code",
      "metadata": {
        "id": "4UP_N36kWbEw",
        "colab_type": "code",
        "outputId": "9f65cca9-043c-4adc-e2af-b75a16239815",
        "colab": {
          "base_uri": "https://localhost:8080/",
          "height": 34
        }
      },
      "source": [
        "from google.colab import drive\n",
        "drive.mount('/content/drive')"
      ],
      "execution_count": 72,
      "outputs": [
        {
          "output_type": "stream",
          "text": [
            "Drive already mounted at /content/drive; to attempt to forcibly remount, call drive.mount(\"/content/drive\", force_remount=True).\n"
          ],
          "name": "stdout"
        }
      ]
    },
    {
      "cell_type": "code",
      "metadata": {
        "id": "y3u56aPzDA8f",
        "colab_type": "code",
        "outputId": "8ed85f2a-70b2-4d4f-fcc4-4dcefada5406",
        "colab": {
          "base_uri": "https://localhost:8080/",
          "height": 34
        }
      },
      "source": [
        "folder = \"Colab Notebooks/dacon\"\n",
        "project_dir = \"temperature_forecasting\"\n",
        "data_folder = \"_data/data_dacon\"\n",
        "\n",
        "base_path = Path(\"/content/drive/My Drive/\")\n",
        "project_path = base_path / folder / project_dir\n",
        "data_path = base_path / data_folder / project_dir\n",
        "os.chdir(project_path)\n",
        "\n",
        "print(f\"현재 디렉토리 위치: {os.getcwd()}\")"
      ],
      "execution_count": 73,
      "outputs": [
        {
          "output_type": "stream",
          "text": [
            "현재 디렉토리 위치: /content/drive/My Drive/Colab Notebooks/dacon/temperature_forecasting\n"
          ],
          "name": "stdout"
        }
      ]
    },
    {
      "cell_type": "code",
      "metadata": {
        "id": "0Q_lQowbbf9h",
        "colab_type": "code",
        "outputId": "95df1b83-ec1d-439a-afcd-8d77b5dcaff1",
        "colab": {
          "base_uri": "https://localhost:8080/",
          "height": 34
        }
      },
      "source": [
        "df = pd.read_csv(os.path.join(data_path,'train.csv'), index_col = 'id')\n",
        "df.shape"
      ],
      "execution_count": 74,
      "outputs": [
        {
          "output_type": "execute_result",
          "data": {
            "text/plain": [
              "(4752, 59)"
            ]
          },
          "metadata": {
            "tags": []
          },
          "execution_count": 74
        }
      ]
    },
    {
      "cell_type": "code",
      "metadata": {
        "id": "cQ2Dsfc7JLwh",
        "colab_type": "code",
        "outputId": "0d160bd2-c794-42d5-9f2b-75335d73273c",
        "colab": {
          "base_uri": "https://localhost:8080/",
          "height": 34
        }
      },
      "source": [
        "df_test = pd.read_csv(os.path.join(data_path,'test.csv'), index_col = 'id')\n",
        "df_test.shape"
      ],
      "execution_count": 75,
      "outputs": [
        {
          "output_type": "execute_result",
          "data": {
            "text/plain": [
              "(11520, 40)"
            ]
          },
          "metadata": {
            "tags": []
          },
          "execution_count": 75
        }
      ]
    },
    {
      "cell_type": "markdown",
      "metadata": {
        "id": "uGcTv4O06Gbz",
        "colab_type": "text"
      },
      "source": [
        "#### 시간 정보 넣어주기"
      ]
    },
    {
      "cell_type": "code",
      "metadata": {
        "id": "sBmyVGEc_wo5",
        "colab_type": "code",
        "colab": {}
      },
      "source": [
        "n = 4320"
      ],
      "execution_count": 0,
      "outputs": []
    },
    {
      "cell_type": "code",
      "metadata": {
        "id": "l_bjB36N8VhM",
        "colab_type": "code",
        "colab": {}
      },
      "source": [
        "min_in_day = 24*6\n",
        "hour_in_day = 24\n",
        "\n",
        "feat_temp = ['X00', 'X07', 'X28', 'X31', 'X32']\n",
        "diff = np.mean(df[feat_temp][:n], axis=1)- np.mean(df[['Y15', 'Y16', 'Y09']][:n], axis=1)\n",
        "diff_144= {i:diff[i: :144].mean() for i in range(144)}\n",
        "\n",
        "def time_data(frame):\n",
        "    minute = (frame.index%144).astype(int)\n",
        "    hour= pd.Series((frame.index%144/6).astype(int))\n",
        "\n",
        "    minute_sin = np.sin(np.pi*minute/min_in_day) \n",
        "    minute_cos = np.cos(np.pi*minute/min_in_day)\n",
        "\n",
        "    hour_sin  = np.sin(np.pi*hour/hour_in_day)\n",
        "    hour_cos  = np.cos(np.pi*hour/hour_in_day)\n",
        "    return minute_sin, minute_cos, hour_sin, hour_cos, (frame.index%144).map(diff_144)"
      ],
      "execution_count": 0,
      "outputs": []
    },
    {
      "cell_type": "code",
      "metadata": {
        "id": "GsgCNE45qi-3",
        "colab_type": "code",
        "outputId": "7bc77b62-5e03-4b2a-94cd-cf49966cac50",
        "colab": {
          "base_uri": "https://localhost:8080/",
          "height": 52
        }
      },
      "source": [
        "# train data\n",
        "print(df.shape)\n",
        "df['time_m_sin'], df['time_m_cos'], df['time_h_sin'], df['time_h_cos'], df['time_diff'] = time_data(df)\n",
        "print(df.shape)"
      ],
      "execution_count": 78,
      "outputs": [
        {
          "output_type": "stream",
          "text": [
            "(4752, 59)\n",
            "(4752, 64)\n"
          ],
          "name": "stdout"
        }
      ]
    },
    {
      "cell_type": "code",
      "metadata": {
        "id": "JirmkTaVrB32",
        "colab_type": "code",
        "outputId": "cfca2384-9354-4809-fd47-8451e9793fb2",
        "colab": {
          "base_uri": "https://localhost:8080/",
          "height": 52
        }
      },
      "source": [
        "# test data\n",
        "print(df_test.shape)\n",
        "df_test['time_m_sin'], df_test['time_m_cos'], df_test['time_h_sin'], df_test['time_h_cos'], df_test['time_diff'] = time_data(df_test)\n",
        "print(df_test.shape)"
      ],
      "execution_count": 79,
      "outputs": [
        {
          "output_type": "stream",
          "text": [
            "(11520, 40)\n",
            "(11520, 45)\n"
          ],
          "name": "stdout"
        }
      ]
    },
    {
      "cell_type": "markdown",
      "metadata": {
        "id": "9k4dS_DVAL7j",
        "colab_type": "text"
      },
      "source": [
        "|-|30일(train)|3일(train)|80일(test)|\n",
        "|---|---|---|---|\n",
        "|Y18|NULL|432개|NULL|\n",
        "|Y00-Y17|4320개|NULL|NULL|\n",
        "|X00-X17|4320개|432개|11520개|"
      ]
    },
    {
      "cell_type": "code",
      "metadata": {
        "id": "hsWPUijJQaGd",
        "colab_type": "code",
        "colab": {}
      },
      "source": [
        "df_30 = df[:n]\n",
        "df_3 = df[n:n+n//10]"
      ],
      "execution_count": 0,
      "outputs": []
    },
    {
      "cell_type": "markdown",
      "metadata": {
        "id": "BoVcePUUenSg",
        "colab_type": "text"
      },
      "source": [
        "## x"
      ]
    },
    {
      "cell_type": "markdown",
      "metadata": {
        "id": "HK-xZpb6eroq",
        "colab_type": "text"
      },
      "source": [
        "* feat_temp: 기온 \n",
        "* feat_air_press: 현지기압\n",
        "* feat_wind_speed: 풍속\n",
        "* feat_rainfall: 일일 누적강수량 \n",
        "* feat_sea_press: 해면기압\n",
        "* feat_insol: 일일 누적일사량\n",
        "* feat_humid: 습도\n",
        "* feat_dir_wind: 풍향\n",
        "\n"
      ]
    },
    {
      "cell_type": "code",
      "metadata": {
        "id": "JEdugNkuQEHm",
        "colab_type": "code",
        "colab": {}
      },
      "source": [
        "feat_time = ['time_m_sin', 'time_m_cos', 'time_h_sin', 'time_h_cos', 'time_diff']\n",
        "feat_temp = ['X00', 'X07', 'X28', 'X31', 'X32']\n",
        "feat_air_press = ['X01', 'X06', 'X22', 'X27', 'X29']\n",
        "feat_wind_speed = ['X02', 'X03', 'X18', 'X24', 'X26']\n",
        "feat_rainfall = ['X04', 'X10', 'X21', 'X36', 'X39']\n",
        "feat_sea_press = ['X05', 'X08', 'X09', 'X23', 'X33']\n",
        "feat_insol = ['X11', 'X14', 'X16', 'X19', 'X34']\n",
        "feat_humid = ['X12', 'X20', 'X30', 'X37', 'X38']\n",
        "feat_dir_wind = ['X13', 'X15', 'X17', 'X25', 'X35']\n",
        "\n",
        "feat_x = ['X00', 'X01', 'X02', 'X03', 'X04', 'X05', 'X06', 'X07', 'X08', 'X09', \n",
        "          'X10', 'X11', 'X12', 'X13', 'X14', 'X15', 'X16', 'X17', 'X18', 'X19', \n",
        "          'X20', 'X21', 'X22', 'X23', 'X24', 'X25', 'X26', 'X27', 'X28', 'X29', \n",
        "          'X30', 'X31', 'X32', 'X33', 'X34', 'X35', 'X36', 'X37', 'X38', 'X39']\n",
        "\n",
        "feat_x_t = feat_x + feat_time "
      ],
      "execution_count": 0,
      "outputs": []
    },
    {
      "cell_type": "markdown",
      "metadata": {
        "id": "8aFJuvkrmJYe",
        "colab_type": "text"
      },
      "source": [
        "### 일일누적일사량 missing data 삭제 \n",
        "데이터가 의미 없는 열은 삭제 "
      ]
    },
    {
      "cell_type": "code",
      "metadata": {
        "id": "jys3mESmtFbM",
        "colab_type": "code",
        "colab": {}
      },
      "source": [
        "remove_col =  ['X14', 'X16', 'X19']"
      ],
      "execution_count": 0,
      "outputs": []
    },
    {
      "cell_type": "code",
      "metadata": {
        "colab_type": "code",
        "id": "i3W0bWFMl31u",
        "colab": {}
      },
      "source": [
        "for r in remove_col:\n",
        "    feat_insol.remove(r)\n",
        "    feat_x.remove(r)"
      ],
      "execution_count": 0,
      "outputs": []
    },
    {
      "cell_type": "code",
      "metadata": {
        "colab_type": "code",
        "id": "q0Cs558Ql31x",
        "colab": {}
      },
      "source": [
        "df = df.drop(remove_col, axis = 1)"
      ],
      "execution_count": 0,
      "outputs": []
    },
    {
      "cell_type": "code",
      "metadata": {
        "id": "lmh_pcGaPVrV",
        "colab_type": "code",
        "colab": {}
      },
      "source": [
        "df_test = df_test.drop(remove_col, axis = 1)"
      ],
      "execution_count": 0,
      "outputs": []
    },
    {
      "cell_type": "markdown",
      "metadata": {
        "id": "YDNoDj9ylJoF",
        "colab_type": "text"
      },
      "source": [
        "## y"
      ]
    },
    {
      "cell_type": "code",
      "metadata": {
        "id": "OohHQJHslMgN",
        "colab_type": "code",
        "colab": {}
      },
      "source": [
        "feat_y = ['Y00', 'Y01', 'Y02', 'Y03', 'Y04', 'Y05', 'Y06', 'Y07', 'Y08', \n",
        "          'Y09', 'Y10', 'Y11', 'Y12', 'Y13', 'Y14', 'Y15', 'Y16', 'Y17']"
      ],
      "execution_count": 0,
      "outputs": []
    },
    {
      "cell_type": "markdown",
      "metadata": {
        "id": "sZ9abzQ7dTGx",
        "colab_type": "text"
      },
      "source": [
        "# model"
      ]
    },
    {
      "cell_type": "markdown",
      "metadata": {
        "id": "ucUowkh0fimN",
        "colab_type": "text"
      },
      "source": [
        "간단한 모델을 구성해보자  \n",
        "\n",
        "\n",
        "1.   X 중 기온 데이터인 feat_temp만 사용해서 Y00~17의 온도를 추정하는 모델 만들기 \n",
        "2.   1번에서 만든 모델로 Y00 ~ Y17의 비어있는 3일간의 데이터로 fine tuning\n",
        "3. 예측\n",
        "\n",
        "\n"
      ]
    },
    {
      "cell_type": "markdown",
      "metadata": {
        "id": "l96ARh-Thzq_",
        "colab_type": "text"
      },
      "source": [
        "## 1.\n",
        "df_y_g4에 대해 모델링 해보기 (X 5군데와 전체적으로 유사해서 선택함) "
      ]
    },
    {
      "cell_type": "markdown",
      "metadata": {
        "id": "Xe0MoqWbhnDw",
        "colab_type": "text"
      },
      "source": [
        "### dataset "
      ]
    },
    {
      "cell_type": "markdown",
      "metadata": {
        "id": "sAVjM5ZnhcOo",
        "colab_type": "text"
      },
      "source": [
        "#### Split the data into train and test"
      ]
    },
    {
      "cell_type": "code",
      "metadata": {
        "id": "1gjyTa0BfNbO",
        "colab_type": "code",
        "colab": {}
      },
      "source": [
        "## \n",
        "frac = 0.9 # train data 비율 "
      ],
      "execution_count": 0,
      "outputs": []
    },
    {
      "cell_type": "code",
      "metadata": {
        "id": "mhOZjvHTcwHK",
        "colab_type": "code",
        "colab": {}
      },
      "source": [
        "## y_col : y_col인 컬럼들의 평균을 타겟 값으로 할 것.\n",
        "y_col = ['Y15', 'Y16', 'Y09'] ##list(df_y_g3.columns)\n",
        "x_col = feat_temp + feat_air_press+ feat_rainfall+ feat_insol+feat_dir_wind+['time_diff']"
      ],
      "execution_count": 0,
      "outputs": []
    },
    {
      "cell_type": "code",
      "metadata": {
        "id": "ZzBva8bpeRUD",
        "colab_type": "code",
        "colab": {}
      },
      "source": [
        "dataset = df_30.loc[:,x_col+y_col]\n",
        "dataset.loc[:, 'Y']= df_30.loc[:,y_col].mean(axis=1)\n",
        "dataset = dataset.drop(y_col, axis=1) \n",
        "\n",
        "dataset_ft = df_3.loc[:,x_col+y_col]\n",
        "dataset_ft.loc[:,'Y']= df_3.loc[:,'Y18']\n",
        "dataset_ft = dataset_ft.drop(y_col, axis=1) "
      ],
      "execution_count": 0,
      "outputs": []
    },
    {
      "cell_type": "code",
      "metadata": {
        "id": "iUU_0EF2dZaM",
        "colab_type": "code",
        "colab": {
          "base_uri": "https://localhost:8080/",
          "height": 34
        },
        "outputId": "a73f84aa-d141-4718-def9-b5f9cb605fcb"
      },
      "source": [
        "train_dataset = dataset.sample(frac=frac,random_state=0)\n",
        "test_dataset = dataset.drop(train_dataset.index)\n",
        "\n",
        "train_dataset.shape, test_dataset.shape"
      ],
      "execution_count": 92,
      "outputs": [
        {
          "output_type": "execute_result",
          "data": {
            "text/plain": [
              "((3888, 24), (432, 24))"
            ]
          },
          "metadata": {
            "tags": []
          },
          "execution_count": 92
        }
      ]
    },
    {
      "cell_type": "code",
      "metadata": {
        "id": "xHQ5WVzHbIJP",
        "colab_type": "code",
        "outputId": "6d035ffa-9ff3-4436-9d7e-89d0cc269cdd",
        "colab": {
          "base_uri": "https://localhost:8080/",
          "height": 34
        }
      },
      "source": [
        "#finetuning용 데이터 \n",
        "train_dataset_ft = dataset_ft.sample(frac=frac,random_state=0)\n",
        "test_dataset_ft = dataset_ft.drop(train_dataset_ft.index)\n",
        "\n",
        "train_dataset_ft.shape, test_dataset_ft.shape"
      ],
      "execution_count": 93,
      "outputs": [
        {
          "output_type": "execute_result",
          "data": {
            "text/plain": [
              "((389, 24), (43, 24))"
            ]
          },
          "metadata": {
            "tags": []
          },
          "execution_count": 93
        }
      ]
    },
    {
      "cell_type": "code",
      "metadata": {
        "colab_type": "code",
        "outputId": "8b061b87-54c0-4441-9c32-fc9ab693b1c1",
        "id": "RsgYTAm0pyJ6",
        "colab": {
          "base_uri": "https://localhost:8080/",
          "height": 156
        }
      },
      "source": [
        "train_dataset.columns, train_dataset_ft.columns"
      ],
      "execution_count": 94,
      "outputs": [
        {
          "output_type": "execute_result",
          "data": {
            "text/plain": [
              "(Index(['X00', 'X07', 'X28', 'X31', 'X32', 'X01', 'X06', 'X22', 'X27', 'X29',\n",
              "        'X04', 'X10', 'X21', 'X36', 'X39', 'X11', 'X34', 'X13', 'X15', 'X17',\n",
              "        'X25', 'X35', 'time_diff', 'Y'],\n",
              "       dtype='object'),\n",
              " Index(['X00', 'X07', 'X28', 'X31', 'X32', 'X01', 'X06', 'X22', 'X27', 'X29',\n",
              "        'X04', 'X10', 'X21', 'X36', 'X39', 'X11', 'X34', 'X13', 'X15', 'X17',\n",
              "        'X25', 'X35', 'time_diff', 'Y'],\n",
              "       dtype='object'))"
            ]
          },
          "metadata": {
            "tags": []
          },
          "execution_count": 94
        }
      ]
    },
    {
      "cell_type": "markdown",
      "metadata": {
        "id": "yWpPXfOeg0fS",
        "colab_type": "text"
      },
      "source": [
        "#### Split features from labels"
      ]
    },
    {
      "cell_type": "code",
      "metadata": {
        "id": "Gp2rgP59hsWa",
        "colab_type": "code",
        "colab": {
          "base_uri": "https://localhost:8080/",
          "height": 52
        },
        "outputId": "98b3989b-8770-4928-e3ac-751a6b835352"
      },
      "source": [
        "train_labels = train_dataset.pop('Y')\n",
        "test_labels = test_dataset.pop('Y')\n",
        "print(train_dataset.shape, test_dataset.shape)\n",
        "print(train_labels.shape, test_labels.shape)\n"
      ],
      "execution_count": 95,
      "outputs": [
        {
          "output_type": "stream",
          "text": [
            "(3888, 23) (432, 23)\n",
            "(3888,) (432,)\n"
          ],
          "name": "stdout"
        }
      ]
    },
    {
      "cell_type": "code",
      "metadata": {
        "id": "ZDJMKMh8ggQ7",
        "colab_type": "code",
        "outputId": "9e0ac19d-1d5a-4d47-befc-739c598fd29a",
        "colab": {
          "base_uri": "https://localhost:8080/",
          "height": 52
        }
      },
      "source": [
        "train_labels_ft = train_dataset_ft.pop('Y')\n",
        "test_labels_ft = test_dataset_ft.pop('Y')\n",
        "print(train_dataset_ft.shape, test_dataset_ft.shape)\n",
        "print(train_labels_ft.shape, test_labels_ft.shape)"
      ],
      "execution_count": 96,
      "outputs": [
        {
          "output_type": "stream",
          "text": [
            "(389, 23) (43, 23)\n",
            "(389,) (43,)\n"
          ],
          "name": "stdout"
        }
      ]
    },
    {
      "cell_type": "markdown",
      "metadata": {
        "id": "blZleRTghN7D",
        "colab_type": "text"
      },
      "source": [
        "## model"
      ]
    },
    {
      "cell_type": "markdown",
      "metadata": {
        "id": "-dnS-re6kqt9",
        "colab_type": "text"
      },
      "source": [
        "#### Build the model"
      ]
    },
    {
      "cell_type": "code",
      "metadata": {
        "id": "3MYJoUyZgrBG",
        "colab_type": "code",
        "colab": {}
      },
      "source": [
        "def create_model():\n",
        "    model = keras.Sequential([\n",
        "            layers.Dense(16, activation='relu', input_shape=[len(train_dataset.keys())]),\n",
        "            layers.Dense(4, activation='relu'),\n",
        "            layers.Dense(1)\n",
        "    ])\n",
        "    model.compile(loss='mse',\n",
        "                  optimizer=tf.keras.optimizers.Adam(0.005),\n",
        "                  metrics=['mae', 'mse'])\n",
        "    return model\n"
      ],
      "execution_count": 0,
      "outputs": []
    },
    {
      "cell_type": "code",
      "metadata": {
        "id": "_UaM8wt44qQ8",
        "colab_type": "code",
        "colab": {
          "base_uri": "https://localhost:8080/",
          "height": 121
        },
        "outputId": "f02cc5a0-4b0c-4d51-a8fb-ec6e5a5c0155"
      },
      "source": [
        "model = create_model()"
      ],
      "execution_count": 120,
      "outputs": [
        {
          "output_type": "stream",
          "text": [
            "Executing op RandomUniform in device /job:localhost/replica:0/task:0/device:GPU:0\n",
            "Executing op RandomUniform in device /job:localhost/replica:0/task:0/device:GPU:0\n",
            "Executing op VarHandleOp in device /job:localhost/replica:0/task:0/device:GPU:0\n",
            "Executing op VarHandleOp in device /job:localhost/replica:0/task:0/device:GPU:0\n",
            "Executing op RandomUniform in device /job:localhost/replica:0/task:0/device:GPU:0\n",
            "Executing op VarHandleOp in device /job:localhost/replica:0/task:0/device:GPU:0\n"
          ],
          "name": "stdout"
        }
      ]
    },
    {
      "cell_type": "markdown",
      "metadata": {
        "id": "ZNGxAIbmkwS4",
        "colab_type": "text"
      },
      "source": [
        "#### Inspect the model"
      ]
    },
    {
      "cell_type": "code",
      "metadata": {
        "id": "ReHuuhV0kgxc",
        "colab_type": "code",
        "outputId": "3e76088e-a7e4-498d-8cec-8c75c4e29f3e",
        "colab": {
          "base_uri": "https://localhost:8080/",
          "height": 260
        }
      },
      "source": [
        "model.summary()"
      ],
      "execution_count": 121,
      "outputs": [
        {
          "output_type": "stream",
          "text": [
            "Model: \"sequential_11\"\n",
            "_________________________________________________________________\n",
            "Layer (type)                 Output Shape              Param #   \n",
            "=================================================================\n",
            "dense_22 (Dense)             (None, 16)                384       \n",
            "_________________________________________________________________\n",
            "dense_23 (Dense)             (None, 4)                 68        \n",
            "_________________________________________________________________\n",
            "dense_24 (Dense)             (None, 1)                 5         \n",
            "=================================================================\n",
            "Total params: 457\n",
            "Trainable params: 457\n",
            "Non-trainable params: 0\n",
            "_________________________________________________________________\n"
          ],
          "name": "stdout"
        }
      ]
    },
    {
      "cell_type": "code",
      "metadata": {
        "id": "IFxWTJnskgrC",
        "colab_type": "code",
        "outputId": "fb4d6225-3a1d-4124-dadb-5164796712ef",
        "colab": {
          "base_uri": "https://localhost:8080/",
          "height": 159
        }
      },
      "source": [
        "example_batch = train_dataset[:5]\n",
        "example_result = model.predict(example_batch)\n",
        "example_result"
      ],
      "execution_count": 122,
      "outputs": [
        {
          "output_type": "stream",
          "text": [
            "WARNING:tensorflow:Falling back from v2 loop because of error: Failed to find data adapter that can handle input: <class 'pandas.core.frame.DataFrame'>, <class 'NoneType'>\n",
            "Executing op __inference_keras_scratch_graph_840520 in device /job:localhost/replica:0/task:0/device:GPU:0\n"
          ],
          "name": "stdout"
        },
        {
          "output_type": "execute_result",
          "data": {
            "text/plain": [
              "array([[-101.298355],\n",
              "       [-102.34137 ],\n",
              "       [-131.92003 ],\n",
              "       [-105.79545 ],\n",
              "       [ -56.67898 ]], dtype=float32)"
            ]
          },
          "metadata": {
            "tags": []
          },
          "execution_count": 122
        }
      ]
    },
    {
      "cell_type": "markdown",
      "metadata": {
        "id": "LtVCXxb-laIi",
        "colab_type": "text"
      },
      "source": [
        "#### Train the model"
      ]
    },
    {
      "cell_type": "code",
      "metadata": {
        "id": "yQS5zwBV758P",
        "colab_type": "code",
        "colab": {
          "base_uri": "https://localhost:8080/",
          "height": 34
        },
        "outputId": "0bd6f059-e618-4ff9-98df-72ba741172a1"
      },
      "source": [
        "checkpoint_path = \"./checkpoints/training1/cp.ckpt\"\n",
        "checkpoint_dir = os.path.dirname(checkpoint_path)\n",
        "\n",
        "!rm \"./checkpoints/training1/*\""
      ],
      "execution_count": 123,
      "outputs": [
        {
          "output_type": "stream",
          "text": [
            "rm: cannot remove './checkpoints/training1/*': No such file or directory\n"
          ],
          "name": "stdout"
        }
      ]
    },
    {
      "cell_type": "code",
      "metadata": {
        "id": "C2XhJXsorCQL",
        "colab_type": "code",
        "colab": {}
      },
      "source": [
        "\n",
        "# Create a callback that saves the model's weights\n",
        "cp_callback = tf.keras.callbacks.ModelCheckpoint(filepath=checkpoint_path,\n",
        "                                                 save_weights_only=True,\n",
        "                                                 verbose=1)\n"
      ],
      "execution_count": 0,
      "outputs": []
    },
    {
      "cell_type": "code",
      "metadata": {
        "id": "IlR2IuofgsDu",
        "colab_type": "code",
        "outputId": "34080c1a-24cc-440c-e5b2-effdb76afcd9",
        "colab": {
          "base_uri": "https://localhost:8080/",
          "height": 1000
        }
      },
      "source": [
        "EPOCHS = 300\n",
        "\n",
        "history = model.fit(\n",
        "  train_dataset, train_labels,\n",
        "  validation_data = (test_dataset,test_labels),\n",
        "  epochs=EPOCHS, verbose=0,# validation_split = 0.9, \n",
        "  callbacks=[cp_callback])"
      ],
      "execution_count": 125,
      "outputs": [
        {
          "output_type": "stream",
          "text": [
            "WARNING:tensorflow:Falling back from v2 loop because of error: Failed to find data adapter that can handle input: <class 'pandas.core.frame.DataFrame'>, <class 'NoneType'>\n",
            "Executing op VarHandleOp in device /job:localhost/replica:0/task:0/device:GPU:0\n",
            "Executing op VarHandleOp in device /job:localhost/replica:0/task:0/device:GPU:0\n",
            "Executing op VarHandleOp in device /job:localhost/replica:0/task:0/device:GPU:0\n",
            "WARNING:tensorflow:Unresolved object in checkpoint: (root).optimizer.iter\n",
            "WARNING:tensorflow:Unresolved object in checkpoint: (root).optimizer.beta_1\n",
            "WARNING:tensorflow:Unresolved object in checkpoint: (root).optimizer.beta_2\n",
            "WARNING:tensorflow:Unresolved object in checkpoint: (root).optimizer.decay\n",
            "WARNING:tensorflow:Unresolved object in checkpoint: (root).optimizer.learning_rate\n",
            "WARNING:tensorflow:A checkpoint was restored (e.g. tf.train.Checkpoint.restore or tf.keras.Model.load_weights) but not all checkpointed values were used. See above for specific issues. Use expect_partial() on the load status object, e.g. tf.train.Checkpoint.restore(...).expect_partial(), to silence these warnings, or use assert_consumed() to make the check explicit. See https://www.tensorflow.org/alpha/guide/checkpoints#loading_mechanics for details.\n",
            "Executing op __inference_keras_scratch_graph_840987 in device /job:localhost/replica:0/task:0/device:GPU:0\n",
            "Executing op __inference_keras_scratch_graph_841796 in device /job:localhost/replica:0/task:0/device:GPU:0\n",
            "\n",
            "Epoch 00001: saving model to ./checkpoints/training1/cp.ckpt\n",
            "Executing op SaveV2 in device /job:localhost/replica:0/task:0/device:CPU:0\n",
            "\n",
            "Epoch 00002: saving model to ./checkpoints/training1/cp.ckpt\n",
            "\n",
            "Epoch 00003: saving model to ./checkpoints/training1/cp.ckpt\n",
            "\n",
            "Epoch 00004: saving model to ./checkpoints/training1/cp.ckpt\n",
            "\n",
            "Epoch 00005: saving model to ./checkpoints/training1/cp.ckpt\n",
            "\n",
            "Epoch 00006: saving model to ./checkpoints/training1/cp.ckpt\n",
            "\n",
            "Epoch 00007: saving model to ./checkpoints/training1/cp.ckpt\n",
            "\n",
            "Epoch 00008: saving model to ./checkpoints/training1/cp.ckpt\n",
            "\n",
            "Epoch 00009: saving model to ./checkpoints/training1/cp.ckpt\n",
            "\n",
            "Epoch 00010: saving model to ./checkpoints/training1/cp.ckpt\n",
            "\n",
            "Epoch 00011: saving model to ./checkpoints/training1/cp.ckpt\n",
            "\n",
            "Epoch 00012: saving model to ./checkpoints/training1/cp.ckpt\n",
            "\n",
            "Epoch 00013: saving model to ./checkpoints/training1/cp.ckpt\n",
            "\n",
            "Epoch 00014: saving model to ./checkpoints/training1/cp.ckpt\n",
            "\n",
            "Epoch 00015: saving model to ./checkpoints/training1/cp.ckpt\n",
            "\n",
            "Epoch 00016: saving model to ./checkpoints/training1/cp.ckpt\n",
            "\n",
            "Epoch 00017: saving model to ./checkpoints/training1/cp.ckpt\n",
            "\n",
            "Epoch 00018: saving model to ./checkpoints/training1/cp.ckpt\n",
            "\n",
            "Epoch 00019: saving model to ./checkpoints/training1/cp.ckpt\n",
            "\n",
            "Epoch 00020: saving model to ./checkpoints/training1/cp.ckpt\n",
            "\n",
            "Epoch 00021: saving model to ./checkpoints/training1/cp.ckpt\n",
            "\n",
            "Epoch 00022: saving model to ./checkpoints/training1/cp.ckpt\n",
            "\n",
            "Epoch 00023: saving model to ./checkpoints/training1/cp.ckpt\n",
            "\n",
            "Epoch 00024: saving model to ./checkpoints/training1/cp.ckpt\n",
            "\n",
            "Epoch 00025: saving model to ./checkpoints/training1/cp.ckpt\n",
            "\n",
            "Epoch 00026: saving model to ./checkpoints/training1/cp.ckpt\n",
            "\n",
            "Epoch 00027: saving model to ./checkpoints/training1/cp.ckpt\n",
            "\n",
            "Epoch 00028: saving model to ./checkpoints/training1/cp.ckpt\n",
            "\n",
            "Epoch 00029: saving model to ./checkpoints/training1/cp.ckpt\n",
            "\n",
            "Epoch 00030: saving model to ./checkpoints/training1/cp.ckpt\n",
            "\n",
            "Epoch 00031: saving model to ./checkpoints/training1/cp.ckpt\n",
            "\n",
            "Epoch 00032: saving model to ./checkpoints/training1/cp.ckpt\n",
            "\n",
            "Epoch 00033: saving model to ./checkpoints/training1/cp.ckpt\n",
            "\n",
            "Epoch 00034: saving model to ./checkpoints/training1/cp.ckpt\n",
            "\n",
            "Epoch 00035: saving model to ./checkpoints/training1/cp.ckpt\n",
            "\n",
            "Epoch 00036: saving model to ./checkpoints/training1/cp.ckpt\n",
            "\n",
            "Epoch 00037: saving model to ./checkpoints/training1/cp.ckpt\n",
            "\n",
            "Epoch 00038: saving model to ./checkpoints/training1/cp.ckpt\n",
            "\n",
            "Epoch 00039: saving model to ./checkpoints/training1/cp.ckpt\n",
            "\n",
            "Epoch 00040: saving model to ./checkpoints/training1/cp.ckpt\n",
            "\n",
            "Epoch 00041: saving model to ./checkpoints/training1/cp.ckpt\n",
            "\n",
            "Epoch 00042: saving model to ./checkpoints/training1/cp.ckpt\n",
            "\n",
            "Epoch 00043: saving model to ./checkpoints/training1/cp.ckpt\n",
            "\n",
            "Epoch 00044: saving model to ./checkpoints/training1/cp.ckpt\n",
            "\n",
            "Epoch 00045: saving model to ./checkpoints/training1/cp.ckpt\n",
            "\n",
            "Epoch 00046: saving model to ./checkpoints/training1/cp.ckpt\n",
            "\n",
            "Epoch 00047: saving model to ./checkpoints/training1/cp.ckpt\n",
            "\n",
            "Epoch 00048: saving model to ./checkpoints/training1/cp.ckpt\n",
            "\n",
            "Epoch 00049: saving model to ./checkpoints/training1/cp.ckpt\n",
            "\n",
            "Epoch 00050: saving model to ./checkpoints/training1/cp.ckpt\n",
            "\n",
            "Epoch 00051: saving model to ./checkpoints/training1/cp.ckpt\n",
            "\n",
            "Epoch 00052: saving model to ./checkpoints/training1/cp.ckpt\n",
            "\n",
            "Epoch 00053: saving model to ./checkpoints/training1/cp.ckpt\n",
            "\n",
            "Epoch 00054: saving model to ./checkpoints/training1/cp.ckpt\n",
            "\n",
            "Epoch 00055: saving model to ./checkpoints/training1/cp.ckpt\n",
            "\n",
            "Epoch 00056: saving model to ./checkpoints/training1/cp.ckpt\n",
            "\n",
            "Epoch 00057: saving model to ./checkpoints/training1/cp.ckpt\n",
            "\n",
            "Epoch 00058: saving model to ./checkpoints/training1/cp.ckpt\n",
            "\n",
            "Epoch 00059: saving model to ./checkpoints/training1/cp.ckpt\n",
            "\n",
            "Epoch 00060: saving model to ./checkpoints/training1/cp.ckpt\n",
            "\n",
            "Epoch 00061: saving model to ./checkpoints/training1/cp.ckpt\n",
            "\n",
            "Epoch 00062: saving model to ./checkpoints/training1/cp.ckpt\n",
            "\n",
            "Epoch 00063: saving model to ./checkpoints/training1/cp.ckpt\n",
            "\n",
            "Epoch 00064: saving model to ./checkpoints/training1/cp.ckpt\n",
            "\n",
            "Epoch 00065: saving model to ./checkpoints/training1/cp.ckpt\n",
            "\n",
            "Epoch 00066: saving model to ./checkpoints/training1/cp.ckpt\n",
            "\n",
            "Epoch 00067: saving model to ./checkpoints/training1/cp.ckpt\n",
            "\n",
            "Epoch 00068: saving model to ./checkpoints/training1/cp.ckpt\n",
            "\n",
            "Epoch 00069: saving model to ./checkpoints/training1/cp.ckpt\n",
            "\n",
            "Epoch 00070: saving model to ./checkpoints/training1/cp.ckpt\n",
            "\n",
            "Epoch 00071: saving model to ./checkpoints/training1/cp.ckpt\n",
            "\n",
            "Epoch 00072: saving model to ./checkpoints/training1/cp.ckpt\n",
            "\n",
            "Epoch 00073: saving model to ./checkpoints/training1/cp.ckpt\n",
            "\n",
            "Epoch 00074: saving model to ./checkpoints/training1/cp.ckpt\n",
            "\n",
            "Epoch 00075: saving model to ./checkpoints/training1/cp.ckpt\n",
            "\n",
            "Epoch 00076: saving model to ./checkpoints/training1/cp.ckpt\n",
            "\n",
            "Epoch 00077: saving model to ./checkpoints/training1/cp.ckpt\n",
            "\n",
            "Epoch 00078: saving model to ./checkpoints/training1/cp.ckpt\n",
            "\n",
            "Epoch 00079: saving model to ./checkpoints/training1/cp.ckpt\n",
            "\n",
            "Epoch 00080: saving model to ./checkpoints/training1/cp.ckpt\n",
            "\n",
            "Epoch 00081: saving model to ./checkpoints/training1/cp.ckpt\n",
            "\n",
            "Epoch 00082: saving model to ./checkpoints/training1/cp.ckpt\n",
            "\n",
            "Epoch 00083: saving model to ./checkpoints/training1/cp.ckpt\n",
            "\n",
            "Epoch 00084: saving model to ./checkpoints/training1/cp.ckpt\n",
            "\n",
            "Epoch 00085: saving model to ./checkpoints/training1/cp.ckpt\n",
            "\n",
            "Epoch 00086: saving model to ./checkpoints/training1/cp.ckpt\n",
            "\n",
            "Epoch 00087: saving model to ./checkpoints/training1/cp.ckpt\n",
            "\n",
            "Epoch 00088: saving model to ./checkpoints/training1/cp.ckpt\n",
            "\n",
            "Epoch 00089: saving model to ./checkpoints/training1/cp.ckpt\n",
            "\n",
            "Epoch 00090: saving model to ./checkpoints/training1/cp.ckpt\n",
            "\n",
            "Epoch 00091: saving model to ./checkpoints/training1/cp.ckpt\n",
            "\n",
            "Epoch 00092: saving model to ./checkpoints/training1/cp.ckpt\n",
            "\n",
            "Epoch 00093: saving model to ./checkpoints/training1/cp.ckpt\n",
            "\n",
            "Epoch 00094: saving model to ./checkpoints/training1/cp.ckpt\n",
            "\n",
            "Epoch 00095: saving model to ./checkpoints/training1/cp.ckpt\n",
            "\n",
            "Epoch 00096: saving model to ./checkpoints/training1/cp.ckpt\n",
            "\n",
            "Epoch 00097: saving model to ./checkpoints/training1/cp.ckpt\n",
            "\n",
            "Epoch 00098: saving model to ./checkpoints/training1/cp.ckpt\n",
            "\n",
            "Epoch 00099: saving model to ./checkpoints/training1/cp.ckpt\n",
            "\n",
            "Epoch 00100: saving model to ./checkpoints/training1/cp.ckpt\n",
            "\n",
            "Epoch 00101: saving model to ./checkpoints/training1/cp.ckpt\n",
            "\n",
            "Epoch 00102: saving model to ./checkpoints/training1/cp.ckpt\n",
            "\n",
            "Epoch 00103: saving model to ./checkpoints/training1/cp.ckpt\n",
            "\n",
            "Epoch 00104: saving model to ./checkpoints/training1/cp.ckpt\n",
            "\n",
            "Epoch 00105: saving model to ./checkpoints/training1/cp.ckpt\n",
            "\n",
            "Epoch 00106: saving model to ./checkpoints/training1/cp.ckpt\n",
            "\n",
            "Epoch 00107: saving model to ./checkpoints/training1/cp.ckpt\n",
            "\n",
            "Epoch 00108: saving model to ./checkpoints/training1/cp.ckpt\n",
            "\n",
            "Epoch 00109: saving model to ./checkpoints/training1/cp.ckpt\n",
            "\n",
            "Epoch 00110: saving model to ./checkpoints/training1/cp.ckpt\n",
            "\n",
            "Epoch 00111: saving model to ./checkpoints/training1/cp.ckpt\n",
            "\n",
            "Epoch 00112: saving model to ./checkpoints/training1/cp.ckpt\n",
            "\n",
            "Epoch 00113: saving model to ./checkpoints/training1/cp.ckpt\n",
            "\n",
            "Epoch 00114: saving model to ./checkpoints/training1/cp.ckpt\n",
            "\n",
            "Epoch 00115: saving model to ./checkpoints/training1/cp.ckpt\n",
            "\n",
            "Epoch 00116: saving model to ./checkpoints/training1/cp.ckpt\n",
            "\n",
            "Epoch 00117: saving model to ./checkpoints/training1/cp.ckpt\n",
            "\n",
            "Epoch 00118: saving model to ./checkpoints/training1/cp.ckpt\n",
            "\n",
            "Epoch 00119: saving model to ./checkpoints/training1/cp.ckpt\n",
            "\n",
            "Epoch 00120: saving model to ./checkpoints/training1/cp.ckpt\n",
            "\n",
            "Epoch 00121: saving model to ./checkpoints/training1/cp.ckpt\n",
            "\n",
            "Epoch 00122: saving model to ./checkpoints/training1/cp.ckpt\n",
            "\n",
            "Epoch 00123: saving model to ./checkpoints/training1/cp.ckpt\n",
            "\n",
            "Epoch 00124: saving model to ./checkpoints/training1/cp.ckpt\n",
            "\n",
            "Epoch 00125: saving model to ./checkpoints/training1/cp.ckpt\n",
            "\n",
            "Epoch 00126: saving model to ./checkpoints/training1/cp.ckpt\n",
            "\n",
            "Epoch 00127: saving model to ./checkpoints/training1/cp.ckpt\n",
            "\n",
            "Epoch 00128: saving model to ./checkpoints/training1/cp.ckpt\n",
            "\n",
            "Epoch 00129: saving model to ./checkpoints/training1/cp.ckpt\n",
            "\n",
            "Epoch 00130: saving model to ./checkpoints/training1/cp.ckpt\n",
            "\n",
            "Epoch 00131: saving model to ./checkpoints/training1/cp.ckpt\n",
            "\n",
            "Epoch 00132: saving model to ./checkpoints/training1/cp.ckpt\n",
            "\n",
            "Epoch 00133: saving model to ./checkpoints/training1/cp.ckpt\n",
            "\n",
            "Epoch 00134: saving model to ./checkpoints/training1/cp.ckpt\n",
            "\n",
            "Epoch 00135: saving model to ./checkpoints/training1/cp.ckpt\n",
            "\n",
            "Epoch 00136: saving model to ./checkpoints/training1/cp.ckpt\n",
            "\n",
            "Epoch 00137: saving model to ./checkpoints/training1/cp.ckpt\n",
            "\n",
            "Epoch 00138: saving model to ./checkpoints/training1/cp.ckpt\n",
            "\n",
            "Epoch 00139: saving model to ./checkpoints/training1/cp.ckpt\n",
            "\n",
            "Epoch 00140: saving model to ./checkpoints/training1/cp.ckpt\n",
            "\n",
            "Epoch 00141: saving model to ./checkpoints/training1/cp.ckpt\n",
            "\n",
            "Epoch 00142: saving model to ./checkpoints/training1/cp.ckpt\n",
            "\n",
            "Epoch 00143: saving model to ./checkpoints/training1/cp.ckpt\n",
            "\n",
            "Epoch 00144: saving model to ./checkpoints/training1/cp.ckpt\n",
            "\n",
            "Epoch 00145: saving model to ./checkpoints/training1/cp.ckpt\n",
            "\n",
            "Epoch 00146: saving model to ./checkpoints/training1/cp.ckpt\n",
            "\n",
            "Epoch 00147: saving model to ./checkpoints/training1/cp.ckpt\n",
            "\n",
            "Epoch 00148: saving model to ./checkpoints/training1/cp.ckpt\n",
            "\n",
            "Epoch 00149: saving model to ./checkpoints/training1/cp.ckpt\n",
            "\n",
            "Epoch 00150: saving model to ./checkpoints/training1/cp.ckpt\n",
            "\n",
            "Epoch 00151: saving model to ./checkpoints/training1/cp.ckpt\n",
            "\n",
            "Epoch 00152: saving model to ./checkpoints/training1/cp.ckpt\n",
            "\n",
            "Epoch 00153: saving model to ./checkpoints/training1/cp.ckpt\n",
            "\n",
            "Epoch 00154: saving model to ./checkpoints/training1/cp.ckpt\n",
            "\n",
            "Epoch 00155: saving model to ./checkpoints/training1/cp.ckpt\n",
            "\n",
            "Epoch 00156: saving model to ./checkpoints/training1/cp.ckpt\n",
            "\n",
            "Epoch 00157: saving model to ./checkpoints/training1/cp.ckpt\n",
            "\n",
            "Epoch 00158: saving model to ./checkpoints/training1/cp.ckpt\n",
            "\n",
            "Epoch 00159: saving model to ./checkpoints/training1/cp.ckpt\n",
            "\n",
            "Epoch 00160: saving model to ./checkpoints/training1/cp.ckpt\n",
            "\n",
            "Epoch 00161: saving model to ./checkpoints/training1/cp.ckpt\n",
            "\n",
            "Epoch 00162: saving model to ./checkpoints/training1/cp.ckpt\n",
            "\n",
            "Epoch 00163: saving model to ./checkpoints/training1/cp.ckpt\n",
            "\n",
            "Epoch 00164: saving model to ./checkpoints/training1/cp.ckpt\n",
            "\n",
            "Epoch 00165: saving model to ./checkpoints/training1/cp.ckpt\n",
            "\n",
            "Epoch 00166: saving model to ./checkpoints/training1/cp.ckpt\n",
            "\n",
            "Epoch 00167: saving model to ./checkpoints/training1/cp.ckpt\n",
            "\n",
            "Epoch 00168: saving model to ./checkpoints/training1/cp.ckpt\n",
            "\n",
            "Epoch 00169: saving model to ./checkpoints/training1/cp.ckpt\n",
            "\n",
            "Epoch 00170: saving model to ./checkpoints/training1/cp.ckpt\n",
            "\n",
            "Epoch 00171: saving model to ./checkpoints/training1/cp.ckpt\n",
            "\n",
            "Epoch 00172: saving model to ./checkpoints/training1/cp.ckpt\n",
            "\n",
            "Epoch 00173: saving model to ./checkpoints/training1/cp.ckpt\n",
            "\n",
            "Epoch 00174: saving model to ./checkpoints/training1/cp.ckpt\n",
            "\n",
            "Epoch 00175: saving model to ./checkpoints/training1/cp.ckpt\n",
            "\n",
            "Epoch 00176: saving model to ./checkpoints/training1/cp.ckpt\n",
            "\n",
            "Epoch 00177: saving model to ./checkpoints/training1/cp.ckpt\n",
            "\n",
            "Epoch 00178: saving model to ./checkpoints/training1/cp.ckpt\n",
            "\n",
            "Epoch 00179: saving model to ./checkpoints/training1/cp.ckpt\n",
            "\n",
            "Epoch 00180: saving model to ./checkpoints/training1/cp.ckpt\n",
            "\n",
            "Epoch 00181: saving model to ./checkpoints/training1/cp.ckpt\n",
            "\n",
            "Epoch 00182: saving model to ./checkpoints/training1/cp.ckpt\n",
            "\n",
            "Epoch 00183: saving model to ./checkpoints/training1/cp.ckpt\n",
            "\n",
            "Epoch 00184: saving model to ./checkpoints/training1/cp.ckpt\n",
            "\n",
            "Epoch 00185: saving model to ./checkpoints/training1/cp.ckpt\n",
            "\n",
            "Epoch 00186: saving model to ./checkpoints/training1/cp.ckpt\n",
            "\n",
            "Epoch 00187: saving model to ./checkpoints/training1/cp.ckpt\n",
            "\n",
            "Epoch 00188: saving model to ./checkpoints/training1/cp.ckpt\n",
            "\n",
            "Epoch 00189: saving model to ./checkpoints/training1/cp.ckpt\n",
            "\n",
            "Epoch 00190: saving model to ./checkpoints/training1/cp.ckpt\n",
            "\n",
            "Epoch 00191: saving model to ./checkpoints/training1/cp.ckpt\n",
            "\n",
            "Epoch 00192: saving model to ./checkpoints/training1/cp.ckpt\n",
            "\n",
            "Epoch 00193: saving model to ./checkpoints/training1/cp.ckpt\n",
            "\n",
            "Epoch 00194: saving model to ./checkpoints/training1/cp.ckpt\n",
            "\n",
            "Epoch 00195: saving model to ./checkpoints/training1/cp.ckpt\n",
            "\n",
            "Epoch 00196: saving model to ./checkpoints/training1/cp.ckpt\n",
            "\n",
            "Epoch 00197: saving model to ./checkpoints/training1/cp.ckpt\n",
            "\n",
            "Epoch 00198: saving model to ./checkpoints/training1/cp.ckpt\n",
            "\n",
            "Epoch 00199: saving model to ./checkpoints/training1/cp.ckpt\n",
            "\n",
            "Epoch 00200: saving model to ./checkpoints/training1/cp.ckpt\n",
            "\n",
            "Epoch 00201: saving model to ./checkpoints/training1/cp.ckpt\n",
            "\n",
            "Epoch 00202: saving model to ./checkpoints/training1/cp.ckpt\n",
            "\n",
            "Epoch 00203: saving model to ./checkpoints/training1/cp.ckpt\n",
            "\n",
            "Epoch 00204: saving model to ./checkpoints/training1/cp.ckpt\n",
            "\n",
            "Epoch 00205: saving model to ./checkpoints/training1/cp.ckpt\n",
            "\n",
            "Epoch 00206: saving model to ./checkpoints/training1/cp.ckpt\n",
            "\n",
            "Epoch 00207: saving model to ./checkpoints/training1/cp.ckpt\n",
            "\n",
            "Epoch 00208: saving model to ./checkpoints/training1/cp.ckpt\n",
            "\n",
            "Epoch 00209: saving model to ./checkpoints/training1/cp.ckpt\n",
            "\n",
            "Epoch 00210: saving model to ./checkpoints/training1/cp.ckpt\n",
            "\n",
            "Epoch 00211: saving model to ./checkpoints/training1/cp.ckpt\n",
            "\n",
            "Epoch 00212: saving model to ./checkpoints/training1/cp.ckpt\n",
            "\n",
            "Epoch 00213: saving model to ./checkpoints/training1/cp.ckpt\n",
            "\n",
            "Epoch 00214: saving model to ./checkpoints/training1/cp.ckpt\n",
            "\n",
            "Epoch 00215: saving model to ./checkpoints/training1/cp.ckpt\n",
            "\n",
            "Epoch 00216: saving model to ./checkpoints/training1/cp.ckpt\n",
            "\n",
            "Epoch 00217: saving model to ./checkpoints/training1/cp.ckpt\n",
            "\n",
            "Epoch 00218: saving model to ./checkpoints/training1/cp.ckpt\n",
            "\n",
            "Epoch 00219: saving model to ./checkpoints/training1/cp.ckpt\n",
            "\n",
            "Epoch 00220: saving model to ./checkpoints/training1/cp.ckpt\n",
            "\n",
            "Epoch 00221: saving model to ./checkpoints/training1/cp.ckpt\n",
            "\n",
            "Epoch 00222: saving model to ./checkpoints/training1/cp.ckpt\n",
            "\n",
            "Epoch 00223: saving model to ./checkpoints/training1/cp.ckpt\n",
            "\n",
            "Epoch 00224: saving model to ./checkpoints/training1/cp.ckpt\n",
            "\n",
            "Epoch 00225: saving model to ./checkpoints/training1/cp.ckpt\n",
            "\n",
            "Epoch 00226: saving model to ./checkpoints/training1/cp.ckpt\n",
            "\n",
            "Epoch 00227: saving model to ./checkpoints/training1/cp.ckpt\n",
            "\n",
            "Epoch 00228: saving model to ./checkpoints/training1/cp.ckpt\n",
            "\n",
            "Epoch 00229: saving model to ./checkpoints/training1/cp.ckpt\n",
            "\n",
            "Epoch 00230: saving model to ./checkpoints/training1/cp.ckpt\n",
            "\n",
            "Epoch 00231: saving model to ./checkpoints/training1/cp.ckpt\n",
            "\n",
            "Epoch 00232: saving model to ./checkpoints/training1/cp.ckpt\n",
            "\n",
            "Epoch 00233: saving model to ./checkpoints/training1/cp.ckpt\n",
            "\n",
            "Epoch 00234: saving model to ./checkpoints/training1/cp.ckpt\n",
            "\n",
            "Epoch 00235: saving model to ./checkpoints/training1/cp.ckpt\n",
            "\n",
            "Epoch 00236: saving model to ./checkpoints/training1/cp.ckpt\n",
            "\n",
            "Epoch 00237: saving model to ./checkpoints/training1/cp.ckpt\n",
            "\n",
            "Epoch 00238: saving model to ./checkpoints/training1/cp.ckpt\n",
            "\n",
            "Epoch 00239: saving model to ./checkpoints/training1/cp.ckpt\n",
            "\n",
            "Epoch 00240: saving model to ./checkpoints/training1/cp.ckpt\n",
            "\n",
            "Epoch 00241: saving model to ./checkpoints/training1/cp.ckpt\n",
            "\n",
            "Epoch 00242: saving model to ./checkpoints/training1/cp.ckpt\n",
            "\n",
            "Epoch 00243: saving model to ./checkpoints/training1/cp.ckpt\n",
            "\n",
            "Epoch 00244: saving model to ./checkpoints/training1/cp.ckpt\n",
            "\n",
            "Epoch 00245: saving model to ./checkpoints/training1/cp.ckpt\n",
            "\n",
            "Epoch 00246: saving model to ./checkpoints/training1/cp.ckpt\n",
            "\n",
            "Epoch 00247: saving model to ./checkpoints/training1/cp.ckpt\n",
            "\n",
            "Epoch 00248: saving model to ./checkpoints/training1/cp.ckpt\n",
            "\n",
            "Epoch 00249: saving model to ./checkpoints/training1/cp.ckpt\n",
            "\n",
            "Epoch 00250: saving model to ./checkpoints/training1/cp.ckpt\n",
            "\n",
            "Epoch 00251: saving model to ./checkpoints/training1/cp.ckpt\n",
            "\n",
            "Epoch 00252: saving model to ./checkpoints/training1/cp.ckpt\n",
            "\n",
            "Epoch 00253: saving model to ./checkpoints/training1/cp.ckpt\n",
            "\n",
            "Epoch 00254: saving model to ./checkpoints/training1/cp.ckpt\n",
            "\n",
            "Epoch 00255: saving model to ./checkpoints/training1/cp.ckpt\n",
            "\n",
            "Epoch 00256: saving model to ./checkpoints/training1/cp.ckpt\n",
            "\n",
            "Epoch 00257: saving model to ./checkpoints/training1/cp.ckpt\n",
            "\n",
            "Epoch 00258: saving model to ./checkpoints/training1/cp.ckpt\n",
            "\n",
            "Epoch 00259: saving model to ./checkpoints/training1/cp.ckpt\n",
            "\n",
            "Epoch 00260: saving model to ./checkpoints/training1/cp.ckpt\n",
            "\n",
            "Epoch 00261: saving model to ./checkpoints/training1/cp.ckpt\n",
            "\n",
            "Epoch 00262: saving model to ./checkpoints/training1/cp.ckpt\n",
            "\n",
            "Epoch 00263: saving model to ./checkpoints/training1/cp.ckpt\n",
            "\n",
            "Epoch 00264: saving model to ./checkpoints/training1/cp.ckpt\n",
            "\n",
            "Epoch 00265: saving model to ./checkpoints/training1/cp.ckpt\n",
            "\n",
            "Epoch 00266: saving model to ./checkpoints/training1/cp.ckpt\n",
            "\n",
            "Epoch 00267: saving model to ./checkpoints/training1/cp.ckpt\n",
            "\n",
            "Epoch 00268: saving model to ./checkpoints/training1/cp.ckpt\n",
            "\n",
            "Epoch 00269: saving model to ./checkpoints/training1/cp.ckpt\n",
            "\n",
            "Epoch 00270: saving model to ./checkpoints/training1/cp.ckpt\n",
            "\n",
            "Epoch 00271: saving model to ./checkpoints/training1/cp.ckpt\n",
            "\n",
            "Epoch 00272: saving model to ./checkpoints/training1/cp.ckpt\n",
            "\n",
            "Epoch 00273: saving model to ./checkpoints/training1/cp.ckpt\n",
            "\n",
            "Epoch 00274: saving model to ./checkpoints/training1/cp.ckpt\n",
            "\n",
            "Epoch 00275: saving model to ./checkpoints/training1/cp.ckpt\n",
            "\n",
            "Epoch 00276: saving model to ./checkpoints/training1/cp.ckpt\n",
            "\n",
            "Epoch 00277: saving model to ./checkpoints/training1/cp.ckpt\n",
            "\n",
            "Epoch 00278: saving model to ./checkpoints/training1/cp.ckpt\n",
            "\n",
            "Epoch 00279: saving model to ./checkpoints/training1/cp.ckpt\n",
            "\n",
            "Epoch 00280: saving model to ./checkpoints/training1/cp.ckpt\n",
            "\n",
            "Epoch 00281: saving model to ./checkpoints/training1/cp.ckpt\n",
            "\n",
            "Epoch 00282: saving model to ./checkpoints/training1/cp.ckpt\n",
            "\n",
            "Epoch 00283: saving model to ./checkpoints/training1/cp.ckpt\n",
            "\n",
            "Epoch 00284: saving model to ./checkpoints/training1/cp.ckpt\n",
            "\n",
            "Epoch 00285: saving model to ./checkpoints/training1/cp.ckpt\n",
            "\n",
            "Epoch 00286: saving model to ./checkpoints/training1/cp.ckpt\n",
            "\n",
            "Epoch 00287: saving model to ./checkpoints/training1/cp.ckpt\n",
            "\n",
            "Epoch 00288: saving model to ./checkpoints/training1/cp.ckpt\n",
            "\n",
            "Epoch 00289: saving model to ./checkpoints/training1/cp.ckpt\n",
            "\n",
            "Epoch 00290: saving model to ./checkpoints/training1/cp.ckpt\n",
            "\n",
            "Epoch 00291: saving model to ./checkpoints/training1/cp.ckpt\n",
            "\n",
            "Epoch 00292: saving model to ./checkpoints/training1/cp.ckpt\n",
            "\n",
            "Epoch 00293: saving model to ./checkpoints/training1/cp.ckpt\n",
            "\n",
            "Epoch 00294: saving model to ./checkpoints/training1/cp.ckpt\n",
            "\n",
            "Epoch 00295: saving model to ./checkpoints/training1/cp.ckpt\n",
            "\n",
            "Epoch 00296: saving model to ./checkpoints/training1/cp.ckpt\n",
            "\n",
            "Epoch 00297: saving model to ./checkpoints/training1/cp.ckpt\n",
            "\n",
            "Epoch 00298: saving model to ./checkpoints/training1/cp.ckpt\n",
            "\n",
            "Epoch 00299: saving model to ./checkpoints/training1/cp.ckpt\n",
            "\n",
            "Epoch 00300: saving model to ./checkpoints/training1/cp.ckpt\n"
          ],
          "name": "stdout"
        }
      ]
    },
    {
      "cell_type": "code",
      "metadata": {
        "id": "YWUiWgORliif",
        "colab_type": "code",
        "outputId": "ef052fee-2673-472b-8c71-0e55b178a3c1",
        "colab": {
          "base_uri": "https://localhost:8080/",
          "height": 677
        }
      },
      "source": [
        "hist = pd.DataFrame(history.history)\n",
        "hist['epoch'] = history.epoch\n",
        "hist[::EPOCHS//20]"
      ],
      "execution_count": 130,
      "outputs": [
        {
          "output_type": "execute_result",
          "data": {
            "text/html": [
              "<div>\n",
              "<style scoped>\n",
              "    .dataframe tbody tr th:only-of-type {\n",
              "        vertical-align: middle;\n",
              "    }\n",
              "\n",
              "    .dataframe tbody tr th {\n",
              "        vertical-align: top;\n",
              "    }\n",
              "\n",
              "    .dataframe thead th {\n",
              "        text-align: right;\n",
              "    }\n",
              "</style>\n",
              "<table border=\"1\" class=\"dataframe\">\n",
              "  <thead>\n",
              "    <tr style=\"text-align: right;\">\n",
              "      <th></th>\n",
              "      <th>loss</th>\n",
              "      <th>mae</th>\n",
              "      <th>mse</th>\n",
              "      <th>val_loss</th>\n",
              "      <th>val_mae</th>\n",
              "      <th>val_mse</th>\n",
              "      <th>epoch</th>\n",
              "    </tr>\n",
              "  </thead>\n",
              "  <tbody>\n",
              "    <tr>\n",
              "      <th>0</th>\n",
              "      <td>701.679684</td>\n",
              "      <td>23.187647</td>\n",
              "      <td>701.679565</td>\n",
              "      <td>513.628183</td>\n",
              "      <td>21.222914</td>\n",
              "      <td>513.628174</td>\n",
              "      <td>0</td>\n",
              "    </tr>\n",
              "    <tr>\n",
              "      <th>15</th>\n",
              "      <td>259.168029</td>\n",
              "      <td>14.065082</td>\n",
              "      <td>259.168030</td>\n",
              "      <td>236.299010</td>\n",
              "      <td>13.221562</td>\n",
              "      <td>236.299011</td>\n",
              "      <td>15</td>\n",
              "    </tr>\n",
              "    <tr>\n",
              "      <th>30</th>\n",
              "      <td>115.036977</td>\n",
              "      <td>8.270205</td>\n",
              "      <td>115.036949</td>\n",
              "      <td>104.601901</td>\n",
              "      <td>7.685324</td>\n",
              "      <td>104.601898</td>\n",
              "      <td>30</td>\n",
              "    </tr>\n",
              "    <tr>\n",
              "      <th>45</th>\n",
              "      <td>67.944115</td>\n",
              "      <td>6.664796</td>\n",
              "      <td>67.944122</td>\n",
              "      <td>65.785170</td>\n",
              "      <td>6.509649</td>\n",
              "      <td>65.785164</td>\n",
              "      <td>45</td>\n",
              "    </tr>\n",
              "    <tr>\n",
              "      <th>60</th>\n",
              "      <td>62.543283</td>\n",
              "      <td>6.769205</td>\n",
              "      <td>62.543289</td>\n",
              "      <td>63.389074</td>\n",
              "      <td>6.793023</td>\n",
              "      <td>63.389080</td>\n",
              "      <td>60</td>\n",
              "    </tr>\n",
              "    <tr>\n",
              "      <th>75</th>\n",
              "      <td>62.488228</td>\n",
              "      <td>6.799820</td>\n",
              "      <td>62.488224</td>\n",
              "      <td>63.592965</td>\n",
              "      <td>6.837893</td>\n",
              "      <td>63.592972</td>\n",
              "      <td>75</td>\n",
              "    </tr>\n",
              "    <tr>\n",
              "      <th>90</th>\n",
              "      <td>62.490501</td>\n",
              "      <td>6.796277</td>\n",
              "      <td>62.490505</td>\n",
              "      <td>63.596947</td>\n",
              "      <td>6.838640</td>\n",
              "      <td>63.596947</td>\n",
              "      <td>90</td>\n",
              "    </tr>\n",
              "    <tr>\n",
              "      <th>105</th>\n",
              "      <td>62.488393</td>\n",
              "      <td>6.798083</td>\n",
              "      <td>62.488388</td>\n",
              "      <td>63.604655</td>\n",
              "      <td>6.840079</td>\n",
              "      <td>63.604660</td>\n",
              "      <td>105</td>\n",
              "    </tr>\n",
              "    <tr>\n",
              "      <th>120</th>\n",
              "      <td>62.491841</td>\n",
              "      <td>6.802834</td>\n",
              "      <td>62.491844</td>\n",
              "      <td>63.606544</td>\n",
              "      <td>6.840430</td>\n",
              "      <td>63.606548</td>\n",
              "      <td>120</td>\n",
              "    </tr>\n",
              "    <tr>\n",
              "      <th>135</th>\n",
              "      <td>62.489445</td>\n",
              "      <td>6.800250</td>\n",
              "      <td>62.489460</td>\n",
              "      <td>63.599660</td>\n",
              "      <td>6.839149</td>\n",
              "      <td>63.599659</td>\n",
              "      <td>135</td>\n",
              "    </tr>\n",
              "    <tr>\n",
              "      <th>150</th>\n",
              "      <td>62.491254</td>\n",
              "      <td>6.795313</td>\n",
              "      <td>62.491261</td>\n",
              "      <td>63.590525</td>\n",
              "      <td>6.837431</td>\n",
              "      <td>63.590530</td>\n",
              "      <td>150</td>\n",
              "    </tr>\n",
              "    <tr>\n",
              "      <th>165</th>\n",
              "      <td>62.489964</td>\n",
              "      <td>6.798868</td>\n",
              "      <td>62.489956</td>\n",
              "      <td>63.578611</td>\n",
              "      <td>6.835160</td>\n",
              "      <td>63.578613</td>\n",
              "      <td>165</td>\n",
              "    </tr>\n",
              "    <tr>\n",
              "      <th>180</th>\n",
              "      <td>62.492548</td>\n",
              "      <td>6.801926</td>\n",
              "      <td>62.492558</td>\n",
              "      <td>63.591500</td>\n",
              "      <td>6.837615</td>\n",
              "      <td>63.591503</td>\n",
              "      <td>180</td>\n",
              "    </tr>\n",
              "    <tr>\n",
              "      <th>195</th>\n",
              "      <td>62.492482</td>\n",
              "      <td>6.799209</td>\n",
              "      <td>62.492485</td>\n",
              "      <td>63.616748</td>\n",
              "      <td>6.842307</td>\n",
              "      <td>63.616749</td>\n",
              "      <td>195</td>\n",
              "    </tr>\n",
              "    <tr>\n",
              "      <th>210</th>\n",
              "      <td>62.490085</td>\n",
              "      <td>6.796668</td>\n",
              "      <td>62.490078</td>\n",
              "      <td>63.604848</td>\n",
              "      <td>6.840115</td>\n",
              "      <td>63.604843</td>\n",
              "      <td>210</td>\n",
              "    </tr>\n",
              "    <tr>\n",
              "      <th>225</th>\n",
              "      <td>62.490872</td>\n",
              "      <td>6.794929</td>\n",
              "      <td>62.490868</td>\n",
              "      <td>63.578325</td>\n",
              "      <td>6.835104</td>\n",
              "      <td>63.578323</td>\n",
              "      <td>225</td>\n",
              "    </tr>\n",
              "    <tr>\n",
              "      <th>240</th>\n",
              "      <td>62.489029</td>\n",
              "      <td>6.798164</td>\n",
              "      <td>62.489033</td>\n",
              "      <td>63.602755</td>\n",
              "      <td>6.839725</td>\n",
              "      <td>63.602749</td>\n",
              "      <td>240</td>\n",
              "    </tr>\n",
              "    <tr>\n",
              "      <th>255</th>\n",
              "      <td>62.490720</td>\n",
              "      <td>6.796967</td>\n",
              "      <td>62.490715</td>\n",
              "      <td>63.589454</td>\n",
              "      <td>6.837229</td>\n",
              "      <td>63.589458</td>\n",
              "      <td>255</td>\n",
              "    </tr>\n",
              "    <tr>\n",
              "      <th>270</th>\n",
              "      <td>62.489295</td>\n",
              "      <td>6.800268</td>\n",
              "      <td>62.489311</td>\n",
              "      <td>63.577453</td>\n",
              "      <td>6.834937</td>\n",
              "      <td>63.577450</td>\n",
              "      <td>270</td>\n",
              "    </tr>\n",
              "    <tr>\n",
              "      <th>285</th>\n",
              "      <td>62.490339</td>\n",
              "      <td>6.798591</td>\n",
              "      <td>62.490337</td>\n",
              "      <td>63.599748</td>\n",
              "      <td>6.839164</td>\n",
              "      <td>63.599758</td>\n",
              "      <td>285</td>\n",
              "    </tr>\n",
              "  </tbody>\n",
              "</table>\n",
              "</div>"
            ],
            "text/plain": [
              "           loss        mae         mse  ...    val_mae     val_mse  epoch\n",
              "0    701.679684  23.187647  701.679565  ...  21.222914  513.628174      0\n",
              "15   259.168029  14.065082  259.168030  ...  13.221562  236.299011     15\n",
              "30   115.036977   8.270205  115.036949  ...   7.685324  104.601898     30\n",
              "45    67.944115   6.664796   67.944122  ...   6.509649   65.785164     45\n",
              "60    62.543283   6.769205   62.543289  ...   6.793023   63.389080     60\n",
              "75    62.488228   6.799820   62.488224  ...   6.837893   63.592972     75\n",
              "90    62.490501   6.796277   62.490505  ...   6.838640   63.596947     90\n",
              "105   62.488393   6.798083   62.488388  ...   6.840079   63.604660    105\n",
              "120   62.491841   6.802834   62.491844  ...   6.840430   63.606548    120\n",
              "135   62.489445   6.800250   62.489460  ...   6.839149   63.599659    135\n",
              "150   62.491254   6.795313   62.491261  ...   6.837431   63.590530    150\n",
              "165   62.489964   6.798868   62.489956  ...   6.835160   63.578613    165\n",
              "180   62.492548   6.801926   62.492558  ...   6.837615   63.591503    180\n",
              "195   62.492482   6.799209   62.492485  ...   6.842307   63.616749    195\n",
              "210   62.490085   6.796668   62.490078  ...   6.840115   63.604843    210\n",
              "225   62.490872   6.794929   62.490868  ...   6.835104   63.578323    225\n",
              "240   62.489029   6.798164   62.489033  ...   6.839725   63.602749    240\n",
              "255   62.490720   6.796967   62.490715  ...   6.837229   63.589458    255\n",
              "270   62.489295   6.800268   62.489311  ...   6.834937   63.577450    270\n",
              "285   62.490339   6.798591   62.490337  ...   6.839164   63.599758    285\n",
              "\n",
              "[20 rows x 7 columns]"
            ]
          },
          "metadata": {
            "tags": []
          },
          "execution_count": 130
        }
      ]
    },
    {
      "cell_type": "code",
      "metadata": {
        "id": "5STN5MutNyzP",
        "colab_type": "code",
        "colab": {}
      },
      "source": [
        "def plot_history(history, ylim_mae=False, ylim_mse=False):\n",
        "    hist = pd.DataFrame(history.history)\n",
        "    hist['epoch'] = history.epoch\n",
        "\n",
        "    plt.figure(figsize=(20,6))\n",
        "\n",
        "    plt.subplot(1,2,1)\n",
        "    plt.xlabel('Epoch')\n",
        "    plt.ylabel('Mean Abs Error [Y]]')\n",
        "    plt.plot(hist['epoch'], hist['mae'],\n",
        "            label='Train Error')\n",
        "    plt.plot(hist['epoch'], hist['val_mae'],\n",
        "            label = 'Val Error')\n",
        "    if ylim_mae: \n",
        "        plt.ylim(ylim_mae)\n",
        "    else:\n",
        "        plt.ylim([0,5])\n",
        "    plt.legend()\n",
        "\n",
        "    plt.subplot(1,2,2)\n",
        "    plt.xlabel('Epoch')\n",
        "    plt.ylabel('Mean Square Error [$Y^2$]')\n",
        "    plt.plot(hist['epoch'], hist['mse'], label='Train Error')\n",
        "    plt.plot(hist['epoch'], hist['val_mse'], label = 'Val Error')\n",
        "    if ylim_mse: \n",
        "        plt.ylim(ylim_mse)\n",
        "    else:\n",
        "        plt.ylim([0,20])\n",
        "    plt.legend()\n",
        "    plt.show()\n"
      ],
      "execution_count": 0,
      "outputs": []
    },
    {
      "cell_type": "code",
      "metadata": {
        "id": "YvG-9__tkyQz",
        "colab_type": "code",
        "outputId": "c4d78055-edca-4c78-e3d9-42b88298ab27",
        "colab": {
          "base_uri": "https://localhost:8080/",
          "height": 412
        }
      },
      "source": [
        "plot_history(history,(0, 10), (0,200))"
      ],
      "execution_count": 133,
      "outputs": [
        {
          "output_type": "display_data",
          "data": {
            "image/png": "[encoded data removed]",
            "text/plain": [
              "<Figure size 1440x432 with 2 Axes>"
            ]
          },
          "metadata": {
            "tags": []
          }
        }
      ]
    },
    {
      "cell_type": "code",
      "metadata": {
        "id": "22KwMCaamGKW",
        "colab_type": "code",
        "colab": {
          "base_uri": "https://localhost:8080/",
          "height": 52
        },
        "outputId": "d7ed8c3f-b0d8-41c5-8487-9de6838b04b3"
      },
      "source": [
        "!ls {checkpoint_dir}\n"
      ],
      "execution_count": 134,
      "outputs": [
        {
          "output_type": "stream",
          "text": [
            "checkpoint\t\t     cp.ckpt.data-00001-of-00002\n",
            "cp.ckpt.data-00000-of-00002  cp.ckpt.index\n"
          ],
          "name": "stdout"
        }
      ]
    },
    {
      "cell_type": "markdown",
      "metadata": {
        "id": "xUFEYL8Lntv2",
        "colab_type": "text"
      },
      "source": [
        "### finetuning"
      ]
    },
    {
      "cell_type": "code",
      "metadata": {
        "id": "YslTMZvp8Z_g",
        "colab_type": "code",
        "colab": {
          "base_uri": "https://localhost:8080/",
          "height": 34
        },
        "outputId": "5e15d2c7-6046-4042-8979-9593ae0eb26f"
      },
      "source": [
        "!rm \"./checkpoints/training1_finetune/*\""
      ],
      "execution_count": 144,
      "outputs": [
        {
          "output_type": "stream",
          "text": [
            "rm: cannot remove './checkpoints/training1_finetune/*': No such file or directory\n"
          ],
          "name": "stdout"
        }
      ]
    },
    {
      "cell_type": "code",
      "metadata": {
        "id": "AGBGRMnPuqZJ",
        "colab_type": "code",
        "colab": {
          "base_uri": "https://localhost:8080/",
          "height": 69
        },
        "outputId": "a662efd8-0d04-462d-ac08-229a3a2c9c0c"
      },
      "source": [
        "model = create_model()"
      ],
      "execution_count": 145,
      "outputs": [
        {
          "output_type": "stream",
          "text": [
            "Executing op RandomUniform in device /job:localhost/replica:0/task:0/device:GPU:0\n",
            "Executing op RandomUniform in device /job:localhost/replica:0/task:0/device:GPU:0\n",
            "Executing op RandomUniform in device /job:localhost/replica:0/task:0/device:GPU:0\n"
          ],
          "name": "stdout"
        }
      ]
    },
    {
      "cell_type": "code",
      "metadata": {
        "id": "n2WNjla00GEN",
        "colab_type": "code",
        "colab": {
          "base_uri": "https://localhost:8080/",
          "height": 34
        },
        "outputId": "8b537c79-ee98-4ed1-e368-f12757675296"
      },
      "source": [
        "# Include the epoch in the file name (uses `str.format`)\n",
        "checkpoint_model = '{:04d}'.format(1) \n",
        "checkpoint_path = \"./checkpoints/training1_finetune/cp-\" + checkpoint_model +\".ckpt\"\n",
        "checkpoint_dir = os.path.dirname(checkpoint_path)\n",
        "checkpoint_path"
      ],
      "execution_count": 146,
      "outputs": [
        {
          "output_type": "execute_result",
          "data": {
            "text/plain": [
              "'./checkpoints/training1_finetune/cp-0001.ckpt'"
            ]
          },
          "metadata": {
            "tags": []
          },
          "execution_count": 146
        }
      ]
    },
    {
      "cell_type": "code",
      "metadata": {
        "id": "LZKcf_8iuqgZ",
        "colab_type": "code",
        "colab": {
          "base_uri": "https://localhost:8080/",
          "height": 610
        },
        "outputId": "fe2a2bd8-c269-4394-de5d-2e5453568a4b"
      },
      "source": [
        "# Create a callback that saves the model's weights every 5 epochs\n",
        "cp_callback = tf.keras.callbacks.ModelCheckpoint(\n",
        "    filepath=checkpoint_path, \n",
        "    verbose=1, \n",
        "    save_weights_only=True,\n",
        "    period=5)\n",
        "\n",
        "# Create a new model instance\n",
        "model = create_model()\n",
        "\n",
        "# Save the weights using the `checkpoint_path` format\n",
        "model.save_weights(checkpoint_path.format(epoch=0))\n",
        "\n",
        "# Train the model with the new callback\n",
        "history2= model.fit(train_dataset_ft, \n",
        "          train_labels_ft,\n",
        "          epochs=50, \n",
        "          callbacks=[cp_callback],\n",
        "          validation_data=(test_dataset_ft,test_labels_ft),\n",
        "          verbose=0)\n"
      ],
      "execution_count": 147,
      "outputs": [
        {
          "output_type": "stream",
          "text": [
            "WARNING:tensorflow:`period` argument is deprecated. Please use `save_freq` to specify the frequency in number of samples seen.\n",
            "Executing op RandomUniform in device /job:localhost/replica:0/task:0/device:GPU:0\n",
            "Executing op RandomUniform in device /job:localhost/replica:0/task:0/device:GPU:0\n",
            "Executing op RandomUniform in device /job:localhost/replica:0/task:0/device:GPU:0\n",
            "WARNING:tensorflow:Falling back from v2 loop because of error: Failed to find data adapter that can handle input: <class 'pandas.core.frame.DataFrame'>, <class 'NoneType'>\n",
            "WARNING:tensorflow:Unresolved object in checkpoint: (root).optimizer.iter\n",
            "WARNING:tensorflow:Unresolved object in checkpoint: (root).optimizer.beta_1\n",
            "WARNING:tensorflow:Unresolved object in checkpoint: (root).optimizer.beta_2\n",
            "WARNING:tensorflow:Unresolved object in checkpoint: (root).optimizer.decay\n",
            "WARNING:tensorflow:Unresolved object in checkpoint: (root).optimizer.learning_rate\n",
            "WARNING:tensorflow:A checkpoint was restored (e.g. tf.train.Checkpoint.restore or tf.keras.Model.load_weights) but not all checkpointed values were used. See above for specific issues. Use expect_partial() on the load status object, e.g. tf.train.Checkpoint.restore(...).expect_partial(), to silence these warnings, or use assert_consumed() to make the check explicit. See https://www.tensorflow.org/alpha/guide/checkpoints#loading_mechanics for details.\n",
            "Executing op __inference_keras_scratch_graph_1110222 in device /job:localhost/replica:0/task:0/device:GPU:0\n",
            "Executing op __inference_keras_scratch_graph_1110377 in device /job:localhost/replica:0/task:0/device:GPU:0\n",
            "\n",
            "Epoch 00005: saving model to ./checkpoints/training1_finetune/cp-0001.ckpt\n",
            "\n",
            "Epoch 00010: saving model to ./checkpoints/training1_finetune/cp-0001.ckpt\n",
            "\n",
            "Epoch 00015: saving model to ./checkpoints/training1_finetune/cp-0001.ckpt\n",
            "\n",
            "Epoch 00020: saving model to ./checkpoints/training1_finetune/cp-0001.ckpt\n",
            "\n",
            "Epoch 00025: saving model to ./checkpoints/training1_finetune/cp-0001.ckpt\n",
            "\n",
            "Epoch 00030: saving model to ./checkpoints/training1_finetune/cp-0001.ckpt\n",
            "\n",
            "Epoch 00035: saving model to ./checkpoints/training1_finetune/cp-0001.ckpt\n",
            "\n",
            "Epoch 00040: saving model to ./checkpoints/training1_finetune/cp-0001.ckpt\n",
            "\n",
            "Epoch 00045: saving model to ./checkpoints/training1_finetune/cp-0001.ckpt\n",
            "\n",
            "Epoch 00050: saving model to ./checkpoints/training1_finetune/cp-0001.ckpt\n"
          ],
          "name": "stdout"
        }
      ]
    },
    {
      "cell_type": "code",
      "metadata": {
        "id": "oAvLDEg4BVk-",
        "colab_type": "code",
        "colab": {
          "base_uri": "https://localhost:8080/",
          "height": 175
        },
        "outputId": "867bc5eb-92ac-4445-921c-41afbf40d860"
      },
      "source": [
        "hist2 = pd.DataFrame(history2.history)\n",
        "hist2['epoch'] = history2.epoch\n",
        "hist2[::EPOCHS//20]"
      ],
      "execution_count": 148,
      "outputs": [
        {
          "output_type": "execute_result",
          "data": {
            "text/html": [
              "<div>\n",
              "<style scoped>\n",
              "    .dataframe tbody tr th:only-of-type {\n",
              "        vertical-align: middle;\n",
              "    }\n",
              "\n",
              "    .dataframe tbody tr th {\n",
              "        vertical-align: top;\n",
              "    }\n",
              "\n",
              "    .dataframe thead th {\n",
              "        text-align: right;\n",
              "    }\n",
              "</style>\n",
              "<table border=\"1\" class=\"dataframe\">\n",
              "  <thead>\n",
              "    <tr style=\"text-align: right;\">\n",
              "      <th></th>\n",
              "      <th>loss</th>\n",
              "      <th>mae</th>\n",
              "      <th>mse</th>\n",
              "      <th>val_loss</th>\n",
              "      <th>val_mae</th>\n",
              "      <th>val_mse</th>\n",
              "      <th>epoch</th>\n",
              "    </tr>\n",
              "  </thead>\n",
              "  <tbody>\n",
              "    <tr>\n",
              "      <th>0</th>\n",
              "      <td>407603.953908</td>\n",
              "      <td>597.584229</td>\n",
              "      <td>407604.000000</td>\n",
              "      <td>95102.535610</td>\n",
              "      <td>305.192017</td>\n",
              "      <td>95102.531250</td>\n",
              "      <td>0</td>\n",
              "    </tr>\n",
              "    <tr>\n",
              "      <th>15</th>\n",
              "      <td>745.698429</td>\n",
              "      <td>26.554605</td>\n",
              "      <td>745.698425</td>\n",
              "      <td>685.391059</td>\n",
              "      <td>25.629814</td>\n",
              "      <td>685.391052</td>\n",
              "      <td>15</td>\n",
              "    </tr>\n",
              "    <tr>\n",
              "      <th>30</th>\n",
              "      <td>734.997009</td>\n",
              "      <td>26.352335</td>\n",
              "      <td>734.997009</td>\n",
              "      <td>674.928780</td>\n",
              "      <td>25.424887</td>\n",
              "      <td>674.928772</td>\n",
              "      <td>30</td>\n",
              "    </tr>\n",
              "    <tr>\n",
              "      <th>45</th>\n",
              "      <td>720.958597</td>\n",
              "      <td>26.084497</td>\n",
              "      <td>720.958618</td>\n",
              "      <td>661.262262</td>\n",
              "      <td>25.154694</td>\n",
              "      <td>661.262268</td>\n",
              "      <td>45</td>\n",
              "    </tr>\n",
              "  </tbody>\n",
              "</table>\n",
              "</div>"
            ],
            "text/plain": [
              "             loss         mae            mse  ...     val_mae       val_mse  epoch\n",
              "0   407603.953908  597.584229  407604.000000  ...  305.192017  95102.531250      0\n",
              "15     745.698429   26.554605     745.698425  ...   25.629814    685.391052     15\n",
              "30     734.997009   26.352335     734.997009  ...   25.424887    674.928772     30\n",
              "45     720.958597   26.084497     720.958618  ...   25.154694    661.262268     45\n",
              "\n",
              "[4 rows x 7 columns]"
            ]
          },
          "metadata": {
            "tags": []
          },
          "execution_count": 148
        }
      ]
    },
    {
      "cell_type": "code",
      "metadata": {
        "id": "p-rBrL4WBVoi",
        "colab_type": "code",
        "colab": {
          "base_uri": "https://localhost:8080/",
          "height": 412
        },
        "outputId": "e55615e5-d45f-437a-fda5-1dcc9ab4e498"
      },
      "source": [
        "plot_history(history2,(0, 40), (0,1000))"
      ],
      "execution_count": 151,
      "outputs": [
        {
          "output_type": "display_data",
          "data": {
            "image/png": "[encoded data removed]",
            "text/plain": [
              "<Figure size 1440x432 with 2 Axes>"
            ]
          },
          "metadata": {
            "tags": []
          }
        }
      ]
    },
    {
      "cell_type": "code",
      "metadata": {
        "id": "1uWyl-1JwHzK",
        "colab_type": "code",
        "colab": {
          "base_uri": "https://localhost:8080/",
          "height": 86
        },
        "outputId": "66aed8bb-c4a9-4abf-dfdd-3e68feee3831"
      },
      "source": [
        "!ls {checkpoint_dir}"
      ],
      "execution_count": 152,
      "outputs": [
        {
          "output_type": "stream",
          "text": [
            "checkpoint\t\t\t  cp-0001.ckpt.data-00000-of-00002\n",
            "cp-0000.ckpt.data-00000-of-00002  cp-0001.ckpt.data-00001-of-00002\n",
            "cp-0000.ckpt.data-00001-of-00002  cp-0001.ckpt.index\n",
            "cp-0000.ckpt.index\n"
          ],
          "name": "stdout"
        }
      ]
    },
    {
      "cell_type": "code",
      "metadata": {
        "id": "9Z50a0-bwKI2",
        "colab_type": "code",
        "colab": {
          "base_uri": "https://localhost:8080/",
          "height": 34
        },
        "outputId": "76fd9518-ce6a-494f-9fa8-89cdfa02f5d2"
      },
      "source": [
        "latest = tf.train.latest_checkpoint(checkpoint_dir)\n",
        "latest"
      ],
      "execution_count": 153,
      "outputs": [
        {
          "output_type": "execute_result",
          "data": {
            "text/plain": [
              "'./checkpoints/training1_finetune/cp-0001.ckpt'"
            ]
          },
          "metadata": {
            "tags": []
          },
          "execution_count": 153
        }
      ]
    },
    {
      "cell_type": "markdown",
      "metadata": {
        "id": "tYN59fXxxbWK",
        "colab_type": "text"
      },
      "source": [
        "### predict"
      ]
    },
    {
      "cell_type": "code",
      "metadata": {
        "colab_type": "code",
        "outputId": "fc077c41-1512-4be1-e185-b86748e0a5f5",
        "id": "V1d32bOl1S7v",
        "colab": {
          "base_uri": "https://localhost:8080/",
          "height": 124
        }
      },
      "source": [
        "# Create a new model instance\n",
        "model = create_model()\n",
        "\n",
        "# Load the previously saved weights\n",
        "model.load_weights(latest)\n",
        "\n",
        "# predict \n",
        "test_predictions = model.predict(df_test[x_col]).flatten()"
      ],
      "execution_count": 154,
      "outputs": [
        {
          "output_type": "stream",
          "text": [
            "Executing op RandomUniform in device /job:localhost/replica:0/task:0/device:GPU:0\n",
            "Executing op RandomUniform in device /job:localhost/replica:0/task:0/device:GPU:0\n",
            "Executing op RandomUniform in device /job:localhost/replica:0/task:0/device:GPU:0\n",
            "WARNING:tensorflow:Falling back from v2 loop because of error: Failed to find data adapter that can handle input: <class 'pandas.core.frame.DataFrame'>, <class 'NoneType'>\n",
            "Executing op __inference_keras_scratch_graph_1116014 in device /job:localhost/replica:0/task:0/device:GPU:0\n"
          ],
          "name": "stdout"
        }
      ]
    },
    {
      "cell_type": "code",
      "metadata": {
        "id": "V4hPBeKZ3elK",
        "colab_type": "code",
        "colab": {}
      },
      "source": [
        "# 제출 파일 만들기\n",
        "submit = pd.DataFrame({'id':range(144*33, 144*113),\n",
        "              'Y18':test_predictions.reshape(1,-1)[0]})"
      ],
      "execution_count": 0,
      "outputs": []
    },
    {
      "cell_type": "code",
      "metadata": {
        "id": "4LcyHw2n3gId",
        "colab_type": "code",
        "colab": {}
      },
      "source": [
        "now = datetime.now()\n",
        "now =now.strftime('%m%d_%H%M')\n",
        "submit.to_csv('./results/linear_'+ now +'.csv', index = False)"
      ],
      "execution_count": 0,
      "outputs": []
    },
    {
      "cell_type": "code",
      "metadata": {
        "id": "Wd3myaB_3wYB",
        "colab_type": "code",
        "colab": {}
      },
      "source": [
        ""
      ],
      "execution_count": 0,
      "outputs": []
    },
    {
      "cell_type": "markdown",
      "metadata": {
        "colab_type": "text",
        "id": "rtLKSo3h6oKj"
      },
      "source": [
        "## model2"
      ]
    },
    {
      "cell_type": "markdown",
      "metadata": {
        "colab_type": "text",
        "id": "y0dNXmvm6oLB"
      },
      "source": [
        "#### Build the model"
      ]
    },
    {
      "cell_type": "code",
      "metadata": {
        "colab_type": "code",
        "id": "dPKp97Or6oLK",
        "colab": {}
      },
      "source": [
        "def create_model():\n",
        "    model = keras.Sequential([\n",
        "            layers.Dense(1, activation='linear', input_shape=[1]),\n",
        "            #layers.Dense(2, activation='relu'),\n",
        "            #layers.Dense(1)\n",
        "    ])\n",
        "    optimizer = tf.keras.optimizers.RMSprop(0.005)\n",
        "    model.compile(loss='mse',\n",
        "                  optimizer=optimizer,\n",
        "                  metrics=['mae', 'mse'])\n",
        "    return model"
      ],
      "execution_count": 0,
      "outputs": []
    },
    {
      "cell_type": "code",
      "metadata": {
        "colab_type": "code",
        "id": "vVkZDcZI6oLY",
        "colab": {}
      },
      "source": [
        "model2 = create_model()"
      ],
      "execution_count": 0,
      "outputs": []
    },
    {
      "cell_type": "markdown",
      "metadata": {
        "colab_type": "text",
        "id": "mtt-14v36oLh"
      },
      "source": [
        "#### Inspect the model"
      ]
    },
    {
      "cell_type": "code",
      "metadata": {
        "colab_type": "code",
        "id": "nHxmZLN66oLj",
        "colab": {}
      },
      "source": [
        "model2.summary()"
      ],
      "execution_count": 0,
      "outputs": []
    },
    {
      "cell_type": "code",
      "metadata": {
        "colab_type": "code",
        "id": "LkCqu1St6oLr",
        "colab": {}
      },
      "source": [
        "example_batch = test_predictions[:10]\n",
        "example_result = model2.predict(example_batch)\n",
        "example_result"
      ],
      "execution_count": 0,
      "outputs": []
    },
    {
      "cell_type": "markdown",
      "metadata": {
        "colab_type": "text",
        "id": "VbDVQO5t6oLy"
      },
      "source": [
        "#### Train the model"
      ]
    },
    {
      "cell_type": "code",
      "metadata": {
        "colab_type": "code",
        "id": "6tt51Un_6oLz",
        "colab": {}
      },
      "source": [
        "EPOCHS = 40\n",
        "## model1를 이용해 Yi를 예측한 결과를 train data로 이용\n",
        "## Y18을 test data로 함\n",
        "tmp_features =  model.predict(df[x_col][n:n+n//10])\n",
        "tmp_labels = np.array(df['Y18'][n:n+n//10])\n",
        "\n",
        "history = model2.fit(\n",
        "  tmp_features, tmp_labels,\n",
        "  epochs=EPOCHS, validation_split = 0.1, verbose=0,\n",
        "  callbacks=[PrintDot()])"
      ],
      "execution_count": 0,
      "outputs": []
    },
    {
      "cell_type": "code",
      "metadata": {
        "colab_type": "code",
        "outputId": "5f02d042-cac1-4087-b051-53c406420762",
        "id": "wwxKEtPo6oL5",
        "colab": {
          "base_uri": "https://localhost:8080/",
          "height": 206
        }
      },
      "source": [
        "hist = pd.DataFrame(history.history)\n",
        "hist['epoch'] = history.epoch\n",
        "hist.tail()"
      ],
      "execution_count": 70,
      "outputs": [
        {
          "output_type": "execute_result",
          "data": {
            "text/html": [
              "<div>\n",
              "<style scoped>\n",
              "    .dataframe tbody tr th:only-of-type {\n",
              "        vertical-align: middle;\n",
              "    }\n",
              "\n",
              "    .dataframe tbody tr th {\n",
              "        vertical-align: top;\n",
              "    }\n",
              "\n",
              "    .dataframe thead th {\n",
              "        text-align: right;\n",
              "    }\n",
              "</style>\n",
              "<table border=\"1\" class=\"dataframe\">\n",
              "  <thead>\n",
              "    <tr style=\"text-align: right;\">\n",
              "      <th></th>\n",
              "      <th>loss</th>\n",
              "      <th>mae</th>\n",
              "      <th>mse</th>\n",
              "      <th>val_loss</th>\n",
              "      <th>val_mae</th>\n",
              "      <th>val_mse</th>\n",
              "      <th>epoch</th>\n",
              "    </tr>\n",
              "  </thead>\n",
              "  <tbody>\n",
              "    <tr>\n",
              "      <th>995</th>\n",
              "      <td>1.870602</td>\n",
              "      <td>1.017649</td>\n",
              "      <td>1.870602</td>\n",
              "      <td>10.506365</td>\n",
              "      <td>2.960779</td>\n",
              "      <td>10.506364</td>\n",
              "      <td>995</td>\n",
              "    </tr>\n",
              "    <tr>\n",
              "      <th>996</th>\n",
              "      <td>2.421455</td>\n",
              "      <td>1.204670</td>\n",
              "      <td>2.421455</td>\n",
              "      <td>2.156834</td>\n",
              "      <td>1.108698</td>\n",
              "      <td>2.156834</td>\n",
              "      <td>996</td>\n",
              "    </tr>\n",
              "    <tr>\n",
              "      <th>997</th>\n",
              "      <td>3.131289</td>\n",
              "      <td>1.452265</td>\n",
              "      <td>3.131289</td>\n",
              "      <td>2.607980</td>\n",
              "      <td>1.245751</td>\n",
              "      <td>2.607980</td>\n",
              "      <td>997</td>\n",
              "    </tr>\n",
              "    <tr>\n",
              "      <th>998</th>\n",
              "      <td>1.917656</td>\n",
              "      <td>1.057444</td>\n",
              "      <td>1.917656</td>\n",
              "      <td>2.731777</td>\n",
              "      <td>1.320275</td>\n",
              "      <td>2.731776</td>\n",
              "      <td>998</td>\n",
              "    </tr>\n",
              "    <tr>\n",
              "      <th>999</th>\n",
              "      <td>3.932098</td>\n",
              "      <td>1.540791</td>\n",
              "      <td>3.932097</td>\n",
              "      <td>1.783245</td>\n",
              "      <td>0.955747</td>\n",
              "      <td>1.783245</td>\n",
              "      <td>999</td>\n",
              "    </tr>\n",
              "  </tbody>\n",
              "</table>\n",
              "</div>"
            ],
            "text/plain": [
              "         loss       mae       mse   val_loss   val_mae    val_mse  epoch\n",
              "995  1.870602  1.017649  1.870602  10.506365  2.960779  10.506364    995\n",
              "996  2.421455  1.204670  2.421455   2.156834  1.108698   2.156834    996\n",
              "997  3.131289  1.452265  3.131289   2.607980  1.245751   2.607980    997\n",
              "998  1.917656  1.057444  1.917656   2.731777  1.320275   2.731776    998\n",
              "999  3.932098  1.540791  3.932097   1.783245  0.955747   1.783245    999"
            ]
          },
          "metadata": {
            "tags": []
          },
          "execution_count": 70
        }
      ]
    },
    {
      "cell_type": "code",
      "metadata": {
        "id": "83WP5HS4C00g",
        "colab_type": "code",
        "outputId": "f6613e08-79ca-4daa-e40e-5bad7c35d974",
        "colab": {
          "base_uri": "https://localhost:8080/",
          "height": 412
        }
      },
      "source": [
        "plot_history(history, ylim_mae=(0, 5), ylim_mse=(0, 50))"
      ],
      "execution_count": 75,
      "outputs": [
        {
          "output_type": "display_data",
          "data": {
            "image/png": "[encoded data removed]",
            "text/plain": [
              "<Figure size 1440x432 with 2 Axes>"
            ]
          },
          "metadata": {
            "tags": []
          }
        }
      ]
    },
    {
      "cell_type": "markdown",
      "metadata": {
        "colab_type": "text",
        "id": "JHOm0kuk60fB"
      },
      "source": [
        "### Make predictions"
      ]
    },
    {
      "cell_type": "markdown",
      "metadata": {
        "colab_type": "text",
        "id": "9iDQ8uUr60f0"
      },
      "source": [
        "#### 80일 예측 "
      ]
    },
    {
      "cell_type": "code",
      "metadata": {
        "colab_type": "code",
        "outputId": "7a8ef315-c8aa-43f7-b422-c2a0770853d2",
        "id": "rA37lC_P60f3",
        "colab": {
          "base_uri": "https://localhost:8080/",
          "height": 332
        }
      },
      "source": [
        "test_predictions1 = model.predict(df_test[feat_temp])\n",
        "test_predictions2 = model2.predict(test_predictions1)"
      ],
      "execution_count": 0,
      "outputs": [
        {
          "output_type": "stream",
          "text": [
            "WARNING:tensorflow:Falling back from v2 loop because of error: Failed to find data adapter that can handle input: <class 'pandas.core.frame.DataFrame'>, <class 'NoneType'>\n",
            "Executing op AssignVariableOp in device /job:localhost/replica:0/task:0/device:GPU:0\n",
            "Executing op __inference_keras_scratch_graph_307564 in device /job:localhost/replica:0/task:0/device:GPU:0\n",
            "Executing op RangeDataset in device /job:localhost/replica:0/task:0/device:CPU:0\n",
            "Executing op RepeatDataset in device /job:localhost/replica:0/task:0/device:CPU:0\n",
            "Executing op MapDataset in device /job:localhost/replica:0/task:0/device:CPU:0\n",
            "Executing op PrefetchDataset in device /job:localhost/replica:0/task:0/device:CPU:0\n",
            "Executing op FlatMapDataset in device /job:localhost/replica:0/task:0/device:CPU:0\n",
            "Executing op TensorDataset in device /job:localhost/replica:0/task:0/device:CPU:0\n",
            "Executing op RepeatDataset in device /job:localhost/replica:0/task:0/device:CPU:0\n",
            "Executing op ZipDataset in device /job:localhost/replica:0/task:0/device:CPU:0\n",
            "Executing op ParallelMapDataset in device /job:localhost/replica:0/task:0/device:CPU:0\n",
            "Executing op ModelDataset in device /job:localhost/replica:0/task:0/device:CPU:0\n",
            "Executing op AnonymousIteratorV2 in device /job:localhost/replica:0/task:0/device:CPU:0\n",
            "Executing op MakeIterator in device /job:localhost/replica:0/task:0/device:CPU:0\n",
            "Executing op __inference_distributed_function_450293 in device /job:localhost/replica:0/task:0/device:GPU:0\n",
            "Executing op DeleteIterator in device /job:localhost/replica:0/task:0/device:CPU:0\n"
          ],
          "name": "stdout"
        }
      ]
    },
    {
      "cell_type": "code",
      "metadata": {
        "colab_type": "code",
        "id": "gOauaQgJ60f8",
        "colab": {}
      },
      "source": [
        "# 제출 파일 만들기\n",
        "submit = pd.DataFrame({'id':range(144*33, 144*113),\n",
        "              'Y18':test_predictions2.reshape(1,-1)[0]})"
      ],
      "execution_count": 0,
      "outputs": []
    },
    {
      "cell_type": "code",
      "metadata": {
        "colab_type": "code",
        "id": "5R7fDVnD60gB",
        "colab": {}
      },
      "source": [
        "submit.to_csv('baseline_result_2.csv', index = False)"
      ],
      "execution_count": 0,
      "outputs": []
    },
    {
      "cell_type": "code",
      "metadata": {
        "id": "4U_EiB8WboBy",
        "colab_type": "code",
        "colab": {}
      },
      "source": [
        ""
      ],
      "execution_count": 0,
      "outputs": []
    }
  ]
}