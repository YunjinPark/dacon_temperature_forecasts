{
  "nbformat": 4,
  "nbformat_minor": 0,
  "metadata": {
    "colab": {
      "name": "eda.ipynb",
      "provenance": [],
      "collapsed_sections": [],
      "toc_visible": true
    },
    "kernelspec": {
      "name": "python3",
      "display_name": "Python 3"
    },
    "accelerator": "GPU"
  },
  "cells": [
    {
      "cell_type": "code",
      "metadata": {
        "id": "GyZEIHm2bJZT",
        "colab_type": "code",
        "outputId": "e70059cd-aacf-4b48-df98-0229941e08c9",
        "colab": {
          "base_uri": "https://localhost:8080/",
          "height": 940
        }
      },
      "source": [
        "#!pip install tensorflow==2.0.0\n",
        "!pip install tensorflow-gpu==2.0.0"
      ],
      "execution_count": 1,
      "outputs": [
        {
          "output_type": "stream",
          "text": [
            "Collecting tensorflow-gpu==2.0.0\n",
            "\u001b[?25l  Downloading https://files.pythonhosted.org/packages/25/44/47f0722aea081697143fbcf5d2aa60d1aee4aaacb5869aee2b568974777b/tensorflow_gpu-2.0.0-cp36-cp36m-manylinux2010_x86_64.whl (380.8MB)\n",
            "\u001b[K     |████████████████████████████████| 380.8MB 44kB/s \n",
            "\u001b[?25hRequirement already satisfied: astor>=0.6.0 in /usr/local/lib/python3.6/dist-packages (from tensorflow-gpu==2.0.0) (0.8.1)\n",
            "Requirement already satisfied: wrapt>=1.11.1 in /usr/local/lib/python3.6/dist-packages (from tensorflow-gpu==2.0.0) (1.12.1)\n",
            "Requirement already satisfied: gast==0.2.2 in /usr/local/lib/python3.6/dist-packages (from tensorflow-gpu==2.0.0) (0.2.2)\n",
            "Requirement already satisfied: keras-preprocessing>=1.0.5 in /usr/local/lib/python3.6/dist-packages (from tensorflow-gpu==2.0.0) (1.1.0)\n",
            "Requirement already satisfied: google-pasta>=0.1.6 in /usr/local/lib/python3.6/dist-packages (from tensorflow-gpu==2.0.0) (0.1.8)\n",
            "Requirement already satisfied: six>=1.10.0 in /usr/local/lib/python3.6/dist-packages (from tensorflow-gpu==2.0.0) (1.12.0)\n",
            "Collecting tensorboard<2.1.0,>=2.0.0\n",
            "\u001b[?25l  Downloading https://files.pythonhosted.org/packages/76/54/99b9d5d52d5cb732f099baaaf7740403e83fe6b0cedde940fabd2b13d75a/tensorboard-2.0.2-py3-none-any.whl (3.8MB)\n",
            "\u001b[K     |████████████████████████████████| 3.8MB 39.0MB/s \n",
            "\u001b[?25hRequirement already satisfied: keras-applications>=1.0.8 in /usr/local/lib/python3.6/dist-packages (from tensorflow-gpu==2.0.0) (1.0.8)\n",
            "Collecting tensorflow-estimator<2.1.0,>=2.0.0\n",
            "\u001b[?25l  Downloading https://files.pythonhosted.org/packages/fc/08/8b927337b7019c374719145d1dceba21a8bb909b93b1ad6f8fb7d22c1ca1/tensorflow_estimator-2.0.1-py2.py3-none-any.whl (449kB)\n",
            "\u001b[K     |████████████████████████████████| 450kB 68.9MB/s \n",
            "\u001b[?25hRequirement already satisfied: protobuf>=3.6.1 in /usr/local/lib/python3.6/dist-packages (from tensorflow-gpu==2.0.0) (3.10.0)\n",
            "Requirement already satisfied: termcolor>=1.1.0 in /usr/local/lib/python3.6/dist-packages (from tensorflow-gpu==2.0.0) (1.1.0)\n",
            "Requirement already satisfied: wheel>=0.26 in /usr/local/lib/python3.6/dist-packages (from tensorflow-gpu==2.0.0) (0.34.2)\n",
            "Requirement already satisfied: grpcio>=1.8.6 in /usr/local/lib/python3.6/dist-packages (from tensorflow-gpu==2.0.0) (1.24.3)\n",
            "Requirement already satisfied: opt-einsum>=2.3.2 in /usr/local/lib/python3.6/dist-packages (from tensorflow-gpu==2.0.0) (3.2.0)\n",
            "Requirement already satisfied: absl-py>=0.7.0 in /usr/local/lib/python3.6/dist-packages (from tensorflow-gpu==2.0.0) (0.9.0)\n",
            "Requirement already satisfied: numpy<2.0,>=1.16.0 in /usr/local/lib/python3.6/dist-packages (from tensorflow-gpu==2.0.0) (1.18.1)\n",
            "Requirement already satisfied: google-auth<2,>=1.6.3 in /usr/local/lib/python3.6/dist-packages (from tensorboard<2.1.0,>=2.0.0->tensorflow-gpu==2.0.0) (1.7.2)\n",
            "Requirement already satisfied: google-auth-oauthlib<0.5,>=0.4.1 in /usr/local/lib/python3.6/dist-packages (from tensorboard<2.1.0,>=2.0.0->tensorflow-gpu==2.0.0) (0.4.1)\n",
            "Requirement already satisfied: markdown>=2.6.8 in /usr/local/lib/python3.6/dist-packages (from tensorboard<2.1.0,>=2.0.0->tensorflow-gpu==2.0.0) (3.2.1)\n",
            "Requirement already satisfied: requests<3,>=2.21.0 in /usr/local/lib/python3.6/dist-packages (from tensorboard<2.1.0,>=2.0.0->tensorflow-gpu==2.0.0) (2.21.0)\n",
            "Requirement already satisfied: werkzeug>=0.11.15 in /usr/local/lib/python3.6/dist-packages (from tensorboard<2.1.0,>=2.0.0->tensorflow-gpu==2.0.0) (1.0.0)\n",
            "Requirement already satisfied: setuptools>=41.0.0 in /usr/local/lib/python3.6/dist-packages (from tensorboard<2.1.0,>=2.0.0->tensorflow-gpu==2.0.0) (45.2.0)\n",
            "Requirement already satisfied: h5py in /usr/local/lib/python3.6/dist-packages (from keras-applications>=1.0.8->tensorflow-gpu==2.0.0) (2.8.0)\n",
            "Requirement already satisfied: rsa<4.1,>=3.1.4 in /usr/local/lib/python3.6/dist-packages (from google-auth<2,>=1.6.3->tensorboard<2.1.0,>=2.0.0->tensorflow-gpu==2.0.0) (4.0)\n",
            "Requirement already satisfied: pyasn1-modules>=0.2.1 in /usr/local/lib/python3.6/dist-packages (from google-auth<2,>=1.6.3->tensorboard<2.1.0,>=2.0.0->tensorflow-gpu==2.0.0) (0.2.8)\n",
            "Requirement already satisfied: cachetools<3.2,>=2.0.0 in /usr/local/lib/python3.6/dist-packages (from google-auth<2,>=1.6.3->tensorboard<2.1.0,>=2.0.0->tensorflow-gpu==2.0.0) (3.1.1)\n",
            "Requirement already satisfied: requests-oauthlib>=0.7.0 in /usr/local/lib/python3.6/dist-packages (from google-auth-oauthlib<0.5,>=0.4.1->tensorboard<2.1.0,>=2.0.0->tensorflow-gpu==2.0.0) (1.3.0)\n",
            "Requirement already satisfied: certifi>=2017.4.17 in /usr/local/lib/python3.6/dist-packages (from requests<3,>=2.21.0->tensorboard<2.1.0,>=2.0.0->tensorflow-gpu==2.0.0) (2019.11.28)\n",
            "Requirement already satisfied: urllib3<1.25,>=1.21.1 in /usr/local/lib/python3.6/dist-packages (from requests<3,>=2.21.0->tensorboard<2.1.0,>=2.0.0->tensorflow-gpu==2.0.0) (1.24.3)\n",
            "Requirement already satisfied: chardet<3.1.0,>=3.0.2 in /usr/local/lib/python3.6/dist-packages (from requests<3,>=2.21.0->tensorboard<2.1.0,>=2.0.0->tensorflow-gpu==2.0.0) (3.0.4)\n",
            "Requirement already satisfied: idna<2.9,>=2.5 in /usr/local/lib/python3.6/dist-packages (from requests<3,>=2.21.0->tensorboard<2.1.0,>=2.0.0->tensorflow-gpu==2.0.0) (2.8)\n",
            "Requirement already satisfied: pyasn1>=0.1.3 in /usr/local/lib/python3.6/dist-packages (from rsa<4.1,>=3.1.4->google-auth<2,>=1.6.3->tensorboard<2.1.0,>=2.0.0->tensorflow-gpu==2.0.0) (0.4.8)\n",
            "Requirement already satisfied: oauthlib>=3.0.0 in /usr/local/lib/python3.6/dist-packages (from requests-oauthlib>=0.7.0->google-auth-oauthlib<0.5,>=0.4.1->tensorboard<2.1.0,>=2.0.0->tensorflow-gpu==2.0.0) (3.1.0)\n",
            "\u001b[31mERROR: tensorflow 1.15.0 has requirement tensorboard<1.16.0,>=1.15.0, but you'll have tensorboard 2.0.2 which is incompatible.\u001b[0m\n",
            "\u001b[31mERROR: tensorflow 1.15.0 has requirement tensorflow-estimator==1.15.1, but you'll have tensorflow-estimator 2.0.1 which is incompatible.\u001b[0m\n",
            "\u001b[31mERROR: tensorflow-federated 0.12.0 has requirement tensorflow~=2.1.0, but you'll have tensorflow 1.15.0 which is incompatible.\u001b[0m\n",
            "\u001b[31mERROR: tensorflow-federated 0.12.0 has requirement tensorflow-addons~=0.7.0, but you'll have tensorflow-addons 0.8.3 which is incompatible.\u001b[0m\n",
            "Installing collected packages: tensorboard, tensorflow-estimator, tensorflow-gpu\n",
            "  Found existing installation: tensorboard 1.15.0\n",
            "    Uninstalling tensorboard-1.15.0:\n",
            "      Successfully uninstalled tensorboard-1.15.0\n",
            "  Found existing installation: tensorflow-estimator 1.15.1\n",
            "    Uninstalling tensorflow-estimator-1.15.1:\n",
            "      Successfully uninstalled tensorflow-estimator-1.15.1\n",
            "Successfully installed tensorboard-2.1.1 tensorflow-estimator-2.1.0 tensorflow-gpu-2.0.0\n"
          ],
          "name": "stdout"
        }
      ]
    },
    {
      "cell_type": "code",
      "metadata": {
        "id": "WZgTzkACnHe6",
        "colab_type": "code",
        "colab": {}
      },
      "source": [
        "!pip install -q pyyaml h5py"
      ],
      "execution_count": 0,
      "outputs": []
    },
    {
      "cell_type": "code",
      "metadata": {
        "id": "ljQmMhBrcVSf",
        "colab_type": "code",
        "outputId": "ddeb375e-0c5c-4d1e-e904-08c343b7a697",
        "colab": {
          "base_uri": "https://localhost:8080/",
          "height": 52
        }
      },
      "source": [
        "from __future__ import absolute_import, division, print_function, unicode_literals, unicode_literals\n",
        "\n",
        "import pathlib\n",
        "\n",
        "import matplotlib.pyplot as plt\n",
        "import pandas as pd\n",
        "import numpy as np\n",
        "import seaborn as sns\n",
        "\n",
        "import tensorflow as tf\n",
        "from tensorflow import keras\n",
        "from tensorflow.keras import layers\n",
        "\n",
        "print(tf.__version__)\n",
        "print(tf.test.is_gpu_available())"
      ],
      "execution_count": 47,
      "outputs": [
        {
          "output_type": "stream",
          "text": [
            "2.0.0\n",
            "True\n"
          ],
          "name": "stdout"
        }
      ]
    },
    {
      "cell_type": "code",
      "metadata": {
        "id": "exAR2Zb7J1l-",
        "colab_type": "code",
        "colab": {}
      },
      "source": [
        "tf.debugging.set_log_device_placement(True)"
      ],
      "execution_count": 0,
      "outputs": []
    },
    {
      "cell_type": "code",
      "metadata": {
        "id": "o3fuLjIcb9cN",
        "colab_type": "code",
        "colab": {}
      },
      "source": [
        "tf.random.set_seed(1234)\n"
      ],
      "execution_count": 0,
      "outputs": []
    },
    {
      "cell_type": "markdown",
      "metadata": {
        "id": "GnzbKvgWkMry",
        "colab_type": "text"
      },
      "source": [
        "# 0 한글 폰트"
      ]
    },
    {
      "cell_type": "code",
      "metadata": {
        "id": "C6K3dLGCcJly",
        "colab_type": "code",
        "outputId": "ad5d1753-e3cd-4b2c-b180-67da39c01e5e",
        "colab": {
          "base_uri": "https://localhost:8080/",
          "height": 416
        }
      },
      "source": [
        "!wget \"https://noto-website-2.storage.googleapis.com/pkgs/NotoSansCJKkr-hinted.zip\"\n",
        "!unzip \"NotoSansCJKkr-hinted.zip\""
      ],
      "execution_count": 50,
      "outputs": [
        {
          "output_type": "stream",
          "text": [
            "--2020-03-16 22:43:52--  https://noto-website-2.storage.googleapis.com/pkgs/NotoSansCJKkr-hinted.zip\n",
            "Resolving noto-website-2.storage.googleapis.com (noto-website-2.storage.googleapis.com)... 172.217.4.144, 2607:f8b0:4007:800::2010\n",
            "Connecting to noto-website-2.storage.googleapis.com (noto-website-2.storage.googleapis.com)|172.217.4.144|:443... connected.\n",
            "HTTP request sent, awaiting response... 200 OK\n",
            "Length: 121163981 (116M) [application/zip]\n",
            "Saving to: ‘NotoSansCJKkr-hinted.zip’\n",
            "\n",
            "NotoSansCJKkr-hinte 100%[===================>] 115.55M   119MB/s    in 1.0s    \n",
            "\n",
            "2020-03-16 22:43:53 (119 MB/s) - ‘NotoSansCJKkr-hinted.zip’ saved [121163981/121163981]\n",
            "\n",
            "Archive:  NotoSansCJKkr-hinted.zip\n",
            "  inflating: LICENSE_OFL.txt         \n",
            "  inflating: NotoSansCJKkr-Black.otf  \n",
            "  inflating: NotoSansCJKkr-Bold.otf  \n",
            "  inflating: NotoSansCJKkr-DemiLight.otf  \n",
            "  inflating: NotoSansCJKkr-Light.otf  \n",
            "  inflating: NotoSansCJKkr-Medium.otf  \n",
            "  inflating: NotoSansCJKkr-Regular.otf  \n",
            "  inflating: NotoSansCJKkr-Thin.otf  \n",
            "  inflating: NotoSansMonoCJKkr-Bold.otf  \n",
            "  inflating: NotoSansMonoCJKkr-Regular.otf  \n",
            "  inflating: README                  \n"
          ],
          "name": "stdout"
        }
      ]
    },
    {
      "cell_type": "code",
      "metadata": {
        "id": "fzQ6HS3Ne5dn",
        "colab_type": "code",
        "colab": {}
      },
      "source": [
        "!mv NotoSansCJKkr-Medium.otf /usr/share/fonts/truetype/"
      ],
      "execution_count": 0,
      "outputs": []
    },
    {
      "cell_type": "code",
      "metadata": {
        "id": "0YfjC4ZHe62p",
        "colab_type": "code",
        "colab": {
          "base_uri": "https://localhost:8080/",
          "height": 69
        },
        "outputId": "30ff61be-b0da-4d42-9111-94ede45b0f20"
      },
      "source": [
        "import matplotlib.pyplot as plt\n",
        "import matplotlib.font_manager as fm\n",
        "\n",
        "font_dirs = ['/usr/share/fonts/truetype']\n",
        "font_files = fm.findSystemFonts(fontpaths=font_dirs)\n",
        "font_list = fm.createFontList(font_files)\n",
        "fm.fontManager.ttflist.extend(font_list)\n",
        "plt.rcParams['font.family'] = \"Noto Sans CJK KR\""
      ],
      "execution_count": 52,
      "outputs": [
        {
          "output_type": "stream",
          "text": [
            "/usr/local/lib/python3.6/dist-packages/ipykernel_launcher.py:6: MatplotlibDeprecationWarning: \n",
            "The createFontList function was deprecated in Matplotlib 3.2 and will be removed two minor releases later. Use FontManager.addfont instead.\n",
            "  \n"
          ],
          "name": "stderr"
        }
      ]
    },
    {
      "cell_type": "markdown",
      "metadata": {
        "id": "wM7X5C35N-4n",
        "colab_type": "text"
      },
      "source": [
        "# 1. 데이터 읽기 "
      ]
    },
    {
      "cell_type": "markdown",
      "metadata": {
        "id": "1CatWTjLPg_Q",
        "colab_type": "text"
      },
      "source": [
        "Contents of the Notebook:\n",
        "Part1: Exploratory Data Analysis(EDA):\n",
        "\n",
        "1)Analysis of the features.\n",
        "\n",
        "2)Finding any relations or trends considering multiple features.\n",
        "Part2: Feature Engineering and Data Cleaning:\n",
        "\n",
        "1)Adding any few features.\n",
        "\n",
        "2)Removing redundant features.\n",
        "\n",
        "3)Converting features into suitable form for modeling.\n",
        "Part3: Predictive Modeling\n",
        "\n",
        "1)Running Basic Algorithms.\n",
        "\n",
        "2)Cross Validation.\n",
        "\n",
        "3)Ensembling.\n",
        "\n",
        "4)Important Features Extraction"
      ]
    },
    {
      "cell_type": "code",
      "metadata": {
        "id": "iW8iwdRXf8NF",
        "colab_type": "code",
        "colab": {}
      },
      "source": [
        "import numpy as np \n",
        "import pandas as pd\n",
        "from datetime import time, datetime\n",
        "\n",
        "import os\n",
        "from pathlib import Path\n",
        "# 재생산성을 위해 시드 고정\n",
        "np.random.seed(7)"
      ],
      "execution_count": 0,
      "outputs": []
    },
    {
      "cell_type": "markdown",
      "metadata": {
        "id": "PSHLZvJmcPRs",
        "colab_type": "text"
      },
      "source": [
        "# 1. 데이터 불러오기"
      ]
    },
    {
      "cell_type": "code",
      "metadata": {
        "id": "4UP_N36kWbEw",
        "colab_type": "code",
        "outputId": "27b557dd-f18d-4b58-816d-a2385181c701",
        "colab": {
          "base_uri": "https://localhost:8080/",
          "height": 124
        }
      },
      "source": [
        "from google.colab import drive\n",
        "drive.mount('/content/drive')"
      ],
      "execution_count": 8,
      "outputs": [
        {
          "output_type": "stream",
          "text": [
            "Go to this URL in a browser: https://accounts.google.com/o/oauth2/auth?client_id=947318989803-6bn6qk8qdgf4n4g3pfee6491hc0brc4i.apps.googleusercontent.com&redirect_uri=urn%3aietf%3awg%3aoauth%3a2.0%3aoob&response_type=code&scope=email%20https%3a%2f%2fwww.googleapis.com%2fauth%2fdocs.test%20https%3a%2f%2fwww.googleapis.com%2fauth%2fdrive%20https%3a%2f%2fwww.googleapis.com%2fauth%2fdrive.photos.readonly%20https%3a%2f%2fwww.googleapis.com%2fauth%2fpeopleapi.readonly\n",
            "\n",
            "Enter your authorization code:\n",
            "··········\n",
            "Mounted at /content/drive\n"
          ],
          "name": "stdout"
        }
      ]
    },
    {
      "cell_type": "code",
      "metadata": {
        "id": "y3u56aPzDA8f",
        "colab_type": "code",
        "outputId": "6063ed39-55fd-4bae-e632-8ae6e6c1185b",
        "colab": {
          "base_uri": "https://localhost:8080/",
          "height": 34
        }
      },
      "source": [
        "folder = \"Colab Notebooks/dacon\"\n",
        "project_dir = \"temperature_forecasting\"\n",
        "data_folder = \"_data/data_dacon\"\n",
        "\n",
        "base_path = Path(\"/content/drive/My Drive/\")\n",
        "project_path = base_path / folder / project_dir\n",
        "data_path = base_path / data_folder / project_dir\n",
        "os.chdir(project_path)\n",
        "\n",
        "print(f\"현재 디렉토리 위치: {os.getcwd()}\")"
      ],
      "execution_count": 96,
      "outputs": [
        {
          "output_type": "stream",
          "text": [
            "현재 디렉토리 위치: /content/drive/My Drive/Colab Notebooks/dacon/temperature_forecasting\n"
          ],
          "name": "stdout"
        }
      ]
    },
    {
      "cell_type": "code",
      "metadata": {
        "id": "0Q_lQowbbf9h",
        "colab_type": "code",
        "outputId": "0c56a5f3-0746-4620-84a8-b1b3938d0062",
        "colab": {
          "base_uri": "https://localhost:8080/",
          "height": 34
        }
      },
      "source": [
        "df = pd.read_csv(os.path.join(data_path,'train.csv'), index_col = 'id')\n",
        "df.shape"
      ],
      "execution_count": 97,
      "outputs": [
        {
          "output_type": "execute_result",
          "data": {
            "text/plain": [
              "(4752, 59)"
            ]
          },
          "metadata": {
            "tags": []
          },
          "execution_count": 97
        }
      ]
    },
    {
      "cell_type": "code",
      "metadata": {
        "id": "cQ2Dsfc7JLwh",
        "colab_type": "code",
        "outputId": "aa04f0ca-bc31-4a6d-924e-25cdae89c471",
        "colab": {
          "base_uri": "https://localhost:8080/",
          "height": 34
        }
      },
      "source": [
        "df_test = pd.read_csv(os.path.join(data_path,'test.csv'), index_col = 'id')\n",
        "df_test.shape"
      ],
      "execution_count": 98,
      "outputs": [
        {
          "output_type": "execute_result",
          "data": {
            "text/plain": [
              "(11520, 40)"
            ]
          },
          "metadata": {
            "tags": []
          },
          "execution_count": 98
        }
      ]
    },
    {
      "cell_type": "markdown",
      "metadata": {
        "id": "uGcTv4O06Gbz",
        "colab_type": "text"
      },
      "source": [
        "#### 시간 정보 넣어주기"
      ]
    },
    {
      "cell_type": "code",
      "metadata": {
        "id": "sBmyVGEc_wo5",
        "colab_type": "code",
        "colab": {}
      },
      "source": [
        "n = 4320"
      ],
      "execution_count": 0,
      "outputs": []
    },
    {
      "cell_type": "code",
      "metadata": {
        "id": "l_bjB36N8VhM",
        "colab_type": "code",
        "colab": {}
      },
      "source": [
        "min_in_day = 24*6\n",
        "hour_in_day = 24\n",
        "\n",
        "feat_temp = ['X00', 'X07', 'X28', 'X31', 'X32']\n",
        "diff = np.mean(df[feat_temp][:n], axis=1)- np.mean(df[['Y15', 'Y16', 'Y09']][:n], axis=1)\n",
        "diff_144= {i:diff[i: :144].mean() for i in range(144)}\n",
        "\n",
        "def time_data(frame):\n",
        "    minute = (frame.index%144).astype(int)\n",
        "    hour= pd.Series((frame.index%144/6).astype(int))\n",
        "\n",
        "    minute_sin = np.sin(np.pi*minute/min_in_day) \n",
        "    minute_cos = np.cos(np.pi*minute/min_in_day)\n",
        "\n",
        "    hour_sin  = np.sin(np.pi*hour/hour_in_day)\n",
        "    hour_cos  = np.cos(np.pi*hour/hour_in_day)\n",
        "    return minute_sin, minute_cos, hour_sin, hour_cos, (frame.index%144).map(diff_144)"
      ],
      "execution_count": 0,
      "outputs": []
    },
    {
      "cell_type": "code",
      "metadata": {
        "id": "GsgCNE45qi-3",
        "colab_type": "code",
        "outputId": "02c2b462-b15f-4cc2-b636-14e30524057f",
        "colab": {
          "base_uri": "https://localhost:8080/",
          "height": 52
        }
      },
      "source": [
        "# train data\n",
        "print(df.shape)\n",
        "df['time_m_sin'], df['time_m_cos'], df['time_h_sin'], df['time_h_cos'], df['time_diff'] = time_data(df)\n",
        "print(df.shape)"
      ],
      "execution_count": 101,
      "outputs": [
        {
          "output_type": "stream",
          "text": [
            "(4752, 59)\n",
            "(4752, 64)\n"
          ],
          "name": "stdout"
        }
      ]
    },
    {
      "cell_type": "code",
      "metadata": {
        "id": "JirmkTaVrB32",
        "colab_type": "code",
        "outputId": "0aa0698e-55bd-4ef5-9416-efb1f327ced7",
        "colab": {
          "base_uri": "https://localhost:8080/",
          "height": 52
        }
      },
      "source": [
        "# test data\n",
        "print(df_test.shape)\n",
        "df_test['time_m_sin'], df_test['time_m_cos'], df_test['time_h_sin'], df_test['time_h_cos'], df_test['time_diff'] = time_data(df_test)\n",
        "print(df_test.shape)"
      ],
      "execution_count": 102,
      "outputs": [
        {
          "output_type": "stream",
          "text": [
            "(11520, 40)\n",
            "(11520, 45)\n"
          ],
          "name": "stdout"
        }
      ]
    },
    {
      "cell_type": "markdown",
      "metadata": {
        "id": "9k4dS_DVAL7j",
        "colab_type": "text"
      },
      "source": [
        "|-|30일(train)|3일(train)|80일(test)|\n",
        "|---|---|---|---|\n",
        "|Y18|NULL|432개|NULL|\n",
        "|Y00-Y17|4320개|NULL|NULL|\n",
        "|X00-X17|4320개|432개|11520개|"
      ]
    },
    {
      "cell_type": "code",
      "metadata": {
        "id": "hsWPUijJQaGd",
        "colab_type": "code",
        "colab": {}
      },
      "source": [
        "df_30 = df[:n]\n",
        "df_3 = df[n:n+n//10]"
      ],
      "execution_count": 0,
      "outputs": []
    },
    {
      "cell_type": "markdown",
      "metadata": {
        "id": "BoVcePUUenSg",
        "colab_type": "text"
      },
      "source": [
        "## x"
      ]
    },
    {
      "cell_type": "markdown",
      "metadata": {
        "id": "HK-xZpb6eroq",
        "colab_type": "text"
      },
      "source": [
        "* feat_temp: 기온 \n",
        "* feat_air_press: 현지기압\n",
        "* feat_wind_speed: 풍속\n",
        "* feat_rainfall: 일일 누적강수량 \n",
        "* feat_sea_press: 해면기압\n",
        "* feat_insol: 일일 누적일사량\n",
        "* feat_humid: 습도\n",
        "* feat_dir_wind: 풍향\n",
        "\n"
      ]
    },
    {
      "cell_type": "code",
      "metadata": {
        "id": "JEdugNkuQEHm",
        "colab_type": "code",
        "colab": {}
      },
      "source": [
        "feat_time = ['time_m_sin', 'time_m_cos', 'time_h_sin', 'time_h_cos', 'time_diff']\n",
        "feat_temp = ['X00', 'X07', 'X28', 'X31', 'X32']\n",
        "feat_air_press = ['X01', 'X06', 'X22', 'X27', 'X29']\n",
        "feat_wind_speed = ['X02', 'X03', 'X18', 'X24', 'X26']\n",
        "feat_rainfall = ['X04', 'X10', 'X21', 'X36', 'X39']\n",
        "feat_sea_press = ['X05', 'X08', 'X09', 'X23', 'X33']\n",
        "feat_insol = ['X11', 'X14', 'X16', 'X19', 'X34']\n",
        "feat_humid = ['X12', 'X20', 'X30', 'X37', 'X38']\n",
        "feat_dir_wind = ['X13', 'X15', 'X17', 'X25', 'X35']\n",
        "\n",
        "feat_x = ['X00', 'X01', 'X02', 'X03', 'X04', 'X05', 'X06', 'X07', 'X08', 'X09', \n",
        "          'X10', 'X11', 'X12', 'X13', 'X14', 'X15', 'X16', 'X17', 'X18', 'X19', \n",
        "          'X20', 'X21', 'X22', 'X23', 'X24', 'X25', 'X26', 'X27', 'X28', 'X29', \n",
        "          'X30', 'X31', 'X32', 'X33', 'X34', 'X35', 'X36', 'X37', 'X38', 'X39']\n",
        "\n",
        "feat_x_t = feat_x + feat_time "
      ],
      "execution_count": 0,
      "outputs": []
    },
    {
      "cell_type": "markdown",
      "metadata": {
        "id": "8aFJuvkrmJYe",
        "colab_type": "text"
      },
      "source": [
        "### 일일누적일사량 missing data 삭제 \n",
        "데이터가 의미 없는 열은 삭제 "
      ]
    },
    {
      "cell_type": "code",
      "metadata": {
        "id": "jys3mESmtFbM",
        "colab_type": "code",
        "colab": {}
      },
      "source": [
        "remove_col =  ['X14', 'X16', 'X19']"
      ],
      "execution_count": 0,
      "outputs": []
    },
    {
      "cell_type": "code",
      "metadata": {
        "colab_type": "code",
        "id": "i3W0bWFMl31u",
        "colab": {}
      },
      "source": [
        "for r in remove_col:\n",
        "    feat_insol.remove(r)\n",
        "    feat_x.remove(r)"
      ],
      "execution_count": 0,
      "outputs": []
    },
    {
      "cell_type": "code",
      "metadata": {
        "colab_type": "code",
        "id": "q0Cs558Ql31x",
        "colab": {}
      },
      "source": [
        "df = df.drop(remove_col, axis = 1)"
      ],
      "execution_count": 0,
      "outputs": []
    },
    {
      "cell_type": "code",
      "metadata": {
        "id": "lmh_pcGaPVrV",
        "colab_type": "code",
        "colab": {}
      },
      "source": [
        "df_test = df_test.drop(remove_col, axis = 1)"
      ],
      "execution_count": 0,
      "outputs": []
    },
    {
      "cell_type": "markdown",
      "metadata": {
        "id": "YDNoDj9ylJoF",
        "colab_type": "text"
      },
      "source": [
        "## y"
      ]
    },
    {
      "cell_type": "code",
      "metadata": {
        "id": "OohHQJHslMgN",
        "colab_type": "code",
        "colab": {}
      },
      "source": [
        "feat_y = ['Y00', 'Y01', 'Y02', 'Y03', 'Y04', 'Y05', 'Y06', 'Y07', 'Y08', \n",
        "          'Y09', 'Y10', 'Y11', 'Y12', 'Y13', 'Y14', 'Y15', 'Y16', 'Y17']"
      ],
      "execution_count": 0,
      "outputs": []
    },
    {
      "cell_type": "markdown",
      "metadata": {
        "id": "sZ9abzQ7dTGx",
        "colab_type": "text"
      },
      "source": [
        "# model"
      ]
    },
    {
      "cell_type": "markdown",
      "metadata": {
        "id": "ucUowkh0fimN",
        "colab_type": "text"
      },
      "source": [
        "간단한 모델을 구성해보자  \n",
        "\n",
        "\n",
        "1.   X 중 기온 데이터인 feat_temp만 사용해서 Y00~17의 온도를 추정하는 모델 만들기 \n",
        "2.   1번에서 만든 모델로 Y00 ~ Y17의 비어있는 3일간의 데이터로 fine tuning\n",
        "3. 예측\n",
        "\n",
        "\n"
      ]
    },
    {
      "cell_type": "markdown",
      "metadata": {
        "id": "l96ARh-Thzq_",
        "colab_type": "text"
      },
      "source": [
        "## 1.\n",
        "df_y_g4에 대해 모델링 해보기 (X 5군데와 전체적으로 유사해서 선택함) "
      ]
    },
    {
      "cell_type": "markdown",
      "metadata": {
        "id": "Xe0MoqWbhnDw",
        "colab_type": "text"
      },
      "source": [
        "### dataset "
      ]
    },
    {
      "cell_type": "markdown",
      "metadata": {
        "id": "sAVjM5ZnhcOo",
        "colab_type": "text"
      },
      "source": [
        "#### Split the data into train and test"
      ]
    },
    {
      "cell_type": "code",
      "metadata": {
        "id": "1gjyTa0BfNbO",
        "colab_type": "code",
        "colab": {}
      },
      "source": [
        "## \n",
        "frac = 0.9 # train data 비율 "
      ],
      "execution_count": 0,
      "outputs": []
    },
    {
      "cell_type": "code",
      "metadata": {
        "id": "mhOZjvHTcwHK",
        "colab_type": "code",
        "colab": {}
      },
      "source": [
        "## y_col : y_col인 컬럼들의 평균을 타겟 값으로 할 것.\n",
        "y_col = ['Y15', 'Y16', 'Y09'] ##list(df_y_g3.columns)\n",
        "x_col = feat_temp + feat_air_press+ feat_rainfall+ feat_insol+feat_dir_wind+['time_diff']"
      ],
      "execution_count": 0,
      "outputs": []
    },
    {
      "cell_type": "code",
      "metadata": {
        "id": "ZzBva8bpeRUD",
        "colab_type": "code",
        "colab": {
          "base_uri": "https://localhost:8080/",
          "height": 225
        },
        "outputId": "599275b6-d21f-44f8-ee89-0cdfb80ca94d"
      },
      "source": [
        "dataset = df_30[x_col+y_col]\n",
        "dataset['Y']= df_30[y_col].mean(axis=1)\n",
        "dataset = dataset.drop(y_col, axis=1) \n",
        "\n",
        "dataset_ft = df_3[x_col+y_col]\n",
        "dataset_ft['Y']= df_3['Y18']\n",
        "dataset_ft = dataset_ft.drop(y_col, axis=1) "
      ],
      "execution_count": 130,
      "outputs": [
        {
          "output_type": "stream",
          "text": [
            "/usr/local/lib/python3.6/dist-packages/ipykernel_launcher.py:2: SettingWithCopyWarning: \n",
            "A value is trying to be set on a copy of a slice from a DataFrame.\n",
            "Try using .loc[row_indexer,col_indexer] = value instead\n",
            "\n",
            "See the caveats in the documentation: http://pandas.pydata.org/pandas-docs/stable/user_guide/indexing.html#returning-a-view-versus-a-copy\n",
            "  \n",
            "/usr/local/lib/python3.6/dist-packages/ipykernel_launcher.py:6: SettingWithCopyWarning: \n",
            "A value is trying to be set on a copy of a slice from a DataFrame.\n",
            "Try using .loc[row_indexer,col_indexer] = value instead\n",
            "\n",
            "See the caveats in the documentation: http://pandas.pydata.org/pandas-docs/stable/user_guide/indexing.html#returning-a-view-versus-a-copy\n",
            "  \n"
          ],
          "name": "stderr"
        }
      ]
    },
    {
      "cell_type": "code",
      "metadata": {
        "id": "iUU_0EF2dZaM",
        "colab_type": "code",
        "colab": {
          "base_uri": "https://localhost:8080/",
          "height": 34
        },
        "outputId": "ebeeacda-af59-4909-ad27-609d1d8e4e18"
      },
      "source": [
        "train_dataset = dataset.sample(frac=frac,random_state=0)\n",
        "test_dataset = dataset.drop(train_dataset.index)\n",
        "\n",
        "train_dataset.shape, test_dataset.shape"
      ],
      "execution_count": 131,
      "outputs": [
        {
          "output_type": "execute_result",
          "data": {
            "text/plain": [
              "((3888, 24), (432, 24))"
            ]
          },
          "metadata": {
            "tags": []
          },
          "execution_count": 131
        }
      ]
    },
    {
      "cell_type": "code",
      "metadata": {
        "id": "xHQ5WVzHbIJP",
        "colab_type": "code",
        "outputId": "ca09e79f-6c52-4c62-a46e-a67286bfeac5",
        "colab": {
          "base_uri": "https://localhost:8080/",
          "height": 34
        }
      },
      "source": [
        "#finetuning용 데이터 \n",
        "train_dataset_ft = dataset_ft.sample(frac=frac,random_state=0)\n",
        "test_dataset_ft = dataset_ft.drop(train_dataset_ft.index)\n",
        "\n",
        "train_dataset_ft.shape, test_dataset_ft.shape"
      ],
      "execution_count": 132,
      "outputs": [
        {
          "output_type": "execute_result",
          "data": {
            "text/plain": [
              "((389, 24), (43, 24))"
            ]
          },
          "metadata": {
            "tags": []
          },
          "execution_count": 132
        }
      ]
    },
    {
      "cell_type": "code",
      "metadata": {
        "colab_type": "code",
        "outputId": "20a5376e-c388-4b9e-a8c3-f1bbf9ad1bc3",
        "id": "RsgYTAm0pyJ6",
        "colab": {
          "base_uri": "https://localhost:8080/",
          "height": 156
        }
      },
      "source": [
        "train_dataset.columns, train_dataset_ft.columns"
      ],
      "execution_count": 133,
      "outputs": [
        {
          "output_type": "execute_result",
          "data": {
            "text/plain": [
              "(Index(['X00', 'X07', 'X28', 'X31', 'X32', 'X01', 'X06', 'X22', 'X27', 'X29',\n",
              "        'X04', 'X10', 'X21', 'X36', 'X39', 'X11', 'X34', 'X13', 'X15', 'X17',\n",
              "        'X25', 'X35', 'time_diff', 'Y'],\n",
              "       dtype='object'),\n",
              " Index(['X00', 'X07', 'X28', 'X31', 'X32', 'X01', 'X06', 'X22', 'X27', 'X29',\n",
              "        'X04', 'X10', 'X21', 'X36', 'X39', 'X11', 'X34', 'X13', 'X15', 'X17',\n",
              "        'X25', 'X35', 'time_diff', 'Y'],\n",
              "       dtype='object'))"
            ]
          },
          "metadata": {
            "tags": []
          },
          "execution_count": 133
        }
      ]
    },
    {
      "cell_type": "markdown",
      "metadata": {
        "id": "yWpPXfOeg0fS",
        "colab_type": "text"
      },
      "source": [
        "#### Split features from labels"
      ]
    },
    {
      "cell_type": "code",
      "metadata": {
        "id": "Gp2rgP59hsWa",
        "colab_type": "code",
        "colab": {
          "base_uri": "https://localhost:8080/",
          "height": 52
        },
        "outputId": "4b3062e1-a0ca-49f6-92af-cf8052f68b98"
      },
      "source": [
        "train_labels = train_dataset.pop('Y')\n",
        "test_labels = test_dataset.pop('Y')\n",
        "print(train_dataset.shape, test_dataset.shape)\n",
        "print(train_labels.shape, test_labels.shape)\n"
      ],
      "execution_count": 134,
      "outputs": [
        {
          "output_type": "stream",
          "text": [
            "(3888, 23) (432, 23)\n",
            "(3888,) (432,)\n"
          ],
          "name": "stdout"
        }
      ]
    },
    {
      "cell_type": "code",
      "metadata": {
        "id": "ZDJMKMh8ggQ7",
        "colab_type": "code",
        "outputId": "450576d6-72ac-4520-d7f0-0eb6bb456865",
        "colab": {
          "base_uri": "https://localhost:8080/",
          "height": 52
        }
      },
      "source": [
        "train_labels_ft = train_dataset_ft.pop('Y')\n",
        "test_labels_ft = test_dataset_ft.pop('Y')\n",
        "print(train_dataset_ft.shape, test_dataset_ft.shape)\n",
        "print(train_labels_ft.shape, test_labels_ft.shape)"
      ],
      "execution_count": 135,
      "outputs": [
        {
          "output_type": "stream",
          "text": [
            "(389, 23) (43, 23)\n",
            "(389,) (43,)\n"
          ],
          "name": "stdout"
        }
      ]
    },
    {
      "cell_type": "markdown",
      "metadata": {
        "id": "blZleRTghN7D",
        "colab_type": "text"
      },
      "source": [
        "## model"
      ]
    },
    {
      "cell_type": "markdown",
      "metadata": {
        "id": "-dnS-re6kqt9",
        "colab_type": "text"
      },
      "source": [
        "#### Build the model"
      ]
    },
    {
      "cell_type": "code",
      "metadata": {
        "id": "3MYJoUyZgrBG",
        "colab_type": "code",
        "colab": {
          "base_uri": "https://localhost:8080/",
          "height": 52
        },
        "outputId": "9147e9c4-b87d-462b-cf21-601147537b62"
      },
      "source": [
        "def create_model():\n",
        "    model = keras.Sequential([\n",
        "            layers.Dense(64, activation='linear', input_shape=[len(train_dataset.keys())]),\n",
        "            layers.Dense(1)\n",
        "    ])\n",
        "    model.compile(loss='mse',\n",
        "                  optimizer=tf.keras.optimizers.Adam(0.005),\n",
        "                  metrics=['mae', 'mse'])\n",
        "    return model\n",
        "model = create_model()"
      ],
      "execution_count": 136,
      "outputs": [
        {
          "output_type": "stream",
          "text": [
            "Executing op RandomUniform in device /job:localhost/replica:0/task:0/device:GPU:0\n",
            "Executing op RandomUniform in device /job:localhost/replica:0/task:0/device:GPU:0\n"
          ],
          "name": "stdout"
        }
      ]
    },
    {
      "cell_type": "markdown",
      "metadata": {
        "id": "ZNGxAIbmkwS4",
        "colab_type": "text"
      },
      "source": [
        "#### Inspect the model"
      ]
    },
    {
      "cell_type": "code",
      "metadata": {
        "id": "ReHuuhV0kgxc",
        "colab_type": "code",
        "outputId": "19206b9b-f06b-4f50-fda2-18d28a71890e",
        "colab": {
          "base_uri": "https://localhost:8080/",
          "height": 225
        }
      },
      "source": [
        "model.summary()"
      ],
      "execution_count": 137,
      "outputs": [
        {
          "output_type": "stream",
          "text": [
            "Model: \"sequential_3\"\n",
            "_________________________________________________________________\n",
            "Layer (type)                 Output Shape              Param #   \n",
            "=================================================================\n",
            "dense_6 (Dense)              (None, 64)                1536      \n",
            "_________________________________________________________________\n",
            "dense_7 (Dense)              (None, 1)                 65        \n",
            "=================================================================\n",
            "Total params: 1,601\n",
            "Trainable params: 1,601\n",
            "Non-trainable params: 0\n",
            "_________________________________________________________________\n"
          ],
          "name": "stdout"
        }
      ]
    },
    {
      "cell_type": "code",
      "metadata": {
        "id": "IFxWTJnskgrC",
        "colab_type": "code",
        "outputId": "28c528f7-d58d-479d-ab52-78d5f60e3acd",
        "colab": {
          "base_uri": "https://localhost:8080/",
          "height": 159
        }
      },
      "source": [
        "example_batch = train_dataset[:5]\n",
        "example_result = model.predict(example_batch)\n",
        "example_result"
      ],
      "execution_count": 138,
      "outputs": [
        {
          "output_type": "stream",
          "text": [
            "WARNING:tensorflow:Falling back from v2 loop because of error: Failed to find data adapter that can handle input: <class 'pandas.core.frame.DataFrame'>, <class 'NoneType'>\n",
            "Executing op __inference_keras_scratch_graph_2241152 in device /job:localhost/replica:0/task:0/device:GPU:0\n"
          ],
          "name": "stdout"
        },
        {
          "output_type": "execute_result",
          "data": {
            "text/plain": [
              "array([[502.7028 ],\n",
              "       [456.82626],\n",
              "       [441.43054],\n",
              "       [480.08582],\n",
              "       [492.81485]], dtype=float32)"
            ]
          },
          "metadata": {
            "tags": []
          },
          "execution_count": 138
        }
      ]
    },
    {
      "cell_type": "markdown",
      "metadata": {
        "id": "LtVCXxb-laIi",
        "colab_type": "text"
      },
      "source": [
        "#### Train the model"
      ]
    },
    {
      "cell_type": "code",
      "metadata": {
        "id": "u5wq3XPKbVT3",
        "colab_type": "code",
        "colab": {}
      },
      "source": [
        "# 에포크가 끝날 때마다 점(.)을 출력해 훈련 진행 과정을 표시합니다\n",
        "class PrintDot(keras.callbacks.Callback):\n",
        "  def on_epoch_end(self, epoch, logs):\n",
        "    if epoch % 100 == 0: print('')\n",
        "    print('.', end='')"
      ],
      "execution_count": 0,
      "outputs": []
    },
    {
      "cell_type": "code",
      "metadata": {
        "id": "C2XhJXsorCQL",
        "colab_type": "code",
        "colab": {}
      },
      "source": [
        "checkpoint_path = \"./checkpoints/training1/cp.ckpt\"\n",
        "checkpoint_dir = os.path.dirname(checkpoint_path)\n",
        "\n",
        "# Create a callback that saves the model's weights\n",
        "cp_callback = tf.keras.callbacks.ModelCheckpoint(filepath=checkpoint_path,\n",
        "                                                 save_weights_only=True,\n",
        "                                                 verbose=1)\n"
      ],
      "execution_count": 0,
      "outputs": []
    },
    {
      "cell_type": "code",
      "metadata": {
        "id": "IlR2IuofgsDu",
        "colab_type": "code",
        "outputId": "22235e7e-4b8d-4cb6-ac0f-19a7279150dd",
        "colab": {
          "base_uri": "https://localhost:8080/",
          "height": 1000
        }
      },
      "source": [
        "EPOCHS = 1000\n",
        "\n",
        "history = model.fit(\n",
        "  train_dataset, train_labels,\n",
        "  validation_data = (test_dataset,test_labels),\n",
        "  epochs=EPOCHS, verbose=0,# validation_split = 0.9, \n",
        "  callbacks=[cp_callback])"
      ],
      "execution_count": 141,
      "outputs": [
        {
          "output_type": "stream",
          "text": [
            "WARNING:tensorflow:Falling back from v2 loop because of error: Failed to find data adapter that can handle input: <class 'pandas.core.frame.DataFrame'>, <class 'NoneType'>\n",
            "Executing op __inference_keras_scratch_graph_2241552 in device /job:localhost/replica:0/task:0/device:GPU:0\n",
            "Executing op __inference_keras_scratch_graph_2242352 in device /job:localhost/replica:0/task:0/device:GPU:0\n",
            "\n",
            "Epoch 00001: saving model to ./checkpoints/training1/cp.ckpt\n",
            "\n",
            "Epoch 00002: saving model to ./checkpoints/training1/cp.ckpt\n",
            "\n",
            "Epoch 00003: saving model to ./checkpoints/training1/cp.ckpt\n",
            "\n",
            "Epoch 00004: saving model to ./checkpoints/training1/cp.ckpt\n",
            "\n",
            "Epoch 00005: saving model to ./checkpoints/training1/cp.ckpt\n",
            "\n",
            "Epoch 00006: saving model to ./checkpoints/training1/cp.ckpt\n",
            "\n",
            "Epoch 00007: saving model to ./checkpoints/training1/cp.ckpt\n",
            "\n",
            "Epoch 00008: saving model to ./checkpoints/training1/cp.ckpt\n",
            "\n",
            "Epoch 00009: saving model to ./checkpoints/training1/cp.ckpt\n",
            "\n",
            "Epoch 00010: saving model to ./checkpoints/training1/cp.ckpt\n",
            "\n",
            "Epoch 00011: saving model to ./checkpoints/training1/cp.ckpt\n",
            "\n",
            "Epoch 00012: saving model to ./checkpoints/training1/cp.ckpt\n",
            "\n",
            "Epoch 00013: saving model to ./checkpoints/training1/cp.ckpt\n",
            "\n",
            "Epoch 00014: saving model to ./checkpoints/training1/cp.ckpt\n",
            "\n",
            "Epoch 00015: saving model to ./checkpoints/training1/cp.ckpt\n",
            "\n",
            "Epoch 00016: saving model to ./checkpoints/training1/cp.ckpt\n",
            "\n",
            "Epoch 00017: saving model to ./checkpoints/training1/cp.ckpt\n",
            "\n",
            "Epoch 00018: saving model to ./checkpoints/training1/cp.ckpt\n",
            "\n",
            "Epoch 00019: saving model to ./checkpoints/training1/cp.ckpt\n",
            "\n",
            "Epoch 00020: saving model to ./checkpoints/training1/cp.ckpt\n",
            "\n",
            "Epoch 00021: saving model to ./checkpoints/training1/cp.ckpt\n",
            "\n",
            "Epoch 00022: saving model to ./checkpoints/training1/cp.ckpt\n",
            "\n",
            "Epoch 00023: saving model to ./checkpoints/training1/cp.ckpt\n",
            "\n",
            "Epoch 00024: saving model to ./checkpoints/training1/cp.ckpt\n",
            "\n",
            "Epoch 00025: saving model to ./checkpoints/training1/cp.ckpt\n",
            "\n",
            "Epoch 00026: saving model to ./checkpoints/training1/cp.ckpt\n",
            "\n",
            "Epoch 00027: saving model to ./checkpoints/training1/cp.ckpt\n",
            "\n",
            "Epoch 00028: saving model to ./checkpoints/training1/cp.ckpt\n",
            "\n",
            "Epoch 00029: saving model to ./checkpoints/training1/cp.ckpt\n",
            "\n",
            "Epoch 00030: saving model to ./checkpoints/training1/cp.ckpt\n",
            "\n",
            "Epoch 00031: saving model to ./checkpoints/training1/cp.ckpt\n",
            "\n",
            "Epoch 00032: saving model to ./checkpoints/training1/cp.ckpt\n",
            "\n",
            "Epoch 00033: saving model to ./checkpoints/training1/cp.ckpt\n",
            "\n",
            "Epoch 00034: saving model to ./checkpoints/training1/cp.ckpt\n",
            "\n",
            "Epoch 00035: saving model to ./checkpoints/training1/cp.ckpt\n",
            "\n",
            "Epoch 00036: saving model to ./checkpoints/training1/cp.ckpt\n",
            "\n",
            "Epoch 00037: saving model to ./checkpoints/training1/cp.ckpt\n",
            "\n",
            "Epoch 00038: saving model to ./checkpoints/training1/cp.ckpt\n",
            "\n",
            "Epoch 00039: saving model to ./checkpoints/training1/cp.ckpt\n",
            "\n",
            "Epoch 00040: saving model to ./checkpoints/training1/cp.ckpt\n",
            "\n",
            "Epoch 00041: saving model to ./checkpoints/training1/cp.ckpt\n",
            "\n",
            "Epoch 00042: saving model to ./checkpoints/training1/cp.ckpt\n",
            "\n",
            "Epoch 00043: saving model to ./checkpoints/training1/cp.ckpt\n",
            "\n",
            "Epoch 00044: saving model to ./checkpoints/training1/cp.ckpt\n",
            "\n",
            "Epoch 00045: saving model to ./checkpoints/training1/cp.ckpt\n",
            "\n",
            "Epoch 00046: saving model to ./checkpoints/training1/cp.ckpt\n",
            "\n",
            "Epoch 00047: saving model to ./checkpoints/training1/cp.ckpt\n",
            "\n",
            "Epoch 00048: saving model to ./checkpoints/training1/cp.ckpt\n",
            "\n",
            "Epoch 00049: saving model to ./checkpoints/training1/cp.ckpt\n",
            "\n",
            "Epoch 00050: saving model to ./checkpoints/training1/cp.ckpt\n",
            "\n",
            "Epoch 00051: saving model to ./checkpoints/training1/cp.ckpt\n",
            "\n",
            "Epoch 00052: saving model to ./checkpoints/training1/cp.ckpt\n",
            "\n",
            "Epoch 00053: saving model to ./checkpoints/training1/cp.ckpt\n",
            "\n",
            "Epoch 00054: saving model to ./checkpoints/training1/cp.ckpt\n",
            "\n",
            "Epoch 00055: saving model to ./checkpoints/training1/cp.ckpt\n",
            "\n",
            "Epoch 00056: saving model to ./checkpoints/training1/cp.ckpt\n",
            "\n",
            "Epoch 00057: saving model to ./checkpoints/training1/cp.ckpt\n",
            "\n",
            "Epoch 00058: saving model to ./checkpoints/training1/cp.ckpt\n",
            "\n",
            "Epoch 00059: saving model to ./checkpoints/training1/cp.ckpt\n",
            "\n",
            "Epoch 00060: saving model to ./checkpoints/training1/cp.ckpt\n",
            "\n",
            "Epoch 00061: saving model to ./checkpoints/training1/cp.ckpt\n",
            "\n",
            "Epoch 00062: saving model to ./checkpoints/training1/cp.ckpt\n",
            "\n",
            "Epoch 00063: saving model to ./checkpoints/training1/cp.ckpt\n",
            "\n",
            "Epoch 00064: saving model to ./checkpoints/training1/cp.ckpt\n",
            "\n",
            "Epoch 00065: saving model to ./checkpoints/training1/cp.ckpt\n",
            "\n",
            "Epoch 00066: saving model to ./checkpoints/training1/cp.ckpt\n",
            "\n",
            "Epoch 00067: saving model to ./checkpoints/training1/cp.ckpt\n",
            "\n",
            "Epoch 00068: saving model to ./checkpoints/training1/cp.ckpt\n",
            "\n",
            "Epoch 00069: saving model to ./checkpoints/training1/cp.ckpt\n",
            "\n",
            "Epoch 00070: saving model to ./checkpoints/training1/cp.ckpt\n",
            "\n",
            "Epoch 00071: saving model to ./checkpoints/training1/cp.ckpt\n",
            "\n",
            "Epoch 00072: saving model to ./checkpoints/training1/cp.ckpt\n",
            "\n",
            "Epoch 00073: saving model to ./checkpoints/training1/cp.ckpt\n",
            "\n",
            "Epoch 00074: saving model to ./checkpoints/training1/cp.ckpt\n",
            "\n",
            "Epoch 00075: saving model to ./checkpoints/training1/cp.ckpt\n",
            "\n",
            "Epoch 00076: saving model to ./checkpoints/training1/cp.ckpt\n",
            "\n",
            "Epoch 00077: saving model to ./checkpoints/training1/cp.ckpt\n",
            "\n",
            "Epoch 00078: saving model to ./checkpoints/training1/cp.ckpt\n",
            "\n",
            "Epoch 00079: saving model to ./checkpoints/training1/cp.ckpt\n",
            "\n",
            "Epoch 00080: saving model to ./checkpoints/training1/cp.ckpt\n",
            "\n",
            "Epoch 00081: saving model to ./checkpoints/training1/cp.ckpt\n",
            "\n",
            "Epoch 00082: saving model to ./checkpoints/training1/cp.ckpt\n",
            "\n",
            "Epoch 00083: saving model to ./checkpoints/training1/cp.ckpt\n",
            "\n",
            "Epoch 00084: saving model to ./checkpoints/training1/cp.ckpt\n",
            "\n",
            "Epoch 00085: saving model to ./checkpoints/training1/cp.ckpt\n",
            "\n",
            "Epoch 00086: saving model to ./checkpoints/training1/cp.ckpt\n",
            "\n",
            "Epoch 00087: saving model to ./checkpoints/training1/cp.ckpt\n",
            "\n",
            "Epoch 00088: saving model to ./checkpoints/training1/cp.ckpt\n",
            "\n",
            "Epoch 00089: saving model to ./checkpoints/training1/cp.ckpt\n",
            "\n",
            "Epoch 00090: saving model to ./checkpoints/training1/cp.ckpt\n",
            "\n",
            "Epoch 00091: saving model to ./checkpoints/training1/cp.ckpt\n",
            "\n",
            "Epoch 00092: saving model to ./checkpoints/training1/cp.ckpt\n",
            "\n",
            "Epoch 00093: saving model to ./checkpoints/training1/cp.ckpt\n",
            "\n",
            "Epoch 00094: saving model to ./checkpoints/training1/cp.ckpt\n",
            "\n",
            "Epoch 00095: saving model to ./checkpoints/training1/cp.ckpt\n",
            "\n",
            "Epoch 00096: saving model to ./checkpoints/training1/cp.ckpt\n",
            "\n",
            "Epoch 00097: saving model to ./checkpoints/training1/cp.ckpt\n",
            "\n",
            "Epoch 00098: saving model to ./checkpoints/training1/cp.ckpt\n",
            "\n",
            "Epoch 00099: saving model to ./checkpoints/training1/cp.ckpt\n",
            "\n",
            "Epoch 00100: saving model to ./checkpoints/training1/cp.ckpt\n",
            "\n",
            "Epoch 00101: saving model to ./checkpoints/training1/cp.ckpt\n",
            "\n",
            "Epoch 00102: saving model to ./checkpoints/training1/cp.ckpt\n",
            "\n",
            "Epoch 00103: saving model to ./checkpoints/training1/cp.ckpt\n",
            "\n",
            "Epoch 00104: saving model to ./checkpoints/training1/cp.ckpt\n",
            "\n",
            "Epoch 00105: saving model to ./checkpoints/training1/cp.ckpt\n",
            "\n",
            "Epoch 00106: saving model to ./checkpoints/training1/cp.ckpt\n",
            "\n",
            "Epoch 00107: saving model to ./checkpoints/training1/cp.ckpt\n",
            "\n",
            "Epoch 00108: saving model to ./checkpoints/training1/cp.ckpt\n",
            "\n",
            "Epoch 00109: saving model to ./checkpoints/training1/cp.ckpt\n",
            "\n",
            "Epoch 00110: saving model to ./checkpoints/training1/cp.ckpt\n",
            "\n",
            "Epoch 00111: saving model to ./checkpoints/training1/cp.ckpt\n",
            "\n",
            "Epoch 00112: saving model to ./checkpoints/training1/cp.ckpt\n",
            "\n",
            "Epoch 00113: saving model to ./checkpoints/training1/cp.ckpt\n",
            "\n",
            "Epoch 00114: saving model to ./checkpoints/training1/cp.ckpt\n",
            "\n",
            "Epoch 00115: saving model to ./checkpoints/training1/cp.ckpt\n",
            "\n",
            "Epoch 00116: saving model to ./checkpoints/training1/cp.ckpt\n",
            "\n",
            "Epoch 00117: saving model to ./checkpoints/training1/cp.ckpt\n",
            "\n",
            "Epoch 00118: saving model to ./checkpoints/training1/cp.ckpt\n",
            "\n",
            "Epoch 00119: saving model to ./checkpoints/training1/cp.ckpt\n",
            "\n",
            "Epoch 00120: saving model to ./checkpoints/training1/cp.ckpt\n",
            "\n",
            "Epoch 00121: saving model to ./checkpoints/training1/cp.ckpt\n",
            "\n",
            "Epoch 00122: saving model to ./checkpoints/training1/cp.ckpt\n",
            "\n",
            "Epoch 00123: saving model to ./checkpoints/training1/cp.ckpt\n",
            "\n",
            "Epoch 00124: saving model to ./checkpoints/training1/cp.ckpt\n",
            "\n",
            "Epoch 00125: saving model to ./checkpoints/training1/cp.ckpt\n",
            "\n",
            "Epoch 00126: saving model to ./checkpoints/training1/cp.ckpt\n",
            "\n",
            "Epoch 00127: saving model to ./checkpoints/training1/cp.ckpt\n",
            "\n",
            "Epoch 00128: saving model to ./checkpoints/training1/cp.ckpt\n",
            "\n",
            "Epoch 00129: saving model to ./checkpoints/training1/cp.ckpt\n",
            "\n",
            "Epoch 00130: saving model to ./checkpoints/training1/cp.ckpt\n",
            "\n",
            "Epoch 00131: saving model to ./checkpoints/training1/cp.ckpt\n",
            "\n",
            "Epoch 00132: saving model to ./checkpoints/training1/cp.ckpt\n",
            "\n",
            "Epoch 00133: saving model to ./checkpoints/training1/cp.ckpt\n",
            "\n",
            "Epoch 00134: saving model to ./checkpoints/training1/cp.ckpt\n",
            "\n",
            "Epoch 00135: saving model to ./checkpoints/training1/cp.ckpt\n",
            "\n",
            "Epoch 00136: saving model to ./checkpoints/training1/cp.ckpt\n",
            "\n",
            "Epoch 00137: saving model to ./checkpoints/training1/cp.ckpt\n",
            "\n",
            "Epoch 00138: saving model to ./checkpoints/training1/cp.ckpt\n",
            "\n",
            "Epoch 00139: saving model to ./checkpoints/training1/cp.ckpt\n",
            "\n",
            "Epoch 00140: saving model to ./checkpoints/training1/cp.ckpt\n",
            "\n",
            "Epoch 00141: saving model to ./checkpoints/training1/cp.ckpt\n",
            "\n",
            "Epoch 00142: saving model to ./checkpoints/training1/cp.ckpt\n",
            "\n",
            "Epoch 00143: saving model to ./checkpoints/training1/cp.ckpt\n",
            "\n",
            "Epoch 00144: saving model to ./checkpoints/training1/cp.ckpt\n",
            "\n",
            "Epoch 00145: saving model to ./checkpoints/training1/cp.ckpt\n",
            "\n",
            "Epoch 00146: saving model to ./checkpoints/training1/cp.ckpt\n",
            "\n",
            "Epoch 00147: saving model to ./checkpoints/training1/cp.ckpt\n",
            "\n",
            "Epoch 00148: saving model to ./checkpoints/training1/cp.ckpt\n",
            "\n",
            "Epoch 00149: saving model to ./checkpoints/training1/cp.ckpt\n",
            "\n",
            "Epoch 00150: saving model to ./checkpoints/training1/cp.ckpt\n",
            "\n",
            "Epoch 00151: saving model to ./checkpoints/training1/cp.ckpt\n",
            "\n",
            "Epoch 00152: saving model to ./checkpoints/training1/cp.ckpt\n",
            "\n",
            "Epoch 00153: saving model to ./checkpoints/training1/cp.ckpt\n",
            "\n",
            "Epoch 00154: saving model to ./checkpoints/training1/cp.ckpt\n",
            "\n",
            "Epoch 00155: saving model to ./checkpoints/training1/cp.ckpt\n",
            "\n",
            "Epoch 00156: saving model to ./checkpoints/training1/cp.ckpt\n",
            "\n",
            "Epoch 00157: saving model to ./checkpoints/training1/cp.ckpt\n",
            "\n",
            "Epoch 00158: saving model to ./checkpoints/training1/cp.ckpt\n",
            "\n",
            "Epoch 00159: saving model to ./checkpoints/training1/cp.ckpt\n",
            "\n",
            "Epoch 00160: saving model to ./checkpoints/training1/cp.ckpt\n",
            "\n",
            "Epoch 00161: saving model to ./checkpoints/training1/cp.ckpt\n",
            "\n",
            "Epoch 00162: saving model to ./checkpoints/training1/cp.ckpt\n",
            "\n",
            "Epoch 00163: saving model to ./checkpoints/training1/cp.ckpt\n",
            "\n",
            "Epoch 00164: saving model to ./checkpoints/training1/cp.ckpt\n",
            "\n",
            "Epoch 00165: saving model to ./checkpoints/training1/cp.ckpt\n",
            "\n",
            "Epoch 00166: saving model to ./checkpoints/training1/cp.ckpt\n",
            "\n",
            "Epoch 00167: saving model to ./checkpoints/training1/cp.ckpt\n",
            "\n",
            "Epoch 00168: saving model to ./checkpoints/training1/cp.ckpt\n",
            "\n",
            "Epoch 00169: saving model to ./checkpoints/training1/cp.ckpt\n",
            "\n",
            "Epoch 00170: saving model to ./checkpoints/training1/cp.ckpt\n",
            "\n",
            "Epoch 00171: saving model to ./checkpoints/training1/cp.ckpt\n",
            "\n",
            "Epoch 00172: saving model to ./checkpoints/training1/cp.ckpt\n",
            "\n",
            "Epoch 00173: saving model to ./checkpoints/training1/cp.ckpt\n",
            "\n",
            "Epoch 00174: saving model to ./checkpoints/training1/cp.ckpt\n",
            "\n",
            "Epoch 00175: saving model to ./checkpoints/training1/cp.ckpt\n",
            "\n",
            "Epoch 00176: saving model to ./checkpoints/training1/cp.ckpt\n",
            "\n",
            "Epoch 00177: saving model to ./checkpoints/training1/cp.ckpt\n",
            "\n",
            "Epoch 00178: saving model to ./checkpoints/training1/cp.ckpt\n",
            "\n",
            "Epoch 00179: saving model to ./checkpoints/training1/cp.ckpt\n",
            "\n",
            "Epoch 00180: saving model to ./checkpoints/training1/cp.ckpt\n",
            "\n",
            "Epoch 00181: saving model to ./checkpoints/training1/cp.ckpt\n",
            "\n",
            "Epoch 00182: saving model to ./checkpoints/training1/cp.ckpt\n",
            "\n",
            "Epoch 00183: saving model to ./checkpoints/training1/cp.ckpt\n",
            "\n",
            "Epoch 00184: saving model to ./checkpoints/training1/cp.ckpt\n",
            "\n",
            "Epoch 00185: saving model to ./checkpoints/training1/cp.ckpt\n",
            "\n",
            "Epoch 00186: saving model to ./checkpoints/training1/cp.ckpt\n",
            "\n",
            "Epoch 00187: saving model to ./checkpoints/training1/cp.ckpt\n",
            "\n",
            "Epoch 00188: saving model to ./checkpoints/training1/cp.ckpt\n",
            "\n",
            "Epoch 00189: saving model to ./checkpoints/training1/cp.ckpt\n",
            "\n",
            "Epoch 00190: saving model to ./checkpoints/training1/cp.ckpt\n",
            "\n",
            "Epoch 00191: saving model to ./checkpoints/training1/cp.ckpt\n",
            "\n",
            "Epoch 00192: saving model to ./checkpoints/training1/cp.ckpt\n",
            "\n",
            "Epoch 00193: saving model to ./checkpoints/training1/cp.ckpt\n",
            "\n",
            "Epoch 00194: saving model to ./checkpoints/training1/cp.ckpt\n",
            "\n",
            "Epoch 00195: saving model to ./checkpoints/training1/cp.ckpt\n",
            "\n",
            "Epoch 00196: saving model to ./checkpoints/training1/cp.ckpt\n",
            "\n",
            "Epoch 00197: saving model to ./checkpoints/training1/cp.ckpt\n",
            "\n",
            "Epoch 00198: saving model to ./checkpoints/training1/cp.ckpt\n",
            "\n",
            "Epoch 00199: saving model to ./checkpoints/training1/cp.ckpt\n",
            "\n",
            "Epoch 00200: saving model to ./checkpoints/training1/cp.ckpt\n",
            "\n",
            "Epoch 00201: saving model to ./checkpoints/training1/cp.ckpt\n",
            "\n",
            "Epoch 00202: saving model to ./checkpoints/training1/cp.ckpt\n",
            "\n",
            "Epoch 00203: saving model to ./checkpoints/training1/cp.ckpt\n",
            "\n",
            "Epoch 00204: saving model to ./checkpoints/training1/cp.ckpt\n",
            "\n",
            "Epoch 00205: saving model to ./checkpoints/training1/cp.ckpt\n",
            "\n",
            "Epoch 00206: saving model to ./checkpoints/training1/cp.ckpt\n",
            "\n",
            "Epoch 00207: saving model to ./checkpoints/training1/cp.ckpt\n",
            "\n",
            "Epoch 00208: saving model to ./checkpoints/training1/cp.ckpt\n",
            "\n",
            "Epoch 00209: saving model to ./checkpoints/training1/cp.ckpt\n",
            "\n",
            "Epoch 00210: saving model to ./checkpoints/training1/cp.ckpt\n",
            "\n",
            "Epoch 00211: saving model to ./checkpoints/training1/cp.ckpt\n",
            "\n",
            "Epoch 00212: saving model to ./checkpoints/training1/cp.ckpt\n",
            "\n",
            "Epoch 00213: saving model to ./checkpoints/training1/cp.ckpt\n",
            "\n",
            "Epoch 00214: saving model to ./checkpoints/training1/cp.ckpt\n",
            "\n",
            "Epoch 00215: saving model to ./checkpoints/training1/cp.ckpt\n",
            "\n",
            "Epoch 00216: saving model to ./checkpoints/training1/cp.ckpt\n",
            "\n",
            "Epoch 00217: saving model to ./checkpoints/training1/cp.ckpt\n",
            "\n",
            "Epoch 00218: saving model to ./checkpoints/training1/cp.ckpt\n",
            "\n",
            "Epoch 00219: saving model to ./checkpoints/training1/cp.ckpt\n",
            "\n",
            "Epoch 00220: saving model to ./checkpoints/training1/cp.ckpt\n",
            "\n",
            "Epoch 00221: saving model to ./checkpoints/training1/cp.ckpt\n",
            "\n",
            "Epoch 00222: saving model to ./checkpoints/training1/cp.ckpt\n",
            "\n",
            "Epoch 00223: saving model to ./checkpoints/training1/cp.ckpt\n",
            "\n",
            "Epoch 00224: saving model to ./checkpoints/training1/cp.ckpt\n",
            "\n",
            "Epoch 00225: saving model to ./checkpoints/training1/cp.ckpt\n",
            "\n",
            "Epoch 00226: saving model to ./checkpoints/training1/cp.ckpt\n",
            "\n",
            "Epoch 00227: saving model to ./checkpoints/training1/cp.ckpt\n",
            "\n",
            "Epoch 00228: saving model to ./checkpoints/training1/cp.ckpt\n",
            "\n",
            "Epoch 00229: saving model to ./checkpoints/training1/cp.ckpt\n",
            "\n",
            "Epoch 00230: saving model to ./checkpoints/training1/cp.ckpt\n",
            "\n",
            "Epoch 00231: saving model to ./checkpoints/training1/cp.ckpt\n",
            "\n",
            "Epoch 00232: saving model to ./checkpoints/training1/cp.ckpt\n",
            "\n",
            "Epoch 00233: saving model to ./checkpoints/training1/cp.ckpt\n",
            "\n",
            "Epoch 00234: saving model to ./checkpoints/training1/cp.ckpt\n",
            "\n",
            "Epoch 00235: saving model to ./checkpoints/training1/cp.ckpt\n",
            "\n",
            "Epoch 00236: saving model to ./checkpoints/training1/cp.ckpt\n",
            "\n",
            "Epoch 00237: saving model to ./checkpoints/training1/cp.ckpt\n",
            "\n",
            "Epoch 00238: saving model to ./checkpoints/training1/cp.ckpt\n",
            "\n",
            "Epoch 00239: saving model to ./checkpoints/training1/cp.ckpt\n",
            "\n",
            "Epoch 00240: saving model to ./checkpoints/training1/cp.ckpt\n",
            "\n",
            "Epoch 00241: saving model to ./checkpoints/training1/cp.ckpt\n",
            "\n",
            "Epoch 00242: saving model to ./checkpoints/training1/cp.ckpt\n",
            "\n",
            "Epoch 00243: saving model to ./checkpoints/training1/cp.ckpt\n",
            "\n",
            "Epoch 00244: saving model to ./checkpoints/training1/cp.ckpt\n",
            "\n",
            "Epoch 00245: saving model to ./checkpoints/training1/cp.ckpt\n",
            "\n",
            "Epoch 00246: saving model to ./checkpoints/training1/cp.ckpt\n",
            "\n",
            "Epoch 00247: saving model to ./checkpoints/training1/cp.ckpt\n",
            "\n",
            "Epoch 00248: saving model to ./checkpoints/training1/cp.ckpt\n",
            "\n",
            "Epoch 00249: saving model to ./checkpoints/training1/cp.ckpt\n",
            "\n",
            "Epoch 00250: saving model to ./checkpoints/training1/cp.ckpt\n",
            "\n",
            "Epoch 00251: saving model to ./checkpoints/training1/cp.ckpt\n",
            "\n",
            "Epoch 00252: saving model to ./checkpoints/training1/cp.ckpt\n",
            "\n",
            "Epoch 00253: saving model to ./checkpoints/training1/cp.ckpt\n",
            "\n",
            "Epoch 00254: saving model to ./checkpoints/training1/cp.ckpt\n",
            "\n",
            "Epoch 00255: saving model to ./checkpoints/training1/cp.ckpt\n",
            "\n",
            "Epoch 00256: saving model to ./checkpoints/training1/cp.ckpt\n",
            "\n",
            "Epoch 00257: saving model to ./checkpoints/training1/cp.ckpt\n",
            "\n",
            "Epoch 00258: saving model to ./checkpoints/training1/cp.ckpt\n",
            "\n",
            "Epoch 00259: saving model to ./checkpoints/training1/cp.ckpt\n",
            "\n",
            "Epoch 00260: saving model to ./checkpoints/training1/cp.ckpt\n",
            "\n",
            "Epoch 00261: saving model to ./checkpoints/training1/cp.ckpt\n",
            "\n",
            "Epoch 00262: saving model to ./checkpoints/training1/cp.ckpt\n",
            "\n",
            "Epoch 00263: saving model to ./checkpoints/training1/cp.ckpt\n",
            "\n",
            "Epoch 00264: saving model to ./checkpoints/training1/cp.ckpt\n",
            "\n",
            "Epoch 00265: saving model to ./checkpoints/training1/cp.ckpt\n",
            "\n",
            "Epoch 00266: saving model to ./checkpoints/training1/cp.ckpt\n",
            "\n",
            "Epoch 00267: saving model to ./checkpoints/training1/cp.ckpt\n",
            "\n",
            "Epoch 00268: saving model to ./checkpoints/training1/cp.ckpt\n",
            "\n",
            "Epoch 00269: saving model to ./checkpoints/training1/cp.ckpt\n",
            "\n",
            "Epoch 00270: saving model to ./checkpoints/training1/cp.ckpt\n",
            "\n",
            "Epoch 00271: saving model to ./checkpoints/training1/cp.ckpt\n",
            "\n",
            "Epoch 00272: saving model to ./checkpoints/training1/cp.ckpt\n",
            "\n",
            "Epoch 00273: saving model to ./checkpoints/training1/cp.ckpt\n",
            "\n",
            "Epoch 00274: saving model to ./checkpoints/training1/cp.ckpt\n",
            "\n",
            "Epoch 00275: saving model to ./checkpoints/training1/cp.ckpt\n",
            "\n",
            "Epoch 00276: saving model to ./checkpoints/training1/cp.ckpt\n",
            "\n",
            "Epoch 00277: saving model to ./checkpoints/training1/cp.ckpt\n",
            "\n",
            "Epoch 00278: saving model to ./checkpoints/training1/cp.ckpt\n",
            "\n",
            "Epoch 00279: saving model to ./checkpoints/training1/cp.ckpt\n",
            "\n",
            "Epoch 00280: saving model to ./checkpoints/training1/cp.ckpt\n",
            "\n",
            "Epoch 00281: saving model to ./checkpoints/training1/cp.ckpt\n",
            "\n",
            "Epoch 00282: saving model to ./checkpoints/training1/cp.ckpt\n",
            "\n",
            "Epoch 00283: saving model to ./checkpoints/training1/cp.ckpt\n",
            "\n",
            "Epoch 00284: saving model to ./checkpoints/training1/cp.ckpt\n",
            "\n",
            "Epoch 00285: saving model to ./checkpoints/training1/cp.ckpt\n",
            "\n",
            "Epoch 00286: saving model to ./checkpoints/training1/cp.ckpt\n",
            "\n",
            "Epoch 00287: saving model to ./checkpoints/training1/cp.ckpt\n",
            "\n",
            "Epoch 00288: saving model to ./checkpoints/training1/cp.ckpt\n",
            "\n",
            "Epoch 00289: saving model to ./checkpoints/training1/cp.ckpt\n",
            "\n",
            "Epoch 00290: saving model to ./checkpoints/training1/cp.ckpt\n",
            "\n",
            "Epoch 00291: saving model to ./checkpoints/training1/cp.ckpt\n",
            "\n",
            "Epoch 00292: saving model to ./checkpoints/training1/cp.ckpt\n",
            "\n",
            "Epoch 00293: saving model to ./checkpoints/training1/cp.ckpt\n",
            "\n",
            "Epoch 00294: saving model to ./checkpoints/training1/cp.ckpt\n",
            "\n",
            "Epoch 00295: saving model to ./checkpoints/training1/cp.ckpt\n",
            "\n",
            "Epoch 00296: saving model to ./checkpoints/training1/cp.ckpt\n",
            "\n",
            "Epoch 00297: saving model to ./checkpoints/training1/cp.ckpt\n",
            "\n",
            "Epoch 00298: saving model to ./checkpoints/training1/cp.ckpt\n",
            "\n",
            "Epoch 00299: saving model to ./checkpoints/training1/cp.ckpt\n",
            "\n",
            "Epoch 00300: saving model to ./checkpoints/training1/cp.ckpt\n",
            "\n",
            "Epoch 00301: saving model to ./checkpoints/training1/cp.ckpt\n",
            "\n",
            "Epoch 00302: saving model to ./checkpoints/training1/cp.ckpt\n",
            "\n",
            "Epoch 00303: saving model to ./checkpoints/training1/cp.ckpt\n",
            "\n",
            "Epoch 00304: saving model to ./checkpoints/training1/cp.ckpt\n",
            "\n",
            "Epoch 00305: saving model to ./checkpoints/training1/cp.ckpt\n",
            "\n",
            "Epoch 00306: saving model to ./checkpoints/training1/cp.ckpt\n",
            "\n",
            "Epoch 00307: saving model to ./checkpoints/training1/cp.ckpt\n",
            "\n",
            "Epoch 00308: saving model to ./checkpoints/training1/cp.ckpt\n",
            "\n",
            "Epoch 00309: saving model to ./checkpoints/training1/cp.ckpt\n",
            "\n",
            "Epoch 00310: saving model to ./checkpoints/training1/cp.ckpt\n",
            "\n",
            "Epoch 00311: saving model to ./checkpoints/training1/cp.ckpt\n",
            "\n",
            "Epoch 00312: saving model to ./checkpoints/training1/cp.ckpt\n",
            "\n",
            "Epoch 00313: saving model to ./checkpoints/training1/cp.ckpt\n",
            "\n",
            "Epoch 00314: saving model to ./checkpoints/training1/cp.ckpt\n",
            "\n",
            "Epoch 00315: saving model to ./checkpoints/training1/cp.ckpt\n",
            "\n",
            "Epoch 00316: saving model to ./checkpoints/training1/cp.ckpt\n",
            "\n",
            "Epoch 00317: saving model to ./checkpoints/training1/cp.ckpt\n",
            "\n",
            "Epoch 00318: saving model to ./checkpoints/training1/cp.ckpt\n",
            "\n",
            "Epoch 00319: saving model to ./checkpoints/training1/cp.ckpt\n",
            "\n",
            "Epoch 00320: saving model to ./checkpoints/training1/cp.ckpt\n",
            "\n",
            "Epoch 00321: saving model to ./checkpoints/training1/cp.ckpt\n",
            "\n",
            "Epoch 00322: saving model to ./checkpoints/training1/cp.ckpt\n",
            "\n",
            "Epoch 00323: saving model to ./checkpoints/training1/cp.ckpt\n",
            "\n",
            "Epoch 00324: saving model to ./checkpoints/training1/cp.ckpt\n",
            "\n",
            "Epoch 00325: saving model to ./checkpoints/training1/cp.ckpt\n",
            "\n",
            "Epoch 00326: saving model to ./checkpoints/training1/cp.ckpt\n",
            "\n",
            "Epoch 00327: saving model to ./checkpoints/training1/cp.ckpt\n",
            "\n",
            "Epoch 00328: saving model to ./checkpoints/training1/cp.ckpt\n",
            "\n",
            "Epoch 00329: saving model to ./checkpoints/training1/cp.ckpt\n",
            "\n",
            "Epoch 00330: saving model to ./checkpoints/training1/cp.ckpt\n",
            "\n",
            "Epoch 00331: saving model to ./checkpoints/training1/cp.ckpt\n",
            "\n",
            "Epoch 00332: saving model to ./checkpoints/training1/cp.ckpt\n",
            "\n",
            "Epoch 00333: saving model to ./checkpoints/training1/cp.ckpt\n",
            "\n",
            "Epoch 00334: saving model to ./checkpoints/training1/cp.ckpt\n",
            "\n",
            "Epoch 00335: saving model to ./checkpoints/training1/cp.ckpt\n",
            "\n",
            "Epoch 00336: saving model to ./checkpoints/training1/cp.ckpt\n",
            "\n",
            "Epoch 00337: saving model to ./checkpoints/training1/cp.ckpt\n",
            "\n",
            "Epoch 00338: saving model to ./checkpoints/training1/cp.ckpt\n",
            "\n",
            "Epoch 00339: saving model to ./checkpoints/training1/cp.ckpt\n",
            "\n",
            "Epoch 00340: saving model to ./checkpoints/training1/cp.ckpt\n",
            "\n",
            "Epoch 00341: saving model to ./checkpoints/training1/cp.ckpt\n",
            "\n",
            "Epoch 00342: saving model to ./checkpoints/training1/cp.ckpt\n",
            "\n",
            "Epoch 00343: saving model to ./checkpoints/training1/cp.ckpt\n",
            "\n",
            "Epoch 00344: saving model to ./checkpoints/training1/cp.ckpt\n",
            "\n",
            "Epoch 00345: saving model to ./checkpoints/training1/cp.ckpt\n",
            "\n",
            "Epoch 00346: saving model to ./checkpoints/training1/cp.ckpt\n",
            "\n",
            "Epoch 00347: saving model to ./checkpoints/training1/cp.ckpt\n",
            "\n",
            "Epoch 00348: saving model to ./checkpoints/training1/cp.ckpt\n",
            "\n",
            "Epoch 00349: saving model to ./checkpoints/training1/cp.ckpt\n",
            "\n",
            "Epoch 00350: saving model to ./checkpoints/training1/cp.ckpt\n",
            "\n",
            "Epoch 00351: saving model to ./checkpoints/training1/cp.ckpt\n",
            "\n",
            "Epoch 00352: saving model to ./checkpoints/training1/cp.ckpt\n",
            "\n",
            "Epoch 00353: saving model to ./checkpoints/training1/cp.ckpt\n",
            "\n",
            "Epoch 00354: saving model to ./checkpoints/training1/cp.ckpt\n",
            "\n",
            "Epoch 00355: saving model to ./checkpoints/training1/cp.ckpt\n",
            "\n",
            "Epoch 00356: saving model to ./checkpoints/training1/cp.ckpt\n",
            "\n",
            "Epoch 00357: saving model to ./checkpoints/training1/cp.ckpt\n",
            "\n",
            "Epoch 00358: saving model to ./checkpoints/training1/cp.ckpt\n",
            "\n",
            "Epoch 00359: saving model to ./checkpoints/training1/cp.ckpt\n",
            "\n",
            "Epoch 00360: saving model to ./checkpoints/training1/cp.ckpt\n",
            "\n",
            "Epoch 00361: saving model to ./checkpoints/training1/cp.ckpt\n",
            "\n",
            "Epoch 00362: saving model to ./checkpoints/training1/cp.ckpt\n",
            "\n",
            "Epoch 00363: saving model to ./checkpoints/training1/cp.ckpt\n",
            "\n",
            "Epoch 00364: saving model to ./checkpoints/training1/cp.ckpt\n",
            "\n",
            "Epoch 00365: saving model to ./checkpoints/training1/cp.ckpt\n",
            "\n",
            "Epoch 00366: saving model to ./checkpoints/training1/cp.ckpt\n",
            "\n",
            "Epoch 00367: saving model to ./checkpoints/training1/cp.ckpt\n",
            "\n",
            "Epoch 00368: saving model to ./checkpoints/training1/cp.ckpt\n",
            "\n",
            "Epoch 00369: saving model to ./checkpoints/training1/cp.ckpt\n",
            "\n",
            "Epoch 00370: saving model to ./checkpoints/training1/cp.ckpt\n",
            "\n",
            "Epoch 00371: saving model to ./checkpoints/training1/cp.ckpt\n",
            "\n",
            "Epoch 00372: saving model to ./checkpoints/training1/cp.ckpt\n",
            "\n",
            "Epoch 00373: saving model to ./checkpoints/training1/cp.ckpt\n",
            "\n",
            "Epoch 00374: saving model to ./checkpoints/training1/cp.ckpt\n",
            "\n",
            "Epoch 00375: saving model to ./checkpoints/training1/cp.ckpt\n",
            "\n",
            "Epoch 00376: saving model to ./checkpoints/training1/cp.ckpt\n",
            "\n",
            "Epoch 00377: saving model to ./checkpoints/training1/cp.ckpt\n",
            "\n",
            "Epoch 00378: saving model to ./checkpoints/training1/cp.ckpt\n",
            "\n",
            "Epoch 00379: saving model to ./checkpoints/training1/cp.ckpt\n",
            "\n",
            "Epoch 00380: saving model to ./checkpoints/training1/cp.ckpt\n",
            "\n",
            "Epoch 00381: saving model to ./checkpoints/training1/cp.ckpt\n",
            "\n",
            "Epoch 00382: saving model to ./checkpoints/training1/cp.ckpt\n",
            "\n",
            "Epoch 00383: saving model to ./checkpoints/training1/cp.ckpt\n",
            "\n",
            "Epoch 00384: saving model to ./checkpoints/training1/cp.ckpt\n",
            "\n",
            "Epoch 00385: saving model to ./checkpoints/training1/cp.ckpt\n",
            "\n",
            "Epoch 00386: saving model to ./checkpoints/training1/cp.ckpt\n",
            "\n",
            "Epoch 00387: saving model to ./checkpoints/training1/cp.ckpt\n",
            "\n",
            "Epoch 00388: saving model to ./checkpoints/training1/cp.ckpt\n",
            "\n",
            "Epoch 00389: saving model to ./checkpoints/training1/cp.ckpt\n",
            "\n",
            "Epoch 00390: saving model to ./checkpoints/training1/cp.ckpt\n",
            "\n",
            "Epoch 00391: saving model to ./checkpoints/training1/cp.ckpt\n",
            "\n",
            "Epoch 00392: saving model to ./checkpoints/training1/cp.ckpt\n",
            "\n",
            "Epoch 00393: saving model to ./checkpoints/training1/cp.ckpt\n",
            "\n",
            "Epoch 00394: saving model to ./checkpoints/training1/cp.ckpt\n",
            "\n",
            "Epoch 00395: saving model to ./checkpoints/training1/cp.ckpt\n",
            "\n",
            "Epoch 00396: saving model to ./checkpoints/training1/cp.ckpt\n",
            "\n",
            "Epoch 00397: saving model to ./checkpoints/training1/cp.ckpt\n",
            "\n",
            "Epoch 00398: saving model to ./checkpoints/training1/cp.ckpt\n",
            "\n",
            "Epoch 00399: saving model to ./checkpoints/training1/cp.ckpt\n",
            "\n",
            "Epoch 00400: saving model to ./checkpoints/training1/cp.ckpt\n",
            "\n",
            "Epoch 00401: saving model to ./checkpoints/training1/cp.ckpt\n",
            "\n",
            "Epoch 00402: saving model to ./checkpoints/training1/cp.ckpt\n",
            "\n",
            "Epoch 00403: saving model to ./checkpoints/training1/cp.ckpt\n",
            "\n",
            "Epoch 00404: saving model to ./checkpoints/training1/cp.ckpt\n",
            "\n",
            "Epoch 00405: saving model to ./checkpoints/training1/cp.ckpt\n",
            "\n",
            "Epoch 00406: saving model to ./checkpoints/training1/cp.ckpt\n",
            "\n",
            "Epoch 00407: saving model to ./checkpoints/training1/cp.ckpt\n",
            "\n",
            "Epoch 00408: saving model to ./checkpoints/training1/cp.ckpt\n",
            "\n",
            "Epoch 00409: saving model to ./checkpoints/training1/cp.ckpt\n",
            "\n",
            "Epoch 00410: saving model to ./checkpoints/training1/cp.ckpt\n",
            "\n",
            "Epoch 00411: saving model to ./checkpoints/training1/cp.ckpt\n",
            "\n",
            "Epoch 00412: saving model to ./checkpoints/training1/cp.ckpt\n",
            "\n",
            "Epoch 00413: saving model to ./checkpoints/training1/cp.ckpt\n",
            "\n",
            "Epoch 00414: saving model to ./checkpoints/training1/cp.ckpt\n",
            "\n",
            "Epoch 00415: saving model to ./checkpoints/training1/cp.ckpt\n",
            "\n",
            "Epoch 00416: saving model to ./checkpoints/training1/cp.ckpt\n",
            "\n",
            "Epoch 00417: saving model to ./checkpoints/training1/cp.ckpt\n",
            "\n",
            "Epoch 00418: saving model to ./checkpoints/training1/cp.ckpt\n",
            "\n",
            "Epoch 00419: saving model to ./checkpoints/training1/cp.ckpt\n",
            "\n",
            "Epoch 00420: saving model to ./checkpoints/training1/cp.ckpt\n",
            "\n",
            "Epoch 00421: saving model to ./checkpoints/training1/cp.ckpt\n",
            "\n",
            "Epoch 00422: saving model to ./checkpoints/training1/cp.ckpt\n",
            "\n",
            "Epoch 00423: saving model to ./checkpoints/training1/cp.ckpt\n",
            "\n",
            "Epoch 00424: saving model to ./checkpoints/training1/cp.ckpt\n",
            "\n",
            "Epoch 00425: saving model to ./checkpoints/training1/cp.ckpt\n",
            "\n",
            "Epoch 00426: saving model to ./checkpoints/training1/cp.ckpt\n",
            "\n",
            "Epoch 00427: saving model to ./checkpoints/training1/cp.ckpt\n",
            "\n",
            "Epoch 00428: saving model to ./checkpoints/training1/cp.ckpt\n",
            "\n",
            "Epoch 00429: saving model to ./checkpoints/training1/cp.ckpt\n",
            "\n",
            "Epoch 00430: saving model to ./checkpoints/training1/cp.ckpt\n",
            "\n",
            "Epoch 00431: saving model to ./checkpoints/training1/cp.ckpt\n",
            "\n",
            "Epoch 00432: saving model to ./checkpoints/training1/cp.ckpt\n",
            "\n",
            "Epoch 00433: saving model to ./checkpoints/training1/cp.ckpt\n",
            "\n",
            "Epoch 00434: saving model to ./checkpoints/training1/cp.ckpt\n",
            "\n",
            "Epoch 00435: saving model to ./checkpoints/training1/cp.ckpt\n",
            "\n",
            "Epoch 00436: saving model to ./checkpoints/training1/cp.ckpt\n",
            "\n",
            "Epoch 00437: saving model to ./checkpoints/training1/cp.ckpt\n",
            "\n",
            "Epoch 00438: saving model to ./checkpoints/training1/cp.ckpt\n",
            "\n",
            "Epoch 00439: saving model to ./checkpoints/training1/cp.ckpt\n",
            "\n",
            "Epoch 00440: saving model to ./checkpoints/training1/cp.ckpt\n",
            "\n",
            "Epoch 00441: saving model to ./checkpoints/training1/cp.ckpt\n",
            "\n",
            "Epoch 00442: saving model to ./checkpoints/training1/cp.ckpt\n",
            "\n",
            "Epoch 00443: saving model to ./checkpoints/training1/cp.ckpt\n",
            "\n",
            "Epoch 00444: saving model to ./checkpoints/training1/cp.ckpt\n",
            "\n",
            "Epoch 00445: saving model to ./checkpoints/training1/cp.ckpt\n",
            "\n",
            "Epoch 00446: saving model to ./checkpoints/training1/cp.ckpt\n",
            "\n",
            "Epoch 00447: saving model to ./checkpoints/training1/cp.ckpt\n",
            "\n",
            "Epoch 00448: saving model to ./checkpoints/training1/cp.ckpt\n",
            "\n",
            "Epoch 00449: saving model to ./checkpoints/training1/cp.ckpt\n",
            "\n",
            "Epoch 00450: saving model to ./checkpoints/training1/cp.ckpt\n",
            "\n",
            "Epoch 00451: saving model to ./checkpoints/training1/cp.ckpt\n",
            "\n",
            "Epoch 00452: saving model to ./checkpoints/training1/cp.ckpt\n",
            "\n",
            "Epoch 00453: saving model to ./checkpoints/training1/cp.ckpt\n",
            "\n",
            "Epoch 00454: saving model to ./checkpoints/training1/cp.ckpt\n",
            "\n",
            "Epoch 00455: saving model to ./checkpoints/training1/cp.ckpt\n",
            "\n",
            "Epoch 00456: saving model to ./checkpoints/training1/cp.ckpt\n",
            "\n",
            "Epoch 00457: saving model to ./checkpoints/training1/cp.ckpt\n",
            "\n",
            "Epoch 00458: saving model to ./checkpoints/training1/cp.ckpt\n",
            "\n",
            "Epoch 00459: saving model to ./checkpoints/training1/cp.ckpt\n",
            "\n",
            "Epoch 00460: saving model to ./checkpoints/training1/cp.ckpt\n",
            "\n",
            "Epoch 00461: saving model to ./checkpoints/training1/cp.ckpt\n",
            "\n",
            "Epoch 00462: saving model to ./checkpoints/training1/cp.ckpt\n",
            "\n",
            "Epoch 00463: saving model to ./checkpoints/training1/cp.ckpt\n",
            "\n",
            "Epoch 00464: saving model to ./checkpoints/training1/cp.ckpt\n",
            "\n",
            "Epoch 00465: saving model to ./checkpoints/training1/cp.ckpt\n",
            "\n",
            "Epoch 00466: saving model to ./checkpoints/training1/cp.ckpt\n",
            "\n",
            "Epoch 00467: saving model to ./checkpoints/training1/cp.ckpt\n",
            "\n",
            "Epoch 00468: saving model to ./checkpoints/training1/cp.ckpt\n",
            "\n",
            "Epoch 00469: saving model to ./checkpoints/training1/cp.ckpt\n",
            "\n",
            "Epoch 00470: saving model to ./checkpoints/training1/cp.ckpt\n",
            "\n",
            "Epoch 00471: saving model to ./checkpoints/training1/cp.ckpt\n",
            "\n",
            "Epoch 00472: saving model to ./checkpoints/training1/cp.ckpt\n",
            "\n",
            "Epoch 00473: saving model to ./checkpoints/training1/cp.ckpt\n",
            "\n",
            "Epoch 00474: saving model to ./checkpoints/training1/cp.ckpt\n",
            "\n",
            "Epoch 00475: saving model to ./checkpoints/training1/cp.ckpt\n",
            "\n",
            "Epoch 00476: saving model to ./checkpoints/training1/cp.ckpt\n",
            "\n",
            "Epoch 00477: saving model to ./checkpoints/training1/cp.ckpt\n",
            "\n",
            "Epoch 00478: saving model to ./checkpoints/training1/cp.ckpt\n",
            "\n",
            "Epoch 00479: saving model to ./checkpoints/training1/cp.ckpt\n",
            "\n",
            "Epoch 00480: saving model to ./checkpoints/training1/cp.ckpt\n",
            "\n",
            "Epoch 00481: saving model to ./checkpoints/training1/cp.ckpt\n",
            "\n",
            "Epoch 00482: saving model to ./checkpoints/training1/cp.ckpt\n",
            "\n",
            "Epoch 00483: saving model to ./checkpoints/training1/cp.ckpt\n",
            "\n",
            "Epoch 00484: saving model to ./checkpoints/training1/cp.ckpt\n",
            "\n",
            "Epoch 00485: saving model to ./checkpoints/training1/cp.ckpt\n",
            "\n",
            "Epoch 00486: saving model to ./checkpoints/training1/cp.ckpt\n",
            "\n",
            "Epoch 00487: saving model to ./checkpoints/training1/cp.ckpt\n",
            "\n",
            "Epoch 00488: saving model to ./checkpoints/training1/cp.ckpt\n",
            "\n",
            "Epoch 00489: saving model to ./checkpoints/training1/cp.ckpt\n",
            "\n",
            "Epoch 00490: saving model to ./checkpoints/training1/cp.ckpt\n",
            "\n",
            "Epoch 00491: saving model to ./checkpoints/training1/cp.ckpt\n",
            "\n",
            "Epoch 00492: saving model to ./checkpoints/training1/cp.ckpt\n",
            "\n",
            "Epoch 00493: saving model to ./checkpoints/training1/cp.ckpt\n",
            "\n",
            "Epoch 00494: saving model to ./checkpoints/training1/cp.ckpt\n",
            "\n",
            "Epoch 00495: saving model to ./checkpoints/training1/cp.ckpt\n",
            "\n",
            "Epoch 00496: saving model to ./checkpoints/training1/cp.ckpt\n",
            "\n",
            "Epoch 00497: saving model to ./checkpoints/training1/cp.ckpt\n",
            "\n",
            "Epoch 00498: saving model to ./checkpoints/training1/cp.ckpt\n",
            "\n",
            "Epoch 00499: saving model to ./checkpoints/training1/cp.ckpt\n",
            "\n",
            "Epoch 00500: saving model to ./checkpoints/training1/cp.ckpt\n",
            "\n",
            "Epoch 00501: saving model to ./checkpoints/training1/cp.ckpt\n",
            "\n",
            "Epoch 00502: saving model to ./checkpoints/training1/cp.ckpt\n",
            "\n",
            "Epoch 00503: saving model to ./checkpoints/training1/cp.ckpt\n",
            "\n",
            "Epoch 00504: saving model to ./checkpoints/training1/cp.ckpt\n",
            "\n",
            "Epoch 00505: saving model to ./checkpoints/training1/cp.ckpt\n",
            "\n",
            "Epoch 00506: saving model to ./checkpoints/training1/cp.ckpt\n",
            "\n",
            "Epoch 00507: saving model to ./checkpoints/training1/cp.ckpt\n",
            "\n",
            "Epoch 00508: saving model to ./checkpoints/training1/cp.ckpt\n",
            "\n",
            "Epoch 00509: saving model to ./checkpoints/training1/cp.ckpt\n",
            "\n",
            "Epoch 00510: saving model to ./checkpoints/training1/cp.ckpt\n",
            "\n",
            "Epoch 00511: saving model to ./checkpoints/training1/cp.ckpt\n",
            "\n",
            "Epoch 00512: saving model to ./checkpoints/training1/cp.ckpt\n",
            "\n",
            "Epoch 00513: saving model to ./checkpoints/training1/cp.ckpt\n",
            "\n",
            "Epoch 00514: saving model to ./checkpoints/training1/cp.ckpt\n",
            "\n",
            "Epoch 00515: saving model to ./checkpoints/training1/cp.ckpt\n",
            "\n",
            "Epoch 00516: saving model to ./checkpoints/training1/cp.ckpt\n",
            "\n",
            "Epoch 00517: saving model to ./checkpoints/training1/cp.ckpt\n",
            "\n",
            "Epoch 00518: saving model to ./checkpoints/training1/cp.ckpt\n",
            "\n",
            "Epoch 00519: saving model to ./checkpoints/training1/cp.ckpt\n",
            "\n",
            "Epoch 00520: saving model to ./checkpoints/training1/cp.ckpt\n",
            "\n",
            "Epoch 00521: saving model to ./checkpoints/training1/cp.ckpt\n",
            "\n",
            "Epoch 00522: saving model to ./checkpoints/training1/cp.ckpt\n",
            "\n",
            "Epoch 00523: saving model to ./checkpoints/training1/cp.ckpt\n",
            "\n",
            "Epoch 00524: saving model to ./checkpoints/training1/cp.ckpt\n",
            "\n",
            "Epoch 00525: saving model to ./checkpoints/training1/cp.ckpt\n",
            "\n",
            "Epoch 00526: saving model to ./checkpoints/training1/cp.ckpt\n",
            "\n",
            "Epoch 00527: saving model to ./checkpoints/training1/cp.ckpt\n",
            "\n",
            "Epoch 00528: saving model to ./checkpoints/training1/cp.ckpt\n",
            "\n",
            "Epoch 00529: saving model to ./checkpoints/training1/cp.ckpt\n",
            "\n",
            "Epoch 00530: saving model to ./checkpoints/training1/cp.ckpt\n",
            "\n",
            "Epoch 00531: saving model to ./checkpoints/training1/cp.ckpt\n",
            "\n",
            "Epoch 00532: saving model to ./checkpoints/training1/cp.ckpt\n",
            "\n",
            "Epoch 00533: saving model to ./checkpoints/training1/cp.ckpt\n",
            "\n",
            "Epoch 00534: saving model to ./checkpoints/training1/cp.ckpt\n",
            "\n",
            "Epoch 00535: saving model to ./checkpoints/training1/cp.ckpt\n",
            "\n",
            "Epoch 00536: saving model to ./checkpoints/training1/cp.ckpt\n",
            "\n",
            "Epoch 00537: saving model to ./checkpoints/training1/cp.ckpt\n",
            "\n",
            "Epoch 00538: saving model to ./checkpoints/training1/cp.ckpt\n",
            "\n",
            "Epoch 00539: saving model to ./checkpoints/training1/cp.ckpt\n",
            "\n",
            "Epoch 00540: saving model to ./checkpoints/training1/cp.ckpt\n",
            "\n",
            "Epoch 00541: saving model to ./checkpoints/training1/cp.ckpt\n",
            "\n",
            "Epoch 00542: saving model to ./checkpoints/training1/cp.ckpt\n",
            "\n",
            "Epoch 00543: saving model to ./checkpoints/training1/cp.ckpt\n",
            "\n",
            "Epoch 00544: saving model to ./checkpoints/training1/cp.ckpt\n",
            "\n",
            "Epoch 00545: saving model to ./checkpoints/training1/cp.ckpt\n",
            "\n",
            "Epoch 00546: saving model to ./checkpoints/training1/cp.ckpt\n",
            "\n",
            "Epoch 00547: saving model to ./checkpoints/training1/cp.ckpt\n",
            "\n",
            "Epoch 00548: saving model to ./checkpoints/training1/cp.ckpt\n",
            "\n",
            "Epoch 00549: saving model to ./checkpoints/training1/cp.ckpt\n",
            "\n",
            "Epoch 00550: saving model to ./checkpoints/training1/cp.ckpt\n",
            "\n",
            "Epoch 00551: saving model to ./checkpoints/training1/cp.ckpt\n",
            "\n",
            "Epoch 00552: saving model to ./checkpoints/training1/cp.ckpt\n",
            "\n",
            "Epoch 00553: saving model to ./checkpoints/training1/cp.ckpt\n",
            "\n",
            "Epoch 00554: saving model to ./checkpoints/training1/cp.ckpt\n",
            "\n",
            "Epoch 00555: saving model to ./checkpoints/training1/cp.ckpt\n",
            "\n",
            "Epoch 00556: saving model to ./checkpoints/training1/cp.ckpt\n",
            "\n",
            "Epoch 00557: saving model to ./checkpoints/training1/cp.ckpt\n",
            "\n",
            "Epoch 00558: saving model to ./checkpoints/training1/cp.ckpt\n",
            "\n",
            "Epoch 00559: saving model to ./checkpoints/training1/cp.ckpt\n",
            "\n",
            "Epoch 00560: saving model to ./checkpoints/training1/cp.ckpt\n",
            "\n",
            "Epoch 00561: saving model to ./checkpoints/training1/cp.ckpt\n",
            "\n",
            "Epoch 00562: saving model to ./checkpoints/training1/cp.ckpt\n",
            "\n",
            "Epoch 00563: saving model to ./checkpoints/training1/cp.ckpt\n",
            "\n",
            "Epoch 00564: saving model to ./checkpoints/training1/cp.ckpt\n",
            "\n",
            "Epoch 00565: saving model to ./checkpoints/training1/cp.ckpt\n",
            "\n",
            "Epoch 00566: saving model to ./checkpoints/training1/cp.ckpt\n",
            "\n",
            "Epoch 00567: saving model to ./checkpoints/training1/cp.ckpt\n",
            "\n",
            "Epoch 00568: saving model to ./checkpoints/training1/cp.ckpt\n",
            "\n",
            "Epoch 00569: saving model to ./checkpoints/training1/cp.ckpt\n",
            "\n",
            "Epoch 00570: saving model to ./checkpoints/training1/cp.ckpt\n",
            "\n",
            "Epoch 00571: saving model to ./checkpoints/training1/cp.ckpt\n",
            "\n",
            "Epoch 00572: saving model to ./checkpoints/training1/cp.ckpt\n",
            "\n",
            "Epoch 00573: saving model to ./checkpoints/training1/cp.ckpt\n",
            "\n",
            "Epoch 00574: saving model to ./checkpoints/training1/cp.ckpt\n",
            "\n",
            "Epoch 00575: saving model to ./checkpoints/training1/cp.ckpt\n",
            "\n",
            "Epoch 00576: saving model to ./checkpoints/training1/cp.ckpt\n",
            "\n",
            "Epoch 00577: saving model to ./checkpoints/training1/cp.ckpt\n",
            "\n",
            "Epoch 00578: saving model to ./checkpoints/training1/cp.ckpt\n",
            "\n",
            "Epoch 00579: saving model to ./checkpoints/training1/cp.ckpt\n",
            "\n",
            "Epoch 00580: saving model to ./checkpoints/training1/cp.ckpt\n",
            "\n",
            "Epoch 00581: saving model to ./checkpoints/training1/cp.ckpt\n",
            "\n",
            "Epoch 00582: saving model to ./checkpoints/training1/cp.ckpt\n",
            "\n",
            "Epoch 00583: saving model to ./checkpoints/training1/cp.ckpt\n",
            "\n",
            "Epoch 00584: saving model to ./checkpoints/training1/cp.ckpt\n",
            "\n",
            "Epoch 00585: saving model to ./checkpoints/training1/cp.ckpt\n",
            "\n",
            "Epoch 00586: saving model to ./checkpoints/training1/cp.ckpt\n",
            "\n",
            "Epoch 00587: saving model to ./checkpoints/training1/cp.ckpt\n",
            "\n",
            "Epoch 00588: saving model to ./checkpoints/training1/cp.ckpt\n",
            "\n",
            "Epoch 00589: saving model to ./checkpoints/training1/cp.ckpt\n",
            "\n",
            "Epoch 00590: saving model to ./checkpoints/training1/cp.ckpt\n",
            "\n",
            "Epoch 00591: saving model to ./checkpoints/training1/cp.ckpt\n",
            "\n",
            "Epoch 00592: saving model to ./checkpoints/training1/cp.ckpt\n",
            "\n",
            "Epoch 00593: saving model to ./checkpoints/training1/cp.ckpt\n",
            "\n",
            "Epoch 00594: saving model to ./checkpoints/training1/cp.ckpt\n",
            "\n",
            "Epoch 00595: saving model to ./checkpoints/training1/cp.ckpt\n",
            "\n",
            "Epoch 00596: saving model to ./checkpoints/training1/cp.ckpt\n",
            "\n",
            "Epoch 00597: saving model to ./checkpoints/training1/cp.ckpt\n",
            "\n",
            "Epoch 00598: saving model to ./checkpoints/training1/cp.ckpt\n",
            "\n",
            "Epoch 00599: saving model to ./checkpoints/training1/cp.ckpt\n",
            "\n",
            "Epoch 00600: saving model to ./checkpoints/training1/cp.ckpt\n",
            "\n",
            "Epoch 00601: saving model to ./checkpoints/training1/cp.ckpt\n",
            "\n",
            "Epoch 00602: saving model to ./checkpoints/training1/cp.ckpt\n",
            "\n",
            "Epoch 00603: saving model to ./checkpoints/training1/cp.ckpt\n",
            "\n",
            "Epoch 00604: saving model to ./checkpoints/training1/cp.ckpt\n",
            "\n",
            "Epoch 00605: saving model to ./checkpoints/training1/cp.ckpt\n",
            "\n",
            "Epoch 00606: saving model to ./checkpoints/training1/cp.ckpt\n",
            "\n",
            "Epoch 00607: saving model to ./checkpoints/training1/cp.ckpt\n",
            "\n",
            "Epoch 00608: saving model to ./checkpoints/training1/cp.ckpt\n",
            "\n",
            "Epoch 00609: saving model to ./checkpoints/training1/cp.ckpt\n",
            "\n",
            "Epoch 00610: saving model to ./checkpoints/training1/cp.ckpt\n",
            "\n",
            "Epoch 00611: saving model to ./checkpoints/training1/cp.ckpt\n",
            "\n",
            "Epoch 00612: saving model to ./checkpoints/training1/cp.ckpt\n",
            "\n",
            "Epoch 00613: saving model to ./checkpoints/training1/cp.ckpt\n",
            "\n",
            "Epoch 00614: saving model to ./checkpoints/training1/cp.ckpt\n",
            "\n",
            "Epoch 00615: saving model to ./checkpoints/training1/cp.ckpt\n",
            "\n",
            "Epoch 00616: saving model to ./checkpoints/training1/cp.ckpt\n",
            "\n",
            "Epoch 00617: saving model to ./checkpoints/training1/cp.ckpt\n",
            "\n",
            "Epoch 00618: saving model to ./checkpoints/training1/cp.ckpt\n",
            "\n",
            "Epoch 00619: saving model to ./checkpoints/training1/cp.ckpt\n",
            "\n",
            "Epoch 00620: saving model to ./checkpoints/training1/cp.ckpt\n",
            "\n",
            "Epoch 00621: saving model to ./checkpoints/training1/cp.ckpt\n",
            "\n",
            "Epoch 00622: saving model to ./checkpoints/training1/cp.ckpt\n",
            "\n",
            "Epoch 00623: saving model to ./checkpoints/training1/cp.ckpt\n",
            "\n",
            "Epoch 00624: saving model to ./checkpoints/training1/cp.ckpt\n",
            "\n",
            "Epoch 00625: saving model to ./checkpoints/training1/cp.ckpt\n",
            "\n",
            "Epoch 00626: saving model to ./checkpoints/training1/cp.ckpt\n",
            "\n",
            "Epoch 00627: saving model to ./checkpoints/training1/cp.ckpt\n",
            "\n",
            "Epoch 00628: saving model to ./checkpoints/training1/cp.ckpt\n",
            "\n",
            "Epoch 00629: saving model to ./checkpoints/training1/cp.ckpt\n",
            "\n",
            "Epoch 00630: saving model to ./checkpoints/training1/cp.ckpt\n",
            "\n",
            "Epoch 00631: saving model to ./checkpoints/training1/cp.ckpt\n",
            "\n",
            "Epoch 00632: saving model to ./checkpoints/training1/cp.ckpt\n",
            "\n",
            "Epoch 00633: saving model to ./checkpoints/training1/cp.ckpt\n",
            "\n",
            "Epoch 00634: saving model to ./checkpoints/training1/cp.ckpt\n",
            "\n",
            "Epoch 00635: saving model to ./checkpoints/training1/cp.ckpt\n",
            "\n",
            "Epoch 00636: saving model to ./checkpoints/training1/cp.ckpt\n",
            "\n",
            "Epoch 00637: saving model to ./checkpoints/training1/cp.ckpt\n",
            "\n",
            "Epoch 00638: saving model to ./checkpoints/training1/cp.ckpt\n",
            "\n",
            "Epoch 00639: saving model to ./checkpoints/training1/cp.ckpt\n",
            "\n",
            "Epoch 00640: saving model to ./checkpoints/training1/cp.ckpt\n",
            "\n",
            "Epoch 00641: saving model to ./checkpoints/training1/cp.ckpt\n",
            "\n",
            "Epoch 00642: saving model to ./checkpoints/training1/cp.ckpt\n",
            "\n",
            "Epoch 00643: saving model to ./checkpoints/training1/cp.ckpt\n",
            "\n",
            "Epoch 00644: saving model to ./checkpoints/training1/cp.ckpt\n",
            "\n",
            "Epoch 00645: saving model to ./checkpoints/training1/cp.ckpt\n",
            "\n",
            "Epoch 00646: saving model to ./checkpoints/training1/cp.ckpt\n",
            "\n",
            "Epoch 00647: saving model to ./checkpoints/training1/cp.ckpt\n",
            "\n",
            "Epoch 00648: saving model to ./checkpoints/training1/cp.ckpt\n",
            "\n",
            "Epoch 00649: saving model to ./checkpoints/training1/cp.ckpt\n",
            "\n",
            "Epoch 00650: saving model to ./checkpoints/training1/cp.ckpt\n",
            "\n",
            "Epoch 00651: saving model to ./checkpoints/training1/cp.ckpt\n",
            "\n",
            "Epoch 00652: saving model to ./checkpoints/training1/cp.ckpt\n",
            "\n",
            "Epoch 00653: saving model to ./checkpoints/training1/cp.ckpt\n",
            "\n",
            "Epoch 00654: saving model to ./checkpoints/training1/cp.ckpt\n",
            "\n",
            "Epoch 00655: saving model to ./checkpoints/training1/cp.ckpt\n",
            "\n",
            "Epoch 00656: saving model to ./checkpoints/training1/cp.ckpt\n",
            "\n",
            "Epoch 00657: saving model to ./checkpoints/training1/cp.ckpt\n",
            "\n",
            "Epoch 00658: saving model to ./checkpoints/training1/cp.ckpt\n",
            "\n",
            "Epoch 00659: saving model to ./checkpoints/training1/cp.ckpt\n",
            "\n",
            "Epoch 00660: saving model to ./checkpoints/training1/cp.ckpt\n",
            "\n",
            "Epoch 00661: saving model to ./checkpoints/training1/cp.ckpt\n",
            "\n",
            "Epoch 00662: saving model to ./checkpoints/training1/cp.ckpt\n",
            "\n",
            "Epoch 00663: saving model to ./checkpoints/training1/cp.ckpt\n",
            "\n",
            "Epoch 00664: saving model to ./checkpoints/training1/cp.ckpt\n",
            "\n",
            "Epoch 00665: saving model to ./checkpoints/training1/cp.ckpt\n",
            "\n",
            "Epoch 00666: saving model to ./checkpoints/training1/cp.ckpt\n",
            "\n",
            "Epoch 00667: saving model to ./checkpoints/training1/cp.ckpt\n",
            "\n",
            "Epoch 00668: saving model to ./checkpoints/training1/cp.ckpt\n",
            "\n",
            "Epoch 00669: saving model to ./checkpoints/training1/cp.ckpt\n",
            "\n",
            "Epoch 00670: saving model to ./checkpoints/training1/cp.ckpt\n",
            "\n",
            "Epoch 00671: saving model to ./checkpoints/training1/cp.ckpt\n",
            "\n",
            "Epoch 00672: saving model to ./checkpoints/training1/cp.ckpt\n",
            "\n",
            "Epoch 00673: saving model to ./checkpoints/training1/cp.ckpt\n",
            "\n",
            "Epoch 00674: saving model to ./checkpoints/training1/cp.ckpt\n",
            "\n",
            "Epoch 00675: saving model to ./checkpoints/training1/cp.ckpt\n",
            "\n",
            "Epoch 00676: saving model to ./checkpoints/training1/cp.ckpt\n",
            "\n",
            "Epoch 00677: saving model to ./checkpoints/training1/cp.ckpt\n",
            "\n",
            "Epoch 00678: saving model to ./checkpoints/training1/cp.ckpt\n",
            "\n",
            "Epoch 00679: saving model to ./checkpoints/training1/cp.ckpt\n",
            "\n",
            "Epoch 00680: saving model to ./checkpoints/training1/cp.ckpt\n",
            "\n",
            "Epoch 00681: saving model to ./checkpoints/training1/cp.ckpt\n",
            "\n",
            "Epoch 00682: saving model to ./checkpoints/training1/cp.ckpt\n",
            "\n",
            "Epoch 00683: saving model to ./checkpoints/training1/cp.ckpt\n",
            "\n",
            "Epoch 00684: saving model to ./checkpoints/training1/cp.ckpt\n",
            "\n",
            "Epoch 00685: saving model to ./checkpoints/training1/cp.ckpt\n",
            "\n",
            "Epoch 00686: saving model to ./checkpoints/training1/cp.ckpt\n",
            "\n",
            "Epoch 00687: saving model to ./checkpoints/training1/cp.ckpt\n",
            "\n",
            "Epoch 00688: saving model to ./checkpoints/training1/cp.ckpt\n",
            "\n",
            "Epoch 00689: saving model to ./checkpoints/training1/cp.ckpt\n",
            "\n",
            "Epoch 00690: saving model to ./checkpoints/training1/cp.ckpt\n",
            "\n",
            "Epoch 00691: saving model to ./checkpoints/training1/cp.ckpt\n",
            "\n",
            "Epoch 00692: saving model to ./checkpoints/training1/cp.ckpt\n",
            "\n",
            "Epoch 00693: saving model to ./checkpoints/training1/cp.ckpt\n",
            "\n",
            "Epoch 00694: saving model to ./checkpoints/training1/cp.ckpt\n",
            "\n",
            "Epoch 00695: saving model to ./checkpoints/training1/cp.ckpt\n",
            "\n",
            "Epoch 00696: saving model to ./checkpoints/training1/cp.ckpt\n",
            "\n",
            "Epoch 00697: saving model to ./checkpoints/training1/cp.ckpt\n",
            "\n",
            "Epoch 00698: saving model to ./checkpoints/training1/cp.ckpt\n",
            "\n",
            "Epoch 00699: saving model to ./checkpoints/training1/cp.ckpt\n",
            "\n",
            "Epoch 00700: saving model to ./checkpoints/training1/cp.ckpt\n",
            "\n",
            "Epoch 00701: saving model to ./checkpoints/training1/cp.ckpt\n",
            "\n",
            "Epoch 00702: saving model to ./checkpoints/training1/cp.ckpt\n",
            "\n",
            "Epoch 00703: saving model to ./checkpoints/training1/cp.ckpt\n",
            "\n",
            "Epoch 00704: saving model to ./checkpoints/training1/cp.ckpt\n",
            "\n",
            "Epoch 00705: saving model to ./checkpoints/training1/cp.ckpt\n",
            "\n",
            "Epoch 00706: saving model to ./checkpoints/training1/cp.ckpt\n",
            "\n",
            "Epoch 00707: saving model to ./checkpoints/training1/cp.ckpt\n",
            "\n",
            "Epoch 00708: saving model to ./checkpoints/training1/cp.ckpt\n",
            "\n",
            "Epoch 00709: saving model to ./checkpoints/training1/cp.ckpt\n",
            "\n",
            "Epoch 00710: saving model to ./checkpoints/training1/cp.ckpt\n",
            "\n",
            "Epoch 00711: saving model to ./checkpoints/training1/cp.ckpt\n",
            "\n",
            "Epoch 00712: saving model to ./checkpoints/training1/cp.ckpt\n",
            "\n",
            "Epoch 00713: saving model to ./checkpoints/training1/cp.ckpt\n",
            "\n",
            "Epoch 00714: saving model to ./checkpoints/training1/cp.ckpt\n",
            "\n",
            "Epoch 00715: saving model to ./checkpoints/training1/cp.ckpt\n",
            "\n",
            "Epoch 00716: saving model to ./checkpoints/training1/cp.ckpt\n",
            "\n",
            "Epoch 00717: saving model to ./checkpoints/training1/cp.ckpt\n",
            "\n",
            "Epoch 00718: saving model to ./checkpoints/training1/cp.ckpt\n",
            "\n",
            "Epoch 00719: saving model to ./checkpoints/training1/cp.ckpt\n",
            "\n",
            "Epoch 00720: saving model to ./checkpoints/training1/cp.ckpt\n",
            "\n",
            "Epoch 00721: saving model to ./checkpoints/training1/cp.ckpt\n",
            "\n",
            "Epoch 00722: saving model to ./checkpoints/training1/cp.ckpt\n",
            "\n",
            "Epoch 00723: saving model to ./checkpoints/training1/cp.ckpt\n",
            "\n",
            "Epoch 00724: saving model to ./checkpoints/training1/cp.ckpt\n",
            "\n",
            "Epoch 00725: saving model to ./checkpoints/training1/cp.ckpt\n",
            "\n",
            "Epoch 00726: saving model to ./checkpoints/training1/cp.ckpt\n",
            "\n",
            "Epoch 00727: saving model to ./checkpoints/training1/cp.ckpt\n",
            "\n",
            "Epoch 00728: saving model to ./checkpoints/training1/cp.ckpt\n",
            "\n",
            "Epoch 00729: saving model to ./checkpoints/training1/cp.ckpt\n",
            "\n",
            "Epoch 00730: saving model to ./checkpoints/training1/cp.ckpt\n",
            "\n",
            "Epoch 00731: saving model to ./checkpoints/training1/cp.ckpt\n",
            "\n",
            "Epoch 00732: saving model to ./checkpoints/training1/cp.ckpt\n",
            "\n",
            "Epoch 00733: saving model to ./checkpoints/training1/cp.ckpt\n",
            "\n",
            "Epoch 00734: saving model to ./checkpoints/training1/cp.ckpt\n",
            "\n",
            "Epoch 00735: saving model to ./checkpoints/training1/cp.ckpt\n",
            "\n",
            "Epoch 00736: saving model to ./checkpoints/training1/cp.ckpt\n",
            "\n",
            "Epoch 00737: saving model to ./checkpoints/training1/cp.ckpt\n",
            "\n",
            "Epoch 00738: saving model to ./checkpoints/training1/cp.ckpt\n",
            "\n",
            "Epoch 00739: saving model to ./checkpoints/training1/cp.ckpt\n",
            "\n",
            "Epoch 00740: saving model to ./checkpoints/training1/cp.ckpt\n",
            "\n",
            "Epoch 00741: saving model to ./checkpoints/training1/cp.ckpt\n",
            "\n",
            "Epoch 00742: saving model to ./checkpoints/training1/cp.ckpt\n",
            "\n",
            "Epoch 00743: saving model to ./checkpoints/training1/cp.ckpt\n",
            "\n",
            "Epoch 00744: saving model to ./checkpoints/training1/cp.ckpt\n",
            "\n",
            "Epoch 00745: saving model to ./checkpoints/training1/cp.ckpt\n",
            "\n",
            "Epoch 00746: saving model to ./checkpoints/training1/cp.ckpt\n",
            "\n",
            "Epoch 00747: saving model to ./checkpoints/training1/cp.ckpt\n",
            "\n",
            "Epoch 00748: saving model to ./checkpoints/training1/cp.ckpt\n",
            "\n",
            "Epoch 00749: saving model to ./checkpoints/training1/cp.ckpt\n",
            "\n",
            "Epoch 00750: saving model to ./checkpoints/training1/cp.ckpt\n",
            "\n",
            "Epoch 00751: saving model to ./checkpoints/training1/cp.ckpt\n",
            "\n",
            "Epoch 00752: saving model to ./checkpoints/training1/cp.ckpt\n",
            "\n",
            "Epoch 00753: saving model to ./checkpoints/training1/cp.ckpt\n",
            "\n",
            "Epoch 00754: saving model to ./checkpoints/training1/cp.ckpt\n",
            "\n",
            "Epoch 00755: saving model to ./checkpoints/training1/cp.ckpt\n",
            "\n",
            "Epoch 00756: saving model to ./checkpoints/training1/cp.ckpt\n",
            "\n",
            "Epoch 00757: saving model to ./checkpoints/training1/cp.ckpt\n",
            "\n",
            "Epoch 00758: saving model to ./checkpoints/training1/cp.ckpt\n",
            "\n",
            "Epoch 00759: saving model to ./checkpoints/training1/cp.ckpt\n",
            "\n",
            "Epoch 00760: saving model to ./checkpoints/training1/cp.ckpt\n",
            "\n",
            "Epoch 00761: saving model to ./checkpoints/training1/cp.ckpt\n",
            "\n",
            "Epoch 00762: saving model to ./checkpoints/training1/cp.ckpt\n",
            "\n",
            "Epoch 00763: saving model to ./checkpoints/training1/cp.ckpt\n",
            "\n",
            "Epoch 00764: saving model to ./checkpoints/training1/cp.ckpt\n",
            "\n",
            "Epoch 00765: saving model to ./checkpoints/training1/cp.ckpt\n",
            "\n",
            "Epoch 00766: saving model to ./checkpoints/training1/cp.ckpt\n",
            "\n",
            "Epoch 00767: saving model to ./checkpoints/training1/cp.ckpt\n",
            "\n",
            "Epoch 00768: saving model to ./checkpoints/training1/cp.ckpt\n",
            "\n",
            "Epoch 00769: saving model to ./checkpoints/training1/cp.ckpt\n",
            "\n",
            "Epoch 00770: saving model to ./checkpoints/training1/cp.ckpt\n",
            "\n",
            "Epoch 00771: saving model to ./checkpoints/training1/cp.ckpt\n",
            "\n",
            "Epoch 00772: saving model to ./checkpoints/training1/cp.ckpt\n",
            "\n",
            "Epoch 00773: saving model to ./checkpoints/training1/cp.ckpt\n",
            "\n",
            "Epoch 00774: saving model to ./checkpoints/training1/cp.ckpt\n",
            "\n",
            "Epoch 00775: saving model to ./checkpoints/training1/cp.ckpt\n",
            "\n",
            "Epoch 00776: saving model to ./checkpoints/training1/cp.ckpt\n",
            "\n",
            "Epoch 00777: saving model to ./checkpoints/training1/cp.ckpt\n",
            "\n",
            "Epoch 00778: saving model to ./checkpoints/training1/cp.ckpt\n",
            "\n",
            "Epoch 00779: saving model to ./checkpoints/training1/cp.ckpt\n",
            "\n",
            "Epoch 00780: saving model to ./checkpoints/training1/cp.ckpt\n",
            "\n",
            "Epoch 00781: saving model to ./checkpoints/training1/cp.ckpt\n",
            "\n",
            "Epoch 00782: saving model to ./checkpoints/training1/cp.ckpt\n",
            "\n",
            "Epoch 00783: saving model to ./checkpoints/training1/cp.ckpt\n",
            "\n",
            "Epoch 00784: saving model to ./checkpoints/training1/cp.ckpt\n",
            "\n",
            "Epoch 00785: saving model to ./checkpoints/training1/cp.ckpt\n",
            "\n",
            "Epoch 00786: saving model to ./checkpoints/training1/cp.ckpt\n",
            "\n",
            "Epoch 00787: saving model to ./checkpoints/training1/cp.ckpt\n",
            "\n",
            "Epoch 00788: saving model to ./checkpoints/training1/cp.ckpt\n",
            "\n",
            "Epoch 00789: saving model to ./checkpoints/training1/cp.ckpt\n",
            "\n",
            "Epoch 00790: saving model to ./checkpoints/training1/cp.ckpt\n",
            "\n",
            "Epoch 00791: saving model to ./checkpoints/training1/cp.ckpt\n",
            "\n",
            "Epoch 00792: saving model to ./checkpoints/training1/cp.ckpt\n",
            "\n",
            "Epoch 00793: saving model to ./checkpoints/training1/cp.ckpt\n",
            "\n",
            "Epoch 00794: saving model to ./checkpoints/training1/cp.ckpt\n",
            "\n",
            "Epoch 00795: saving model to ./checkpoints/training1/cp.ckpt\n",
            "\n",
            "Epoch 00796: saving model to ./checkpoints/training1/cp.ckpt\n",
            "\n",
            "Epoch 00797: saving model to ./checkpoints/training1/cp.ckpt\n",
            "\n",
            "Epoch 00798: saving model to ./checkpoints/training1/cp.ckpt\n",
            "\n",
            "Epoch 00799: saving model to ./checkpoints/training1/cp.ckpt\n",
            "\n",
            "Epoch 00800: saving model to ./checkpoints/training1/cp.ckpt\n",
            "\n",
            "Epoch 00801: saving model to ./checkpoints/training1/cp.ckpt\n",
            "\n",
            "Epoch 00802: saving model to ./checkpoints/training1/cp.ckpt\n",
            "\n",
            "Epoch 00803: saving model to ./checkpoints/training1/cp.ckpt\n",
            "\n",
            "Epoch 00804: saving model to ./checkpoints/training1/cp.ckpt\n",
            "\n",
            "Epoch 00805: saving model to ./checkpoints/training1/cp.ckpt\n",
            "\n",
            "Epoch 00806: saving model to ./checkpoints/training1/cp.ckpt\n",
            "\n",
            "Epoch 00807: saving model to ./checkpoints/training1/cp.ckpt\n",
            "\n",
            "Epoch 00808: saving model to ./checkpoints/training1/cp.ckpt\n",
            "\n",
            "Epoch 00809: saving model to ./checkpoints/training1/cp.ckpt\n",
            "\n",
            "Epoch 00810: saving model to ./checkpoints/training1/cp.ckpt\n",
            "\n",
            "Epoch 00811: saving model to ./checkpoints/training1/cp.ckpt\n",
            "\n",
            "Epoch 00812: saving model to ./checkpoints/training1/cp.ckpt\n",
            "\n",
            "Epoch 00813: saving model to ./checkpoints/training1/cp.ckpt\n",
            "\n",
            "Epoch 00814: saving model to ./checkpoints/training1/cp.ckpt\n",
            "\n",
            "Epoch 00815: saving model to ./checkpoints/training1/cp.ckpt\n",
            "\n",
            "Epoch 00816: saving model to ./checkpoints/training1/cp.ckpt\n",
            "\n",
            "Epoch 00817: saving model to ./checkpoints/training1/cp.ckpt\n",
            "\n",
            "Epoch 00818: saving model to ./checkpoints/training1/cp.ckpt\n",
            "\n",
            "Epoch 00819: saving model to ./checkpoints/training1/cp.ckpt\n",
            "\n",
            "Epoch 00820: saving model to ./checkpoints/training1/cp.ckpt\n",
            "\n",
            "Epoch 00821: saving model to ./checkpoints/training1/cp.ckpt\n",
            "\n",
            "Epoch 00822: saving model to ./checkpoints/training1/cp.ckpt\n",
            "\n",
            "Epoch 00823: saving model to ./checkpoints/training1/cp.ckpt\n",
            "\n",
            "Epoch 00824: saving model to ./checkpoints/training1/cp.ckpt\n",
            "\n",
            "Epoch 00825: saving model to ./checkpoints/training1/cp.ckpt\n",
            "\n",
            "Epoch 00826: saving model to ./checkpoints/training1/cp.ckpt\n",
            "\n",
            "Epoch 00827: saving model to ./checkpoints/training1/cp.ckpt\n",
            "\n",
            "Epoch 00828: saving model to ./checkpoints/training1/cp.ckpt\n",
            "\n",
            "Epoch 00829: saving model to ./checkpoints/training1/cp.ckpt\n",
            "\n",
            "Epoch 00830: saving model to ./checkpoints/training1/cp.ckpt\n",
            "\n",
            "Epoch 00831: saving model to ./checkpoints/training1/cp.ckpt\n",
            "\n",
            "Epoch 00832: saving model to ./checkpoints/training1/cp.ckpt\n",
            "\n",
            "Epoch 00833: saving model to ./checkpoints/training1/cp.ckpt\n",
            "\n",
            "Epoch 00834: saving model to ./checkpoints/training1/cp.ckpt\n",
            "\n",
            "Epoch 00835: saving model to ./checkpoints/training1/cp.ckpt\n",
            "\n",
            "Epoch 00836: saving model to ./checkpoints/training1/cp.ckpt\n",
            "\n",
            "Epoch 00837: saving model to ./checkpoints/training1/cp.ckpt\n",
            "\n",
            "Epoch 00838: saving model to ./checkpoints/training1/cp.ckpt\n",
            "\n",
            "Epoch 00839: saving model to ./checkpoints/training1/cp.ckpt\n",
            "\n",
            "Epoch 00840: saving model to ./checkpoints/training1/cp.ckpt\n",
            "\n",
            "Epoch 00841: saving model to ./checkpoints/training1/cp.ckpt\n",
            "\n",
            "Epoch 00842: saving model to ./checkpoints/training1/cp.ckpt\n",
            "\n",
            "Epoch 00843: saving model to ./checkpoints/training1/cp.ckpt\n",
            "\n",
            "Epoch 00844: saving model to ./checkpoints/training1/cp.ckpt\n",
            "\n",
            "Epoch 00845: saving model to ./checkpoints/training1/cp.ckpt\n",
            "\n",
            "Epoch 00846: saving model to ./checkpoints/training1/cp.ckpt\n",
            "\n",
            "Epoch 00847: saving model to ./checkpoints/training1/cp.ckpt\n",
            "\n",
            "Epoch 00848: saving model to ./checkpoints/training1/cp.ckpt\n",
            "\n",
            "Epoch 00849: saving model to ./checkpoints/training1/cp.ckpt\n",
            "\n",
            "Epoch 00850: saving model to ./checkpoints/training1/cp.ckpt\n",
            "\n",
            "Epoch 00851: saving model to ./checkpoints/training1/cp.ckpt\n",
            "\n",
            "Epoch 00852: saving model to ./checkpoints/training1/cp.ckpt\n",
            "\n",
            "Epoch 00853: saving model to ./checkpoints/training1/cp.ckpt\n",
            "\n",
            "Epoch 00854: saving model to ./checkpoints/training1/cp.ckpt\n",
            "\n",
            "Epoch 00855: saving model to ./checkpoints/training1/cp.ckpt\n",
            "\n",
            "Epoch 00856: saving model to ./checkpoints/training1/cp.ckpt\n",
            "\n",
            "Epoch 00857: saving model to ./checkpoints/training1/cp.ckpt\n",
            "\n",
            "Epoch 00858: saving model to ./checkpoints/training1/cp.ckpt\n",
            "\n",
            "Epoch 00859: saving model to ./checkpoints/training1/cp.ckpt\n",
            "\n",
            "Epoch 00860: saving model to ./checkpoints/training1/cp.ckpt\n",
            "\n",
            "Epoch 00861: saving model to ./checkpoints/training1/cp.ckpt\n",
            "\n",
            "Epoch 00862: saving model to ./checkpoints/training1/cp.ckpt\n",
            "\n",
            "Epoch 00863: saving model to ./checkpoints/training1/cp.ckpt\n",
            "\n",
            "Epoch 00864: saving model to ./checkpoints/training1/cp.ckpt\n",
            "\n",
            "Epoch 00865: saving model to ./checkpoints/training1/cp.ckpt\n",
            "\n",
            "Epoch 00866: saving model to ./checkpoints/training1/cp.ckpt\n",
            "\n",
            "Epoch 00867: saving model to ./checkpoints/training1/cp.ckpt\n",
            "\n",
            "Epoch 00868: saving model to ./checkpoints/training1/cp.ckpt\n",
            "\n",
            "Epoch 00869: saving model to ./checkpoints/training1/cp.ckpt\n",
            "\n",
            "Epoch 00870: saving model to ./checkpoints/training1/cp.ckpt\n",
            "\n",
            "Epoch 00871: saving model to ./checkpoints/training1/cp.ckpt\n",
            "\n",
            "Epoch 00872: saving model to ./checkpoints/training1/cp.ckpt\n",
            "\n",
            "Epoch 00873: saving model to ./checkpoints/training1/cp.ckpt\n",
            "\n",
            "Epoch 00874: saving model to ./checkpoints/training1/cp.ckpt\n",
            "\n",
            "Epoch 00875: saving model to ./checkpoints/training1/cp.ckpt\n",
            "\n",
            "Epoch 00876: saving model to ./checkpoints/training1/cp.ckpt\n",
            "\n",
            "Epoch 00877: saving model to ./checkpoints/training1/cp.ckpt\n",
            "\n",
            "Epoch 00878: saving model to ./checkpoints/training1/cp.ckpt\n",
            "\n",
            "Epoch 00879: saving model to ./checkpoints/training1/cp.ckpt\n",
            "\n",
            "Epoch 00880: saving model to ./checkpoints/training1/cp.ckpt\n",
            "\n",
            "Epoch 00881: saving model to ./checkpoints/training1/cp.ckpt\n",
            "\n",
            "Epoch 00882: saving model to ./checkpoints/training1/cp.ckpt\n",
            "\n",
            "Epoch 00883: saving model to ./checkpoints/training1/cp.ckpt\n",
            "\n",
            "Epoch 00884: saving model to ./checkpoints/training1/cp.ckpt\n",
            "\n",
            "Epoch 00885: saving model to ./checkpoints/training1/cp.ckpt\n",
            "\n",
            "Epoch 00886: saving model to ./checkpoints/training1/cp.ckpt\n",
            "\n",
            "Epoch 00887: saving model to ./checkpoints/training1/cp.ckpt\n",
            "\n",
            "Epoch 00888: saving model to ./checkpoints/training1/cp.ckpt\n",
            "\n",
            "Epoch 00889: saving model to ./checkpoints/training1/cp.ckpt\n",
            "\n",
            "Epoch 00890: saving model to ./checkpoints/training1/cp.ckpt\n",
            "\n",
            "Epoch 00891: saving model to ./checkpoints/training1/cp.ckpt\n",
            "\n",
            "Epoch 00892: saving model to ./checkpoints/training1/cp.ckpt\n",
            "\n",
            "Epoch 00893: saving model to ./checkpoints/training1/cp.ckpt\n",
            "\n",
            "Epoch 00894: saving model to ./checkpoints/training1/cp.ckpt\n",
            "\n",
            "Epoch 00895: saving model to ./checkpoints/training1/cp.ckpt\n",
            "\n",
            "Epoch 00896: saving model to ./checkpoints/training1/cp.ckpt\n",
            "\n",
            "Epoch 00897: saving model to ./checkpoints/training1/cp.ckpt\n",
            "\n",
            "Epoch 00898: saving model to ./checkpoints/training1/cp.ckpt\n",
            "\n",
            "Epoch 00899: saving model to ./checkpoints/training1/cp.ckpt\n",
            "\n",
            "Epoch 00900: saving model to ./checkpoints/training1/cp.ckpt\n",
            "\n",
            "Epoch 00901: saving model to ./checkpoints/training1/cp.ckpt\n",
            "\n",
            "Epoch 00902: saving model to ./checkpoints/training1/cp.ckpt\n",
            "\n",
            "Epoch 00903: saving model to ./checkpoints/training1/cp.ckpt\n",
            "\n",
            "Epoch 00904: saving model to ./checkpoints/training1/cp.ckpt\n",
            "\n",
            "Epoch 00905: saving model to ./checkpoints/training1/cp.ckpt\n",
            "\n",
            "Epoch 00906: saving model to ./checkpoints/training1/cp.ckpt\n",
            "\n",
            "Epoch 00907: saving model to ./checkpoints/training1/cp.ckpt\n",
            "\n",
            "Epoch 00908: saving model to ./checkpoints/training1/cp.ckpt\n",
            "\n",
            "Epoch 00909: saving model to ./checkpoints/training1/cp.ckpt\n",
            "\n",
            "Epoch 00910: saving model to ./checkpoints/training1/cp.ckpt\n",
            "\n",
            "Epoch 00911: saving model to ./checkpoints/training1/cp.ckpt\n",
            "\n",
            "Epoch 00912: saving model to ./checkpoints/training1/cp.ckpt\n",
            "\n",
            "Epoch 00913: saving model to ./checkpoints/training1/cp.ckpt\n",
            "\n",
            "Epoch 00914: saving model to ./checkpoints/training1/cp.ckpt\n",
            "\n",
            "Epoch 00915: saving model to ./checkpoints/training1/cp.ckpt\n",
            "\n",
            "Epoch 00916: saving model to ./checkpoints/training1/cp.ckpt\n",
            "\n",
            "Epoch 00917: saving model to ./checkpoints/training1/cp.ckpt\n",
            "\n",
            "Epoch 00918: saving model to ./checkpoints/training1/cp.ckpt\n",
            "\n",
            "Epoch 00919: saving model to ./checkpoints/training1/cp.ckpt\n",
            "\n",
            "Epoch 00920: saving model to ./checkpoints/training1/cp.ckpt\n",
            "\n",
            "Epoch 00921: saving model to ./checkpoints/training1/cp.ckpt\n",
            "\n",
            "Epoch 00922: saving model to ./checkpoints/training1/cp.ckpt\n",
            "\n",
            "Epoch 00923: saving model to ./checkpoints/training1/cp.ckpt\n",
            "\n",
            "Epoch 00924: saving model to ./checkpoints/training1/cp.ckpt\n",
            "\n",
            "Epoch 00925: saving model to ./checkpoints/training1/cp.ckpt\n",
            "\n",
            "Epoch 00926: saving model to ./checkpoints/training1/cp.ckpt\n",
            "\n",
            "Epoch 00927: saving model to ./checkpoints/training1/cp.ckpt\n",
            "\n",
            "Epoch 00928: saving model to ./checkpoints/training1/cp.ckpt\n",
            "\n",
            "Epoch 00929: saving model to ./checkpoints/training1/cp.ckpt\n",
            "\n",
            "Epoch 00930: saving model to ./checkpoints/training1/cp.ckpt\n",
            "\n",
            "Epoch 00931: saving model to ./checkpoints/training1/cp.ckpt\n",
            "\n",
            "Epoch 00932: saving model to ./checkpoints/training1/cp.ckpt\n",
            "\n",
            "Epoch 00933: saving model to ./checkpoints/training1/cp.ckpt\n",
            "\n",
            "Epoch 00934: saving model to ./checkpoints/training1/cp.ckpt\n",
            "\n",
            "Epoch 00935: saving model to ./checkpoints/training1/cp.ckpt\n",
            "\n",
            "Epoch 00936: saving model to ./checkpoints/training1/cp.ckpt\n",
            "\n",
            "Epoch 00937: saving model to ./checkpoints/training1/cp.ckpt\n",
            "\n",
            "Epoch 00938: saving model to ./checkpoints/training1/cp.ckpt\n",
            "\n",
            "Epoch 00939: saving model to ./checkpoints/training1/cp.ckpt\n",
            "\n",
            "Epoch 00940: saving model to ./checkpoints/training1/cp.ckpt\n",
            "\n",
            "Epoch 00941: saving model to ./checkpoints/training1/cp.ckpt\n",
            "\n",
            "Epoch 00942: saving model to ./checkpoints/training1/cp.ckpt\n",
            "\n",
            "Epoch 00943: saving model to ./checkpoints/training1/cp.ckpt\n",
            "\n",
            "Epoch 00944: saving model to ./checkpoints/training1/cp.ckpt\n",
            "\n",
            "Epoch 00945: saving model to ./checkpoints/training1/cp.ckpt\n",
            "\n",
            "Epoch 00946: saving model to ./checkpoints/training1/cp.ckpt\n",
            "\n",
            "Epoch 00947: saving model to ./checkpoints/training1/cp.ckpt\n",
            "\n",
            "Epoch 00948: saving model to ./checkpoints/training1/cp.ckpt\n",
            "\n",
            "Epoch 00949: saving model to ./checkpoints/training1/cp.ckpt\n",
            "\n",
            "Epoch 00950: saving model to ./checkpoints/training1/cp.ckpt\n",
            "\n",
            "Epoch 00951: saving model to ./checkpoints/training1/cp.ckpt\n",
            "\n",
            "Epoch 00952: saving model to ./checkpoints/training1/cp.ckpt\n",
            "\n",
            "Epoch 00953: saving model to ./checkpoints/training1/cp.ckpt\n",
            "\n",
            "Epoch 00954: saving model to ./checkpoints/training1/cp.ckpt\n",
            "\n",
            "Epoch 00955: saving model to ./checkpoints/training1/cp.ckpt\n",
            "\n",
            "Epoch 00956: saving model to ./checkpoints/training1/cp.ckpt\n",
            "\n",
            "Epoch 00957: saving model to ./checkpoints/training1/cp.ckpt\n",
            "\n",
            "Epoch 00958: saving model to ./checkpoints/training1/cp.ckpt\n",
            "\n",
            "Epoch 00959: saving model to ./checkpoints/training1/cp.ckpt\n",
            "\n",
            "Epoch 00960: saving model to ./checkpoints/training1/cp.ckpt\n",
            "\n",
            "Epoch 00961: saving model to ./checkpoints/training1/cp.ckpt\n",
            "\n",
            "Epoch 00962: saving model to ./checkpoints/training1/cp.ckpt\n",
            "\n",
            "Epoch 00963: saving model to ./checkpoints/training1/cp.ckpt\n",
            "\n",
            "Epoch 00964: saving model to ./checkpoints/training1/cp.ckpt\n",
            "\n",
            "Epoch 00965: saving model to ./checkpoints/training1/cp.ckpt\n",
            "\n",
            "Epoch 00966: saving model to ./checkpoints/training1/cp.ckpt\n",
            "\n",
            "Epoch 00967: saving model to ./checkpoints/training1/cp.ckpt\n",
            "\n",
            "Epoch 00968: saving model to ./checkpoints/training1/cp.ckpt\n",
            "\n",
            "Epoch 00969: saving model to ./checkpoints/training1/cp.ckpt\n",
            "\n",
            "Epoch 00970: saving model to ./checkpoints/training1/cp.ckpt\n",
            "\n",
            "Epoch 00971: saving model to ./checkpoints/training1/cp.ckpt\n",
            "\n",
            "Epoch 00972: saving model to ./checkpoints/training1/cp.ckpt\n",
            "\n",
            "Epoch 00973: saving model to ./checkpoints/training1/cp.ckpt\n",
            "\n",
            "Epoch 00974: saving model to ./checkpoints/training1/cp.ckpt\n",
            "\n",
            "Epoch 00975: saving model to ./checkpoints/training1/cp.ckpt\n",
            "\n",
            "Epoch 00976: saving model to ./checkpoints/training1/cp.ckpt\n",
            "\n",
            "Epoch 00977: saving model to ./checkpoints/training1/cp.ckpt\n",
            "\n",
            "Epoch 00978: saving model to ./checkpoints/training1/cp.ckpt\n",
            "\n",
            "Epoch 00979: saving model to ./checkpoints/training1/cp.ckpt\n",
            "\n",
            "Epoch 00980: saving model to ./checkpoints/training1/cp.ckpt\n",
            "\n",
            "Epoch 00981: saving model to ./checkpoints/training1/cp.ckpt\n",
            "\n",
            "Epoch 00982: saving model to ./checkpoints/training1/cp.ckpt\n",
            "\n",
            "Epoch 00983: saving model to ./checkpoints/training1/cp.ckpt\n",
            "\n",
            "Epoch 00984: saving model to ./checkpoints/training1/cp.ckpt\n",
            "\n",
            "Epoch 00985: saving model to ./checkpoints/training1/cp.ckpt\n",
            "\n",
            "Epoch 00986: saving model to ./checkpoints/training1/cp.ckpt\n",
            "\n",
            "Epoch 00987: saving model to ./checkpoints/training1/cp.ckpt\n",
            "\n",
            "Epoch 00988: saving model to ./checkpoints/training1/cp.ckpt\n",
            "\n",
            "Epoch 00989: saving model to ./checkpoints/training1/cp.ckpt\n",
            "\n",
            "Epoch 00990: saving model to ./checkpoints/training1/cp.ckpt\n",
            "\n",
            "Epoch 00991: saving model to ./checkpoints/training1/cp.ckpt\n",
            "\n",
            "Epoch 00992: saving model to ./checkpoints/training1/cp.ckpt\n",
            "\n",
            "Epoch 00993: saving model to ./checkpoints/training1/cp.ckpt\n",
            "\n",
            "Epoch 00994: saving model to ./checkpoints/training1/cp.ckpt\n",
            "\n",
            "Epoch 00995: saving model to ./checkpoints/training1/cp.ckpt\n",
            "\n",
            "Epoch 00996: saving model to ./checkpoints/training1/cp.ckpt\n",
            "\n",
            "Epoch 00997: saving model to ./checkpoints/training1/cp.ckpt\n",
            "\n",
            "Epoch 00998: saving model to ./checkpoints/training1/cp.ckpt\n",
            "\n",
            "Epoch 00999: saving model to ./checkpoints/training1/cp.ckpt\n",
            "\n",
            "Epoch 01000: saving model to ./checkpoints/training1/cp.ckpt\n"
          ],
          "name": "stdout"
        }
      ]
    },
    {
      "cell_type": "code",
      "metadata": {
        "id": "YWUiWgORliif",
        "colab_type": "code",
        "outputId": "659f94ef-606a-4188-8f98-e5cccd733ed7",
        "colab": {
          "base_uri": "https://localhost:8080/",
          "height": 677
        }
      },
      "source": [
        "hist = pd.DataFrame(history.history)\n",
        "hist['epoch'] = history.epoch\n",
        "hist[::EPOCHS//20]"
      ],
      "execution_count": 142,
      "outputs": [
        {
          "output_type": "execute_result",
          "data": {
            "text/html": [
              "<div>\n",
              "<style scoped>\n",
              "    .dataframe tbody tr th:only-of-type {\n",
              "        vertical-align: middle;\n",
              "    }\n",
              "\n",
              "    .dataframe tbody tr th {\n",
              "        vertical-align: top;\n",
              "    }\n",
              "\n",
              "    .dataframe thead th {\n",
              "        text-align: right;\n",
              "    }\n",
              "</style>\n",
              "<table border=\"1\" class=\"dataframe\">\n",
              "  <thead>\n",
              "    <tr style=\"text-align: right;\">\n",
              "      <th></th>\n",
              "      <th>loss</th>\n",
              "      <th>mae</th>\n",
              "      <th>mse</th>\n",
              "      <th>val_loss</th>\n",
              "      <th>val_mae</th>\n",
              "      <th>val_mse</th>\n",
              "      <th>epoch</th>\n",
              "    </tr>\n",
              "  </thead>\n",
              "  <tbody>\n",
              "    <tr>\n",
              "      <th>0</th>\n",
              "      <td>6856.195370</td>\n",
              "      <td>41.310379</td>\n",
              "      <td>6856.192383</td>\n",
              "      <td>28.613425</td>\n",
              "      <td>4.133322</td>\n",
              "      <td>28.613428</td>\n",
              "      <td>0</td>\n",
              "    </tr>\n",
              "    <tr>\n",
              "      <th>50</th>\n",
              "      <td>41.958845</td>\n",
              "      <td>5.241192</td>\n",
              "      <td>41.958847</td>\n",
              "      <td>11.907544</td>\n",
              "      <td>3.086460</td>\n",
              "      <td>11.907543</td>\n",
              "      <td>50</td>\n",
              "    </tr>\n",
              "    <tr>\n",
              "      <th>100</th>\n",
              "      <td>7.816903</td>\n",
              "      <td>2.229787</td>\n",
              "      <td>7.816902</td>\n",
              "      <td>12.113593</td>\n",
              "      <td>3.208978</td>\n",
              "      <td>12.113592</td>\n",
              "      <td>100</td>\n",
              "    </tr>\n",
              "    <tr>\n",
              "      <th>150</th>\n",
              "      <td>3.141032</td>\n",
              "      <td>1.368585</td>\n",
              "      <td>3.141032</td>\n",
              "      <td>2.198515</td>\n",
              "      <td>1.173081</td>\n",
              "      <td>2.198515</td>\n",
              "      <td>150</td>\n",
              "    </tr>\n",
              "    <tr>\n",
              "      <th>200</th>\n",
              "      <td>2.147798</td>\n",
              "      <td>1.093956</td>\n",
              "      <td>2.147798</td>\n",
              "      <td>1.927126</td>\n",
              "      <td>1.046022</td>\n",
              "      <td>1.927126</td>\n",
              "      <td>200</td>\n",
              "    </tr>\n",
              "    <tr>\n",
              "      <th>250</th>\n",
              "      <td>2.333265</td>\n",
              "      <td>1.169323</td>\n",
              "      <td>2.333265</td>\n",
              "      <td>1.615871</td>\n",
              "      <td>0.945077</td>\n",
              "      <td>1.615871</td>\n",
              "      <td>250</td>\n",
              "    </tr>\n",
              "    <tr>\n",
              "      <th>300</th>\n",
              "      <td>1.825289</td>\n",
              "      <td>0.983373</td>\n",
              "      <td>1.825289</td>\n",
              "      <td>1.590028</td>\n",
              "      <td>0.917079</td>\n",
              "      <td>1.590028</td>\n",
              "      <td>300</td>\n",
              "    </tr>\n",
              "    <tr>\n",
              "      <th>350</th>\n",
              "      <td>2.225899</td>\n",
              "      <td>1.118524</td>\n",
              "      <td>2.225899</td>\n",
              "      <td>1.594481</td>\n",
              "      <td>0.930798</td>\n",
              "      <td>1.594481</td>\n",
              "      <td>350</td>\n",
              "    </tr>\n",
              "    <tr>\n",
              "      <th>400</th>\n",
              "      <td>1.956330</td>\n",
              "      <td>1.041731</td>\n",
              "      <td>1.956330</td>\n",
              "      <td>2.593274</td>\n",
              "      <td>1.284257</td>\n",
              "      <td>2.593274</td>\n",
              "      <td>400</td>\n",
              "    </tr>\n",
              "    <tr>\n",
              "      <th>450</th>\n",
              "      <td>2.441538</td>\n",
              "      <td>1.202501</td>\n",
              "      <td>2.441538</td>\n",
              "      <td>1.738708</td>\n",
              "      <td>1.001647</td>\n",
              "      <td>1.738708</td>\n",
              "      <td>450</td>\n",
              "    </tr>\n",
              "    <tr>\n",
              "      <th>500</th>\n",
              "      <td>1.972626</td>\n",
              "      <td>1.043677</td>\n",
              "      <td>1.972626</td>\n",
              "      <td>1.664650</td>\n",
              "      <td>0.960800</td>\n",
              "      <td>1.664650</td>\n",
              "      <td>500</td>\n",
              "    </tr>\n",
              "    <tr>\n",
              "      <th>550</th>\n",
              "      <td>1.761906</td>\n",
              "      <td>0.968901</td>\n",
              "      <td>1.761905</td>\n",
              "      <td>1.612476</td>\n",
              "      <td>0.930643</td>\n",
              "      <td>1.612476</td>\n",
              "      <td>550</td>\n",
              "    </tr>\n",
              "    <tr>\n",
              "      <th>600</th>\n",
              "      <td>2.133347</td>\n",
              "      <td>1.097013</td>\n",
              "      <td>2.133347</td>\n",
              "      <td>1.803904</td>\n",
              "      <td>1.005090</td>\n",
              "      <td>1.803904</td>\n",
              "      <td>600</td>\n",
              "    </tr>\n",
              "    <tr>\n",
              "      <th>650</th>\n",
              "      <td>1.992008</td>\n",
              "      <td>1.054294</td>\n",
              "      <td>1.992009</td>\n",
              "      <td>4.615915</td>\n",
              "      <td>1.863241</td>\n",
              "      <td>4.615915</td>\n",
              "      <td>650</td>\n",
              "    </tr>\n",
              "    <tr>\n",
              "      <th>700</th>\n",
              "      <td>1.720903</td>\n",
              "      <td>0.952349</td>\n",
              "      <td>1.720903</td>\n",
              "      <td>1.571596</td>\n",
              "      <td>0.907926</td>\n",
              "      <td>1.571596</td>\n",
              "      <td>700</td>\n",
              "    </tr>\n",
              "    <tr>\n",
              "      <th>750</th>\n",
              "      <td>1.896009</td>\n",
              "      <td>1.018262</td>\n",
              "      <td>1.896010</td>\n",
              "      <td>1.735727</td>\n",
              "      <td>0.985286</td>\n",
              "      <td>1.735727</td>\n",
              "      <td>750</td>\n",
              "    </tr>\n",
              "    <tr>\n",
              "      <th>800</th>\n",
              "      <td>1.668287</td>\n",
              "      <td>0.929796</td>\n",
              "      <td>1.668287</td>\n",
              "      <td>1.653378</td>\n",
              "      <td>0.946083</td>\n",
              "      <td>1.653378</td>\n",
              "      <td>800</td>\n",
              "    </tr>\n",
              "    <tr>\n",
              "      <th>850</th>\n",
              "      <td>2.030977</td>\n",
              "      <td>1.075307</td>\n",
              "      <td>2.030977</td>\n",
              "      <td>1.597094</td>\n",
              "      <td>0.930686</td>\n",
              "      <td>1.597093</td>\n",
              "      <td>850</td>\n",
              "    </tr>\n",
              "    <tr>\n",
              "      <th>900</th>\n",
              "      <td>1.811664</td>\n",
              "      <td>0.980417</td>\n",
              "      <td>1.811664</td>\n",
              "      <td>1.619236</td>\n",
              "      <td>0.942963</td>\n",
              "      <td>1.619235</td>\n",
              "      <td>900</td>\n",
              "    </tr>\n",
              "    <tr>\n",
              "      <th>950</th>\n",
              "      <td>2.019877</td>\n",
              "      <td>1.059023</td>\n",
              "      <td>2.019877</td>\n",
              "      <td>1.552658</td>\n",
              "      <td>0.900492</td>\n",
              "      <td>1.552658</td>\n",
              "      <td>950</td>\n",
              "    </tr>\n",
              "  </tbody>\n",
              "</table>\n",
              "</div>"
            ],
            "text/plain": [
              "            loss        mae          mse   val_loss   val_mae    val_mse  epoch\n",
              "0    6856.195370  41.310379  6856.192383  28.613425  4.133322  28.613428      0\n",
              "50     41.958845   5.241192    41.958847  11.907544  3.086460  11.907543     50\n",
              "100     7.816903   2.229787     7.816902  12.113593  3.208978  12.113592    100\n",
              "150     3.141032   1.368585     3.141032   2.198515  1.173081   2.198515    150\n",
              "200     2.147798   1.093956     2.147798   1.927126  1.046022   1.927126    200\n",
              "250     2.333265   1.169323     2.333265   1.615871  0.945077   1.615871    250\n",
              "300     1.825289   0.983373     1.825289   1.590028  0.917079   1.590028    300\n",
              "350     2.225899   1.118524     2.225899   1.594481  0.930798   1.594481    350\n",
              "400     1.956330   1.041731     1.956330   2.593274  1.284257   2.593274    400\n",
              "450     2.441538   1.202501     2.441538   1.738708  1.001647   1.738708    450\n",
              "500     1.972626   1.043677     1.972626   1.664650  0.960800   1.664650    500\n",
              "550     1.761906   0.968901     1.761905   1.612476  0.930643   1.612476    550\n",
              "600     2.133347   1.097013     2.133347   1.803904  1.005090   1.803904    600\n",
              "650     1.992008   1.054294     1.992009   4.615915  1.863241   4.615915    650\n",
              "700     1.720903   0.952349     1.720903   1.571596  0.907926   1.571596    700\n",
              "750     1.896009   1.018262     1.896010   1.735727  0.985286   1.735727    750\n",
              "800     1.668287   0.929796     1.668287   1.653378  0.946083   1.653378    800\n",
              "850     2.030977   1.075307     2.030977   1.597094  0.930686   1.597093    850\n",
              "900     1.811664   0.980417     1.811664   1.619236  0.942963   1.619235    900\n",
              "950     2.019877   1.059023     2.019877   1.552658  0.900492   1.552658    950"
            ]
          },
          "metadata": {
            "tags": []
          },
          "execution_count": 142
        }
      ]
    },
    {
      "cell_type": "code",
      "metadata": {
        "id": "5STN5MutNyzP",
        "colab_type": "code",
        "colab": {}
      },
      "source": [
        "def plot_history(history, ylim_mae=False, ylim_mse=False):\n",
        "    hist = pd.DataFrame(history.history)\n",
        "    hist['epoch'] = history.epoch\n",
        "\n",
        "    plt.figure(figsize=(20,6))\n",
        "\n",
        "    plt.subplot(1,2,1)\n",
        "    plt.xlabel('Epoch')\n",
        "    plt.ylabel('Mean Abs Error [Y]]')\n",
        "    plt.plot(hist['epoch'], hist['mae'],\n",
        "            label='Train Error')\n",
        "    plt.plot(hist['epoch'], hist['val_mae'],\n",
        "            label = 'Val Error')\n",
        "    if ylim_mae: \n",
        "        plt.ylim(ylim_mae)\n",
        "    else:\n",
        "        plt.ylim([0,5])\n",
        "    plt.legend()\n",
        "\n",
        "    plt.subplot(1,2,2)\n",
        "    plt.xlabel('Epoch')\n",
        "    plt.ylabel('Mean Square Error [$Y^2$]')\n",
        "    plt.plot(hist['epoch'], hist['mse'], label='Train Error')\n",
        "    plt.plot(hist['epoch'], hist['val_mse'], label = 'Val Error')\n",
        "    if ylim_mse: \n",
        "        plt.ylim(ylim_mse)\n",
        "    else:\n",
        "        plt.ylim([0,20])\n",
        "    plt.legend()\n",
        "    plt.show()\n"
      ],
      "execution_count": 0,
      "outputs": []
    },
    {
      "cell_type": "code",
      "metadata": {
        "id": "YvG-9__tkyQz",
        "colab_type": "code",
        "outputId": "83222312-bf58-4ca7-e1ea-447b4cfd8c45",
        "colab": {
          "base_uri": "https://localhost:8080/",
          "height": 412
        }
      },
      "source": [
        "plot_history(history)"
      ],
      "execution_count": 144,
      "outputs": [
        {
          "output_type": "display_data",
          "data": {
            "image/png": "[encoded data removed]",
            "text/plain": [
              "<Figure size 1440x432 with 2 Axes>"
            ]
          },
          "metadata": {
            "tags": []
          }
        }
      ]
    },
    {
      "cell_type": "code",
      "metadata": {
        "id": "22KwMCaamGKW",
        "colab_type": "code",
        "colab": {
          "base_uri": "https://localhost:8080/",
          "height": 52
        },
        "outputId": "5e58717d-6d0f-4c4b-8ae1-00b9de819bf4"
      },
      "source": [
        "!ls {checkpoint_dir}\n"
      ],
      "execution_count": 145,
      "outputs": [
        {
          "output_type": "stream",
          "text": [
            "checkpoint\t\t     cp.ckpt.data-00001-of-00002\n",
            "cp.ckpt.data-00000-of-00002  cp.ckpt.index\n"
          ],
          "name": "stdout"
        }
      ]
    },
    {
      "cell_type": "markdown",
      "metadata": {
        "id": "xUFEYL8Lntv2",
        "colab_type": "text"
      },
      "source": [
        "### finetuning"
      ]
    },
    {
      "cell_type": "code",
      "metadata": {
        "id": "AGBGRMnPuqZJ",
        "colab_type": "code",
        "colab": {
          "base_uri": "https://localhost:8080/",
          "height": 52
        },
        "outputId": "d2cfa06f-207f-4de6-b9c8-9c7de621e4a7"
      },
      "source": [
        "model = create_model()"
      ],
      "execution_count": 146,
      "outputs": [
        {
          "output_type": "stream",
          "text": [
            "Executing op RandomUniform in device /job:localhost/replica:0/task:0/device:GPU:0\n",
            "Executing op RandomUniform in device /job:localhost/replica:0/task:0/device:GPU:0\n"
          ],
          "name": "stdout"
        }
      ]
    },
    {
      "cell_type": "code",
      "metadata": {
        "id": "n2WNjla00GEN",
        "colab_type": "code",
        "colab": {
          "base_uri": "https://localhost:8080/",
          "height": 34
        },
        "outputId": "7f40e7f1-d8fe-4233-a23e-9d853d0fe755"
      },
      "source": [
        "# Include the epoch in the file name (uses `str.format`)\n",
        "checkpoint_model = '{:04d}'.format(1) \n",
        "checkpoint_path = \"./checkpoints/training1_finetune/cp-\" + checkpoint_model +\".ckpt\"\n",
        "checkpoint_dir = os.path.dirname(checkpoint_path)\n",
        "checkpoint_path"
      ],
      "execution_count": 151,
      "outputs": [
        {
          "output_type": "execute_result",
          "data": {
            "text/plain": [
              "'./checkpoints/training1_finetune/cp-0001.ckpt'"
            ]
          },
          "metadata": {
            "tags": []
          },
          "execution_count": 151
        }
      ]
    },
    {
      "cell_type": "code",
      "metadata": {
        "id": "LZKcf_8iuqgZ",
        "colab_type": "code",
        "colab": {
          "base_uri": "https://localhost:8080/",
          "height": 523
        },
        "outputId": "421dcc88-a675-4e54-c7c7-c64a1fb83e31"
      },
      "source": [
        "# Create a callback that saves the model's weights every 5 epochs\n",
        "cp_callback = tf.keras.callbacks.ModelCheckpoint(\n",
        "    filepath=checkpoint_path, \n",
        "    verbose=1, \n",
        "    save_weights_only=True,\n",
        "    period=5)\n",
        "\n",
        "# Create a new model instance\n",
        "model = create_model()\n",
        "\n",
        "# Save the weights using the `checkpoint_path` format\n",
        "model.save_weights(checkpoint_path.format(epoch=0))\n",
        "\n",
        "# Train the model with the new callback\n",
        "model.fit(train_dataset_ft, \n",
        "          train_labels_ft,\n",
        "          epochs=50, \n",
        "          callbacks=[cp_callback],\n",
        "          validation_data=(test_dataset_ft,test_labels_ft),\n",
        "          verbose=0)\n"
      ],
      "execution_count": 152,
      "outputs": [
        {
          "output_type": "stream",
          "text": [
            "WARNING:tensorflow:`period` argument is deprecated. Please use `save_freq` to specify the frequency in number of samples seen.\n",
            "Executing op RandomUniform in device /job:localhost/replica:0/task:0/device:GPU:0\n",
            "Executing op RandomUniform in device /job:localhost/replica:0/task:0/device:GPU:0\n",
            "Executing op SaveV2 in device /job:localhost/replica:0/task:0/device:CPU:0\n",
            "WARNING:tensorflow:Falling back from v2 loop because of error: Failed to find data adapter that can handle input: <class 'pandas.core.frame.DataFrame'>, <class 'NoneType'>\n",
            "Executing op __inference_keras_scratch_graph_3100306 in device /job:localhost/replica:0/task:0/device:GPU:0\n",
            "Executing op __inference_keras_scratch_graph_3100452 in device /job:localhost/replica:0/task:0/device:GPU:0\n",
            "\n",
            "Epoch 00005: saving model to ./checkpoints/training1_finetune/cp-0001.ckpt\n",
            "\n",
            "Epoch 00010: saving model to ./checkpoints/training1_finetune/cp-0001.ckpt\n",
            "\n",
            "Epoch 00015: saving model to ./checkpoints/training1_finetune/cp-0001.ckpt\n",
            "\n",
            "Epoch 00020: saving model to ./checkpoints/training1_finetune/cp-0001.ckpt\n",
            "\n",
            "Epoch 00025: saving model to ./checkpoints/training1_finetune/cp-0001.ckpt\n",
            "\n",
            "Epoch 00030: saving model to ./checkpoints/training1_finetune/cp-0001.ckpt\n",
            "\n",
            "Epoch 00035: saving model to ./checkpoints/training1_finetune/cp-0001.ckpt\n",
            "\n",
            "Epoch 00040: saving model to ./checkpoints/training1_finetune/cp-0001.ckpt\n",
            "\n",
            "Epoch 00045: saving model to ./checkpoints/training1_finetune/cp-0001.ckpt\n",
            "\n",
            "Epoch 00050: saving model to ./checkpoints/training1_finetune/cp-0001.ckpt\n"
          ],
          "name": "stdout"
        },
        {
          "output_type": "execute_result",
          "data": {
            "text/plain": [
              "<tensorflow.python.keras.callbacks.History at 0x7fa3d03d9780>"
            ]
          },
          "metadata": {
            "tags": []
          },
          "execution_count": 152
        }
      ]
    },
    {
      "cell_type": "code",
      "metadata": {
        "id": "1uWyl-1JwHzK",
        "colab_type": "code",
        "colab": {
          "base_uri": "https://localhost:8080/",
          "height": 52
        },
        "outputId": "705d41d9-4bb0-4896-a935-f67d136f53a9"
      },
      "source": [
        "ls {checkpoint_dir}"
      ],
      "execution_count": 153,
      "outputs": [
        {
          "output_type": "stream",
          "text": [
            "checkpoint                        cp-0001.ckpt.data-00001-of-00002\n",
            "cp-0001.ckpt.data-00000-of-00002  cp-0001.ckpt.index\n"
          ],
          "name": "stdout"
        }
      ]
    },
    {
      "cell_type": "code",
      "metadata": {
        "id": "9Z50a0-bwKI2",
        "colab_type": "code",
        "colab": {
          "base_uri": "https://localhost:8080/",
          "height": 34
        },
        "outputId": "a61cdafd-76fd-48f4-b0e2-5b9ae8117dfe"
      },
      "source": [
        "latest = tf.train.latest_checkpoint(checkpoint_dir)\n",
        "latest"
      ],
      "execution_count": 154,
      "outputs": [
        {
          "output_type": "execute_result",
          "data": {
            "text/plain": [
              "'./checkpoints/training1_finetune/cp-0001.ckpt'"
            ]
          },
          "metadata": {
            "tags": []
          },
          "execution_count": 154
        }
      ]
    },
    {
      "cell_type": "markdown",
      "metadata": {
        "id": "tYN59fXxxbWK",
        "colab_type": "text"
      },
      "source": [
        "### predict"
      ]
    },
    {
      "cell_type": "code",
      "metadata": {
        "colab_type": "code",
        "outputId": "256a5c60-380f-4a44-b3cd-ca03403de506",
        "id": "V1d32bOl1S7v",
        "colab": {
          "base_uri": "https://localhost:8080/",
          "height": 106
        }
      },
      "source": [
        "# Create a new model instance\n",
        "model = create_model()\n",
        "\n",
        "# Load the previously saved weights\n",
        "model.load_weights(latest)\n",
        "\n",
        "# predict \n",
        "test_predictions = model.predict(df_test[x_col]).flatten()"
      ],
      "execution_count": 157,
      "outputs": [
        {
          "output_type": "stream",
          "text": [
            "Executing op RandomUniform in device /job:localhost/replica:0/task:0/device:GPU:0\n",
            "Executing op RandomUniform in device /job:localhost/replica:0/task:0/device:GPU:0\n",
            "WARNING:tensorflow:Falling back from v2 loop because of error: Failed to find data adapter that can handle input: <class 'pandas.core.frame.DataFrame'>, <class 'NoneType'>\n",
            "Executing op __inference_keras_scratch_graph_3106852 in device /job:localhost/replica:0/task:0/device:GPU:0\n"
          ],
          "name": "stdout"
        }
      ]
    },
    {
      "cell_type": "code",
      "metadata": {
        "id": "V4hPBeKZ3elK",
        "colab_type": "code",
        "colab": {}
      },
      "source": [
        "# 제출 파일 만들기\n",
        "submit = pd.DataFrame({'id':range(144*33, 144*113),\n",
        "              'Y18':test_predictions.reshape(1,-1)[0]})"
      ],
      "execution_count": 0,
      "outputs": []
    },
    {
      "cell_type": "code",
      "metadata": {
        "id": "4LcyHw2n3gId",
        "colab_type": "code",
        "colab": {}
      },
      "source": [
        "now = datetime.now()\n",
        "now =now.strftime('%m%d_%H%M')\n",
        "submit.to_csv('./results/linear_'+ now +'.csv', index = False)"
      ],
      "execution_count": 0,
      "outputs": []
    },
    {
      "cell_type": "code",
      "metadata": {
        "id": "Wd3myaB_3wYB",
        "colab_type": "code",
        "colab": {}
      },
      "source": [
        ""
      ],
      "execution_count": 0,
      "outputs": []
    },
    {
      "cell_type": "markdown",
      "metadata": {
        "colab_type": "text",
        "id": "rtLKSo3h6oKj"
      },
      "source": [
        "## model2"
      ]
    },
    {
      "cell_type": "markdown",
      "metadata": {
        "colab_type": "text",
        "id": "y0dNXmvm6oLB"
      },
      "source": [
        "#### Build the model"
      ]
    },
    {
      "cell_type": "code",
      "metadata": {
        "colab_type": "code",
        "id": "dPKp97Or6oLK",
        "colab": {}
      },
      "source": [
        "def create_model():\n",
        "    model = keras.Sequential([\n",
        "            layers.Dense(1, activation='linear', input_shape=[1]),\n",
        "            #layers.Dense(2, activation='relu'),\n",
        "            #layers.Dense(1)\n",
        "    ])\n",
        "    optimizer = tf.keras.optimizers.RMSprop(0.005)\n",
        "    model.compile(loss='mse',\n",
        "                  optimizer=optimizer,\n",
        "                  metrics=['mae', 'mse'])\n",
        "    return model"
      ],
      "execution_count": 0,
      "outputs": []
    },
    {
      "cell_type": "code",
      "metadata": {
        "colab_type": "code",
        "id": "vVkZDcZI6oLY",
        "colab": {}
      },
      "source": [
        "model2 = create_model()"
      ],
      "execution_count": 0,
      "outputs": []
    },
    {
      "cell_type": "markdown",
      "metadata": {
        "colab_type": "text",
        "id": "mtt-14v36oLh"
      },
      "source": [
        "#### Inspect the model"
      ]
    },
    {
      "cell_type": "code",
      "metadata": {
        "colab_type": "code",
        "id": "nHxmZLN66oLj",
        "colab": {}
      },
      "source": [
        "model2.summary()"
      ],
      "execution_count": 0,
      "outputs": []
    },
    {
      "cell_type": "code",
      "metadata": {
        "colab_type": "code",
        "id": "LkCqu1St6oLr",
        "colab": {}
      },
      "source": [
        "example_batch = test_predictions[:10]\n",
        "example_result = model2.predict(example_batch)\n",
        "example_result"
      ],
      "execution_count": 0,
      "outputs": []
    },
    {
      "cell_type": "markdown",
      "metadata": {
        "colab_type": "text",
        "id": "VbDVQO5t6oLy"
      },
      "source": [
        "#### Train the model"
      ]
    },
    {
      "cell_type": "code",
      "metadata": {
        "colab_type": "code",
        "id": "6tt51Un_6oLz",
        "colab": {}
      },
      "source": [
        "EPOCHS = 40\n",
        "## model1를 이용해 Yi를 예측한 결과를 train data로 이용\n",
        "## Y18을 test data로 함\n",
        "tmp_features =  model.predict(df[x_col][n:n+n//10])\n",
        "tmp_labels = np.array(df['Y18'][n:n+n//10])\n",
        "\n",
        "history = model2.fit(\n",
        "  tmp_features, tmp_labels,\n",
        "  epochs=EPOCHS, validation_split = 0.1, verbose=0,\n",
        "  callbacks=[PrintDot()])"
      ],
      "execution_count": 0,
      "outputs": []
    },
    {
      "cell_type": "code",
      "metadata": {
        "colab_type": "code",
        "outputId": "5f02d042-cac1-4087-b051-53c406420762",
        "id": "wwxKEtPo6oL5",
        "colab": {
          "base_uri": "https://localhost:8080/",
          "height": 206
        }
      },
      "source": [
        "hist = pd.DataFrame(history.history)\n",
        "hist['epoch'] = history.epoch\n",
        "hist.tail()"
      ],
      "execution_count": 70,
      "outputs": [
        {
          "output_type": "execute_result",
          "data": {
            "text/html": [
              "<div>\n",
              "<style scoped>\n",
              "    .dataframe tbody tr th:only-of-type {\n",
              "        vertical-align: middle;\n",
              "    }\n",
              "\n",
              "    .dataframe tbody tr th {\n",
              "        vertical-align: top;\n",
              "    }\n",
              "\n",
              "    .dataframe thead th {\n",
              "        text-align: right;\n",
              "    }\n",
              "</style>\n",
              "<table border=\"1\" class=\"dataframe\">\n",
              "  <thead>\n",
              "    <tr style=\"text-align: right;\">\n",
              "      <th></th>\n",
              "      <th>loss</th>\n",
              "      <th>mae</th>\n",
              "      <th>mse</th>\n",
              "      <th>val_loss</th>\n",
              "      <th>val_mae</th>\n",
              "      <th>val_mse</th>\n",
              "      <th>epoch</th>\n",
              "    </tr>\n",
              "  </thead>\n",
              "  <tbody>\n",
              "    <tr>\n",
              "      <th>995</th>\n",
              "      <td>1.870602</td>\n",
              "      <td>1.017649</td>\n",
              "      <td>1.870602</td>\n",
              "      <td>10.506365</td>\n",
              "      <td>2.960779</td>\n",
              "      <td>10.506364</td>\n",
              "      <td>995</td>\n",
              "    </tr>\n",
              "    <tr>\n",
              "      <th>996</th>\n",
              "      <td>2.421455</td>\n",
              "      <td>1.204670</td>\n",
              "      <td>2.421455</td>\n",
              "      <td>2.156834</td>\n",
              "      <td>1.108698</td>\n",
              "      <td>2.156834</td>\n",
              "      <td>996</td>\n",
              "    </tr>\n",
              "    <tr>\n",
              "      <th>997</th>\n",
              "      <td>3.131289</td>\n",
              "      <td>1.452265</td>\n",
              "      <td>3.131289</td>\n",
              "      <td>2.607980</td>\n",
              "      <td>1.245751</td>\n",
              "      <td>2.607980</td>\n",
              "      <td>997</td>\n",
              "    </tr>\n",
              "    <tr>\n",
              "      <th>998</th>\n",
              "      <td>1.917656</td>\n",
              "      <td>1.057444</td>\n",
              "      <td>1.917656</td>\n",
              "      <td>2.731777</td>\n",
              "      <td>1.320275</td>\n",
              "      <td>2.731776</td>\n",
              "      <td>998</td>\n",
              "    </tr>\n",
              "    <tr>\n",
              "      <th>999</th>\n",
              "      <td>3.932098</td>\n",
              "      <td>1.540791</td>\n",
              "      <td>3.932097</td>\n",
              "      <td>1.783245</td>\n",
              "      <td>0.955747</td>\n",
              "      <td>1.783245</td>\n",
              "      <td>999</td>\n",
              "    </tr>\n",
              "  </tbody>\n",
              "</table>\n",
              "</div>"
            ],
            "text/plain": [
              "         loss       mae       mse   val_loss   val_mae    val_mse  epoch\n",
              "995  1.870602  1.017649  1.870602  10.506365  2.960779  10.506364    995\n",
              "996  2.421455  1.204670  2.421455   2.156834  1.108698   2.156834    996\n",
              "997  3.131289  1.452265  3.131289   2.607980  1.245751   2.607980    997\n",
              "998  1.917656  1.057444  1.917656   2.731777  1.320275   2.731776    998\n",
              "999  3.932098  1.540791  3.932097   1.783245  0.955747   1.783245    999"
            ]
          },
          "metadata": {
            "tags": []
          },
          "execution_count": 70
        }
      ]
    },
    {
      "cell_type": "code",
      "metadata": {
        "id": "83WP5HS4C00g",
        "colab_type": "code",
        "outputId": "f6613e08-79ca-4daa-e40e-5bad7c35d974",
        "colab": {
          "base_uri": "https://localhost:8080/",
          "height": 412
        }
      },
      "source": [
        "plot_history(history, ylim_mae=(0, 5), ylim_mse=(0, 50))"
      ],
      "execution_count": 75,
      "outputs": [
        {
          "output_type": "display_data",
          "data": {
            "image/png": "[encoded data removed]",
            "text/plain": [
              "<Figure size 1440x432 with 2 Axes>"
            ]
          },
          "metadata": {
            "tags": []
          }
        }
      ]
    },
    {
      "cell_type": "markdown",
      "metadata": {
        "colab_type": "text",
        "id": "JHOm0kuk60fB"
      },
      "source": [
        "### Make predictions"
      ]
    },
    {
      "cell_type": "markdown",
      "metadata": {
        "colab_type": "text",
        "id": "9iDQ8uUr60f0"
      },
      "source": [
        "#### 80일 예측 "
      ]
    },
    {
      "cell_type": "code",
      "metadata": {
        "colab_type": "code",
        "outputId": "7a8ef315-c8aa-43f7-b422-c2a0770853d2",
        "id": "rA37lC_P60f3",
        "colab": {
          "base_uri": "https://localhost:8080/",
          "height": 332
        }
      },
      "source": [
        "test_predictions1 = model.predict(df_test[feat_temp])\n",
        "test_predictions2 = model2.predict(test_predictions1)"
      ],
      "execution_count": 0,
      "outputs": [
        {
          "output_type": "stream",
          "text": [
            "WARNING:tensorflow:Falling back from v2 loop because of error: Failed to find data adapter that can handle input: <class 'pandas.core.frame.DataFrame'>, <class 'NoneType'>\n",
            "Executing op AssignVariableOp in device /job:localhost/replica:0/task:0/device:GPU:0\n",
            "Executing op __inference_keras_scratch_graph_307564 in device /job:localhost/replica:0/task:0/device:GPU:0\n",
            "Executing op RangeDataset in device /job:localhost/replica:0/task:0/device:CPU:0\n",
            "Executing op RepeatDataset in device /job:localhost/replica:0/task:0/device:CPU:0\n",
            "Executing op MapDataset in device /job:localhost/replica:0/task:0/device:CPU:0\n",
            "Executing op PrefetchDataset in device /job:localhost/replica:0/task:0/device:CPU:0\n",
            "Executing op FlatMapDataset in device /job:localhost/replica:0/task:0/device:CPU:0\n",
            "Executing op TensorDataset in device /job:localhost/replica:0/task:0/device:CPU:0\n",
            "Executing op RepeatDataset in device /job:localhost/replica:0/task:0/device:CPU:0\n",
            "Executing op ZipDataset in device /job:localhost/replica:0/task:0/device:CPU:0\n",
            "Executing op ParallelMapDataset in device /job:localhost/replica:0/task:0/device:CPU:0\n",
            "Executing op ModelDataset in device /job:localhost/replica:0/task:0/device:CPU:0\n",
            "Executing op AnonymousIteratorV2 in device /job:localhost/replica:0/task:0/device:CPU:0\n",
            "Executing op MakeIterator in device /job:localhost/replica:0/task:0/device:CPU:0\n",
            "Executing op __inference_distributed_function_450293 in device /job:localhost/replica:0/task:0/device:GPU:0\n",
            "Executing op DeleteIterator in device /job:localhost/replica:0/task:0/device:CPU:0\n"
          ],
          "name": "stdout"
        }
      ]
    },
    {
      "cell_type": "code",
      "metadata": {
        "colab_type": "code",
        "id": "gOauaQgJ60f8",
        "colab": {}
      },
      "source": [
        "# 제출 파일 만들기\n",
        "submit = pd.DataFrame({'id':range(144*33, 144*113),\n",
        "              'Y18':test_predictions2.reshape(1,-1)[0]})"
      ],
      "execution_count": 0,
      "outputs": []
    },
    {
      "cell_type": "code",
      "metadata": {
        "colab_type": "code",
        "id": "5R7fDVnD60gB",
        "colab": {}
      },
      "source": [
        "submit.to_csv('baseline_result_2.csv', index = False)"
      ],
      "execution_count": 0,
      "outputs": []
    },
    {
      "cell_type": "code",
      "metadata": {
        "id": "4U_EiB8WboBy",
        "colab_type": "code",
        "colab": {}
      },
      "source": [
        ""
      ],
      "execution_count": 0,
      "outputs": []
    }
  ]
}