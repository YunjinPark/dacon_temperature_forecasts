{
  "nbformat": 4,
  "nbformat_minor": 0,
  "metadata": {
    "colab": {
      "name": "dacon_temperature_model.ipynb",
      "provenance": [],
      "collapsed_sections": []
    },
    "kernelspec": {
      "name": "python3",
      "display_name": "Python 3"
    },
    "accelerator": "GPU"
  },
  "cells": [
    {
      "cell_type": "markdown",
      "metadata": {
        "id": "2yH68czOOuAT",
        "colab_type": "text"
      },
      "source": [
        "\n",
        "### 시작\n"
      ]
    },
    {
      "cell_type": "code",
      "metadata": {
        "id": "MBTQ-j3nMezI",
        "colab_type": "code",
        "colab": {}
      },
      "source": [
        "from google.colab import drive\n",
        "drive.mount('/content/drive')"
      ],
      "execution_count": 0,
      "outputs": []
    },
    {
      "cell_type": "code",
      "metadata": {
        "id": "Xu3_2GQpErpU",
        "colab_type": "code",
        "colab": {}
      },
      "source": [
        "!pip install tensorflow\n",
        "!pip install tensorflow-gpu\n",
        "!pip install tensorflow-determinism"
      ],
      "execution_count": 0,
      "outputs": []
    },
    {
      "cell_type": "code",
      "metadata": {
        "id": "vjI4cScskP8P",
        "colab_type": "code",
        "colab": {
          "base_uri": "https://localhost:8080/",
          "height": 34
        },
        "outputId": "f9a4a62b-6bcf-4bee-8811-72818f325a96"
      },
      "source": [
        "!pip install -q git+https://github.com/tensorflow/docs"
      ],
      "execution_count": 4,
      "outputs": [
        {
          "output_type": "stream",
          "text": [
            "  Building wheel for tensorflow-docs (setup.py) ... \u001b[?25l\u001b[?25hdone\n"
          ],
          "name": "stdout"
        }
      ]
    },
    {
      "cell_type": "code",
      "metadata": {
        "id": "3P6AO-wKkZiN",
        "colab_type": "code",
        "colab": {}
      },
      "source": [
        "#import tensorflow_docs as tfdocs\n",
        "#import tensorflow_docs.modeling\n",
        "#import tensorflow_docs.plots"
      ],
      "execution_count": 0,
      "outputs": []
    },
    {
      "cell_type": "code",
      "metadata": {
        "id": "S-nL4ygop8RU",
        "colab_type": "code",
        "colab": {}
      },
      "source": [
        "# Import libraries\n",
        "import numpy as np\n",
        "import pandas as pd\n",
        "#import seaborn as sns\n",
        "import matplotlib.pyplot as plt\n",
        "#import matplotlib as mpl\n",
        "#from scipy import stats\n",
        "#import statsmodels.api as sm\n",
        "import warnings\n",
        "from datetime import datetime\n",
        "warnings.filterwarnings('ignore')\n",
        "plt.style.use('seaborn-poster')\n",
        "#from tqdm import tqdm\n",
        "import random\n",
        "import tensorflow as tf\n",
        "\n",
        "from pathlib import Path\n",
        "import os\n",
        "import time\n",
        "import collections\n",
        "#import tensorflow_addons as tfa\n",
        "#from sklearn.ensemble import RandomForestRegressor\n",
        "#from sklearn.datasets import make_regression\n",
        "#from sklearn.metrics import mean_squared_error\n",
        "\n",
        "import lightgbm as lgb\n",
        "import xgboost as xgb\n",
        "\n"
      ],
      "execution_count": 0,
      "outputs": []
    },
    {
      "cell_type": "code",
      "metadata": {
        "id": "TYVN48D5M0yH",
        "colab_type": "code",
        "outputId": "925683ec-e420-4729-c13e-30e42bb32f0a",
        "colab": {
          "base_uri": "https://localhost:8080/",
          "height": 34
        }
      },
      "source": [
        "# 작업 환경 변경 \n",
        "folder = \"dacon\"\n",
        "project_dir = \"temperature\"\n",
        "data_folder = \"data\"\n",
        "\n",
        "base_path = Path(\"/content/drive/My Drive/\")\n",
        "project_path = base_path / folder / project_dir\n",
        "data_path = base_path / folder / data_folder / project_dir\n",
        "os.chdir(project_path)\n",
        "print(f\"현재 디렉토리 위치: {os.getcwd()}\")"
      ],
      "execution_count": 7,
      "outputs": [
        {
          "output_type": "stream",
          "text": [
            "현재 디렉토리 위치: /content/drive/My Drive/dacon/temperature\n"
          ],
          "name": "stdout"
        }
      ]
    },
    {
      "cell_type": "code",
      "metadata": {
        "id": "ISVrhVNJ4S0U",
        "colab_type": "code",
        "colab": {}
      },
      "source": [
        "# randomseed 고정 \n",
        "SEED = 202004\n",
        "os.environ['TF_DETERMINISTIC_OPS'] = '1'\n",
        "os.environ['PYTHONHASHSEED']=str(SEED)\n",
        "random.seed(SEED)\n",
        "np.random.seed(SEED)\n",
        "tf.random.set_seed(SEED)"
      ],
      "execution_count": 0,
      "outputs": []
    },
    {
      "cell_type": "code",
      "metadata": {
        "id": "CtDQLCU7EzGY",
        "colab_type": "code",
        "outputId": "fe266eed-f8aa-45be-a6fa-1cf5d0534c86",
        "colab": {
          "base_uri": "https://localhost:8080/",
          "height": 52
        }
      },
      "source": [
        "# tf 버전 확인, gpu 리스트\n",
        "print(tf.__version__)\n",
        "print(tf.config.list_physical_devices('GPU'))"
      ],
      "execution_count": 9,
      "outputs": [
        {
          "output_type": "stream",
          "text": [
            "2.1.0\n",
            "[PhysicalDevice(name='/physical_device:GPU:0', device_type='GPU')]\n"
          ],
          "name": "stdout"
        }
      ]
    },
    {
      "cell_type": "markdown",
      "metadata": {
        "id": "ehIlTlUorMh3",
        "colab_type": "text"
      },
      "source": [
        "### 파일읽기"
      ]
    },
    {
      "cell_type": "code",
      "metadata": {
        "id": "nC9CKzxMM2mq",
        "colab_type": "code",
        "colab": {}
      },
      "source": [
        "df_33 = pd.read_csv(os.path.join(data_path, 'train.csv'))\n",
        "df_80 = pd.read_csv(os.path.join(data_path, 'test.csv'))"
      ],
      "execution_count": 0,
      "outputs": []
    },
    {
      "cell_type": "code",
      "metadata": {
        "id": "ti0f5pxFNzlQ",
        "colab_type": "code",
        "outputId": "e4125868-6a86-4ee3-efcc-9970caf7d764",
        "colab": {
          "base_uri": "https://localhost:8080/",
          "height": 34
        }
      },
      "source": [
        "df_33.shape, df_80.shape"
      ],
      "execution_count": 11,
      "outputs": [
        {
          "output_type": "execute_result",
          "data": {
            "text/plain": [
              "((4752, 60), (11520, 41))"
            ]
          },
          "metadata": {
            "tags": []
          },
          "execution_count": 11
        }
      ]
    },
    {
      "cell_type": "code",
      "metadata": {
        "id": "sIpxvyU3OL0q",
        "colab_type": "code",
        "colab": {}
      },
      "source": [
        "# null값인 컬럼 삭제\n",
        "del df_33['X14'], df_33['X16'], df_33['X19']\n",
        "del df_80['X14'], df_80['X16'], df_80['X19'] "
      ],
      "execution_count": 0,
      "outputs": []
    },
    {
      "cell_type": "code",
      "metadata": {
        "id": "kNOMmH6XN6Xo",
        "colab_type": "code",
        "outputId": "df100237-4c9e-4d09-d485-981f997d1a16",
        "colab": {
          "base_uri": "https://localhost:8080/",
          "height": 34
        }
      },
      "source": [
        "df_33.shape, df_80.shape"
      ],
      "execution_count": 13,
      "outputs": [
        {
          "output_type": "execute_result",
          "data": {
            "text/plain": [
              "((4752, 57), (11520, 38))"
            ]
          },
          "metadata": {
            "tags": []
          },
          "execution_count": 13
        }
      ]
    },
    {
      "cell_type": "code",
      "metadata": {
        "colab_type": "code",
        "id": "ZssxZtJ-o7ZF",
        "colab": {}
      },
      "source": [
        "n = 4320"
      ],
      "execution_count": 0,
      "outputs": []
    },
    {
      "cell_type": "code",
      "metadata": {
        "colab_type": "code",
        "id": "V_6c78EAo6qK",
        "colab": {}
      },
      "source": [
        "df_30 = df_33.iloc[:n].copy()\n",
        "df_3 = df_33.iloc[n:].copy()"
      ],
      "execution_count": 0,
      "outputs": []
    },
    {
      "cell_type": "markdown",
      "metadata": {
        "id": "dzc5Lh9wIJpY",
        "colab_type": "text"
      },
      "source": [
        "## 전처리"
      ]
    },
    {
      "cell_type": "code",
      "metadata": {
        "id": "JEdugNkuQEHm",
        "colab_type": "code",
        "colab": {}
      },
      "source": [
        "feat_time = ['time_m_sin', 'time_m_cos', 'time_h_sin', 'time_h_cos', 'time_diff', 'time_diff_2']\n",
        "feat_temp = ['X00', 'X07', 'X28', 'X31', 'X32']\n",
        "feat_air_press = ['X01', 'X06', 'X22', 'X27', 'X29']\n",
        "feat_wind_speed = ['X02', 'X03', 'X18', 'X24', 'X26']\n",
        "feat_rainfall = ['X04', 'X10', 'X21', 'X36', 'X39']\n",
        "feat_sea_press = ['X05', 'X08', 'X09', 'X23', 'X33']\n",
        "feat_insol = ['X11',  'X34']#'X14', 'X16', 'X19',\n",
        "feat_humid = ['X12', 'X20', 'X30', 'X37', 'X38']\n",
        "feat_dir_wind = ['X13', 'X15', 'X17', 'X25', 'X35']\n",
        "\n",
        "feat_x = ['X00', 'X01', 'X02', 'X03', 'X04', 'X05', 'X06', 'X07', 'X08', 'X09', \n",
        "          'X10', 'X11', 'X12', 'X13', 'X15', 'X17', 'X18',  \n",
        "          'X20', 'X21', 'X22', 'X23', 'X24', 'X25', 'X26', 'X27', 'X28', 'X29', \n",
        "          'X30', 'X31', 'X32', 'X33', 'X34', 'X35', 'X36', 'X37', 'X38', 'X39'] #'X14', 'X16', 'X19',\n",
        "\n",
        "feat_x_t = feat_x + feat_time "
      ],
      "execution_count": 0,
      "outputs": []
    },
    {
      "cell_type": "code",
      "metadata": {
        "id": "_pLheT0dIgWj",
        "colab_type": "code",
        "colab": {}
      },
      "source": [
        "train_33 = df_33.copy()\n",
        "test =  df_80.loc[:, feat_x].copy()"
      ],
      "execution_count": 0,
      "outputs": []
    },
    {
      "cell_type": "markdown",
      "metadata": {
        "id": "qOnIRv86Ofcy",
        "colab_type": "text"
      },
      "source": [
        "### time data"
      ]
    },
    {
      "cell_type": "code",
      "metadata": {
        "id": "l_bjB36N8VhM",
        "colab_type": "code",
        "colab": {}
      },
      "source": [
        "min_in_day = 24*6\n",
        "hour_in_day = 24\n",
        "\n",
        "feat_temp = ['X00', 'X07', 'X28', 'X31', 'X32']\n",
        "diff = np.mean(train_33.loc[:n, feat_temp], axis=1) - np.mean(train_33.loc[:n, ['Y15', 'Y16', 'Y09']], axis=1)\n",
        "diff_144= {i:diff[i::144].mean() for i in range(144)}"
      ],
      "execution_count": 0,
      "outputs": []
    },
    {
      "cell_type": "code",
      "metadata": {
        "id": "oo5T1VWqlmPh",
        "colab_type": "code",
        "colab": {}
      },
      "source": [
        "def time_data(frame):\n",
        "    minute = pd.Series((frame.index%144).astype(int))\n",
        "    hour= pd.Series((frame.index%144/6).astype(int))\n",
        "    minute_sin = np.sin(np.pi*minute/min_in_day) \n",
        "    minute_cos = np.cos(np.pi*minute/min_in_day)\n",
        "    hour_sin  = np.sin(np.pi*hour/hour_in_day)\n",
        "    hour_cos  = np.cos(np.pi*hour/hour_in_day)\n",
        "    tmp = (frame.index%144).astype(int).map(diff_144)\n",
        "    return minute_sin, minute_cos, hour_sin, hour_cos, tmp, tmp-frame['X39']/5"
      ],
      "execution_count": 0,
      "outputs": []
    },
    {
      "cell_type": "code",
      "metadata": {
        "id": "4_tLZT_JXTXm",
        "colab_type": "code",
        "outputId": "5248ed34-2df4-48c7-9092-7fd322c32e2b",
        "colab": {
          "base_uri": "https://localhost:8080/",
          "height": 34
        }
      },
      "source": [
        "train_33.shape, test.shape"
      ],
      "execution_count": 20,
      "outputs": [
        {
          "output_type": "execute_result",
          "data": {
            "text/plain": [
              "((4752, 57), (11520, 37))"
            ]
          },
          "metadata": {
            "tags": []
          },
          "execution_count": 20
        }
      ]
    },
    {
      "cell_type": "code",
      "metadata": {
        "id": "gMB1246NOlxN",
        "colab_type": "code",
        "colab": {}
      },
      "source": [
        "train_33['time_m_sin'], train_33['time_m_cos'], train_33['time_h_sin'], train_33['time_h_cos'], train_33['time_diff'], train_33['time_diff_2']  = time_data(train_33)\n",
        "test['time_m_sin'], test['time_m_cos'], test['time_h_sin'], test['time_h_cos'], test['time_diff'], test['time_diff_2'] = time_data(test)"
      ],
      "execution_count": 0,
      "outputs": []
    },
    {
      "cell_type": "code",
      "metadata": {
        "id": "mmpW-Kp5q2vb",
        "colab_type": "code",
        "colab": {}
      },
      "source": [
        "train_30 = train_33.iloc[:n].copy()\n",
        "train_3 = train_33.iloc[n:].copy()"
      ],
      "execution_count": 0,
      "outputs": []
    },
    {
      "cell_type": "code",
      "metadata": {
        "id": "0i-2ZK2DOl0h",
        "colab_type": "code",
        "outputId": "93212a5f-4302-4c0f-c183-00afd024c5da",
        "colab": {
          "base_uri": "https://localhost:8080/",
          "height": 34
        }
      },
      "source": [
        "train_33.shape, train_30.shape, train_3.shape, test.shape"
      ],
      "execution_count": 23,
      "outputs": [
        {
          "output_type": "execute_result",
          "data": {
            "text/plain": [
              "((4752, 63), (4320, 63), (432, 63), (11520, 43))"
            ]
          },
          "metadata": {
            "tags": []
          },
          "execution_count": 23
        }
      ]
    },
    {
      "cell_type": "code",
      "metadata": {
        "id": "6yhx9WB4r2Hn",
        "colab_type": "code",
        "outputId": "b92a5ecc-28cc-470a-e3bc-f131b3440e06",
        "colab": {
          "base_uri": "https://localhost:8080/",
          "height": 444
        }
      },
      "source": [
        "train_33"
      ],
      "execution_count": 24,
      "outputs": [
        {
          "output_type": "execute_result",
          "data": {
            "text/html": [
              "<div>\n",
              "<style scoped>\n",
              "    .dataframe tbody tr th:only-of-type {\n",
              "        vertical-align: middle;\n",
              "    }\n",
              "\n",
              "    .dataframe tbody tr th {\n",
              "        vertical-align: top;\n",
              "    }\n",
              "\n",
              "    .dataframe thead th {\n",
              "        text-align: right;\n",
              "    }\n",
              "</style>\n",
              "<table border=\"1\" class=\"dataframe\">\n",
              "  <thead>\n",
              "    <tr style=\"text-align: right;\">\n",
              "      <th></th>\n",
              "      <th>id</th>\n",
              "      <th>X00</th>\n",
              "      <th>X01</th>\n",
              "      <th>X02</th>\n",
              "      <th>X03</th>\n",
              "      <th>X04</th>\n",
              "      <th>X05</th>\n",
              "      <th>X06</th>\n",
              "      <th>X07</th>\n",
              "      <th>X08</th>\n",
              "      <th>X09</th>\n",
              "      <th>X10</th>\n",
              "      <th>X11</th>\n",
              "      <th>X12</th>\n",
              "      <th>X13</th>\n",
              "      <th>X15</th>\n",
              "      <th>X17</th>\n",
              "      <th>X18</th>\n",
              "      <th>X20</th>\n",
              "      <th>X21</th>\n",
              "      <th>X22</th>\n",
              "      <th>X23</th>\n",
              "      <th>X24</th>\n",
              "      <th>X25</th>\n",
              "      <th>X26</th>\n",
              "      <th>X27</th>\n",
              "      <th>X28</th>\n",
              "      <th>X29</th>\n",
              "      <th>X30</th>\n",
              "      <th>X31</th>\n",
              "      <th>X32</th>\n",
              "      <th>X33</th>\n",
              "      <th>X34</th>\n",
              "      <th>X35</th>\n",
              "      <th>X36</th>\n",
              "      <th>X37</th>\n",
              "      <th>X38</th>\n",
              "      <th>X39</th>\n",
              "      <th>Y00</th>\n",
              "      <th>Y01</th>\n",
              "      <th>Y02</th>\n",
              "      <th>Y03</th>\n",
              "      <th>Y04</th>\n",
              "      <th>Y05</th>\n",
              "      <th>Y06</th>\n",
              "      <th>Y07</th>\n",
              "      <th>Y08</th>\n",
              "      <th>Y09</th>\n",
              "      <th>Y10</th>\n",
              "      <th>Y11</th>\n",
              "      <th>Y12</th>\n",
              "      <th>Y13</th>\n",
              "      <th>Y14</th>\n",
              "      <th>Y15</th>\n",
              "      <th>Y16</th>\n",
              "      <th>Y17</th>\n",
              "      <th>Y18</th>\n",
              "      <th>time_m_sin</th>\n",
              "      <th>time_m_cos</th>\n",
              "      <th>time_h_sin</th>\n",
              "      <th>time_h_cos</th>\n",
              "      <th>time_diff</th>\n",
              "      <th>time_diff_2</th>\n",
              "    </tr>\n",
              "  </thead>\n",
              "  <tbody>\n",
              "    <tr>\n",
              "      <th>0</th>\n",
              "      <td>0</td>\n",
              "      <td>9.7</td>\n",
              "      <td>988.8</td>\n",
              "      <td>1.2</td>\n",
              "      <td>0.6</td>\n",
              "      <td>0.0</td>\n",
              "      <td>1009.3</td>\n",
              "      <td>989.6</td>\n",
              "      <td>12.2</td>\n",
              "      <td>1009.9</td>\n",
              "      <td>1009.8</td>\n",
              "      <td>0.0</td>\n",
              "      <td>0.00</td>\n",
              "      <td>82.4</td>\n",
              "      <td>71.3</td>\n",
              "      <td>101.1</td>\n",
              "      <td>56.1</td>\n",
              "      <td>0.3</td>\n",
              "      <td>91.0</td>\n",
              "      <td>0.0</td>\n",
              "      <td>1002.5</td>\n",
              "      <td>1009.8</td>\n",
              "      <td>1.1</td>\n",
              "      <td>2.3</td>\n",
              "      <td>0.5</td>\n",
              "      <td>1008.7</td>\n",
              "      <td>12.3</td>\n",
              "      <td>1001.6</td>\n",
              "      <td>69.1</td>\n",
              "      <td>8.2</td>\n",
              "      <td>10.7</td>\n",
              "      <td>1010.1</td>\n",
              "      <td>0.00</td>\n",
              "      <td>256.4</td>\n",
              "      <td>0.0</td>\n",
              "      <td>77.2</td>\n",
              "      <td>62.6</td>\n",
              "      <td>0.0</td>\n",
              "      <td>12.5</td>\n",
              "      <td>11.5</td>\n",
              "      <td>11.0</td>\n",
              "      <td>20.0</td>\n",
              "      <td>20.0</td>\n",
              "      <td>10.5</td>\n",
              "      <td>10.0</td>\n",
              "      <td>10.5</td>\n",
              "      <td>10.0</td>\n",
              "      <td>7.0</td>\n",
              "      <td>7.5</td>\n",
              "      <td>7.0</td>\n",
              "      <td>9.0</td>\n",
              "      <td>10.0</td>\n",
              "      <td>9.5</td>\n",
              "      <td>9.0</td>\n",
              "      <td>8.0</td>\n",
              "      <td>9.0</td>\n",
              "      <td>NaN</td>\n",
              "      <td>0.000000</td>\n",
              "      <td>1.000000</td>\n",
              "      <td>0.000000</td>\n",
              "      <td>1.000000</td>\n",
              "      <td>1.361556</td>\n",
              "      <td>1.361556</td>\n",
              "    </tr>\n",
              "    <tr>\n",
              "      <th>1</th>\n",
              "      <td>1</td>\n",
              "      <td>9.3</td>\n",
              "      <td>988.9</td>\n",
              "      <td>1.7</td>\n",
              "      <td>1.9</td>\n",
              "      <td>0.0</td>\n",
              "      <td>1009.3</td>\n",
              "      <td>989.6</td>\n",
              "      <td>12.1</td>\n",
              "      <td>1010.0</td>\n",
              "      <td>1009.9</td>\n",
              "      <td>0.0</td>\n",
              "      <td>0.00</td>\n",
              "      <td>81.2</td>\n",
              "      <td>121.8</td>\n",
              "      <td>165.3</td>\n",
              "      <td>0.0</td>\n",
              "      <td>0.4</td>\n",
              "      <td>91.9</td>\n",
              "      <td>0.0</td>\n",
              "      <td>1002.5</td>\n",
              "      <td>1009.9</td>\n",
              "      <td>0.0</td>\n",
              "      <td>0.0</td>\n",
              "      <td>0.0</td>\n",
              "      <td>1008.7</td>\n",
              "      <td>12.1</td>\n",
              "      <td>1001.7</td>\n",
              "      <td>70.3</td>\n",
              "      <td>8.3</td>\n",
              "      <td>10.3</td>\n",
              "      <td>1010.1</td>\n",
              "      <td>0.00</td>\n",
              "      <td>215.4</td>\n",
              "      <td>0.0</td>\n",
              "      <td>77.3</td>\n",
              "      <td>63.5</td>\n",
              "      <td>0.0</td>\n",
              "      <td>12.5</td>\n",
              "      <td>11.0</td>\n",
              "      <td>11.0</td>\n",
              "      <td>20.0</td>\n",
              "      <td>20.0</td>\n",
              "      <td>10.0</td>\n",
              "      <td>9.5</td>\n",
              "      <td>10.0</td>\n",
              "      <td>9.5</td>\n",
              "      <td>6.5</td>\n",
              "      <td>7.5</td>\n",
              "      <td>7.0</td>\n",
              "      <td>8.5</td>\n",
              "      <td>10.0</td>\n",
              "      <td>9.5</td>\n",
              "      <td>9.0</td>\n",
              "      <td>7.5</td>\n",
              "      <td>9.0</td>\n",
              "      <td>NaN</td>\n",
              "      <td>0.021815</td>\n",
              "      <td>0.999762</td>\n",
              "      <td>0.000000</td>\n",
              "      <td>1.000000</td>\n",
              "      <td>1.399556</td>\n",
              "      <td>1.399556</td>\n",
              "    </tr>\n",
              "    <tr>\n",
              "      <th>2</th>\n",
              "      <td>2</td>\n",
              "      <td>9.4</td>\n",
              "      <td>989.0</td>\n",
              "      <td>1.1</td>\n",
              "      <td>2.3</td>\n",
              "      <td>0.0</td>\n",
              "      <td>1009.2</td>\n",
              "      <td>989.7</td>\n",
              "      <td>12.1</td>\n",
              "      <td>1010.1</td>\n",
              "      <td>1010.1</td>\n",
              "      <td>0.0</td>\n",
              "      <td>0.00</td>\n",
              "      <td>86.1</td>\n",
              "      <td>232.0</td>\n",
              "      <td>144.0</td>\n",
              "      <td>0.0</td>\n",
              "      <td>0.6</td>\n",
              "      <td>93.3</td>\n",
              "      <td>0.0</td>\n",
              "      <td>1002.4</td>\n",
              "      <td>1009.8</td>\n",
              "      <td>0.0</td>\n",
              "      <td>0.0</td>\n",
              "      <td>0.0</td>\n",
              "      <td>1008.6</td>\n",
              "      <td>12.1</td>\n",
              "      <td>1001.6</td>\n",
              "      <td>71.5</td>\n",
              "      <td>8.0</td>\n",
              "      <td>9.7</td>\n",
              "      <td>1010.0</td>\n",
              "      <td>0.00</td>\n",
              "      <td>235.2</td>\n",
              "      <td>0.0</td>\n",
              "      <td>77.3</td>\n",
              "      <td>63.9</td>\n",
              "      <td>0.0</td>\n",
              "      <td>12.0</td>\n",
              "      <td>11.0</td>\n",
              "      <td>11.0</td>\n",
              "      <td>19.5</td>\n",
              "      <td>19.5</td>\n",
              "      <td>10.0</td>\n",
              "      <td>9.0</td>\n",
              "      <td>10.0</td>\n",
              "      <td>9.0</td>\n",
              "      <td>6.5</td>\n",
              "      <td>7.5</td>\n",
              "      <td>6.5</td>\n",
              "      <td>8.0</td>\n",
              "      <td>9.5</td>\n",
              "      <td>9.5</td>\n",
              "      <td>8.5</td>\n",
              "      <td>7.5</td>\n",
              "      <td>8.5</td>\n",
              "      <td>NaN</td>\n",
              "      <td>0.043619</td>\n",
              "      <td>0.999048</td>\n",
              "      <td>0.000000</td>\n",
              "      <td>1.000000</td>\n",
              "      <td>1.446667</td>\n",
              "      <td>1.446667</td>\n",
              "    </tr>\n",
              "    <tr>\n",
              "      <th>3</th>\n",
              "      <td>3</td>\n",
              "      <td>9.4</td>\n",
              "      <td>988.9</td>\n",
              "      <td>1.5</td>\n",
              "      <td>0.7</td>\n",
              "      <td>0.0</td>\n",
              "      <td>1009.2</td>\n",
              "      <td>989.6</td>\n",
              "      <td>12.0</td>\n",
              "      <td>1010.0</td>\n",
              "      <td>1010.0</td>\n",
              "      <td>0.0</td>\n",
              "      <td>0.00</td>\n",
              "      <td>87.7</td>\n",
              "      <td>0.0</td>\n",
              "      <td>115.9</td>\n",
              "      <td>294.1</td>\n",
              "      <td>0.1</td>\n",
              "      <td>93.4</td>\n",
              "      <td>0.0</td>\n",
              "      <td>1002.4</td>\n",
              "      <td>1009.7</td>\n",
              "      <td>0.0</td>\n",
              "      <td>0.0</td>\n",
              "      <td>0.2</td>\n",
              "      <td>1008.7</td>\n",
              "      <td>12.1</td>\n",
              "      <td>1001.5</td>\n",
              "      <td>73.2</td>\n",
              "      <td>7.7</td>\n",
              "      <td>9.4</td>\n",
              "      <td>1010.1</td>\n",
              "      <td>0.00</td>\n",
              "      <td>214.0</td>\n",
              "      <td>0.0</td>\n",
              "      <td>77.5</td>\n",
              "      <td>64.5</td>\n",
              "      <td>0.0</td>\n",
              "      <td>12.0</td>\n",
              "      <td>11.0</td>\n",
              "      <td>11.0</td>\n",
              "      <td>19.5</td>\n",
              "      <td>19.5</td>\n",
              "      <td>9.5</td>\n",
              "      <td>9.0</td>\n",
              "      <td>9.5</td>\n",
              "      <td>9.0</td>\n",
              "      <td>6.0</td>\n",
              "      <td>7.0</td>\n",
              "      <td>6.0</td>\n",
              "      <td>8.0</td>\n",
              "      <td>9.5</td>\n",
              "      <td>9.0</td>\n",
              "      <td>8.5</td>\n",
              "      <td>7.5</td>\n",
              "      <td>8.5</td>\n",
              "      <td>NaN</td>\n",
              "      <td>0.065403</td>\n",
              "      <td>0.997859</td>\n",
              "      <td>0.000000</td>\n",
              "      <td>1.000000</td>\n",
              "      <td>1.465111</td>\n",
              "      <td>1.465111</td>\n",
              "    </tr>\n",
              "    <tr>\n",
              "      <th>4</th>\n",
              "      <td>4</td>\n",
              "      <td>9.2</td>\n",
              "      <td>988.9</td>\n",
              "      <td>0.8</td>\n",
              "      <td>1.7</td>\n",
              "      <td>0.0</td>\n",
              "      <td>1009.2</td>\n",
              "      <td>989.7</td>\n",
              "      <td>12.0</td>\n",
              "      <td>1010.1</td>\n",
              "      <td>1010.0</td>\n",
              "      <td>0.0</td>\n",
              "      <td>0.00</td>\n",
              "      <td>88.9</td>\n",
              "      <td>0.0</td>\n",
              "      <td>124.7</td>\n",
              "      <td>0.0</td>\n",
              "      <td>0.0</td>\n",
              "      <td>94.1</td>\n",
              "      <td>0.0</td>\n",
              "      <td>1002.4</td>\n",
              "      <td>1009.7</td>\n",
              "      <td>0.0</td>\n",
              "      <td>0.0</td>\n",
              "      <td>0.0</td>\n",
              "      <td>1008.7</td>\n",
              "      <td>12.0</td>\n",
              "      <td>1001.5</td>\n",
              "      <td>74.3</td>\n",
              "      <td>7.4</td>\n",
              "      <td>9.4</td>\n",
              "      <td>1010.1</td>\n",
              "      <td>0.00</td>\n",
              "      <td>174.9</td>\n",
              "      <td>0.0</td>\n",
              "      <td>78.0</td>\n",
              "      <td>65.0</td>\n",
              "      <td>0.0</td>\n",
              "      <td>12.0</td>\n",
              "      <td>10.5</td>\n",
              "      <td>10.5</td>\n",
              "      <td>19.0</td>\n",
              "      <td>19.5</td>\n",
              "      <td>9.5</td>\n",
              "      <td>8.5</td>\n",
              "      <td>9.5</td>\n",
              "      <td>8.5</td>\n",
              "      <td>6.0</td>\n",
              "      <td>7.0</td>\n",
              "      <td>6.0</td>\n",
              "      <td>7.5</td>\n",
              "      <td>9.5</td>\n",
              "      <td>9.0</td>\n",
              "      <td>8.5</td>\n",
              "      <td>7.5</td>\n",
              "      <td>8.5</td>\n",
              "      <td>NaN</td>\n",
              "      <td>0.087156</td>\n",
              "      <td>0.996195</td>\n",
              "      <td>0.000000</td>\n",
              "      <td>1.000000</td>\n",
              "      <td>1.515556</td>\n",
              "      <td>1.515556</td>\n",
              "    </tr>\n",
              "    <tr>\n",
              "      <th>...</th>\n",
              "      <td>...</td>\n",
              "      <td>...</td>\n",
              "      <td>...</td>\n",
              "      <td>...</td>\n",
              "      <td>...</td>\n",
              "      <td>...</td>\n",
              "      <td>...</td>\n",
              "      <td>...</td>\n",
              "      <td>...</td>\n",
              "      <td>...</td>\n",
              "      <td>...</td>\n",
              "      <td>...</td>\n",
              "      <td>...</td>\n",
              "      <td>...</td>\n",
              "      <td>...</td>\n",
              "      <td>...</td>\n",
              "      <td>...</td>\n",
              "      <td>...</td>\n",
              "      <td>...</td>\n",
              "      <td>...</td>\n",
              "      <td>...</td>\n",
              "      <td>...</td>\n",
              "      <td>...</td>\n",
              "      <td>...</td>\n",
              "      <td>...</td>\n",
              "      <td>...</td>\n",
              "      <td>...</td>\n",
              "      <td>...</td>\n",
              "      <td>...</td>\n",
              "      <td>...</td>\n",
              "      <td>...</td>\n",
              "      <td>...</td>\n",
              "      <td>...</td>\n",
              "      <td>...</td>\n",
              "      <td>...</td>\n",
              "      <td>...</td>\n",
              "      <td>...</td>\n",
              "      <td>...</td>\n",
              "      <td>...</td>\n",
              "      <td>...</td>\n",
              "      <td>...</td>\n",
              "      <td>...</td>\n",
              "      <td>...</td>\n",
              "      <td>...</td>\n",
              "      <td>...</td>\n",
              "      <td>...</td>\n",
              "      <td>...</td>\n",
              "      <td>...</td>\n",
              "      <td>...</td>\n",
              "      <td>...</td>\n",
              "      <td>...</td>\n",
              "      <td>...</td>\n",
              "      <td>...</td>\n",
              "      <td>...</td>\n",
              "      <td>...</td>\n",
              "      <td>...</td>\n",
              "      <td>...</td>\n",
              "      <td>...</td>\n",
              "      <td>...</td>\n",
              "      <td>...</td>\n",
              "      <td>...</td>\n",
              "      <td>...</td>\n",
              "      <td>...</td>\n",
              "    </tr>\n",
              "    <tr>\n",
              "      <th>4747</th>\n",
              "      <td>4747</td>\n",
              "      <td>19.9</td>\n",
              "      <td>987.6</td>\n",
              "      <td>0.9</td>\n",
              "      <td>0.8</td>\n",
              "      <td>0.0</td>\n",
              "      <td>1006.9</td>\n",
              "      <td>987.7</td>\n",
              "      <td>21.7</td>\n",
              "      <td>1007.5</td>\n",
              "      <td>1007.4</td>\n",
              "      <td>2.5</td>\n",
              "      <td>23.88</td>\n",
              "      <td>95.3</td>\n",
              "      <td>333.1</td>\n",
              "      <td>274.9</td>\n",
              "      <td>275.5</td>\n",
              "      <td>0.9</td>\n",
              "      <td>89.7</td>\n",
              "      <td>10.5</td>\n",
              "      <td>1000.4</td>\n",
              "      <td>1007.5</td>\n",
              "      <td>0.0</td>\n",
              "      <td>0.0</td>\n",
              "      <td>1.2</td>\n",
              "      <td>1006.0</td>\n",
              "      <td>23.8</td>\n",
              "      <td>999.4</td>\n",
              "      <td>89.9</td>\n",
              "      <td>17.7</td>\n",
              "      <td>19.1</td>\n",
              "      <td>1007.5</td>\n",
              "      <td>22.16</td>\n",
              "      <td>218.6</td>\n",
              "      <td>0.0</td>\n",
              "      <td>82.3</td>\n",
              "      <td>58.6</td>\n",
              "      <td>0.5</td>\n",
              "      <td>NaN</td>\n",
              "      <td>NaN</td>\n",
              "      <td>NaN</td>\n",
              "      <td>NaN</td>\n",
              "      <td>NaN</td>\n",
              "      <td>NaN</td>\n",
              "      <td>NaN</td>\n",
              "      <td>NaN</td>\n",
              "      <td>NaN</td>\n",
              "      <td>NaN</td>\n",
              "      <td>NaN</td>\n",
              "      <td>NaN</td>\n",
              "      <td>NaN</td>\n",
              "      <td>NaN</td>\n",
              "      <td>NaN</td>\n",
              "      <td>NaN</td>\n",
              "      <td>NaN</td>\n",
              "      <td>NaN</td>\n",
              "      <td>21.5</td>\n",
              "      <td>0.108867</td>\n",
              "      <td>-0.994056</td>\n",
              "      <td>0.130526</td>\n",
              "      <td>-0.991445</td>\n",
              "      <td>1.316667</td>\n",
              "      <td>1.216667</td>\n",
              "    </tr>\n",
              "    <tr>\n",
              "      <th>4748</th>\n",
              "      <td>4748</td>\n",
              "      <td>19.9</td>\n",
              "      <td>987.6</td>\n",
              "      <td>0.5</td>\n",
              "      <td>0.7</td>\n",
              "      <td>0.0</td>\n",
              "      <td>1006.8</td>\n",
              "      <td>987.7</td>\n",
              "      <td>21.6</td>\n",
              "      <td>1007.5</td>\n",
              "      <td>1007.4</td>\n",
              "      <td>2.5</td>\n",
              "      <td>23.88</td>\n",
              "      <td>95.6</td>\n",
              "      <td>216.4</td>\n",
              "      <td>277.3</td>\n",
              "      <td>247.0</td>\n",
              "      <td>1.0</td>\n",
              "      <td>90.1</td>\n",
              "      <td>10.5</td>\n",
              "      <td>1000.3</td>\n",
              "      <td>1007.5</td>\n",
              "      <td>0.0</td>\n",
              "      <td>0.0</td>\n",
              "      <td>1.3</td>\n",
              "      <td>1006.0</td>\n",
              "      <td>23.6</td>\n",
              "      <td>999.4</td>\n",
              "      <td>91.3</td>\n",
              "      <td>17.7</td>\n",
              "      <td>19.2</td>\n",
              "      <td>1007.5</td>\n",
              "      <td>22.16</td>\n",
              "      <td>161.7</td>\n",
              "      <td>0.0</td>\n",
              "      <td>82.5</td>\n",
              "      <td>59.1</td>\n",
              "      <td>0.5</td>\n",
              "      <td>NaN</td>\n",
              "      <td>NaN</td>\n",
              "      <td>NaN</td>\n",
              "      <td>NaN</td>\n",
              "      <td>NaN</td>\n",
              "      <td>NaN</td>\n",
              "      <td>NaN</td>\n",
              "      <td>NaN</td>\n",
              "      <td>NaN</td>\n",
              "      <td>NaN</td>\n",
              "      <td>NaN</td>\n",
              "      <td>NaN</td>\n",
              "      <td>NaN</td>\n",
              "      <td>NaN</td>\n",
              "      <td>NaN</td>\n",
              "      <td>NaN</td>\n",
              "      <td>NaN</td>\n",
              "      <td>NaN</td>\n",
              "      <td>21.5</td>\n",
              "      <td>0.087156</td>\n",
              "      <td>-0.996195</td>\n",
              "      <td>0.130526</td>\n",
              "      <td>-0.991445</td>\n",
              "      <td>1.312889</td>\n",
              "      <td>1.212889</td>\n",
              "    </tr>\n",
              "    <tr>\n",
              "      <th>4749</th>\n",
              "      <td>4749</td>\n",
              "      <td>19.7</td>\n",
              "      <td>987.7</td>\n",
              "      <td>0.9</td>\n",
              "      <td>0.6</td>\n",
              "      <td>0.0</td>\n",
              "      <td>1006.9</td>\n",
              "      <td>987.6</td>\n",
              "      <td>21.4</td>\n",
              "      <td>1007.4</td>\n",
              "      <td>1007.5</td>\n",
              "      <td>2.5</td>\n",
              "      <td>23.88</td>\n",
              "      <td>95.9</td>\n",
              "      <td>127.8</td>\n",
              "      <td>256.1</td>\n",
              "      <td>299.1</td>\n",
              "      <td>0.6</td>\n",
              "      <td>90.8</td>\n",
              "      <td>10.5</td>\n",
              "      <td>1000.4</td>\n",
              "      <td>1007.6</td>\n",
              "      <td>0.0</td>\n",
              "      <td>0.0</td>\n",
              "      <td>0.2</td>\n",
              "      <td>1006.0</td>\n",
              "      <td>23.6</td>\n",
              "      <td>999.5</td>\n",
              "      <td>90.2</td>\n",
              "      <td>17.8</td>\n",
              "      <td>19.2</td>\n",
              "      <td>1007.5</td>\n",
              "      <td>22.16</td>\n",
              "      <td>254.2</td>\n",
              "      <td>0.0</td>\n",
              "      <td>83.0</td>\n",
              "      <td>58.9</td>\n",
              "      <td>0.5</td>\n",
              "      <td>NaN</td>\n",
              "      <td>NaN</td>\n",
              "      <td>NaN</td>\n",
              "      <td>NaN</td>\n",
              "      <td>NaN</td>\n",
              "      <td>NaN</td>\n",
              "      <td>NaN</td>\n",
              "      <td>NaN</td>\n",
              "      <td>NaN</td>\n",
              "      <td>NaN</td>\n",
              "      <td>NaN</td>\n",
              "      <td>NaN</td>\n",
              "      <td>NaN</td>\n",
              "      <td>NaN</td>\n",
              "      <td>NaN</td>\n",
              "      <td>NaN</td>\n",
              "      <td>NaN</td>\n",
              "      <td>NaN</td>\n",
              "      <td>21.5</td>\n",
              "      <td>0.065403</td>\n",
              "      <td>-0.997859</td>\n",
              "      <td>0.130526</td>\n",
              "      <td>-0.991445</td>\n",
              "      <td>1.325333</td>\n",
              "      <td>1.225333</td>\n",
              "    </tr>\n",
              "    <tr>\n",
              "      <th>4750</th>\n",
              "      <td>4750</td>\n",
              "      <td>19.4</td>\n",
              "      <td>987.7</td>\n",
              "      <td>0.9</td>\n",
              "      <td>0.8</td>\n",
              "      <td>0.0</td>\n",
              "      <td>1006.9</td>\n",
              "      <td>987.8</td>\n",
              "      <td>21.3</td>\n",
              "      <td>1007.6</td>\n",
              "      <td>1007.5</td>\n",
              "      <td>2.5</td>\n",
              "      <td>23.88</td>\n",
              "      <td>95.9</td>\n",
              "      <td>323.8</td>\n",
              "      <td>255.1</td>\n",
              "      <td>0.0</td>\n",
              "      <td>0.6</td>\n",
              "      <td>91.5</td>\n",
              "      <td>10.5</td>\n",
              "      <td>1000.4</td>\n",
              "      <td>1007.6</td>\n",
              "      <td>0.0</td>\n",
              "      <td>0.0</td>\n",
              "      <td>0.1</td>\n",
              "      <td>1006.0</td>\n",
              "      <td>23.3</td>\n",
              "      <td>999.5</td>\n",
              "      <td>90.1</td>\n",
              "      <td>17.7</td>\n",
              "      <td>19.3</td>\n",
              "      <td>1007.6</td>\n",
              "      <td>22.16</td>\n",
              "      <td>300.0</td>\n",
              "      <td>0.0</td>\n",
              "      <td>83.2</td>\n",
              "      <td>59.8</td>\n",
              "      <td>0.5</td>\n",
              "      <td>NaN</td>\n",
              "      <td>NaN</td>\n",
              "      <td>NaN</td>\n",
              "      <td>NaN</td>\n",
              "      <td>NaN</td>\n",
              "      <td>NaN</td>\n",
              "      <td>NaN</td>\n",
              "      <td>NaN</td>\n",
              "      <td>NaN</td>\n",
              "      <td>NaN</td>\n",
              "      <td>NaN</td>\n",
              "      <td>NaN</td>\n",
              "      <td>NaN</td>\n",
              "      <td>NaN</td>\n",
              "      <td>NaN</td>\n",
              "      <td>NaN</td>\n",
              "      <td>NaN</td>\n",
              "      <td>NaN</td>\n",
              "      <td>21.5</td>\n",
              "      <td>0.043619</td>\n",
              "      <td>-0.999048</td>\n",
              "      <td>0.130526</td>\n",
              "      <td>-0.991445</td>\n",
              "      <td>1.280222</td>\n",
              "      <td>1.180222</td>\n",
              "    </tr>\n",
              "    <tr>\n",
              "      <th>4751</th>\n",
              "      <td>4751</td>\n",
              "      <td>19.1</td>\n",
              "      <td>987.6</td>\n",
              "      <td>1.0</td>\n",
              "      <td>0.3</td>\n",
              "      <td>0.0</td>\n",
              "      <td>1006.8</td>\n",
              "      <td>987.8</td>\n",
              "      <td>21.2</td>\n",
              "      <td>1007.5</td>\n",
              "      <td>1007.4</td>\n",
              "      <td>2.5</td>\n",
              "      <td>23.88</td>\n",
              "      <td>96.2</td>\n",
              "      <td>0.0</td>\n",
              "      <td>237.2</td>\n",
              "      <td>17.7</td>\n",
              "      <td>0.0</td>\n",
              "      <td>93.0</td>\n",
              "      <td>10.5</td>\n",
              "      <td>1000.3</td>\n",
              "      <td>1007.6</td>\n",
              "      <td>0.0</td>\n",
              "      <td>0.0</td>\n",
              "      <td>0.1</td>\n",
              "      <td>1006.1</td>\n",
              "      <td>23.2</td>\n",
              "      <td>999.5</td>\n",
              "      <td>89.6</td>\n",
              "      <td>17.7</td>\n",
              "      <td>19.5</td>\n",
              "      <td>1007.7</td>\n",
              "      <td>22.16</td>\n",
              "      <td>157.5</td>\n",
              "      <td>0.0</td>\n",
              "      <td>84.0</td>\n",
              "      <td>59.5</td>\n",
              "      <td>0.5</td>\n",
              "      <td>NaN</td>\n",
              "      <td>NaN</td>\n",
              "      <td>NaN</td>\n",
              "      <td>NaN</td>\n",
              "      <td>NaN</td>\n",
              "      <td>NaN</td>\n",
              "      <td>NaN</td>\n",
              "      <td>NaN</td>\n",
              "      <td>NaN</td>\n",
              "      <td>NaN</td>\n",
              "      <td>NaN</td>\n",
              "      <td>NaN</td>\n",
              "      <td>NaN</td>\n",
              "      <td>NaN</td>\n",
              "      <td>NaN</td>\n",
              "      <td>NaN</td>\n",
              "      <td>NaN</td>\n",
              "      <td>NaN</td>\n",
              "      <td>21.0</td>\n",
              "      <td>0.021815</td>\n",
              "      <td>-0.999762</td>\n",
              "      <td>0.130526</td>\n",
              "      <td>-0.991445</td>\n",
              "      <td>1.310667</td>\n",
              "      <td>1.210667</td>\n",
              "    </tr>\n",
              "  </tbody>\n",
              "</table>\n",
              "<p>4752 rows × 63 columns</p>\n",
              "</div>"
            ],
            "text/plain": [
              "        id   X00    X01  X02  ...  time_h_sin  time_h_cos  time_diff  time_diff_2\n",
              "0        0   9.7  988.8  1.2  ...    0.000000    1.000000   1.361556     1.361556\n",
              "1        1   9.3  988.9  1.7  ...    0.000000    1.000000   1.399556     1.399556\n",
              "2        2   9.4  989.0  1.1  ...    0.000000    1.000000   1.446667     1.446667\n",
              "3        3   9.4  988.9  1.5  ...    0.000000    1.000000   1.465111     1.465111\n",
              "4        4   9.2  988.9  0.8  ...    0.000000    1.000000   1.515556     1.515556\n",
              "...    ...   ...    ...  ...  ...         ...         ...        ...          ...\n",
              "4747  4747  19.9  987.6  0.9  ...    0.130526   -0.991445   1.316667     1.216667\n",
              "4748  4748  19.9  987.6  0.5  ...    0.130526   -0.991445   1.312889     1.212889\n",
              "4749  4749  19.7  987.7  0.9  ...    0.130526   -0.991445   1.325333     1.225333\n",
              "4750  4750  19.4  987.7  0.9  ...    0.130526   -0.991445   1.280222     1.180222\n",
              "4751  4751  19.1  987.6  1.0  ...    0.130526   -0.991445   1.310667     1.210667\n",
              "\n",
              "[4752 rows x 63 columns]"
            ]
          },
          "metadata": {
            "tags": []
          },
          "execution_count": 24
        }
      ]
    },
    {
      "cell_type": "markdown",
      "metadata": {
        "id": "U6pZPpWaIOsX",
        "colab_type": "text"
      },
      "source": [
        "### standardization"
      ]
    },
    {
      "cell_type": "code",
      "metadata": {
        "id": "u0VO84GqEIe9",
        "colab_type": "code",
        "colab": {}
      },
      "source": [
        "def standardization(df, mean, std):\n",
        "    return (df - mean) / (std - 1e-07)"
      ],
      "execution_count": 0,
      "outputs": []
    },
    {
      "cell_type": "code",
      "metadata": {
        "id": "uC1IzmlwIIqw",
        "colab_type": "code",
        "colab": {}
      },
      "source": [
        "#학습용 데이터 표준화\n",
        "train_mean, train_std = np.mean(train_33[feat_x_t]), np.std(train_33[feat_x_t])"
      ],
      "execution_count": 0,
      "outputs": []
    },
    {
      "cell_type": "code",
      "metadata": {
        "id": "TvBpg25vrnNw",
        "colab_type": "code",
        "colab": {}
      },
      "source": [
        "train_33_stand =standardization(train_33[feat_x_t], train_mean, train_std)\n",
        "train_33_stand =standardization(train_33[feat_x_t], train_mean, train_std)\n",
        "train_30_stand =standardization(train_30[feat_x_t], train_mean, train_std)\n",
        "train_3_stand =standardization(train_3[feat_x_t], train_mean, train_std)\n",
        "test_stand = standardization(test[feat_x_t], train_mean, train_std)"
      ],
      "execution_count": 0,
      "outputs": []
    },
    {
      "cell_type": "code",
      "metadata": {
        "id": "L6i9FNQvIIwP",
        "colab_type": "code",
        "outputId": "cc723417-0b65-4378-f2d6-ea6e6a3370ed",
        "colab": {
          "base_uri": "https://localhost:8080/",
          "height": 34
        }
      },
      "source": [
        "train_33.shape, train_30.shape, train_3.shape, test.shape"
      ],
      "execution_count": 28,
      "outputs": [
        {
          "output_type": "execute_result",
          "data": {
            "text/plain": [
              "((4752, 63), (4320, 63), (432, 63), (11520, 43))"
            ]
          },
          "metadata": {
            "tags": []
          },
          "execution_count": 28
        }
      ]
    },
    {
      "cell_type": "markdown",
      "metadata": {
        "id": "xGOudvn5c9NY",
        "colab_type": "text"
      },
      "source": [
        "### columns 정하기"
      ]
    },
    {
      "cell_type": "code",
      "metadata": {
        "id": "3hjbHF5Nc2o7",
        "colab_type": "code",
        "colab": {}
      },
      "source": [
        "x_cols = feat_x_t "
      ],
      "execution_count": 0,
      "outputs": []
    },
    {
      "cell_type": "code",
      "metadata": {
        "id": "0iDd4Or3Y-Md",
        "colab_type": "code",
        "colab": {}
      },
      "source": [
        "# 관심 지역과 가장 유사한 지역 3곳\n",
        "y_cols = ['Y15','Y16', 'Y09']"
      ],
      "execution_count": 0,
      "outputs": []
    },
    {
      "cell_type": "code",
      "metadata": {
        "id": "1Ue_vgyCYtK0",
        "colab_type": "code",
        "colab": {}
      },
      "source": [
        "train_30_y = train_30[y_cols].mean(axis=1)\n",
        "train_3_y = train_3['Y18'].copy()"
      ],
      "execution_count": 0,
      "outputs": []
    },
    {
      "cell_type": "code",
      "metadata": {
        "id": "NQlY9VDiSQP_",
        "colab_type": "code",
        "outputId": "5b634d58-9d70-42d9-a218-5f06d05aee36",
        "colab": {
          "base_uri": "https://localhost:8080/",
          "height": 34
        }
      },
      "source": [
        "train_30_y.shape, train_3_y.shape "
      ],
      "execution_count": 32,
      "outputs": [
        {
          "output_type": "execute_result",
          "data": {
            "text/plain": [
              "((4320,), (432,))"
            ]
          },
          "metadata": {
            "tags": []
          },
          "execution_count": 32
        }
      ]
    },
    {
      "cell_type": "markdown",
      "metadata": {
        "id": "9MFJUKHn18x_",
        "colab_type": "text"
      },
      "source": [
        "## model1 - LSTM"
      ]
    },
    {
      "cell_type": "markdown",
      "metadata": {
        "id": "c7v_0MszRRwe",
        "colab_type": "text"
      },
      "source": [
        "### LSTM 데이터 만들기\n"
      ]
    },
    {
      "cell_type": "code",
      "metadata": {
        "id": "coIbUvg3mJiD",
        "colab_type": "code",
        "colab": {}
      },
      "source": [
        "x_cols = feat_temp + feat_air_press + feat_rainfall + feat_sea_press + feat_insol + feat_humid"
      ],
      "execution_count": 0,
      "outputs": []
    },
    {
      "cell_type": "code",
      "metadata": {
        "colab_type": "code",
        "id": "WozaYzwK60Hs",
        "colab": {}
      },
      "source": [
        "#x_cols = feat_x # lstm은 시간 변수 절대00 넣지 말기 , normalize 꼭 해주기 "
      ],
      "execution_count": 0,
      "outputs": []
    },
    {
      "cell_type": "code",
      "metadata": {
        "colab_type": "code",
        "id": "qAh3DE9p6ErN",
        "colab": {}
      },
      "source": [
        "# standardization 적용 \n",
        "train_30_= train_30_stand[x_cols].copy()\n",
        "train_3_= train_3_stand[x_cols].copy()\n",
        "test_ = test_stand[x_cols].copy()\n",
        "\n",
        "train_30_y_ = train_30_y.copy()\n",
        "train_3_y_ = train_3_y.copy()"
      ],
      "execution_count": 0,
      "outputs": []
    },
    {
      "cell_type": "code",
      "metadata": {
        "id": "bO3wjHzwRRVJ",
        "colab_type": "code",
        "colab": {}
      },
      "source": [
        "inter = 72"
      ],
      "execution_count": 0,
      "outputs": []
    },
    {
      "cell_type": "code",
      "metadata": {
        "id": "_JIl9vNHM2tj",
        "colab_type": "code",
        "outputId": "7f881d71-f8c9-41fb-b4fd-3d9a3bee1b68",
        "colab": {
          "base_uri": "https://localhost:8080/",
          "height": 52
        }
      },
      "source": [
        "# RNN 모델에 입력 할 수 있는 시계열 형태로 데이터 변환 -> sequence, target \n",
        "def convert_to_timeseries(df_x, df_y, interval):\n",
        "    sequence_list = []\n",
        "    target_list = []\n",
        "    for i in range(df_x.shape[0] - interval):\n",
        "        sequence_list.append(np.array(df_x.iloc[i:i+interval]))\n",
        "        target_list.append(df_y.iloc[i+interval])\n",
        "    \n",
        "    sequence = np.array(sequence_list)\n",
        "    target = np.array(target_list)\n",
        "    \n",
        "    return sequence, target\n",
        "\n",
        "#train data\n",
        "s, t = convert_to_timeseries(pd.concat([train_30_, train_3_]), \n",
        "                            pd.concat([pd.Series(train_30_y_), pd.Series(train_3_y_)]), \n",
        "                             interval = inter)\n",
        "# test data\n",
        "len_test = len(test)\n",
        "s_test, _ = convert_to_timeseries(pd.concat([train_30_.iloc[-inter:], train_3_, test_]), \n",
        "                                pd.concat([pd.Series(train_30_y_.iloc[-inter:]), pd.Series(train_3_y_), pd.Series(np.zeros(len_test))]), \n",
        "                             interval = inter)\n",
        "m = 432\n",
        "sequence, sequence_finetune = s[:-m], s[-m:]\n",
        "target, target_finetune = t[:-m], t[-m:]\n",
        "\n",
        "test_sequence = s_test[-len_test:]\n",
        "\n",
        "print(sequence.shape, target.shape)\n",
        "print(sequence_finetune.shape, target_finetune.shape)"
      ],
      "execution_count": 37,
      "outputs": [
        {
          "output_type": "stream",
          "text": [
            "(4248, 72, 27) (4248,)\n",
            "(432, 72, 27) (432,)\n"
          ],
          "name": "stdout"
        }
      ]
    },
    {
      "cell_type": "markdown",
      "metadata": {
        "id": "8o9ppCAM7HAj",
        "colab_type": "text"
      },
      "source": [
        "### model"
      ]
    },
    {
      "cell_type": "code",
      "metadata": {
        "colab_type": "code",
        "id": "x3J6PgVS7aVk",
        "colab": {}
      },
      "source": [
        "epochs1 = 1000\n",
        "batch_size1 = 144*4\n",
        "\n",
        "epochs2 = 200\n",
        "batch_size2 = 2*4\n",
        "\n",
        "patience = 50"
      ],
      "execution_count": 0,
      "outputs": []
    },
    {
      "cell_type": "code",
      "metadata": {
        "id": "8XaxfaG7NVVP",
        "colab_type": "code",
        "outputId": "a1934628-226c-4d93-ae39-a4a44eaa614c",
        "colab": {
          "base_uri": "https://localhost:8080/",
          "height": 295
        }
      },
      "source": [
        "def build_model_lstm():\n",
        "  model = tf.keras.Sequential([\n",
        "    tf.keras.layers.LSTM(512, input_shape=sequence.shape[-2:]),\n",
        "    tf.keras.layers.Dense(256),\n",
        "    tf.keras.layers.ReLU(),\n",
        "    tf.keras.layers.Dense(1)\n",
        "  ])\n",
        "  optimizer = tf.keras.optimizers.Adam()\n",
        "\n",
        "  model.compile(loss='mse',\n",
        "                optimizer=optimizer,\n",
        "                metrics=['mae', 'mse'])\n",
        "  return model\n",
        "simple_lstm_model = build_model_lstm()\n",
        "simple_lstm_model.summary()"
      ],
      "execution_count": 39,
      "outputs": [
        {
          "output_type": "stream",
          "text": [
            "Model: \"sequential\"\n",
            "_________________________________________________________________\n",
            "Layer (type)                 Output Shape              Param #   \n",
            "=================================================================\n",
            "lstm (LSTM)                  (None, 512)               1105920   \n",
            "_________________________________________________________________\n",
            "dense (Dense)                (None, 256)               131328    \n",
            "_________________________________________________________________\n",
            "re_lu (ReLU)                 (None, 256)               0         \n",
            "_________________________________________________________________\n",
            "dense_1 (Dense)              (None, 1)                 257       \n",
            "=================================================================\n",
            "Total params: 1,237,505\n",
            "Trainable params: 1,237,505\n",
            "Non-trainable params: 0\n",
            "_________________________________________________________________\n"
          ],
          "name": "stdout"
        }
      ]
    },
    {
      "cell_type": "code",
      "metadata": {
        "id": "KY3iDtKVUHoI",
        "colab_type": "code",
        "colab": {}
      },
      "source": [
        "def scheduler(epoch):\n",
        "  if epoch < 20:\n",
        "    return 0.001\n",
        "  else:\n",
        "    return 0.001 * tf.math.exp(0.1 * (20 - epoch))\n",
        "\n",
        "callback_lr = tf.keras.callbacks.LearningRateScheduler(scheduler)\n",
        "callback = tf.keras.callbacks.EarlyStopping(monitor='val_loss', restore_best_weights = True, patience=patience)"
      ],
      "execution_count": 0,
      "outputs": []
    },
    {
      "cell_type": "code",
      "metadata": {
        "id": "yfmd4R1JSCRg",
        "colab_type": "code",
        "colab": {}
      },
      "source": [
        "# 모델 학습\n",
        "history = simple_lstm_model.fit(    \n",
        "    sequence, target,\n",
        "    epochs=epochs1,\n",
        "    batch_size=batch_size1,\n",
        "    validation_split=0.1,\n",
        "    shuffle=False,\n",
        "    callbacks = [callback, callback_lr],\n",
        "    verbose=0\n",
        ")"
      ],
      "execution_count": 0,
      "outputs": []
    },
    {
      "cell_type": "code",
      "metadata": {
        "id": "_rDYuae3fH-m",
        "colab_type": "code",
        "colab": {}
      },
      "source": [
        "def plot_history(history, ylim_mae=False, ylim_mse=False):\n",
        "    '''\n",
        "    \n",
        "    '''\n",
        "    hist = pd.DataFrame(history.history)\n",
        "    hist['epoch'] = history.epoch\n",
        "\n",
        "    plt.figure(figsize=(20,6))\n",
        "\n",
        "    plt.subplot(1,2,1)\n",
        "    plt.xlabel('Epoch')\n",
        "    plt.ylabel('Mean Abs Error [Y]]')\n",
        "    plt.plot(hist['epoch'], hist['mae'],\n",
        "            label='Train Error')\n",
        "    plt.plot(hist['epoch'], hist['val_mae'],\n",
        "            label = 'Val Error')\n",
        "    if ylim_mae: \n",
        "        plt.ylim(ylim_mae)\n",
        "    else:\n",
        "        plt.ylim([0,5])\n",
        "    plt.legend()\n",
        "\n",
        "    plt.subplot(1,2,2)\n",
        "    plt.xlabel('Epoch')\n",
        "    plt.ylabel('Mean Square Error [$Y^2$]')\n",
        "    plt.plot(hist['epoch'], hist['mse'], label='Train Error')\n",
        "    plt.plot(hist['epoch'], hist['val_mse'], label = 'Val Error')\n",
        "    if ylim_mse: \n",
        "        plt.ylim(ylim_mse)\n",
        "    else:\n",
        "        plt.ylim([0,20])\n",
        "    plt.legend()\n",
        "    plt.show()"
      ],
      "execution_count": 0,
      "outputs": []
    },
    {
      "cell_type": "code",
      "metadata": {
        "id": "MB482mDnSr1a",
        "colab_type": "code",
        "outputId": "1c0c681b-1c86-4b51-f14c-dadd69845ed7",
        "colab": {
          "base_uri": "https://localhost:8080/",
          "height": 415
        }
      },
      "source": [
        "plot_history(history,(0, 2), (0,30))"
      ],
      "execution_count": 43,
      "outputs": [
        {
          "output_type": "display_data",
          "data": {
            "image/png": "[encoded data removed]",
            "text/plain": [
              "<Figure size 1440x432 with 2 Axes>"
            ]
          },
          "metadata": {
            "tags": [],
            "needs_background": "light"
          }
        }
      ]
    },
    {
      "cell_type": "code",
      "metadata": {
        "id": "AlC7_6rVO3ON",
        "colab_type": "code",
        "colab": {}
      },
      "source": [
        "# LSTM 레이어0 고정\n",
        "simple_lstm_model.layers[0].trainable = False"
      ],
      "execution_count": 0,
      "outputs": []
    },
    {
      "cell_type": "code",
      "metadata": {
        "id": "1_nl8BwPSN8y",
        "colab_type": "code",
        "colab": {}
      },
      "source": [
        "# LSTM 레이어0를 제외한 레이어에 대해서 fine tuning 진행 (Transfer Learning)\n",
        "finetune_history = simple_lstm_model.fit(\n",
        "            sequence_finetune, target_finetune,\n",
        "            epochs=epochs2,\n",
        "            batch_size=batch_size2,\n",
        "            validation_split=0.25,\n",
        "            callbacks = [callback, callback_lr],\n",
        "            shuffle=False, \n",
        "            verbose=0)"
      ],
      "execution_count": 0,
      "outputs": []
    },
    {
      "cell_type": "code",
      "metadata": {
        "id": "9MWfe5SbS7Gb",
        "colab_type": "code",
        "outputId": "3f86c0e0-8b54-4a61-9cbe-481ad11ea7d4",
        "colab": {
          "base_uri": "https://localhost:8080/",
          "height": 415
        }
      },
      "source": [
        "plot_history(finetune_history,(0, 5), (0,10))"
      ],
      "execution_count": 46,
      "outputs": [
        {
          "output_type": "display_data",
          "data": {
            "image/png": "[encoded data removed]",
            "text/plain": [
              "<Figure size 1440x432 with 2 Axes>"
            ]
          },
          "metadata": {
            "tags": [],
            "needs_background": "light"
          }
        }
      ]
    },
    {
      "cell_type": "code",
      "metadata": {
        "id": "HqAuDdGkPCDn",
        "colab_type": "code",
        "colab": {}
      },
      "source": [
        "# 예측하기 \n",
        "test_predictions_lstm = simple_lstm_model.predict(test_sequence).flatten()"
      ],
      "execution_count": 0,
      "outputs": []
    },
    {
      "cell_type": "markdown",
      "metadata": {
        "id": "6WUHINNE1zSs",
        "colab_type": "text"
      },
      "source": [
        "## model2 - LightGBM"
      ]
    },
    {
      "cell_type": "markdown",
      "metadata": {
        "id": "9yQEdVrOGhQc",
        "colab_type": "text"
      },
      "source": [
        "### LightGBM 데이터 만들기"
      ]
    },
    {
      "cell_type": "code",
      "metadata": {
        "id": "k_QNTn6QNPPA",
        "colab_type": "code",
        "colab": {}
      },
      "source": [
        "x_cols = feat_x_t"
      ],
      "execution_count": 0,
      "outputs": []
    },
    {
      "cell_type": "code",
      "metadata": {
        "colab_type": "code",
        "id": "fklJSa996u3B",
        "colab": {}
      },
      "source": [
        "# 기본 적용\n",
        "train_30_ = train_30[x_cols].copy()\n",
        "train_3_ = train_3[x_cols].copy()\n",
        "train_30_y_ = train_30_y.copy()\n",
        "train_3_y_ = train_3_y.copy()\n",
        "test_ = test[x_cols].copy()"
      ],
      "execution_count": 0,
      "outputs": []
    },
    {
      "cell_type": "code",
      "metadata": {
        "id": "2shFNwjqLfB5",
        "colab_type": "code",
        "colab": {}
      },
      "source": [
        "epochs1 = 5000\n",
        "epochs2 = 10000"
      ],
      "execution_count": 0,
      "outputs": []
    },
    {
      "cell_type": "code",
      "metadata": {
        "id": "PhJsZ5ocDtsO",
        "colab_type": "code",
        "colab": {}
      },
      "source": [
        "m1_data = train_30_[x_cols]\n",
        "m1 = int(len(m1_data)*0.9)\n",
        "m1_train_data = lgb.Dataset(m1_data.iloc[:m1], label=train_30_y_.iloc[:m1])\n",
        "m1_validation_data = lgb.Dataset(m1_data.iloc[m1:], label=train_30_y_.iloc[m1:])\n",
        "\n",
        "\n",
        "m2_data = train_3_[x_cols]\n",
        "m2 = int(len(m2_data)*0.8)\n",
        "m2_train_data = lgb.Dataset(m2_data.iloc[:m2], label=train_3_y_.iloc[:m2])\n",
        "m2_validation_data = lgb.Dataset(m2_data.iloc[m2:], label=train_3_y_.iloc[m2:])\n"
      ],
      "execution_count": 0,
      "outputs": []
    },
    {
      "cell_type": "markdown",
      "metadata": {
        "id": "Z2yXLO2k6xEZ",
        "colab_type": "text"
      },
      "source": [
        "### model"
      ]
    },
    {
      "cell_type": "code",
      "metadata": {
        "id": "HPlsYlZnIohe",
        "colab_type": "code",
        "colab": {}
      },
      "source": [
        "## model parameter\n",
        "params ={'boosting_type': 'goss',\n",
        " 'learning_rate': 0.0005,\n",
        " 'num_leaves': 100,\n",
        " 'random_state': 7,\n",
        " 'objective': 'regression'}"
      ],
      "execution_count": 0,
      "outputs": []
    },
    {
      "cell_type": "code",
      "metadata": {
        "id": "UcDHZQqdIok0",
        "colab_type": "code",
        "outputId": "946b75dc-cb56-4f56-edc2-ab89b8ce49ab",
        "colab": {
          "base_uri": "https://localhost:8080/",
          "height": 799
        }
      },
      "source": [
        "model1 = lgb.train(params, \n",
        "            m1_train_data,\n",
        "            valid_sets = m1_validation_data,\n",
        "            verbose_eval=100,\n",
        "            num_boost_round = epochs1, \n",
        "            early_stopping_rounds=10,\n",
        "            keep_training_booster=True) "
      ],
      "execution_count": 53,
      "outputs": [
        {
          "output_type": "stream",
          "text": [
            "Training until validation scores don't improve for 10 rounds.\n",
            "[100]\tvalid_0's l2: 34.5193\n",
            "[200]\tvalid_0's l2: 31.3779\n",
            "[300]\tvalid_0's l2: 28.5486\n",
            "[400]\tvalid_0's l2: 25.987\n",
            "[500]\tvalid_0's l2: 23.6615\n",
            "[600]\tvalid_0's l2: 21.5673\n",
            "[700]\tvalid_0's l2: 19.6741\n",
            "[800]\tvalid_0's l2: 17.9648\n",
            "[900]\tvalid_0's l2: 16.4072\n",
            "[1000]\tvalid_0's l2: 14.9975\n",
            "[1100]\tvalid_0's l2: 13.7086\n",
            "[1200]\tvalid_0's l2: 12.5388\n",
            "[1300]\tvalid_0's l2: 11.5097\n",
            "[1400]\tvalid_0's l2: 10.592\n",
            "[1500]\tvalid_0's l2: 9.77163\n",
            "[1600]\tvalid_0's l2: 9.01673\n",
            "[1700]\tvalid_0's l2: 8.32757\n",
            "[1800]\tvalid_0's l2: 7.71348\n",
            "[1900]\tvalid_0's l2: 7.1556\n",
            "[2000]\tvalid_0's l2: 6.63784\n",
            "[2100]\tvalid_0's l2: 5.15672\n",
            "[2200]\tvalid_0's l2: 4.2115\n",
            "[2300]\tvalid_0's l2: 3.59381\n",
            "[2400]\tvalid_0's l2: 3.1528\n",
            "[2500]\tvalid_0's l2: 2.80996\n",
            "[2600]\tvalid_0's l2: 2.55061\n",
            "[2700]\tvalid_0's l2: 2.33891\n",
            "[2800]\tvalid_0's l2: 2.16584\n",
            "[2900]\tvalid_0's l2: 2.02275\n",
            "[3000]\tvalid_0's l2: 1.89742\n",
            "[3100]\tvalid_0's l2: 1.7948\n",
            "[3200]\tvalid_0's l2: 1.70618\n",
            "[3300]\tvalid_0's l2: 1.63585\n",
            "[3400]\tvalid_0's l2: 1.57253\n",
            "[3500]\tvalid_0's l2: 1.51431\n",
            "[3600]\tvalid_0's l2: 1.46782\n",
            "[3700]\tvalid_0's l2: 1.43041\n",
            "[3800]\tvalid_0's l2: 1.39946\n",
            "[3900]\tvalid_0's l2: 1.37047\n",
            "[4000]\tvalid_0's l2: 1.34581\n",
            "[4100]\tvalid_0's l2: 1.33205\n",
            "[4200]\tvalid_0's l2: 1.322\n",
            "Early stopping, best iteration is:\n",
            "[4219]\tvalid_0's l2: 1.31929\n"
          ],
          "name": "stdout"
        }
      ]
    },
    {
      "cell_type": "code",
      "metadata": {
        "id": "-fQWqITKIonr",
        "colab_type": "code",
        "outputId": "334b05f8-ea7b-4ace-947b-d6e2d23fdcfa",
        "colab": {
          "base_uri": "https://localhost:8080/",
          "height": 34
        }
      },
      "source": [
        "train_30[x_cols].shape"
      ],
      "execution_count": 54,
      "outputs": [
        {
          "output_type": "execute_result",
          "data": {
            "text/plain": [
              "(4320, 43)"
            ]
          },
          "metadata": {
            "tags": []
          },
          "execution_count": 54
        }
      ]
    },
    {
      "cell_type": "code",
      "metadata": {
        "id": "pJVa-CLxIoqm",
        "colab_type": "code",
        "colab": {}
      },
      "source": [
        "## model parameter\n",
        "params ={'boosting_type': 'goss',\n",
        " 'learning_rate': 0.0001,\n",
        " 'num_leaves': 100,\n",
        " 'random_state': 7,\n",
        " 'objective': 'regression'}"
      ],
      "execution_count": 0,
      "outputs": []
    },
    {
      "cell_type": "code",
      "metadata": {
        "id": "qQyfT6zPIote",
        "colab_type": "code",
        "outputId": "6b5dba7f-14d7-4c0f-bdda-189447ddff32",
        "colab": {
          "base_uri": "https://localhost:8080/",
          "height": 1000
        }
      },
      "source": [
        "## model parameter\n",
        "model2 = lgb.train(params, \n",
        "            m2_train_data,\n",
        "            valid_sets = m2_validation_data,\n",
        "            verbose_eval = 100,\n",
        "            early_stopping_rounds = 50,\n",
        "            num_boost_round = epochs2, \n",
        "            init_model = model1) ## model1을 finetuning "
      ],
      "execution_count": 56,
      "outputs": [
        {
          "output_type": "stream",
          "text": [
            "Training until validation scores don't improve for 50 rounds.\n",
            "[4300]\tvalid_0's l2: 12.9267\n",
            "[4400]\tvalid_0's l2: 12.7847\n",
            "[4500]\tvalid_0's l2: 12.646\n",
            "[4600]\tvalid_0's l2: 12.5117\n",
            "[4700]\tvalid_0's l2: 12.3807\n",
            "[4800]\tvalid_0's l2: 12.2527\n",
            "[4900]\tvalid_0's l2: 12.1277\n",
            "[5000]\tvalid_0's l2: 12.0057\n",
            "[5100]\tvalid_0's l2: 11.8782\n",
            "[5200]\tvalid_0's l2: 11.7482\n",
            "[5300]\tvalid_0's l2: 11.6202\n",
            "[5400]\tvalid_0's l2: 11.4952\n",
            "[5500]\tvalid_0's l2: 11.371\n",
            "[5600]\tvalid_0's l2: 11.2484\n",
            "[5700]\tvalid_0's l2: 11.129\n",
            "[5800]\tvalid_0's l2: 11.0123\n",
            "[5900]\tvalid_0's l2: 10.8981\n",
            "[6000]\tvalid_0's l2: 10.7863\n",
            "[6100]\tvalid_0's l2: 10.6773\n",
            "[6200]\tvalid_0's l2: 10.5706\n",
            "[6300]\tvalid_0's l2: 10.4657\n",
            "[6400]\tvalid_0's l2: 10.3632\n",
            "[6500]\tvalid_0's l2: 10.2629\n",
            "[6600]\tvalid_0's l2: 10.165\n",
            "[6700]\tvalid_0's l2: 10.0724\n",
            "[6800]\tvalid_0's l2: 9.9774\n",
            "[6900]\tvalid_0's l2: 9.87669\n",
            "[7000]\tvalid_0's l2: 9.77763\n",
            "[7100]\tvalid_0's l2: 9.68095\n",
            "[7200]\tvalid_0's l2: 9.58743\n",
            "[7300]\tvalid_0's l2: 9.49541\n",
            "[7400]\tvalid_0's l2: 9.40437\n",
            "[7500]\tvalid_0's l2: 9.31494\n",
            "[7600]\tvalid_0's l2: 9.2276\n",
            "[7700]\tvalid_0's l2: 9.14204\n",
            "[7800]\tvalid_0's l2: 9.05879\n",
            "[7900]\tvalid_0's l2: 8.97709\n",
            "[8000]\tvalid_0's l2: 8.89729\n",
            "[8100]\tvalid_0's l2: 8.81894\n",
            "[8200]\tvalid_0's l2: 8.74219\n",
            "[8300]\tvalid_0's l2: 8.66737\n",
            "[8400]\tvalid_0's l2: 8.59388\n",
            "[8500]\tvalid_0's l2: 8.52173\n",
            "[8600]\tvalid_0's l2: 8.45094\n",
            "[8700]\tvalid_0's l2: 8.38166\n",
            "[8800]\tvalid_0's l2: 8.31399\n",
            "[8900]\tvalid_0's l2: 8.24769\n",
            "[9000]\tvalid_0's l2: 8.18445\n",
            "[9100]\tvalid_0's l2: 8.12327\n",
            "[9200]\tvalid_0's l2: 8.06301\n",
            "[9300]\tvalid_0's l2: 8.00409\n",
            "[9400]\tvalid_0's l2: 7.94627\n",
            "[9500]\tvalid_0's l2: 7.88976\n",
            "[9600]\tvalid_0's l2: 7.8345\n",
            "[9700]\tvalid_0's l2: 7.78034\n",
            "[9800]\tvalid_0's l2: 7.72734\n",
            "[9900]\tvalid_0's l2: 7.67359\n",
            "[10000]\tvalid_0's l2: 7.61936\n",
            "[10100]\tvalid_0's l2: 7.56623\n",
            "[10200]\tvalid_0's l2: 7.51342\n",
            "[10300]\tvalid_0's l2: 7.45883\n",
            "[10400]\tvalid_0's l2: 7.40596\n",
            "[10500]\tvalid_0's l2: 7.35193\n",
            "[10600]\tvalid_0's l2: 7.29855\n",
            "[10700]\tvalid_0's l2: 7.24728\n",
            "[10800]\tvalid_0's l2: 7.19764\n",
            "[10900]\tvalid_0's l2: 7.14899\n",
            "[11000]\tvalid_0's l2: 7.10142\n",
            "[11100]\tvalid_0's l2: 7.0548\n",
            "[11200]\tvalid_0's l2: 7.00885\n",
            "[11300]\tvalid_0's l2: 6.96306\n",
            "[11400]\tvalid_0's l2: 6.91956\n",
            "[11500]\tvalid_0's l2: 6.87817\n",
            "[11600]\tvalid_0's l2: 6.83703\n",
            "[11700]\tvalid_0's l2: 6.79519\n",
            "[11800]\tvalid_0's l2: 6.75441\n",
            "[11900]\tvalid_0's l2: 6.71415\n",
            "[12000]\tvalid_0's l2: 6.67464\n",
            "[12100]\tvalid_0's l2: 6.63547\n",
            "[12200]\tvalid_0's l2: 6.59711\n",
            "[12300]\tvalid_0's l2: 6.55913\n",
            "[12400]\tvalid_0's l2: 6.52199\n",
            "[12500]\tvalid_0's l2: 6.48477\n",
            "[12600]\tvalid_0's l2: 6.44759\n",
            "[12700]\tvalid_0's l2: 6.41221\n",
            "[12800]\tvalid_0's l2: 6.37717\n",
            "[12900]\tvalid_0's l2: 6.34274\n",
            "[13000]\tvalid_0's l2: 6.30898\n",
            "[13100]\tvalid_0's l2: 6.27584\n",
            "[13200]\tvalid_0's l2: 6.24318\n",
            "[13300]\tvalid_0's l2: 6.21125\n",
            "[13400]\tvalid_0's l2: 6.17996\n",
            "[13500]\tvalid_0's l2: 6.14945\n",
            "[13600]\tvalid_0's l2: 6.11932\n",
            "[13700]\tvalid_0's l2: 6.08983\n",
            "[13800]\tvalid_0's l2: 6.06078\n",
            "[13900]\tvalid_0's l2: 6.03234\n",
            "[14000]\tvalid_0's l2: 6.00422\n",
            "[14100]\tvalid_0's l2: 5.97676\n",
            "[14200]\tvalid_0's l2: 5.94977\n",
            "Did not meet early stopping. Best iteration is:\n",
            "[14229]\tvalid_0's l2: 5.94193\n"
          ],
          "name": "stdout"
        }
      ]
    },
    {
      "cell_type": "code",
      "metadata": {
        "id": "iWbrkPIJMD0l",
        "colab_type": "code",
        "colab": {}
      },
      "source": [
        "test_predictions_lgbm = model2.predict(test_[x_cols], num_iteration=model2.best_iteration).flatten()"
      ],
      "execution_count": 0,
      "outputs": []
    },
    {
      "cell_type": "markdown",
      "metadata": {
        "id": "rEmZF3q_SsCu",
        "colab_type": "text"
      },
      "source": [
        "##model3 - XGBoost "
      ]
    },
    {
      "cell_type": "markdown",
      "metadata": {
        "id": "wROMNUWE1nCH",
        "colab_type": "text"
      },
      "source": [
        "### XGBoost 데이터 만들기\n",
        "\n"
      ]
    },
    {
      "cell_type": "code",
      "metadata": {
        "colab_type": "code",
        "id": "sWFz-N0fn6QM",
        "colab": {}
      },
      "source": [
        "#x_cols = ['time_diff', 'time_diff_2'] + feat_temp + feat_air_press + feat_rainfall + feat_sea_press + feat_insol + feat_humid"
      ],
      "execution_count": 0,
      "outputs": []
    },
    {
      "cell_type": "code",
      "metadata": {
        "id": "hft_LjZQUaZN",
        "colab_type": "code",
        "colab": {}
      },
      "source": [
        "x_cols = feat_x_t"
      ],
      "execution_count": 0,
      "outputs": []
    },
    {
      "cell_type": "code",
      "metadata": {
        "id": "yQdu4cJZURdI",
        "colab_type": "code",
        "colab": {}
      },
      "source": [
        "# 기본 적용\n",
        "train_30_ = train_30[x_cols].copy()\n",
        "train_3_ = train_3[x_cols].copy()\n",
        "train_30_y_ = train_30_y.copy()\n",
        "train_3_y_ = train_3_y.copy()\n",
        "test_ = test[x_cols].copy()"
      ],
      "execution_count": 0,
      "outputs": []
    },
    {
      "cell_type": "code",
      "metadata": {
        "id": "t_Df3XjuSu_T",
        "colab_type": "code",
        "colab": {}
      },
      "source": [
        "data_dmatrix = xgb.DMatrix(data = pd.concat([train_30_, train_3_]),\n",
        "                           label = pd.concat([train_30_y_, train_3_y_]))\n",
        "train_dmatrix = xgb.DMatrix(data = train_30_,\n",
        "                           label = train_30_y_)\n",
        "val_dmatrix = xgb.DMatrix(data = train_3_,\n",
        "                           label = train_3_y_)"
      ],
      "execution_count": 0,
      "outputs": []
    },
    {
      "cell_type": "markdown",
      "metadata": {
        "id": "LFxFKQRf1tu8",
        "colab_type": "text"
      },
      "source": [
        "### model"
      ]
    },
    {
      "cell_type": "code",
      "metadata": {
        "id": "NpQJ4hAcSvCB",
        "colab_type": "code",
        "colab": {}
      },
      "source": [
        "params_gen={\n",
        "            'learning_rate':0.15,          # eta [default=0.3, alias: learning_rate]  **\n",
        "            'min_split_loss':0,       # gamma [default=0, alias: min_split_loss] *\n",
        "            'max_depth': 5,             # max_depth [default=6]  **\n",
        "            'min_child_weight':3,         # min_child_weight [default=1] *\n",
        "            'subsample':0.5,              # subsample [default=1] *\n",
        "            'process_type':'default',     # process_type [default= default] Choices: default, update  *\n",
        "}\n",
        "params_lt={\n",
        "            'objective': 'reg:squarederror', # reg:squarederror, reg:squaredlogerror, reg:logistic, reg:gamma, reg:tweedie\n",
        "            'eval_metric':['rmse'],          # 'rmse', 'rmsle', 'mae', 'logloss'\n",
        "            'seed': 202004,\n",
        "}"
      ],
      "execution_count": 0,
      "outputs": []
    },
    {
      "cell_type": "code",
      "metadata": {
        "id": "fLMKka5oFgYa",
        "colab_type": "code",
        "colab": {}
      },
      "source": [
        "params_gbtree ={'booster':'gbtree'}"
      ],
      "execution_count": 0,
      "outputs": []
    },
    {
      "cell_type": "code",
      "metadata": {
        "id": "KVJM8Bd2FpO3",
        "colab_type": "code",
        "colab": {}
      },
      "source": [
        "params_gblinear ={'booster': 'gblinear',\n",
        "                  'feature_selector': 'cyclic',   # feature_selector [default= cyclic], 'shuffle', 'random', 'greedy', 'thrifty'\n",
        "}"
      ],
      "execution_count": 0,
      "outputs": []
    },
    {
      "cell_type": "code",
      "metadata": {
        "id": "g_baHUVQFpXv",
        "colab_type": "code",
        "colab": {}
      },
      "source": [
        "params_dart ={'booster': 'dart', \n",
        "              'sample_type': 'uniform',         # sample_type [default= uniform] , 'weighted'\n",
        "              'normalize_type': 'forest',         # normalize_type [default= tree] , 'forest'\n",
        "              'rate_drop': 0.0,                 # rate_drop [default=0.0] , range: [0.0, 1.0]\n",
        "              'one_drop': 0,                    # one_drop [default=0]  ...0,1 ? flag\n",
        "              'skip_drop': 0.1                # skip_drop [default=0.0]  , range: [0.0, 1.0]\n",
        "}"
      ],
      "execution_count": 0,
      "outputs": []
    },
    {
      "cell_type": "code",
      "metadata": {
        "id": "uMAIz8nGFphC",
        "colab_type": "code",
        "colab": {}
      },
      "source": [
        "params = {**params_dart, **params_lt, **params_gen}"
      ],
      "execution_count": 0,
      "outputs": []
    },
    {
      "cell_type": "code",
      "metadata": {
        "id": "BmkCGdB-qGMH",
        "colab_type": "code",
        "outputId": "4fa55adb-ee7e-4e6e-af1a-53f5470dc7b4",
        "colab": {
          "base_uri": "https://localhost:8080/",
          "height": 312
        }
      },
      "source": [
        "eval_sets = [(train_dmatrix, 'train'), (val_dmatrix, 'eval')]\n",
        "xg_reg = xgb.train(params=params, dtrain=train_dmatrix, num_boost_round=3000,\n",
        "                   evals=eval_sets, early_stopping_rounds=20,\n",
        "                   verbose_eval=10)\n"
      ],
      "execution_count": 67,
      "outputs": [
        {
          "output_type": "stream",
          "text": [
            "[0]\ttrain-rmse:19.7274\teval-rmse:23.1173\n",
            "Multiple eval metrics have been passed: 'eval-rmse' will be used for early stopping.\n",
            "\n",
            "Will train until eval-rmse hasn't improved in 20 rounds.\n",
            "[10]\ttrain-rmse:4.06317\teval-rmse:5.96686\n",
            "[20]\ttrain-rmse:1.08503\teval-rmse:3.0019\n",
            "[30]\ttrain-rmse:0.644462\teval-rmse:2.5065\n",
            "[40]\ttrain-rmse:0.551067\teval-rmse:2.43762\n",
            "[50]\ttrain-rmse:0.502869\teval-rmse:2.42678\n",
            "[60]\ttrain-rmse:0.46126\teval-rmse:2.40545\n",
            "[70]\ttrain-rmse:0.429511\teval-rmse:2.40122\n",
            "[80]\ttrain-rmse:0.401913\teval-rmse:2.38799\n",
            "[90]\ttrain-rmse:0.378807\teval-rmse:2.3883\n",
            "[100]\ttrain-rmse:0.360701\teval-rmse:2.39095\n",
            "Stopping. Best iteration:\n",
            "[87]\ttrain-rmse:0.383988\teval-rmse:2.3863\n",
            "\n"
          ],
          "name": "stdout"
        }
      ]
    },
    {
      "cell_type": "code",
      "metadata": {
        "id": "2_y32RbtPzLX",
        "colab_type": "code",
        "colab": {}
      },
      "source": [
        "test_predictions_xgb = xg_reg.predict(data= xgb.DMatrix(data = test_[x_cols]),  ntree_limit=xg_reg.best_ntree_limit)"
      ],
      "execution_count": 0,
      "outputs": []
    },
    {
      "cell_type": "markdown",
      "metadata": {
        "id": "HtqsDz4SO9ly",
        "colab_type": "text"
      },
      "source": [
        "## prediction"
      ]
    },
    {
      "cell_type": "code",
      "metadata": {
        "id": "gTlcb69WO_VW",
        "colab_type": "code",
        "colab": {}
      },
      "source": [
        "test_predictions = (test_predictions_lgbm\n",
        "                    +test_predictions_lstm\n",
        "                    +test_predictions_xgb)/3\n",
        "# 제출 파일 만들기\n",
        "submit = pd.DataFrame({'id':range(144*33, 144*113),\n",
        "              'Y18':test_predictions.reshape(1,-1)[0]})\n",
        "now = datetime.now()\n",
        "now =now.strftime('%m%d_%H%M')\n",
        "submit.to_csv(os.path.join(project_path,'results', now +'_final.csv'), index = False)     "
      ],
      "execution_count": 0,
      "outputs": []
    },
    {
      "cell_type": "code",
      "metadata": {
        "id": "_HxSI9-OiXyV",
        "colab_type": "code",
        "colab": {}
      },
      "source": [
        ""
      ],
      "execution_count": 0,
      "outputs": []
    }
  ]
}