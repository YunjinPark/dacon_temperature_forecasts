{
  "nbformat": 4,
  "nbformat_minor": 0,
  "metadata": {
    "colab": {
      "name": "eda.ipynb",
      "provenance": [],
      "collapsed_sections": []
    },
    "kernelspec": {
      "name": "python3",
      "display_name": "Python 3"
    },
    "accelerator": "GPU"
  },
  "cells": [
    {
      "cell_type": "markdown",
      "metadata": {
        "id": "5pcR6GIYiKqM",
        "colab_type": "text"
      },
      "source": [
        "**온도 말고 다른 변수도 넣어보자.**"
      ]
    },
    {
      "cell_type": "code",
      "metadata": {
        "id": "4_fk2cgHmMXu",
        "colab_type": "code",
        "colab": {}
      },
      "source": [
        "from datetime import time, datetime\n",
        "\n",
        "now = datetime.now()\n",
        "now =now.strftime('%m%d_%H%M')\n"
      ],
      "execution_count": 0,
      "outputs": []
    },
    {
      "cell_type": "code",
      "metadata": {
        "id": "GyZEIHm2bJZT",
        "colab_type": "code",
        "outputId": "7014b006-2524-42c2-f1ee-149531c746f3",
        "colab": {
          "base_uri": "https://localhost:8080/",
          "height": 627
        }
      },
      "source": [
        "#!pip install tensorflow==2.0.0\n",
        "!pip install tensorflow-gpu==2.0.0"
      ],
      "execution_count": 63,
      "outputs": [
        {
          "output_type": "stream",
          "text": [
            "Requirement already satisfied: tensorflow-gpu==2.0.0 in /usr/local/lib/python3.6/dist-packages (2.0.0)\n",
            "Requirement already satisfied: wheel>=0.26 in /usr/local/lib/python3.6/dist-packages (from tensorflow-gpu==2.0.0) (0.34.2)\n",
            "Requirement already satisfied: wrapt>=1.11.1 in /usr/local/lib/python3.6/dist-packages (from tensorflow-gpu==2.0.0) (1.11.2)\n",
            "Requirement already satisfied: grpcio>=1.8.6 in /usr/local/lib/python3.6/dist-packages (from tensorflow-gpu==2.0.0) (1.27.1)\n",
            "Requirement already satisfied: protobuf>=3.6.1 in /usr/local/lib/python3.6/dist-packages (from tensorflow-gpu==2.0.0) (3.10.0)\n",
            "Requirement already satisfied: opt-einsum>=2.3.2 in /usr/local/lib/python3.6/dist-packages (from tensorflow-gpu==2.0.0) (3.1.0)\n",
            "Requirement already satisfied: keras-preprocessing>=1.0.5 in /usr/local/lib/python3.6/dist-packages (from tensorflow-gpu==2.0.0) (1.1.0)\n",
            "Requirement already satisfied: termcolor>=1.1.0 in /usr/local/lib/python3.6/dist-packages (from tensorflow-gpu==2.0.0) (1.1.0)\n",
            "Requirement already satisfied: keras-applications>=1.0.8 in /usr/local/lib/python3.6/dist-packages (from tensorflow-gpu==2.0.0) (1.0.8)\n",
            "Requirement already satisfied: google-pasta>=0.1.6 in /usr/local/lib/python3.6/dist-packages (from tensorflow-gpu==2.0.0) (0.1.8)\n",
            "Requirement already satisfied: gast==0.2.2 in /usr/local/lib/python3.6/dist-packages (from tensorflow-gpu==2.0.0) (0.2.2)\n",
            "Requirement already satisfied: numpy<2.0,>=1.16.0 in /usr/local/lib/python3.6/dist-packages (from tensorflow-gpu==2.0.0) (1.17.5)\n",
            "Requirement already satisfied: tensorboard<2.1.0,>=2.0.0 in /usr/local/lib/python3.6/dist-packages (from tensorflow-gpu==2.0.0) (2.0.2)\n",
            "Requirement already satisfied: astor>=0.6.0 in /usr/local/lib/python3.6/dist-packages (from tensorflow-gpu==2.0.0) (0.8.1)\n",
            "Requirement already satisfied: six>=1.10.0 in /usr/local/lib/python3.6/dist-packages (from tensorflow-gpu==2.0.0) (1.12.0)\n",
            "Requirement already satisfied: absl-py>=0.7.0 in /usr/local/lib/python3.6/dist-packages (from tensorflow-gpu==2.0.0) (0.9.0)\n",
            "Requirement already satisfied: tensorflow-estimator<2.1.0,>=2.0.0 in /usr/local/lib/python3.6/dist-packages (from tensorflow-gpu==2.0.0) (2.0.1)\n",
            "Requirement already satisfied: setuptools in /usr/local/lib/python3.6/dist-packages (from protobuf>=3.6.1->tensorflow-gpu==2.0.0) (45.2.0)\n",
            "Requirement already satisfied: h5py in /usr/local/lib/python3.6/dist-packages (from keras-applications>=1.0.8->tensorflow-gpu==2.0.0) (2.8.0)\n",
            "Requirement already satisfied: werkzeug>=0.11.15 in /usr/local/lib/python3.6/dist-packages (from tensorboard<2.1.0,>=2.0.0->tensorflow-gpu==2.0.0) (1.0.0)\n",
            "Requirement already satisfied: requests<3,>=2.21.0 in /usr/local/lib/python3.6/dist-packages (from tensorboard<2.1.0,>=2.0.0->tensorflow-gpu==2.0.0) (2.21.0)\n",
            "Requirement already satisfied: google-auth<2,>=1.6.3 in /usr/local/lib/python3.6/dist-packages (from tensorboard<2.1.0,>=2.0.0->tensorflow-gpu==2.0.0) (1.7.2)\n",
            "Requirement already satisfied: markdown>=2.6.8 in /usr/local/lib/python3.6/dist-packages (from tensorboard<2.1.0,>=2.0.0->tensorflow-gpu==2.0.0) (3.2.1)\n",
            "Requirement already satisfied: google-auth-oauthlib<0.5,>=0.4.1 in /usr/local/lib/python3.6/dist-packages (from tensorboard<2.1.0,>=2.0.0->tensorflow-gpu==2.0.0) (0.4.1)\n",
            "Requirement already satisfied: idna<2.9,>=2.5 in /usr/local/lib/python3.6/dist-packages (from requests<3,>=2.21.0->tensorboard<2.1.0,>=2.0.0->tensorflow-gpu==2.0.0) (2.8)\n",
            "Requirement already satisfied: chardet<3.1.0,>=3.0.2 in /usr/local/lib/python3.6/dist-packages (from requests<3,>=2.21.0->tensorboard<2.1.0,>=2.0.0->tensorflow-gpu==2.0.0) (3.0.4)\n",
            "Requirement already satisfied: urllib3<1.25,>=1.21.1 in /usr/local/lib/python3.6/dist-packages (from requests<3,>=2.21.0->tensorboard<2.1.0,>=2.0.0->tensorflow-gpu==2.0.0) (1.24.3)\n",
            "Requirement already satisfied: certifi>=2017.4.17 in /usr/local/lib/python3.6/dist-packages (from requests<3,>=2.21.0->tensorboard<2.1.0,>=2.0.0->tensorflow-gpu==2.0.0) (2019.11.28)\n",
            "Requirement already satisfied: rsa<4.1,>=3.1.4 in /usr/local/lib/python3.6/dist-packages (from google-auth<2,>=1.6.3->tensorboard<2.1.0,>=2.0.0->tensorflow-gpu==2.0.0) (4.0)\n",
            "Requirement already satisfied: cachetools<3.2,>=2.0.0 in /usr/local/lib/python3.6/dist-packages (from google-auth<2,>=1.6.3->tensorboard<2.1.0,>=2.0.0->tensorflow-gpu==2.0.0) (3.1.1)\n",
            "Requirement already satisfied: pyasn1-modules>=0.2.1 in /usr/local/lib/python3.6/dist-packages (from google-auth<2,>=1.6.3->tensorboard<2.1.0,>=2.0.0->tensorflow-gpu==2.0.0) (0.2.8)\n",
            "Requirement already satisfied: requests-oauthlib>=0.7.0 in /usr/local/lib/python3.6/dist-packages (from google-auth-oauthlib<0.5,>=0.4.1->tensorboard<2.1.0,>=2.0.0->tensorflow-gpu==2.0.0) (1.3.0)\n",
            "Requirement already satisfied: pyasn1>=0.1.3 in /usr/local/lib/python3.6/dist-packages (from rsa<4.1,>=3.1.4->google-auth<2,>=1.6.3->tensorboard<2.1.0,>=2.0.0->tensorflow-gpu==2.0.0) (0.4.8)\n",
            "Requirement already satisfied: oauthlib>=3.0.0 in /usr/local/lib/python3.6/dist-packages (from requests-oauthlib>=0.7.0->google-auth-oauthlib<0.5,>=0.4.1->tensorboard<2.1.0,>=2.0.0->tensorflow-gpu==2.0.0) (3.1.0)\n"
          ],
          "name": "stdout"
        }
      ]
    },
    {
      "cell_type": "code",
      "metadata": {
        "id": "ljQmMhBrcVSf",
        "colab_type": "code",
        "outputId": "32e7971b-e176-4506-cfb8-e89563d644a4",
        "colab": {
          "base_uri": "https://localhost:8080/",
          "height": 52
        }
      },
      "source": [
        "from __future__ import absolute_import, division, print_function, unicode_literals, unicode_literals\n",
        "\n",
        "import pathlib\n",
        "\n",
        "import matplotlib.pyplot as plt\n",
        "import pandas as pd\n",
        "import numpy as np\n",
        "import seaborn as sns\n",
        "\n",
        "import tensorflow as tf\n",
        "from tensorflow import keras\n",
        "from tensorflow.keras import layers\n",
        "\n",
        "print(tf.__version__)\n",
        "print(tf.test.is_gpu_available())"
      ],
      "execution_count": 2,
      "outputs": [
        {
          "output_type": "stream",
          "text": [
            "2.0.0\n",
            "True\n"
          ],
          "name": "stdout"
        }
      ]
    },
    {
      "cell_type": "code",
      "metadata": {
        "id": "exAR2Zb7J1l-",
        "colab_type": "code",
        "colab": {}
      },
      "source": [
        "tf.debugging.set_log_device_placement(True)"
      ],
      "execution_count": 0,
      "outputs": []
    },
    {
      "cell_type": "code",
      "metadata": {
        "id": "o3fuLjIcb9cN",
        "colab_type": "code",
        "colab": {}
      },
      "source": [
        "tf.random.set_seed(1234)\n"
      ],
      "execution_count": 0,
      "outputs": []
    },
    {
      "cell_type": "markdown",
      "metadata": {
        "id": "GnzbKvgWkMry",
        "colab_type": "text"
      },
      "source": [
        "# 0 한글 폰트"
      ]
    },
    {
      "cell_type": "code",
      "metadata": {
        "id": "C6K3dLGCcJly",
        "colab_type": "code",
        "outputId": "d3b70671-7d34-4533-a61a-15fde7c0c94a",
        "colab": {
          "base_uri": "https://localhost:8080/",
          "height": 416
        }
      },
      "source": [
        "!wget \"https://noto-website-2.storage.googleapis.com/pkgs/NotoSansCJKkr-hinted.zip\"\n",
        "!unzip \"NotoSansCJKkr-hinted.zip\""
      ],
      "execution_count": 5,
      "outputs": [
        {
          "output_type": "stream",
          "text": [
            "--2020-03-11 07:47:11--  https://noto-website-2.storage.googleapis.com/pkgs/NotoSansCJKkr-hinted.zip\n",
            "Resolving noto-website-2.storage.googleapis.com (noto-website-2.storage.googleapis.com)... 108.177.127.128, 2a00:1450:4013:c07::80\n",
            "Connecting to noto-website-2.storage.googleapis.com (noto-website-2.storage.googleapis.com)|108.177.127.128|:443... connected.\n",
            "HTTP request sent, awaiting response... 200 OK\n",
            "Length: 121163981 (116M) [application/zip]\n",
            "Saving to: ‘NotoSansCJKkr-hinted.zip’\n",
            "\n",
            "NotoSansCJKkr-hinte 100%[===================>] 115.55M  43.4MB/s    in 2.7s    \n",
            "\n",
            "2020-03-11 07:47:14 (43.4 MB/s) - ‘NotoSansCJKkr-hinted.zip’ saved [121163981/121163981]\n",
            "\n",
            "Archive:  NotoSansCJKkr-hinted.zip\n",
            "  inflating: LICENSE_OFL.txt         \n",
            "  inflating: NotoSansCJKkr-Black.otf  \n",
            "  inflating: NotoSansCJKkr-Bold.otf  \n",
            "  inflating: NotoSansCJKkr-DemiLight.otf  \n",
            "  inflating: NotoSansCJKkr-Light.otf  \n",
            "  inflating: NotoSansCJKkr-Medium.otf  \n",
            "  inflating: NotoSansCJKkr-Regular.otf  \n",
            "  inflating: NotoSansCJKkr-Thin.otf  \n",
            "  inflating: NotoSansMonoCJKkr-Bold.otf  \n",
            "  inflating: NotoSansMonoCJKkr-Regular.otf  \n",
            "  inflating: README                  \n"
          ],
          "name": "stdout"
        }
      ]
    },
    {
      "cell_type": "code",
      "metadata": {
        "id": "fzQ6HS3Ne5dn",
        "colab_type": "code",
        "colab": {}
      },
      "source": [
        "!mv NotoSansCJKkr-Medium.otf /usr/share/fonts/truetype/"
      ],
      "execution_count": 0,
      "outputs": []
    },
    {
      "cell_type": "code",
      "metadata": {
        "id": "0YfjC4ZHe62p",
        "colab_type": "code",
        "colab": {}
      },
      "source": [
        "import matplotlib.pyplot as plt\n",
        "import matplotlib.font_manager as fm\n",
        "\n",
        "font_dirs = ['/usr/share/fonts/truetype']\n",
        "font_files = fm.findSystemFonts(fontpaths=font_dirs)\n",
        "font_list = fm.createFontList(font_files)\n",
        "fm.fontManager.ttflist.extend(font_list)\n",
        "plt.rcParams['font.family'] = \"Noto Sans CJK KR\""
      ],
      "execution_count": 0,
      "outputs": []
    },
    {
      "cell_type": "markdown",
      "metadata": {
        "id": "wM7X5C35N-4n",
        "colab_type": "text"
      },
      "source": [
        "# 1. 데이터 읽기 "
      ]
    },
    {
      "cell_type": "markdown",
      "metadata": {
        "id": "1CatWTjLPg_Q",
        "colab_type": "text"
      },
      "source": [
        "Contents of the Notebook:\n",
        "Part1: Exploratory Data Analysis(EDA):\n",
        "\n",
        "1)Analysis of the features.\n",
        "\n",
        "2)Finding any relations or trends considering multiple features.\n",
        "Part2: Feature Engineering and Data Cleaning:\n",
        "\n",
        "1)Adding any few features.\n",
        "\n",
        "2)Removing redundant features.\n",
        "\n",
        "3)Converting features into suitable form for modeling.\n",
        "Part3: Predictive Modeling\n",
        "\n",
        "1)Running Basic Algorithms.\n",
        "\n",
        "2)Cross Validation.\n",
        "\n",
        "3)Ensembling.\n",
        "\n",
        "4)Important Features Extraction"
      ]
    },
    {
      "cell_type": "markdown",
      "metadata": {
        "id": "PSHLZvJmcPRs",
        "colab_type": "text"
      },
      "source": [
        "# 1. 데이터 불러오기"
      ]
    },
    {
      "cell_type": "code",
      "metadata": {
        "id": "4UP_N36kWbEw",
        "colab_type": "code",
        "outputId": "6dff55f7-9010-40df-e7de-7ae427e5038b",
        "colab": {
          "base_uri": "https://localhost:8080/",
          "height": 124
        }
      },
      "source": [
        "from google.colab import drive\n",
        "drive.mount('/content/drive')"
      ],
      "execution_count": 8,
      "outputs": [
        {
          "output_type": "stream",
          "text": [
            "Go to this URL in a browser: https://accounts.google.com/o/oauth2/auth?client_id=947318989803-6bn6qk8qdgf4n4g3pfee6491hc0brc4i.apps.googleusercontent.com&redirect_uri=urn%3aietf%3awg%3aoauth%3a2.0%3aoob&response_type=code&scope=email%20https%3a%2f%2fwww.googleapis.com%2fauth%2fdocs.test%20https%3a%2f%2fwww.googleapis.com%2fauth%2fdrive%20https%3a%2f%2fwww.googleapis.com%2fauth%2fdrive.photos.readonly%20https%3a%2f%2fwww.googleapis.com%2fauth%2fpeopleapi.readonly\n",
            "\n",
            "Enter your authorization code:\n",
            "··········\n",
            "Mounted at /content/drive\n"
          ],
          "name": "stdout"
        }
      ]
    },
    {
      "cell_type": "code",
      "metadata": {
        "id": "p83KetSckP5E",
        "colab_type": "code",
        "outputId": "3ff5a303-2cea-4f68-8f3e-e3ff200f260e",
        "colab": {
          "base_uri": "https://localhost:8080/",
          "height": 34
        }
      },
      "source": [
        "import os\n",
        "from pathlib import Path\n",
        "\n",
        "folder = \"Colab Notebooks/dacon\"\n",
        "project_dir = \"temperature_forecasting\"\n",
        "\n",
        "base_path = Path(\"/content/drive/My Drive/\")\n",
        "project_path = base_path / folder / project_dir\n",
        "os.chdir(project_path)\n",
        "# for x in list(project_path.glob(\"*\")):\n",
        "#     if x.is_dir():\n",
        "#         dir_name = str(x.relative_to(project_path))\n",
        "#         os.rename(dir_name, dir_name.split(\" \", 1)[0])\n",
        "print(f\"현재 디렉토리 위치: {os.getcwd()}\")"
      ],
      "execution_count": 9,
      "outputs": [
        {
          "output_type": "stream",
          "text": [
            "현재 디렉토리 위치: /content/drive/My Drive/Colab Notebooks/dacon/temperature_forecasting\n"
          ],
          "name": "stdout"
        }
      ]
    },
    {
      "cell_type": "code",
      "metadata": {
        "id": "0Q_lQowbbf9h",
        "colab_type": "code",
        "outputId": "d90b6f1c-adc9-42b0-d543-cabd09f7a384",
        "colab": {
          "base_uri": "https://localhost:8080/",
          "height": 34
        }
      },
      "source": [
        "df = pd.read_csv('./data/'+'train.csv')\n",
        "df.shape"
      ],
      "execution_count": 10,
      "outputs": [
        {
          "output_type": "execute_result",
          "data": {
            "text/plain": [
              "(4752, 60)"
            ]
          },
          "metadata": {
            "tags": []
          },
          "execution_count": 10
        }
      ]
    },
    {
      "cell_type": "markdown",
      "metadata": {
        "id": "Bo_lvrxI_-yr",
        "colab_type": "text"
      },
      "source": [
        "* 4320개(30일)\n",
        "* 432개(3일) "
      ]
    },
    {
      "cell_type": "markdown",
      "metadata": {
        "id": "9k4dS_DVAL7j",
        "colab_type": "text"
      },
      "source": [
        "|-|30일(train)|3일(train)|80일(test)|\n",
        "|---|---|---|---|\n",
        "|Y18|NULL|432개|NULL|\n",
        "|Y00-Y17|4320개|NULL|NULL|\n",
        "|X00-X17|4320개|432개|11520개|"
      ]
    },
    {
      "cell_type": "code",
      "metadata": {
        "id": "sBmyVGEc_wo5",
        "colab_type": "code",
        "colab": {}
      },
      "source": [
        "n = 4320"
      ],
      "execution_count": 0,
      "outputs": []
    },
    {
      "cell_type": "code",
      "metadata": {
        "id": "Ia34EAsemRiU",
        "colab_type": "code",
        "outputId": "c593f2ed-28dc-4e20-8955-73361eb8a218",
        "colab": {
          "base_uri": "https://localhost:8080/",
          "height": 34
        }
      },
      "source": [
        "df_test = pd.read_csv('./data/test.csv')\n",
        "df_test.shape"
      ],
      "execution_count": 12,
      "outputs": [
        {
          "output_type": "execute_result",
          "data": {
            "text/plain": [
              "(11520, 41)"
            ]
          },
          "metadata": {
            "tags": []
          },
          "execution_count": 12
        }
      ]
    },
    {
      "cell_type": "markdown",
      "metadata": {
        "id": "BoVcePUUenSg",
        "colab_type": "text"
      },
      "source": [
        "## x"
      ]
    },
    {
      "cell_type": "markdown",
      "metadata": {
        "id": "HK-xZpb6eroq",
        "colab_type": "text"
      },
      "source": [
        "* feat_temp: 기온 \n",
        "* feat_air_press: 현지기압\n",
        "* feat_wind_speed: 풍속\n",
        "* feat_rainfall: 일일 누적강수량 \n",
        "* feat_sea_press: 해면기압\n",
        "* feat_insol: 일일 누적일사량\n",
        "* feat_humid: 습도\n",
        "* feat_dir_wind: 풍향\n",
        "\n"
      ]
    },
    {
      "cell_type": "code",
      "metadata": {
        "id": "JEdugNkuQEHm",
        "colab_type": "code",
        "colab": {}
      },
      "source": [
        "#feat_x = [feat_temp, feat_air_press, feat_wind_speed, feat_rainfall, feat_sea_press, feat_insol, feat_humid, feat_dir_wind]\n",
        "feat_x = ['X00', 'X01', 'X02', 'X03', 'X04', 'X05', 'X06', 'X07', 'X08', 'X09', \n",
        "          'X10', 'X11', 'X12', 'X13', 'X14', 'X15', 'X16', 'X17', 'X18', 'X19', \n",
        "          'X20', 'X21', 'X22', 'X23', 'X24', 'X25', 'X26', 'X27', 'X28', 'X29', \n",
        "          'X30', 'X31', 'X32', 'X33', 'X34', 'X35', 'X36', 'X37', 'X38', 'X39']\n",
        "feat_temp = ['X00', 'X07', 'X28', 'X31', 'X32']\n",
        "feat_air_press = ['X01', 'X06', 'X22', 'X27', 'X29']\n",
        "feat_wind_speed = ['X02', 'X03', 'X18', 'X24', 'X26']\n",
        "feat_rainfall = ['X04', 'X10', 'X21', 'X36', 'X39']\n",
        "feat_sea_press = ['X05', 'X08', 'X09', 'X23', 'X33']\n",
        "feat_insol = ['X11', 'X14', 'X16', 'X19', 'X34']\n",
        "feat_humid = ['X12', 'X20', 'X30', 'X37', 'X38']\n",
        "feat_dir_wind = ['X13', 'X15', 'X17', 'X25', 'X35']"
      ],
      "execution_count": 0,
      "outputs": []
    },
    {
      "cell_type": "code",
      "metadata": {
        "id": "lvYlhcYLQELJ",
        "colab_type": "code",
        "outputId": "4f550ac8-79a1-4e54-edd9-d22864b07b99",
        "colab": {
          "base_uri": "https://localhost:8080/",
          "height": 163
        }
      },
      "source": [
        "df[feat_x].head(3)"
      ],
      "execution_count": 14,
      "outputs": [
        {
          "output_type": "execute_result",
          "data": {
            "text/html": [
              "<div>\n",
              "<style scoped>\n",
              "    .dataframe tbody tr th:only-of-type {\n",
              "        vertical-align: middle;\n",
              "    }\n",
              "\n",
              "    .dataframe tbody tr th {\n",
              "        vertical-align: top;\n",
              "    }\n",
              "\n",
              "    .dataframe thead th {\n",
              "        text-align: right;\n",
              "    }\n",
              "</style>\n",
              "<table border=\"1\" class=\"dataframe\">\n",
              "  <thead>\n",
              "    <tr style=\"text-align: right;\">\n",
              "      <th></th>\n",
              "      <th>X00</th>\n",
              "      <th>X01</th>\n",
              "      <th>X02</th>\n",
              "      <th>X03</th>\n",
              "      <th>X04</th>\n",
              "      <th>X05</th>\n",
              "      <th>X06</th>\n",
              "      <th>X07</th>\n",
              "      <th>X08</th>\n",
              "      <th>X09</th>\n",
              "      <th>X10</th>\n",
              "      <th>X11</th>\n",
              "      <th>X12</th>\n",
              "      <th>X13</th>\n",
              "      <th>X14</th>\n",
              "      <th>X15</th>\n",
              "      <th>X16</th>\n",
              "      <th>X17</th>\n",
              "      <th>X18</th>\n",
              "      <th>X19</th>\n",
              "      <th>X20</th>\n",
              "      <th>X21</th>\n",
              "      <th>X22</th>\n",
              "      <th>X23</th>\n",
              "      <th>X24</th>\n",
              "      <th>X25</th>\n",
              "      <th>X26</th>\n",
              "      <th>X27</th>\n",
              "      <th>X28</th>\n",
              "      <th>X29</th>\n",
              "      <th>X30</th>\n",
              "      <th>X31</th>\n",
              "      <th>X32</th>\n",
              "      <th>X33</th>\n",
              "      <th>X34</th>\n",
              "      <th>X35</th>\n",
              "      <th>X36</th>\n",
              "      <th>X37</th>\n",
              "      <th>X38</th>\n",
              "      <th>X39</th>\n",
              "    </tr>\n",
              "  </thead>\n",
              "  <tbody>\n",
              "    <tr>\n",
              "      <th>0</th>\n",
              "      <td>9.7</td>\n",
              "      <td>988.8</td>\n",
              "      <td>1.2</td>\n",
              "      <td>0.6</td>\n",
              "      <td>0.0</td>\n",
              "      <td>1009.3</td>\n",
              "      <td>989.6</td>\n",
              "      <td>12.2</td>\n",
              "      <td>1009.9</td>\n",
              "      <td>1009.8</td>\n",
              "      <td>0.0</td>\n",
              "      <td>0.0</td>\n",
              "      <td>82.4</td>\n",
              "      <td>71.3</td>\n",
              "      <td>0.0</td>\n",
              "      <td>101.1</td>\n",
              "      <td>0.0</td>\n",
              "      <td>56.1</td>\n",
              "      <td>0.3</td>\n",
              "      <td>0.0</td>\n",
              "      <td>91.0</td>\n",
              "      <td>0.0</td>\n",
              "      <td>1002.5</td>\n",
              "      <td>1009.8</td>\n",
              "      <td>1.1</td>\n",
              "      <td>2.3</td>\n",
              "      <td>0.5</td>\n",
              "      <td>1008.7</td>\n",
              "      <td>12.3</td>\n",
              "      <td>1001.6</td>\n",
              "      <td>69.1</td>\n",
              "      <td>8.2</td>\n",
              "      <td>10.7</td>\n",
              "      <td>1010.1</td>\n",
              "      <td>0.0</td>\n",
              "      <td>256.4</td>\n",
              "      <td>0.0</td>\n",
              "      <td>77.2</td>\n",
              "      <td>62.6</td>\n",
              "      <td>0.0</td>\n",
              "    </tr>\n",
              "    <tr>\n",
              "      <th>1</th>\n",
              "      <td>9.3</td>\n",
              "      <td>988.9</td>\n",
              "      <td>1.7</td>\n",
              "      <td>1.9</td>\n",
              "      <td>0.0</td>\n",
              "      <td>1009.3</td>\n",
              "      <td>989.6</td>\n",
              "      <td>12.1</td>\n",
              "      <td>1010.0</td>\n",
              "      <td>1009.9</td>\n",
              "      <td>0.0</td>\n",
              "      <td>0.0</td>\n",
              "      <td>81.2</td>\n",
              "      <td>121.8</td>\n",
              "      <td>0.0</td>\n",
              "      <td>165.3</td>\n",
              "      <td>0.0</td>\n",
              "      <td>0.0</td>\n",
              "      <td>0.4</td>\n",
              "      <td>0.0</td>\n",
              "      <td>91.9</td>\n",
              "      <td>0.0</td>\n",
              "      <td>1002.5</td>\n",
              "      <td>1009.9</td>\n",
              "      <td>0.0</td>\n",
              "      <td>0.0</td>\n",
              "      <td>0.0</td>\n",
              "      <td>1008.7</td>\n",
              "      <td>12.1</td>\n",
              "      <td>1001.7</td>\n",
              "      <td>70.3</td>\n",
              "      <td>8.3</td>\n",
              "      <td>10.3</td>\n",
              "      <td>1010.1</td>\n",
              "      <td>0.0</td>\n",
              "      <td>215.4</td>\n",
              "      <td>0.0</td>\n",
              "      <td>77.3</td>\n",
              "      <td>63.5</td>\n",
              "      <td>0.0</td>\n",
              "    </tr>\n",
              "    <tr>\n",
              "      <th>2</th>\n",
              "      <td>9.4</td>\n",
              "      <td>989.0</td>\n",
              "      <td>1.1</td>\n",
              "      <td>2.3</td>\n",
              "      <td>0.0</td>\n",
              "      <td>1009.2</td>\n",
              "      <td>989.7</td>\n",
              "      <td>12.1</td>\n",
              "      <td>1010.1</td>\n",
              "      <td>1010.1</td>\n",
              "      <td>0.0</td>\n",
              "      <td>0.0</td>\n",
              "      <td>86.1</td>\n",
              "      <td>232.0</td>\n",
              "      <td>0.0</td>\n",
              "      <td>144.0</td>\n",
              "      <td>0.0</td>\n",
              "      <td>0.0</td>\n",
              "      <td>0.6</td>\n",
              "      <td>0.0</td>\n",
              "      <td>93.3</td>\n",
              "      <td>0.0</td>\n",
              "      <td>1002.4</td>\n",
              "      <td>1009.8</td>\n",
              "      <td>0.0</td>\n",
              "      <td>0.0</td>\n",
              "      <td>0.0</td>\n",
              "      <td>1008.6</td>\n",
              "      <td>12.1</td>\n",
              "      <td>1001.6</td>\n",
              "      <td>71.5</td>\n",
              "      <td>8.0</td>\n",
              "      <td>9.7</td>\n",
              "      <td>1010.0</td>\n",
              "      <td>0.0</td>\n",
              "      <td>235.2</td>\n",
              "      <td>0.0</td>\n",
              "      <td>77.3</td>\n",
              "      <td>63.9</td>\n",
              "      <td>0.0</td>\n",
              "    </tr>\n",
              "  </tbody>\n",
              "</table>\n",
              "</div>"
            ],
            "text/plain": [
              "   X00    X01  X02  X03  X04     X05  ...  X34    X35  X36   X37   X38  X39\n",
              "0  9.7  988.8  1.2  0.6  0.0  1009.3  ...  0.0  256.4  0.0  77.2  62.6  0.0\n",
              "1  9.3  988.9  1.7  1.9  0.0  1009.3  ...  0.0  215.4  0.0  77.3  63.5  0.0\n",
              "2  9.4  989.0  1.1  2.3  0.0  1009.2  ...  0.0  235.2  0.0  77.3  63.9  0.0\n",
              "\n",
              "[3 rows x 40 columns]"
            ]
          },
          "metadata": {
            "tags": []
          },
          "execution_count": 14
        }
      ]
    },
    {
      "cell_type": "code",
      "metadata": {
        "id": "CQgIo_-fYIs-",
        "colab_type": "code",
        "outputId": "228ed536-1a49-4404-9013-e8faf2b02339",
        "colab": {
          "base_uri": "https://localhost:8080/",
          "height": 163
        }
      },
      "source": [
        "df[feat_x].tail(3)"
      ],
      "execution_count": 15,
      "outputs": [
        {
          "output_type": "execute_result",
          "data": {
            "text/html": [
              "<div>\n",
              "<style scoped>\n",
              "    .dataframe tbody tr th:only-of-type {\n",
              "        vertical-align: middle;\n",
              "    }\n",
              "\n",
              "    .dataframe tbody tr th {\n",
              "        vertical-align: top;\n",
              "    }\n",
              "\n",
              "    .dataframe thead th {\n",
              "        text-align: right;\n",
              "    }\n",
              "</style>\n",
              "<table border=\"1\" class=\"dataframe\">\n",
              "  <thead>\n",
              "    <tr style=\"text-align: right;\">\n",
              "      <th></th>\n",
              "      <th>X00</th>\n",
              "      <th>X01</th>\n",
              "      <th>X02</th>\n",
              "      <th>X03</th>\n",
              "      <th>X04</th>\n",
              "      <th>X05</th>\n",
              "      <th>X06</th>\n",
              "      <th>X07</th>\n",
              "      <th>X08</th>\n",
              "      <th>X09</th>\n",
              "      <th>X10</th>\n",
              "      <th>X11</th>\n",
              "      <th>X12</th>\n",
              "      <th>X13</th>\n",
              "      <th>X14</th>\n",
              "      <th>X15</th>\n",
              "      <th>X16</th>\n",
              "      <th>X17</th>\n",
              "      <th>X18</th>\n",
              "      <th>X19</th>\n",
              "      <th>X20</th>\n",
              "      <th>X21</th>\n",
              "      <th>X22</th>\n",
              "      <th>X23</th>\n",
              "      <th>X24</th>\n",
              "      <th>X25</th>\n",
              "      <th>X26</th>\n",
              "      <th>X27</th>\n",
              "      <th>X28</th>\n",
              "      <th>X29</th>\n",
              "      <th>X30</th>\n",
              "      <th>X31</th>\n",
              "      <th>X32</th>\n",
              "      <th>X33</th>\n",
              "      <th>X34</th>\n",
              "      <th>X35</th>\n",
              "      <th>X36</th>\n",
              "      <th>X37</th>\n",
              "      <th>X38</th>\n",
              "      <th>X39</th>\n",
              "    </tr>\n",
              "  </thead>\n",
              "  <tbody>\n",
              "    <tr>\n",
              "      <th>4749</th>\n",
              "      <td>19.7</td>\n",
              "      <td>987.7</td>\n",
              "      <td>0.9</td>\n",
              "      <td>0.6</td>\n",
              "      <td>0.0</td>\n",
              "      <td>1006.9</td>\n",
              "      <td>987.6</td>\n",
              "      <td>21.4</td>\n",
              "      <td>1007.4</td>\n",
              "      <td>1007.5</td>\n",
              "      <td>2.5</td>\n",
              "      <td>23.88</td>\n",
              "      <td>95.9</td>\n",
              "      <td>127.8</td>\n",
              "      <td>0.0</td>\n",
              "      <td>256.1</td>\n",
              "      <td>0.0</td>\n",
              "      <td>299.1</td>\n",
              "      <td>0.6</td>\n",
              "      <td>0.0</td>\n",
              "      <td>90.8</td>\n",
              "      <td>10.5</td>\n",
              "      <td>1000.4</td>\n",
              "      <td>1007.6</td>\n",
              "      <td>0.0</td>\n",
              "      <td>0.0</td>\n",
              "      <td>0.2</td>\n",
              "      <td>1006.0</td>\n",
              "      <td>23.6</td>\n",
              "      <td>999.5</td>\n",
              "      <td>90.2</td>\n",
              "      <td>17.8</td>\n",
              "      <td>19.2</td>\n",
              "      <td>1007.5</td>\n",
              "      <td>22.16</td>\n",
              "      <td>254.2</td>\n",
              "      <td>0.0</td>\n",
              "      <td>83.0</td>\n",
              "      <td>58.9</td>\n",
              "      <td>0.5</td>\n",
              "    </tr>\n",
              "    <tr>\n",
              "      <th>4750</th>\n",
              "      <td>19.4</td>\n",
              "      <td>987.7</td>\n",
              "      <td>0.9</td>\n",
              "      <td>0.8</td>\n",
              "      <td>0.0</td>\n",
              "      <td>1006.9</td>\n",
              "      <td>987.8</td>\n",
              "      <td>21.3</td>\n",
              "      <td>1007.6</td>\n",
              "      <td>1007.5</td>\n",
              "      <td>2.5</td>\n",
              "      <td>23.88</td>\n",
              "      <td>95.9</td>\n",
              "      <td>323.8</td>\n",
              "      <td>0.0</td>\n",
              "      <td>255.1</td>\n",
              "      <td>0.0</td>\n",
              "      <td>0.0</td>\n",
              "      <td>0.6</td>\n",
              "      <td>0.0</td>\n",
              "      <td>91.5</td>\n",
              "      <td>10.5</td>\n",
              "      <td>1000.4</td>\n",
              "      <td>1007.6</td>\n",
              "      <td>0.0</td>\n",
              "      <td>0.0</td>\n",
              "      <td>0.1</td>\n",
              "      <td>1006.0</td>\n",
              "      <td>23.3</td>\n",
              "      <td>999.5</td>\n",
              "      <td>90.1</td>\n",
              "      <td>17.7</td>\n",
              "      <td>19.3</td>\n",
              "      <td>1007.6</td>\n",
              "      <td>22.16</td>\n",
              "      <td>300.0</td>\n",
              "      <td>0.0</td>\n",
              "      <td>83.2</td>\n",
              "      <td>59.8</td>\n",
              "      <td>0.5</td>\n",
              "    </tr>\n",
              "    <tr>\n",
              "      <th>4751</th>\n",
              "      <td>19.1</td>\n",
              "      <td>987.6</td>\n",
              "      <td>1.0</td>\n",
              "      <td>0.3</td>\n",
              "      <td>0.0</td>\n",
              "      <td>1006.8</td>\n",
              "      <td>987.8</td>\n",
              "      <td>21.2</td>\n",
              "      <td>1007.5</td>\n",
              "      <td>1007.4</td>\n",
              "      <td>2.5</td>\n",
              "      <td>23.88</td>\n",
              "      <td>96.2</td>\n",
              "      <td>0.0</td>\n",
              "      <td>0.0</td>\n",
              "      <td>237.2</td>\n",
              "      <td>0.0</td>\n",
              "      <td>17.7</td>\n",
              "      <td>0.0</td>\n",
              "      <td>0.0</td>\n",
              "      <td>93.0</td>\n",
              "      <td>10.5</td>\n",
              "      <td>1000.3</td>\n",
              "      <td>1007.6</td>\n",
              "      <td>0.0</td>\n",
              "      <td>0.0</td>\n",
              "      <td>0.1</td>\n",
              "      <td>1006.1</td>\n",
              "      <td>23.2</td>\n",
              "      <td>999.5</td>\n",
              "      <td>89.6</td>\n",
              "      <td>17.7</td>\n",
              "      <td>19.5</td>\n",
              "      <td>1007.7</td>\n",
              "      <td>22.16</td>\n",
              "      <td>157.5</td>\n",
              "      <td>0.0</td>\n",
              "      <td>84.0</td>\n",
              "      <td>59.5</td>\n",
              "      <td>0.5</td>\n",
              "    </tr>\n",
              "  </tbody>\n",
              "</table>\n",
              "</div>"
            ],
            "text/plain": [
              "       X00    X01  X02  X03  X04     X05  ...    X34    X35  X36   X37   X38  X39\n",
              "4749  19.7  987.7  0.9  0.6  0.0  1006.9  ...  22.16  254.2  0.0  83.0  58.9  0.5\n",
              "4750  19.4  987.7  0.9  0.8  0.0  1006.9  ...  22.16  300.0  0.0  83.2  59.8  0.5\n",
              "4751  19.1  987.6  1.0  0.3  0.0  1006.8  ...  22.16  157.5  0.0  84.0  59.5  0.5\n",
              "\n",
              "[3 rows x 40 columns]"
            ]
          },
          "metadata": {
            "tags": []
          },
          "execution_count": 15
        }
      ]
    },
    {
      "cell_type": "code",
      "metadata": {
        "id": "vDk3ymIEmRlX",
        "colab_type": "code",
        "outputId": "ee735ae4-ad0a-41fe-d9bf-1d833cb95a45",
        "colab": {
          "base_uri": "https://localhost:8080/",
          "height": 320
        }
      },
      "source": [
        "df_test.describe()"
      ],
      "execution_count": 113,
      "outputs": [
        {
          "output_type": "execute_result",
          "data": {
            "text/html": [
              "<div>\n",
              "<style scoped>\n",
              "    .dataframe tbody tr th:only-of-type {\n",
              "        vertical-align: middle;\n",
              "    }\n",
              "\n",
              "    .dataframe tbody tr th {\n",
              "        vertical-align: top;\n",
              "    }\n",
              "\n",
              "    .dataframe thead th {\n",
              "        text-align: right;\n",
              "    }\n",
              "</style>\n",
              "<table border=\"1\" class=\"dataframe\">\n",
              "  <thead>\n",
              "    <tr style=\"text-align: right;\">\n",
              "      <th></th>\n",
              "      <th>id</th>\n",
              "      <th>X00</th>\n",
              "      <th>X01</th>\n",
              "      <th>X02</th>\n",
              "      <th>X03</th>\n",
              "      <th>X04</th>\n",
              "      <th>X05</th>\n",
              "      <th>X06</th>\n",
              "      <th>X07</th>\n",
              "      <th>X08</th>\n",
              "      <th>X09</th>\n",
              "      <th>X10</th>\n",
              "      <th>X11</th>\n",
              "      <th>X12</th>\n",
              "      <th>X13</th>\n",
              "      <th>X14</th>\n",
              "      <th>X15</th>\n",
              "      <th>X16</th>\n",
              "      <th>X17</th>\n",
              "      <th>X18</th>\n",
              "      <th>X19</th>\n",
              "      <th>X20</th>\n",
              "      <th>X21</th>\n",
              "      <th>X22</th>\n",
              "      <th>X23</th>\n",
              "      <th>X24</th>\n",
              "      <th>X25</th>\n",
              "      <th>X26</th>\n",
              "      <th>X27</th>\n",
              "      <th>X28</th>\n",
              "      <th>X29</th>\n",
              "      <th>X30</th>\n",
              "      <th>X31</th>\n",
              "      <th>X32</th>\n",
              "      <th>X33</th>\n",
              "      <th>X34</th>\n",
              "      <th>X35</th>\n",
              "      <th>X36</th>\n",
              "      <th>X37</th>\n",
              "      <th>X38</th>\n",
              "      <th>X39</th>\n",
              "    </tr>\n",
              "  </thead>\n",
              "  <tbody>\n",
              "    <tr>\n",
              "      <th>count</th>\n",
              "      <td>11520.000000</td>\n",
              "      <td>11520.000000</td>\n",
              "      <td>11520.000000</td>\n",
              "      <td>11520.000000</td>\n",
              "      <td>11520.000000</td>\n",
              "      <td>11520.000000</td>\n",
              "      <td>11520.000000</td>\n",
              "      <td>11520.000000</td>\n",
              "      <td>11520.000000</td>\n",
              "      <td>11520.000000</td>\n",
              "      <td>11520.000000</td>\n",
              "      <td>11520.000000</td>\n",
              "      <td>11520.000000</td>\n",
              "      <td>11520.000000</td>\n",
              "      <td>11520.000000</td>\n",
              "      <td>11520.0</td>\n",
              "      <td>11520.000000</td>\n",
              "      <td>11520.0</td>\n",
              "      <td>11520.000000</td>\n",
              "      <td>11520.000000</td>\n",
              "      <td>11520.0</td>\n",
              "      <td>11520.000000</td>\n",
              "      <td>11520.000000</td>\n",
              "      <td>11520.000000</td>\n",
              "      <td>11520.000000</td>\n",
              "      <td>11520.000000</td>\n",
              "      <td>11520.000000</td>\n",
              "      <td>11520.000000</td>\n",
              "      <td>11520.000000</td>\n",
              "      <td>11520.000000</td>\n",
              "      <td>11520.000000</td>\n",
              "      <td>11520.000000</td>\n",
              "      <td>11520.000000</td>\n",
              "      <td>11520.000000</td>\n",
              "      <td>11520.000000</td>\n",
              "      <td>11520.000000</td>\n",
              "      <td>11520.000000</td>\n",
              "      <td>11520.000000</td>\n",
              "      <td>11520.000000</td>\n",
              "      <td>11520.000000</td>\n",
              "      <td>11520.000000</td>\n",
              "    </tr>\n",
              "    <tr>\n",
              "      <th>mean</th>\n",
              "      <td>10511.500000</td>\n",
              "      <td>25.145625</td>\n",
              "      <td>987.616693</td>\n",
              "      <td>1.401033</td>\n",
              "      <td>1.479436</td>\n",
              "      <td>2.396016</td>\n",
              "      <td>1006.869314</td>\n",
              "      <td>987.839045</td>\n",
              "      <td>26.032352</td>\n",
              "      <td>1007.321424</td>\n",
              "      <td>1006.938741</td>\n",
              "      <td>2.709115</td>\n",
              "      <td>8.311291</td>\n",
              "      <td>79.575564</td>\n",
              "      <td>114.648646</td>\n",
              "      <td>0.0</td>\n",
              "      <td>125.218993</td>\n",
              "      <td>0.0</td>\n",
              "      <td>136.219931</td>\n",
              "      <td>1.354696</td>\n",
              "      <td>0.0</td>\n",
              "      <td>80.689931</td>\n",
              "      <td>2.847092</td>\n",
              "      <td>1000.417891</td>\n",
              "      <td>1007.368984</td>\n",
              "      <td>1.137622</td>\n",
              "      <td>147.054679</td>\n",
              "      <td>1.349800</td>\n",
              "      <td>1005.802595</td>\n",
              "      <td>26.468750</td>\n",
              "      <td>999.435260</td>\n",
              "      <td>76.208698</td>\n",
              "      <td>24.544392</td>\n",
              "      <td>24.519905</td>\n",
              "      <td>1007.319826</td>\n",
              "      <td>8.480451</td>\n",
              "      <td>172.389991</td>\n",
              "      <td>2.266267</td>\n",
              "      <td>79.336875</td>\n",
              "      <td>71.271146</td>\n",
              "      <td>2.332856</td>\n",
              "    </tr>\n",
              "    <tr>\n",
              "      <th>std</th>\n",
              "      <td>3325.681885</td>\n",
              "      <td>3.824374</td>\n",
              "      <td>4.624002</td>\n",
              "      <td>1.376209</td>\n",
              "      <td>1.087042</td>\n",
              "      <td>6.382526</td>\n",
              "      <td>4.757237</td>\n",
              "      <td>4.637961</td>\n",
              "      <td>3.513596</td>\n",
              "      <td>4.788943</td>\n",
              "      <td>4.777357</td>\n",
              "      <td>8.494738</td>\n",
              "      <td>8.678047</td>\n",
              "      <td>16.028721</td>\n",
              "      <td>105.976126</td>\n",
              "      <td>0.0</td>\n",
              "      <td>107.245099</td>\n",
              "      <td>0.0</td>\n",
              "      <td>109.632121</td>\n",
              "      <td>1.251191</td>\n",
              "      <td>0.0</td>\n",
              "      <td>17.504181</td>\n",
              "      <td>8.507719</td>\n",
              "      <td>4.712652</td>\n",
              "      <td>4.743564</td>\n",
              "      <td>1.060000</td>\n",
              "      <td>109.343527</td>\n",
              "      <td>1.277034</td>\n",
              "      <td>4.765731</td>\n",
              "      <td>3.527912</td>\n",
              "      <td>4.690173</td>\n",
              "      <td>15.845644</td>\n",
              "      <td>4.040956</td>\n",
              "      <td>4.021288</td>\n",
              "      <td>4.778875</td>\n",
              "      <td>8.997879</td>\n",
              "      <td>109.130854</td>\n",
              "      <td>8.564625</td>\n",
              "      <td>14.861512</td>\n",
              "      <td>15.016123</td>\n",
              "      <td>6.591677</td>\n",
              "    </tr>\n",
              "    <tr>\n",
              "      <th>min</th>\n",
              "      <td>4752.000000</td>\n",
              "      <td>15.500000</td>\n",
              "      <td>970.300000</td>\n",
              "      <td>0.000000</td>\n",
              "      <td>0.000000</td>\n",
              "      <td>0.000000</td>\n",
              "      <td>990.000000</td>\n",
              "      <td>971.300000</td>\n",
              "      <td>17.300000</td>\n",
              "      <td>990.500000</td>\n",
              "      <td>989.200000</td>\n",
              "      <td>0.000000</td>\n",
              "      <td>0.000000</td>\n",
              "      <td>29.100000</td>\n",
              "      <td>0.000000</td>\n",
              "      <td>0.0</td>\n",
              "      <td>0.000000</td>\n",
              "      <td>0.0</td>\n",
              "      <td>0.000000</td>\n",
              "      <td>0.000000</td>\n",
              "      <td>0.0</td>\n",
              "      <td>30.000000</td>\n",
              "      <td>0.000000</td>\n",
              "      <td>983.700000</td>\n",
              "      <td>990.500000</td>\n",
              "      <td>0.000000</td>\n",
              "      <td>0.000000</td>\n",
              "      <td>0.000000</td>\n",
              "      <td>989.400000</td>\n",
              "      <td>18.700000</td>\n",
              "      <td>982.700000</td>\n",
              "      <td>25.800000</td>\n",
              "      <td>14.200000</td>\n",
              "      <td>15.100000</td>\n",
              "      <td>990.900000</td>\n",
              "      <td>0.000000</td>\n",
              "      <td>0.000000</td>\n",
              "      <td>0.000000</td>\n",
              "      <td>27.500000</td>\n",
              "      <td>22.800000</td>\n",
              "      <td>0.000000</td>\n",
              "    </tr>\n",
              "    <tr>\n",
              "      <th>25%</th>\n",
              "      <td>7631.750000</td>\n",
              "      <td>22.300000</td>\n",
              "      <td>985.300000</td>\n",
              "      <td>0.400000</td>\n",
              "      <td>0.700000</td>\n",
              "      <td>0.000000</td>\n",
              "      <td>1004.400000</td>\n",
              "      <td>985.500000</td>\n",
              "      <td>23.300000</td>\n",
              "      <td>1004.900000</td>\n",
              "      <td>1004.500000</td>\n",
              "      <td>0.000000</td>\n",
              "      <td>0.050000</td>\n",
              "      <td>67.300000</td>\n",
              "      <td>21.075000</td>\n",
              "      <td>0.0</td>\n",
              "      <td>23.900000</td>\n",
              "      <td>0.0</td>\n",
              "      <td>29.075000</td>\n",
              "      <td>0.400000</td>\n",
              "      <td>0.0</td>\n",
              "      <td>67.300000</td>\n",
              "      <td>0.000000</td>\n",
              "      <td>998.000000</td>\n",
              "      <td>1004.900000</td>\n",
              "      <td>0.300000</td>\n",
              "      <td>43.300000</td>\n",
              "      <td>0.300000</td>\n",
              "      <td>1003.300000</td>\n",
              "      <td>23.700000</td>\n",
              "      <td>997.100000</td>\n",
              "      <td>64.400000</td>\n",
              "      <td>21.500000</td>\n",
              "      <td>21.400000</td>\n",
              "      <td>1004.800000</td>\n",
              "      <td>0.000000</td>\n",
              "      <td>73.100000</td>\n",
              "      <td>0.000000</td>\n",
              "      <td>68.600000</td>\n",
              "      <td>60.700000</td>\n",
              "      <td>0.000000</td>\n",
              "    </tr>\n",
              "    <tr>\n",
              "      <th>50%</th>\n",
              "      <td>10511.500000</td>\n",
              "      <td>25.300000</td>\n",
              "      <td>987.900000</td>\n",
              "      <td>1.100000</td>\n",
              "      <td>1.300000</td>\n",
              "      <td>0.000000</td>\n",
              "      <td>1007.200000</td>\n",
              "      <td>988.100000</td>\n",
              "      <td>26.100000</td>\n",
              "      <td>1007.700000</td>\n",
              "      <td>1007.300000</td>\n",
              "      <td>0.000000</td>\n",
              "      <td>5.800000</td>\n",
              "      <td>83.300000</td>\n",
              "      <td>71.700000</td>\n",
              "      <td>0.0</td>\n",
              "      <td>119.400000</td>\n",
              "      <td>0.0</td>\n",
              "      <td>128.000000</td>\n",
              "      <td>1.000000</td>\n",
              "      <td>0.0</td>\n",
              "      <td>86.400000</td>\n",
              "      <td>0.000000</td>\n",
              "      <td>1000.700000</td>\n",
              "      <td>1007.700000</td>\n",
              "      <td>0.900000</td>\n",
              "      <td>140.400000</td>\n",
              "      <td>1.100000</td>\n",
              "      <td>1006.100000</td>\n",
              "      <td>26.500000</td>\n",
              "      <td>999.700000</td>\n",
              "      <td>79.800000</td>\n",
              "      <td>24.500000</td>\n",
              "      <td>24.500000</td>\n",
              "      <td>1007.600000</td>\n",
              "      <td>5.715000</td>\n",
              "      <td>178.800000</td>\n",
              "      <td>0.000000</td>\n",
              "      <td>82.100000</td>\n",
              "      <td>72.000000</td>\n",
              "      <td>0.000000</td>\n",
              "    </tr>\n",
              "    <tr>\n",
              "      <th>75%</th>\n",
              "      <td>13391.250000</td>\n",
              "      <td>27.600000</td>\n",
              "      <td>990.700000</td>\n",
              "      <td>2.000000</td>\n",
              "      <td>2.000000</td>\n",
              "      <td>0.700000</td>\n",
              "      <td>1010.000000</td>\n",
              "      <td>991.000000</td>\n",
              "      <td>28.300000</td>\n",
              "      <td>1010.500000</td>\n",
              "      <td>1010.100000</td>\n",
              "      <td>0.500000</td>\n",
              "      <td>15.680000</td>\n",
              "      <td>94.000000</td>\n",
              "      <td>204.925000</td>\n",
              "      <td>0.0</td>\n",
              "      <td>219.300000</td>\n",
              "      <td>0.0</td>\n",
              "      <td>224.100000</td>\n",
              "      <td>2.100000</td>\n",
              "      <td>0.0</td>\n",
              "      <td>97.100000</td>\n",
              "      <td>1.000000</td>\n",
              "      <td>1003.500000</td>\n",
              "      <td>1010.500000</td>\n",
              "      <td>1.700000</td>\n",
              "      <td>254.800000</td>\n",
              "      <td>2.000000</td>\n",
              "      <td>1008.900000</td>\n",
              "      <td>28.800000</td>\n",
              "      <td>1002.500000</td>\n",
              "      <td>90.200000</td>\n",
              "      <td>27.200000</td>\n",
              "      <td>27.300000</td>\n",
              "      <td>1010.400000</td>\n",
              "      <td>15.860000</td>\n",
              "      <td>261.400000</td>\n",
              "      <td>0.100000</td>\n",
              "      <td>92.725000</td>\n",
              "      <td>84.300000</td>\n",
              "      <td>0.500000</td>\n",
              "    </tr>\n",
              "    <tr>\n",
              "      <th>max</th>\n",
              "      <td>16271.000000</td>\n",
              "      <td>36.300000</td>\n",
              "      <td>998.100000</td>\n",
              "      <td>11.000000</td>\n",
              "      <td>10.900000</td>\n",
              "      <td>46.500000</td>\n",
              "      <td>1018.000000</td>\n",
              "      <td>998.500000</td>\n",
              "      <td>36.000000</td>\n",
              "      <td>1018.500000</td>\n",
              "      <td>1017.900000</td>\n",
              "      <td>57.000000</td>\n",
              "      <td>31.250000</td>\n",
              "      <td>98.700000</td>\n",
              "      <td>359.900000</td>\n",
              "      <td>0.0</td>\n",
              "      <td>359.900000</td>\n",
              "      <td>0.0</td>\n",
              "      <td>360.000000</td>\n",
              "      <td>10.300000</td>\n",
              "      <td>0.0</td>\n",
              "      <td>97.900000</td>\n",
              "      <td>64.500000</td>\n",
              "      <td>1011.400000</td>\n",
              "      <td>1018.500000</td>\n",
              "      <td>9.900000</td>\n",
              "      <td>359.900000</td>\n",
              "      <td>11.900000</td>\n",
              "      <td>1016.900000</td>\n",
              "      <td>36.500000</td>\n",
              "      <td>1010.300000</td>\n",
              "      <td>97.200000</td>\n",
              "      <td>35.300000</td>\n",
              "      <td>35.800000</td>\n",
              "      <td>1018.400000</td>\n",
              "      <td>31.640000</td>\n",
              "      <td>359.900000</td>\n",
              "      <td>97.700000</td>\n",
              "      <td>96.800000</td>\n",
              "      <td>95.900000</td>\n",
              "      <td>79.500000</td>\n",
              "    </tr>\n",
              "  </tbody>\n",
              "</table>\n",
              "</div>"
            ],
            "text/plain": [
              "                 id           X00  ...           X38           X39\n",
              "count  11520.000000  11520.000000  ...  11520.000000  11520.000000\n",
              "mean   10511.500000     25.145625  ...     71.271146      2.332856\n",
              "std     3325.681885      3.824374  ...     15.016123      6.591677\n",
              "min     4752.000000     15.500000  ...     22.800000      0.000000\n",
              "25%     7631.750000     22.300000  ...     60.700000      0.000000\n",
              "50%    10511.500000     25.300000  ...     72.000000      0.000000\n",
              "75%    13391.250000     27.600000  ...     84.300000      0.500000\n",
              "max    16271.000000     36.300000  ...     95.900000     79.500000\n",
              "\n",
              "[8 rows x 41 columns]"
            ]
          },
          "metadata": {
            "tags": []
          },
          "execution_count": 113
        }
      ]
    },
    {
      "cell_type": "markdown",
      "metadata": {
        "id": "YDNoDj9ylJoF",
        "colab_type": "text"
      },
      "source": [
        "## y"
      ]
    },
    {
      "cell_type": "markdown",
      "metadata": {
        "id": "N9bZ-cXPG-ug",
        "colab_type": "text"
      },
      "source": [
        "### feat_y"
      ]
    },
    {
      "cell_type": "code",
      "metadata": {
        "id": "OohHQJHslMgN",
        "colab_type": "code",
        "colab": {}
      },
      "source": [
        "feat_y = ['Y00', 'Y01', 'Y02', 'Y03', 'Y04', 'Y05', 'Y06', 'Y07', 'Y08', 'Y09', 'Y10', 'Y11', 'Y12', 'Y13', 'Y14', 'Y15', 'Y16', 'Y17']"
      ],
      "execution_count": 0,
      "outputs": []
    },
    {
      "cell_type": "code",
      "metadata": {
        "id": "QrbG9Yfjun58",
        "colab_type": "code",
        "outputId": "d6ee01e1-ec68-4063-be79-7abb78a6e5f7",
        "colab": {
          "base_uri": "https://localhost:8080/",
          "height": 34
        }
      },
      "source": [
        "df[feat_y].shape"
      ],
      "execution_count": 18,
      "outputs": [
        {
          "output_type": "execute_result",
          "data": {
            "text/plain": [
              "(4752, 18)"
            ]
          },
          "metadata": {
            "tags": []
          },
          "execution_count": 18
        }
      ]
    },
    {
      "cell_type": "markdown",
      "metadata": {
        "id": "vi5uB3Bevaif",
        "colab_type": "text"
      },
      "source": [
        "Y00 -Y17의 null 값이 없는 부분만 추출 "
      ]
    },
    {
      "cell_type": "code",
      "metadata": {
        "id": "Guw6xTMuun_o",
        "colab_type": "code",
        "outputId": "82ebc07e-97cb-4e65-b64a-f654f7dd8011",
        "colab": {
          "base_uri": "https://localhost:8080/",
          "height": 34
        }
      },
      "source": [
        "df_y = df[feat_y][:n]\n",
        "df_y.shape "
      ],
      "execution_count": 19,
      "outputs": [
        {
          "output_type": "execute_result",
          "data": {
            "text/plain": [
              "(4320, 18)"
            ]
          },
          "metadata": {
            "tags": []
          },
          "execution_count": 19
        }
      ]
    },
    {
      "cell_type": "markdown",
      "metadata": {
        "id": "dq2z-YMjHBsv",
        "colab_type": "text"
      },
      "source": [
        "### y 그룹화"
      ]
    },
    {
      "cell_type": "markdown",
      "metadata": {
        "id": "VgcW7IYmO6Qd",
        "colab_type": "text"
      },
      "source": [
        "6개의 그룹으로 나눠보기로 한다. \n",
        "\n",
        "'Y03', 'Y04'  \n",
        "'Y00'  \n",
        "'Y05', 'Y08', 'Y14'  \n",
        "'Y13','Y01', 'Y02'  \n",
        "'Y09', 'Y10', 'Y11', 'Y17', 'Y15',  Y16'  \n",
        "'Y12', 'Y06', 'Y07'\n",
        "\n"
      ]
    },
    {
      "cell_type": "code",
      "metadata": {
        "id": "InLo6FDTZyHN",
        "colab_type": "code",
        "colab": {}
      },
      "source": [
        "df_y_g1 = df_y[['Y03', 'Y04']]\n",
        "df_y_g2 = df_y[['Y00']]\n",
        "df_y_g3 = df_y[['Y05', 'Y08', 'Y14']]\n",
        "df_y_g4 = df_y[['Y13','Y01', 'Y02']]\n",
        "df_y_g5 = df_y[['Y09', 'Y10', 'Y11', 'Y17', 'Y15', 'Y16']]\n",
        "df_y_g6 = df_y[['Y12', 'Y06', 'Y07']]"
      ],
      "execution_count": 0,
      "outputs": []
    },
    {
      "cell_type": "markdown",
      "metadata": {
        "id": "sZ9abzQ7dTGx",
        "colab_type": "text"
      },
      "source": [
        "# model"
      ]
    },
    {
      "cell_type": "markdown",
      "metadata": {
        "id": "ucUowkh0fimN",
        "colab_type": "text"
      },
      "source": [
        "간단한 모델을 구성해보자  \n",
        "\n",
        "\n",
        "1.   X 중 기온 데이터인 feat_temp만 사용해서 Y00~17의 온도를 추정하는 모델 만들기 \n",
        "2.   1번에서 만든 모델로 Y00 ~ Y17의 비어있는 3일간의 데이터를 예측  \n",
        "3.   2번에서 추정한 Y00 ~ Y17의 온도, Y18을 이용해서 Y00~17로 Y18을 추정하는 모델 만들기\n",
        "4.   test data에 대해 1번에서 만든 모델로 Y00 ~ Y17을 예측. 예측한 Y00 ~ Y17과 3번에서 만든 모델로 Y18 온도를 예측  \n",
        "\n"
      ]
    },
    {
      "cell_type": "markdown",
      "metadata": {
        "id": "l96ARh-Thzq_",
        "colab_type": "text"
      },
      "source": [
        "## 1.\n",
        "df_y_g4에 대해 모델링 해보기 (X 5군데와 전체적으로 유사해서 선택함) "
      ]
    },
    {
      "cell_type": "markdown",
      "metadata": {
        "id": "7lRcJ6V8pWUQ",
        "colab_type": "text"
      },
      "source": [
        "데이터셋  \n",
        "* X_feat_temp 와 Y00-Y17, 모두 존재하는 rows는 4320 개.  \n",
        "* 해당 시점에 Y00-Y17 지역의 온도를 추정할 것이므로 시리즈 데이터로 보지 않음.\n",
        "* 모든 features를 사용하지는 않고 feat_temp만 사용.\n",
        "* 모든 지역을 맞추기보다 그룹화 된 지역의 평균 온도를 타겟으로 함.   \n",
        "* 즉, feat_temp = ['X00', 'X07', 'X28', 'X31', 'X32']를 features로 보고, mean(['Y13','Y01', 'Y02'])을 target으로 하는 모델을 구성할 것.\n",
        "* train 90%, test 10%\n"
      ]
    },
    {
      "cell_type": "markdown",
      "metadata": {
        "id": "Xe0MoqWbhnDw",
        "colab_type": "text"
      },
      "source": [
        "### dataset "
      ]
    },
    {
      "cell_type": "markdown",
      "metadata": {
        "id": "sAVjM5ZnhcOo",
        "colab_type": "text"
      },
      "source": [
        "#### Split the data into train and test"
      ]
    },
    {
      "cell_type": "code",
      "metadata": {
        "id": "1gjyTa0BfNbO",
        "colab_type": "code",
        "colab": {}
      },
      "source": [
        "## \n",
        "frac = 0.9 # train data 비율 "
      ],
      "execution_count": 0,
      "outputs": []
    },
    {
      "cell_type": "code",
      "metadata": {
        "id": "mhOZjvHTcwHK",
        "colab_type": "code",
        "colab": {}
      },
      "source": [
        "## y_col : y_col인 컬럼들의 평균을 타겟 값으로 할 것.\n",
        "y_col = ['Y15', 'Y16'] ##list(df_y_g3.columns)\n",
        "x_col = feat_temp + feat_rainfall + feat_wind_speed"
      ],
      "execution_count": 0,
      "outputs": []
    },
    {
      "cell_type": "code",
      "metadata": {
        "id": "ZzBva8bpeRUD",
        "colab_type": "code",
        "colab": {}
      },
      "source": [
        "dataset = df[x_col+y_col][:n]\n",
        "dataset['Y']= df[y_col].mean(axis=1)\n",
        "dataset = dataset.drop(y_col, axis=1)\n",
        "\n",
        "test_80_dataset = df_test[x_col]\n",
        "\n",
        "test_3_dataset = df[x_col][n:n+n//10]"
      ],
      "execution_count": 0,
      "outputs": []
    },
    {
      "cell_type": "code",
      "metadata": {
        "id": "iUU_0EF2dZaM",
        "colab_type": "code",
        "colab": {}
      },
      "source": [
        "train_dataset = dataset.sample(frac=frac,random_state=0)\n",
        "test_dataset = dataset.drop(train_dataset.index)"
      ],
      "execution_count": 0,
      "outputs": []
    },
    {
      "cell_type": "code",
      "metadata": {
        "id": "xHQ5WVzHbIJP",
        "colab_type": "code",
        "outputId": "cd437ee7-91b6-47fc-9bbb-a809b3a27e4c",
        "colab": {
          "base_uri": "https://localhost:8080/",
          "height": 34
        }
      },
      "source": [
        "train_dataset.shape, test_dataset.shape, test_80_dataset.shape"
      ],
      "execution_count": 144,
      "outputs": [
        {
          "output_type": "execute_result",
          "data": {
            "text/plain": [
              "((3888, 16), (432, 16), (11520, 15))"
            ]
          },
          "metadata": {
            "tags": []
          },
          "execution_count": 144
        }
      ]
    },
    {
      "cell_type": "markdown",
      "metadata": {
        "id": "yWpPXfOeg0fS",
        "colab_type": "text"
      },
      "source": [
        "#### Split features from labels"
      ]
    },
    {
      "cell_type": "code",
      "metadata": {
        "id": "Gp2rgP59hsWa",
        "colab_type": "code",
        "colab": {}
      },
      "source": [
        "train_labels = train_dataset.pop('Y')\n",
        "test_labels = test_dataset.pop('Y')"
      ],
      "execution_count": 0,
      "outputs": []
    },
    {
      "cell_type": "code",
      "metadata": {
        "id": "k1swsgM9gZ8V",
        "colab_type": "code",
        "outputId": "99ea985b-51f5-46e2-8469-075c3eab0f5c",
        "colab": {
          "base_uri": "https://localhost:8080/",
          "height": 34
        }
      },
      "source": [
        "train_dataset.shape, test_dataset.shape"
      ],
      "execution_count": 146,
      "outputs": [
        {
          "output_type": "execute_result",
          "data": {
            "text/plain": [
              "((3888, 15), (432, 15))"
            ]
          },
          "metadata": {
            "tags": []
          },
          "execution_count": 146
        }
      ]
    },
    {
      "cell_type": "code",
      "metadata": {
        "id": "ZDJMKMh8ggQ7",
        "colab_type": "code",
        "outputId": "40c2afeb-af9a-4f35-f5d0-eea74ec12a6a",
        "colab": {
          "base_uri": "https://localhost:8080/",
          "height": 34
        }
      },
      "source": [
        "train_labels.shape, test_labels.shape"
      ],
      "execution_count": 147,
      "outputs": [
        {
          "output_type": "execute_result",
          "data": {
            "text/plain": [
              "((3888,), (432,))"
            ]
          },
          "metadata": {
            "tags": []
          },
          "execution_count": 147
        }
      ]
    },
    {
      "cell_type": "code",
      "metadata": {
        "id": "R3iyGJC6K9ST",
        "colab_type": "code",
        "outputId": "583b05f8-a594-4188-f210-42b1270cbaa6",
        "colab": {
          "base_uri": "https://localhost:8080/",
          "height": 34
        }
      },
      "source": [
        "len(train_dataset.keys())"
      ],
      "execution_count": 148,
      "outputs": [
        {
          "output_type": "execute_result",
          "data": {
            "text/plain": [
              "15"
            ]
          },
          "metadata": {
            "tags": []
          },
          "execution_count": 148
        }
      ]
    },
    {
      "cell_type": "markdown",
      "metadata": {
        "id": "hA4NO3hDkii8",
        "colab_type": "text"
      },
      "source": [
        "## Normalize the data"
      ]
    },
    {
      "cell_type": "code",
      "metadata": {
        "id": "LtVWX_ldrdK1",
        "colab_type": "code",
        "colab": {
          "base_uri": "https://localhost:8080/",
          "height": 520
        },
        "outputId": "27564ad1-ac9a-49ce-cab3-53d8b20fca54"
      },
      "source": [
        "train_stats = train_dataset.describe().transpose()\n",
        "train_stats"
      ],
      "execution_count": 149,
      "outputs": [
        {
          "output_type": "execute_result",
          "data": {
            "text/html": [
              "<div>\n",
              "<style scoped>\n",
              "    .dataframe tbody tr th:only-of-type {\n",
              "        vertical-align: middle;\n",
              "    }\n",
              "\n",
              "    .dataframe tbody tr th {\n",
              "        vertical-align: top;\n",
              "    }\n",
              "\n",
              "    .dataframe thead th {\n",
              "        text-align: right;\n",
              "    }\n",
              "</style>\n",
              "<table border=\"1\" class=\"dataframe\">\n",
              "  <thead>\n",
              "    <tr style=\"text-align: right;\">\n",
              "      <th></th>\n",
              "      <th>count</th>\n",
              "      <th>mean</th>\n",
              "      <th>std</th>\n",
              "      <th>min</th>\n",
              "      <th>25%</th>\n",
              "      <th>50%</th>\n",
              "      <th>75%</th>\n",
              "      <th>max</th>\n",
              "    </tr>\n",
              "  </thead>\n",
              "  <tbody>\n",
              "    <tr>\n",
              "      <th>X00</th>\n",
              "      <td>3888.0</td>\n",
              "      <td>19.994316</td>\n",
              "      <td>4.732284</td>\n",
              "      <td>8.3</td>\n",
              "      <td>16.575</td>\n",
              "      <td>19.60</td>\n",
              "      <td>23.8</td>\n",
              "      <td>30.9</td>\n",
              "    </tr>\n",
              "    <tr>\n",
              "      <th>X07</th>\n",
              "      <td>3888.0</td>\n",
              "      <td>21.461060</td>\n",
              "      <td>4.410875</td>\n",
              "      <td>11.6</td>\n",
              "      <td>18.100</td>\n",
              "      <td>21.00</td>\n",
              "      <td>24.7</td>\n",
              "      <td>32.7</td>\n",
              "    </tr>\n",
              "    <tr>\n",
              "      <th>X28</th>\n",
              "      <td>3888.0</td>\n",
              "      <td>21.922917</td>\n",
              "      <td>4.261941</td>\n",
              "      <td>10.3</td>\n",
              "      <td>18.700</td>\n",
              "      <td>21.70</td>\n",
              "      <td>25.0</td>\n",
              "      <td>33.2</td>\n",
              "    </tr>\n",
              "    <tr>\n",
              "      <th>X31</th>\n",
              "      <td>3888.0</td>\n",
              "      <td>19.636806</td>\n",
              "      <td>5.599947</td>\n",
              "      <td>5.3</td>\n",
              "      <td>15.775</td>\n",
              "      <td>19.15</td>\n",
              "      <td>24.0</td>\n",
              "      <td>33.1</td>\n",
              "    </tr>\n",
              "    <tr>\n",
              "      <th>X32</th>\n",
              "      <td>3888.0</td>\n",
              "      <td>19.772582</td>\n",
              "      <td>5.335866</td>\n",
              "      <td>5.5</td>\n",
              "      <td>16.100</td>\n",
              "      <td>19.25</td>\n",
              "      <td>23.9</td>\n",
              "      <td>32.9</td>\n",
              "    </tr>\n",
              "    <tr>\n",
              "      <th>X04</th>\n",
              "      <td>3888.0</td>\n",
              "      <td>1.386034</td>\n",
              "      <td>4.623522</td>\n",
              "      <td>0.0</td>\n",
              "      <td>0.000</td>\n",
              "      <td>0.00</td>\n",
              "      <td>0.0</td>\n",
              "      <td>25.6</td>\n",
              "    </tr>\n",
              "    <tr>\n",
              "      <th>X10</th>\n",
              "      <td>3888.0</td>\n",
              "      <td>1.073431</td>\n",
              "      <td>3.434502</td>\n",
              "      <td>0.0</td>\n",
              "      <td>0.000</td>\n",
              "      <td>0.00</td>\n",
              "      <td>0.0</td>\n",
              "      <td>18.5</td>\n",
              "    </tr>\n",
              "    <tr>\n",
              "      <th>X21</th>\n",
              "      <td>3888.0</td>\n",
              "      <td>1.180427</td>\n",
              "      <td>4.203475</td>\n",
              "      <td>0.0</td>\n",
              "      <td>0.000</td>\n",
              "      <td>0.00</td>\n",
              "      <td>0.0</td>\n",
              "      <td>21.0</td>\n",
              "    </tr>\n",
              "    <tr>\n",
              "      <th>X36</th>\n",
              "      <td>3888.0</td>\n",
              "      <td>1.675540</td>\n",
              "      <td>5.834230</td>\n",
              "      <td>0.0</td>\n",
              "      <td>0.000</td>\n",
              "      <td>0.00</td>\n",
              "      <td>0.0</td>\n",
              "      <td>33.6</td>\n",
              "    </tr>\n",
              "    <tr>\n",
              "      <th>X39</th>\n",
              "      <td>3888.0</td>\n",
              "      <td>1.157536</td>\n",
              "      <td>4.754191</td>\n",
              "      <td>0.0</td>\n",
              "      <td>0.000</td>\n",
              "      <td>0.00</td>\n",
              "      <td>0.0</td>\n",
              "      <td>28.0</td>\n",
              "    </tr>\n",
              "    <tr>\n",
              "      <th>X02</th>\n",
              "      <td>3888.0</td>\n",
              "      <td>1.543364</td>\n",
              "      <td>1.094064</td>\n",
              "      <td>0.0</td>\n",
              "      <td>0.800</td>\n",
              "      <td>1.30</td>\n",
              "      <td>2.2</td>\n",
              "      <td>10.2</td>\n",
              "    </tr>\n",
              "    <tr>\n",
              "      <th>X03</th>\n",
              "      <td>3888.0</td>\n",
              "      <td>1.459979</td>\n",
              "      <td>0.964387</td>\n",
              "      <td>0.0</td>\n",
              "      <td>0.800</td>\n",
              "      <td>1.30</td>\n",
              "      <td>2.0</td>\n",
              "      <td>5.8</td>\n",
              "    </tr>\n",
              "    <tr>\n",
              "      <th>X18</th>\n",
              "      <td>3888.0</td>\n",
              "      <td>1.392207</td>\n",
              "      <td>1.174326</td>\n",
              "      <td>0.0</td>\n",
              "      <td>0.500</td>\n",
              "      <td>1.00</td>\n",
              "      <td>2.1</td>\n",
              "      <td>8.9</td>\n",
              "    </tr>\n",
              "    <tr>\n",
              "      <th>X24</th>\n",
              "      <td>3888.0</td>\n",
              "      <td>0.985237</td>\n",
              "      <td>1.101993</td>\n",
              "      <td>0.0</td>\n",
              "      <td>0.000</td>\n",
              "      <td>0.70</td>\n",
              "      <td>1.7</td>\n",
              "      <td>6.0</td>\n",
              "    </tr>\n",
              "    <tr>\n",
              "      <th>X26</th>\n",
              "      <td>3888.0</td>\n",
              "      <td>1.366127</td>\n",
              "      <td>1.259200</td>\n",
              "      <td>0.0</td>\n",
              "      <td>0.300</td>\n",
              "      <td>1.10</td>\n",
              "      <td>2.2</td>\n",
              "      <td>6.8</td>\n",
              "    </tr>\n",
              "  </tbody>\n",
              "</table>\n",
              "</div>"
            ],
            "text/plain": [
              "      count       mean       std   min     25%    50%   75%   max\n",
              "X00  3888.0  19.994316  4.732284   8.3  16.575  19.60  23.8  30.9\n",
              "X07  3888.0  21.461060  4.410875  11.6  18.100  21.00  24.7  32.7\n",
              "X28  3888.0  21.922917  4.261941  10.3  18.700  21.70  25.0  33.2\n",
              "X31  3888.0  19.636806  5.599947   5.3  15.775  19.15  24.0  33.1\n",
              "X32  3888.0  19.772582  5.335866   5.5  16.100  19.25  23.9  32.9\n",
              "X04  3888.0   1.386034  4.623522   0.0   0.000   0.00   0.0  25.6\n",
              "X10  3888.0   1.073431  3.434502   0.0   0.000   0.00   0.0  18.5\n",
              "X21  3888.0   1.180427  4.203475   0.0   0.000   0.00   0.0  21.0\n",
              "X36  3888.0   1.675540  5.834230   0.0   0.000   0.00   0.0  33.6\n",
              "X39  3888.0   1.157536  4.754191   0.0   0.000   0.00   0.0  28.0\n",
              "X02  3888.0   1.543364  1.094064   0.0   0.800   1.30   2.2  10.2\n",
              "X03  3888.0   1.459979  0.964387   0.0   0.800   1.30   2.0   5.8\n",
              "X18  3888.0   1.392207  1.174326   0.0   0.500   1.00   2.1   8.9\n",
              "X24  3888.0   0.985237  1.101993   0.0   0.000   0.70   1.7   6.0\n",
              "X26  3888.0   1.366127  1.259200   0.0   0.300   1.10   2.2   6.8"
            ]
          },
          "metadata": {
            "tags": []
          },
          "execution_count": 149
        }
      ]
    },
    {
      "cell_type": "code",
      "metadata": {
        "id": "46sTcfLAkh-O",
        "colab_type": "code",
        "colab": {}
      },
      "source": [
        "def norm(x):\n",
        "  return (x - train_stats['mean']) / train_stats['std']\n",
        "normed_train_data = norm(train_dataset)\n",
        "normed_test_data = norm(test_dataset)\n",
        "normed_test_80 = norm(test_80_dataset)\n",
        "normed_test_3 = norm(test_3_dataset )"
      ],
      "execution_count": 0,
      "outputs": []
    },
    {
      "cell_type": "code",
      "metadata": {
        "id": "98YL1nqusBBk",
        "colab_type": "code",
        "colab": {
          "base_uri": "https://localhost:8080/",
          "height": 320
        },
        "outputId": "9b8a3aab-5da6-4b94-e3aa-ddbee3eb7279"
      },
      "source": [
        "normed_train_data.describe()"
      ],
      "execution_count": 151,
      "outputs": [
        {
          "output_type": "execute_result",
          "data": {
            "text/html": [
              "<div>\n",
              "<style scoped>\n",
              "    .dataframe tbody tr th:only-of-type {\n",
              "        vertical-align: middle;\n",
              "    }\n",
              "\n",
              "    .dataframe tbody tr th {\n",
              "        vertical-align: top;\n",
              "    }\n",
              "\n",
              "    .dataframe thead th {\n",
              "        text-align: right;\n",
              "    }\n",
              "</style>\n",
              "<table border=\"1\" class=\"dataframe\">\n",
              "  <thead>\n",
              "    <tr style=\"text-align: right;\">\n",
              "      <th></th>\n",
              "      <th>X00</th>\n",
              "      <th>X07</th>\n",
              "      <th>X28</th>\n",
              "      <th>X31</th>\n",
              "      <th>X32</th>\n",
              "      <th>X04</th>\n",
              "      <th>X10</th>\n",
              "      <th>X21</th>\n",
              "      <th>X36</th>\n",
              "      <th>X39</th>\n",
              "      <th>X02</th>\n",
              "      <th>X03</th>\n",
              "      <th>X18</th>\n",
              "      <th>X24</th>\n",
              "      <th>X26</th>\n",
              "    </tr>\n",
              "  </thead>\n",
              "  <tbody>\n",
              "    <tr>\n",
              "      <th>count</th>\n",
              "      <td>3.888000e+03</td>\n",
              "      <td>3.888000e+03</td>\n",
              "      <td>3.888000e+03</td>\n",
              "      <td>3.888000e+03</td>\n",
              "      <td>3.888000e+03</td>\n",
              "      <td>3.888000e+03</td>\n",
              "      <td>3.888000e+03</td>\n",
              "      <td>3.888000e+03</td>\n",
              "      <td>3.888000e+03</td>\n",
              "      <td>3.888000e+03</td>\n",
              "      <td>3.888000e+03</td>\n",
              "      <td>3.888000e+03</td>\n",
              "      <td>3.888000e+03</td>\n",
              "      <td>3.888000e+03</td>\n",
              "      <td>3.888000e+03</td>\n",
              "    </tr>\n",
              "    <tr>\n",
              "      <th>mean</th>\n",
              "      <td>-2.585116e-15</td>\n",
              "      <td>6.492877e-15</td>\n",
              "      <td>2.111106e-14</td>\n",
              "      <td>1.162293e-14</td>\n",
              "      <td>-5.609635e-15</td>\n",
              "      <td>-1.128812e-15</td>\n",
              "      <td>1.664192e-15</td>\n",
              "      <td>7.961167e-16</td>\n",
              "      <td>-1.431068e-15</td>\n",
              "      <td>8.619791e-16</td>\n",
              "      <td>1.362936e-15</td>\n",
              "      <td>-1.954762e-15</td>\n",
              "      <td>6.958740e-16</td>\n",
              "      <td>1.175043e-15</td>\n",
              "      <td>2.912394e-15</td>\n",
              "    </tr>\n",
              "    <tr>\n",
              "      <th>std</th>\n",
              "      <td>1.000000e+00</td>\n",
              "      <td>1.000000e+00</td>\n",
              "      <td>1.000000e+00</td>\n",
              "      <td>1.000000e+00</td>\n",
              "      <td>1.000000e+00</td>\n",
              "      <td>1.000000e+00</td>\n",
              "      <td>1.000000e+00</td>\n",
              "      <td>1.000000e+00</td>\n",
              "      <td>1.000000e+00</td>\n",
              "      <td>1.000000e+00</td>\n",
              "      <td>1.000000e+00</td>\n",
              "      <td>1.000000e+00</td>\n",
              "      <td>1.000000e+00</td>\n",
              "      <td>1.000000e+00</td>\n",
              "      <td>1.000000e+00</td>\n",
              "    </tr>\n",
              "    <tr>\n",
              "      <th>min</th>\n",
              "      <td>-2.471178e+00</td>\n",
              "      <td>-2.235624e+00</td>\n",
              "      <td>-2.727141e+00</td>\n",
              "      <td>-2.560168e+00</td>\n",
              "      <td>-2.674839e+00</td>\n",
              "      <td>-2.997788e-01</td>\n",
              "      <td>-3.125435e-01</td>\n",
              "      <td>-2.808217e-01</td>\n",
              "      <td>-2.871913e-01</td>\n",
              "      <td>-2.434770e-01</td>\n",
              "      <td>-1.410670e+00</td>\n",
              "      <td>-1.513894e+00</td>\n",
              "      <td>-1.185537e+00</td>\n",
              "      <td>-8.940494e-01</td>\n",
              "      <td>-1.084916e+00</td>\n",
              "    </tr>\n",
              "    <tr>\n",
              "      <th>25%</th>\n",
              "      <td>-7.225508e-01</td>\n",
              "      <td>-7.619939e-01</td>\n",
              "      <td>-7.562086e-01</td>\n",
              "      <td>-6.896147e-01</td>\n",
              "      <td>-6.882824e-01</td>\n",
              "      <td>-2.997788e-01</td>\n",
              "      <td>-3.125435e-01</td>\n",
              "      <td>-2.808217e-01</td>\n",
              "      <td>-2.871913e-01</td>\n",
              "      <td>-2.434770e-01</td>\n",
              "      <td>-6.794520e-01</td>\n",
              "      <td>-6.843514e-01</td>\n",
              "      <td>-7.597608e-01</td>\n",
              "      <td>-8.940494e-01</td>\n",
              "      <td>-8.466697e-01</td>\n",
              "    </tr>\n",
              "    <tr>\n",
              "      <th>50%</th>\n",
              "      <td>-8.332463e-02</td>\n",
              "      <td>-1.045279e-01</td>\n",
              "      <td>-5.230402e-02</td>\n",
              "      <td>-8.693039e-02</td>\n",
              "      <td>-9.793768e-02</td>\n",
              "      <td>-2.997788e-01</td>\n",
              "      <td>-3.125435e-01</td>\n",
              "      <td>-2.808217e-01</td>\n",
              "      <td>-2.871913e-01</td>\n",
              "      <td>-2.434770e-01</td>\n",
              "      <td>-2.224405e-01</td>\n",
              "      <td>-1.658872e-01</td>\n",
              "      <td>-3.339846e-01</td>\n",
              "      <td>-2.588369e-01</td>\n",
              "      <td>-2.113457e-01</td>\n",
              "    </tr>\n",
              "    <tr>\n",
              "      <th>75%</th>\n",
              "      <td>8.041960e-01</td>\n",
              "      <td>7.343079e-01</td>\n",
              "      <td>7.219910e-01</td>\n",
              "      <td>7.791493e-01</td>\n",
              "      <td>7.735235e-01</td>\n",
              "      <td>-2.997788e-01</td>\n",
              "      <td>-3.125435e-01</td>\n",
              "      <td>-2.808217e-01</td>\n",
              "      <td>-2.871913e-01</td>\n",
              "      <td>-2.434770e-01</td>\n",
              "      <td>6.001802e-01</td>\n",
              "      <td>5.599626e-01</td>\n",
              "      <td>6.027230e-01</td>\n",
              "      <td>6.486094e-01</td>\n",
              "      <td>6.622247e-01</td>\n",
              "    </tr>\n",
              "    <tr>\n",
              "      <th>max</th>\n",
              "      <td>2.304528e+00</td>\n",
              "      <td>2.548007e+00</td>\n",
              "      <td>2.645997e+00</td>\n",
              "      <td>2.404165e+00</td>\n",
              "      <td>2.460223e+00</td>\n",
              "      <td>5.237126e+00</td>\n",
              "      <td>5.073973e+00</td>\n",
              "      <td>4.715045e+00</td>\n",
              "      <td>5.471924e+00</td>\n",
              "      <td>5.646064e+00</td>\n",
              "      <td>7.912364e+00</td>\n",
              "      <td>4.500290e+00</td>\n",
              "      <td>6.393279e+00</td>\n",
              "      <td>4.550629e+00</td>\n",
              "      <td>4.315337e+00</td>\n",
              "    </tr>\n",
              "  </tbody>\n",
              "</table>\n",
              "</div>"
            ],
            "text/plain": [
              "                X00           X07  ...           X24           X26\n",
              "count  3.888000e+03  3.888000e+03  ...  3.888000e+03  3.888000e+03\n",
              "mean  -2.585116e-15  6.492877e-15  ...  1.175043e-15  2.912394e-15\n",
              "std    1.000000e+00  1.000000e+00  ...  1.000000e+00  1.000000e+00\n",
              "min   -2.471178e+00 -2.235624e+00  ... -8.940494e-01 -1.084916e+00\n",
              "25%   -7.225508e-01 -7.619939e-01  ... -8.940494e-01 -8.466697e-01\n",
              "50%   -8.332463e-02 -1.045279e-01  ... -2.588369e-01 -2.113457e-01\n",
              "75%    8.041960e-01  7.343079e-01  ...  6.486094e-01  6.622247e-01\n",
              "max    2.304528e+00  2.548007e+00  ...  4.550629e+00  4.315337e+00\n",
              "\n",
              "[8 rows x 15 columns]"
            ]
          },
          "metadata": {
            "tags": []
          },
          "execution_count": 151
        }
      ]
    },
    {
      "cell_type": "code",
      "metadata": {
        "id": "Ctp-dQvEuxR2",
        "colab_type": "code",
        "colab": {
          "base_uri": "https://localhost:8080/",
          "height": 320
        },
        "outputId": "378258d1-80a3-471c-94ef-464d53e62882"
      },
      "source": [
        "normed_test_data.describe()"
      ],
      "execution_count": 152,
      "outputs": [
        {
          "output_type": "execute_result",
          "data": {
            "text/html": [
              "<div>\n",
              "<style scoped>\n",
              "    .dataframe tbody tr th:only-of-type {\n",
              "        vertical-align: middle;\n",
              "    }\n",
              "\n",
              "    .dataframe tbody tr th {\n",
              "        vertical-align: top;\n",
              "    }\n",
              "\n",
              "    .dataframe thead th {\n",
              "        text-align: right;\n",
              "    }\n",
              "</style>\n",
              "<table border=\"1\" class=\"dataframe\">\n",
              "  <thead>\n",
              "    <tr style=\"text-align: right;\">\n",
              "      <th></th>\n",
              "      <th>X00</th>\n",
              "      <th>X07</th>\n",
              "      <th>X28</th>\n",
              "      <th>X31</th>\n",
              "      <th>X32</th>\n",
              "      <th>X04</th>\n",
              "      <th>X10</th>\n",
              "      <th>X21</th>\n",
              "      <th>X36</th>\n",
              "      <th>X39</th>\n",
              "      <th>X02</th>\n",
              "      <th>X03</th>\n",
              "      <th>X18</th>\n",
              "      <th>X24</th>\n",
              "      <th>X26</th>\n",
              "    </tr>\n",
              "  </thead>\n",
              "  <tbody>\n",
              "    <tr>\n",
              "      <th>count</th>\n",
              "      <td>432.000000</td>\n",
              "      <td>432.000000</td>\n",
              "      <td>432.000000</td>\n",
              "      <td>432.000000</td>\n",
              "      <td>432.000000</td>\n",
              "      <td>432.000000</td>\n",
              "      <td>432.000000</td>\n",
              "      <td>432.000000</td>\n",
              "      <td>432.000000</td>\n",
              "      <td>432.000000</td>\n",
              "      <td>432.000000</td>\n",
              "      <td>432.000000</td>\n",
              "      <td>432.000000</td>\n",
              "      <td>432.000000</td>\n",
              "      <td>432.000000</td>\n",
              "    </tr>\n",
              "    <tr>\n",
              "      <th>mean</th>\n",
              "      <td>-0.060677</td>\n",
              "      <td>-0.054515</td>\n",
              "      <td>-0.057138</td>\n",
              "      <td>-0.058946</td>\n",
              "      <td>-0.041671</td>\n",
              "      <td>0.024249</td>\n",
              "      <td>0.055454</td>\n",
              "      <td>0.030869</td>\n",
              "      <td>0.019984</td>\n",
              "      <td>0.058401</td>\n",
              "      <td>0.014105</td>\n",
              "      <td>-0.096999</td>\n",
              "      <td>-0.068072</td>\n",
              "      <td>-0.049620</td>\n",
              "      <td>-0.035602</td>\n",
              "    </tr>\n",
              "    <tr>\n",
              "      <th>std</th>\n",
              "      <td>1.026405</td>\n",
              "      <td>1.027347</td>\n",
              "      <td>1.032128</td>\n",
              "      <td>1.022256</td>\n",
              "      <td>1.017789</td>\n",
              "      <td>1.008342</td>\n",
              "      <td>1.099444</td>\n",
              "      <td>1.043850</td>\n",
              "      <td>0.991610</td>\n",
              "      <td>1.150688</td>\n",
              "      <td>0.955381</td>\n",
              "      <td>0.900826</td>\n",
              "      <td>0.900138</td>\n",
              "      <td>0.975899</td>\n",
              "      <td>1.027125</td>\n",
              "    </tr>\n",
              "    <tr>\n",
              "      <th>min</th>\n",
              "      <td>-2.428915</td>\n",
              "      <td>-2.212953</td>\n",
              "      <td>-2.609824</td>\n",
              "      <td>-2.524454</td>\n",
              "      <td>-2.599875</td>\n",
              "      <td>-0.299779</td>\n",
              "      <td>-0.312543</td>\n",
              "      <td>-0.280822</td>\n",
              "      <td>-0.287191</td>\n",
              "      <td>-0.243477</td>\n",
              "      <td>-1.410670</td>\n",
              "      <td>-1.513894</td>\n",
              "      <td>-1.185537</td>\n",
              "      <td>-0.894049</td>\n",
              "      <td>-1.084916</td>\n",
              "    </tr>\n",
              "    <tr>\n",
              "      <th>25%</th>\n",
              "      <td>-0.759531</td>\n",
              "      <td>-0.784665</td>\n",
              "      <td>-0.779672</td>\n",
              "      <td>-0.774437</td>\n",
              "      <td>-0.781988</td>\n",
              "      <td>-0.299779</td>\n",
              "      <td>-0.312543</td>\n",
              "      <td>-0.280822</td>\n",
              "      <td>-0.287191</td>\n",
              "      <td>-0.243477</td>\n",
              "      <td>-0.679452</td>\n",
              "      <td>-0.788044</td>\n",
              "      <td>-0.759761</td>\n",
              "      <td>-0.894049</td>\n",
              "      <td>-0.846670</td>\n",
              "    </tr>\n",
              "    <tr>\n",
              "      <th>50%</th>\n",
              "      <td>-0.188982</td>\n",
              "      <td>-0.240555</td>\n",
              "      <td>-0.216548</td>\n",
              "      <td>-0.203003</td>\n",
              "      <td>-0.163532</td>\n",
              "      <td>-0.299779</td>\n",
              "      <td>-0.312543</td>\n",
              "      <td>-0.280822</td>\n",
              "      <td>-0.287191</td>\n",
              "      <td>-0.243477</td>\n",
              "      <td>-0.131038</td>\n",
              "      <td>-0.062194</td>\n",
              "      <td>-0.333985</td>\n",
              "      <td>-0.349582</td>\n",
              "      <td>-0.290761</td>\n",
              "    </tr>\n",
              "    <tr>\n",
              "      <th>75%</th>\n",
              "      <td>0.698539</td>\n",
              "      <td>0.643623</td>\n",
              "      <td>0.675064</td>\n",
              "      <td>0.689863</td>\n",
              "      <td>0.754782</td>\n",
              "      <td>-0.299779</td>\n",
              "      <td>-0.312543</td>\n",
              "      <td>-0.280822</td>\n",
              "      <td>-0.287191</td>\n",
              "      <td>-0.243477</td>\n",
              "      <td>0.600180</td>\n",
              "      <td>0.456270</td>\n",
              "      <td>0.517568</td>\n",
              "      <td>0.557865</td>\n",
              "      <td>0.503394</td>\n",
              "    </tr>\n",
              "    <tr>\n",
              "      <th>max</th>\n",
              "      <td>2.283397</td>\n",
              "      <td>2.502665</td>\n",
              "      <td>2.552143</td>\n",
              "      <td>2.297021</td>\n",
              "      <td>2.347776</td>\n",
              "      <td>5.237126</td>\n",
              "      <td>5.073973</td>\n",
              "      <td>4.715045</td>\n",
              "      <td>5.471924</td>\n",
              "      <td>5.646064</td>\n",
              "      <td>4.804686</td>\n",
              "      <td>3.152284</td>\n",
              "      <td>3.583156</td>\n",
              "      <td>3.461693</td>\n",
              "      <td>3.362351</td>\n",
              "    </tr>\n",
              "  </tbody>\n",
              "</table>\n",
              "</div>"
            ],
            "text/plain": [
              "              X00         X07         X28  ...         X18         X24         X26\n",
              "count  432.000000  432.000000  432.000000  ...  432.000000  432.000000  432.000000\n",
              "mean    -0.060677   -0.054515   -0.057138  ...   -0.068072   -0.049620   -0.035602\n",
              "std      1.026405    1.027347    1.032128  ...    0.900138    0.975899    1.027125\n",
              "min     -2.428915   -2.212953   -2.609824  ...   -1.185537   -0.894049   -1.084916\n",
              "25%     -0.759531   -0.784665   -0.779672  ...   -0.759761   -0.894049   -0.846670\n",
              "50%     -0.188982   -0.240555   -0.216548  ...   -0.333985   -0.349582   -0.290761\n",
              "75%      0.698539    0.643623    0.675064  ...    0.517568    0.557865    0.503394\n",
              "max      2.283397    2.502665    2.552143  ...    3.583156    3.461693    3.362351\n",
              "\n",
              "[8 rows x 15 columns]"
            ]
          },
          "metadata": {
            "tags": []
          },
          "execution_count": 152
        }
      ]
    },
    {
      "cell_type": "code",
      "metadata": {
        "id": "S8jyLVnpusr3",
        "colab_type": "code",
        "colab": {
          "base_uri": "https://localhost:8080/",
          "height": 320
        },
        "outputId": "6c6333fd-ab97-4e84-de91-4ba84292f741"
      },
      "source": [
        "normed_test_80.describe()"
      ],
      "execution_count": 153,
      "outputs": [
        {
          "output_type": "execute_result",
          "data": {
            "text/html": [
              "<div>\n",
              "<style scoped>\n",
              "    .dataframe tbody tr th:only-of-type {\n",
              "        vertical-align: middle;\n",
              "    }\n",
              "\n",
              "    .dataframe tbody tr th {\n",
              "        vertical-align: top;\n",
              "    }\n",
              "\n",
              "    .dataframe thead th {\n",
              "        text-align: right;\n",
              "    }\n",
              "</style>\n",
              "<table border=\"1\" class=\"dataframe\">\n",
              "  <thead>\n",
              "    <tr style=\"text-align: right;\">\n",
              "      <th></th>\n",
              "      <th>X00</th>\n",
              "      <th>X07</th>\n",
              "      <th>X28</th>\n",
              "      <th>X31</th>\n",
              "      <th>X32</th>\n",
              "      <th>X04</th>\n",
              "      <th>X10</th>\n",
              "      <th>X21</th>\n",
              "      <th>X36</th>\n",
              "      <th>X39</th>\n",
              "      <th>X02</th>\n",
              "      <th>X03</th>\n",
              "      <th>X18</th>\n",
              "      <th>X24</th>\n",
              "      <th>X26</th>\n",
              "    </tr>\n",
              "  </thead>\n",
              "  <tbody>\n",
              "    <tr>\n",
              "      <th>count</th>\n",
              "      <td>11520.000000</td>\n",
              "      <td>11520.000000</td>\n",
              "      <td>11520.000000</td>\n",
              "      <td>11520.000000</td>\n",
              "      <td>11520.000000</td>\n",
              "      <td>11520.000000</td>\n",
              "      <td>11520.000000</td>\n",
              "      <td>11520.000000</td>\n",
              "      <td>11520.000000</td>\n",
              "      <td>11520.000000</td>\n",
              "      <td>11520.000000</td>\n",
              "      <td>11520.000000</td>\n",
              "      <td>11520.000000</td>\n",
              "      <td>11520.000000</td>\n",
              "      <td>11520.000000</td>\n",
              "    </tr>\n",
              "    <tr>\n",
              "      <th>mean</th>\n",
              "      <td>1.088546</td>\n",
              "      <td>1.036369</td>\n",
              "      <td>1.066611</td>\n",
              "      <td>0.876363</td>\n",
              "      <td>0.889700</td>\n",
              "      <td>0.218444</td>\n",
              "      <td>0.476251</td>\n",
              "      <td>0.396497</td>\n",
              "      <td>0.101252</td>\n",
              "      <td>0.247218</td>\n",
              "      <td>-0.130094</td>\n",
              "      <td>0.020175</td>\n",
              "      <td>-0.031942</td>\n",
              "      <td>0.138281</td>\n",
              "      <td>-0.012966</td>\n",
              "    </tr>\n",
              "    <tr>\n",
              "      <th>std</th>\n",
              "      <td>0.808145</td>\n",
              "      <td>0.796576</td>\n",
              "      <td>0.827771</td>\n",
              "      <td>0.721606</td>\n",
              "      <td>0.753634</td>\n",
              "      <td>1.380447</td>\n",
              "      <td>2.473354</td>\n",
              "      <td>2.023973</td>\n",
              "      <td>1.467996</td>\n",
              "      <td>1.386498</td>\n",
              "      <td>1.257887</td>\n",
              "      <td>1.127184</td>\n",
              "      <td>1.065454</td>\n",
              "      <td>0.961893</td>\n",
              "      <td>1.014163</td>\n",
              "    </tr>\n",
              "    <tr>\n",
              "      <th>min</th>\n",
              "      <td>-0.949714</td>\n",
              "      <td>-0.943364</td>\n",
              "      <td>-0.756209</td>\n",
              "      <td>-0.970867</td>\n",
              "      <td>-0.875693</td>\n",
              "      <td>-0.299779</td>\n",
              "      <td>-0.312543</td>\n",
              "      <td>-0.280822</td>\n",
              "      <td>-0.287191</td>\n",
              "      <td>-0.243477</td>\n",
              "      <td>-1.410670</td>\n",
              "      <td>-1.513894</td>\n",
              "      <td>-1.185537</td>\n",
              "      <td>-0.894049</td>\n",
              "      <td>-1.084916</td>\n",
              "    </tr>\n",
              "    <tr>\n",
              "      <th>25%</th>\n",
              "      <td>0.487224</td>\n",
              "      <td>0.416911</td>\n",
              "      <td>0.416966</td>\n",
              "      <td>0.332716</td>\n",
              "      <td>0.304996</td>\n",
              "      <td>-0.299779</td>\n",
              "      <td>-0.312543</td>\n",
              "      <td>-0.280822</td>\n",
              "      <td>-0.287191</td>\n",
              "      <td>-0.243477</td>\n",
              "      <td>-1.045061</td>\n",
              "      <td>-0.788044</td>\n",
              "      <td>-0.844916</td>\n",
              "      <td>-0.621815</td>\n",
              "      <td>-0.846670</td>\n",
              "    </tr>\n",
              "    <tr>\n",
              "      <th>50%</th>\n",
              "      <td>1.121168</td>\n",
              "      <td>1.051705</td>\n",
              "      <td>1.073943</td>\n",
              "      <td>0.868436</td>\n",
              "      <td>0.885970</td>\n",
              "      <td>-0.299779</td>\n",
              "      <td>-0.312543</td>\n",
              "      <td>-0.280822</td>\n",
              "      <td>-0.287191</td>\n",
              "      <td>-0.243477</td>\n",
              "      <td>-0.405245</td>\n",
              "      <td>-0.165887</td>\n",
              "      <td>-0.333985</td>\n",
              "      <td>-0.077348</td>\n",
              "      <td>-0.211346</td>\n",
              "    </tr>\n",
              "    <tr>\n",
              "      <th>75%</th>\n",
              "      <td>1.607191</td>\n",
              "      <td>1.550472</td>\n",
              "      <td>1.613603</td>\n",
              "      <td>1.350583</td>\n",
              "      <td>1.410721</td>\n",
              "      <td>-0.148379</td>\n",
              "      <td>-0.166962</td>\n",
              "      <td>-0.042923</td>\n",
              "      <td>-0.270051</td>\n",
              "      <td>-0.138307</td>\n",
              "      <td>0.417376</td>\n",
              "      <td>0.559963</td>\n",
              "      <td>0.602723</td>\n",
              "      <td>0.648609</td>\n",
              "      <td>0.503394</td>\n",
              "    </tr>\n",
              "    <tr>\n",
              "      <th>max</th>\n",
              "      <td>3.445626</td>\n",
              "      <td>3.296158</td>\n",
              "      <td>3.420292</td>\n",
              "      <td>2.797026</td>\n",
              "      <td>3.003715</td>\n",
              "      <td>9.757489</td>\n",
              "      <td>16.283750</td>\n",
              "      <td>15.063626</td>\n",
              "      <td>16.458807</td>\n",
              "      <td>16.478611</td>\n",
              "      <td>8.643583</td>\n",
              "      <td>9.788625</td>\n",
              "      <td>7.585452</td>\n",
              "      <td>8.089670</td>\n",
              "      <td>8.365528</td>\n",
              "    </tr>\n",
              "  </tbody>\n",
              "</table>\n",
              "</div>"
            ],
            "text/plain": [
              "                X00           X07  ...           X24           X26\n",
              "count  11520.000000  11520.000000  ...  11520.000000  11520.000000\n",
              "mean       1.088546      1.036369  ...      0.138281     -0.012966\n",
              "std        0.808145      0.796576  ...      0.961893      1.014163\n",
              "min       -0.949714     -0.943364  ...     -0.894049     -1.084916\n",
              "25%        0.487224      0.416911  ...     -0.621815     -0.846670\n",
              "50%        1.121168      1.051705  ...     -0.077348     -0.211346\n",
              "75%        1.607191      1.550472  ...      0.648609      0.503394\n",
              "max        3.445626      3.296158  ...      8.089670      8.365528\n",
              "\n",
              "[8 rows x 15 columns]"
            ]
          },
          "metadata": {
            "tags": []
          },
          "execution_count": 153
        }
      ]
    },
    {
      "cell_type": "markdown",
      "metadata": {
        "id": "E4jtHL4h5ZGb",
        "colab_type": "text"
      },
      "source": [
        ""
      ]
    },
    {
      "cell_type": "markdown",
      "metadata": {
        "id": "blZleRTghN7D",
        "colab_type": "text"
      },
      "source": [
        "## model"
      ]
    },
    {
      "cell_type": "markdown",
      "metadata": {
        "id": "-dnS-re6kqt9",
        "colab_type": "text"
      },
      "source": [
        "#### Build the model"
      ]
    },
    {
      "cell_type": "code",
      "metadata": {
        "id": "3MYJoUyZgrBG",
        "colab_type": "code",
        "colab": {}
      },
      "source": [
        "def build_model():\n",
        "    model = keras.Sequential([\n",
        "            layers.Dense(16, activation='selu', kernel_initializer='lecun_normal', input_shape=[len(normed_train_data.keys())]),\n",
        "            layers.Dense(5, activation='selu', kernel_initializer='lecun_normal'),\n",
        "            layers.Dense(1)\n",
        "    ])\n",
        "    optimizer = tf.keras.optimizers.Adam(learning_rate=0.001)\n",
        "    model.compile(loss='mse',\n",
        "                  optimizer=optimizer,\n",
        "                  metrics=['mae', 'mse'])\n",
        "    return model"
      ],
      "execution_count": 0,
      "outputs": []
    },
    {
      "cell_type": "code",
      "metadata": {
        "id": "nhQ3fuxugsAj",
        "colab_type": "code",
        "outputId": "dd5360a6-0ba8-4adb-a67e-5a752c584867",
        "colab": {
          "base_uri": "https://localhost:8080/",
          "height": 69
        }
      },
      "source": [
        "model = build_model()"
      ],
      "execution_count": 198,
      "outputs": [
        {
          "output_type": "stream",
          "text": [
            "Executing op TruncatedNormal in device /job:localhost/replica:0/task:0/device:GPU:0\n",
            "Executing op TruncatedNormal in device /job:localhost/replica:0/task:0/device:GPU:0\n",
            "Executing op RandomUniform in device /job:localhost/replica:0/task:0/device:GPU:0\n"
          ],
          "name": "stdout"
        }
      ]
    },
    {
      "cell_type": "markdown",
      "metadata": {
        "id": "ZNGxAIbmkwS4",
        "colab_type": "text"
      },
      "source": [
        "#### Inspect the model"
      ]
    },
    {
      "cell_type": "code",
      "metadata": {
        "id": "ReHuuhV0kgxc",
        "colab_type": "code",
        "outputId": "4614f861-c3aa-4de1-9e83-8a7be80137f3",
        "colab": {
          "base_uri": "https://localhost:8080/",
          "height": 260
        }
      },
      "source": [
        "model.summary()"
      ],
      "execution_count": 199,
      "outputs": [
        {
          "output_type": "stream",
          "text": [
            "Model: \"sequential_9\"\n",
            "_________________________________________________________________\n",
            "Layer (type)                 Output Shape              Param #   \n",
            "=================================================================\n",
            "dense_21 (Dense)             (None, 16)                256       \n",
            "_________________________________________________________________\n",
            "dense_22 (Dense)             (None, 5)                 85        \n",
            "_________________________________________________________________\n",
            "dense_23 (Dense)             (None, 1)                 6         \n",
            "=================================================================\n",
            "Total params: 347\n",
            "Trainable params: 347\n",
            "Non-trainable params: 0\n",
            "_________________________________________________________________\n"
          ],
          "name": "stdout"
        }
      ]
    },
    {
      "cell_type": "code",
      "metadata": {
        "id": "IFxWTJnskgrC",
        "colab_type": "code",
        "outputId": "a9240339-492a-44d8-e03f-d612e6f0f4db",
        "colab": {
          "base_uri": "https://localhost:8080/",
          "height": 159
        }
      },
      "source": [
        "example_batch = normed_train_data[:5]\n",
        "example_result = model.predict(example_batch)\n",
        "example_result"
      ],
      "execution_count": 200,
      "outputs": [
        {
          "output_type": "stream",
          "text": [
            "WARNING:tensorflow:Falling back from v2 loop because of error: Failed to find data adapter that can handle input: <class 'pandas.core.frame.DataFrame'>, <class 'NoneType'>\n",
            "Executing op __inference_keras_scratch_graph_1985554 in device /job:localhost/replica:0/task:0/device:GPU:0\n"
          ],
          "name": "stdout"
        },
        {
          "output_type": "execute_result",
          "data": {
            "text/plain": [
              "array([[ 1.2363994 ],\n",
              "       [ 0.8055856 ],\n",
              "       [-1.8342468 ],\n",
              "       [ 0.9663092 ],\n",
              "       [ 0.59164953]], dtype=float32)"
            ]
          },
          "metadata": {
            "tags": []
          },
          "execution_count": 200
        }
      ]
    },
    {
      "cell_type": "markdown",
      "metadata": {
        "id": "LtVCXxb-laIi",
        "colab_type": "text"
      },
      "source": [
        "#### Train the model"
      ]
    },
    {
      "cell_type": "code",
      "metadata": {
        "id": "u5wq3XPKbVT3",
        "colab_type": "code",
        "colab": {}
      },
      "source": [
        "# 에포크가 끝날 때마다 점(.)을 출력해 훈련 진행 과정을 표시합니다\n",
        "class PrintDot(keras.callbacks.Callback):\n",
        "  def on_epoch_end(self, epoch, logs):\n",
        "    if epoch % 100 == 0: print('')\n",
        "    print('.', end='')"
      ],
      "execution_count": 0,
      "outputs": []
    },
    {
      "cell_type": "code",
      "metadata": {
        "id": "IlR2IuofgsDu",
        "colab_type": "code",
        "outputId": "99ec1661-a6f7-4968-fb61-b6aeba29177f",
        "colab": {
          "base_uri": "https://localhost:8080/",
          "height": 211
        }
      },
      "source": [
        "EPOCHS = 600\n",
        "\n",
        "history = model.fit(\n",
        "  normed_train_data, train_labels,\n",
        "  epochs=EPOCHS, validation_split = 0.9, verbose=0,\n",
        "  callbacks=[PrintDot()])"
      ],
      "execution_count": 202,
      "outputs": [
        {
          "output_type": "stream",
          "text": [
            "WARNING:tensorflow:Falling back from v2 loop because of error: Failed to find data adapter that can handle input: <class 'pandas.core.frame.DataFrame'>, <class 'NoneType'>\n",
            "Executing op __inference_keras_scratch_graph_1986119 in device /job:localhost/replica:0/task:0/device:GPU:0\n",
            "Executing op __inference_keras_scratch_graph_1986288 in device /job:localhost/replica:0/task:0/device:GPU:0\n",
            "\n",
            "....................................................................................................\n",
            "....................................................................................................\n",
            "....................................................................................................\n",
            "....................................................................................................\n",
            "....................................................................................................\n",
            "...................................................................................................."
          ],
          "name": "stdout"
        }
      ]
    },
    {
      "cell_type": "code",
      "metadata": {
        "id": "XxXA1NYP0_PG",
        "colab_type": "code",
        "colab": {
          "base_uri": "https://localhost:8080/",
          "height": 237
        },
        "outputId": "1992735c-882a-476e-e6e1-62de2d347c51"
      },
      "source": [
        "hist = pd.DataFrame(history.history)\n",
        "hist['epoch'] = history.epoch\n",
        "hist[::100]"
      ],
      "execution_count": 203,
      "outputs": [
        {
          "output_type": "execute_result",
          "data": {
            "text/html": [
              "<div>\n",
              "<style scoped>\n",
              "    .dataframe tbody tr th:only-of-type {\n",
              "        vertical-align: middle;\n",
              "    }\n",
              "\n",
              "    .dataframe tbody tr th {\n",
              "        vertical-align: top;\n",
              "    }\n",
              "\n",
              "    .dataframe thead th {\n",
              "        text-align: right;\n",
              "    }\n",
              "</style>\n",
              "<table border=\"1\" class=\"dataframe\">\n",
              "  <thead>\n",
              "    <tr style=\"text-align: right;\">\n",
              "      <th></th>\n",
              "      <th>loss</th>\n",
              "      <th>mae</th>\n",
              "      <th>mse</th>\n",
              "      <th>val_loss</th>\n",
              "      <th>val_mae</th>\n",
              "      <th>val_mse</th>\n",
              "      <th>epoch</th>\n",
              "    </tr>\n",
              "  </thead>\n",
              "  <tbody>\n",
              "    <tr>\n",
              "      <th>0</th>\n",
              "      <td>564.384661</td>\n",
              "      <td>22.832447</td>\n",
              "      <td>564.384644</td>\n",
              "      <td>527.135363</td>\n",
              "      <td>22.068571</td>\n",
              "      <td>527.135376</td>\n",
              "      <td>0</td>\n",
              "    </tr>\n",
              "    <tr>\n",
              "      <th>100</th>\n",
              "      <td>6.205062</td>\n",
              "      <td>1.931748</td>\n",
              "      <td>6.205062</td>\n",
              "      <td>7.002457</td>\n",
              "      <td>2.054201</td>\n",
              "      <td>7.002456</td>\n",
              "      <td>100</td>\n",
              "    </tr>\n",
              "    <tr>\n",
              "      <th>200</th>\n",
              "      <td>4.393132</td>\n",
              "      <td>1.680083</td>\n",
              "      <td>4.393132</td>\n",
              "      <td>5.518221</td>\n",
              "      <td>1.871245</td>\n",
              "      <td>5.518223</td>\n",
              "      <td>200</td>\n",
              "    </tr>\n",
              "    <tr>\n",
              "      <th>300</th>\n",
              "      <td>3.750408</td>\n",
              "      <td>1.543677</td>\n",
              "      <td>3.750408</td>\n",
              "      <td>5.103476</td>\n",
              "      <td>1.786724</td>\n",
              "      <td>5.103476</td>\n",
              "      <td>300</td>\n",
              "    </tr>\n",
              "    <tr>\n",
              "      <th>400</th>\n",
              "      <td>3.349461</td>\n",
              "      <td>1.436854</td>\n",
              "      <td>3.349461</td>\n",
              "      <td>4.876770</td>\n",
              "      <td>1.731364</td>\n",
              "      <td>4.876770</td>\n",
              "      <td>400</td>\n",
              "    </tr>\n",
              "    <tr>\n",
              "      <th>500</th>\n",
              "      <td>3.206291</td>\n",
              "      <td>1.398688</td>\n",
              "      <td>3.206291</td>\n",
              "      <td>4.885908</td>\n",
              "      <td>1.727079</td>\n",
              "      <td>4.885909</td>\n",
              "      <td>500</td>\n",
              "    </tr>\n",
              "  </tbody>\n",
              "</table>\n",
              "</div>"
            ],
            "text/plain": [
              "           loss        mae         mse  ...    val_mae     val_mse  epoch\n",
              "0    564.384661  22.832447  564.384644  ...  22.068571  527.135376      0\n",
              "100    6.205062   1.931748    6.205062  ...   2.054201    7.002456    100\n",
              "200    4.393132   1.680083    4.393132  ...   1.871245    5.518223    200\n",
              "300    3.750408   1.543677    3.750408  ...   1.786724    5.103476    300\n",
              "400    3.349461   1.436854    3.349461  ...   1.731364    4.876770    400\n",
              "500    3.206291   1.398688    3.206291  ...   1.727079    4.885909    500\n",
              "\n",
              "[6 rows x 7 columns]"
            ]
          },
          "metadata": {
            "tags": []
          },
          "execution_count": 203
        }
      ]
    },
    {
      "cell_type": "code",
      "metadata": {
        "id": "5STN5MutNyzP",
        "colab_type": "code",
        "colab": {}
      },
      "source": [
        "def plot_history(history, ylim_mae=False, ylim_mse=False):\n",
        "    hist = pd.DataFrame(history.history)\n",
        "    hist['epoch'] = history.epoch\n",
        "\n",
        "    plt.figure(figsize=(20,6))\n",
        "\n",
        "    plt.subplot(1,2,1)\n",
        "    plt.xlabel('Epoch')\n",
        "    plt.ylabel('Mean Abs Error [Y]]')\n",
        "    plt.plot(hist['epoch'], hist['mae'],\n",
        "            label='Train Error')\n",
        "    plt.plot(hist['epoch'], hist['val_mae'],\n",
        "            label = 'Val Error')\n",
        "    if ylim_mae: \n",
        "        plt.ylim(ylim_mae)\n",
        "    else:\n",
        "        plt.ylim([0,5])\n",
        "    plt.legend()\n",
        "\n",
        "    plt.subplot(1,2,2)\n",
        "    plt.xlabel('Epoch')\n",
        "    plt.ylabel('Mean Square Error [$Y^2$]')\n",
        "    plt.plot(hist['epoch'], hist['mse'], label='Train Error')\n",
        "    plt.plot(hist['epoch'], hist['val_mse'], label = 'Val Error')\n",
        "    if ylim_mse: \n",
        "        plt.ylim(ylim_mse)\n",
        "    else:\n",
        "        plt.ylim([0,20])\n",
        "    plt.legend()\n",
        "    plt.show()"
      ],
      "execution_count": 0,
      "outputs": []
    },
    {
      "cell_type": "code",
      "metadata": {
        "id": "YvG-9__tkyQz",
        "colab_type": "code",
        "outputId": "19a9b87f-9096-4820-ebd4-7a277a1ac5e0",
        "colab": {
          "base_uri": "https://localhost:8080/",
          "height": 412
        }
      },
      "source": [
        "plot_history(history, [0, 3], [0, 10])"
      ],
      "execution_count": 205,
      "outputs": [
        {
          "output_type": "display_data",
          "data": {
            "image/png": "[encoded data removed]",
            "text/plain": [
              "<Figure size 1440x432 with 2 Axes>"
            ]
          },
          "metadata": {
            "tags": []
          }
        }
      ]
    },
    {
      "cell_type": "markdown",
      "metadata": {
        "id": "xUFEYL8Lntv2",
        "colab_type": "text"
      },
      "source": [
        "### Make predictions"
      ]
    },
    {
      "cell_type": "code",
      "metadata": {
        "id": "E9Wb4rQ6gsG2",
        "colab_type": "code",
        "outputId": "e6257649-684a-4500-f033-df14e65e7374",
        "colab": {
          "base_uri": "https://localhost:8080/",
          "height": 317
        }
      },
      "source": [
        "test_predictions = model.predict(normed_test_data).flatten()\n",
        "\n",
        "plt.scatter(test_labels, test_predictions)\n",
        "plt.xlabel('True Values [Y]')\n",
        "plt.ylabel('Predictions [Y]')\n",
        "plt.axis('equal')\n",
        "plt.axis('square')\n",
        "plt.xlim([0,plt.xlim()[1]])\n",
        "plt.ylim([0,plt.ylim()[1]])\n",
        "_ = plt.plot([-100, 100], [-100, 100])\n"
      ],
      "execution_count": 206,
      "outputs": [
        {
          "output_type": "stream",
          "text": [
            "WARNING:tensorflow:Falling back from v2 loop because of error: Failed to find data adapter that can handle input: <class 'pandas.core.frame.DataFrame'>, <class 'NoneType'>\n"
          ],
          "name": "stdout"
        },
        {
          "output_type": "display_data",
          "data": {
            "image/png": "[encoded data removed]",
            "text/plain": [
              "<Figure size 432x288 with 1 Axes>"
            ]
          },
          "metadata": {
            "tags": []
          }
        }
      ]
    },
    {
      "cell_type": "code",
      "metadata": {
        "id": "9xJODgKngsJ7",
        "colab_type": "code",
        "outputId": "06ae6f3d-151a-42d3-d363-52d3a09320cf",
        "colab": {
          "base_uri": "https://localhost:8080/",
          "height": 280
        }
      },
      "source": [
        "error = test_predictions - test_labels\n",
        "plt.hist(error, bins = 25)\n",
        "plt.xlabel(\"Prediction Error [Y]\")\n",
        "_ = plt.ylabel(\"Count\")"
      ],
      "execution_count": 207,
      "outputs": [
        {
          "output_type": "display_data",
          "data": {
            "image/png": "[encoded data removed]",
            "text/plain": [
              "<Figure size 432x288 with 1 Axes>"
            ]
          },
          "metadata": {
            "tags": []
          }
        }
      ]
    },
    {
      "cell_type": "markdown",
      "metadata": {
        "id": "hMZxpR2oMBNV",
        "colab_type": "text"
      },
      "source": [
        "#### 3일 예측해서 Y18과 비교해보기"
      ]
    },
    {
      "cell_type": "code",
      "metadata": {
        "id": "tdcX68llgsPi",
        "colab_type": "code",
        "outputId": "549503e1-76a6-43fd-b144-b45e184adc42",
        "colab": {
          "base_uri": "https://localhost:8080/",
          "height": 54
        }
      },
      "source": [
        "test = df[x_col][n:n+n//10]\n",
        "test_predictions = model.predict(normed_test_3).flatten()"
      ],
      "execution_count": 213,
      "outputs": [
        {
          "output_type": "stream",
          "text": [
            "WARNING:tensorflow:Falling back from v2 loop because of error: Failed to find data adapter that can handle input: <class 'pandas.core.frame.DataFrame'>, <class 'NoneType'>\n"
          ],
          "name": "stdout"
        }
      ]
    },
    {
      "cell_type": "code",
      "metadata": {
        "id": "ETX7pJpAMimn",
        "colab_type": "code",
        "outputId": "256a2947-92f9-418c-f8c2-7b7721f6c7a5",
        "colab": {
          "base_uri": "https://localhost:8080/",
          "height": 280
        }
      },
      "source": [
        "error = test_predictions-df['Y18'][n:n+n//10]\n",
        "error.mean()\n",
        "plt.hist(error, bins = 25)\n",
        "plt.xlabel(\"Prediction Error [MPG]\")\n",
        "_ = plt.ylabel(\"Count\")"
      ],
      "execution_count": 214,
      "outputs": [
        {
          "output_type": "display_data",
          "data": {
            "image/png": "[encoded data removed]",
            "text/plain": [
              "<Figure size 432x288 with 1 Axes>"
            ]
          },
          "metadata": {
            "tags": []
          }
        }
      ]
    },
    {
      "cell_type": "code",
      "metadata": {
        "id": "L3unvGDQMipf",
        "colab_type": "code",
        "outputId": "1ec57c32-20c1-43df-f02d-591cadffd571",
        "colab": {
          "base_uri": "https://localhost:8080/",
          "height": 851
        }
      },
      "source": [
        "error[abs(error)>7]"
      ],
      "execution_count": 215,
      "outputs": [
        {
          "output_type": "execute_result",
          "data": {
            "text/plain": [
              "4532    -7.084236\n",
              "4536    -8.413563\n",
              "4674    -7.691120\n",
              "4676    -8.572832\n",
              "4677   -10.155479\n",
              "4678    -9.748047\n",
              "4679   -10.983101\n",
              "4681    -7.311405\n",
              "4682    -7.002724\n",
              "4683    -7.906845\n",
              "4685    -7.568857\n",
              "4705    -7.362047\n",
              "4707    -8.071344\n",
              "4708    -7.711962\n",
              "4709    -7.861578\n",
              "4710    -7.286625\n",
              "4712    -8.372665\n",
              "4713    -9.382679\n",
              "4714   -10.093298\n",
              "4715    -7.480255\n",
              "4717    -8.469172\n",
              "4718    -8.238550\n",
              "4721    -7.137796\n",
              "4722    -8.020777\n",
              "4723    -8.429039\n",
              "4724    -8.586658\n",
              "4725    -7.575493\n",
              "4726    -7.494179\n",
              "4727    -7.407587\n",
              "4730    -7.591885\n",
              "4731    -7.145456\n",
              "4733   -11.497774\n",
              "4734   -17.032806\n",
              "4735   -19.717232\n",
              "4736   -13.583115\n",
              "4737   -16.776408\n",
              "4738   -17.326066\n",
              "4739   -15.214891\n",
              "4740   -17.153659\n",
              "4741   -15.652298\n",
              "4742   -13.396365\n",
              "4743   -15.902556\n",
              "4744   -14.035460\n",
              "4745   -10.555066\n",
              "4746    -9.149543\n",
              "4747    -8.415629\n",
              "4748    -7.877345\n",
              "Name: Y18, dtype: float64"
            ]
          },
          "metadata": {
            "tags": []
          },
          "execution_count": 215
        }
      ]
    },
    {
      "cell_type": "markdown",
      "metadata": {
        "id": "lfkUnMdh2ZKN",
        "colab_type": "text"
      },
      "source": [
        "#### 80일 예측 "
      ]
    },
    {
      "cell_type": "code",
      "metadata": {
        "id": "Lcigy2HCN6Ms",
        "colab_type": "code",
        "outputId": "6f3dd4e7-9d25-4a22-d7cf-cbffdc6a1347",
        "colab": {
          "base_uri": "https://localhost:8080/",
          "height": 54
        }
      },
      "source": [
        "test_predictions = model.predict(normed_test_80)"
      ],
      "execution_count": 218,
      "outputs": [
        {
          "output_type": "stream",
          "text": [
            "WARNING:tensorflow:Falling back from v2 loop because of error: Failed to find data adapter that can handle input: <class 'pandas.core.frame.DataFrame'>, <class 'NoneType'>\n"
          ],
          "name": "stdout"
        }
      ]
    },
    {
      "cell_type": "code",
      "metadata": {
        "id": "V4hPBeKZ3elK",
        "colab_type": "code",
        "colab": {}
      },
      "source": [
        "# 제출 파일 만들기\n",
        "submit = pd.DataFrame({'id':range(144*33, 144*113),\n",
        "              'Y18':test_predictions.reshape(1,-1)[0]})"
      ],
      "execution_count": 0,
      "outputs": []
    },
    {
      "cell_type": "code",
      "metadata": {
        "id": "4LcyHw2n3gId",
        "colab_type": "code",
        "colab": {}
      },
      "source": [
        "submit.to_csv('./results/baseline_result'+now+'.csv', index = False)"
      ],
      "execution_count": 0,
      "outputs": []
    },
    {
      "cell_type": "code",
      "metadata": {
        "id": "Wd3myaB_3wYB",
        "colab_type": "code",
        "colab": {}
      },
      "source": [
        ""
      ],
      "execution_count": 0,
      "outputs": []
    },
    {
      "cell_type": "markdown",
      "metadata": {
        "colab_type": "text",
        "id": "rtLKSo3h6oKj"
      },
      "source": [
        "## model2"
      ]
    },
    {
      "cell_type": "markdown",
      "metadata": {
        "colab_type": "text",
        "id": "y0dNXmvm6oLB"
      },
      "source": [
        "#### Build the model"
      ]
    },
    {
      "cell_type": "code",
      "metadata": {
        "colab_type": "code",
        "id": "dPKp97Or6oLK",
        "colab": {}
      },
      "source": [
        "def build_model2():\n",
        "    model = keras.Sequential([\n",
        "            layers.Dense(1, activation='linear', input_shape=[1]),\n",
        "            #layers.Dense(2, activation='relu'),\n",
        "            #layers.Dense(1)\n",
        "    ])\n",
        "    optimizer = tf.keras.optimizers.RMSprop(0.005)\n",
        "    model.compile(loss='mse',\n",
        "                  optimizer=optimizer,\n",
        "                  metrics=['mae', 'mse'])\n",
        "    return model"
      ],
      "execution_count": 0,
      "outputs": []
    },
    {
      "cell_type": "code",
      "metadata": {
        "colab_type": "code",
        "id": "vVkZDcZI6oLY",
        "outputId": "4d0fc9d3-4ea6-4171-933e-81f43d4939f9",
        "colab": {
          "base_uri": "https://localhost:8080/",
          "height": 34
        }
      },
      "source": [
        "model2 = build_model2()"
      ],
      "execution_count": 221,
      "outputs": [
        {
          "output_type": "stream",
          "text": [
            "Executing op RandomUniform in device /job:localhost/replica:0/task:0/device:GPU:0\n"
          ],
          "name": "stdout"
        }
      ]
    },
    {
      "cell_type": "markdown",
      "metadata": {
        "colab_type": "text",
        "id": "mtt-14v36oLh"
      },
      "source": [
        "#### Inspect the model"
      ]
    },
    {
      "cell_type": "code",
      "metadata": {
        "colab_type": "code",
        "outputId": "24cae68e-2bba-47a1-82d6-10c00a80d47d",
        "id": "nHxmZLN66oLj",
        "colab": {
          "base_uri": "https://localhost:8080/",
          "height": 191
        }
      },
      "source": [
        "model2.summary()"
      ],
      "execution_count": 83,
      "outputs": [
        {
          "output_type": "stream",
          "text": [
            "Model: \"sequential_3\"\n",
            "_________________________________________________________________\n",
            "Layer (type)                 Output Shape              Param #   \n",
            "=================================================================\n",
            "dense_5 (Dense)              (None, 1)                 2         \n",
            "=================================================================\n",
            "Total params: 2\n",
            "Trainable params: 2\n",
            "Non-trainable params: 0\n",
            "_________________________________________________________________\n"
          ],
          "name": "stdout"
        }
      ]
    },
    {
      "cell_type": "code",
      "metadata": {
        "colab_type": "code",
        "outputId": "e729562c-5839-43e4-e323-d04b38eb3df8",
        "id": "LkCqu1St6oLr",
        "colab": {
          "base_uri": "https://localhost:8080/",
          "height": 260
        }
      },
      "source": [
        "example_batch = test_predictions[:10]\n",
        "example_result = model2.predict(example_batch)\n",
        "example_result"
      ],
      "execution_count": 222,
      "outputs": [
        {
          "output_type": "stream",
          "text": [
            "Executing op MapDataset in device /job:localhost/replica:0/task:0/device:CPU:0\n",
            "Executing op FlatMapDataset in device /job:localhost/replica:0/task:0/device:CPU:0\n",
            "Executing op ParallelMapDataset in device /job:localhost/replica:0/task:0/device:CPU:0\n",
            "Executing op __inference_distributed_function_2368869 in device /job:localhost/replica:0/task:0/device:GPU:0\n"
          ],
          "name": "stdout"
        },
        {
          "output_type": "execute_result",
          "data": {
            "text/plain": [
              "array([[-18.329855],\n",
              "       [-18.924189],\n",
              "       [-18.840452],\n",
              "       [-18.378843],\n",
              "       [-18.47248 ],\n",
              "       [-18.24247 ],\n",
              "       [-18.682526],\n",
              "       [-18.365538],\n",
              "       [-18.55345 ],\n",
              "       [-17.922136]], dtype=float32)"
            ]
          },
          "metadata": {
            "tags": []
          },
          "execution_count": 222
        }
      ]
    },
    {
      "cell_type": "markdown",
      "metadata": {
        "colab_type": "text",
        "id": "VbDVQO5t6oLy"
      },
      "source": [
        "#### Train the model"
      ]
    },
    {
      "cell_type": "code",
      "metadata": {
        "colab_type": "code",
        "outputId": "77da8814-b3bb-43f3-acd4-4aedfe5dddbe",
        "id": "6tt51Un_6oLz",
        "colab": {
          "base_uri": "https://localhost:8080/",
          "height": 367
        }
      },
      "source": [
        "EPOCHS = 40\n",
        "## model1를 이용해 Yi를 예측한 결과를 train data로 이용\n",
        "## Y18을 test data로 함\n",
        "tmp_features =  model.predict(df[x_col][n:n+n//10])\n",
        "tmp_labels = np.array(df['Y18'][n:n+n//10])\n",
        "\n",
        "history = model2.fit(\n",
        "  tmp_features, tmp_labels,\n",
        "  epochs=EPOCHS, validation_split = 0.1, verbose=0,\n",
        "  callbacks=[PrintDot()])"
      ],
      "execution_count": 223,
      "outputs": [
        {
          "output_type": "stream",
          "text": [
            "WARNING:tensorflow:Falling back from v2 loop because of error: Failed to find data adapter that can handle input: <class 'pandas.core.frame.DataFrame'>, <class 'NoneType'>\n",
            "Executing op MapDataset in device /job:localhost/replica:0/task:0/device:CPU:0\n",
            "Executing op FlatMapDataset in device /job:localhost/replica:0/task:0/device:CPU:0\n",
            "Executing op ParallelMapDataset in device /job:localhost/replica:0/task:0/device:CPU:0\n",
            "Executing op MapDataset in device /job:localhost/replica:0/task:0/device:CPU:0\n",
            "Executing op FlatMapDataset in device /job:localhost/replica:0/task:0/device:CPU:0\n",
            "Executing op ParallelMapDataset in device /job:localhost/replica:0/task:0/device:CPU:0\n",
            "Executing op VarHandleOp in device /job:localhost/replica:0/task:0/device:GPU:0\n",
            "Executing op VarHandleOp in device /job:localhost/replica:0/task:0/device:GPU:0\n",
            "Executing op VarHandleOp in device /job:localhost/replica:0/task:0/device:GPU:0\n",
            "Executing op VarHandleOp in device /job:localhost/replica:0/task:0/device:GPU:0\n",
            "Executing op VarHandleOp in device /job:localhost/replica:0/task:0/device:GPU:0\n",
            "Executing op VarHandleOp in device /job:localhost/replica:0/task:0/device:GPU:0\n",
            "Executing op VarHandleOp in device /job:localhost/replica:0/task:0/device:GPU:0\n",
            "Executing op __inference_initialize_variables_2369269 in device /job:localhost/replica:0/task:0/device:GPU:0\n",
            "Executing op __inference_distributed_function_2369461 in device /job:localhost/replica:0/task:0/device:GPU:0\n",
            "Executing op __inference_distributed_function_2369598 in device /job:localhost/replica:0/task:0/device:GPU:0\n",
            "\n",
            "........................................"
          ],
          "name": "stdout"
        }
      ]
    },
    {
      "cell_type": "code",
      "metadata": {
        "colab_type": "code",
        "outputId": "737cb7ab-9c94-4f69-efab-0fe106bcec0c",
        "id": "wwxKEtPo6oL5",
        "colab": {
          "base_uri": "https://localhost:8080/",
          "height": 300
        }
      },
      "source": [
        "hist = pd.DataFrame(history.history)\n",
        "hist['epoch'] = history.epoch\n",
        "hist[::5]"
      ],
      "execution_count": 225,
      "outputs": [
        {
          "output_type": "execute_result",
          "data": {
            "text/html": [
              "<div>\n",
              "<style scoped>\n",
              "    .dataframe tbody tr th:only-of-type {\n",
              "        vertical-align: middle;\n",
              "    }\n",
              "\n",
              "    .dataframe tbody tr th {\n",
              "        vertical-align: top;\n",
              "    }\n",
              "\n",
              "    .dataframe thead th {\n",
              "        text-align: right;\n",
              "    }\n",
              "</style>\n",
              "<table border=\"1\" class=\"dataframe\">\n",
              "  <thead>\n",
              "    <tr style=\"text-align: right;\">\n",
              "      <th></th>\n",
              "      <th>loss</th>\n",
              "      <th>mae</th>\n",
              "      <th>mse</th>\n",
              "      <th>val_loss</th>\n",
              "      <th>val_mae</th>\n",
              "      <th>val_mse</th>\n",
              "      <th>epoch</th>\n",
              "    </tr>\n",
              "  </thead>\n",
              "  <tbody>\n",
              "    <tr>\n",
              "      <th>0</th>\n",
              "      <td>8482.199662</td>\n",
              "      <td>90.162666</td>\n",
              "      <td>8482.200195</td>\n",
              "      <td>1691.309982</td>\n",
              "      <td>35.427006</td>\n",
              "      <td>1691.310059</td>\n",
              "      <td>0</td>\n",
              "    </tr>\n",
              "    <tr>\n",
              "      <th>5</th>\n",
              "      <td>4643.417969</td>\n",
              "      <td>66.660912</td>\n",
              "      <td>4643.417480</td>\n",
              "      <td>1177.943147</td>\n",
              "      <td>31.229469</td>\n",
              "      <td>1177.943237</td>\n",
              "      <td>5</td>\n",
              "    </tr>\n",
              "    <tr>\n",
              "      <th>10</th>\n",
              "      <td>2114.554010</td>\n",
              "      <td>44.889393</td>\n",
              "      <td>2114.553955</td>\n",
              "      <td>803.041163</td>\n",
              "      <td>27.208801</td>\n",
              "      <td>803.041199</td>\n",
              "      <td>10</td>\n",
              "    </tr>\n",
              "    <tr>\n",
              "      <th>15</th>\n",
              "      <td>612.957045</td>\n",
              "      <td>23.927532</td>\n",
              "      <td>612.957031</td>\n",
              "      <td>549.229867</td>\n",
              "      <td>23.321611</td>\n",
              "      <td>549.229858</td>\n",
              "      <td>15</td>\n",
              "    </tr>\n",
              "    <tr>\n",
              "      <th>20</th>\n",
              "      <td>44.018267</td>\n",
              "      <td>5.341160</td>\n",
              "      <td>44.018261</td>\n",
              "      <td>416.570263</td>\n",
              "      <td>19.984913</td>\n",
              "      <td>416.570282</td>\n",
              "      <td>20</td>\n",
              "    </tr>\n",
              "    <tr>\n",
              "      <th>25</th>\n",
              "      <td>13.343973</td>\n",
              "      <td>2.789598</td>\n",
              "      <td>13.343971</td>\n",
              "      <td>400.105968</td>\n",
              "      <td>19.338020</td>\n",
              "      <td>400.105957</td>\n",
              "      <td>25</td>\n",
              "    </tr>\n",
              "    <tr>\n",
              "      <th>30</th>\n",
              "      <td>13.482336</td>\n",
              "      <td>2.808295</td>\n",
              "      <td>13.482336</td>\n",
              "      <td>401.925754</td>\n",
              "      <td>19.403662</td>\n",
              "      <td>401.925781</td>\n",
              "      <td>30</td>\n",
              "    </tr>\n",
              "    <tr>\n",
              "      <th>35</th>\n",
              "      <td>13.458938</td>\n",
              "      <td>2.747085</td>\n",
              "      <td>13.458938</td>\n",
              "      <td>397.131065</td>\n",
              "      <td>19.186634</td>\n",
              "      <td>397.131042</td>\n",
              "      <td>35</td>\n",
              "    </tr>\n",
              "  </tbody>\n",
              "</table>\n",
              "</div>"
            ],
            "text/plain": [
              "           loss        mae          mse  ...    val_mae      val_mse  epoch\n",
              "0   8482.199662  90.162666  8482.200195  ...  35.427006  1691.310059      0\n",
              "5   4643.417969  66.660912  4643.417480  ...  31.229469  1177.943237      5\n",
              "10  2114.554010  44.889393  2114.553955  ...  27.208801   803.041199     10\n",
              "15   612.957045  23.927532   612.957031  ...  23.321611   549.229858     15\n",
              "20    44.018267   5.341160    44.018261  ...  19.984913   416.570282     20\n",
              "25    13.343973   2.789598    13.343971  ...  19.338020   400.105957     25\n",
              "30    13.482336   2.808295    13.482336  ...  19.403662   401.925781     30\n",
              "35    13.458938   2.747085    13.458938  ...  19.186634   397.131042     35\n",
              "\n",
              "[8 rows x 7 columns]"
            ]
          },
          "metadata": {
            "tags": []
          },
          "execution_count": 225
        }
      ]
    },
    {
      "cell_type": "code",
      "metadata": {
        "id": "83WP5HS4C00g",
        "colab_type": "code",
        "outputId": "bb1605e4-dd81-44b7-8c28-734de9b86ce4",
        "colab": {
          "base_uri": "https://localhost:8080/",
          "height": 412
        }
      },
      "source": [
        "plot_history(history, ylim_mae=(0, 50), ylim_mse=(0, 300))"
      ],
      "execution_count": 230,
      "outputs": [
        {
          "output_type": "display_data",
          "data": {
            "image/png": "[encoded data removed]",
            "text/plain": [
              "<Figure size 1440x432 with 2 Axes>"
            ]
          },
          "metadata": {
            "tags": []
          }
        }
      ]
    },
    {
      "cell_type": "markdown",
      "metadata": {
        "colab_type": "text",
        "id": "JHOm0kuk60fB"
      },
      "source": [
        "### Make predictions"
      ]
    },
    {
      "cell_type": "markdown",
      "metadata": {
        "colab_type": "text",
        "id": "9iDQ8uUr60f0"
      },
      "source": [
        "#### 80일 예측 "
      ]
    },
    {
      "cell_type": "markdown",
      "metadata": {
        "colab_type": "text",
        "id": "33vNp3rk5kzu"
      },
      "source": [
        "# model- 복잡 "
      ]
    },
    {
      "cell_type": "markdown",
      "metadata": {
        "colab_type": "text",
        "id": "klq54vW25kzy"
      },
      "source": [
        "간단한 모델을 구성해보자  \n",
        "\n",
        "\n",
        "1.   X 중 기온 데이터인 feat_temp만 사용해서 Y00~17의 온도를 추정하는 모델 만들기 \n",
        "2.   1번에서 만든 모델로 Y00 ~ Y17의 비어있는 3일간의 데이터를 예측  \n",
        "3.   2번에서 추정한 Y00 ~ Y17의 온도, Y18을 이용해서 Y00~17로 Y18을 추정하는 모델 만들기\n",
        "4.   test data에 대해 1번에서 만든 모델로 Y00 ~ Y17을 예측. 예측한 Y00 ~ Y17과 3번에서 만든 모델로 Y18 온도를 예측  \n",
        "\n"
      ]
    },
    {
      "cell_type": "markdown",
      "metadata": {
        "colab_type": "text",
        "id": "fur69Mnp5kz1"
      },
      "source": [
        "## 1.\n",
        "df_y_g4에 대해 모델링 해보기 (X 5군데와 전체적으로 유사해서 선택함) "
      ]
    },
    {
      "cell_type": "markdown",
      "metadata": {
        "colab_type": "text",
        "id": "F9VLm1SN5kz4"
      },
      "source": [
        "데이터셋  \n",
        "* X_feat_temp 와 Y00-Y17, 모두 존재하는 rows는 4320 개.  \n",
        "* 해당 시점에 Y00-Y17 지역의 온도를 추정할 것이므로 시리즈 데이터로 보지 않음.\n",
        "* 모든 features를 사용하지는 않고 feat_temp만 사용.\n",
        "* 모든 지역을 맞추기보다 그룹화 된 지역의 평균 온도를 타겟으로 함.   \n",
        "* 즉, feat_temp = ['X00', 'X07', 'X28', 'X31', 'X32']를 features로 보고, mean(['Y13','Y01', 'Y02'])을 target으로 하는 모델을 구성할 것.\n",
        "* train 90%, test 10%\n"
      ]
    },
    {
      "cell_type": "markdown",
      "metadata": {
        "colab_type": "text",
        "id": "nY5c8jDC5kz6"
      },
      "source": [
        "### dataset "
      ]
    },
    {
      "cell_type": "markdown",
      "metadata": {
        "colab_type": "text",
        "id": "N7Jp0hcI5kz7"
      },
      "source": [
        "#### Split the data into train and test"
      ]
    },
    {
      "cell_type": "code",
      "metadata": {
        "colab_type": "code",
        "id": "9CwLFKTE5kz-",
        "colab": {}
      },
      "source": [
        "## \n",
        "frac = 0.9 # train data 비율 "
      ],
      "execution_count": 0,
      "outputs": []
    },
    {
      "cell_type": "code",
      "metadata": {
        "colab_type": "code",
        "id": "_9lPsp2Y5k0E",
        "colab": {}
      },
      "source": [
        "## y_col : y_col인 컬럼들의 평균을 타겟 값으로 할 것.\n",
        "y_col = ['Y15', 'Y16'] ##list(df_y_g3.columns)\n",
        "x_col = feat_temp + feat_rainfall + feat_wind_speed"
      ],
      "execution_count": 0,
      "outputs": []
    },
    {
      "cell_type": "code",
      "metadata": {
        "colab_type": "code",
        "id": "o6nnhayz5k0J",
        "colab": {}
      },
      "source": [
        "dataset = df[x_col+y_col][:n]\n",
        "dataset['Y']= df[y_col].mean(axis=1)\n",
        "dataset = dataset.drop(y_col, axis=1)\n",
        "\n",
        "test_80_dataset = df_test[x_col]\n",
        "\n",
        "test_3_dataset = df[x_col][n:n+n//10]"
      ],
      "execution_count": 0,
      "outputs": []
    },
    {
      "cell_type": "code",
      "metadata": {
        "colab_type": "code",
        "id": "YfjzRhqm5k0Q",
        "colab": {}
      },
      "source": [
        "train_dataset = dataset.sample(frac=frac,random_state=0)\n",
        "test_dataset = dataset.drop(train_dataset.index)"
      ],
      "execution_count": 0,
      "outputs": []
    },
    {
      "cell_type": "code",
      "metadata": {
        "colab_type": "code",
        "outputId": "0ec8df46-3b3d-4769-f93e-c8e43820a145",
        "id": "QXW3wYBa5k0V",
        "colab": {
          "base_uri": "https://localhost:8080/",
          "height": 34
        }
      },
      "source": [
        "train_dataset.shape, test_dataset.shape, test_80_dataset.shape"
      ],
      "execution_count": 244,
      "outputs": [
        {
          "output_type": "execute_result",
          "data": {
            "text/plain": [
              "((3888, 16), (432, 16), (11520, 15))"
            ]
          },
          "metadata": {
            "tags": []
          },
          "execution_count": 244
        }
      ]
    },
    {
      "cell_type": "markdown",
      "metadata": {
        "colab_type": "text",
        "id": "Axt7w5P95k0b"
      },
      "source": [
        "#### Split features from labels"
      ]
    },
    {
      "cell_type": "code",
      "metadata": {
        "colab_type": "code",
        "id": "rt_CDnrV5k0b",
        "colab": {}
      },
      "source": [
        "train_labels = train_dataset.pop('Y')\n",
        "test_labels = test_dataset.pop('Y')"
      ],
      "execution_count": 0,
      "outputs": []
    },
    {
      "cell_type": "code",
      "metadata": {
        "colab_type": "code",
        "outputId": "a07d279d-e177-43a1-df07-72f08ed65d65",
        "id": "shAjO4N35k0g",
        "colab": {
          "base_uri": "https://localhost:8080/",
          "height": 34
        }
      },
      "source": [
        "train_dataset.shape, test_dataset.shape"
      ],
      "execution_count": 246,
      "outputs": [
        {
          "output_type": "execute_result",
          "data": {
            "text/plain": [
              "((3888, 15), (432, 15))"
            ]
          },
          "metadata": {
            "tags": []
          },
          "execution_count": 246
        }
      ]
    },
    {
      "cell_type": "code",
      "metadata": {
        "colab_type": "code",
        "outputId": "3ffd0adb-3adc-4532-d432-d2f93bc72f23",
        "id": "ZH4iyY8S5k0m",
        "colab": {
          "base_uri": "https://localhost:8080/",
          "height": 34
        }
      },
      "source": [
        "train_labels.shape, test_labels.shape"
      ],
      "execution_count": 247,
      "outputs": [
        {
          "output_type": "execute_result",
          "data": {
            "text/plain": [
              "((3888,), (432,))"
            ]
          },
          "metadata": {
            "tags": []
          },
          "execution_count": 247
        }
      ]
    },
    {
      "cell_type": "code",
      "metadata": {
        "colab_type": "code",
        "outputId": "c1a0f0ca-b461-41df-df8a-ab738a8b3099",
        "id": "ws9SDxZL5k0r",
        "colab": {
          "base_uri": "https://localhost:8080/",
          "height": 34
        }
      },
      "source": [
        "len(train_dataset.keys())"
      ],
      "execution_count": 248,
      "outputs": [
        {
          "output_type": "execute_result",
          "data": {
            "text/plain": [
              "15"
            ]
          },
          "metadata": {
            "tags": []
          },
          "execution_count": 248
        }
      ]
    },
    {
      "cell_type": "markdown",
      "metadata": {
        "colab_type": "text",
        "id": "09pShdsz5k0v"
      },
      "source": [
        "## Normalize the data"
      ]
    },
    {
      "cell_type": "code",
      "metadata": {
        "colab_type": "code",
        "outputId": "01b7a12b-6de6-4ccd-87d1-0980b68b2329",
        "id": "3CgZgHHa5k0v",
        "colab": {
          "base_uri": "https://localhost:8080/",
          "height": 520
        }
      },
      "source": [
        "train_stats = train_dataset.describe().transpose()\n",
        "train_stats"
      ],
      "execution_count": 249,
      "outputs": [
        {
          "output_type": "execute_result",
          "data": {
            "text/html": [
              "<div>\n",
              "<style scoped>\n",
              "    .dataframe tbody tr th:only-of-type {\n",
              "        vertical-align: middle;\n",
              "    }\n",
              "\n",
              "    .dataframe tbody tr th {\n",
              "        vertical-align: top;\n",
              "    }\n",
              "\n",
              "    .dataframe thead th {\n",
              "        text-align: right;\n",
              "    }\n",
              "</style>\n",
              "<table border=\"1\" class=\"dataframe\">\n",
              "  <thead>\n",
              "    <tr style=\"text-align: right;\">\n",
              "      <th></th>\n",
              "      <th>count</th>\n",
              "      <th>mean</th>\n",
              "      <th>std</th>\n",
              "      <th>min</th>\n",
              "      <th>25%</th>\n",
              "      <th>50%</th>\n",
              "      <th>75%</th>\n",
              "      <th>max</th>\n",
              "    </tr>\n",
              "  </thead>\n",
              "  <tbody>\n",
              "    <tr>\n",
              "      <th>X00</th>\n",
              "      <td>3888.0</td>\n",
              "      <td>19.994316</td>\n",
              "      <td>4.732284</td>\n",
              "      <td>8.3</td>\n",
              "      <td>16.575</td>\n",
              "      <td>19.60</td>\n",
              "      <td>23.8</td>\n",
              "      <td>30.9</td>\n",
              "    </tr>\n",
              "    <tr>\n",
              "      <th>X07</th>\n",
              "      <td>3888.0</td>\n",
              "      <td>21.461060</td>\n",
              "      <td>4.410875</td>\n",
              "      <td>11.6</td>\n",
              "      <td>18.100</td>\n",
              "      <td>21.00</td>\n",
              "      <td>24.7</td>\n",
              "      <td>32.7</td>\n",
              "    </tr>\n",
              "    <tr>\n",
              "      <th>X28</th>\n",
              "      <td>3888.0</td>\n",
              "      <td>21.922917</td>\n",
              "      <td>4.261941</td>\n",
              "      <td>10.3</td>\n",
              "      <td>18.700</td>\n",
              "      <td>21.70</td>\n",
              "      <td>25.0</td>\n",
              "      <td>33.2</td>\n",
              "    </tr>\n",
              "    <tr>\n",
              "      <th>X31</th>\n",
              "      <td>3888.0</td>\n",
              "      <td>19.636806</td>\n",
              "      <td>5.599947</td>\n",
              "      <td>5.3</td>\n",
              "      <td>15.775</td>\n",
              "      <td>19.15</td>\n",
              "      <td>24.0</td>\n",
              "      <td>33.1</td>\n",
              "    </tr>\n",
              "    <tr>\n",
              "      <th>X32</th>\n",
              "      <td>3888.0</td>\n",
              "      <td>19.772582</td>\n",
              "      <td>5.335866</td>\n",
              "      <td>5.5</td>\n",
              "      <td>16.100</td>\n",
              "      <td>19.25</td>\n",
              "      <td>23.9</td>\n",
              "      <td>32.9</td>\n",
              "    </tr>\n",
              "    <tr>\n",
              "      <th>X04</th>\n",
              "      <td>3888.0</td>\n",
              "      <td>1.386034</td>\n",
              "      <td>4.623522</td>\n",
              "      <td>0.0</td>\n",
              "      <td>0.000</td>\n",
              "      <td>0.00</td>\n",
              "      <td>0.0</td>\n",
              "      <td>25.6</td>\n",
              "    </tr>\n",
              "    <tr>\n",
              "      <th>X10</th>\n",
              "      <td>3888.0</td>\n",
              "      <td>1.073431</td>\n",
              "      <td>3.434502</td>\n",
              "      <td>0.0</td>\n",
              "      <td>0.000</td>\n",
              "      <td>0.00</td>\n",
              "      <td>0.0</td>\n",
              "      <td>18.5</td>\n",
              "    </tr>\n",
              "    <tr>\n",
              "      <th>X21</th>\n",
              "      <td>3888.0</td>\n",
              "      <td>1.180427</td>\n",
              "      <td>4.203475</td>\n",
              "      <td>0.0</td>\n",
              "      <td>0.000</td>\n",
              "      <td>0.00</td>\n",
              "      <td>0.0</td>\n",
              "      <td>21.0</td>\n",
              "    </tr>\n",
              "    <tr>\n",
              "      <th>X36</th>\n",
              "      <td>3888.0</td>\n",
              "      <td>1.675540</td>\n",
              "      <td>5.834230</td>\n",
              "      <td>0.0</td>\n",
              "      <td>0.000</td>\n",
              "      <td>0.00</td>\n",
              "      <td>0.0</td>\n",
              "      <td>33.6</td>\n",
              "    </tr>\n",
              "    <tr>\n",
              "      <th>X39</th>\n",
              "      <td>3888.0</td>\n",
              "      <td>1.157536</td>\n",
              "      <td>4.754191</td>\n",
              "      <td>0.0</td>\n",
              "      <td>0.000</td>\n",
              "      <td>0.00</td>\n",
              "      <td>0.0</td>\n",
              "      <td>28.0</td>\n",
              "    </tr>\n",
              "    <tr>\n",
              "      <th>X02</th>\n",
              "      <td>3888.0</td>\n",
              "      <td>1.543364</td>\n",
              "      <td>1.094064</td>\n",
              "      <td>0.0</td>\n",
              "      <td>0.800</td>\n",
              "      <td>1.30</td>\n",
              "      <td>2.2</td>\n",
              "      <td>10.2</td>\n",
              "    </tr>\n",
              "    <tr>\n",
              "      <th>X03</th>\n",
              "      <td>3888.0</td>\n",
              "      <td>1.459979</td>\n",
              "      <td>0.964387</td>\n",
              "      <td>0.0</td>\n",
              "      <td>0.800</td>\n",
              "      <td>1.30</td>\n",
              "      <td>2.0</td>\n",
              "      <td>5.8</td>\n",
              "    </tr>\n",
              "    <tr>\n",
              "      <th>X18</th>\n",
              "      <td>3888.0</td>\n",
              "      <td>1.392207</td>\n",
              "      <td>1.174326</td>\n",
              "      <td>0.0</td>\n",
              "      <td>0.500</td>\n",
              "      <td>1.00</td>\n",
              "      <td>2.1</td>\n",
              "      <td>8.9</td>\n",
              "    </tr>\n",
              "    <tr>\n",
              "      <th>X24</th>\n",
              "      <td>3888.0</td>\n",
              "      <td>0.985237</td>\n",
              "      <td>1.101993</td>\n",
              "      <td>0.0</td>\n",
              "      <td>0.000</td>\n",
              "      <td>0.70</td>\n",
              "      <td>1.7</td>\n",
              "      <td>6.0</td>\n",
              "    </tr>\n",
              "    <tr>\n",
              "      <th>X26</th>\n",
              "      <td>3888.0</td>\n",
              "      <td>1.366127</td>\n",
              "      <td>1.259200</td>\n",
              "      <td>0.0</td>\n",
              "      <td>0.300</td>\n",
              "      <td>1.10</td>\n",
              "      <td>2.2</td>\n",
              "      <td>6.8</td>\n",
              "    </tr>\n",
              "  </tbody>\n",
              "</table>\n",
              "</div>"
            ],
            "text/plain": [
              "      count       mean       std   min     25%    50%   75%   max\n",
              "X00  3888.0  19.994316  4.732284   8.3  16.575  19.60  23.8  30.9\n",
              "X07  3888.0  21.461060  4.410875  11.6  18.100  21.00  24.7  32.7\n",
              "X28  3888.0  21.922917  4.261941  10.3  18.700  21.70  25.0  33.2\n",
              "X31  3888.0  19.636806  5.599947   5.3  15.775  19.15  24.0  33.1\n",
              "X32  3888.0  19.772582  5.335866   5.5  16.100  19.25  23.9  32.9\n",
              "X04  3888.0   1.386034  4.623522   0.0   0.000   0.00   0.0  25.6\n",
              "X10  3888.0   1.073431  3.434502   0.0   0.000   0.00   0.0  18.5\n",
              "X21  3888.0   1.180427  4.203475   0.0   0.000   0.00   0.0  21.0\n",
              "X36  3888.0   1.675540  5.834230   0.0   0.000   0.00   0.0  33.6\n",
              "X39  3888.0   1.157536  4.754191   0.0   0.000   0.00   0.0  28.0\n",
              "X02  3888.0   1.543364  1.094064   0.0   0.800   1.30   2.2  10.2\n",
              "X03  3888.0   1.459979  0.964387   0.0   0.800   1.30   2.0   5.8\n",
              "X18  3888.0   1.392207  1.174326   0.0   0.500   1.00   2.1   8.9\n",
              "X24  3888.0   0.985237  1.101993   0.0   0.000   0.70   1.7   6.0\n",
              "X26  3888.0   1.366127  1.259200   0.0   0.300   1.10   2.2   6.8"
            ]
          },
          "metadata": {
            "tags": []
          },
          "execution_count": 249
        }
      ]
    },
    {
      "cell_type": "code",
      "metadata": {
        "colab_type": "code",
        "id": "gBYdH1ba5k00",
        "colab": {}
      },
      "source": [
        "def norm(x):\n",
        "  return (x - train_stats['mean']) / train_stats['std']\n",
        "normed_train_data = norm(train_dataset)\n",
        "normed_test_data = norm(test_dataset)\n",
        "normed_test_80 = norm(test_80_dataset)\n",
        "normed_test_3 = norm(test_3_dataset )"
      ],
      "execution_count": 0,
      "outputs": []
    },
    {
      "cell_type": "code",
      "metadata": {
        "colab_type": "code",
        "outputId": "ce9ab854-bc4c-4cc4-e27c-c684f29b23a4",
        "id": "6j0AyWQk5k04",
        "colab": {
          "base_uri": "https://localhost:8080/",
          "height": 320
        }
      },
      "source": [
        "normed_train_data.describe()"
      ],
      "execution_count": 251,
      "outputs": [
        {
          "output_type": "execute_result",
          "data": {
            "text/html": [
              "<div>\n",
              "<style scoped>\n",
              "    .dataframe tbody tr th:only-of-type {\n",
              "        vertical-align: middle;\n",
              "    }\n",
              "\n",
              "    .dataframe tbody tr th {\n",
              "        vertical-align: top;\n",
              "    }\n",
              "\n",
              "    .dataframe thead th {\n",
              "        text-align: right;\n",
              "    }\n",
              "</style>\n",
              "<table border=\"1\" class=\"dataframe\">\n",
              "  <thead>\n",
              "    <tr style=\"text-align: right;\">\n",
              "      <th></th>\n",
              "      <th>X00</th>\n",
              "      <th>X07</th>\n",
              "      <th>X28</th>\n",
              "      <th>X31</th>\n",
              "      <th>X32</th>\n",
              "      <th>X04</th>\n",
              "      <th>X10</th>\n",
              "      <th>X21</th>\n",
              "      <th>X36</th>\n",
              "      <th>X39</th>\n",
              "      <th>X02</th>\n",
              "      <th>X03</th>\n",
              "      <th>X18</th>\n",
              "      <th>X24</th>\n",
              "      <th>X26</th>\n",
              "    </tr>\n",
              "  </thead>\n",
              "  <tbody>\n",
              "    <tr>\n",
              "      <th>count</th>\n",
              "      <td>3.888000e+03</td>\n",
              "      <td>3.888000e+03</td>\n",
              "      <td>3.888000e+03</td>\n",
              "      <td>3.888000e+03</td>\n",
              "      <td>3.888000e+03</td>\n",
              "      <td>3.888000e+03</td>\n",
              "      <td>3.888000e+03</td>\n",
              "      <td>3.888000e+03</td>\n",
              "      <td>3.888000e+03</td>\n",
              "      <td>3.888000e+03</td>\n",
              "      <td>3.888000e+03</td>\n",
              "      <td>3.888000e+03</td>\n",
              "      <td>3.888000e+03</td>\n",
              "      <td>3.888000e+03</td>\n",
              "      <td>3.888000e+03</td>\n",
              "    </tr>\n",
              "    <tr>\n",
              "      <th>mean</th>\n",
              "      <td>-2.585116e-15</td>\n",
              "      <td>6.492877e-15</td>\n",
              "      <td>2.111106e-14</td>\n",
              "      <td>1.162293e-14</td>\n",
              "      <td>-5.609635e-15</td>\n",
              "      <td>-1.128812e-15</td>\n",
              "      <td>1.664192e-15</td>\n",
              "      <td>7.961167e-16</td>\n",
              "      <td>-1.431068e-15</td>\n",
              "      <td>8.619791e-16</td>\n",
              "      <td>1.362936e-15</td>\n",
              "      <td>-1.954762e-15</td>\n",
              "      <td>6.958740e-16</td>\n",
              "      <td>1.175043e-15</td>\n",
              "      <td>2.912394e-15</td>\n",
              "    </tr>\n",
              "    <tr>\n",
              "      <th>std</th>\n",
              "      <td>1.000000e+00</td>\n",
              "      <td>1.000000e+00</td>\n",
              "      <td>1.000000e+00</td>\n",
              "      <td>1.000000e+00</td>\n",
              "      <td>1.000000e+00</td>\n",
              "      <td>1.000000e+00</td>\n",
              "      <td>1.000000e+00</td>\n",
              "      <td>1.000000e+00</td>\n",
              "      <td>1.000000e+00</td>\n",
              "      <td>1.000000e+00</td>\n",
              "      <td>1.000000e+00</td>\n",
              "      <td>1.000000e+00</td>\n",
              "      <td>1.000000e+00</td>\n",
              "      <td>1.000000e+00</td>\n",
              "      <td>1.000000e+00</td>\n",
              "    </tr>\n",
              "    <tr>\n",
              "      <th>min</th>\n",
              "      <td>-2.471178e+00</td>\n",
              "      <td>-2.235624e+00</td>\n",
              "      <td>-2.727141e+00</td>\n",
              "      <td>-2.560168e+00</td>\n",
              "      <td>-2.674839e+00</td>\n",
              "      <td>-2.997788e-01</td>\n",
              "      <td>-3.125435e-01</td>\n",
              "      <td>-2.808217e-01</td>\n",
              "      <td>-2.871913e-01</td>\n",
              "      <td>-2.434770e-01</td>\n",
              "      <td>-1.410670e+00</td>\n",
              "      <td>-1.513894e+00</td>\n",
              "      <td>-1.185537e+00</td>\n",
              "      <td>-8.940494e-01</td>\n",
              "      <td>-1.084916e+00</td>\n",
              "    </tr>\n",
              "    <tr>\n",
              "      <th>25%</th>\n",
              "      <td>-7.225508e-01</td>\n",
              "      <td>-7.619939e-01</td>\n",
              "      <td>-7.562086e-01</td>\n",
              "      <td>-6.896147e-01</td>\n",
              "      <td>-6.882824e-01</td>\n",
              "      <td>-2.997788e-01</td>\n",
              "      <td>-3.125435e-01</td>\n",
              "      <td>-2.808217e-01</td>\n",
              "      <td>-2.871913e-01</td>\n",
              "      <td>-2.434770e-01</td>\n",
              "      <td>-6.794520e-01</td>\n",
              "      <td>-6.843514e-01</td>\n",
              "      <td>-7.597608e-01</td>\n",
              "      <td>-8.940494e-01</td>\n",
              "      <td>-8.466697e-01</td>\n",
              "    </tr>\n",
              "    <tr>\n",
              "      <th>50%</th>\n",
              "      <td>-8.332463e-02</td>\n",
              "      <td>-1.045279e-01</td>\n",
              "      <td>-5.230402e-02</td>\n",
              "      <td>-8.693039e-02</td>\n",
              "      <td>-9.793768e-02</td>\n",
              "      <td>-2.997788e-01</td>\n",
              "      <td>-3.125435e-01</td>\n",
              "      <td>-2.808217e-01</td>\n",
              "      <td>-2.871913e-01</td>\n",
              "      <td>-2.434770e-01</td>\n",
              "      <td>-2.224405e-01</td>\n",
              "      <td>-1.658872e-01</td>\n",
              "      <td>-3.339846e-01</td>\n",
              "      <td>-2.588369e-01</td>\n",
              "      <td>-2.113457e-01</td>\n",
              "    </tr>\n",
              "    <tr>\n",
              "      <th>75%</th>\n",
              "      <td>8.041960e-01</td>\n",
              "      <td>7.343079e-01</td>\n",
              "      <td>7.219910e-01</td>\n",
              "      <td>7.791493e-01</td>\n",
              "      <td>7.735235e-01</td>\n",
              "      <td>-2.997788e-01</td>\n",
              "      <td>-3.125435e-01</td>\n",
              "      <td>-2.808217e-01</td>\n",
              "      <td>-2.871913e-01</td>\n",
              "      <td>-2.434770e-01</td>\n",
              "      <td>6.001802e-01</td>\n",
              "      <td>5.599626e-01</td>\n",
              "      <td>6.027230e-01</td>\n",
              "      <td>6.486094e-01</td>\n",
              "      <td>6.622247e-01</td>\n",
              "    </tr>\n",
              "    <tr>\n",
              "      <th>max</th>\n",
              "      <td>2.304528e+00</td>\n",
              "      <td>2.548007e+00</td>\n",
              "      <td>2.645997e+00</td>\n",
              "      <td>2.404165e+00</td>\n",
              "      <td>2.460223e+00</td>\n",
              "      <td>5.237126e+00</td>\n",
              "      <td>5.073973e+00</td>\n",
              "      <td>4.715045e+00</td>\n",
              "      <td>5.471924e+00</td>\n",
              "      <td>5.646064e+00</td>\n",
              "      <td>7.912364e+00</td>\n",
              "      <td>4.500290e+00</td>\n",
              "      <td>6.393279e+00</td>\n",
              "      <td>4.550629e+00</td>\n",
              "      <td>4.315337e+00</td>\n",
              "    </tr>\n",
              "  </tbody>\n",
              "</table>\n",
              "</div>"
            ],
            "text/plain": [
              "                X00           X07  ...           X24           X26\n",
              "count  3.888000e+03  3.888000e+03  ...  3.888000e+03  3.888000e+03\n",
              "mean  -2.585116e-15  6.492877e-15  ...  1.175043e-15  2.912394e-15\n",
              "std    1.000000e+00  1.000000e+00  ...  1.000000e+00  1.000000e+00\n",
              "min   -2.471178e+00 -2.235624e+00  ... -8.940494e-01 -1.084916e+00\n",
              "25%   -7.225508e-01 -7.619939e-01  ... -8.940494e-01 -8.466697e-01\n",
              "50%   -8.332463e-02 -1.045279e-01  ... -2.588369e-01 -2.113457e-01\n",
              "75%    8.041960e-01  7.343079e-01  ...  6.486094e-01  6.622247e-01\n",
              "max    2.304528e+00  2.548007e+00  ...  4.550629e+00  4.315337e+00\n",
              "\n",
              "[8 rows x 15 columns]"
            ]
          },
          "metadata": {
            "tags": []
          },
          "execution_count": 251
        }
      ]
    },
    {
      "cell_type": "code",
      "metadata": {
        "colab_type": "code",
        "outputId": "7ef94965-fcab-469f-f03d-ae4ba01b9980",
        "id": "H1VzrQv85k08",
        "colab": {
          "base_uri": "https://localhost:8080/",
          "height": 320
        }
      },
      "source": [
        "normed_test_data.describe()"
      ],
      "execution_count": 252,
      "outputs": [
        {
          "output_type": "execute_result",
          "data": {
            "text/html": [
              "<div>\n",
              "<style scoped>\n",
              "    .dataframe tbody tr th:only-of-type {\n",
              "        vertical-align: middle;\n",
              "    }\n",
              "\n",
              "    .dataframe tbody tr th {\n",
              "        vertical-align: top;\n",
              "    }\n",
              "\n",
              "    .dataframe thead th {\n",
              "        text-align: right;\n",
              "    }\n",
              "</style>\n",
              "<table border=\"1\" class=\"dataframe\">\n",
              "  <thead>\n",
              "    <tr style=\"text-align: right;\">\n",
              "      <th></th>\n",
              "      <th>X00</th>\n",
              "      <th>X07</th>\n",
              "      <th>X28</th>\n",
              "      <th>X31</th>\n",
              "      <th>X32</th>\n",
              "      <th>X04</th>\n",
              "      <th>X10</th>\n",
              "      <th>X21</th>\n",
              "      <th>X36</th>\n",
              "      <th>X39</th>\n",
              "      <th>X02</th>\n",
              "      <th>X03</th>\n",
              "      <th>X18</th>\n",
              "      <th>X24</th>\n",
              "      <th>X26</th>\n",
              "    </tr>\n",
              "  </thead>\n",
              "  <tbody>\n",
              "    <tr>\n",
              "      <th>count</th>\n",
              "      <td>432.000000</td>\n",
              "      <td>432.000000</td>\n",
              "      <td>432.000000</td>\n",
              "      <td>432.000000</td>\n",
              "      <td>432.000000</td>\n",
              "      <td>432.000000</td>\n",
              "      <td>432.000000</td>\n",
              "      <td>432.000000</td>\n",
              "      <td>432.000000</td>\n",
              "      <td>432.000000</td>\n",
              "      <td>432.000000</td>\n",
              "      <td>432.000000</td>\n",
              "      <td>432.000000</td>\n",
              "      <td>432.000000</td>\n",
              "      <td>432.000000</td>\n",
              "    </tr>\n",
              "    <tr>\n",
              "      <th>mean</th>\n",
              "      <td>-0.060677</td>\n",
              "      <td>-0.054515</td>\n",
              "      <td>-0.057138</td>\n",
              "      <td>-0.058946</td>\n",
              "      <td>-0.041671</td>\n",
              "      <td>0.024249</td>\n",
              "      <td>0.055454</td>\n",
              "      <td>0.030869</td>\n",
              "      <td>0.019984</td>\n",
              "      <td>0.058401</td>\n",
              "      <td>0.014105</td>\n",
              "      <td>-0.096999</td>\n",
              "      <td>-0.068072</td>\n",
              "      <td>-0.049620</td>\n",
              "      <td>-0.035602</td>\n",
              "    </tr>\n",
              "    <tr>\n",
              "      <th>std</th>\n",
              "      <td>1.026405</td>\n",
              "      <td>1.027347</td>\n",
              "      <td>1.032128</td>\n",
              "      <td>1.022256</td>\n",
              "      <td>1.017789</td>\n",
              "      <td>1.008342</td>\n",
              "      <td>1.099444</td>\n",
              "      <td>1.043850</td>\n",
              "      <td>0.991610</td>\n",
              "      <td>1.150688</td>\n",
              "      <td>0.955381</td>\n",
              "      <td>0.900826</td>\n",
              "      <td>0.900138</td>\n",
              "      <td>0.975899</td>\n",
              "      <td>1.027125</td>\n",
              "    </tr>\n",
              "    <tr>\n",
              "      <th>min</th>\n",
              "      <td>-2.428915</td>\n",
              "      <td>-2.212953</td>\n",
              "      <td>-2.609824</td>\n",
              "      <td>-2.524454</td>\n",
              "      <td>-2.599875</td>\n",
              "      <td>-0.299779</td>\n",
              "      <td>-0.312543</td>\n",
              "      <td>-0.280822</td>\n",
              "      <td>-0.287191</td>\n",
              "      <td>-0.243477</td>\n",
              "      <td>-1.410670</td>\n",
              "      <td>-1.513894</td>\n",
              "      <td>-1.185537</td>\n",
              "      <td>-0.894049</td>\n",
              "      <td>-1.084916</td>\n",
              "    </tr>\n",
              "    <tr>\n",
              "      <th>25%</th>\n",
              "      <td>-0.759531</td>\n",
              "      <td>-0.784665</td>\n",
              "      <td>-0.779672</td>\n",
              "      <td>-0.774437</td>\n",
              "      <td>-0.781988</td>\n",
              "      <td>-0.299779</td>\n",
              "      <td>-0.312543</td>\n",
              "      <td>-0.280822</td>\n",
              "      <td>-0.287191</td>\n",
              "      <td>-0.243477</td>\n",
              "      <td>-0.679452</td>\n",
              "      <td>-0.788044</td>\n",
              "      <td>-0.759761</td>\n",
              "      <td>-0.894049</td>\n",
              "      <td>-0.846670</td>\n",
              "    </tr>\n",
              "    <tr>\n",
              "      <th>50%</th>\n",
              "      <td>-0.188982</td>\n",
              "      <td>-0.240555</td>\n",
              "      <td>-0.216548</td>\n",
              "      <td>-0.203003</td>\n",
              "      <td>-0.163532</td>\n",
              "      <td>-0.299779</td>\n",
              "      <td>-0.312543</td>\n",
              "      <td>-0.280822</td>\n",
              "      <td>-0.287191</td>\n",
              "      <td>-0.243477</td>\n",
              "      <td>-0.131038</td>\n",
              "      <td>-0.062194</td>\n",
              "      <td>-0.333985</td>\n",
              "      <td>-0.349582</td>\n",
              "      <td>-0.290761</td>\n",
              "    </tr>\n",
              "    <tr>\n",
              "      <th>75%</th>\n",
              "      <td>0.698539</td>\n",
              "      <td>0.643623</td>\n",
              "      <td>0.675064</td>\n",
              "      <td>0.689863</td>\n",
              "      <td>0.754782</td>\n",
              "      <td>-0.299779</td>\n",
              "      <td>-0.312543</td>\n",
              "      <td>-0.280822</td>\n",
              "      <td>-0.287191</td>\n",
              "      <td>-0.243477</td>\n",
              "      <td>0.600180</td>\n",
              "      <td>0.456270</td>\n",
              "      <td>0.517568</td>\n",
              "      <td>0.557865</td>\n",
              "      <td>0.503394</td>\n",
              "    </tr>\n",
              "    <tr>\n",
              "      <th>max</th>\n",
              "      <td>2.283397</td>\n",
              "      <td>2.502665</td>\n",
              "      <td>2.552143</td>\n",
              "      <td>2.297021</td>\n",
              "      <td>2.347776</td>\n",
              "      <td>5.237126</td>\n",
              "      <td>5.073973</td>\n",
              "      <td>4.715045</td>\n",
              "      <td>5.471924</td>\n",
              "      <td>5.646064</td>\n",
              "      <td>4.804686</td>\n",
              "      <td>3.152284</td>\n",
              "      <td>3.583156</td>\n",
              "      <td>3.461693</td>\n",
              "      <td>3.362351</td>\n",
              "    </tr>\n",
              "  </tbody>\n",
              "</table>\n",
              "</div>"
            ],
            "text/plain": [
              "              X00         X07         X28  ...         X18         X24         X26\n",
              "count  432.000000  432.000000  432.000000  ...  432.000000  432.000000  432.000000\n",
              "mean    -0.060677   -0.054515   -0.057138  ...   -0.068072   -0.049620   -0.035602\n",
              "std      1.026405    1.027347    1.032128  ...    0.900138    0.975899    1.027125\n",
              "min     -2.428915   -2.212953   -2.609824  ...   -1.185537   -0.894049   -1.084916\n",
              "25%     -0.759531   -0.784665   -0.779672  ...   -0.759761   -0.894049   -0.846670\n",
              "50%     -0.188982   -0.240555   -0.216548  ...   -0.333985   -0.349582   -0.290761\n",
              "75%      0.698539    0.643623    0.675064  ...    0.517568    0.557865    0.503394\n",
              "max      2.283397    2.502665    2.552143  ...    3.583156    3.461693    3.362351\n",
              "\n",
              "[8 rows x 15 columns]"
            ]
          },
          "metadata": {
            "tags": []
          },
          "execution_count": 252
        }
      ]
    },
    {
      "cell_type": "code",
      "metadata": {
        "colab_type": "code",
        "outputId": "901a40c0-0d93-44e1-8632-fa01a2856bf6",
        "id": "aAZp7cRE5k0_",
        "colab": {
          "base_uri": "https://localhost:8080/",
          "height": 320
        }
      },
      "source": [
        "normed_test_80.describe()"
      ],
      "execution_count": 253,
      "outputs": [
        {
          "output_type": "execute_result",
          "data": {
            "text/html": [
              "<div>\n",
              "<style scoped>\n",
              "    .dataframe tbody tr th:only-of-type {\n",
              "        vertical-align: middle;\n",
              "    }\n",
              "\n",
              "    .dataframe tbody tr th {\n",
              "        vertical-align: top;\n",
              "    }\n",
              "\n",
              "    .dataframe thead th {\n",
              "        text-align: right;\n",
              "    }\n",
              "</style>\n",
              "<table border=\"1\" class=\"dataframe\">\n",
              "  <thead>\n",
              "    <tr style=\"text-align: right;\">\n",
              "      <th></th>\n",
              "      <th>X00</th>\n",
              "      <th>X07</th>\n",
              "      <th>X28</th>\n",
              "      <th>X31</th>\n",
              "      <th>X32</th>\n",
              "      <th>X04</th>\n",
              "      <th>X10</th>\n",
              "      <th>X21</th>\n",
              "      <th>X36</th>\n",
              "      <th>X39</th>\n",
              "      <th>X02</th>\n",
              "      <th>X03</th>\n",
              "      <th>X18</th>\n",
              "      <th>X24</th>\n",
              "      <th>X26</th>\n",
              "    </tr>\n",
              "  </thead>\n",
              "  <tbody>\n",
              "    <tr>\n",
              "      <th>count</th>\n",
              "      <td>11520.000000</td>\n",
              "      <td>11520.000000</td>\n",
              "      <td>11520.000000</td>\n",
              "      <td>11520.000000</td>\n",
              "      <td>11520.000000</td>\n",
              "      <td>11520.000000</td>\n",
              "      <td>11520.000000</td>\n",
              "      <td>11520.000000</td>\n",
              "      <td>11520.000000</td>\n",
              "      <td>11520.000000</td>\n",
              "      <td>11520.000000</td>\n",
              "      <td>11520.000000</td>\n",
              "      <td>11520.000000</td>\n",
              "      <td>11520.000000</td>\n",
              "      <td>11520.000000</td>\n",
              "    </tr>\n",
              "    <tr>\n",
              "      <th>mean</th>\n",
              "      <td>1.088546</td>\n",
              "      <td>1.036369</td>\n",
              "      <td>1.066611</td>\n",
              "      <td>0.876363</td>\n",
              "      <td>0.889700</td>\n",
              "      <td>0.218444</td>\n",
              "      <td>0.476251</td>\n",
              "      <td>0.396497</td>\n",
              "      <td>0.101252</td>\n",
              "      <td>0.247218</td>\n",
              "      <td>-0.130094</td>\n",
              "      <td>0.020175</td>\n",
              "      <td>-0.031942</td>\n",
              "      <td>0.138281</td>\n",
              "      <td>-0.012966</td>\n",
              "    </tr>\n",
              "    <tr>\n",
              "      <th>std</th>\n",
              "      <td>0.808145</td>\n",
              "      <td>0.796576</td>\n",
              "      <td>0.827771</td>\n",
              "      <td>0.721606</td>\n",
              "      <td>0.753634</td>\n",
              "      <td>1.380447</td>\n",
              "      <td>2.473354</td>\n",
              "      <td>2.023973</td>\n",
              "      <td>1.467996</td>\n",
              "      <td>1.386498</td>\n",
              "      <td>1.257887</td>\n",
              "      <td>1.127184</td>\n",
              "      <td>1.065454</td>\n",
              "      <td>0.961893</td>\n",
              "      <td>1.014163</td>\n",
              "    </tr>\n",
              "    <tr>\n",
              "      <th>min</th>\n",
              "      <td>-0.949714</td>\n",
              "      <td>-0.943364</td>\n",
              "      <td>-0.756209</td>\n",
              "      <td>-0.970867</td>\n",
              "      <td>-0.875693</td>\n",
              "      <td>-0.299779</td>\n",
              "      <td>-0.312543</td>\n",
              "      <td>-0.280822</td>\n",
              "      <td>-0.287191</td>\n",
              "      <td>-0.243477</td>\n",
              "      <td>-1.410670</td>\n",
              "      <td>-1.513894</td>\n",
              "      <td>-1.185537</td>\n",
              "      <td>-0.894049</td>\n",
              "      <td>-1.084916</td>\n",
              "    </tr>\n",
              "    <tr>\n",
              "      <th>25%</th>\n",
              "      <td>0.487224</td>\n",
              "      <td>0.416911</td>\n",
              "      <td>0.416966</td>\n",
              "      <td>0.332716</td>\n",
              "      <td>0.304996</td>\n",
              "      <td>-0.299779</td>\n",
              "      <td>-0.312543</td>\n",
              "      <td>-0.280822</td>\n",
              "      <td>-0.287191</td>\n",
              "      <td>-0.243477</td>\n",
              "      <td>-1.045061</td>\n",
              "      <td>-0.788044</td>\n",
              "      <td>-0.844916</td>\n",
              "      <td>-0.621815</td>\n",
              "      <td>-0.846670</td>\n",
              "    </tr>\n",
              "    <tr>\n",
              "      <th>50%</th>\n",
              "      <td>1.121168</td>\n",
              "      <td>1.051705</td>\n",
              "      <td>1.073943</td>\n",
              "      <td>0.868436</td>\n",
              "      <td>0.885970</td>\n",
              "      <td>-0.299779</td>\n",
              "      <td>-0.312543</td>\n",
              "      <td>-0.280822</td>\n",
              "      <td>-0.287191</td>\n",
              "      <td>-0.243477</td>\n",
              "      <td>-0.405245</td>\n",
              "      <td>-0.165887</td>\n",
              "      <td>-0.333985</td>\n",
              "      <td>-0.077348</td>\n",
              "      <td>-0.211346</td>\n",
              "    </tr>\n",
              "    <tr>\n",
              "      <th>75%</th>\n",
              "      <td>1.607191</td>\n",
              "      <td>1.550472</td>\n",
              "      <td>1.613603</td>\n",
              "      <td>1.350583</td>\n",
              "      <td>1.410721</td>\n",
              "      <td>-0.148379</td>\n",
              "      <td>-0.166962</td>\n",
              "      <td>-0.042923</td>\n",
              "      <td>-0.270051</td>\n",
              "      <td>-0.138307</td>\n",
              "      <td>0.417376</td>\n",
              "      <td>0.559963</td>\n",
              "      <td>0.602723</td>\n",
              "      <td>0.648609</td>\n",
              "      <td>0.503394</td>\n",
              "    </tr>\n",
              "    <tr>\n",
              "      <th>max</th>\n",
              "      <td>3.445626</td>\n",
              "      <td>3.296158</td>\n",
              "      <td>3.420292</td>\n",
              "      <td>2.797026</td>\n",
              "      <td>3.003715</td>\n",
              "      <td>9.757489</td>\n",
              "      <td>16.283750</td>\n",
              "      <td>15.063626</td>\n",
              "      <td>16.458807</td>\n",
              "      <td>16.478611</td>\n",
              "      <td>8.643583</td>\n",
              "      <td>9.788625</td>\n",
              "      <td>7.585452</td>\n",
              "      <td>8.089670</td>\n",
              "      <td>8.365528</td>\n",
              "    </tr>\n",
              "  </tbody>\n",
              "</table>\n",
              "</div>"
            ],
            "text/plain": [
              "                X00           X07  ...           X24           X26\n",
              "count  11520.000000  11520.000000  ...  11520.000000  11520.000000\n",
              "mean       1.088546      1.036369  ...      0.138281     -0.012966\n",
              "std        0.808145      0.796576  ...      0.961893      1.014163\n",
              "min       -0.949714     -0.943364  ...     -0.894049     -1.084916\n",
              "25%        0.487224      0.416911  ...     -0.621815     -0.846670\n",
              "50%        1.121168      1.051705  ...     -0.077348     -0.211346\n",
              "75%        1.607191      1.550472  ...      0.648609      0.503394\n",
              "max        3.445626      3.296158  ...      8.089670      8.365528\n",
              "\n",
              "[8 rows x 15 columns]"
            ]
          },
          "metadata": {
            "tags": []
          },
          "execution_count": 253
        }
      ]
    },
    {
      "cell_type": "markdown",
      "metadata": {
        "colab_type": "text",
        "id": "OA3V-PsR5k1C"
      },
      "source": [
        ""
      ]
    },
    {
      "cell_type": "markdown",
      "metadata": {
        "colab_type": "text",
        "id": "qrMfPc0O5k1D"
      },
      "source": [
        "## model"
      ]
    },
    {
      "cell_type": "markdown",
      "metadata": {
        "colab_type": "text",
        "id": "QUrUd4-G5k1G"
      },
      "source": [
        "#### Build the model"
      ]
    },
    {
      "cell_type": "code",
      "metadata": {
        "colab_type": "code",
        "id": "QFsrS6Wh5k1G",
        "colab": {}
      },
      "source": [
        "def build_model():\n",
        "    model = keras.Sequential([\n",
        "            layers.Dense(32, activation='selu', kernel_initializer='lecun_normal', input_shape=[len(normed_train_data.keys())]),\n",
        "            layers.Dense(4, activation='selu', kernel_initializer='lecun_normal'),\n",
        "            layers.Dense(1)\n",
        "    ])\n",
        "    optimizer = tf.keras.optimizers.Adam(learning_rate=0.001)\n",
        "    model.compile(loss='mse',\n",
        "                  optimizer=optimizer,\n",
        "                  metrics=['mae', 'mse'])\n",
        "    return model"
      ],
      "execution_count": 0,
      "outputs": []
    },
    {
      "cell_type": "code",
      "metadata": {
        "colab_type": "code",
        "outputId": "9752b8c2-95d9-44f2-d761-f662dc1f60f4",
        "id": "lPmq6FKV5k1K",
        "colab": {
          "base_uri": "https://localhost:8080/",
          "height": 69
        }
      },
      "source": [
        "model = build_model()"
      ],
      "execution_count": 261,
      "outputs": [
        {
          "output_type": "stream",
          "text": [
            "Executing op TruncatedNormal in device /job:localhost/replica:0/task:0/device:GPU:0\n",
            "Executing op TruncatedNormal in device /job:localhost/replica:0/task:0/device:GPU:0\n",
            "Executing op RandomUniform in device /job:localhost/replica:0/task:0/device:GPU:0\n"
          ],
          "name": "stdout"
        }
      ]
    },
    {
      "cell_type": "markdown",
      "metadata": {
        "colab_type": "text",
        "id": "lSwieolM5k1N"
      },
      "source": [
        "#### Inspect the model"
      ]
    },
    {
      "cell_type": "code",
      "metadata": {
        "colab_type": "code",
        "outputId": "3fdf2934-f149-41d9-faa4-1532e0c39c7f",
        "id": "PI3Nf9E65k1O",
        "colab": {
          "base_uri": "https://localhost:8080/",
          "height": 260
        }
      },
      "source": [
        "model.summary()"
      ],
      "execution_count": 262,
      "outputs": [
        {
          "output_type": "stream",
          "text": [
            "Model: \"sequential_13\"\n",
            "_________________________________________________________________\n",
            "Layer (type)                 Output Shape              Param #   \n",
            "=================================================================\n",
            "dense_31 (Dense)             (None, 32)                512       \n",
            "_________________________________________________________________\n",
            "dense_32 (Dense)             (None, 4)                 132       \n",
            "_________________________________________________________________\n",
            "dense_33 (Dense)             (None, 1)                 5         \n",
            "=================================================================\n",
            "Total params: 649\n",
            "Trainable params: 649\n",
            "Non-trainable params: 0\n",
            "_________________________________________________________________\n"
          ],
          "name": "stdout"
        }
      ]
    },
    {
      "cell_type": "code",
      "metadata": {
        "colab_type": "code",
        "outputId": "68629740-fa8c-429f-fa5f-e4b6f1f57f6e",
        "id": "E6w0S0Z15k1R",
        "colab": {
          "base_uri": "https://localhost:8080/",
          "height": 159
        }
      },
      "source": [
        "example_batch = normed_train_data[:5]\n",
        "example_result = model.predict(example_batch)\n",
        "example_result"
      ],
      "execution_count": 263,
      "outputs": [
        {
          "output_type": "stream",
          "text": [
            "WARNING:tensorflow:Falling back from v2 loop because of error: Failed to find data adapter that can handle input: <class 'pandas.core.frame.DataFrame'>, <class 'NoneType'>\n",
            "Executing op __inference_keras_scratch_graph_2374105 in device /job:localhost/replica:0/task:0/device:GPU:0\n"
          ],
          "name": "stdout"
        },
        {
          "output_type": "execute_result",
          "data": {
            "text/plain": [
              "array([[-1.9020416],\n",
              "       [-1.5156474],\n",
              "       [ 0.0623633],\n",
              "       [-0.864399 ],\n",
              "       [ 0.3488878]], dtype=float32)"
            ]
          },
          "metadata": {
            "tags": []
          },
          "execution_count": 263
        }
      ]
    },
    {
      "cell_type": "markdown",
      "metadata": {
        "colab_type": "text",
        "id": "8j5eKRvu5k1V"
      },
      "source": [
        "#### Train the model"
      ]
    },
    {
      "cell_type": "code",
      "metadata": {
        "colab_type": "code",
        "id": "zx6eM8qJ5k1X",
        "colab": {}
      },
      "source": [
        "# 에포크가 끝날 때마다 점(.)을 출력해 훈련 진행 과정을 표시합니다\n",
        "class PrintDot(keras.callbacks.Callback):\n",
        "  def on_epoch_end(self, epoch, logs):\n",
        "    if epoch % 100 == 0: print('')\n",
        "    print('.', end='')"
      ],
      "execution_count": 0,
      "outputs": []
    },
    {
      "cell_type": "code",
      "metadata": {
        "colab_type": "code",
        "outputId": "e4991106-cf5f-42d5-a7ae-b8c474a3a163",
        "id": "iNLm83N75k1Z",
        "colab": {
          "base_uri": "https://localhost:8080/",
          "height": 245
        }
      },
      "source": [
        "EPOCHS = 1000\n",
        "\n",
        "history = model.fit(\n",
        "  normed_train_data, train_labels,\n",
        "  epochs=EPOCHS, validation_split = 0.9, verbose=0,\n",
        "  callbacks=[PrintDot()])"
      ],
      "execution_count": 267,
      "outputs": [
        {
          "output_type": "stream",
          "text": [
            "WARNING:tensorflow:Falling back from v2 loop because of error: Failed to find data adapter that can handle input: <class 'pandas.core.frame.DataFrame'>, <class 'NoneType'>\n",
            "\n",
            "....................................................................................................\n",
            "....................................................................................................\n",
            "....................................................................................................\n",
            "....................................................................................................\n",
            "....................................................................................................\n",
            "....................................................................................................\n",
            "....................................................................................................\n",
            "....................................................................................................\n",
            "....................................................................................................\n",
            "...................................................................................................."
          ],
          "name": "stdout"
        }
      ]
    },
    {
      "cell_type": "code",
      "metadata": {
        "colab_type": "code",
        "outputId": "8334cf07-7211-445c-f60d-ede08967c9cb",
        "id": "P8drZ4Kt5k1c",
        "colab": {
          "base_uri": "https://localhost:8080/",
          "height": 363
        }
      },
      "source": [
        "hist = pd.DataFrame(history.history)\n",
        "hist['epoch'] = history.epoch\n",
        "hist[0::100]"
      ],
      "execution_count": 272,
      "outputs": [
        {
          "output_type": "execute_result",
          "data": {
            "text/html": [
              "<div>\n",
              "<style scoped>\n",
              "    .dataframe tbody tr th:only-of-type {\n",
              "        vertical-align: middle;\n",
              "    }\n",
              "\n",
              "    .dataframe tbody tr th {\n",
              "        vertical-align: top;\n",
              "    }\n",
              "\n",
              "    .dataframe thead th {\n",
              "        text-align: right;\n",
              "    }\n",
              "</style>\n",
              "<table border=\"1\" class=\"dataframe\">\n",
              "  <thead>\n",
              "    <tr style=\"text-align: right;\">\n",
              "      <th></th>\n",
              "      <th>loss</th>\n",
              "      <th>mae</th>\n",
              "      <th>mse</th>\n",
              "      <th>val_loss</th>\n",
              "      <th>val_mae</th>\n",
              "      <th>val_mse</th>\n",
              "      <th>epoch</th>\n",
              "    </tr>\n",
              "  </thead>\n",
              "  <tbody>\n",
              "    <tr>\n",
              "      <th>0</th>\n",
              "      <td>195.055880</td>\n",
              "      <td>13.183858</td>\n",
              "      <td>195.055878</td>\n",
              "      <td>186.166003</td>\n",
              "      <td>12.759566</td>\n",
              "      <td>186.165985</td>\n",
              "      <td>0</td>\n",
              "    </tr>\n",
              "    <tr>\n",
              "      <th>100</th>\n",
              "      <td>33.569330</td>\n",
              "      <td>3.340558</td>\n",
              "      <td>33.569328</td>\n",
              "      <td>30.161668</td>\n",
              "      <td>3.219057</td>\n",
              "      <td>30.161659</td>\n",
              "      <td>100</td>\n",
              "    </tr>\n",
              "    <tr>\n",
              "      <th>200</th>\n",
              "      <td>21.448795</td>\n",
              "      <td>2.770496</td>\n",
              "      <td>21.448795</td>\n",
              "      <td>19.837925</td>\n",
              "      <td>2.757940</td>\n",
              "      <td>19.837925</td>\n",
              "      <td>200</td>\n",
              "    </tr>\n",
              "    <tr>\n",
              "      <th>300</th>\n",
              "      <td>3.452354</td>\n",
              "      <td>1.456921</td>\n",
              "      <td>3.452354</td>\n",
              "      <td>4.931457</td>\n",
              "      <td>1.715774</td>\n",
              "      <td>4.931456</td>\n",
              "      <td>300</td>\n",
              "    </tr>\n",
              "    <tr>\n",
              "      <th>400</th>\n",
              "      <td>2.916716</td>\n",
              "      <td>1.343600</td>\n",
              "      <td>2.916716</td>\n",
              "      <td>4.837638</td>\n",
              "      <td>1.683884</td>\n",
              "      <td>4.837639</td>\n",
              "      <td>400</td>\n",
              "    </tr>\n",
              "    <tr>\n",
              "      <th>500</th>\n",
              "      <td>2.476333</td>\n",
              "      <td>1.210066</td>\n",
              "      <td>2.476333</td>\n",
              "      <td>4.893453</td>\n",
              "      <td>1.687303</td>\n",
              "      <td>4.893453</td>\n",
              "      <td>500</td>\n",
              "    </tr>\n",
              "    <tr>\n",
              "      <th>600</th>\n",
              "      <td>2.289986</td>\n",
              "      <td>1.148553</td>\n",
              "      <td>2.289986</td>\n",
              "      <td>4.894169</td>\n",
              "      <td>1.686602</td>\n",
              "      <td>4.894168</td>\n",
              "      <td>600</td>\n",
              "    </tr>\n",
              "    <tr>\n",
              "      <th>700</th>\n",
              "      <td>2.109750</td>\n",
              "      <td>1.110949</td>\n",
              "      <td>2.109750</td>\n",
              "      <td>4.879392</td>\n",
              "      <td>1.676421</td>\n",
              "      <td>4.879392</td>\n",
              "      <td>700</td>\n",
              "    </tr>\n",
              "    <tr>\n",
              "      <th>800</th>\n",
              "      <td>1.984355</td>\n",
              "      <td>1.081905</td>\n",
              "      <td>1.984355</td>\n",
              "      <td>4.838172</td>\n",
              "      <td>1.664337</td>\n",
              "      <td>4.838173</td>\n",
              "      <td>800</td>\n",
              "    </tr>\n",
              "    <tr>\n",
              "      <th>900</th>\n",
              "      <td>1.864363</td>\n",
              "      <td>1.032641</td>\n",
              "      <td>1.864363</td>\n",
              "      <td>4.950629</td>\n",
              "      <td>1.679013</td>\n",
              "      <td>4.950630</td>\n",
              "      <td>900</td>\n",
              "    </tr>\n",
              "  </tbody>\n",
              "</table>\n",
              "</div>"
            ],
            "text/plain": [
              "           loss        mae         mse  ...    val_mae     val_mse  epoch\n",
              "0    195.055880  13.183858  195.055878  ...  12.759566  186.165985      0\n",
              "100   33.569330   3.340558   33.569328  ...   3.219057   30.161659    100\n",
              "200   21.448795   2.770496   21.448795  ...   2.757940   19.837925    200\n",
              "300    3.452354   1.456921    3.452354  ...   1.715774    4.931456    300\n",
              "400    2.916716   1.343600    2.916716  ...   1.683884    4.837639    400\n",
              "500    2.476333   1.210066    2.476333  ...   1.687303    4.893453    500\n",
              "600    2.289986   1.148553    2.289986  ...   1.686602    4.894168    600\n",
              "700    2.109750   1.110949    2.109750  ...   1.676421    4.879392    700\n",
              "800    1.984355   1.081905    1.984355  ...   1.664337    4.838173    800\n",
              "900    1.864363   1.032641    1.864363  ...   1.679013    4.950630    900\n",
              "\n",
              "[10 rows x 7 columns]"
            ]
          },
          "metadata": {
            "tags": []
          },
          "execution_count": 272
        }
      ]
    },
    {
      "cell_type": "code",
      "metadata": {
        "colab_type": "code",
        "id": "oDtVEEJI5k1f",
        "colab": {}
      },
      "source": [
        "def plot_history(history, ylim_mae=False, ylim_mse=False):\n",
        "    hist = pd.DataFrame(history.history)\n",
        "    hist['epoch'] = history.epoch\n",
        "\n",
        "    plt.figure(figsize=(20,6))\n",
        "\n",
        "    plt.subplot(1,2,1)\n",
        "    plt.xlabel('Epoch')\n",
        "    plt.ylabel('Mean Abs Error [Y]]')\n",
        "    plt.plot(hist['epoch'], hist['mae'],\n",
        "            label='Train Error')\n",
        "    plt.plot(hist['epoch'], hist['val_mae'],\n",
        "            label = 'Val Error')\n",
        "    if ylim_mae: \n",
        "        plt.ylim(ylim_mae)\n",
        "    else:\n",
        "        plt.ylim([0,5])\n",
        "    plt.legend()\n",
        "\n",
        "    plt.subplot(1,2,2)\n",
        "    plt.xlabel('Epoch')\n",
        "    plt.ylabel('Mean Square Error [$Y^2$]')\n",
        "    plt.plot(hist['epoch'], hist['mse'], label='Train Error')\n",
        "    plt.plot(hist['epoch'], hist['val_mse'], label = 'Val Error')\n",
        "    if ylim_mse: \n",
        "        plt.ylim(ylim_mse)\n",
        "    else:\n",
        "        plt.ylim([0,20])\n",
        "    plt.legend()\n",
        "    plt.show()"
      ],
      "execution_count": 0,
      "outputs": []
    },
    {
      "cell_type": "code",
      "metadata": {
        "colab_type": "code",
        "outputId": "087c6d1a-37f8-4ac2-b163-849481944ed6",
        "id": "vBstA52-5k1i",
        "colab": {
          "base_uri": "https://localhost:8080/",
          "height": 412
        }
      },
      "source": [
        "plot_history(history, [0, 3], [0, 10])"
      ],
      "execution_count": 274,
      "outputs": [
        {
          "output_type": "display_data",
          "data": {
            "image/png": "[encoded data removed]",
            "text/plain": [
              "<Figure size 1440x432 with 2 Axes>"
            ]
          },
          "metadata": {
            "tags": []
          }
        }
      ]
    },
    {
      "cell_type": "markdown",
      "metadata": {
        "colab_type": "text",
        "id": "Ilc8YwRr5k1l"
      },
      "source": [
        "### Make predictions"
      ]
    },
    {
      "cell_type": "code",
      "metadata": {
        "colab_type": "code",
        "outputId": "8c69a04e-388c-40be-c9be-c5198d0aea8c",
        "id": "igeFvTMH5k1m",
        "colab": {
          "base_uri": "https://localhost:8080/",
          "height": 317
        }
      },
      "source": [
        "test_predictions = model.predict(normed_test_data).flatten()\n",
        "\n",
        "plt.scatter(test_labels, test_predictions)\n",
        "plt.xlabel('True Values [Y]')\n",
        "plt.ylabel('Predictions [Y]')\n",
        "plt.axis('equal')\n",
        "plt.axis('square')\n",
        "plt.xlim([0,plt.xlim()[1]])\n",
        "plt.ylim([0,plt.ylim()[1]])\n",
        "_ = plt.plot([-100, 100], [-100, 100])\n"
      ],
      "execution_count": 275,
      "outputs": [
        {
          "output_type": "stream",
          "text": [
            "WARNING:tensorflow:Falling back from v2 loop because of error: Failed to find data adapter that can handle input: <class 'pandas.core.frame.DataFrame'>, <class 'NoneType'>\n"
          ],
          "name": "stdout"
        },
        {
          "output_type": "display_data",
          "data": {
            "image/png": "[encoded data removed]",
            "text/plain": [
              "<Figure size 432x288 with 1 Axes>"
            ]
          },
          "metadata": {
            "tags": []
          }
        }
      ]
    },
    {
      "cell_type": "code",
      "metadata": {
        "colab_type": "code",
        "outputId": "09f09c2e-be92-4e15-9bae-e261be24e7b7",
        "id": "SswRDfdk5k1p",
        "colab": {
          "base_uri": "https://localhost:8080/",
          "height": 280
        }
      },
      "source": [
        "error = test_predictions - test_labels\n",
        "plt.hist(error, bins = 25)\n",
        "plt.xlabel(\"Prediction Error [Y]\")\n",
        "_ = plt.ylabel(\"Count\")"
      ],
      "execution_count": 276,
      "outputs": [
        {
          "output_type": "display_data",
          "data": {
            "image/png": "[encoded data removed]",
            "text/plain": [
              "<Figure size 432x288 with 1 Axes>"
            ]
          },
          "metadata": {
            "tags": []
          }
        }
      ]
    },
    {
      "cell_type": "markdown",
      "metadata": {
        "colab_type": "text",
        "id": "CaujZ0vg5k1s"
      },
      "source": [
        "#### 3일 예측해서 Y18과 비교해보기"
      ]
    },
    {
      "cell_type": "code",
      "metadata": {
        "colab_type": "code",
        "outputId": "1135527a-01ce-403f-fff3-34b89eb212c5",
        "id": "ka97i50w5k1t",
        "colab": {
          "base_uri": "https://localhost:8080/",
          "height": 54
        }
      },
      "source": [
        "test = df[x_col][n:n+n//10]\n",
        "test_predictions = model.predict(normed_test_3).flatten()"
      ],
      "execution_count": 277,
      "outputs": [
        {
          "output_type": "stream",
          "text": [
            "WARNING:tensorflow:Falling back from v2 loop because of error: Failed to find data adapter that can handle input: <class 'pandas.core.frame.DataFrame'>, <class 'NoneType'>\n"
          ],
          "name": "stdout"
        }
      ]
    },
    {
      "cell_type": "code",
      "metadata": {
        "colab_type": "code",
        "outputId": "e6ca93cf-88bd-486e-ae4f-e635850b7869",
        "id": "bSOw7uu_5k1w",
        "colab": {
          "base_uri": "https://localhost:8080/",
          "height": 280
        }
      },
      "source": [
        "error = test_predictions-df['Y18'][n:n+n//10]\n",
        "error.mean()\n",
        "plt.hist(error, bins = 25)\n",
        "plt.xlabel(\"Prediction Error [MPG]\")\n",
        "_ = plt.ylabel(\"Count\")"
      ],
      "execution_count": 278,
      "outputs": [
        {
          "output_type": "display_data",
          "data": {
            "image/png": "[encoded data removed]",
            "text/plain": [
              "<Figure size 432x288 with 1 Axes>"
            ]
          },
          "metadata": {
            "tags": []
          }
        }
      ]
    },
    {
      "cell_type": "code",
      "metadata": {
        "colab_type": "code",
        "outputId": "597b2c7e-a4e6-43e3-c875-13027e628790",
        "id": "oO8Jr-lI5k1y",
        "colab": {
          "base_uri": "https://localhost:8080/",
          "height": 416
        }
      },
      "source": [
        "error[abs(error)>7]"
      ],
      "execution_count": 279,
      "outputs": [
        {
          "output_type": "execute_result",
          "data": {
            "text/plain": [
              "4532    -8.737139\n",
              "4533    -7.476727\n",
              "4536    -7.716461\n",
              "4676    -8.957712\n",
              "4677   -12.018364\n",
              "4678   -11.520046\n",
              "4679   -12.672098\n",
              "4680    -8.042046\n",
              "4681    -8.137379\n",
              "4683    -7.537781\n",
              "4698    -7.081276\n",
              "4700    -7.769030\n",
              "4702    -8.032934\n",
              "4704    -9.670044\n",
              "4705   -11.233843\n",
              "4706    -9.306700\n",
              "4709    -8.167097\n",
              "4710    -7.285933\n",
              "4714    -9.576897\n",
              "4715    -8.999956\n",
              "4716    -7.104757\n",
              "4717    -7.124186\n",
              "Name: Y18, dtype: float64"
            ]
          },
          "metadata": {
            "tags": []
          },
          "execution_count": 279
        }
      ]
    },
    {
      "cell_type": "markdown",
      "metadata": {
        "colab_type": "text",
        "id": "bZXgqPD65k11"
      },
      "source": [
        "#### 80일 예측 "
      ]
    },
    {
      "cell_type": "code",
      "metadata": {
        "colab_type": "code",
        "outputId": "05ebe365-1439-4250-8567-aa510e349587",
        "id": "CmgkeUQ55k12",
        "colab": {
          "base_uri": "https://localhost:8080/",
          "height": 54
        }
      },
      "source": [
        "test_predictions = model.predict(normed_test_80)"
      ],
      "execution_count": 280,
      "outputs": [
        {
          "output_type": "stream",
          "text": [
            "WARNING:tensorflow:Falling back from v2 loop because of error: Failed to find data adapter that can handle input: <class 'pandas.core.frame.DataFrame'>, <class 'NoneType'>\n"
          ],
          "name": "stdout"
        }
      ]
    },
    {
      "cell_type": "code",
      "metadata": {
        "colab_type": "code",
        "id": "vprJV1b95k16",
        "colab": {}
      },
      "source": [
        "# 제출 파일 만들기\n",
        "submit = pd.DataFrame({'id':range(144*33, 144*113),\n",
        "              'Y18':test_predictions.reshape(1,-1)[0]})"
      ],
      "execution_count": 0,
      "outputs": []
    },
    {
      "cell_type": "code",
      "metadata": {
        "colab_type": "code",
        "id": "Xp0IaVF45k1-",
        "colab": {}
      },
      "source": [
        "submit.to_csv('./results/baseline_result'+now+'.csv', index = False)"
      ],
      "execution_count": 0,
      "outputs": []
    },
    {
      "cell_type": "code",
      "metadata": {
        "colab_type": "code",
        "id": "ElX1fb4V5k2B",
        "colab": {}
      },
      "source": [
        ""
      ],
      "execution_count": 0,
      "outputs": []
    },
    {
      "cell_type": "markdown",
      "metadata": {
        "colab_type": "text",
        "id": "9fcrn4Pa5k2E"
      },
      "source": [
        "## model2"
      ]
    },
    {
      "cell_type": "markdown",
      "metadata": {
        "colab_type": "text",
        "id": "9lPRGBqd5k2E"
      },
      "source": [
        "#### Build the model"
      ]
    },
    {
      "cell_type": "code",
      "metadata": {
        "colab_type": "code",
        "id": "vlPDvrjN5k2F",
        "colab": {}
      },
      "source": [
        "def build_model2():\n",
        "    model = keras.Sequential([\n",
        "            layers.Dense(1, activation='linear', input_shape=[1]),\n",
        "            #layers.Dense(2, activation='relu'),\n",
        "            #layers.Dense(1)\n",
        "    ])\n",
        "    optimizer = tf.keras.optimizers.RMSprop(0.005)\n",
        "    model.compile(loss='mse',\n",
        "                  optimizer=optimizer,\n",
        "                  metrics=['mae', 'mse'])\n",
        "    return model"
      ],
      "execution_count": 0,
      "outputs": []
    },
    {
      "cell_type": "code",
      "metadata": {
        "colab_type": "code",
        "outputId": "479d450f-8f33-4d17-9770-884a8a9781df",
        "id": "Ar54inde5k2I",
        "colab": {
          "base_uri": "https://localhost:8080/",
          "height": 34
        }
      },
      "source": [
        "model2 = build_model2()"
      ],
      "execution_count": 289,
      "outputs": [
        {
          "output_type": "stream",
          "text": [
            "Executing op RandomUniform in device /job:localhost/replica:0/task:0/device:GPU:0\n"
          ],
          "name": "stdout"
        }
      ]
    },
    {
      "cell_type": "markdown",
      "metadata": {
        "colab_type": "text",
        "id": "1d2Bh95a5k2M"
      },
      "source": [
        "#### Inspect the model"
      ]
    },
    {
      "cell_type": "code",
      "metadata": {
        "colab_type": "code",
        "outputId": "5ea7071f-176a-4b89-f47f-867c1b97fc55",
        "id": "7FDcwgy35k2M",
        "colab": {
          "base_uri": "https://localhost:8080/",
          "height": 191
        }
      },
      "source": [
        "model2.summary()"
      ],
      "execution_count": 290,
      "outputs": [
        {
          "output_type": "stream",
          "text": [
            "Model: \"sequential_15\"\n",
            "_________________________________________________________________\n",
            "Layer (type)                 Output Shape              Param #   \n",
            "=================================================================\n",
            "dense_35 (Dense)             (None, 1)                 2         \n",
            "=================================================================\n",
            "Total params: 2\n",
            "Trainable params: 2\n",
            "Non-trainable params: 0\n",
            "_________________________________________________________________\n"
          ],
          "name": "stdout"
        }
      ]
    },
    {
      "cell_type": "code",
      "metadata": {
        "colab_type": "code",
        "outputId": "0ebd85f9-d823-4d02-b382-6c6b3afc41bc",
        "id": "CmjdRFs25k2Q",
        "colab": {
          "base_uri": "https://localhost:8080/",
          "height": 260
        }
      },
      "source": [
        "example_batch = test_predictions[:10]\n",
        "example_result = model2.predict(example_batch)\n",
        "example_result"
      ],
      "execution_count": 291,
      "outputs": [
        {
          "output_type": "stream",
          "text": [
            "Executing op MapDataset in device /job:localhost/replica:0/task:0/device:CPU:0\n",
            "Executing op FlatMapDataset in device /job:localhost/replica:0/task:0/device:CPU:0\n",
            "Executing op ParallelMapDataset in device /job:localhost/replica:0/task:0/device:CPU:0\n",
            "Executing op __inference_distributed_function_3026527 in device /job:localhost/replica:0/task:0/device:GPU:0\n"
          ],
          "name": "stdout"
        },
        {
          "output_type": "execute_result",
          "data": {
            "text/plain": [
              "array([[6.522414 ],\n",
              "       [6.4102244],\n",
              "       [6.18694  ],\n",
              "       [6.4617434],\n",
              "       [6.1605644],\n",
              "       [5.7492304],\n",
              "       [6.218312 ],\n",
              "       [6.2718678],\n",
              "       [6.0194254],\n",
              "       [5.7987905]], dtype=float32)"
            ]
          },
          "metadata": {
            "tags": []
          },
          "execution_count": 291
        }
      ]
    },
    {
      "cell_type": "markdown",
      "metadata": {
        "colab_type": "text",
        "id": "CfLPjBh65k2T"
      },
      "source": [
        "#### Train the model"
      ]
    },
    {
      "cell_type": "code",
      "metadata": {
        "colab_type": "code",
        "outputId": "2de783de-8c3e-426d-c5d8-bc7e520344c2",
        "id": "5izdegnh5k2U",
        "colab": {
          "base_uri": "https://localhost:8080/",
          "height": 367
        }
      },
      "source": [
        "EPOCHS = 100\n",
        "## model1를 이용해 Yi를 예측한 결과를 train data로 이용\n",
        "## Y18을 test data로 함\n",
        "tmp_features =  model.predict(df[x_col][n:n+n//10])\n",
        "tmp_labels = np.array(df['Y18'][n:n+n//10])\n",
        "\n",
        "history = model2.fit(\n",
        "  tmp_features, tmp_labels,\n",
        "  epochs=EPOCHS, validation_split = 0.1, verbose=0,\n",
        "  callbacks=[PrintDot()])"
      ],
      "execution_count": 292,
      "outputs": [
        {
          "output_type": "stream",
          "text": [
            "WARNING:tensorflow:Falling back from v2 loop because of error: Failed to find data adapter that can handle input: <class 'pandas.core.frame.DataFrame'>, <class 'NoneType'>\n",
            "Executing op MapDataset in device /job:localhost/replica:0/task:0/device:CPU:0\n",
            "Executing op FlatMapDataset in device /job:localhost/replica:0/task:0/device:CPU:0\n",
            "Executing op ParallelMapDataset in device /job:localhost/replica:0/task:0/device:CPU:0\n",
            "Executing op MapDataset in device /job:localhost/replica:0/task:0/device:CPU:0\n",
            "Executing op FlatMapDataset in device /job:localhost/replica:0/task:0/device:CPU:0\n",
            "Executing op ParallelMapDataset in device /job:localhost/replica:0/task:0/device:CPU:0\n",
            "Executing op VarHandleOp in device /job:localhost/replica:0/task:0/device:GPU:0\n",
            "Executing op VarHandleOp in device /job:localhost/replica:0/task:0/device:GPU:0\n",
            "Executing op VarHandleOp in device /job:localhost/replica:0/task:0/device:GPU:0\n",
            "Executing op VarHandleOp in device /job:localhost/replica:0/task:0/device:GPU:0\n",
            "Executing op VarHandleOp in device /job:localhost/replica:0/task:0/device:GPU:0\n",
            "Executing op VarHandleOp in device /job:localhost/replica:0/task:0/device:GPU:0\n",
            "Executing op VarHandleOp in device /job:localhost/replica:0/task:0/device:GPU:0\n",
            "Executing op __inference_initialize_variables_3026927 in device /job:localhost/replica:0/task:0/device:GPU:0\n",
            "Executing op __inference_distributed_function_3027119 in device /job:localhost/replica:0/task:0/device:GPU:0\n",
            "Executing op __inference_distributed_function_3027256 in device /job:localhost/replica:0/task:0/device:GPU:0\n",
            "\n",
            "...................................................................................................."
          ],
          "name": "stdout"
        }
      ]
    },
    {
      "cell_type": "code",
      "metadata": {
        "colab_type": "code",
        "outputId": "cd982f6a-2530-463d-a0c1-6ae148fcea57",
        "id": "O62AWVZ55k2h",
        "colab": {
          "base_uri": "https://localhost:8080/",
          "height": 677
        }
      },
      "source": [
        "hist = pd.DataFrame(history.history)\n",
        "hist['epoch'] = history.epoch\n",
        "hist[::5]"
      ],
      "execution_count": 293,
      "outputs": [
        {
          "output_type": "execute_result",
          "data": {
            "text/html": [
              "<div>\n",
              "<style scoped>\n",
              "    .dataframe tbody tr th:only-of-type {\n",
              "        vertical-align: middle;\n",
              "    }\n",
              "\n",
              "    .dataframe tbody tr th {\n",
              "        vertical-align: top;\n",
              "    }\n",
              "\n",
              "    .dataframe thead th {\n",
              "        text-align: right;\n",
              "    }\n",
              "</style>\n",
              "<table border=\"1\" class=\"dataframe\">\n",
              "  <thead>\n",
              "    <tr style=\"text-align: right;\">\n",
              "      <th></th>\n",
              "      <th>loss</th>\n",
              "      <th>mae</th>\n",
              "      <th>mse</th>\n",
              "      <th>val_loss</th>\n",
              "      <th>val_mae</th>\n",
              "      <th>val_mse</th>\n",
              "      <th>epoch</th>\n",
              "    </tr>\n",
              "  </thead>\n",
              "  <tbody>\n",
              "    <tr>\n",
              "      <th>0</th>\n",
              "      <td>51.634824</td>\n",
              "      <td>5.702112</td>\n",
              "      <td>51.634823</td>\n",
              "      <td>32.367986</td>\n",
              "      <td>5.126431</td>\n",
              "      <td>32.367985</td>\n",
              "      <td>0</td>\n",
              "    </tr>\n",
              "    <tr>\n",
              "      <th>5</th>\n",
              "      <td>13.760047</td>\n",
              "      <td>3.034199</td>\n",
              "      <td>13.760046</td>\n",
              "      <td>7.872715</td>\n",
              "      <td>1.908266</td>\n",
              "      <td>7.872715</td>\n",
              "      <td>5</td>\n",
              "    </tr>\n",
              "    <tr>\n",
              "      <th>10</th>\n",
              "      <td>13.640579</td>\n",
              "      <td>3.113108</td>\n",
              "      <td>13.640581</td>\n",
              "      <td>11.659881</td>\n",
              "      <td>2.556594</td>\n",
              "      <td>11.659882</td>\n",
              "      <td>10</td>\n",
              "    </tr>\n",
              "    <tr>\n",
              "      <th>15</th>\n",
              "      <td>13.676591</td>\n",
              "      <td>3.167153</td>\n",
              "      <td>13.676590</td>\n",
              "      <td>10.096580</td>\n",
              "      <td>2.301336</td>\n",
              "      <td>10.096580</td>\n",
              "      <td>15</td>\n",
              "    </tr>\n",
              "    <tr>\n",
              "      <th>20</th>\n",
              "      <td>13.660317</td>\n",
              "      <td>3.109551</td>\n",
              "      <td>13.660317</td>\n",
              "      <td>12.156977</td>\n",
              "      <td>2.645549</td>\n",
              "      <td>12.156977</td>\n",
              "      <td>20</td>\n",
              "    </tr>\n",
              "    <tr>\n",
              "      <th>25</th>\n",
              "      <td>13.425831</td>\n",
              "      <td>3.132507</td>\n",
              "      <td>13.425832</td>\n",
              "      <td>12.253627</td>\n",
              "      <td>2.664872</td>\n",
              "      <td>12.253628</td>\n",
              "      <td>25</td>\n",
              "    </tr>\n",
              "    <tr>\n",
              "      <th>30</th>\n",
              "      <td>13.507768</td>\n",
              "      <td>3.088011</td>\n",
              "      <td>13.507767</td>\n",
              "      <td>9.505672</td>\n",
              "      <td>2.210525</td>\n",
              "      <td>9.505672</td>\n",
              "      <td>30</td>\n",
              "    </tr>\n",
              "    <tr>\n",
              "      <th>35</th>\n",
              "      <td>13.411628</td>\n",
              "      <td>3.034391</td>\n",
              "      <td>13.411629</td>\n",
              "      <td>7.588449</td>\n",
              "      <td>1.872215</td>\n",
              "      <td>7.588448</td>\n",
              "      <td>35</td>\n",
              "    </tr>\n",
              "    <tr>\n",
              "      <th>40</th>\n",
              "      <td>13.386427</td>\n",
              "      <td>3.045550</td>\n",
              "      <td>13.386427</td>\n",
              "      <td>8.745630</td>\n",
              "      <td>2.085466</td>\n",
              "      <td>8.745630</td>\n",
              "      <td>40</td>\n",
              "    </tr>\n",
              "    <tr>\n",
              "      <th>45</th>\n",
              "      <td>13.301587</td>\n",
              "      <td>3.012035</td>\n",
              "      <td>13.301588</td>\n",
              "      <td>8.848106</td>\n",
              "      <td>2.106238</td>\n",
              "      <td>8.848105</td>\n",
              "      <td>45</td>\n",
              "    </tr>\n",
              "    <tr>\n",
              "      <th>50</th>\n",
              "      <td>13.247780</td>\n",
              "      <td>3.074194</td>\n",
              "      <td>13.247779</td>\n",
              "      <td>9.320134</td>\n",
              "      <td>2.190826</td>\n",
              "      <td>9.320134</td>\n",
              "      <td>50</td>\n",
              "    </tr>\n",
              "    <tr>\n",
              "      <th>55</th>\n",
              "      <td>13.345024</td>\n",
              "      <td>3.078861</td>\n",
              "      <td>13.345023</td>\n",
              "      <td>11.328969</td>\n",
              "      <td>2.530308</td>\n",
              "      <td>11.328968</td>\n",
              "      <td>55</td>\n",
              "    </tr>\n",
              "    <tr>\n",
              "      <th>60</th>\n",
              "      <td>13.115217</td>\n",
              "      <td>2.930725</td>\n",
              "      <td>13.115217</td>\n",
              "      <td>12.350690</td>\n",
              "      <td>2.700641</td>\n",
              "      <td>12.350690</td>\n",
              "      <td>60</td>\n",
              "    </tr>\n",
              "    <tr>\n",
              "      <th>65</th>\n",
              "      <td>13.115312</td>\n",
              "      <td>2.984828</td>\n",
              "      <td>13.115311</td>\n",
              "      <td>8.020829</td>\n",
              "      <td>1.971777</td>\n",
              "      <td>8.020829</td>\n",
              "      <td>65</td>\n",
              "    </tr>\n",
              "    <tr>\n",
              "      <th>70</th>\n",
              "      <td>13.240132</td>\n",
              "      <td>2.950618</td>\n",
              "      <td>13.240132</td>\n",
              "      <td>12.310229</td>\n",
              "      <td>2.698583</td>\n",
              "      <td>12.310229</td>\n",
              "      <td>70</td>\n",
              "    </tr>\n",
              "    <tr>\n",
              "      <th>75</th>\n",
              "      <td>13.019933</td>\n",
              "      <td>3.095762</td>\n",
              "      <td>13.019933</td>\n",
              "      <td>13.299581</td>\n",
              "      <td>2.863194</td>\n",
              "      <td>13.299582</td>\n",
              "      <td>75</td>\n",
              "    </tr>\n",
              "    <tr>\n",
              "      <th>80</th>\n",
              "      <td>13.125593</td>\n",
              "      <td>2.953165</td>\n",
              "      <td>13.125593</td>\n",
              "      <td>7.999137</td>\n",
              "      <td>1.975362</td>\n",
              "      <td>7.999136</td>\n",
              "      <td>80</td>\n",
              "    </tr>\n",
              "    <tr>\n",
              "      <th>85</th>\n",
              "      <td>13.032623</td>\n",
              "      <td>2.953033</td>\n",
              "      <td>13.032623</td>\n",
              "      <td>11.140289</td>\n",
              "      <td>2.515573</td>\n",
              "      <td>11.140289</td>\n",
              "      <td>85</td>\n",
              "    </tr>\n",
              "    <tr>\n",
              "      <th>90</th>\n",
              "      <td>13.028971</td>\n",
              "      <td>2.919917</td>\n",
              "      <td>13.028971</td>\n",
              "      <td>11.454337</td>\n",
              "      <td>2.569702</td>\n",
              "      <td>11.454337</td>\n",
              "      <td>90</td>\n",
              "    </tr>\n",
              "    <tr>\n",
              "      <th>95</th>\n",
              "      <td>12.794799</td>\n",
              "      <td>2.936543</td>\n",
              "      <td>12.794800</td>\n",
              "      <td>7.240041</td>\n",
              "      <td>1.834292</td>\n",
              "      <td>7.240042</td>\n",
              "      <td>95</td>\n",
              "    </tr>\n",
              "  </tbody>\n",
              "</table>\n",
              "</div>"
            ],
            "text/plain": [
              "         loss       mae        mse   val_loss   val_mae    val_mse  epoch\n",
              "0   51.634824  5.702112  51.634823  32.367986  5.126431  32.367985      0\n",
              "5   13.760047  3.034199  13.760046   7.872715  1.908266   7.872715      5\n",
              "10  13.640579  3.113108  13.640581  11.659881  2.556594  11.659882     10\n",
              "15  13.676591  3.167153  13.676590  10.096580  2.301336  10.096580     15\n",
              "20  13.660317  3.109551  13.660317  12.156977  2.645549  12.156977     20\n",
              "25  13.425831  3.132507  13.425832  12.253627  2.664872  12.253628     25\n",
              "30  13.507768  3.088011  13.507767   9.505672  2.210525   9.505672     30\n",
              "35  13.411628  3.034391  13.411629   7.588449  1.872215   7.588448     35\n",
              "40  13.386427  3.045550  13.386427   8.745630  2.085466   8.745630     40\n",
              "45  13.301587  3.012035  13.301588   8.848106  2.106238   8.848105     45\n",
              "50  13.247780  3.074194  13.247779   9.320134  2.190826   9.320134     50\n",
              "55  13.345024  3.078861  13.345023  11.328969  2.530308  11.328968     55\n",
              "60  13.115217  2.930725  13.115217  12.350690  2.700641  12.350690     60\n",
              "65  13.115312  2.984828  13.115311   8.020829  1.971777   8.020829     65\n",
              "70  13.240132  2.950618  13.240132  12.310229  2.698583  12.310229     70\n",
              "75  13.019933  3.095762  13.019933  13.299581  2.863194  13.299582     75\n",
              "80  13.125593  2.953165  13.125593   7.999137  1.975362   7.999136     80\n",
              "85  13.032623  2.953033  13.032623  11.140289  2.515573  11.140289     85\n",
              "90  13.028971  2.919917  13.028971  11.454337  2.569702  11.454337     90\n",
              "95  12.794799  2.936543  12.794800   7.240041  1.834292   7.240042     95"
            ]
          },
          "metadata": {
            "tags": []
          },
          "execution_count": 293
        }
      ]
    },
    {
      "cell_type": "code",
      "metadata": {
        "colab_type": "code",
        "outputId": "df89bd9e-b5e5-4ca2-ec3c-ba14af132f8e",
        "id": "e70cMEBu5k2j",
        "colab": {
          "base_uri": "https://localhost:8080/",
          "height": 412
        }
      },
      "source": [
        "plot_history(history, ylim_mae=(0, 5), ylim_mse=(0, 30))"
      ],
      "execution_count": 295,
      "outputs": [
        {
          "output_type": "display_data",
          "data": {
            "image/png": "[encoded data removed]",
            "text/plain": [
              "<Figure size 1440x432 with 2 Axes>"
            ]
          },
          "metadata": {
            "tags": []
          }
        }
      ]
    },
    {
      "cell_type": "markdown",
      "metadata": {
        "colab_type": "text",
        "id": "YVWrc04P5k2l"
      },
      "source": [
        "### Make predictions"
      ]
    },
    {
      "cell_type": "markdown",
      "metadata": {
        "colab_type": "text",
        "id": "bCVibh8G5k2n"
      },
      "source": [
        "#### 80일 예측 "
      ]
    },
    {
      "cell_type": "code",
      "metadata": {
        "colab_type": "code",
        "outputId": "8ed1977e-5a58-4ed5-ff52-75ffeb9ec0da",
        "id": "5xXJFyCU5k2n",
        "colab": {
          "base_uri": "https://localhost:8080/",
          "height": 124
        }
      },
      "source": [
        "test_predictions1 = model.predict(normed_test_80)\n",
        "test_predictions2 = model2.predict(test_predictions1)"
      ],
      "execution_count": 296,
      "outputs": [
        {
          "output_type": "stream",
          "text": [
            "WARNING:tensorflow:Falling back from v2 loop because of error: Failed to find data adapter that can handle input: <class 'pandas.core.frame.DataFrame'>, <class 'NoneType'>\n",
            "Executing op MapDataset in device /job:localhost/replica:0/task:0/device:CPU:0\n",
            "Executing op FlatMapDataset in device /job:localhost/replica:0/task:0/device:CPU:0\n",
            "Executing op ParallelMapDataset in device /job:localhost/replica:0/task:0/device:CPU:0\n",
            "Executing op __inference_distributed_function_3035082 in device /job:localhost/replica:0/task:0/device:GPU:0\n"
          ],
          "name": "stdout"
        }
      ]
    },
    {
      "cell_type": "code",
      "metadata": {
        "colab_type": "code",
        "id": "wsu_8ArH5k2p",
        "colab": {}
      },
      "source": [
        "# 제출 파일 만들기\n",
        "submit = pd.DataFrame({'id':range(144*33, 144*113),\n",
        "              'Y18':test_predictions2.reshape(1,-1)[0]})"
      ],
      "execution_count": 0,
      "outputs": []
    },
    {
      "cell_type": "code",
      "metadata": {
        "colab_type": "code",
        "id": "60EfnqQO5k2s",
        "colab": {}
      },
      "source": [
        "submit.to_csv('./results/baseline_result_2_'+now+'.csv', index = False)"
      ],
      "execution_count": 0,
      "outputs": []
    },
    {
      "cell_type": "code",
      "metadata": {
        "colab_type": "code",
        "id": "ICjbUmkm5k2u",
        "colab": {}
      },
      "source": [
        ""
      ],
      "execution_count": 0,
      "outputs": []
    },
    {
      "cell_type": "code",
      "metadata": {
        "colab_type": "code",
        "outputId": "9e0d6547-85f0-4746-ffc2-4aba1449bf9b",
        "id": "rA37lC_P60f3",
        "colab": {
          "base_uri": "https://localhost:8080/",
          "height": 106
        }
      },
      "source": [
        "test_predictions1 = model.predict(normed_test_80)\n",
        "test_predictions2 = model2.predict(test_predictions1)"
      ],
      "execution_count": 299,
      "outputs": [
        {
          "output_type": "stream",
          "text": [
            "WARNING:tensorflow:Falling back from v2 loop because of error: Failed to find data adapter that can handle input: <class 'pandas.core.frame.DataFrame'>, <class 'NoneType'>\n",
            "Executing op MapDataset in device /job:localhost/replica:0/task:0/device:CPU:0\n",
            "Executing op FlatMapDataset in device /job:localhost/replica:0/task:0/device:CPU:0\n",
            "Executing op ParallelMapDataset in device /job:localhost/replica:0/task:0/device:CPU:0\n"
          ],
          "name": "stdout"
        }
      ]
    },
    {
      "cell_type": "code",
      "metadata": {
        "colab_type": "code",
        "id": "gOauaQgJ60f8",
        "colab": {}
      },
      "source": [
        "# 제출 파일 만들기\n",
        "submit = pd.DataFrame({'id':range(144*33, 144*113),\n",
        "              'Y18':test_predictions2.reshape(1,-1)[0]})"
      ],
      "execution_count": 0,
      "outputs": []
    },
    {
      "cell_type": "code",
      "metadata": {
        "colab_type": "code",
        "id": "5R7fDVnD60gB",
        "colab": {}
      },
      "source": [
        "submit.to_csv('./results/baseline_result_2_'+now+'.csv', index = False)"
      ],
      "execution_count": 0,
      "outputs": []
    },
    {
      "cell_type": "code",
      "metadata": {
        "id": "4U_EiB8WboBy",
        "colab_type": "code",
        "colab": {}
      },
      "source": [
        ""
      ],
      "execution_count": 0,
      "outputs": []
    }
  ]
}