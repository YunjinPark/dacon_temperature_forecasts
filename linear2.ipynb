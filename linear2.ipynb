{
  "nbformat": 4,
  "nbformat_minor": 0,
  "metadata": {
    "colab": {
      "name": "eda.ipynb",
      "provenance": [],
      "collapsed_sections": []
    },
    "kernelspec": {
      "name": "python3",
      "display_name": "Python 3"
    },
    "accelerator": "GPU"
  },
  "cells": [
    {
      "cell_type": "code",
      "metadata": {
        "id": "GyZEIHm2bJZT",
        "colab_type": "code",
        "outputId": "7c0bd925-81fb-4b87-d09c-7f2a7a374bd2",
        "colab": {
          "base_uri": "https://localhost:8080/",
          "height": 905
        }
      },
      "source": [
        "#!pip install tensorflow==2.0.0\n",
        "!pip install tensorflow-gpu==2.0.0"
      ],
      "execution_count": 2,
      "outputs": [
        {
          "output_type": "stream",
          "text": [
            "Collecting tensorflow-gpu==2.0.0\n",
            "\u001b[?25l  Downloading https://files.pythonhosted.org/packages/25/44/47f0722aea081697143fbcf5d2aa60d1aee4aaacb5869aee2b568974777b/tensorflow_gpu-2.0.0-cp36-cp36m-manylinux2010_x86_64.whl (380.8MB)\n",
            "\u001b[K     |████████████████████████████████| 380.8MB 45kB/s \n",
            "\u001b[?25hRequirement already satisfied: absl-py>=0.7.0 in /usr/local/lib/python3.6/dist-packages (from tensorflow-gpu==2.0.0) (0.9.0)\n",
            "Requirement already satisfied: google-pasta>=0.1.6 in /usr/local/lib/python3.6/dist-packages (from tensorflow-gpu==2.0.0) (0.1.8)\n",
            "Requirement already satisfied: protobuf>=3.6.1 in /usr/local/lib/python3.6/dist-packages (from tensorflow-gpu==2.0.0) (3.10.0)\n",
            "Collecting tensorboard<2.1.0,>=2.0.0\n",
            "\u001b[?25l  Downloading https://files.pythonhosted.org/packages/76/54/99b9d5d52d5cb732f099baaaf7740403e83fe6b0cedde940fabd2b13d75a/tensorboard-2.0.2-py3-none-any.whl (3.8MB)\n",
            "\u001b[K     |████████████████████████████████| 3.8MB 48.3MB/s \n",
            "\u001b[?25hCollecting tensorflow-estimator<2.1.0,>=2.0.0\n",
            "\u001b[?25l  Downloading https://files.pythonhosted.org/packages/fc/08/8b927337b7019c374719145d1dceba21a8bb909b93b1ad6f8fb7d22c1ca1/tensorflow_estimator-2.0.1-py2.py3-none-any.whl (449kB)\n",
            "\u001b[K     |████████████████████████████████| 450kB 73.8MB/s \n",
            "\u001b[?25hRequirement already satisfied: gast==0.2.2 in /usr/local/lib/python3.6/dist-packages (from tensorflow-gpu==2.0.0) (0.2.2)\n",
            "Requirement already satisfied: opt-einsum>=2.3.2 in /usr/local/lib/python3.6/dist-packages (from tensorflow-gpu==2.0.0) (3.1.0)\n",
            "Requirement already satisfied: keras-preprocessing>=1.0.5 in /usr/local/lib/python3.6/dist-packages (from tensorflow-gpu==2.0.0) (1.1.0)\n",
            "Requirement already satisfied: termcolor>=1.1.0 in /usr/local/lib/python3.6/dist-packages (from tensorflow-gpu==2.0.0) (1.1.0)\n",
            "Requirement already satisfied: astor>=0.6.0 in /usr/local/lib/python3.6/dist-packages (from tensorflow-gpu==2.0.0) (0.8.1)\n",
            "Requirement already satisfied: keras-applications>=1.0.8 in /usr/local/lib/python3.6/dist-packages (from tensorflow-gpu==2.0.0) (1.0.8)\n",
            "Requirement already satisfied: six>=1.10.0 in /usr/local/lib/python3.6/dist-packages (from tensorflow-gpu==2.0.0) (1.12.0)\n",
            "Requirement already satisfied: grpcio>=1.8.6 in /usr/local/lib/python3.6/dist-packages (from tensorflow-gpu==2.0.0) (1.27.1)\n",
            "Requirement already satisfied: wheel>=0.26 in /usr/local/lib/python3.6/dist-packages (from tensorflow-gpu==2.0.0) (0.34.2)\n",
            "Requirement already satisfied: wrapt>=1.11.1 in /usr/local/lib/python3.6/dist-packages (from tensorflow-gpu==2.0.0) (1.11.2)\n",
            "Requirement already satisfied: numpy<2.0,>=1.16.0 in /usr/local/lib/python3.6/dist-packages (from tensorflow-gpu==2.0.0) (1.17.5)\n",
            "Requirement already satisfied: setuptools in /usr/local/lib/python3.6/dist-packages (from protobuf>=3.6.1->tensorflow-gpu==2.0.0) (45.2.0)\n",
            "Requirement already satisfied: requests<3,>=2.21.0 in /usr/local/lib/python3.6/dist-packages (from tensorboard<2.1.0,>=2.0.0->tensorflow-gpu==2.0.0) (2.21.0)\n",
            "Requirement already satisfied: werkzeug>=0.11.15 in /usr/local/lib/python3.6/dist-packages (from tensorboard<2.1.0,>=2.0.0->tensorflow-gpu==2.0.0) (1.0.0)\n",
            "Requirement already satisfied: markdown>=2.6.8 in /usr/local/lib/python3.6/dist-packages (from tensorboard<2.1.0,>=2.0.0->tensorflow-gpu==2.0.0) (3.2.1)\n",
            "Requirement already satisfied: google-auth<2,>=1.6.3 in /usr/local/lib/python3.6/dist-packages (from tensorboard<2.1.0,>=2.0.0->tensorflow-gpu==2.0.0) (1.7.2)\n",
            "Requirement already satisfied: google-auth-oauthlib<0.5,>=0.4.1 in /usr/local/lib/python3.6/dist-packages (from tensorboard<2.1.0,>=2.0.0->tensorflow-gpu==2.0.0) (0.4.1)\n",
            "Requirement already satisfied: h5py in /usr/local/lib/python3.6/dist-packages (from keras-applications>=1.0.8->tensorflow-gpu==2.0.0) (2.8.0)\n",
            "Requirement already satisfied: certifi>=2017.4.17 in /usr/local/lib/python3.6/dist-packages (from requests<3,>=2.21.0->tensorboard<2.1.0,>=2.0.0->tensorflow-gpu==2.0.0) (2019.11.28)\n",
            "Requirement already satisfied: urllib3<1.25,>=1.21.1 in /usr/local/lib/python3.6/dist-packages (from requests<3,>=2.21.0->tensorboard<2.1.0,>=2.0.0->tensorflow-gpu==2.0.0) (1.24.3)\n",
            "Requirement already satisfied: idna<2.9,>=2.5 in /usr/local/lib/python3.6/dist-packages (from requests<3,>=2.21.0->tensorboard<2.1.0,>=2.0.0->tensorflow-gpu==2.0.0) (2.8)\n",
            "Requirement already satisfied: chardet<3.1.0,>=3.0.2 in /usr/local/lib/python3.6/dist-packages (from requests<3,>=2.21.0->tensorboard<2.1.0,>=2.0.0->tensorflow-gpu==2.0.0) (3.0.4)\n",
            "Requirement already satisfied: cachetools<3.2,>=2.0.0 in /usr/local/lib/python3.6/dist-packages (from google-auth<2,>=1.6.3->tensorboard<2.1.0,>=2.0.0->tensorflow-gpu==2.0.0) (3.1.1)\n",
            "Requirement already satisfied: rsa<4.1,>=3.1.4 in /usr/local/lib/python3.6/dist-packages (from google-auth<2,>=1.6.3->tensorboard<2.1.0,>=2.0.0->tensorflow-gpu==2.0.0) (4.0)\n",
            "Requirement already satisfied: pyasn1-modules>=0.2.1 in /usr/local/lib/python3.6/dist-packages (from google-auth<2,>=1.6.3->tensorboard<2.1.0,>=2.0.0->tensorflow-gpu==2.0.0) (0.2.8)\n",
            "Requirement already satisfied: requests-oauthlib>=0.7.0 in /usr/local/lib/python3.6/dist-packages (from google-auth-oauthlib<0.5,>=0.4.1->tensorboard<2.1.0,>=2.0.0->tensorflow-gpu==2.0.0) (1.3.0)\n",
            "Requirement already satisfied: pyasn1>=0.1.3 in /usr/local/lib/python3.6/dist-packages (from rsa<4.1,>=3.1.4->google-auth<2,>=1.6.3->tensorboard<2.1.0,>=2.0.0->tensorflow-gpu==2.0.0) (0.4.8)\n",
            "Requirement already satisfied: oauthlib>=3.0.0 in /usr/local/lib/python3.6/dist-packages (from requests-oauthlib>=0.7.0->google-auth-oauthlib<0.5,>=0.4.1->tensorboard<2.1.0,>=2.0.0->tensorflow-gpu==2.0.0) (3.1.0)\n",
            "\u001b[31mERROR: tensorflow 1.15.0 has requirement tensorboard<1.16.0,>=1.15.0, but you'll have tensorboard 2.0.2 which is incompatible.\u001b[0m\n",
            "\u001b[31mERROR: tensorflow 1.15.0 has requirement tensorflow-estimator==1.15.1, but you'll have tensorflow-estimator 2.0.1 which is incompatible.\u001b[0m\n",
            "Installing collected packages: tensorboard, tensorflow-estimator, tensorflow-gpu\n",
            "  Found existing installation: tensorboard 1.15.0\n",
            "    Uninstalling tensorboard-1.15.0:\n",
            "      Successfully uninstalled tensorboard-1.15.0\n",
            "  Found existing installation: tensorflow-estimator 1.15.1\n",
            "    Uninstalling tensorflow-estimator-1.15.1:\n",
            "      Successfully uninstalled tensorflow-estimator-1.15.1\n",
            "Successfully installed tensorboard-2.0.2 tensorflow-estimator-2.0.1 tensorflow-gpu-2.0.0\n"
          ],
          "name": "stdout"
        }
      ]
    },
    {
      "cell_type": "code",
      "metadata": {
        "id": "ljQmMhBrcVSf",
        "colab_type": "code",
        "outputId": "4939f922-40b0-42d6-b86b-8825b5bd8cff",
        "colab": {
          "base_uri": "https://localhost:8080/",
          "height": 52
        }
      },
      "source": [
        "from __future__ import absolute_import, division, print_function, unicode_literals, unicode_literals\n",
        "\n",
        "import pathlib\n",
        "\n",
        "import matplotlib.pyplot as plt\n",
        "import pandas as pd\n",
        "import numpy as np\n",
        "import seaborn as sns\n",
        "\n",
        "import tensorflow as tf\n",
        "from tensorflow import keras\n",
        "from tensorflow.keras import layers\n",
        "\n",
        "print(tf.__version__)\n",
        "print(tf.test.is_gpu_available())"
      ],
      "execution_count": 3,
      "outputs": [
        {
          "output_type": "stream",
          "text": [
            "2.0.0\n",
            "True\n"
          ],
          "name": "stdout"
        }
      ]
    },
    {
      "cell_type": "code",
      "metadata": {
        "id": "exAR2Zb7J1l-",
        "colab_type": "code",
        "colab": {}
      },
      "source": [
        "tf.debugging.set_log_device_placement(True)"
      ],
      "execution_count": 0,
      "outputs": []
    },
    {
      "cell_type": "code",
      "metadata": {
        "id": "o3fuLjIcb9cN",
        "colab_type": "code",
        "colab": {}
      },
      "source": [
        "tf.random.set_seed(1234)\n"
      ],
      "execution_count": 0,
      "outputs": []
    },
    {
      "cell_type": "markdown",
      "metadata": {
        "id": "GnzbKvgWkMry",
        "colab_type": "text"
      },
      "source": [
        "# 0 한글 폰트"
      ]
    },
    {
      "cell_type": "code",
      "metadata": {
        "id": "C6K3dLGCcJly",
        "colab_type": "code",
        "outputId": "d9be0bc0-98ea-4390-bc8a-cb81e1d6e710",
        "colab": {
          "base_uri": "https://localhost:8080/",
          "height": 416
        }
      },
      "source": [
        "!wget \"https://noto-website-2.storage.googleapis.com/pkgs/NotoSansCJKkr-hinted.zip\"\n",
        "!unzip \"NotoSansCJKkr-hinted.zip\""
      ],
      "execution_count": 5,
      "outputs": [
        {
          "output_type": "stream",
          "text": [
            "--2020-03-11 07:02:42--  https://noto-website-2.storage.googleapis.com/pkgs/NotoSansCJKkr-hinted.zip\n",
            "Resolving noto-website-2.storage.googleapis.com (noto-website-2.storage.googleapis.com)... 108.177.119.128, 2a00:1450:4013:c00::80\n",
            "Connecting to noto-website-2.storage.googleapis.com (noto-website-2.storage.googleapis.com)|108.177.119.128|:443... connected.\n",
            "HTTP request sent, awaiting response... 200 OK\n",
            "Length: 121163981 (116M) [application/zip]\n",
            "Saving to: ‘NotoSansCJKkr-hinted.zip’\n",
            "\n",
            "NotoSansCJKkr-hinte 100%[===================>] 115.55M  37.1MB/s    in 3.1s    \n",
            "\n",
            "2020-03-11 07:02:46 (37.1 MB/s) - ‘NotoSansCJKkr-hinted.zip’ saved [121163981/121163981]\n",
            "\n",
            "Archive:  NotoSansCJKkr-hinted.zip\n",
            "  inflating: LICENSE_OFL.txt         \n",
            "  inflating: NotoSansCJKkr-Black.otf  \n",
            "  inflating: NotoSansCJKkr-Bold.otf  \n",
            "  inflating: NotoSansCJKkr-DemiLight.otf  \n",
            "  inflating: NotoSansCJKkr-Light.otf  \n",
            "  inflating: NotoSansCJKkr-Medium.otf  \n",
            "  inflating: NotoSansCJKkr-Regular.otf  \n",
            "  inflating: NotoSansCJKkr-Thin.otf  \n",
            "  inflating: NotoSansMonoCJKkr-Bold.otf  \n",
            "  inflating: NotoSansMonoCJKkr-Regular.otf  \n",
            "  inflating: README                  \n"
          ],
          "name": "stdout"
        }
      ]
    },
    {
      "cell_type": "code",
      "metadata": {
        "id": "fzQ6HS3Ne5dn",
        "colab_type": "code",
        "colab": {}
      },
      "source": [
        "!mv NotoSansCJKkr-Medium.otf /usr/share/fonts/truetype/"
      ],
      "execution_count": 0,
      "outputs": []
    },
    {
      "cell_type": "code",
      "metadata": {
        "id": "0YfjC4ZHe62p",
        "colab_type": "code",
        "colab": {}
      },
      "source": [
        "import matplotlib.pyplot as plt\n",
        "import matplotlib.font_manager as fm\n",
        "\n",
        "font_dirs = ['/usr/share/fonts/truetype']\n",
        "font_files = fm.findSystemFonts(fontpaths=font_dirs)\n",
        "font_list = fm.createFontList(font_files)\n",
        "fm.fontManager.ttflist.extend(font_list)\n",
        "plt.rcParams['font.family'] = \"Noto Sans CJK KR\""
      ],
      "execution_count": 0,
      "outputs": []
    },
    {
      "cell_type": "markdown",
      "metadata": {
        "id": "wM7X5C35N-4n",
        "colab_type": "text"
      },
      "source": [
        "# 1. 데이터 읽기 "
      ]
    },
    {
      "cell_type": "markdown",
      "metadata": {
        "id": "1CatWTjLPg_Q",
        "colab_type": "text"
      },
      "source": [
        "Contents of the Notebook:\n",
        "Part1: Exploratory Data Analysis(EDA):\n",
        "\n",
        "1)Analysis of the features.\n",
        "\n",
        "2)Finding any relations or trends considering multiple features.\n",
        "Part2: Feature Engineering and Data Cleaning:\n",
        "\n",
        "1)Adding any few features.\n",
        "\n",
        "2)Removing redundant features.\n",
        "\n",
        "3)Converting features into suitable form for modeling.\n",
        "Part3: Predictive Modeling\n",
        "\n",
        "1)Running Basic Algorithms.\n",
        "\n",
        "2)Cross Validation.\n",
        "\n",
        "3)Ensembling.\n",
        "\n",
        "4)Important Features Extraction"
      ]
    },
    {
      "cell_type": "markdown",
      "metadata": {
        "id": "PSHLZvJmcPRs",
        "colab_type": "text"
      },
      "source": [
        "# 1. 데이터 불러오기"
      ]
    },
    {
      "cell_type": "code",
      "metadata": {
        "id": "4UP_N36kWbEw",
        "colab_type": "code",
        "outputId": "9b48cbb7-a56f-4b38-a8a8-0a5ad05ed813",
        "colab": {
          "base_uri": "https://localhost:8080/",
          "height": 124
        }
      },
      "source": [
        "from google.colab import drive\n",
        "drive.mount('/content/drive')"
      ],
      "execution_count": 8,
      "outputs": [
        {
          "output_type": "stream",
          "text": [
            "Go to this URL in a browser: https://accounts.google.com/o/oauth2/auth?client_id=947318989803-6bn6qk8qdgf4n4g3pfee6491hc0brc4i.apps.googleusercontent.com&redirect_uri=urn%3aietf%3awg%3aoauth%3a2.0%3aoob&response_type=code&scope=email%20https%3a%2f%2fwww.googleapis.com%2fauth%2fdocs.test%20https%3a%2f%2fwww.googleapis.com%2fauth%2fdrive%20https%3a%2f%2fwww.googleapis.com%2fauth%2fdrive.photos.readonly%20https%3a%2f%2fwww.googleapis.com%2fauth%2fpeopleapi.readonly\n",
            "\n",
            "Enter your authorization code:\n",
            "··········\n",
            "Mounted at /content/drive\n"
          ],
          "name": "stdout"
        }
      ]
    },
    {
      "cell_type": "code",
      "metadata": {
        "id": "p83KetSckP5E",
        "colab_type": "code",
        "outputId": "d07acea8-9aee-4772-e473-c66280022d3b",
        "colab": {
          "base_uri": "https://localhost:8080/",
          "height": 34
        }
      },
      "source": [
        "import os\n",
        "from pathlib import Path\n",
        "\n",
        "folder = \"Colab Notebooks/dacon\"\n",
        "project_dir = \"temperature_forecasting\"\n",
        "\n",
        "base_path = Path(\"/content/drive/My Drive/\")\n",
        "project_path = base_path / folder / project_dir\n",
        "os.chdir(project_path)\n",
        "# for x in list(project_path.glob(\"*\")):\n",
        "#     if x.is_dir():\n",
        "#         dir_name = str(x.relative_to(project_path))\n",
        "#         os.rename(dir_name, dir_name.split(\" \", 1)[0])\n",
        "print(f\"현재 디렉토리 위치: {os.getcwd()}\")"
      ],
      "execution_count": 9,
      "outputs": [
        {
          "output_type": "stream",
          "text": [
            "현재 디렉토리 위치: /content/drive/My Drive/Colab Notebooks/dacon/temperature_forecasting\n"
          ],
          "name": "stdout"
        }
      ]
    },
    {
      "cell_type": "code",
      "metadata": {
        "id": "0Q_lQowbbf9h",
        "colab_type": "code",
        "outputId": "f48d4b96-ed1e-4010-bdd2-589485cdae81",
        "colab": {
          "base_uri": "https://localhost:8080/",
          "height": 34
        }
      },
      "source": [
        "df = pd.read_csv('./data/'+'train.csv')\n",
        "df.shape"
      ],
      "execution_count": 10,
      "outputs": [
        {
          "output_type": "execute_result",
          "data": {
            "text/plain": [
              "(4752, 60)"
            ]
          },
          "metadata": {
            "tags": []
          },
          "execution_count": 10
        }
      ]
    },
    {
      "cell_type": "markdown",
      "metadata": {
        "id": "Bo_lvrxI_-yr",
        "colab_type": "text"
      },
      "source": [
        "* 4320개(30일)\n",
        "* 432개(3일) "
      ]
    },
    {
      "cell_type": "markdown",
      "metadata": {
        "id": "9k4dS_DVAL7j",
        "colab_type": "text"
      },
      "source": [
        "|-|30일(train)|3일(train)|80일(test)|\n",
        "|---|---|---|---|\n",
        "|Y18|NULL|432개|NULL|\n",
        "|Y00-Y17|4320개|NULL|NULL|\n",
        "|X00-X17|4320개|432개|11520개|"
      ]
    },
    {
      "cell_type": "code",
      "metadata": {
        "id": "sBmyVGEc_wo5",
        "colab_type": "code",
        "colab": {}
      },
      "source": [
        "n = 4320"
      ],
      "execution_count": 0,
      "outputs": []
    },
    {
      "cell_type": "code",
      "metadata": {
        "id": "Ia34EAsemRiU",
        "colab_type": "code",
        "outputId": "2bbad973-676c-4f04-93b0-4f9aa6be8690",
        "colab": {
          "base_uri": "https://localhost:8080/",
          "height": 34
        }
      },
      "source": [
        "df_test = pd.read_csv('./data/test.csv')\n",
        "df_test.shape"
      ],
      "execution_count": 12,
      "outputs": [
        {
          "output_type": "execute_result",
          "data": {
            "text/plain": [
              "(11520, 41)"
            ]
          },
          "metadata": {
            "tags": []
          },
          "execution_count": 12
        }
      ]
    },
    {
      "cell_type": "markdown",
      "metadata": {
        "id": "BoVcePUUenSg",
        "colab_type": "text"
      },
      "source": [
        "## x"
      ]
    },
    {
      "cell_type": "markdown",
      "metadata": {
        "id": "HK-xZpb6eroq",
        "colab_type": "text"
      },
      "source": [
        "* feat_temp: 기온 \n",
        "* feat_air_press: 현지기압\n",
        "* feat_wind_speed: 풍속\n",
        "* feat_rainfall: 일일 누적강수량 \n",
        "* feat_sea_press: 해면기압\n",
        "* feat_insol: 일일 누적일사량\n",
        "* feat_humid: 습도\n",
        "* feat_dir_wind: 풍향\n",
        "\n"
      ]
    },
    {
      "cell_type": "code",
      "metadata": {
        "id": "JEdugNkuQEHm",
        "colab_type": "code",
        "colab": {}
      },
      "source": [
        "#feat_x = [feat_temp, feat_air_press, feat_wind_speed, feat_rainfall, feat_sea_press, feat_insol, feat_humid, feat_dir_wind]\n",
        "feat_x = ['X00', 'X01', 'X02', 'X03', 'X04', 'X05', 'X06', 'X07', 'X08', 'X09', \n",
        "          'X10', 'X11', 'X12', 'X13', 'X14', 'X15', 'X16', 'X17', 'X18', 'X19', \n",
        "          'X20', 'X21', 'X22', 'X23', 'X24', 'X25', 'X26', 'X27', 'X28', 'X29', \n",
        "          'X30', 'X31', 'X32', 'X33', 'X34', 'X35', 'X36', 'X37', 'X38', 'X39']\n",
        "feat_temp = ['X00', 'X07', 'X28', 'X31', 'X32']\n",
        "feat_air_press = ['X01', 'X06', 'X22', 'X27', 'X29']\n",
        "feat_wind_speed = ['X02', 'X03', 'X18', 'X24', 'X26']\n",
        "feat_rainfall = ['X04', 'X10', 'X21', 'X36', 'X39']\n",
        "feat_sea_press = ['X05', 'X08', 'X09', 'X23', 'X33']\n",
        "feat_insol = ['X11', 'X14', 'X16', 'X19', 'X34']\n",
        "feat_humid = ['X12', 'X20', 'X30', 'X37', 'X38']\n",
        "feat_dir_wind = ['X13', 'X15', 'X17', 'X25', 'X35']"
      ],
      "execution_count": 0,
      "outputs": []
    },
    {
      "cell_type": "code",
      "metadata": {
        "id": "lvYlhcYLQELJ",
        "colab_type": "code",
        "outputId": "fa53cb6e-a441-41b0-d69a-18a6ab3e72ab",
        "colab": {
          "base_uri": "https://localhost:8080/",
          "height": 163
        }
      },
      "source": [
        "df[feat_x].head(3)"
      ],
      "execution_count": 14,
      "outputs": [
        {
          "output_type": "execute_result",
          "data": {
            "text/html": [
              "<div>\n",
              "<style scoped>\n",
              "    .dataframe tbody tr th:only-of-type {\n",
              "        vertical-align: middle;\n",
              "    }\n",
              "\n",
              "    .dataframe tbody tr th {\n",
              "        vertical-align: top;\n",
              "    }\n",
              "\n",
              "    .dataframe thead th {\n",
              "        text-align: right;\n",
              "    }\n",
              "</style>\n",
              "<table border=\"1\" class=\"dataframe\">\n",
              "  <thead>\n",
              "    <tr style=\"text-align: right;\">\n",
              "      <th></th>\n",
              "      <th>X00</th>\n",
              "      <th>X01</th>\n",
              "      <th>X02</th>\n",
              "      <th>X03</th>\n",
              "      <th>X04</th>\n",
              "      <th>X05</th>\n",
              "      <th>X06</th>\n",
              "      <th>X07</th>\n",
              "      <th>X08</th>\n",
              "      <th>X09</th>\n",
              "      <th>X10</th>\n",
              "      <th>X11</th>\n",
              "      <th>X12</th>\n",
              "      <th>X13</th>\n",
              "      <th>X14</th>\n",
              "      <th>X15</th>\n",
              "      <th>X16</th>\n",
              "      <th>X17</th>\n",
              "      <th>X18</th>\n",
              "      <th>X19</th>\n",
              "      <th>X20</th>\n",
              "      <th>X21</th>\n",
              "      <th>X22</th>\n",
              "      <th>X23</th>\n",
              "      <th>X24</th>\n",
              "      <th>X25</th>\n",
              "      <th>X26</th>\n",
              "      <th>X27</th>\n",
              "      <th>X28</th>\n",
              "      <th>X29</th>\n",
              "      <th>X30</th>\n",
              "      <th>X31</th>\n",
              "      <th>X32</th>\n",
              "      <th>X33</th>\n",
              "      <th>X34</th>\n",
              "      <th>X35</th>\n",
              "      <th>X36</th>\n",
              "      <th>X37</th>\n",
              "      <th>X38</th>\n",
              "      <th>X39</th>\n",
              "    </tr>\n",
              "  </thead>\n",
              "  <tbody>\n",
              "    <tr>\n",
              "      <th>0</th>\n",
              "      <td>9.7</td>\n",
              "      <td>988.8</td>\n",
              "      <td>1.2</td>\n",
              "      <td>0.6</td>\n",
              "      <td>0.0</td>\n",
              "      <td>1009.3</td>\n",
              "      <td>989.6</td>\n",
              "      <td>12.2</td>\n",
              "      <td>1009.9</td>\n",
              "      <td>1009.8</td>\n",
              "      <td>0.0</td>\n",
              "      <td>0.0</td>\n",
              "      <td>82.4</td>\n",
              "      <td>71.3</td>\n",
              "      <td>0.0</td>\n",
              "      <td>101.1</td>\n",
              "      <td>0.0</td>\n",
              "      <td>56.1</td>\n",
              "      <td>0.3</td>\n",
              "      <td>0.0</td>\n",
              "      <td>91.0</td>\n",
              "      <td>0.0</td>\n",
              "      <td>1002.5</td>\n",
              "      <td>1009.8</td>\n",
              "      <td>1.1</td>\n",
              "      <td>2.3</td>\n",
              "      <td>0.5</td>\n",
              "      <td>1008.7</td>\n",
              "      <td>12.3</td>\n",
              "      <td>1001.6</td>\n",
              "      <td>69.1</td>\n",
              "      <td>8.2</td>\n",
              "      <td>10.7</td>\n",
              "      <td>1010.1</td>\n",
              "      <td>0.0</td>\n",
              "      <td>256.4</td>\n",
              "      <td>0.0</td>\n",
              "      <td>77.2</td>\n",
              "      <td>62.6</td>\n",
              "      <td>0.0</td>\n",
              "    </tr>\n",
              "    <tr>\n",
              "      <th>1</th>\n",
              "      <td>9.3</td>\n",
              "      <td>988.9</td>\n",
              "      <td>1.7</td>\n",
              "      <td>1.9</td>\n",
              "      <td>0.0</td>\n",
              "      <td>1009.3</td>\n",
              "      <td>989.6</td>\n",
              "      <td>12.1</td>\n",
              "      <td>1010.0</td>\n",
              "      <td>1009.9</td>\n",
              "      <td>0.0</td>\n",
              "      <td>0.0</td>\n",
              "      <td>81.2</td>\n",
              "      <td>121.8</td>\n",
              "      <td>0.0</td>\n",
              "      <td>165.3</td>\n",
              "      <td>0.0</td>\n",
              "      <td>0.0</td>\n",
              "      <td>0.4</td>\n",
              "      <td>0.0</td>\n",
              "      <td>91.9</td>\n",
              "      <td>0.0</td>\n",
              "      <td>1002.5</td>\n",
              "      <td>1009.9</td>\n",
              "      <td>0.0</td>\n",
              "      <td>0.0</td>\n",
              "      <td>0.0</td>\n",
              "      <td>1008.7</td>\n",
              "      <td>12.1</td>\n",
              "      <td>1001.7</td>\n",
              "      <td>70.3</td>\n",
              "      <td>8.3</td>\n",
              "      <td>10.3</td>\n",
              "      <td>1010.1</td>\n",
              "      <td>0.0</td>\n",
              "      <td>215.4</td>\n",
              "      <td>0.0</td>\n",
              "      <td>77.3</td>\n",
              "      <td>63.5</td>\n",
              "      <td>0.0</td>\n",
              "    </tr>\n",
              "    <tr>\n",
              "      <th>2</th>\n",
              "      <td>9.4</td>\n",
              "      <td>989.0</td>\n",
              "      <td>1.1</td>\n",
              "      <td>2.3</td>\n",
              "      <td>0.0</td>\n",
              "      <td>1009.2</td>\n",
              "      <td>989.7</td>\n",
              "      <td>12.1</td>\n",
              "      <td>1010.1</td>\n",
              "      <td>1010.1</td>\n",
              "      <td>0.0</td>\n",
              "      <td>0.0</td>\n",
              "      <td>86.1</td>\n",
              "      <td>232.0</td>\n",
              "      <td>0.0</td>\n",
              "      <td>144.0</td>\n",
              "      <td>0.0</td>\n",
              "      <td>0.0</td>\n",
              "      <td>0.6</td>\n",
              "      <td>0.0</td>\n",
              "      <td>93.3</td>\n",
              "      <td>0.0</td>\n",
              "      <td>1002.4</td>\n",
              "      <td>1009.8</td>\n",
              "      <td>0.0</td>\n",
              "      <td>0.0</td>\n",
              "      <td>0.0</td>\n",
              "      <td>1008.6</td>\n",
              "      <td>12.1</td>\n",
              "      <td>1001.6</td>\n",
              "      <td>71.5</td>\n",
              "      <td>8.0</td>\n",
              "      <td>9.7</td>\n",
              "      <td>1010.0</td>\n",
              "      <td>0.0</td>\n",
              "      <td>235.2</td>\n",
              "      <td>0.0</td>\n",
              "      <td>77.3</td>\n",
              "      <td>63.9</td>\n",
              "      <td>0.0</td>\n",
              "    </tr>\n",
              "  </tbody>\n",
              "</table>\n",
              "</div>"
            ],
            "text/plain": [
              "   X00    X01  X02  X03  X04     X05  ...  X34    X35  X36   X37   X38  X39\n",
              "0  9.7  988.8  1.2  0.6  0.0  1009.3  ...  0.0  256.4  0.0  77.2  62.6  0.0\n",
              "1  9.3  988.9  1.7  1.9  0.0  1009.3  ...  0.0  215.4  0.0  77.3  63.5  0.0\n",
              "2  9.4  989.0  1.1  2.3  0.0  1009.2  ...  0.0  235.2  0.0  77.3  63.9  0.0\n",
              "\n",
              "[3 rows x 40 columns]"
            ]
          },
          "metadata": {
            "tags": []
          },
          "execution_count": 14
        }
      ]
    },
    {
      "cell_type": "code",
      "metadata": {
        "id": "CQgIo_-fYIs-",
        "colab_type": "code",
        "outputId": "4a12244b-0605-4bf8-df40-8ee8b4f2d2aa",
        "colab": {
          "base_uri": "https://localhost:8080/",
          "height": 163
        }
      },
      "source": [
        "df[feat_x].tail(3)"
      ],
      "execution_count": 15,
      "outputs": [
        {
          "output_type": "execute_result",
          "data": {
            "text/html": [
              "<div>\n",
              "<style scoped>\n",
              "    .dataframe tbody tr th:only-of-type {\n",
              "        vertical-align: middle;\n",
              "    }\n",
              "\n",
              "    .dataframe tbody tr th {\n",
              "        vertical-align: top;\n",
              "    }\n",
              "\n",
              "    .dataframe thead th {\n",
              "        text-align: right;\n",
              "    }\n",
              "</style>\n",
              "<table border=\"1\" class=\"dataframe\">\n",
              "  <thead>\n",
              "    <tr style=\"text-align: right;\">\n",
              "      <th></th>\n",
              "      <th>X00</th>\n",
              "      <th>X01</th>\n",
              "      <th>X02</th>\n",
              "      <th>X03</th>\n",
              "      <th>X04</th>\n",
              "      <th>X05</th>\n",
              "      <th>X06</th>\n",
              "      <th>X07</th>\n",
              "      <th>X08</th>\n",
              "      <th>X09</th>\n",
              "      <th>X10</th>\n",
              "      <th>X11</th>\n",
              "      <th>X12</th>\n",
              "      <th>X13</th>\n",
              "      <th>X14</th>\n",
              "      <th>X15</th>\n",
              "      <th>X16</th>\n",
              "      <th>X17</th>\n",
              "      <th>X18</th>\n",
              "      <th>X19</th>\n",
              "      <th>X20</th>\n",
              "      <th>X21</th>\n",
              "      <th>X22</th>\n",
              "      <th>X23</th>\n",
              "      <th>X24</th>\n",
              "      <th>X25</th>\n",
              "      <th>X26</th>\n",
              "      <th>X27</th>\n",
              "      <th>X28</th>\n",
              "      <th>X29</th>\n",
              "      <th>X30</th>\n",
              "      <th>X31</th>\n",
              "      <th>X32</th>\n",
              "      <th>X33</th>\n",
              "      <th>X34</th>\n",
              "      <th>X35</th>\n",
              "      <th>X36</th>\n",
              "      <th>X37</th>\n",
              "      <th>X38</th>\n",
              "      <th>X39</th>\n",
              "    </tr>\n",
              "  </thead>\n",
              "  <tbody>\n",
              "    <tr>\n",
              "      <th>4749</th>\n",
              "      <td>19.7</td>\n",
              "      <td>987.7</td>\n",
              "      <td>0.9</td>\n",
              "      <td>0.6</td>\n",
              "      <td>0.0</td>\n",
              "      <td>1006.9</td>\n",
              "      <td>987.6</td>\n",
              "      <td>21.4</td>\n",
              "      <td>1007.4</td>\n",
              "      <td>1007.5</td>\n",
              "      <td>2.5</td>\n",
              "      <td>23.88</td>\n",
              "      <td>95.9</td>\n",
              "      <td>127.8</td>\n",
              "      <td>0.0</td>\n",
              "      <td>256.1</td>\n",
              "      <td>0.0</td>\n",
              "      <td>299.1</td>\n",
              "      <td>0.6</td>\n",
              "      <td>0.0</td>\n",
              "      <td>90.8</td>\n",
              "      <td>10.5</td>\n",
              "      <td>1000.4</td>\n",
              "      <td>1007.6</td>\n",
              "      <td>0.0</td>\n",
              "      <td>0.0</td>\n",
              "      <td>0.2</td>\n",
              "      <td>1006.0</td>\n",
              "      <td>23.6</td>\n",
              "      <td>999.5</td>\n",
              "      <td>90.2</td>\n",
              "      <td>17.8</td>\n",
              "      <td>19.2</td>\n",
              "      <td>1007.5</td>\n",
              "      <td>22.16</td>\n",
              "      <td>254.2</td>\n",
              "      <td>0.0</td>\n",
              "      <td>83.0</td>\n",
              "      <td>58.9</td>\n",
              "      <td>0.5</td>\n",
              "    </tr>\n",
              "    <tr>\n",
              "      <th>4750</th>\n",
              "      <td>19.4</td>\n",
              "      <td>987.7</td>\n",
              "      <td>0.9</td>\n",
              "      <td>0.8</td>\n",
              "      <td>0.0</td>\n",
              "      <td>1006.9</td>\n",
              "      <td>987.8</td>\n",
              "      <td>21.3</td>\n",
              "      <td>1007.6</td>\n",
              "      <td>1007.5</td>\n",
              "      <td>2.5</td>\n",
              "      <td>23.88</td>\n",
              "      <td>95.9</td>\n",
              "      <td>323.8</td>\n",
              "      <td>0.0</td>\n",
              "      <td>255.1</td>\n",
              "      <td>0.0</td>\n",
              "      <td>0.0</td>\n",
              "      <td>0.6</td>\n",
              "      <td>0.0</td>\n",
              "      <td>91.5</td>\n",
              "      <td>10.5</td>\n",
              "      <td>1000.4</td>\n",
              "      <td>1007.6</td>\n",
              "      <td>0.0</td>\n",
              "      <td>0.0</td>\n",
              "      <td>0.1</td>\n",
              "      <td>1006.0</td>\n",
              "      <td>23.3</td>\n",
              "      <td>999.5</td>\n",
              "      <td>90.1</td>\n",
              "      <td>17.7</td>\n",
              "      <td>19.3</td>\n",
              "      <td>1007.6</td>\n",
              "      <td>22.16</td>\n",
              "      <td>300.0</td>\n",
              "      <td>0.0</td>\n",
              "      <td>83.2</td>\n",
              "      <td>59.8</td>\n",
              "      <td>0.5</td>\n",
              "    </tr>\n",
              "    <tr>\n",
              "      <th>4751</th>\n",
              "      <td>19.1</td>\n",
              "      <td>987.6</td>\n",
              "      <td>1.0</td>\n",
              "      <td>0.3</td>\n",
              "      <td>0.0</td>\n",
              "      <td>1006.8</td>\n",
              "      <td>987.8</td>\n",
              "      <td>21.2</td>\n",
              "      <td>1007.5</td>\n",
              "      <td>1007.4</td>\n",
              "      <td>2.5</td>\n",
              "      <td>23.88</td>\n",
              "      <td>96.2</td>\n",
              "      <td>0.0</td>\n",
              "      <td>0.0</td>\n",
              "      <td>237.2</td>\n",
              "      <td>0.0</td>\n",
              "      <td>17.7</td>\n",
              "      <td>0.0</td>\n",
              "      <td>0.0</td>\n",
              "      <td>93.0</td>\n",
              "      <td>10.5</td>\n",
              "      <td>1000.3</td>\n",
              "      <td>1007.6</td>\n",
              "      <td>0.0</td>\n",
              "      <td>0.0</td>\n",
              "      <td>0.1</td>\n",
              "      <td>1006.1</td>\n",
              "      <td>23.2</td>\n",
              "      <td>999.5</td>\n",
              "      <td>89.6</td>\n",
              "      <td>17.7</td>\n",
              "      <td>19.5</td>\n",
              "      <td>1007.7</td>\n",
              "      <td>22.16</td>\n",
              "      <td>157.5</td>\n",
              "      <td>0.0</td>\n",
              "      <td>84.0</td>\n",
              "      <td>59.5</td>\n",
              "      <td>0.5</td>\n",
              "    </tr>\n",
              "  </tbody>\n",
              "</table>\n",
              "</div>"
            ],
            "text/plain": [
              "       X00    X01  X02  X03  X04     X05  ...    X34    X35  X36   X37   X38  X39\n",
              "4749  19.7  987.7  0.9  0.6  0.0  1006.9  ...  22.16  254.2  0.0  83.0  58.9  0.5\n",
              "4750  19.4  987.7  0.9  0.8  0.0  1006.9  ...  22.16  300.0  0.0  83.2  59.8  0.5\n",
              "4751  19.1  987.6  1.0  0.3  0.0  1006.8  ...  22.16  157.5  0.0  84.0  59.5  0.5\n",
              "\n",
              "[3 rows x 40 columns]"
            ]
          },
          "metadata": {
            "tags": []
          },
          "execution_count": 15
        }
      ]
    },
    {
      "cell_type": "code",
      "metadata": {
        "id": "vDk3ymIEmRlX",
        "colab_type": "code",
        "outputId": "fb5aebe8-e6d0-4eb0-c52a-07d1b9b28257",
        "colab": {
          "base_uri": "https://localhost:8080/",
          "height": 320
        }
      },
      "source": [
        "df_test.describe()"
      ],
      "execution_count": 16,
      "outputs": [
        {
          "output_type": "execute_result",
          "data": {
            "text/html": [
              "<div>\n",
              "<style scoped>\n",
              "    .dataframe tbody tr th:only-of-type {\n",
              "        vertical-align: middle;\n",
              "    }\n",
              "\n",
              "    .dataframe tbody tr th {\n",
              "        vertical-align: top;\n",
              "    }\n",
              "\n",
              "    .dataframe thead th {\n",
              "        text-align: right;\n",
              "    }\n",
              "</style>\n",
              "<table border=\"1\" class=\"dataframe\">\n",
              "  <thead>\n",
              "    <tr style=\"text-align: right;\">\n",
              "      <th></th>\n",
              "      <th>id</th>\n",
              "      <th>X00</th>\n",
              "      <th>X01</th>\n",
              "      <th>X02</th>\n",
              "      <th>X03</th>\n",
              "      <th>X04</th>\n",
              "      <th>X05</th>\n",
              "      <th>X06</th>\n",
              "      <th>X07</th>\n",
              "      <th>X08</th>\n",
              "      <th>X09</th>\n",
              "      <th>X10</th>\n",
              "      <th>X11</th>\n",
              "      <th>X12</th>\n",
              "      <th>X13</th>\n",
              "      <th>X14</th>\n",
              "      <th>X15</th>\n",
              "      <th>X16</th>\n",
              "      <th>X17</th>\n",
              "      <th>X18</th>\n",
              "      <th>X19</th>\n",
              "      <th>X20</th>\n",
              "      <th>X21</th>\n",
              "      <th>X22</th>\n",
              "      <th>X23</th>\n",
              "      <th>X24</th>\n",
              "      <th>X25</th>\n",
              "      <th>X26</th>\n",
              "      <th>X27</th>\n",
              "      <th>X28</th>\n",
              "      <th>X29</th>\n",
              "      <th>X30</th>\n",
              "      <th>X31</th>\n",
              "      <th>X32</th>\n",
              "      <th>X33</th>\n",
              "      <th>X34</th>\n",
              "      <th>X35</th>\n",
              "      <th>X36</th>\n",
              "      <th>X37</th>\n",
              "      <th>X38</th>\n",
              "      <th>X39</th>\n",
              "    </tr>\n",
              "  </thead>\n",
              "  <tbody>\n",
              "    <tr>\n",
              "      <th>count</th>\n",
              "      <td>11520.000000</td>\n",
              "      <td>11520.000000</td>\n",
              "      <td>11520.000000</td>\n",
              "      <td>11520.000000</td>\n",
              "      <td>11520.000000</td>\n",
              "      <td>11520.000000</td>\n",
              "      <td>11520.000000</td>\n",
              "      <td>11520.000000</td>\n",
              "      <td>11520.000000</td>\n",
              "      <td>11520.000000</td>\n",
              "      <td>11520.000000</td>\n",
              "      <td>11520.000000</td>\n",
              "      <td>11520.000000</td>\n",
              "      <td>11520.000000</td>\n",
              "      <td>11520.000000</td>\n",
              "      <td>11520.0</td>\n",
              "      <td>11520.000000</td>\n",
              "      <td>11520.0</td>\n",
              "      <td>11520.000000</td>\n",
              "      <td>11520.000000</td>\n",
              "      <td>11520.0</td>\n",
              "      <td>11520.000000</td>\n",
              "      <td>11520.000000</td>\n",
              "      <td>11520.000000</td>\n",
              "      <td>11520.000000</td>\n",
              "      <td>11520.000000</td>\n",
              "      <td>11520.000000</td>\n",
              "      <td>11520.000000</td>\n",
              "      <td>11520.000000</td>\n",
              "      <td>11520.000000</td>\n",
              "      <td>11520.000000</td>\n",
              "      <td>11520.000000</td>\n",
              "      <td>11520.000000</td>\n",
              "      <td>11520.000000</td>\n",
              "      <td>11520.000000</td>\n",
              "      <td>11520.000000</td>\n",
              "      <td>11520.000000</td>\n",
              "      <td>11520.000000</td>\n",
              "      <td>11520.000000</td>\n",
              "      <td>11520.000000</td>\n",
              "      <td>11520.000000</td>\n",
              "    </tr>\n",
              "    <tr>\n",
              "      <th>mean</th>\n",
              "      <td>10511.500000</td>\n",
              "      <td>25.145625</td>\n",
              "      <td>987.616693</td>\n",
              "      <td>1.401033</td>\n",
              "      <td>1.479436</td>\n",
              "      <td>2.396016</td>\n",
              "      <td>1006.869314</td>\n",
              "      <td>987.839045</td>\n",
              "      <td>26.032352</td>\n",
              "      <td>1007.321424</td>\n",
              "      <td>1006.938741</td>\n",
              "      <td>2.709115</td>\n",
              "      <td>8.311291</td>\n",
              "      <td>79.575564</td>\n",
              "      <td>114.648646</td>\n",
              "      <td>0.0</td>\n",
              "      <td>125.218993</td>\n",
              "      <td>0.0</td>\n",
              "      <td>136.219931</td>\n",
              "      <td>1.354696</td>\n",
              "      <td>0.0</td>\n",
              "      <td>80.689931</td>\n",
              "      <td>2.847092</td>\n",
              "      <td>1000.417891</td>\n",
              "      <td>1007.368984</td>\n",
              "      <td>1.137622</td>\n",
              "      <td>147.054679</td>\n",
              "      <td>1.349800</td>\n",
              "      <td>1005.802595</td>\n",
              "      <td>26.468750</td>\n",
              "      <td>999.435260</td>\n",
              "      <td>76.208698</td>\n",
              "      <td>24.544392</td>\n",
              "      <td>24.519905</td>\n",
              "      <td>1007.319826</td>\n",
              "      <td>8.480451</td>\n",
              "      <td>172.389991</td>\n",
              "      <td>2.266267</td>\n",
              "      <td>79.336875</td>\n",
              "      <td>71.271146</td>\n",
              "      <td>2.332856</td>\n",
              "    </tr>\n",
              "    <tr>\n",
              "      <th>std</th>\n",
              "      <td>3325.681885</td>\n",
              "      <td>3.824374</td>\n",
              "      <td>4.624002</td>\n",
              "      <td>1.376209</td>\n",
              "      <td>1.087042</td>\n",
              "      <td>6.382526</td>\n",
              "      <td>4.757237</td>\n",
              "      <td>4.637961</td>\n",
              "      <td>3.513596</td>\n",
              "      <td>4.788943</td>\n",
              "      <td>4.777357</td>\n",
              "      <td>8.494738</td>\n",
              "      <td>8.678047</td>\n",
              "      <td>16.028721</td>\n",
              "      <td>105.976126</td>\n",
              "      <td>0.0</td>\n",
              "      <td>107.245099</td>\n",
              "      <td>0.0</td>\n",
              "      <td>109.632121</td>\n",
              "      <td>1.251191</td>\n",
              "      <td>0.0</td>\n",
              "      <td>17.504181</td>\n",
              "      <td>8.507719</td>\n",
              "      <td>4.712652</td>\n",
              "      <td>4.743564</td>\n",
              "      <td>1.060000</td>\n",
              "      <td>109.343527</td>\n",
              "      <td>1.277034</td>\n",
              "      <td>4.765731</td>\n",
              "      <td>3.527912</td>\n",
              "      <td>4.690173</td>\n",
              "      <td>15.845644</td>\n",
              "      <td>4.040956</td>\n",
              "      <td>4.021288</td>\n",
              "      <td>4.778875</td>\n",
              "      <td>8.997879</td>\n",
              "      <td>109.130854</td>\n",
              "      <td>8.564625</td>\n",
              "      <td>14.861512</td>\n",
              "      <td>15.016123</td>\n",
              "      <td>6.591677</td>\n",
              "    </tr>\n",
              "    <tr>\n",
              "      <th>min</th>\n",
              "      <td>4752.000000</td>\n",
              "      <td>15.500000</td>\n",
              "      <td>970.300000</td>\n",
              "      <td>0.000000</td>\n",
              "      <td>0.000000</td>\n",
              "      <td>0.000000</td>\n",
              "      <td>990.000000</td>\n",
              "      <td>971.300000</td>\n",
              "      <td>17.300000</td>\n",
              "      <td>990.500000</td>\n",
              "      <td>989.200000</td>\n",
              "      <td>0.000000</td>\n",
              "      <td>0.000000</td>\n",
              "      <td>29.100000</td>\n",
              "      <td>0.000000</td>\n",
              "      <td>0.0</td>\n",
              "      <td>0.000000</td>\n",
              "      <td>0.0</td>\n",
              "      <td>0.000000</td>\n",
              "      <td>0.000000</td>\n",
              "      <td>0.0</td>\n",
              "      <td>30.000000</td>\n",
              "      <td>0.000000</td>\n",
              "      <td>983.700000</td>\n",
              "      <td>990.500000</td>\n",
              "      <td>0.000000</td>\n",
              "      <td>0.000000</td>\n",
              "      <td>0.000000</td>\n",
              "      <td>989.400000</td>\n",
              "      <td>18.700000</td>\n",
              "      <td>982.700000</td>\n",
              "      <td>25.800000</td>\n",
              "      <td>14.200000</td>\n",
              "      <td>15.100000</td>\n",
              "      <td>990.900000</td>\n",
              "      <td>0.000000</td>\n",
              "      <td>0.000000</td>\n",
              "      <td>0.000000</td>\n",
              "      <td>27.500000</td>\n",
              "      <td>22.800000</td>\n",
              "      <td>0.000000</td>\n",
              "    </tr>\n",
              "    <tr>\n",
              "      <th>25%</th>\n",
              "      <td>7631.750000</td>\n",
              "      <td>22.300000</td>\n",
              "      <td>985.300000</td>\n",
              "      <td>0.400000</td>\n",
              "      <td>0.700000</td>\n",
              "      <td>0.000000</td>\n",
              "      <td>1004.400000</td>\n",
              "      <td>985.500000</td>\n",
              "      <td>23.300000</td>\n",
              "      <td>1004.900000</td>\n",
              "      <td>1004.500000</td>\n",
              "      <td>0.000000</td>\n",
              "      <td>0.050000</td>\n",
              "      <td>67.300000</td>\n",
              "      <td>21.075000</td>\n",
              "      <td>0.0</td>\n",
              "      <td>23.900000</td>\n",
              "      <td>0.0</td>\n",
              "      <td>29.075000</td>\n",
              "      <td>0.400000</td>\n",
              "      <td>0.0</td>\n",
              "      <td>67.300000</td>\n",
              "      <td>0.000000</td>\n",
              "      <td>998.000000</td>\n",
              "      <td>1004.900000</td>\n",
              "      <td>0.300000</td>\n",
              "      <td>43.300000</td>\n",
              "      <td>0.300000</td>\n",
              "      <td>1003.300000</td>\n",
              "      <td>23.700000</td>\n",
              "      <td>997.100000</td>\n",
              "      <td>64.400000</td>\n",
              "      <td>21.500000</td>\n",
              "      <td>21.400000</td>\n",
              "      <td>1004.800000</td>\n",
              "      <td>0.000000</td>\n",
              "      <td>73.100000</td>\n",
              "      <td>0.000000</td>\n",
              "      <td>68.600000</td>\n",
              "      <td>60.700000</td>\n",
              "      <td>0.000000</td>\n",
              "    </tr>\n",
              "    <tr>\n",
              "      <th>50%</th>\n",
              "      <td>10511.500000</td>\n",
              "      <td>25.300000</td>\n",
              "      <td>987.900000</td>\n",
              "      <td>1.100000</td>\n",
              "      <td>1.300000</td>\n",
              "      <td>0.000000</td>\n",
              "      <td>1007.200000</td>\n",
              "      <td>988.100000</td>\n",
              "      <td>26.100000</td>\n",
              "      <td>1007.700000</td>\n",
              "      <td>1007.300000</td>\n",
              "      <td>0.000000</td>\n",
              "      <td>5.800000</td>\n",
              "      <td>83.300000</td>\n",
              "      <td>71.700000</td>\n",
              "      <td>0.0</td>\n",
              "      <td>119.400000</td>\n",
              "      <td>0.0</td>\n",
              "      <td>128.000000</td>\n",
              "      <td>1.000000</td>\n",
              "      <td>0.0</td>\n",
              "      <td>86.400000</td>\n",
              "      <td>0.000000</td>\n",
              "      <td>1000.700000</td>\n",
              "      <td>1007.700000</td>\n",
              "      <td>0.900000</td>\n",
              "      <td>140.400000</td>\n",
              "      <td>1.100000</td>\n",
              "      <td>1006.100000</td>\n",
              "      <td>26.500000</td>\n",
              "      <td>999.700000</td>\n",
              "      <td>79.800000</td>\n",
              "      <td>24.500000</td>\n",
              "      <td>24.500000</td>\n",
              "      <td>1007.600000</td>\n",
              "      <td>5.715000</td>\n",
              "      <td>178.800000</td>\n",
              "      <td>0.000000</td>\n",
              "      <td>82.100000</td>\n",
              "      <td>72.000000</td>\n",
              "      <td>0.000000</td>\n",
              "    </tr>\n",
              "    <tr>\n",
              "      <th>75%</th>\n",
              "      <td>13391.250000</td>\n",
              "      <td>27.600000</td>\n",
              "      <td>990.700000</td>\n",
              "      <td>2.000000</td>\n",
              "      <td>2.000000</td>\n",
              "      <td>0.700000</td>\n",
              "      <td>1010.000000</td>\n",
              "      <td>991.000000</td>\n",
              "      <td>28.300000</td>\n",
              "      <td>1010.500000</td>\n",
              "      <td>1010.100000</td>\n",
              "      <td>0.500000</td>\n",
              "      <td>15.680000</td>\n",
              "      <td>94.000000</td>\n",
              "      <td>204.925000</td>\n",
              "      <td>0.0</td>\n",
              "      <td>219.300000</td>\n",
              "      <td>0.0</td>\n",
              "      <td>224.100000</td>\n",
              "      <td>2.100000</td>\n",
              "      <td>0.0</td>\n",
              "      <td>97.100000</td>\n",
              "      <td>1.000000</td>\n",
              "      <td>1003.500000</td>\n",
              "      <td>1010.500000</td>\n",
              "      <td>1.700000</td>\n",
              "      <td>254.800000</td>\n",
              "      <td>2.000000</td>\n",
              "      <td>1008.900000</td>\n",
              "      <td>28.800000</td>\n",
              "      <td>1002.500000</td>\n",
              "      <td>90.200000</td>\n",
              "      <td>27.200000</td>\n",
              "      <td>27.300000</td>\n",
              "      <td>1010.400000</td>\n",
              "      <td>15.860000</td>\n",
              "      <td>261.400000</td>\n",
              "      <td>0.100000</td>\n",
              "      <td>92.725000</td>\n",
              "      <td>84.300000</td>\n",
              "      <td>0.500000</td>\n",
              "    </tr>\n",
              "    <tr>\n",
              "      <th>max</th>\n",
              "      <td>16271.000000</td>\n",
              "      <td>36.300000</td>\n",
              "      <td>998.100000</td>\n",
              "      <td>11.000000</td>\n",
              "      <td>10.900000</td>\n",
              "      <td>46.500000</td>\n",
              "      <td>1018.000000</td>\n",
              "      <td>998.500000</td>\n",
              "      <td>36.000000</td>\n",
              "      <td>1018.500000</td>\n",
              "      <td>1017.900000</td>\n",
              "      <td>57.000000</td>\n",
              "      <td>31.250000</td>\n",
              "      <td>98.700000</td>\n",
              "      <td>359.900000</td>\n",
              "      <td>0.0</td>\n",
              "      <td>359.900000</td>\n",
              "      <td>0.0</td>\n",
              "      <td>360.000000</td>\n",
              "      <td>10.300000</td>\n",
              "      <td>0.0</td>\n",
              "      <td>97.900000</td>\n",
              "      <td>64.500000</td>\n",
              "      <td>1011.400000</td>\n",
              "      <td>1018.500000</td>\n",
              "      <td>9.900000</td>\n",
              "      <td>359.900000</td>\n",
              "      <td>11.900000</td>\n",
              "      <td>1016.900000</td>\n",
              "      <td>36.500000</td>\n",
              "      <td>1010.300000</td>\n",
              "      <td>97.200000</td>\n",
              "      <td>35.300000</td>\n",
              "      <td>35.800000</td>\n",
              "      <td>1018.400000</td>\n",
              "      <td>31.640000</td>\n",
              "      <td>359.900000</td>\n",
              "      <td>97.700000</td>\n",
              "      <td>96.800000</td>\n",
              "      <td>95.900000</td>\n",
              "      <td>79.500000</td>\n",
              "    </tr>\n",
              "  </tbody>\n",
              "</table>\n",
              "</div>"
            ],
            "text/plain": [
              "                 id           X00  ...           X38           X39\n",
              "count  11520.000000  11520.000000  ...  11520.000000  11520.000000\n",
              "mean   10511.500000     25.145625  ...     71.271146      2.332856\n",
              "std     3325.681885      3.824374  ...     15.016123      6.591677\n",
              "min     4752.000000     15.500000  ...     22.800000      0.000000\n",
              "25%     7631.750000     22.300000  ...     60.700000      0.000000\n",
              "50%    10511.500000     25.300000  ...     72.000000      0.000000\n",
              "75%    13391.250000     27.600000  ...     84.300000      0.500000\n",
              "max    16271.000000     36.300000  ...     95.900000     79.500000\n",
              "\n",
              "[8 rows x 41 columns]"
            ]
          },
          "metadata": {
            "tags": []
          },
          "execution_count": 16
        }
      ]
    },
    {
      "cell_type": "markdown",
      "metadata": {
        "id": "YDNoDj9ylJoF",
        "colab_type": "text"
      },
      "source": [
        "## y"
      ]
    },
    {
      "cell_type": "markdown",
      "metadata": {
        "id": "N9bZ-cXPG-ug",
        "colab_type": "text"
      },
      "source": [
        "### feat_y"
      ]
    },
    {
      "cell_type": "code",
      "metadata": {
        "id": "OohHQJHslMgN",
        "colab_type": "code",
        "colab": {}
      },
      "source": [
        "feat_y = ['Y00', 'Y01', 'Y02', 'Y03', 'Y04', 'Y05', 'Y06', 'Y07', 'Y08', 'Y09', 'Y10', 'Y11', 'Y12', 'Y13', 'Y14', 'Y15', 'Y16', 'Y17']"
      ],
      "execution_count": 0,
      "outputs": []
    },
    {
      "cell_type": "code",
      "metadata": {
        "id": "QrbG9Yfjun58",
        "colab_type": "code",
        "outputId": "19ca9799-080f-4d8e-8bda-3f2107d389dd",
        "colab": {
          "base_uri": "https://localhost:8080/",
          "height": 34
        }
      },
      "source": [
        "df[feat_y].shape"
      ],
      "execution_count": 18,
      "outputs": [
        {
          "output_type": "execute_result",
          "data": {
            "text/plain": [
              "(4752, 18)"
            ]
          },
          "metadata": {
            "tags": []
          },
          "execution_count": 18
        }
      ]
    },
    {
      "cell_type": "markdown",
      "metadata": {
        "id": "vi5uB3Bevaif",
        "colab_type": "text"
      },
      "source": [
        "Y00 -Y17의 null 값이 없는 부분만 추출 "
      ]
    },
    {
      "cell_type": "code",
      "metadata": {
        "id": "Guw6xTMuun_o",
        "colab_type": "code",
        "outputId": "d5cbe8f8-c655-407a-a94d-4cdc3e5a4f1e",
        "colab": {
          "base_uri": "https://localhost:8080/",
          "height": 34
        }
      },
      "source": [
        "df_y = df[feat_y][:n]\n",
        "df_y.shape "
      ],
      "execution_count": 19,
      "outputs": [
        {
          "output_type": "execute_result",
          "data": {
            "text/plain": [
              "(4320, 18)"
            ]
          },
          "metadata": {
            "tags": []
          },
          "execution_count": 19
        }
      ]
    },
    {
      "cell_type": "markdown",
      "metadata": {
        "id": "dq2z-YMjHBsv",
        "colab_type": "text"
      },
      "source": [
        "### y 그룹화"
      ]
    },
    {
      "cell_type": "markdown",
      "metadata": {
        "id": "VgcW7IYmO6Qd",
        "colab_type": "text"
      },
      "source": [
        "6개의 그룹으로 나눠보기로 한다. \n",
        "\n",
        "'Y03', 'Y04'  \n",
        "'Y00'  \n",
        "'Y05', 'Y08', 'Y14'  \n",
        "'Y13','Y01', 'Y02'  \n",
        "'Y09', 'Y10', 'Y11', 'Y17', 'Y15',  Y16'  \n",
        "'Y12', 'Y06', 'Y07'\n",
        "\n"
      ]
    },
    {
      "cell_type": "code",
      "metadata": {
        "id": "InLo6FDTZyHN",
        "colab_type": "code",
        "colab": {}
      },
      "source": [
        "df_y_g1 = df_y[['Y03', 'Y04']]\n",
        "df_y_g2 = df_y[['Y00']]\n",
        "df_y_g3 = df_y[['Y05', 'Y08', 'Y14']]\n",
        "df_y_g4 = df_y[['Y13','Y01', 'Y02']]\n",
        "df_y_g5 = df_y[['Y09', 'Y10', 'Y11', 'Y17', 'Y15', 'Y16']]\n",
        "df_y_g6 = df_y[['Y12', 'Y06', 'Y07']]"
      ],
      "execution_count": 0,
      "outputs": []
    },
    {
      "cell_type": "markdown",
      "metadata": {
        "id": "sZ9abzQ7dTGx",
        "colab_type": "text"
      },
      "source": [
        "# model"
      ]
    },
    {
      "cell_type": "markdown",
      "metadata": {
        "id": "ucUowkh0fimN",
        "colab_type": "text"
      },
      "source": [
        "간단한 모델을 구성해보자  \n",
        "\n",
        "\n",
        "1.   X 중 기온 데이터인 feat_temp만 사용해서 Y00~17의 온도를 추정하는 모델 만들기 \n",
        "2.   1번에서 만든 모델로 Y00 ~ Y17의 비어있는 3일간의 데이터를 예측  \n",
        "3.   2번에서 추정한 Y00 ~ Y17의 온도, Y18을 이용해서 Y00~17로 Y18을 추정하는 모델 만들기\n",
        "4.   test data에 대해 1번에서 만든 모델로 Y00 ~ Y17을 예측. 예측한 Y00 ~ Y17과 3번에서 만든 모델로 Y18 온도를 예측  \n",
        "\n"
      ]
    },
    {
      "cell_type": "markdown",
      "metadata": {
        "id": "l96ARh-Thzq_",
        "colab_type": "text"
      },
      "source": [
        "## 1.\n",
        "df_y_g4에 대해 모델링 해보기 (X 5군데와 전체적으로 유사해서 선택함) "
      ]
    },
    {
      "cell_type": "markdown",
      "metadata": {
        "id": "7lRcJ6V8pWUQ",
        "colab_type": "text"
      },
      "source": [
        "데이터셋  \n",
        "* X_feat_temp 와 Y00-Y17, 모두 존재하는 rows는 4320 개.  \n",
        "* 해당 시점에 Y00-Y17 지역의 온도를 추정할 것이므로 시리즈 데이터로 보지 않음.\n",
        "* 모든 features를 사용하지는 않고 feat_temp만 사용.\n",
        "* 모든 지역을 맞추기보다 그룹화 된 지역의 평균 온도를 타겟으로 함.   \n",
        "* 즉, feat_temp = ['X00', 'X07', 'X28', 'X31', 'X32']를 features로 보고, mean(['Y13','Y01', 'Y02'])을 target으로 하는 모델을 구성할 것.\n",
        "* train 90%, test 10%\n"
      ]
    },
    {
      "cell_type": "markdown",
      "metadata": {
        "id": "Xe0MoqWbhnDw",
        "colab_type": "text"
      },
      "source": [
        "### dataset "
      ]
    },
    {
      "cell_type": "markdown",
      "metadata": {
        "id": "sAVjM5ZnhcOo",
        "colab_type": "text"
      },
      "source": [
        "#### Split the data into train and test"
      ]
    },
    {
      "cell_type": "code",
      "metadata": {
        "id": "1gjyTa0BfNbO",
        "colab_type": "code",
        "colab": {}
      },
      "source": [
        "## \n",
        "frac = 0.9 # train data 비율 "
      ],
      "execution_count": 0,
      "outputs": []
    },
    {
      "cell_type": "code",
      "metadata": {
        "id": "mhOZjvHTcwHK",
        "colab_type": "code",
        "colab": {}
      },
      "source": [
        "## y_col : y_col인 컬럼들의 평균을 타겟 값으로 할 것.\n",
        "y_col = ['Y15', 'Y16'] ##list(df_y_g3.columns)\n",
        "x_col = feat_temp"
      ],
      "execution_count": 0,
      "outputs": []
    },
    {
      "cell_type": "code",
      "metadata": {
        "id": "ZzBva8bpeRUD",
        "colab_type": "code",
        "colab": {}
      },
      "source": [
        "dataset = df[x_col+y_col][:n]\n",
        "dataset['Y']= df[y_col].mean(axis=1)\n",
        "dataset = dataset.drop(y_col, axis=1) "
      ],
      "execution_count": 0,
      "outputs": []
    },
    {
      "cell_type": "code",
      "metadata": {
        "id": "iUU_0EF2dZaM",
        "colab_type": "code",
        "colab": {}
      },
      "source": [
        "train_dataset = dataset.sample(frac=frac,random_state=0)\n",
        "test_dataset = dataset.drop(train_dataset.index)"
      ],
      "execution_count": 0,
      "outputs": []
    },
    {
      "cell_type": "code",
      "metadata": {
        "id": "xHQ5WVzHbIJP",
        "colab_type": "code",
        "outputId": "3bc7a573-fd49-4f4c-cbfc-4b06e84aa6a5",
        "colab": {
          "base_uri": "https://localhost:8080/",
          "height": 34
        }
      },
      "source": [
        "train_dataset.shape, test_dataset.shape"
      ],
      "execution_count": 85,
      "outputs": [
        {
          "output_type": "execute_result",
          "data": {
            "text/plain": [
              "((3888, 6), (432, 6))"
            ]
          },
          "metadata": {
            "tags": []
          },
          "execution_count": 85
        }
      ]
    },
    {
      "cell_type": "markdown",
      "metadata": {
        "id": "yWpPXfOeg0fS",
        "colab_type": "text"
      },
      "source": [
        "#### Split features from labels"
      ]
    },
    {
      "cell_type": "code",
      "metadata": {
        "id": "Gp2rgP59hsWa",
        "colab_type": "code",
        "colab": {}
      },
      "source": [
        "train_labels = train_dataset.pop('Y')\n",
        "test_labels = test_dataset.pop('Y')"
      ],
      "execution_count": 0,
      "outputs": []
    },
    {
      "cell_type": "code",
      "metadata": {
        "id": "k1swsgM9gZ8V",
        "colab_type": "code",
        "outputId": "1775d999-8998-47a8-a8e5-01e98133c1b2",
        "colab": {
          "base_uri": "https://localhost:8080/",
          "height": 34
        }
      },
      "source": [
        "train_dataset.shape, test_dataset.shape"
      ],
      "execution_count": 87,
      "outputs": [
        {
          "output_type": "execute_result",
          "data": {
            "text/plain": [
              "((3888, 5), (432, 5))"
            ]
          },
          "metadata": {
            "tags": []
          },
          "execution_count": 87
        }
      ]
    },
    {
      "cell_type": "code",
      "metadata": {
        "id": "ZDJMKMh8ggQ7",
        "colab_type": "code",
        "outputId": "1d731120-4c16-41ff-b2b8-6d68bbef9c50",
        "colab": {
          "base_uri": "https://localhost:8080/",
          "height": 34
        }
      },
      "source": [
        "train_labels.shape, test_labels.shape"
      ],
      "execution_count": 88,
      "outputs": [
        {
          "output_type": "execute_result",
          "data": {
            "text/plain": [
              "((3888,), (432,))"
            ]
          },
          "metadata": {
            "tags": []
          },
          "execution_count": 88
        }
      ]
    },
    {
      "cell_type": "code",
      "metadata": {
        "id": "R3iyGJC6K9ST",
        "colab_type": "code",
        "colab": {
          "base_uri": "https://localhost:8080/",
          "height": 34
        },
        "outputId": "70e01e6c-3534-4995-b171-75a74f25067f"
      },
      "source": [
        "len(train_dataset.keys())"
      ],
      "execution_count": 89,
      "outputs": [
        {
          "output_type": "execute_result",
          "data": {
            "text/plain": [
              "5"
            ]
          },
          "metadata": {
            "tags": []
          },
          "execution_count": 89
        }
      ]
    },
    {
      "cell_type": "markdown",
      "metadata": {
        "id": "blZleRTghN7D",
        "colab_type": "text"
      },
      "source": [
        "## model"
      ]
    },
    {
      "cell_type": "markdown",
      "metadata": {
        "id": "-dnS-re6kqt9",
        "colab_type": "text"
      },
      "source": [
        "#### Build the model"
      ]
    },
    {
      "cell_type": "code",
      "metadata": {
        "id": "3MYJoUyZgrBG",
        "colab_type": "code",
        "colab": {}
      },
      "source": [
        "def build_model():\n",
        "    model = keras.Sequential([\n",
        "            layers.Dense(64, activation='linear', input_shape=[len(train_dataset.keys())]),\n",
        "            layers.Dense(1)\n",
        "    ])\n",
        "    optimizer = tf.keras.optimizers.RMSprop(0.001)\n",
        "    model.compile(loss='mse',\n",
        "                  optimizer=optimizer,\n",
        "                  metrics=['mae', 'mse'])\n",
        "    return model"
      ],
      "execution_count": 0,
      "outputs": []
    },
    {
      "cell_type": "code",
      "metadata": {
        "id": "nhQ3fuxugsAj",
        "colab_type": "code",
        "colab": {
          "base_uri": "https://localhost:8080/",
          "height": 52
        },
        "outputId": "15e6ce84-16f7-4917-aac5-fe96251e52ab"
      },
      "source": [
        "model = build_model()"
      ],
      "execution_count": 101,
      "outputs": [
        {
          "output_type": "stream",
          "text": [
            "Executing op RandomUniform in device /job:localhost/replica:0/task:0/device:GPU:0\n",
            "Executing op RandomUniform in device /job:localhost/replica:0/task:0/device:GPU:0\n"
          ],
          "name": "stdout"
        }
      ]
    },
    {
      "cell_type": "markdown",
      "metadata": {
        "id": "ZNGxAIbmkwS4",
        "colab_type": "text"
      },
      "source": [
        "#### Inspect the model"
      ]
    },
    {
      "cell_type": "code",
      "metadata": {
        "id": "ReHuuhV0kgxc",
        "colab_type": "code",
        "outputId": "1eebfd48-17da-4594-e01a-f81de0f9cce7",
        "colab": {
          "base_uri": "https://localhost:8080/",
          "height": 225
        }
      },
      "source": [
        "model.summary()"
      ],
      "execution_count": 102,
      "outputs": [
        {
          "output_type": "stream",
          "text": [
            "Model: \"sequential_3\"\n",
            "_________________________________________________________________\n",
            "Layer (type)                 Output Shape              Param #   \n",
            "=================================================================\n",
            "dense_5 (Dense)              (None, 64)                384       \n",
            "_________________________________________________________________\n",
            "dense_6 (Dense)              (None, 1)                 65        \n",
            "=================================================================\n",
            "Total params: 449\n",
            "Trainable params: 449\n",
            "Non-trainable params: 0\n",
            "_________________________________________________________________\n"
          ],
          "name": "stdout"
        }
      ]
    },
    {
      "cell_type": "code",
      "metadata": {
        "id": "IFxWTJnskgrC",
        "colab_type": "code",
        "outputId": "09a05352-cf8a-4cbf-9530-a74b69ddf182",
        "colab": {
          "base_uri": "https://localhost:8080/",
          "height": 141
        }
      },
      "source": [
        "example_batch = train_dataset[:5]\n",
        "example_result = model.predict(example_batch)\n",
        "example_result"
      ],
      "execution_count": 104,
      "outputs": [
        {
          "output_type": "stream",
          "text": [
            "WARNING:tensorflow:Falling back from v2 loop because of error: Failed to find data adapter that can handle input: <class 'pandas.core.frame.DataFrame'>, <class 'NoneType'>\n"
          ],
          "name": "stdout"
        },
        {
          "output_type": "execute_result",
          "data": {
            "text/plain": [
              "array([[17.670082],\n",
              "       [14.370525],\n",
              "       [10.825291],\n",
              "       [16.287947],\n",
              "       [13.428522]], dtype=float32)"
            ]
          },
          "metadata": {
            "tags": []
          },
          "execution_count": 104
        }
      ]
    },
    {
      "cell_type": "markdown",
      "metadata": {
        "id": "LtVCXxb-laIi",
        "colab_type": "text"
      },
      "source": [
        "#### Train the model"
      ]
    },
    {
      "cell_type": "code",
      "metadata": {
        "id": "u5wq3XPKbVT3",
        "colab_type": "code",
        "colab": {}
      },
      "source": [
        "# 에포크가 끝날 때마다 점(.)을 출력해 훈련 진행 과정을 표시합니다\n",
        "class PrintDot(keras.callbacks.Callback):\n",
        "  def on_epoch_end(self, epoch, logs):\n",
        "    if epoch % 100 == 0: print('')\n",
        "    print('.', end='')"
      ],
      "execution_count": 0,
      "outputs": []
    },
    {
      "cell_type": "code",
      "metadata": {
        "id": "IlR2IuofgsDu",
        "colab_type": "code",
        "outputId": "f2730704-e83c-4b47-b3b8-5c38d9b183c7",
        "colab": {
          "base_uri": "https://localhost:8080/",
          "height": 141
        }
      },
      "source": [
        "EPOCHS = 200\n",
        "\n",
        "history = model.fit(\n",
        "  train_dataset, train_labels,\n",
        "  epochs=EPOCHS, validation_split = 0.9, verbose=0,\n",
        "  callbacks=[PrintDot()])"
      ],
      "execution_count": 105,
      "outputs": [
        {
          "output_type": "stream",
          "text": [
            "WARNING:tensorflow:Falling back from v2 loop because of error: Failed to find data adapter that can handle input: <class 'pandas.core.frame.DataFrame'>, <class 'NoneType'>\n",
            "Executing op __inference_keras_scratch_graph_308001 in device /job:localhost/replica:0/task:0/device:GPU:0\n",
            "Executing op __inference_keras_scratch_graph_308147 in device /job:localhost/replica:0/task:0/device:GPU:0\n",
            "\n",
            "....................................................................................................\n",
            "...................................................................................................."
          ],
          "name": "stdout"
        }
      ]
    },
    {
      "cell_type": "code",
      "metadata": {
        "id": "YWUiWgORliif",
        "colab_type": "code",
        "outputId": "446d3b02-37c5-4aff-ecc0-384394956e70",
        "colab": {
          "base_uri": "https://localhost:8080/",
          "height": 206
        }
      },
      "source": [
        "hist = pd.DataFrame(history.history)\n",
        "hist['epoch'] = history.epoch\n",
        "hist.tail()"
      ],
      "execution_count": 106,
      "outputs": [
        {
          "output_type": "execute_result",
          "data": {
            "text/html": [
              "<div>\n",
              "<style scoped>\n",
              "    .dataframe tbody tr th:only-of-type {\n",
              "        vertical-align: middle;\n",
              "    }\n",
              "\n",
              "    .dataframe tbody tr th {\n",
              "        vertical-align: top;\n",
              "    }\n",
              "\n",
              "    .dataframe thead th {\n",
              "        text-align: right;\n",
              "    }\n",
              "</style>\n",
              "<table border=\"1\" class=\"dataframe\">\n",
              "  <thead>\n",
              "    <tr style=\"text-align: right;\">\n",
              "      <th></th>\n",
              "      <th>loss</th>\n",
              "      <th>mae</th>\n",
              "      <th>mse</th>\n",
              "      <th>val_loss</th>\n",
              "      <th>val_mae</th>\n",
              "      <th>val_mse</th>\n",
              "      <th>epoch</th>\n",
              "    </tr>\n",
              "  </thead>\n",
              "  <tbody>\n",
              "    <tr>\n",
              "      <th>195</th>\n",
              "      <td>5.872605</td>\n",
              "      <td>2.052953</td>\n",
              "      <td>5.872604</td>\n",
              "      <td>6.518428</td>\n",
              "      <td>2.031668</td>\n",
              "      <td>6.518427</td>\n",
              "      <td>195</td>\n",
              "    </tr>\n",
              "    <tr>\n",
              "      <th>196</th>\n",
              "      <td>6.211838</td>\n",
              "      <td>2.071460</td>\n",
              "      <td>6.211837</td>\n",
              "      <td>5.862733</td>\n",
              "      <td>1.989111</td>\n",
              "      <td>5.862733</td>\n",
              "      <td>196</td>\n",
              "    </tr>\n",
              "    <tr>\n",
              "      <th>197</th>\n",
              "      <td>5.860877</td>\n",
              "      <td>2.061833</td>\n",
              "      <td>5.860877</td>\n",
              "      <td>7.325821</td>\n",
              "      <td>2.254170</td>\n",
              "      <td>7.325821</td>\n",
              "      <td>197</td>\n",
              "    </tr>\n",
              "    <tr>\n",
              "      <th>198</th>\n",
              "      <td>6.071305</td>\n",
              "      <td>2.072008</td>\n",
              "      <td>6.071305</td>\n",
              "      <td>5.766384</td>\n",
              "      <td>1.989980</td>\n",
              "      <td>5.766386</td>\n",
              "      <td>198</td>\n",
              "    </tr>\n",
              "    <tr>\n",
              "      <th>199</th>\n",
              "      <td>5.972571</td>\n",
              "      <td>2.042084</td>\n",
              "      <td>5.972571</td>\n",
              "      <td>8.540838</td>\n",
              "      <td>2.423893</td>\n",
              "      <td>8.540838</td>\n",
              "      <td>199</td>\n",
              "    </tr>\n",
              "  </tbody>\n",
              "</table>\n",
              "</div>"
            ],
            "text/plain": [
              "         loss       mae       mse  val_loss   val_mae   val_mse  epoch\n",
              "195  5.872605  2.052953  5.872604  6.518428  2.031668  6.518427    195\n",
              "196  6.211838  2.071460  6.211837  5.862733  1.989111  5.862733    196\n",
              "197  5.860877  2.061833  5.860877  7.325821  2.254170  7.325821    197\n",
              "198  6.071305  2.072008  6.071305  5.766384  1.989980  5.766386    198\n",
              "199  5.972571  2.042084  5.972571  8.540838  2.423893  8.540838    199"
            ]
          },
          "metadata": {
            "tags": []
          },
          "execution_count": 106
        }
      ]
    },
    {
      "cell_type": "code",
      "metadata": {
        "id": "5STN5MutNyzP",
        "colab_type": "code",
        "colab": {}
      },
      "source": [
        "def plot_history(history, ylim_mae=False, ylim_mse=False):\n",
        "    hist = pd.DataFrame(history.history)\n",
        "    hist['epoch'] = history.epoch\n",
        "\n",
        "    plt.figure(figsize=(20,6))\n",
        "\n",
        "    plt.subplot(1,2,1)\n",
        "    plt.xlabel('Epoch')\n",
        "    plt.ylabel('Mean Abs Error [Y]]')\n",
        "    plt.plot(hist['epoch'], hist['mae'],\n",
        "            label='Train Error')\n",
        "    plt.plot(hist['epoch'], hist['val_mae'],\n",
        "            label = 'Val Error')\n",
        "    if ylim_mae: \n",
        "        plt.ylim(ylim_mae)\n",
        "    else:\n",
        "        plt.ylim([0,5])\n",
        "    plt.legend()\n",
        "\n",
        "    plt.subplot(1,2,2)\n",
        "    plt.xlabel('Epoch')\n",
        "    plt.ylabel('Mean Square Error [$Y^2$]')\n",
        "    plt.plot(hist['epoch'], hist['mse'], label='Train Error')\n",
        "    plt.plot(hist['epoch'], hist['val_mse'], label = 'Val Error')\n",
        "    if ylim_mse: \n",
        "        plt.ylim(ylim_mse)\n",
        "    else:\n",
        "        plt.ylim([0,20])\n",
        "    plt.legend()\n",
        "    plt.show()\n"
      ],
      "execution_count": 0,
      "outputs": []
    },
    {
      "cell_type": "code",
      "metadata": {
        "id": "YvG-9__tkyQz",
        "colab_type": "code",
        "outputId": "186e8ce2-041d-4690-9204-7f680d651ff3",
        "colab": {
          "base_uri": "https://localhost:8080/",
          "height": 429
        }
      },
      "source": [
        "plot_history(history)"
      ],
      "execution_count": 166,
      "outputs": [
        {
          "output_type": "stream",
          "text": [
            "Executing op DestroyResourceOp in device /job:localhost/replica:0/task:0/device:GPU:0\n"
          ],
          "name": "stdout"
        },
        {
          "output_type": "display_data",
          "data": {
            "image/png": "[encoded data removed]",
            "text/plain": [
              "<Figure size 1440x432 with 2 Axes>"
            ]
          },
          "metadata": {
            "tags": []
          }
        }
      ]
    },
    {
      "cell_type": "markdown",
      "metadata": {
        "id": "xUFEYL8Lntv2",
        "colab_type": "text"
      },
      "source": [
        "### Make predictions"
      ]
    },
    {
      "cell_type": "code",
      "metadata": {
        "id": "E9Wb4rQ6gsG2",
        "colab_type": "code",
        "outputId": "6474e61c-93af-499c-feba-05279bcbf515",
        "colab": {
          "base_uri": "https://localhost:8080/",
          "height": 317
        }
      },
      "source": [
        "test_predictions = model.predict(test_dataset).flatten()\n",
        "\n",
        "plt.scatter(test_labels, test_predictions)\n",
        "plt.xlabel('True Values [Y]')\n",
        "plt.ylabel('Predictions [Y]')\n",
        "plt.axis('equal')\n",
        "plt.axis('square')\n",
        "plt.xlim([0,plt.xlim()[1]])\n",
        "plt.ylim([0,plt.ylim()[1]])\n",
        "_ = plt.plot([-100, 100], [-100, 100])\n"
      ],
      "execution_count": 109,
      "outputs": [
        {
          "output_type": "stream",
          "text": [
            "WARNING:tensorflow:Falling back from v2 loop because of error: Failed to find data adapter that can handle input: <class 'pandas.core.frame.DataFrame'>, <class 'NoneType'>\n"
          ],
          "name": "stdout"
        },
        {
          "output_type": "display_data",
          "data": {
            "image/png": "[encoded data removed]",
            "text/plain": [
              "<Figure size 432x288 with 1 Axes>"
            ]
          },
          "metadata": {
            "tags": []
          }
        }
      ]
    },
    {
      "cell_type": "code",
      "metadata": {
        "id": "9xJODgKngsJ7",
        "colab_type": "code",
        "outputId": "9c130b52-64c5-4f56-e322-21477478af5e",
        "colab": {
          "base_uri": "https://localhost:8080/",
          "height": 280
        }
      },
      "source": [
        "error = test_predictions - test_labels\n",
        "plt.hist(error, bins = 25)\n",
        "plt.xlabel(\"Prediction Error [Y]\")\n",
        "_ = plt.ylabel(\"Count\")"
      ],
      "execution_count": 110,
      "outputs": [
        {
          "output_type": "display_data",
          "data": {
            "image/png": "[encoded data removed]",
            "text/plain": [
              "<Figure size 432x288 with 1 Axes>"
            ]
          },
          "metadata": {
            "tags": []
          }
        }
      ]
    },
    {
      "cell_type": "markdown",
      "metadata": {
        "id": "hMZxpR2oMBNV",
        "colab_type": "text"
      },
      "source": [
        "#### 3일 예측해서 Y18과 비교해보기"
      ]
    },
    {
      "cell_type": "code",
      "metadata": {
        "id": "tdcX68llgsPi",
        "colab_type": "code",
        "outputId": "731ec2df-6d05-475a-f012-9df0d363d198",
        "colab": {
          "base_uri": "https://localhost:8080/",
          "height": 54
        }
      },
      "source": [
        "test = df[x_col][n:n+n//10]\n",
        "test_predictions = model.predict(test).flatten()"
      ],
      "execution_count": 111,
      "outputs": [
        {
          "output_type": "stream",
          "text": [
            "WARNING:tensorflow:Falling back from v2 loop because of error: Failed to find data adapter that can handle input: <class 'pandas.core.frame.DataFrame'>, <class 'NoneType'>\n"
          ],
          "name": "stdout"
        }
      ]
    },
    {
      "cell_type": "code",
      "metadata": {
        "id": "ETX7pJpAMimn",
        "colab_type": "code",
        "outputId": "07f64988-3664-41f0-9663-f214fbdc1cbe",
        "colab": {
          "base_uri": "https://localhost:8080/",
          "height": 280
        }
      },
      "source": [
        "error = test_predictions-df['Y18'][n:n+n//10]\n",
        "error.mean()\n",
        "plt.hist(error, bins = 25)\n",
        "plt.xlabel(\"Prediction Error [MPG]\")\n",
        "_ = plt.ylabel(\"Count\")"
      ],
      "execution_count": 112,
      "outputs": [
        {
          "output_type": "display_data",
          "data": {
            "image/png": "[encoded data removed]",
            "text/plain": [
              "<Figure size 432x288 with 1 Axes>"
            ]
          },
          "metadata": {
            "tags": []
          }
        }
      ]
    },
    {
      "cell_type": "code",
      "metadata": {
        "id": "L3unvGDQMipf",
        "colab_type": "code",
        "outputId": "f03b83b5-700c-440e-f4fe-2f9764873255",
        "colab": {
          "base_uri": "https://localhost:8080/",
          "height": 121
        }
      },
      "source": [
        "error[abs(error)>7]"
      ],
      "execution_count": 113,
      "outputs": [
        {
          "output_type": "execute_result",
          "data": {
            "text/plain": [
              "4536   -7.543457\n",
              "4676   -7.547287\n",
              "4677   -8.069122\n",
              "4678   -7.979454\n",
              "4679   -8.843651\n",
              "Name: Y18, dtype: float64"
            ]
          },
          "metadata": {
            "tags": []
          },
          "execution_count": 113
        }
      ]
    },
    {
      "cell_type": "markdown",
      "metadata": {
        "id": "lfkUnMdh2ZKN",
        "colab_type": "text"
      },
      "source": [
        "#### 80일 예측 "
      ]
    },
    {
      "cell_type": "code",
      "metadata": {
        "id": "Lcigy2HCN6Ms",
        "colab_type": "code",
        "outputId": "98627911-d739-4753-80b5-5ffc399c0467",
        "colab": {
          "base_uri": "https://localhost:8080/",
          "height": 54
        }
      },
      "source": [
        "test_predictions = model.predict(df_test[feat_temp])"
      ],
      "execution_count": 114,
      "outputs": [
        {
          "output_type": "stream",
          "text": [
            "WARNING:tensorflow:Falling back from v2 loop because of error: Failed to find data adapter that can handle input: <class 'pandas.core.frame.DataFrame'>, <class 'NoneType'>\n"
          ],
          "name": "stdout"
        }
      ]
    },
    {
      "cell_type": "code",
      "metadata": {
        "id": "V4hPBeKZ3elK",
        "colab_type": "code",
        "colab": {}
      },
      "source": [
        "# 제출 파일 만들기\n",
        "submit = pd.DataFrame({'id':range(144*33, 144*113),\n",
        "              'Y18':test_predictions.reshape(1,-1)[0]})"
      ],
      "execution_count": 0,
      "outputs": []
    },
    {
      "cell_type": "code",
      "metadata": {
        "id": "4LcyHw2n3gId",
        "colab_type": "code",
        "colab": {}
      },
      "source": [
        "submit.to_csv('baseline_result.csv', index = False)"
      ],
      "execution_count": 0,
      "outputs": []
    },
    {
      "cell_type": "code",
      "metadata": {
        "id": "Wd3myaB_3wYB",
        "colab_type": "code",
        "colab": {}
      },
      "source": [
        ""
      ],
      "execution_count": 0,
      "outputs": []
    },
    {
      "cell_type": "markdown",
      "metadata": {
        "colab_type": "text",
        "id": "rtLKSo3h6oKj"
      },
      "source": [
        "## model2"
      ]
    },
    {
      "cell_type": "markdown",
      "metadata": {
        "colab_type": "text",
        "id": "y0dNXmvm6oLB"
      },
      "source": [
        "#### Build the model"
      ]
    },
    {
      "cell_type": "code",
      "metadata": {
        "colab_type": "code",
        "id": "dPKp97Or6oLK",
        "colab": {}
      },
      "source": [
        "def build_model2():\n",
        "    model = keras.Sequential([\n",
        "            layers.Dense(1, activation='linear', input_shape=[1]),\n",
        "            #layers.Dense(2, activation='relu'),\n",
        "            #layers.Dense(1)\n",
        "    ])\n",
        "    optimizer = tf.keras.optimizers.RMSprop(0.005)\n",
        "    model.compile(loss='mse',\n",
        "                  optimizer=optimizer,\n",
        "                  metrics=['mae', 'mse'])\n",
        "    return model"
      ],
      "execution_count": 0,
      "outputs": []
    },
    {
      "cell_type": "code",
      "metadata": {
        "colab_type": "code",
        "id": "vVkZDcZI6oLY",
        "colab": {
          "base_uri": "https://localhost:8080/",
          "height": 34
        },
        "outputId": "e73269d2-5b12-4560-e1cf-0bf53536f547"
      },
      "source": [
        "model2 = build_model2()"
      ],
      "execution_count": 131,
      "outputs": [
        {
          "output_type": "stream",
          "text": [
            "Executing op RandomUniform in device /job:localhost/replica:0/task:0/device:GPU:0\n"
          ],
          "name": "stdout"
        }
      ]
    },
    {
      "cell_type": "markdown",
      "metadata": {
        "colab_type": "text",
        "id": "mtt-14v36oLh"
      },
      "source": [
        "#### Inspect the model"
      ]
    },
    {
      "cell_type": "code",
      "metadata": {
        "colab_type": "code",
        "outputId": "4b2338ab-d24c-460b-838a-68ba52a8c4c4",
        "id": "nHxmZLN66oLj",
        "colab": {
          "base_uri": "https://localhost:8080/",
          "height": 191
        }
      },
      "source": [
        "model2.summary()"
      ],
      "execution_count": 132,
      "outputs": [
        {
          "output_type": "stream",
          "text": [
            "Model: \"sequential_5\"\n",
            "_________________________________________________________________\n",
            "Layer (type)                 Output Shape              Param #   \n",
            "=================================================================\n",
            "dense_8 (Dense)              (None, 1)                 2         \n",
            "=================================================================\n",
            "Total params: 2\n",
            "Trainable params: 2\n",
            "Non-trainable params: 0\n",
            "_________________________________________________________________\n"
          ],
          "name": "stdout"
        }
      ]
    },
    {
      "cell_type": "code",
      "metadata": {
        "colab_type": "code",
        "outputId": "5d5f35da-8bf8-4fb2-a7be-599536b5eea2",
        "id": "LkCqu1St6oLr",
        "colab": {
          "base_uri": "https://localhost:8080/",
          "height": 260
        }
      },
      "source": [
        "example_batch = test_predictions[:10]\n",
        "example_result = model2.predict(example_batch)\n",
        "example_result"
      ],
      "execution_count": 133,
      "outputs": [
        {
          "output_type": "stream",
          "text": [
            "Executing op MapDataset in device /job:localhost/replica:0/task:0/device:CPU:0\n",
            "Executing op FlatMapDataset in device /job:localhost/replica:0/task:0/device:CPU:0\n",
            "Executing op ParallelMapDataset in device /job:localhost/replica:0/task:0/device:CPU:0\n",
            "Executing op __inference_distributed_function_438376 in device /job:localhost/replica:0/task:0/device:GPU:0\n"
          ],
          "name": "stdout"
        },
        {
          "output_type": "execute_result",
          "data": {
            "text/plain": [
              "array([[-8.847661 ],\n",
              "       [-8.869696 ],\n",
              "       [-8.866367 ],\n",
              "       [-8.7929945],\n",
              "       [-8.746607 ],\n",
              "       [-8.82803  ],\n",
              "       [-8.784471 ],\n",
              "       [-8.672686 ],\n",
              "       [-8.572959 ],\n",
              "       [-8.621816 ]], dtype=float32)"
            ]
          },
          "metadata": {
            "tags": []
          },
          "execution_count": 133
        }
      ]
    },
    {
      "cell_type": "markdown",
      "metadata": {
        "colab_type": "text",
        "id": "VbDVQO5t6oLy"
      },
      "source": [
        "#### Train the model"
      ]
    },
    {
      "cell_type": "code",
      "metadata": {
        "colab_type": "code",
        "outputId": "4fe43601-9352-403c-d57f-2e87a3e6761b",
        "id": "6tt51Un_6oLz",
        "colab": {
          "base_uri": "https://localhost:8080/",
          "height": 193
        }
      },
      "source": [
        "EPOCHS = 40\n",
        "## model1를 이용해 Yi를 예측한 결과를 train data로 이용\n",
        "## Y18을 test data로 함\n",
        "tmp_features =  model.predict(df[x_col][n:n+n//10])\n",
        "tmp_labels = np.array(df['Y18'][n:n+n//10])\n",
        "\n",
        "history = model2.fit(\n",
        "  tmp_features, tmp_labels,\n",
        "  epochs=EPOCHS, validation_split = 0.1, verbose=0,\n",
        "  callbacks=[PrintDot()])"
      ],
      "execution_count": 149,
      "outputs": [
        {
          "output_type": "stream",
          "text": [
            "WARNING:tensorflow:Falling back from v2 loop because of error: Failed to find data adapter that can handle input: <class 'pandas.core.frame.DataFrame'>, <class 'NoneType'>\n",
            "Executing op MapDataset in device /job:localhost/replica:0/task:0/device:CPU:0\n",
            "Executing op FlatMapDataset in device /job:localhost/replica:0/task:0/device:CPU:0\n",
            "Executing op ParallelMapDataset in device /job:localhost/replica:0/task:0/device:CPU:0\n",
            "Executing op MapDataset in device /job:localhost/replica:0/task:0/device:CPU:0\n",
            "Executing op FlatMapDataset in device /job:localhost/replica:0/task:0/device:CPU:0\n",
            "Executing op ParallelMapDataset in device /job:localhost/replica:0/task:0/device:CPU:0\n",
            "\n",
            "........................................"
          ],
          "name": "stdout"
        }
      ]
    },
    {
      "cell_type": "code",
      "metadata": {
        "colab_type": "code",
        "outputId": "2a0360d5-6172-4701-8beb-e13f3444b682",
        "id": "wwxKEtPo6oL5",
        "colab": {
          "base_uri": "https://localhost:8080/",
          "height": 206
        }
      },
      "source": [
        "hist = pd.DataFrame(history.history)\n",
        "hist['epoch'] = history.epoch\n",
        "hist.tail()"
      ],
      "execution_count": 150,
      "outputs": [
        {
          "output_type": "execute_result",
          "data": {
            "text/html": [
              "<div>\n",
              "<style scoped>\n",
              "    .dataframe tbody tr th:only-of-type {\n",
              "        vertical-align: middle;\n",
              "    }\n",
              "\n",
              "    .dataframe tbody tr th {\n",
              "        vertical-align: top;\n",
              "    }\n",
              "\n",
              "    .dataframe thead th {\n",
              "        text-align: right;\n",
              "    }\n",
              "</style>\n",
              "<table border=\"1\" class=\"dataframe\">\n",
              "  <thead>\n",
              "    <tr style=\"text-align: right;\">\n",
              "      <th></th>\n",
              "      <th>loss</th>\n",
              "      <th>mae</th>\n",
              "      <th>mse</th>\n",
              "      <th>val_loss</th>\n",
              "      <th>val_mae</th>\n",
              "      <th>val_mse</th>\n",
              "      <th>epoch</th>\n",
              "    </tr>\n",
              "  </thead>\n",
              "  <tbody>\n",
              "    <tr>\n",
              "      <th>35</th>\n",
              "      <td>10.393738</td>\n",
              "      <td>2.551797</td>\n",
              "      <td>10.393739</td>\n",
              "      <td>1.072443</td>\n",
              "      <td>0.863503</td>\n",
              "      <td>1.072443</td>\n",
              "      <td>35</td>\n",
              "    </tr>\n",
              "    <tr>\n",
              "      <th>36</th>\n",
              "      <td>10.492647</td>\n",
              "      <td>2.697592</td>\n",
              "      <td>10.492647</td>\n",
              "      <td>1.300978</td>\n",
              "      <td>0.956257</td>\n",
              "      <td>1.300978</td>\n",
              "      <td>36</td>\n",
              "    </tr>\n",
              "    <tr>\n",
              "      <th>37</th>\n",
              "      <td>10.418943</td>\n",
              "      <td>2.636713</td>\n",
              "      <td>10.418942</td>\n",
              "      <td>2.108473</td>\n",
              "      <td>1.265685</td>\n",
              "      <td>2.108473</td>\n",
              "      <td>37</td>\n",
              "    </tr>\n",
              "    <tr>\n",
              "      <th>38</th>\n",
              "      <td>10.393889</td>\n",
              "      <td>2.578135</td>\n",
              "      <td>10.393888</td>\n",
              "      <td>1.449867</td>\n",
              "      <td>1.018596</td>\n",
              "      <td>1.449867</td>\n",
              "      <td>38</td>\n",
              "    </tr>\n",
              "    <tr>\n",
              "      <th>39</th>\n",
              "      <td>10.445841</td>\n",
              "      <td>2.647075</td>\n",
              "      <td>10.445841</td>\n",
              "      <td>2.106113</td>\n",
              "      <td>1.265206</td>\n",
              "      <td>2.106113</td>\n",
              "      <td>39</td>\n",
              "    </tr>\n",
              "  </tbody>\n",
              "</table>\n",
              "</div>"
            ],
            "text/plain": [
              "         loss       mae        mse  val_loss   val_mae   val_mse  epoch\n",
              "35  10.393738  2.551797  10.393739  1.072443  0.863503  1.072443     35\n",
              "36  10.492647  2.697592  10.492647  1.300978  0.956257  1.300978     36\n",
              "37  10.418943  2.636713  10.418942  2.108473  1.265685  2.108473     37\n",
              "38  10.393889  2.578135  10.393888  1.449867  1.018596  1.449867     38\n",
              "39  10.445841  2.647075  10.445841  2.106113  1.265206  2.106113     39"
            ]
          },
          "metadata": {
            "tags": []
          },
          "execution_count": 150
        }
      ]
    },
    {
      "cell_type": "code",
      "metadata": {
        "id": "83WP5HS4C00g",
        "colab_type": "code",
        "outputId": "ecc54a63-8bd2-45f8-da49-d57b5d4c0af9",
        "colab": {
          "base_uri": "https://localhost:8080/",
          "height": 718
        }
      },
      "source": [
        "plot_history(history, ylim_mae=(0, ), ylim_mse=(0, 100))"
      ],
      "execution_count": 155,
      "outputs": [
        {
          "output_type": "display_data",
          "data": {
            "image/png": "[encoded data removed]",
            "text/plain": [
              "<Figure size 576x864 with 2 Axes>"
            ]
          },
          "metadata": {
            "tags": []
          }
        }
      ]
    },
    {
      "cell_type": "markdown",
      "metadata": {
        "colab_type": "text",
        "id": "JHOm0kuk60fB"
      },
      "source": [
        "### Make predictions"
      ]
    },
    {
      "cell_type": "markdown",
      "metadata": {
        "colab_type": "text",
        "id": "9iDQ8uUr60f0"
      },
      "source": [
        "#### 80일 예측 "
      ]
    },
    {
      "cell_type": "code",
      "metadata": {
        "colab_type": "code",
        "outputId": "7a8ef315-c8aa-43f7-b422-c2a0770853d2",
        "id": "rA37lC_P60f3",
        "colab": {
          "base_uri": "https://localhost:8080/",
          "height": 332
        }
      },
      "source": [
        "test_predictions1 = model.predict(df_test[feat_temp])\n",
        "test_predictions2 = model2.predict(test_predictions1)"
      ],
      "execution_count": 167,
      "outputs": [
        {
          "output_type": "stream",
          "text": [
            "WARNING:tensorflow:Falling back from v2 loop because of error: Failed to find data adapter that can handle input: <class 'pandas.core.frame.DataFrame'>, <class 'NoneType'>\n",
            "Executing op AssignVariableOp in device /job:localhost/replica:0/task:0/device:GPU:0\n",
            "Executing op __inference_keras_scratch_graph_307564 in device /job:localhost/replica:0/task:0/device:GPU:0\n",
            "Executing op RangeDataset in device /job:localhost/replica:0/task:0/device:CPU:0\n",
            "Executing op RepeatDataset in device /job:localhost/replica:0/task:0/device:CPU:0\n",
            "Executing op MapDataset in device /job:localhost/replica:0/task:0/device:CPU:0\n",
            "Executing op PrefetchDataset in device /job:localhost/replica:0/task:0/device:CPU:0\n",
            "Executing op FlatMapDataset in device /job:localhost/replica:0/task:0/device:CPU:0\n",
            "Executing op TensorDataset in device /job:localhost/replica:0/task:0/device:CPU:0\n",
            "Executing op RepeatDataset in device /job:localhost/replica:0/task:0/device:CPU:0\n",
            "Executing op ZipDataset in device /job:localhost/replica:0/task:0/device:CPU:0\n",
            "Executing op ParallelMapDataset in device /job:localhost/replica:0/task:0/device:CPU:0\n",
            "Executing op ModelDataset in device /job:localhost/replica:0/task:0/device:CPU:0\n",
            "Executing op AnonymousIteratorV2 in device /job:localhost/replica:0/task:0/device:CPU:0\n",
            "Executing op MakeIterator in device /job:localhost/replica:0/task:0/device:CPU:0\n",
            "Executing op __inference_distributed_function_450293 in device /job:localhost/replica:0/task:0/device:GPU:0\n",
            "Executing op DeleteIterator in device /job:localhost/replica:0/task:0/device:CPU:0\n"
          ],
          "name": "stdout"
        }
      ]
    },
    {
      "cell_type": "code",
      "metadata": {
        "colab_type": "code",
        "id": "gOauaQgJ60f8",
        "colab": {}
      },
      "source": [
        "# 제출 파일 만들기\n",
        "submit = pd.DataFrame({'id':range(144*33, 144*113),\n",
        "              'Y18':test_predictions2.reshape(1,-1)[0]})"
      ],
      "execution_count": 0,
      "outputs": []
    },
    {
      "cell_type": "code",
      "metadata": {
        "colab_type": "code",
        "id": "5R7fDVnD60gB",
        "colab": {}
      },
      "source": [
        "submit.to_csv('baseline_result_2.csv', index = False)"
      ],
      "execution_count": 0,
      "outputs": []
    },
    {
      "cell_type": "code",
      "metadata": {
        "id": "4U_EiB8WboBy",
        "colab_type": "code",
        "colab": {}
      },
      "source": [
        ""
      ],
      "execution_count": 0,
      "outputs": []
    }
  ]
}