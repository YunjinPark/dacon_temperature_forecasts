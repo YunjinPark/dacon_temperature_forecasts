{
  "nbformat": 4,
  "nbformat_minor": 0,
  "metadata": {
    "colab": {
      "name": "eda.ipynb",
      "provenance": [],
      "collapsed_sections": []
    },
    "kernelspec": {
      "name": "python3",
      "display_name": "Python 3"
    }
  },
  "cells": [
    {
      "cell_type": "code",
      "metadata": {
        "colab_type": "code",
        "id": "W0JYBJTwl5qn",
        "colab": {}
      },
      "source": [
        "df[].corr()"
      ],
      "execution_count": 0,
      "outputs": []
    },
    {
      "cell_type": "code",
      "metadata": {
        "colab_type": "code",
        "id": "5r23d6kIl5q8",
        "colab": {}
      },
      "source": [
        "sns.heatmap(df[].corr(), cmap='coolwarm')"
      ],
      "execution_count": 0,
      "outputs": []
    },
    {
      "cell_type": "code",
      "metadata": {
        "colab_type": "code",
        "id": "acfMEe2ql5rG",
        "colab": {}
      },
      "source": [
        ""
      ],
      "execution_count": 0,
      "outputs": []
    },
    {
      "cell_type": "code",
      "metadata": {
        "id": "7ASe8u1m4F13",
        "colab_type": "code",
        "colab": {}
      },
      "source": [
        "import numpy as np \n",
        "import pandas as pd\n",
        "import matplotlib.pyplot as plt\n",
        "import seaborn as sns"
      ],
      "execution_count": 0,
      "outputs": []
    },
    {
      "cell_type": "markdown",
      "metadata": {
        "id": "GnzbKvgWkMry",
        "colab_type": "text"
      },
      "source": [
        "# 0 한글 폰트"
      ]
    },
    {
      "cell_type": "code",
      "metadata": {
        "id": "C6K3dLGCcJly",
        "colab_type": "code",
        "outputId": "19d86ad5-ff7f-44ef-954f-dfd243225334",
        "colab": {
          "base_uri": "https://localhost:8080/",
          "height": 416
        }
      },
      "source": [
        "!wget \"https://noto-website-2.storage.googleapis.com/pkgs/NotoSansCJKkr-hinted.zip\"\n",
        "!unzip \"NotoSansCJKkr-hinted.zip\""
      ],
      "execution_count": 3,
      "outputs": [
        {
          "output_type": "stream",
          "text": [
            "--2020-03-08 13:04:44--  https://noto-website-2.storage.googleapis.com/pkgs/NotoSansCJKkr-hinted.zip\n",
            "Resolving noto-website-2.storage.googleapis.com (noto-website-2.storage.googleapis.com)... 173.194.217.128, 2607:f8b0:400c:c13::80\n",
            "Connecting to noto-website-2.storage.googleapis.com (noto-website-2.storage.googleapis.com)|173.194.217.128|:443... connected.\n",
            "HTTP request sent, awaiting response... 200 OK\n",
            "Length: 121163981 (116M) [application/zip]\n",
            "Saving to: ‘NotoSansCJKkr-hinted.zip’\n",
            "\n",
            "NotoSansCJKkr-hinte 100%[===================>] 115.55M  82.1MB/s    in 1.4s    \n",
            "\n",
            "2020-03-08 13:04:51 (82.1 MB/s) - ‘NotoSansCJKkr-hinted.zip’ saved [121163981/121163981]\n",
            "\n",
            "Archive:  NotoSansCJKkr-hinted.zip\n",
            "  inflating: LICENSE_OFL.txt         \n",
            "  inflating: NotoSansCJKkr-Black.otf  \n",
            "  inflating: NotoSansCJKkr-Bold.otf  \n",
            "  inflating: NotoSansCJKkr-DemiLight.otf  \n",
            "  inflating: NotoSansCJKkr-Light.otf  \n",
            "  inflating: NotoSansCJKkr-Medium.otf  \n",
            "  inflating: NotoSansCJKkr-Regular.otf  \n",
            "  inflating: NotoSansCJKkr-Thin.otf  \n",
            "  inflating: NotoSansMonoCJKkr-Bold.otf  \n",
            "  inflating: NotoSansMonoCJKkr-Regular.otf  \n",
            "  inflating: README                  \n"
          ],
          "name": "stdout"
        }
      ]
    },
    {
      "cell_type": "code",
      "metadata": {
        "id": "fzQ6HS3Ne5dn",
        "colab_type": "code",
        "colab": {}
      },
      "source": [
        "!mv NotoSansCJKkr-Medium.otf /usr/share/fonts/truetype/"
      ],
      "execution_count": 0,
      "outputs": []
    },
    {
      "cell_type": "code",
      "metadata": {
        "id": "0YfjC4ZHe62p",
        "colab_type": "code",
        "colab": {}
      },
      "source": [
        "import matplotlib.pyplot as plt\n",
        "import matplotlib.font_manager as fm\n",
        "\n",
        "font_dirs = ['/usr/share/fonts/truetype']\n",
        "font_files = fm.findSystemFonts(fontpaths=font_dirs)\n",
        "font_list = fm.createFontList(font_files)\n",
        "fm.fontManager.ttflist.extend(font_list)\n",
        "plt.rcParams['font.family'] = \"Noto Sans CJK KR\""
      ],
      "execution_count": 0,
      "outputs": []
    },
    {
      "cell_type": "markdown",
      "metadata": {
        "id": "wM7X5C35N-4n",
        "colab_type": "text"
      },
      "source": [
        "# 1. 데이터 읽기 "
      ]
    },
    {
      "cell_type": "markdown",
      "metadata": {
        "id": "1CatWTjLPg_Q",
        "colab_type": "text"
      },
      "source": [
        "Contents of the Notebook:\n",
        "Part1: Exploratory Data Analysis(EDA):\n",
        "\n",
        "1)Analysis of the features.\n",
        "\n",
        "2)Finding any relations or trends considering multiple features.\n",
        "Part2: Feature Engineering and Data Cleaning:\n",
        "\n",
        "1)Adding any few features.\n",
        "\n",
        "2)Removing redundant features.\n",
        "\n",
        "3)Converting features into suitable form for modeling.\n",
        "Part3: Predictive Modeling\n",
        "\n",
        "1)Running Basic Algorithms.\n",
        "\n",
        "2)Cross Validation.\n",
        "\n",
        "3)Ensembling.\n",
        "\n",
        "4)Important Features Extraction"
      ]
    },
    {
      "cell_type": "markdown",
      "metadata": {
        "id": "PSHLZvJmcPRs",
        "colab_type": "text"
      },
      "source": [
        "# 1. 데이터 불러오기"
      ]
    },
    {
      "cell_type": "code",
      "metadata": {
        "id": "4UP_N36kWbEw",
        "colab_type": "code",
        "outputId": "666f550a-9b4a-43dc-905f-ad39c5cb147e",
        "colab": {
          "base_uri": "https://localhost:8080/",
          "height": 124
        }
      },
      "source": [
        "from google.colab import drive\n",
        "drive.mount('/content/drive')"
      ],
      "execution_count": 6,
      "outputs": [
        {
          "output_type": "stream",
          "text": [
            "Go to this URL in a browser: https://accounts.google.com/o/oauth2/auth?client_id=947318989803-6bn6qk8qdgf4n4g3pfee6491hc0brc4i.apps.googleusercontent.com&redirect_uri=urn%3aietf%3awg%3aoauth%3a2.0%3aoob&response_type=code&scope=email%20https%3a%2f%2fwww.googleapis.com%2fauth%2fdocs.test%20https%3a%2f%2fwww.googleapis.com%2fauth%2fdrive%20https%3a%2f%2fwww.googleapis.com%2fauth%2fdrive.photos.readonly%20https%3a%2f%2fwww.googleapis.com%2fauth%2fpeopleapi.readonly\n",
            "\n",
            "Enter your authorization code:\n",
            "··········\n",
            "Mounted at /content/drive\n"
          ],
          "name": "stdout"
        }
      ]
    },
    {
      "cell_type": "code",
      "metadata": {
        "id": "8MOGX2r-bdaG",
        "colab_type": "code",
        "colab": {}
      },
      "source": [
        "data_dir = \"/content/drive/My Drive/\" + \"_data/data_dacon/temperature_forecasts/\""
      ],
      "execution_count": 0,
      "outputs": []
    },
    {
      "cell_type": "code",
      "metadata": {
        "id": "0Q_lQowbbf9h",
        "colab_type": "code",
        "outputId": "959e28e9-11f9-42e7-ed2f-6d89a9d9cd45",
        "colab": {
          "base_uri": "https://localhost:8080/",
          "height": 34
        }
      },
      "source": [
        "df = pd.read_csv(data_dir+'train.csv')\n",
        "df.shape"
      ],
      "execution_count": 8,
      "outputs": [
        {
          "output_type": "execute_result",
          "data": {
            "text/plain": [
              "(4752, 60)"
            ]
          },
          "metadata": {
            "tags": []
          },
          "execution_count": 8
        }
      ]
    },
    {
      "cell_type": "markdown",
      "metadata": {
        "id": "yCOC3PZLSQnI",
        "colab_type": "text"
      },
      "source": [
        "# 2 데이터 살펴보기"
      ]
    },
    {
      "cell_type": "markdown",
      "metadata": {
        "id": "F7LRE4dgT_zt",
        "colab_type": "text"
      },
      "source": [
        "## 데이터 보기"
      ]
    },
    {
      "cell_type": "code",
      "metadata": {
        "id": "__K-1Vii6ieo",
        "colab_type": "code",
        "outputId": "24cfa3da-6a44-4c6e-d2e9-bd00b47ecda6",
        "colab": {
          "base_uri": "https://localhost:8080/",
          "height": 383
        }
      },
      "source": [
        "df.head(10)"
      ],
      "execution_count": 33,
      "outputs": [
        {
          "output_type": "execute_result",
          "data": {
            "text/html": [
              "<div>\n",
              "<style scoped>\n",
              "    .dataframe tbody tr th:only-of-type {\n",
              "        vertical-align: middle;\n",
              "    }\n",
              "\n",
              "    .dataframe tbody tr th {\n",
              "        vertical-align: top;\n",
              "    }\n",
              "\n",
              "    .dataframe thead th {\n",
              "        text-align: right;\n",
              "    }\n",
              "</style>\n",
              "<table border=\"1\" class=\"dataframe\">\n",
              "  <thead>\n",
              "    <tr style=\"text-align: right;\">\n",
              "      <th></th>\n",
              "      <th>id</th>\n",
              "      <th>X00</th>\n",
              "      <th>X01</th>\n",
              "      <th>X02</th>\n",
              "      <th>X03</th>\n",
              "      <th>X04</th>\n",
              "      <th>X05</th>\n",
              "      <th>X06</th>\n",
              "      <th>X07</th>\n",
              "      <th>X08</th>\n",
              "      <th>X09</th>\n",
              "      <th>X10</th>\n",
              "      <th>X11</th>\n",
              "      <th>X12</th>\n",
              "      <th>X13</th>\n",
              "      <th>X14</th>\n",
              "      <th>X15</th>\n",
              "      <th>X16</th>\n",
              "      <th>X17</th>\n",
              "      <th>X18</th>\n",
              "      <th>X19</th>\n",
              "      <th>X20</th>\n",
              "      <th>X21</th>\n",
              "      <th>X22</th>\n",
              "      <th>X23</th>\n",
              "      <th>X24</th>\n",
              "      <th>X25</th>\n",
              "      <th>X26</th>\n",
              "      <th>X27</th>\n",
              "      <th>X28</th>\n",
              "      <th>X29</th>\n",
              "      <th>X30</th>\n",
              "      <th>X31</th>\n",
              "      <th>X32</th>\n",
              "      <th>X33</th>\n",
              "      <th>X34</th>\n",
              "      <th>X35</th>\n",
              "      <th>X36</th>\n",
              "      <th>X37</th>\n",
              "      <th>X38</th>\n",
              "      <th>X39</th>\n",
              "      <th>Y00</th>\n",
              "      <th>Y01</th>\n",
              "      <th>Y02</th>\n",
              "      <th>Y03</th>\n",
              "      <th>Y04</th>\n",
              "      <th>Y05</th>\n",
              "      <th>Y06</th>\n",
              "      <th>Y07</th>\n",
              "      <th>Y08</th>\n",
              "      <th>Y09</th>\n",
              "      <th>Y10</th>\n",
              "      <th>Y11</th>\n",
              "      <th>Y12</th>\n",
              "      <th>Y13</th>\n",
              "      <th>Y14</th>\n",
              "      <th>Y15</th>\n",
              "      <th>Y16</th>\n",
              "      <th>Y17</th>\n",
              "      <th>Y18</th>\n",
              "    </tr>\n",
              "  </thead>\n",
              "  <tbody>\n",
              "    <tr>\n",
              "      <th>0</th>\n",
              "      <td>0</td>\n",
              "      <td>9.7</td>\n",
              "      <td>988.8</td>\n",
              "      <td>1.2</td>\n",
              "      <td>0.6</td>\n",
              "      <td>0.0</td>\n",
              "      <td>1009.3</td>\n",
              "      <td>989.6</td>\n",
              "      <td>12.2</td>\n",
              "      <td>1009.9</td>\n",
              "      <td>1009.8</td>\n",
              "      <td>0.0</td>\n",
              "      <td>0.0</td>\n",
              "      <td>82.4</td>\n",
              "      <td>71.3</td>\n",
              "      <td>0.0</td>\n",
              "      <td>101.1</td>\n",
              "      <td>0.0</td>\n",
              "      <td>56.1</td>\n",
              "      <td>0.3</td>\n",
              "      <td>0.0</td>\n",
              "      <td>91.0</td>\n",
              "      <td>0.0</td>\n",
              "      <td>1002.5</td>\n",
              "      <td>1009.8</td>\n",
              "      <td>1.1</td>\n",
              "      <td>2.3</td>\n",
              "      <td>0.5</td>\n",
              "      <td>1008.7</td>\n",
              "      <td>12.3</td>\n",
              "      <td>1001.6</td>\n",
              "      <td>69.1</td>\n",
              "      <td>8.2</td>\n",
              "      <td>10.7</td>\n",
              "      <td>1010.1</td>\n",
              "      <td>0.0</td>\n",
              "      <td>256.4</td>\n",
              "      <td>0.0</td>\n",
              "      <td>77.2</td>\n",
              "      <td>62.6</td>\n",
              "      <td>0.0</td>\n",
              "      <td>12.5</td>\n",
              "      <td>11.5</td>\n",
              "      <td>11.0</td>\n",
              "      <td>20.0</td>\n",
              "      <td>20.0</td>\n",
              "      <td>10.5</td>\n",
              "      <td>10.0</td>\n",
              "      <td>10.5</td>\n",
              "      <td>10.0</td>\n",
              "      <td>7.0</td>\n",
              "      <td>7.5</td>\n",
              "      <td>7.0</td>\n",
              "      <td>9.0</td>\n",
              "      <td>10.0</td>\n",
              "      <td>9.5</td>\n",
              "      <td>9.0</td>\n",
              "      <td>8.0</td>\n",
              "      <td>9.0</td>\n",
              "      <td>NaN</td>\n",
              "    </tr>\n",
              "    <tr>\n",
              "      <th>1</th>\n",
              "      <td>1</td>\n",
              "      <td>9.3</td>\n",
              "      <td>988.9</td>\n",
              "      <td>1.7</td>\n",
              "      <td>1.9</td>\n",
              "      <td>0.0</td>\n",
              "      <td>1009.3</td>\n",
              "      <td>989.6</td>\n",
              "      <td>12.1</td>\n",
              "      <td>1010.0</td>\n",
              "      <td>1009.9</td>\n",
              "      <td>0.0</td>\n",
              "      <td>0.0</td>\n",
              "      <td>81.2</td>\n",
              "      <td>121.8</td>\n",
              "      <td>0.0</td>\n",
              "      <td>165.3</td>\n",
              "      <td>0.0</td>\n",
              "      <td>0.0</td>\n",
              "      <td>0.4</td>\n",
              "      <td>0.0</td>\n",
              "      <td>91.9</td>\n",
              "      <td>0.0</td>\n",
              "      <td>1002.5</td>\n",
              "      <td>1009.9</td>\n",
              "      <td>0.0</td>\n",
              "      <td>0.0</td>\n",
              "      <td>0.0</td>\n",
              "      <td>1008.7</td>\n",
              "      <td>12.1</td>\n",
              "      <td>1001.7</td>\n",
              "      <td>70.3</td>\n",
              "      <td>8.3</td>\n",
              "      <td>10.3</td>\n",
              "      <td>1010.1</td>\n",
              "      <td>0.0</td>\n",
              "      <td>215.4</td>\n",
              "      <td>0.0</td>\n",
              "      <td>77.3</td>\n",
              "      <td>63.5</td>\n",
              "      <td>0.0</td>\n",
              "      <td>12.5</td>\n",
              "      <td>11.0</td>\n",
              "      <td>11.0</td>\n",
              "      <td>20.0</td>\n",
              "      <td>20.0</td>\n",
              "      <td>10.0</td>\n",
              "      <td>9.5</td>\n",
              "      <td>10.0</td>\n",
              "      <td>9.5</td>\n",
              "      <td>6.5</td>\n",
              "      <td>7.5</td>\n",
              "      <td>7.0</td>\n",
              "      <td>8.5</td>\n",
              "      <td>10.0</td>\n",
              "      <td>9.5</td>\n",
              "      <td>9.0</td>\n",
              "      <td>7.5</td>\n",
              "      <td>9.0</td>\n",
              "      <td>NaN</td>\n",
              "    </tr>\n",
              "    <tr>\n",
              "      <th>2</th>\n",
              "      <td>2</td>\n",
              "      <td>9.4</td>\n",
              "      <td>989.0</td>\n",
              "      <td>1.1</td>\n",
              "      <td>2.3</td>\n",
              "      <td>0.0</td>\n",
              "      <td>1009.2</td>\n",
              "      <td>989.7</td>\n",
              "      <td>12.1</td>\n",
              "      <td>1010.1</td>\n",
              "      <td>1010.1</td>\n",
              "      <td>0.0</td>\n",
              "      <td>0.0</td>\n",
              "      <td>86.1</td>\n",
              "      <td>232.0</td>\n",
              "      <td>0.0</td>\n",
              "      <td>144.0</td>\n",
              "      <td>0.0</td>\n",
              "      <td>0.0</td>\n",
              "      <td>0.6</td>\n",
              "      <td>0.0</td>\n",
              "      <td>93.3</td>\n",
              "      <td>0.0</td>\n",
              "      <td>1002.4</td>\n",
              "      <td>1009.8</td>\n",
              "      <td>0.0</td>\n",
              "      <td>0.0</td>\n",
              "      <td>0.0</td>\n",
              "      <td>1008.6</td>\n",
              "      <td>12.1</td>\n",
              "      <td>1001.6</td>\n",
              "      <td>71.5</td>\n",
              "      <td>8.0</td>\n",
              "      <td>9.7</td>\n",
              "      <td>1010.0</td>\n",
              "      <td>0.0</td>\n",
              "      <td>235.2</td>\n",
              "      <td>0.0</td>\n",
              "      <td>77.3</td>\n",
              "      <td>63.9</td>\n",
              "      <td>0.0</td>\n",
              "      <td>12.0</td>\n",
              "      <td>11.0</td>\n",
              "      <td>11.0</td>\n",
              "      <td>19.5</td>\n",
              "      <td>19.5</td>\n",
              "      <td>10.0</td>\n",
              "      <td>9.0</td>\n",
              "      <td>10.0</td>\n",
              "      <td>9.0</td>\n",
              "      <td>6.5</td>\n",
              "      <td>7.5</td>\n",
              "      <td>6.5</td>\n",
              "      <td>8.0</td>\n",
              "      <td>9.5</td>\n",
              "      <td>9.5</td>\n",
              "      <td>8.5</td>\n",
              "      <td>7.5</td>\n",
              "      <td>8.5</td>\n",
              "      <td>NaN</td>\n",
              "    </tr>\n",
              "    <tr>\n",
              "      <th>3</th>\n",
              "      <td>3</td>\n",
              "      <td>9.4</td>\n",
              "      <td>988.9</td>\n",
              "      <td>1.5</td>\n",
              "      <td>0.7</td>\n",
              "      <td>0.0</td>\n",
              "      <td>1009.2</td>\n",
              "      <td>989.6</td>\n",
              "      <td>12.0</td>\n",
              "      <td>1010.0</td>\n",
              "      <td>1010.0</td>\n",
              "      <td>0.0</td>\n",
              "      <td>0.0</td>\n",
              "      <td>87.7</td>\n",
              "      <td>0.0</td>\n",
              "      <td>0.0</td>\n",
              "      <td>115.9</td>\n",
              "      <td>0.0</td>\n",
              "      <td>294.1</td>\n",
              "      <td>0.1</td>\n",
              "      <td>0.0</td>\n",
              "      <td>93.4</td>\n",
              "      <td>0.0</td>\n",
              "      <td>1002.4</td>\n",
              "      <td>1009.7</td>\n",
              "      <td>0.0</td>\n",
              "      <td>0.0</td>\n",
              "      <td>0.2</td>\n",
              "      <td>1008.7</td>\n",
              "      <td>12.1</td>\n",
              "      <td>1001.5</td>\n",
              "      <td>73.2</td>\n",
              "      <td>7.7</td>\n",
              "      <td>9.4</td>\n",
              "      <td>1010.1</td>\n",
              "      <td>0.0</td>\n",
              "      <td>214.0</td>\n",
              "      <td>0.0</td>\n",
              "      <td>77.5</td>\n",
              "      <td>64.5</td>\n",
              "      <td>0.0</td>\n",
              "      <td>12.0</td>\n",
              "      <td>11.0</td>\n",
              "      <td>11.0</td>\n",
              "      <td>19.5</td>\n",
              "      <td>19.5</td>\n",
              "      <td>9.5</td>\n",
              "      <td>9.0</td>\n",
              "      <td>9.5</td>\n",
              "      <td>9.0</td>\n",
              "      <td>6.0</td>\n",
              "      <td>7.0</td>\n",
              "      <td>6.0</td>\n",
              "      <td>8.0</td>\n",
              "      <td>9.5</td>\n",
              "      <td>9.0</td>\n",
              "      <td>8.5</td>\n",
              "      <td>7.5</td>\n",
              "      <td>8.5</td>\n",
              "      <td>NaN</td>\n",
              "    </tr>\n",
              "    <tr>\n",
              "      <th>4</th>\n",
              "      <td>4</td>\n",
              "      <td>9.2</td>\n",
              "      <td>988.9</td>\n",
              "      <td>0.8</td>\n",
              "      <td>1.7</td>\n",
              "      <td>0.0</td>\n",
              "      <td>1009.2</td>\n",
              "      <td>989.7</td>\n",
              "      <td>12.0</td>\n",
              "      <td>1010.1</td>\n",
              "      <td>1010.0</td>\n",
              "      <td>0.0</td>\n",
              "      <td>0.0</td>\n",
              "      <td>88.9</td>\n",
              "      <td>0.0</td>\n",
              "      <td>0.0</td>\n",
              "      <td>124.7</td>\n",
              "      <td>0.0</td>\n",
              "      <td>0.0</td>\n",
              "      <td>0.0</td>\n",
              "      <td>0.0</td>\n",
              "      <td>94.1</td>\n",
              "      <td>0.0</td>\n",
              "      <td>1002.4</td>\n",
              "      <td>1009.7</td>\n",
              "      <td>0.0</td>\n",
              "      <td>0.0</td>\n",
              "      <td>0.0</td>\n",
              "      <td>1008.7</td>\n",
              "      <td>12.0</td>\n",
              "      <td>1001.5</td>\n",
              "      <td>74.3</td>\n",
              "      <td>7.4</td>\n",
              "      <td>9.4</td>\n",
              "      <td>1010.1</td>\n",
              "      <td>0.0</td>\n",
              "      <td>174.9</td>\n",
              "      <td>0.0</td>\n",
              "      <td>78.0</td>\n",
              "      <td>65.0</td>\n",
              "      <td>0.0</td>\n",
              "      <td>12.0</td>\n",
              "      <td>10.5</td>\n",
              "      <td>10.5</td>\n",
              "      <td>19.0</td>\n",
              "      <td>19.5</td>\n",
              "      <td>9.5</td>\n",
              "      <td>8.5</td>\n",
              "      <td>9.5</td>\n",
              "      <td>8.5</td>\n",
              "      <td>6.0</td>\n",
              "      <td>7.0</td>\n",
              "      <td>6.0</td>\n",
              "      <td>7.5</td>\n",
              "      <td>9.5</td>\n",
              "      <td>9.0</td>\n",
              "      <td>8.5</td>\n",
              "      <td>7.5</td>\n",
              "      <td>8.5</td>\n",
              "      <td>NaN</td>\n",
              "    </tr>\n",
              "    <tr>\n",
              "      <th>5</th>\n",
              "      <td>5</td>\n",
              "      <td>9.1</td>\n",
              "      <td>988.9</td>\n",
              "      <td>1.3</td>\n",
              "      <td>0.7</td>\n",
              "      <td>0.0</td>\n",
              "      <td>1009.1</td>\n",
              "      <td>989.6</td>\n",
              "      <td>12.0</td>\n",
              "      <td>1010.0</td>\n",
              "      <td>1010.0</td>\n",
              "      <td>0.0</td>\n",
              "      <td>0.0</td>\n",
              "      <td>90.7</td>\n",
              "      <td>222.0</td>\n",
              "      <td>0.0</td>\n",
              "      <td>174.2</td>\n",
              "      <td>0.0</td>\n",
              "      <td>0.0</td>\n",
              "      <td>0.2</td>\n",
              "      <td>0.0</td>\n",
              "      <td>94.6</td>\n",
              "      <td>0.0</td>\n",
              "      <td>1002.3</td>\n",
              "      <td>1009.7</td>\n",
              "      <td>0.0</td>\n",
              "      <td>0.0</td>\n",
              "      <td>0.0</td>\n",
              "      <td>1008.7</td>\n",
              "      <td>12.0</td>\n",
              "      <td>1001.5</td>\n",
              "      <td>75.7</td>\n",
              "      <td>7.3</td>\n",
              "      <td>9.1</td>\n",
              "      <td>1010.1</td>\n",
              "      <td>0.0</td>\n",
              "      <td>243.1</td>\n",
              "      <td>0.0</td>\n",
              "      <td>78.7</td>\n",
              "      <td>65.1</td>\n",
              "      <td>0.0</td>\n",
              "      <td>12.0</td>\n",
              "      <td>10.5</td>\n",
              "      <td>10.5</td>\n",
              "      <td>19.0</td>\n",
              "      <td>19.0</td>\n",
              "      <td>9.5</td>\n",
              "      <td>8.5</td>\n",
              "      <td>9.5</td>\n",
              "      <td>8.5</td>\n",
              "      <td>6.0</td>\n",
              "      <td>7.0</td>\n",
              "      <td>6.0</td>\n",
              "      <td>7.5</td>\n",
              "      <td>9.0</td>\n",
              "      <td>9.0</td>\n",
              "      <td>8.5</td>\n",
              "      <td>7.0</td>\n",
              "      <td>8.5</td>\n",
              "      <td>NaN</td>\n",
              "    </tr>\n",
              "    <tr>\n",
              "      <th>6</th>\n",
              "      <td>6</td>\n",
              "      <td>9.1</td>\n",
              "      <td>988.8</td>\n",
              "      <td>2.4</td>\n",
              "      <td>1.9</td>\n",
              "      <td>0.0</td>\n",
              "      <td>1009.1</td>\n",
              "      <td>989.6</td>\n",
              "      <td>12.0</td>\n",
              "      <td>1010.1</td>\n",
              "      <td>1010.0</td>\n",
              "      <td>0.0</td>\n",
              "      <td>0.0</td>\n",
              "      <td>90.2</td>\n",
              "      <td>257.8</td>\n",
              "      <td>0.0</td>\n",
              "      <td>168.9</td>\n",
              "      <td>0.0</td>\n",
              "      <td>0.0</td>\n",
              "      <td>0.3</td>\n",
              "      <td>0.0</td>\n",
              "      <td>94.9</td>\n",
              "      <td>0.0</td>\n",
              "      <td>1002.3</td>\n",
              "      <td>1009.6</td>\n",
              "      <td>0.0</td>\n",
              "      <td>0.0</td>\n",
              "      <td>0.0</td>\n",
              "      <td>1008.7</td>\n",
              "      <td>11.8</td>\n",
              "      <td>1001.4</td>\n",
              "      <td>79.0</td>\n",
              "      <td>7.1</td>\n",
              "      <td>8.6</td>\n",
              "      <td>1010.1</td>\n",
              "      <td>0.0</td>\n",
              "      <td>195.8</td>\n",
              "      <td>0.0</td>\n",
              "      <td>78.6</td>\n",
              "      <td>65.5</td>\n",
              "      <td>0.0</td>\n",
              "      <td>12.0</td>\n",
              "      <td>10.0</td>\n",
              "      <td>10.0</td>\n",
              "      <td>19.0</td>\n",
              "      <td>19.0</td>\n",
              "      <td>9.0</td>\n",
              "      <td>8.0</td>\n",
              "      <td>9.0</td>\n",
              "      <td>8.5</td>\n",
              "      <td>5.5</td>\n",
              "      <td>6.5</td>\n",
              "      <td>5.5</td>\n",
              "      <td>7.5</td>\n",
              "      <td>9.0</td>\n",
              "      <td>8.5</td>\n",
              "      <td>8.0</td>\n",
              "      <td>7.0</td>\n",
              "      <td>8.0</td>\n",
              "      <td>NaN</td>\n",
              "    </tr>\n",
              "    <tr>\n",
              "      <th>7</th>\n",
              "      <td>7</td>\n",
              "      <td>8.9</td>\n",
              "      <td>988.9</td>\n",
              "      <td>1.0</td>\n",
              "      <td>1.2</td>\n",
              "      <td>0.0</td>\n",
              "      <td>1009.2</td>\n",
              "      <td>989.7</td>\n",
              "      <td>11.9</td>\n",
              "      <td>1010.1</td>\n",
              "      <td>1010.1</td>\n",
              "      <td>0.0</td>\n",
              "      <td>0.0</td>\n",
              "      <td>91.9</td>\n",
              "      <td>226.4</td>\n",
              "      <td>0.0</td>\n",
              "      <td>112.8</td>\n",
              "      <td>0.0</td>\n",
              "      <td>0.0</td>\n",
              "      <td>0.4</td>\n",
              "      <td>0.0</td>\n",
              "      <td>95.0</td>\n",
              "      <td>0.0</td>\n",
              "      <td>1002.4</td>\n",
              "      <td>1009.7</td>\n",
              "      <td>0.0</td>\n",
              "      <td>0.0</td>\n",
              "      <td>0.0</td>\n",
              "      <td>1008.7</td>\n",
              "      <td>11.8</td>\n",
              "      <td>1001.5</td>\n",
              "      <td>78.2</td>\n",
              "      <td>7.1</td>\n",
              "      <td>8.8</td>\n",
              "      <td>1010.1</td>\n",
              "      <td>0.0</td>\n",
              "      <td>262.7</td>\n",
              "      <td>0.0</td>\n",
              "      <td>78.6</td>\n",
              "      <td>65.7</td>\n",
              "      <td>0.0</td>\n",
              "      <td>12.0</td>\n",
              "      <td>10.0</td>\n",
              "      <td>10.0</td>\n",
              "      <td>19.0</td>\n",
              "      <td>19.0</td>\n",
              "      <td>9.0</td>\n",
              "      <td>8.0</td>\n",
              "      <td>9.0</td>\n",
              "      <td>8.5</td>\n",
              "      <td>5.5</td>\n",
              "      <td>6.0</td>\n",
              "      <td>5.5</td>\n",
              "      <td>7.5</td>\n",
              "      <td>9.0</td>\n",
              "      <td>8.5</td>\n",
              "      <td>8.0</td>\n",
              "      <td>7.0</td>\n",
              "      <td>8.0</td>\n",
              "      <td>NaN</td>\n",
              "    </tr>\n",
              "    <tr>\n",
              "      <th>8</th>\n",
              "      <td>8</td>\n",
              "      <td>9.0</td>\n",
              "      <td>988.9</td>\n",
              "      <td>1.5</td>\n",
              "      <td>0.1</td>\n",
              "      <td>0.0</td>\n",
              "      <td>1009.2</td>\n",
              "      <td>989.6</td>\n",
              "      <td>11.9</td>\n",
              "      <td>1010.0</td>\n",
              "      <td>1010.1</td>\n",
              "      <td>0.0</td>\n",
              "      <td>0.0</td>\n",
              "      <td>92.2</td>\n",
              "      <td>215.0</td>\n",
              "      <td>0.0</td>\n",
              "      <td>157.4</td>\n",
              "      <td>0.0</td>\n",
              "      <td>0.0</td>\n",
              "      <td>0.6</td>\n",
              "      <td>0.0</td>\n",
              "      <td>95.5</td>\n",
              "      <td>0.0</td>\n",
              "      <td>1002.4</td>\n",
              "      <td>1009.7</td>\n",
              "      <td>0.0</td>\n",
              "      <td>0.0</td>\n",
              "      <td>0.0</td>\n",
              "      <td>1008.7</td>\n",
              "      <td>11.6</td>\n",
              "      <td>1001.5</td>\n",
              "      <td>77.5</td>\n",
              "      <td>7.0</td>\n",
              "      <td>8.8</td>\n",
              "      <td>1010.1</td>\n",
              "      <td>0.0</td>\n",
              "      <td>236.1</td>\n",
              "      <td>0.0</td>\n",
              "      <td>78.8</td>\n",
              "      <td>66.5</td>\n",
              "      <td>0.0</td>\n",
              "      <td>12.0</td>\n",
              "      <td>10.0</td>\n",
              "      <td>10.0</td>\n",
              "      <td>19.0</td>\n",
              "      <td>19.0</td>\n",
              "      <td>9.0</td>\n",
              "      <td>8.0</td>\n",
              "      <td>9.0</td>\n",
              "      <td>8.0</td>\n",
              "      <td>5.0</td>\n",
              "      <td>6.0</td>\n",
              "      <td>5.0</td>\n",
              "      <td>7.0</td>\n",
              "      <td>9.0</td>\n",
              "      <td>8.5</td>\n",
              "      <td>8.0</td>\n",
              "      <td>7.0</td>\n",
              "      <td>8.0</td>\n",
              "      <td>NaN</td>\n",
              "    </tr>\n",
              "    <tr>\n",
              "      <th>9</th>\n",
              "      <td>9</td>\n",
              "      <td>8.8</td>\n",
              "      <td>988.9</td>\n",
              "      <td>1.4</td>\n",
              "      <td>0.4</td>\n",
              "      <td>0.0</td>\n",
              "      <td>1009.4</td>\n",
              "      <td>989.6</td>\n",
              "      <td>11.8</td>\n",
              "      <td>1010.1</td>\n",
              "      <td>1010.1</td>\n",
              "      <td>0.0</td>\n",
              "      <td>0.0</td>\n",
              "      <td>92.7</td>\n",
              "      <td>214.4</td>\n",
              "      <td>0.0</td>\n",
              "      <td>134.0</td>\n",
              "      <td>0.0</td>\n",
              "      <td>0.0</td>\n",
              "      <td>0.6</td>\n",
              "      <td>0.0</td>\n",
              "      <td>95.6</td>\n",
              "      <td>0.0</td>\n",
              "      <td>1002.5</td>\n",
              "      <td>1009.7</td>\n",
              "      <td>0.0</td>\n",
              "      <td>0.0</td>\n",
              "      <td>0.0</td>\n",
              "      <td>1008.6</td>\n",
              "      <td>11.5</td>\n",
              "      <td>1001.5</td>\n",
              "      <td>79.3</td>\n",
              "      <td>7.1</td>\n",
              "      <td>8.5</td>\n",
              "      <td>1010.0</td>\n",
              "      <td>0.0</td>\n",
              "      <td>230.9</td>\n",
              "      <td>0.0</td>\n",
              "      <td>78.8</td>\n",
              "      <td>67.6</td>\n",
              "      <td>0.0</td>\n",
              "      <td>12.0</td>\n",
              "      <td>10.0</td>\n",
              "      <td>9.5</td>\n",
              "      <td>18.5</td>\n",
              "      <td>18.5</td>\n",
              "      <td>9.0</td>\n",
              "      <td>8.0</td>\n",
              "      <td>9.0</td>\n",
              "      <td>8.0</td>\n",
              "      <td>4.5</td>\n",
              "      <td>5.5</td>\n",
              "      <td>5.0</td>\n",
              "      <td>7.0</td>\n",
              "      <td>8.5</td>\n",
              "      <td>8.5</td>\n",
              "      <td>8.0</td>\n",
              "      <td>7.0</td>\n",
              "      <td>8.0</td>\n",
              "      <td>NaN</td>\n",
              "    </tr>\n",
              "  </tbody>\n",
              "</table>\n",
              "</div>"
            ],
            "text/plain": [
              "   id  X00    X01  X02  X03  X04     X05  ...  Y12   Y13  Y14  Y15  Y16  Y17  Y18\n",
              "0   0  9.7  988.8  1.2  0.6  0.0  1009.3  ...  9.0  10.0  9.5  9.0  8.0  9.0  NaN\n",
              "1   1  9.3  988.9  1.7  1.9  0.0  1009.3  ...  8.5  10.0  9.5  9.0  7.5  9.0  NaN\n",
              "2   2  9.4  989.0  1.1  2.3  0.0  1009.2  ...  8.0   9.5  9.5  8.5  7.5  8.5  NaN\n",
              "3   3  9.4  988.9  1.5  0.7  0.0  1009.2  ...  8.0   9.5  9.0  8.5  7.5  8.5  NaN\n",
              "4   4  9.2  988.9  0.8  1.7  0.0  1009.2  ...  7.5   9.5  9.0  8.5  7.5  8.5  NaN\n",
              "5   5  9.1  988.9  1.3  0.7  0.0  1009.1  ...  7.5   9.0  9.0  8.5  7.0  8.5  NaN\n",
              "6   6  9.1  988.8  2.4  1.9  0.0  1009.1  ...  7.5   9.0  8.5  8.0  7.0  8.0  NaN\n",
              "7   7  8.9  988.9  1.0  1.2  0.0  1009.2  ...  7.5   9.0  8.5  8.0  7.0  8.0  NaN\n",
              "8   8  9.0  988.9  1.5  0.1  0.0  1009.2  ...  7.0   9.0  8.5  8.0  7.0  8.0  NaN\n",
              "9   9  8.8  988.9  1.4  0.4  0.0  1009.4  ...  7.0   8.5  8.5  8.0  7.0  8.0  NaN\n",
              "\n",
              "[10 rows x 60 columns]"
            ]
          },
          "metadata": {
            "tags": []
          },
          "execution_count": 33
        }
      ]
    },
    {
      "cell_type": "code",
      "metadata": {
        "id": "wHzWFEyyQD5W",
        "colab_type": "code",
        "colab": {
          "base_uri": "https://localhost:8080/",
          "height": 383
        },
        "outputId": "de22f98b-242a-4c2b-b30d-ebb2cdc9600a"
      },
      "source": [
        "df.tail(10)"
      ],
      "execution_count": 34,
      "outputs": [
        {
          "output_type": "execute_result",
          "data": {
            "text/html": [
              "<div>\n",
              "<style scoped>\n",
              "    .dataframe tbody tr th:only-of-type {\n",
              "        vertical-align: middle;\n",
              "    }\n",
              "\n",
              "    .dataframe tbody tr th {\n",
              "        vertical-align: top;\n",
              "    }\n",
              "\n",
              "    .dataframe thead th {\n",
              "        text-align: right;\n",
              "    }\n",
              "</style>\n",
              "<table border=\"1\" class=\"dataframe\">\n",
              "  <thead>\n",
              "    <tr style=\"text-align: right;\">\n",
              "      <th></th>\n",
              "      <th>id</th>\n",
              "      <th>X00</th>\n",
              "      <th>X01</th>\n",
              "      <th>X02</th>\n",
              "      <th>X03</th>\n",
              "      <th>X04</th>\n",
              "      <th>X05</th>\n",
              "      <th>X06</th>\n",
              "      <th>X07</th>\n",
              "      <th>X08</th>\n",
              "      <th>X09</th>\n",
              "      <th>X10</th>\n",
              "      <th>X11</th>\n",
              "      <th>X12</th>\n",
              "      <th>X13</th>\n",
              "      <th>X14</th>\n",
              "      <th>X15</th>\n",
              "      <th>X16</th>\n",
              "      <th>X17</th>\n",
              "      <th>X18</th>\n",
              "      <th>X19</th>\n",
              "      <th>X20</th>\n",
              "      <th>X21</th>\n",
              "      <th>X22</th>\n",
              "      <th>X23</th>\n",
              "      <th>X24</th>\n",
              "      <th>X25</th>\n",
              "      <th>X26</th>\n",
              "      <th>X27</th>\n",
              "      <th>X28</th>\n",
              "      <th>X29</th>\n",
              "      <th>X30</th>\n",
              "      <th>X31</th>\n",
              "      <th>X32</th>\n",
              "      <th>X33</th>\n",
              "      <th>X34</th>\n",
              "      <th>X35</th>\n",
              "      <th>X36</th>\n",
              "      <th>X37</th>\n",
              "      <th>X38</th>\n",
              "      <th>X39</th>\n",
              "      <th>Y00</th>\n",
              "      <th>Y01</th>\n",
              "      <th>Y02</th>\n",
              "      <th>Y03</th>\n",
              "      <th>Y04</th>\n",
              "      <th>Y05</th>\n",
              "      <th>Y06</th>\n",
              "      <th>Y07</th>\n",
              "      <th>Y08</th>\n",
              "      <th>Y09</th>\n",
              "      <th>Y10</th>\n",
              "      <th>Y11</th>\n",
              "      <th>Y12</th>\n",
              "      <th>Y13</th>\n",
              "      <th>Y14</th>\n",
              "      <th>Y15</th>\n",
              "      <th>Y16</th>\n",
              "      <th>Y17</th>\n",
              "      <th>Y18</th>\n",
              "    </tr>\n",
              "  </thead>\n",
              "  <tbody>\n",
              "    <tr>\n",
              "      <th>4742</th>\n",
              "      <td>4742</td>\n",
              "      <td>20.9</td>\n",
              "      <td>987.7</td>\n",
              "      <td>0.2</td>\n",
              "      <td>2.0</td>\n",
              "      <td>0.0</td>\n",
              "      <td>1006.6</td>\n",
              "      <td>987.8</td>\n",
              "      <td>22.2</td>\n",
              "      <td>1007.7</td>\n",
              "      <td>1007.4</td>\n",
              "      <td>2.5</td>\n",
              "      <td>23.88</td>\n",
              "      <td>93.6</td>\n",
              "      <td>29.2</td>\n",
              "      <td>0.0</td>\n",
              "      <td>201.1</td>\n",
              "      <td>0.0</td>\n",
              "      <td>168.1</td>\n",
              "      <td>0.9</td>\n",
              "      <td>0.0</td>\n",
              "      <td>86.8</td>\n",
              "      <td>10.5</td>\n",
              "      <td>1000.1</td>\n",
              "      <td>1007.6</td>\n",
              "      <td>0.4</td>\n",
              "      <td>271.0</td>\n",
              "      <td>1.4</td>\n",
              "      <td>1006.0</td>\n",
              "      <td>24.5</td>\n",
              "      <td>999.6</td>\n",
              "      <td>89.2</td>\n",
              "      <td>18.5</td>\n",
              "      <td>19.6</td>\n",
              "      <td>1007.6</td>\n",
              "      <td>22.16</td>\n",
              "      <td>152.3</td>\n",
              "      <td>0.0</td>\n",
              "      <td>79.0</td>\n",
              "      <td>56.0</td>\n",
              "      <td>0.5</td>\n",
              "      <td>NaN</td>\n",
              "      <td>NaN</td>\n",
              "      <td>NaN</td>\n",
              "      <td>NaN</td>\n",
              "      <td>NaN</td>\n",
              "      <td>NaN</td>\n",
              "      <td>NaN</td>\n",
              "      <td>NaN</td>\n",
              "      <td>NaN</td>\n",
              "      <td>NaN</td>\n",
              "      <td>NaN</td>\n",
              "      <td>NaN</td>\n",
              "      <td>NaN</td>\n",
              "      <td>NaN</td>\n",
              "      <td>NaN</td>\n",
              "      <td>NaN</td>\n",
              "      <td>NaN</td>\n",
              "      <td>NaN</td>\n",
              "      <td>22.5</td>\n",
              "    </tr>\n",
              "    <tr>\n",
              "      <th>4743</th>\n",
              "      <td>4743</td>\n",
              "      <td>20.8</td>\n",
              "      <td>987.6</td>\n",
              "      <td>2.6</td>\n",
              "      <td>2.0</td>\n",
              "      <td>0.0</td>\n",
              "      <td>1006.8</td>\n",
              "      <td>987.6</td>\n",
              "      <td>22.0</td>\n",
              "      <td>1007.3</td>\n",
              "      <td>1007.3</td>\n",
              "      <td>2.5</td>\n",
              "      <td>23.88</td>\n",
              "      <td>94.0</td>\n",
              "      <td>14.8</td>\n",
              "      <td>0.0</td>\n",
              "      <td>135.6</td>\n",
              "      <td>0.0</td>\n",
              "      <td>148.7</td>\n",
              "      <td>1.3</td>\n",
              "      <td>0.0</td>\n",
              "      <td>87.1</td>\n",
              "      <td>10.5</td>\n",
              "      <td>1000.3</td>\n",
              "      <td>1007.4</td>\n",
              "      <td>0.0</td>\n",
              "      <td>0.0</td>\n",
              "      <td>1.2</td>\n",
              "      <td>1006.0</td>\n",
              "      <td>24.2</td>\n",
              "      <td>999.4</td>\n",
              "      <td>88.8</td>\n",
              "      <td>18.2</td>\n",
              "      <td>19.5</td>\n",
              "      <td>1007.6</td>\n",
              "      <td>22.16</td>\n",
              "      <td>147.4</td>\n",
              "      <td>0.0</td>\n",
              "      <td>79.4</td>\n",
              "      <td>56.5</td>\n",
              "      <td>0.5</td>\n",
              "      <td>NaN</td>\n",
              "      <td>NaN</td>\n",
              "      <td>NaN</td>\n",
              "      <td>NaN</td>\n",
              "      <td>NaN</td>\n",
              "      <td>NaN</td>\n",
              "      <td>NaN</td>\n",
              "      <td>NaN</td>\n",
              "      <td>NaN</td>\n",
              "      <td>NaN</td>\n",
              "      <td>NaN</td>\n",
              "      <td>NaN</td>\n",
              "      <td>NaN</td>\n",
              "      <td>NaN</td>\n",
              "      <td>NaN</td>\n",
              "      <td>NaN</td>\n",
              "      <td>NaN</td>\n",
              "      <td>NaN</td>\n",
              "      <td>22.0</td>\n",
              "    </tr>\n",
              "    <tr>\n",
              "      <th>4744</th>\n",
              "      <td>4744</td>\n",
              "      <td>20.5</td>\n",
              "      <td>987.7</td>\n",
              "      <td>1.1</td>\n",
              "      <td>2.0</td>\n",
              "      <td>0.0</td>\n",
              "      <td>1006.8</td>\n",
              "      <td>987.8</td>\n",
              "      <td>21.9</td>\n",
              "      <td>1007.7</td>\n",
              "      <td>1007.4</td>\n",
              "      <td>2.5</td>\n",
              "      <td>23.88</td>\n",
              "      <td>94.5</td>\n",
              "      <td>304.7</td>\n",
              "      <td>0.0</td>\n",
              "      <td>227.1</td>\n",
              "      <td>0.0</td>\n",
              "      <td>267.7</td>\n",
              "      <td>0.7</td>\n",
              "      <td>0.0</td>\n",
              "      <td>88.0</td>\n",
              "      <td>10.5</td>\n",
              "      <td>1000.3</td>\n",
              "      <td>1007.4</td>\n",
              "      <td>1.6</td>\n",
              "      <td>113.4</td>\n",
              "      <td>0.6</td>\n",
              "      <td>1006.1</td>\n",
              "      <td>24.3</td>\n",
              "      <td>999.4</td>\n",
              "      <td>89.7</td>\n",
              "      <td>18.0</td>\n",
              "      <td>19.7</td>\n",
              "      <td>1007.7</td>\n",
              "      <td>22.16</td>\n",
              "      <td>149.1</td>\n",
              "      <td>0.0</td>\n",
              "      <td>80.4</td>\n",
              "      <td>56.4</td>\n",
              "      <td>0.5</td>\n",
              "      <td>NaN</td>\n",
              "      <td>NaN</td>\n",
              "      <td>NaN</td>\n",
              "      <td>NaN</td>\n",
              "      <td>NaN</td>\n",
              "      <td>NaN</td>\n",
              "      <td>NaN</td>\n",
              "      <td>NaN</td>\n",
              "      <td>NaN</td>\n",
              "      <td>NaN</td>\n",
              "      <td>NaN</td>\n",
              "      <td>NaN</td>\n",
              "      <td>NaN</td>\n",
              "      <td>NaN</td>\n",
              "      <td>NaN</td>\n",
              "      <td>NaN</td>\n",
              "      <td>NaN</td>\n",
              "      <td>NaN</td>\n",
              "      <td>22.0</td>\n",
              "    </tr>\n",
              "    <tr>\n",
              "      <th>4745</th>\n",
              "      <td>4745</td>\n",
              "      <td>20.2</td>\n",
              "      <td>987.8</td>\n",
              "      <td>1.1</td>\n",
              "      <td>1.6</td>\n",
              "      <td>0.0</td>\n",
              "      <td>1006.9</td>\n",
              "      <td>987.8</td>\n",
              "      <td>21.7</td>\n",
              "      <td>1007.7</td>\n",
              "      <td>1007.6</td>\n",
              "      <td>2.5</td>\n",
              "      <td>23.88</td>\n",
              "      <td>94.7</td>\n",
              "      <td>222.9</td>\n",
              "      <td>0.0</td>\n",
              "      <td>224.2</td>\n",
              "      <td>0.0</td>\n",
              "      <td>235.1</td>\n",
              "      <td>0.4</td>\n",
              "      <td>0.0</td>\n",
              "      <td>92.1</td>\n",
              "      <td>10.5</td>\n",
              "      <td>1000.4</td>\n",
              "      <td>1007.5</td>\n",
              "      <td>0.4</td>\n",
              "      <td>124.2</td>\n",
              "      <td>1.0</td>\n",
              "      <td>1006.1</td>\n",
              "      <td>24.2</td>\n",
              "      <td>999.4</td>\n",
              "      <td>88.6</td>\n",
              "      <td>17.8</td>\n",
              "      <td>19.6</td>\n",
              "      <td>1007.7</td>\n",
              "      <td>22.16</td>\n",
              "      <td>184.5</td>\n",
              "      <td>0.0</td>\n",
              "      <td>81.5</td>\n",
              "      <td>56.4</td>\n",
              "      <td>0.5</td>\n",
              "      <td>NaN</td>\n",
              "      <td>NaN</td>\n",
              "      <td>NaN</td>\n",
              "      <td>NaN</td>\n",
              "      <td>NaN</td>\n",
              "      <td>NaN</td>\n",
              "      <td>NaN</td>\n",
              "      <td>NaN</td>\n",
              "      <td>NaN</td>\n",
              "      <td>NaN</td>\n",
              "      <td>NaN</td>\n",
              "      <td>NaN</td>\n",
              "      <td>NaN</td>\n",
              "      <td>NaN</td>\n",
              "      <td>NaN</td>\n",
              "      <td>NaN</td>\n",
              "      <td>NaN</td>\n",
              "      <td>NaN</td>\n",
              "      <td>22.0</td>\n",
              "    </tr>\n",
              "    <tr>\n",
              "      <th>4746</th>\n",
              "      <td>4746</td>\n",
              "      <td>20.1</td>\n",
              "      <td>987.9</td>\n",
              "      <td>0.3</td>\n",
              "      <td>1.1</td>\n",
              "      <td>0.0</td>\n",
              "      <td>1006.9</td>\n",
              "      <td>987.7</td>\n",
              "      <td>21.7</td>\n",
              "      <td>1007.4</td>\n",
              "      <td>1007.7</td>\n",
              "      <td>2.5</td>\n",
              "      <td>23.88</td>\n",
              "      <td>95.2</td>\n",
              "      <td>298.4</td>\n",
              "      <td>0.0</td>\n",
              "      <td>234.9</td>\n",
              "      <td>0.0</td>\n",
              "      <td>240.1</td>\n",
              "      <td>0.9</td>\n",
              "      <td>0.0</td>\n",
              "      <td>90.8</td>\n",
              "      <td>10.5</td>\n",
              "      <td>1000.4</td>\n",
              "      <td>1007.5</td>\n",
              "      <td>0.0</td>\n",
              "      <td>0.0</td>\n",
              "      <td>1.3</td>\n",
              "      <td>1006.1</td>\n",
              "      <td>24.1</td>\n",
              "      <td>999.4</td>\n",
              "      <td>88.6</td>\n",
              "      <td>17.7</td>\n",
              "      <td>19.5</td>\n",
              "      <td>1007.7</td>\n",
              "      <td>22.16</td>\n",
              "      <td>215.2</td>\n",
              "      <td>0.0</td>\n",
              "      <td>82.1</td>\n",
              "      <td>56.9</td>\n",
              "      <td>0.5</td>\n",
              "      <td>NaN</td>\n",
              "      <td>NaN</td>\n",
              "      <td>NaN</td>\n",
              "      <td>NaN</td>\n",
              "      <td>NaN</td>\n",
              "      <td>NaN</td>\n",
              "      <td>NaN</td>\n",
              "      <td>NaN</td>\n",
              "      <td>NaN</td>\n",
              "      <td>NaN</td>\n",
              "      <td>NaN</td>\n",
              "      <td>NaN</td>\n",
              "      <td>NaN</td>\n",
              "      <td>NaN</td>\n",
              "      <td>NaN</td>\n",
              "      <td>NaN</td>\n",
              "      <td>NaN</td>\n",
              "      <td>NaN</td>\n",
              "      <td>22.0</td>\n",
              "    </tr>\n",
              "    <tr>\n",
              "      <th>4747</th>\n",
              "      <td>4747</td>\n",
              "      <td>19.9</td>\n",
              "      <td>987.6</td>\n",
              "      <td>0.9</td>\n",
              "      <td>0.8</td>\n",
              "      <td>0.0</td>\n",
              "      <td>1006.9</td>\n",
              "      <td>987.7</td>\n",
              "      <td>21.7</td>\n",
              "      <td>1007.5</td>\n",
              "      <td>1007.4</td>\n",
              "      <td>2.5</td>\n",
              "      <td>23.88</td>\n",
              "      <td>95.3</td>\n",
              "      <td>333.1</td>\n",
              "      <td>0.0</td>\n",
              "      <td>274.9</td>\n",
              "      <td>0.0</td>\n",
              "      <td>275.5</td>\n",
              "      <td>0.9</td>\n",
              "      <td>0.0</td>\n",
              "      <td>89.7</td>\n",
              "      <td>10.5</td>\n",
              "      <td>1000.4</td>\n",
              "      <td>1007.5</td>\n",
              "      <td>0.0</td>\n",
              "      <td>0.0</td>\n",
              "      <td>1.2</td>\n",
              "      <td>1006.0</td>\n",
              "      <td>23.8</td>\n",
              "      <td>999.4</td>\n",
              "      <td>89.9</td>\n",
              "      <td>17.7</td>\n",
              "      <td>19.1</td>\n",
              "      <td>1007.5</td>\n",
              "      <td>22.16</td>\n",
              "      <td>218.6</td>\n",
              "      <td>0.0</td>\n",
              "      <td>82.3</td>\n",
              "      <td>58.6</td>\n",
              "      <td>0.5</td>\n",
              "      <td>NaN</td>\n",
              "      <td>NaN</td>\n",
              "      <td>NaN</td>\n",
              "      <td>NaN</td>\n",
              "      <td>NaN</td>\n",
              "      <td>NaN</td>\n",
              "      <td>NaN</td>\n",
              "      <td>NaN</td>\n",
              "      <td>NaN</td>\n",
              "      <td>NaN</td>\n",
              "      <td>NaN</td>\n",
              "      <td>NaN</td>\n",
              "      <td>NaN</td>\n",
              "      <td>NaN</td>\n",
              "      <td>NaN</td>\n",
              "      <td>NaN</td>\n",
              "      <td>NaN</td>\n",
              "      <td>NaN</td>\n",
              "      <td>21.5</td>\n",
              "    </tr>\n",
              "    <tr>\n",
              "      <th>4748</th>\n",
              "      <td>4748</td>\n",
              "      <td>19.9</td>\n",
              "      <td>987.6</td>\n",
              "      <td>0.5</td>\n",
              "      <td>0.7</td>\n",
              "      <td>0.0</td>\n",
              "      <td>1006.8</td>\n",
              "      <td>987.7</td>\n",
              "      <td>21.6</td>\n",
              "      <td>1007.5</td>\n",
              "      <td>1007.4</td>\n",
              "      <td>2.5</td>\n",
              "      <td>23.88</td>\n",
              "      <td>95.6</td>\n",
              "      <td>216.4</td>\n",
              "      <td>0.0</td>\n",
              "      <td>277.3</td>\n",
              "      <td>0.0</td>\n",
              "      <td>247.0</td>\n",
              "      <td>1.0</td>\n",
              "      <td>0.0</td>\n",
              "      <td>90.1</td>\n",
              "      <td>10.5</td>\n",
              "      <td>1000.3</td>\n",
              "      <td>1007.5</td>\n",
              "      <td>0.0</td>\n",
              "      <td>0.0</td>\n",
              "      <td>1.3</td>\n",
              "      <td>1006.0</td>\n",
              "      <td>23.6</td>\n",
              "      <td>999.4</td>\n",
              "      <td>91.3</td>\n",
              "      <td>17.7</td>\n",
              "      <td>19.2</td>\n",
              "      <td>1007.5</td>\n",
              "      <td>22.16</td>\n",
              "      <td>161.7</td>\n",
              "      <td>0.0</td>\n",
              "      <td>82.5</td>\n",
              "      <td>59.1</td>\n",
              "      <td>0.5</td>\n",
              "      <td>NaN</td>\n",
              "      <td>NaN</td>\n",
              "      <td>NaN</td>\n",
              "      <td>NaN</td>\n",
              "      <td>NaN</td>\n",
              "      <td>NaN</td>\n",
              "      <td>NaN</td>\n",
              "      <td>NaN</td>\n",
              "      <td>NaN</td>\n",
              "      <td>NaN</td>\n",
              "      <td>NaN</td>\n",
              "      <td>NaN</td>\n",
              "      <td>NaN</td>\n",
              "      <td>NaN</td>\n",
              "      <td>NaN</td>\n",
              "      <td>NaN</td>\n",
              "      <td>NaN</td>\n",
              "      <td>NaN</td>\n",
              "      <td>21.5</td>\n",
              "    </tr>\n",
              "    <tr>\n",
              "      <th>4749</th>\n",
              "      <td>4749</td>\n",
              "      <td>19.7</td>\n",
              "      <td>987.7</td>\n",
              "      <td>0.9</td>\n",
              "      <td>0.6</td>\n",
              "      <td>0.0</td>\n",
              "      <td>1006.9</td>\n",
              "      <td>987.6</td>\n",
              "      <td>21.4</td>\n",
              "      <td>1007.4</td>\n",
              "      <td>1007.5</td>\n",
              "      <td>2.5</td>\n",
              "      <td>23.88</td>\n",
              "      <td>95.9</td>\n",
              "      <td>127.8</td>\n",
              "      <td>0.0</td>\n",
              "      <td>256.1</td>\n",
              "      <td>0.0</td>\n",
              "      <td>299.1</td>\n",
              "      <td>0.6</td>\n",
              "      <td>0.0</td>\n",
              "      <td>90.8</td>\n",
              "      <td>10.5</td>\n",
              "      <td>1000.4</td>\n",
              "      <td>1007.6</td>\n",
              "      <td>0.0</td>\n",
              "      <td>0.0</td>\n",
              "      <td>0.2</td>\n",
              "      <td>1006.0</td>\n",
              "      <td>23.6</td>\n",
              "      <td>999.5</td>\n",
              "      <td>90.2</td>\n",
              "      <td>17.8</td>\n",
              "      <td>19.2</td>\n",
              "      <td>1007.5</td>\n",
              "      <td>22.16</td>\n",
              "      <td>254.2</td>\n",
              "      <td>0.0</td>\n",
              "      <td>83.0</td>\n",
              "      <td>58.9</td>\n",
              "      <td>0.5</td>\n",
              "      <td>NaN</td>\n",
              "      <td>NaN</td>\n",
              "      <td>NaN</td>\n",
              "      <td>NaN</td>\n",
              "      <td>NaN</td>\n",
              "      <td>NaN</td>\n",
              "      <td>NaN</td>\n",
              "      <td>NaN</td>\n",
              "      <td>NaN</td>\n",
              "      <td>NaN</td>\n",
              "      <td>NaN</td>\n",
              "      <td>NaN</td>\n",
              "      <td>NaN</td>\n",
              "      <td>NaN</td>\n",
              "      <td>NaN</td>\n",
              "      <td>NaN</td>\n",
              "      <td>NaN</td>\n",
              "      <td>NaN</td>\n",
              "      <td>21.5</td>\n",
              "    </tr>\n",
              "    <tr>\n",
              "      <th>4750</th>\n",
              "      <td>4750</td>\n",
              "      <td>19.4</td>\n",
              "      <td>987.7</td>\n",
              "      <td>0.9</td>\n",
              "      <td>0.8</td>\n",
              "      <td>0.0</td>\n",
              "      <td>1006.9</td>\n",
              "      <td>987.8</td>\n",
              "      <td>21.3</td>\n",
              "      <td>1007.6</td>\n",
              "      <td>1007.5</td>\n",
              "      <td>2.5</td>\n",
              "      <td>23.88</td>\n",
              "      <td>95.9</td>\n",
              "      <td>323.8</td>\n",
              "      <td>0.0</td>\n",
              "      <td>255.1</td>\n",
              "      <td>0.0</td>\n",
              "      <td>0.0</td>\n",
              "      <td>0.6</td>\n",
              "      <td>0.0</td>\n",
              "      <td>91.5</td>\n",
              "      <td>10.5</td>\n",
              "      <td>1000.4</td>\n",
              "      <td>1007.6</td>\n",
              "      <td>0.0</td>\n",
              "      <td>0.0</td>\n",
              "      <td>0.1</td>\n",
              "      <td>1006.0</td>\n",
              "      <td>23.3</td>\n",
              "      <td>999.5</td>\n",
              "      <td>90.1</td>\n",
              "      <td>17.7</td>\n",
              "      <td>19.3</td>\n",
              "      <td>1007.6</td>\n",
              "      <td>22.16</td>\n",
              "      <td>300.0</td>\n",
              "      <td>0.0</td>\n",
              "      <td>83.2</td>\n",
              "      <td>59.8</td>\n",
              "      <td>0.5</td>\n",
              "      <td>NaN</td>\n",
              "      <td>NaN</td>\n",
              "      <td>NaN</td>\n",
              "      <td>NaN</td>\n",
              "      <td>NaN</td>\n",
              "      <td>NaN</td>\n",
              "      <td>NaN</td>\n",
              "      <td>NaN</td>\n",
              "      <td>NaN</td>\n",
              "      <td>NaN</td>\n",
              "      <td>NaN</td>\n",
              "      <td>NaN</td>\n",
              "      <td>NaN</td>\n",
              "      <td>NaN</td>\n",
              "      <td>NaN</td>\n",
              "      <td>NaN</td>\n",
              "      <td>NaN</td>\n",
              "      <td>NaN</td>\n",
              "      <td>21.5</td>\n",
              "    </tr>\n",
              "    <tr>\n",
              "      <th>4751</th>\n",
              "      <td>4751</td>\n",
              "      <td>19.1</td>\n",
              "      <td>987.6</td>\n",
              "      <td>1.0</td>\n",
              "      <td>0.3</td>\n",
              "      <td>0.0</td>\n",
              "      <td>1006.8</td>\n",
              "      <td>987.8</td>\n",
              "      <td>21.2</td>\n",
              "      <td>1007.5</td>\n",
              "      <td>1007.4</td>\n",
              "      <td>2.5</td>\n",
              "      <td>23.88</td>\n",
              "      <td>96.2</td>\n",
              "      <td>0.0</td>\n",
              "      <td>0.0</td>\n",
              "      <td>237.2</td>\n",
              "      <td>0.0</td>\n",
              "      <td>17.7</td>\n",
              "      <td>0.0</td>\n",
              "      <td>0.0</td>\n",
              "      <td>93.0</td>\n",
              "      <td>10.5</td>\n",
              "      <td>1000.3</td>\n",
              "      <td>1007.6</td>\n",
              "      <td>0.0</td>\n",
              "      <td>0.0</td>\n",
              "      <td>0.1</td>\n",
              "      <td>1006.1</td>\n",
              "      <td>23.2</td>\n",
              "      <td>999.5</td>\n",
              "      <td>89.6</td>\n",
              "      <td>17.7</td>\n",
              "      <td>19.5</td>\n",
              "      <td>1007.7</td>\n",
              "      <td>22.16</td>\n",
              "      <td>157.5</td>\n",
              "      <td>0.0</td>\n",
              "      <td>84.0</td>\n",
              "      <td>59.5</td>\n",
              "      <td>0.5</td>\n",
              "      <td>NaN</td>\n",
              "      <td>NaN</td>\n",
              "      <td>NaN</td>\n",
              "      <td>NaN</td>\n",
              "      <td>NaN</td>\n",
              "      <td>NaN</td>\n",
              "      <td>NaN</td>\n",
              "      <td>NaN</td>\n",
              "      <td>NaN</td>\n",
              "      <td>NaN</td>\n",
              "      <td>NaN</td>\n",
              "      <td>NaN</td>\n",
              "      <td>NaN</td>\n",
              "      <td>NaN</td>\n",
              "      <td>NaN</td>\n",
              "      <td>NaN</td>\n",
              "      <td>NaN</td>\n",
              "      <td>NaN</td>\n",
              "      <td>21.0</td>\n",
              "    </tr>\n",
              "  </tbody>\n",
              "</table>\n",
              "</div>"
            ],
            "text/plain": [
              "        id   X00    X01  X02  X03  X04  ...  Y13  Y14  Y15  Y16  Y17   Y18\n",
              "4742  4742  20.9  987.7  0.2  2.0  0.0  ...  NaN  NaN  NaN  NaN  NaN  22.5\n",
              "4743  4743  20.8  987.6  2.6  2.0  0.0  ...  NaN  NaN  NaN  NaN  NaN  22.0\n",
              "4744  4744  20.5  987.7  1.1  2.0  0.0  ...  NaN  NaN  NaN  NaN  NaN  22.0\n",
              "4745  4745  20.2  987.8  1.1  1.6  0.0  ...  NaN  NaN  NaN  NaN  NaN  22.0\n",
              "4746  4746  20.1  987.9  0.3  1.1  0.0  ...  NaN  NaN  NaN  NaN  NaN  22.0\n",
              "4747  4747  19.9  987.6  0.9  0.8  0.0  ...  NaN  NaN  NaN  NaN  NaN  21.5\n",
              "4748  4748  19.9  987.6  0.5  0.7  0.0  ...  NaN  NaN  NaN  NaN  NaN  21.5\n",
              "4749  4749  19.7  987.7  0.9  0.6  0.0  ...  NaN  NaN  NaN  NaN  NaN  21.5\n",
              "4750  4750  19.4  987.7  0.9  0.8  0.0  ...  NaN  NaN  NaN  NaN  NaN  21.5\n",
              "4751  4751  19.1  987.6  1.0  0.3  0.0  ...  NaN  NaN  NaN  NaN  NaN  21.0\n",
              "\n",
              "[10 rows x 60 columns]"
            ]
          },
          "metadata": {
            "tags": []
          },
          "execution_count": 34
        }
      ]
    },
    {
      "cell_type": "markdown",
      "metadata": {
        "id": "Bc_W6SIVU66K",
        "colab_type": "text"
      },
      "source": [
        "## id\n",
        "\n",
        "\n",
        "\n",
        "```\n",
        "temp = 'X13, X15, X17, X25, X35'\n",
        "for i in temp.split(', '):\n",
        "    print(\"'{}',\".format(i), end=' ')\n",
        "```\n",
        "\n"
      ]
    },
    {
      "cell_type": "code",
      "metadata": {
        "id": "jj-Uwv1KQD8T",
        "colab_type": "code",
        "colab": {
          "base_uri": "https://localhost:8080/",
          "height": 121
        },
        "outputId": "e67eed55-efa2-4342-f609-9b39995afa25"
      },
      "source": [
        "pd.DataFrame(df['id']).info()"
      ],
      "execution_count": 35,
      "outputs": [
        {
          "output_type": "stream",
          "text": [
            "<class 'pandas.core.frame.DataFrame'>\n",
            "RangeIndex: 4752 entries, 0 to 4751\n",
            "Data columns (total 1 columns):\n",
            "id    4752 non-null int64\n",
            "dtypes: int64(1)\n",
            "memory usage: 37.2 KB\n"
          ],
          "name": "stdout"
        }
      ]
    },
    {
      "cell_type": "markdown",
      "metadata": {
        "id": "BoVcePUUenSg",
        "colab_type": "text"
      },
      "source": [
        "## x"
      ]
    },
    {
      "cell_type": "markdown",
      "metadata": {
        "id": "HK-xZpb6eroq",
        "colab_type": "text"
      },
      "source": [
        "* feat_temp: 기온 \n",
        "* feat_air_press: 현지기압\n",
        "* feat_wind_speed: 풍속\n",
        "* feat_rainfall: 일일 누적강수량 \n",
        "* feat_sea_press: 해면기압\n",
        "* feat_insol: 일일 누적일사량\n",
        "* feat_humid: 습도\n",
        "* feat_dir_wind: 풍향\n",
        "\n"
      ]
    },
    {
      "cell_type": "code",
      "metadata": {
        "id": "JEdugNkuQEHm",
        "colab_type": "code",
        "colab": {}
      },
      "source": [
        "#feat_x = [feat_temp, feat_air_press, feat_wind_speed, feat_rainfall, feat_sea_press, feat_insol, feat_humid, feat_dir_wind]\n",
        "feat_x = ['X00', 'X01', 'X02', 'X03', 'X04', 'X05', 'X06', 'X07', 'X08', 'X09', \n",
        "          'X10', 'X11', 'X12', 'X13', 'X14', 'X15', 'X16', 'X17', 'X18', 'X19', \n",
        "          'X20', 'X21', 'X22', 'X23', 'X24', 'X25', 'X26', 'X27', 'X28', 'X29', \n",
        "          'X30', 'X31', 'X32', 'X33', 'X34', 'X35', 'X36', 'X37', 'X38', 'X39']\n",
        "feat_temp = ['X00', 'X07', 'X28', 'X31', 'X32']\n",
        "feat_air_press = ['X01', 'X06', 'X22', 'X27', 'X29']\n",
        "feat_wind_speed = ['X02', 'X03', 'X18', 'X24', 'X26']\n",
        "feat_rainfall = ['X04', 'X10', 'X21', 'X36', 'X39']\n",
        "feat_sea_press = ['X05', 'X08', 'X09', 'X23', 'X33']\n",
        "feat_insol = ['X11', 'X14', 'X16', 'X19', 'X34']\n",
        "feat_humid = ['X12', 'X20', 'X30', 'X37', 'X38']\n",
        "feat_dir_wind = ['X13', 'X15', 'X17', 'X25', 'X35']"
      ],
      "execution_count": 0,
      "outputs": []
    },
    {
      "cell_type": "code",
      "metadata": {
        "id": "lvYlhcYLQELJ",
        "colab_type": "code",
        "colab": {
          "base_uri": "https://localhost:8080/",
          "height": 132
        },
        "outputId": "65cfbc0d-8e90-4196-d093-cb71046c62f4"
      },
      "source": [
        "df[feat_x].head(2)"
      ],
      "execution_count": 74,
      "outputs": [
        {
          "output_type": "execute_result",
          "data": {
            "text/html": [
              "<div>\n",
              "<style scoped>\n",
              "    .dataframe tbody tr th:only-of-type {\n",
              "        vertical-align: middle;\n",
              "    }\n",
              "\n",
              "    .dataframe tbody tr th {\n",
              "        vertical-align: top;\n",
              "    }\n",
              "\n",
              "    .dataframe thead th {\n",
              "        text-align: right;\n",
              "    }\n",
              "</style>\n",
              "<table border=\"1\" class=\"dataframe\">\n",
              "  <thead>\n",
              "    <tr style=\"text-align: right;\">\n",
              "      <th></th>\n",
              "      <th>X00</th>\n",
              "      <th>X01</th>\n",
              "      <th>X02</th>\n",
              "      <th>X03</th>\n",
              "      <th>X04</th>\n",
              "      <th>X05</th>\n",
              "      <th>X06</th>\n",
              "      <th>X07</th>\n",
              "      <th>X08</th>\n",
              "      <th>X09</th>\n",
              "      <th>X10</th>\n",
              "      <th>X11</th>\n",
              "      <th>X12</th>\n",
              "      <th>X13</th>\n",
              "      <th>X14</th>\n",
              "      <th>X15</th>\n",
              "      <th>X16</th>\n",
              "      <th>X17</th>\n",
              "      <th>X18</th>\n",
              "      <th>X19</th>\n",
              "      <th>X20</th>\n",
              "      <th>X21</th>\n",
              "      <th>X22</th>\n",
              "      <th>X23</th>\n",
              "      <th>X24</th>\n",
              "      <th>X25</th>\n",
              "      <th>X26</th>\n",
              "      <th>X27</th>\n",
              "      <th>X28</th>\n",
              "      <th>X29</th>\n",
              "      <th>X30</th>\n",
              "      <th>X31</th>\n",
              "      <th>X32</th>\n",
              "      <th>X33</th>\n",
              "      <th>X34</th>\n",
              "      <th>X35</th>\n",
              "      <th>X36</th>\n",
              "      <th>X37</th>\n",
              "      <th>X38</th>\n",
              "      <th>X39</th>\n",
              "    </tr>\n",
              "  </thead>\n",
              "  <tbody>\n",
              "    <tr>\n",
              "      <th>0</th>\n",
              "      <td>9.7</td>\n",
              "      <td>988.8</td>\n",
              "      <td>1.2</td>\n",
              "      <td>0.6</td>\n",
              "      <td>0.0</td>\n",
              "      <td>1009.3</td>\n",
              "      <td>989.6</td>\n",
              "      <td>12.2</td>\n",
              "      <td>1009.9</td>\n",
              "      <td>1009.8</td>\n",
              "      <td>0.0</td>\n",
              "      <td>0.0</td>\n",
              "      <td>82.4</td>\n",
              "      <td>71.3</td>\n",
              "      <td>0.0</td>\n",
              "      <td>101.1</td>\n",
              "      <td>0.0</td>\n",
              "      <td>56.1</td>\n",
              "      <td>0.3</td>\n",
              "      <td>0.0</td>\n",
              "      <td>91.0</td>\n",
              "      <td>0.0</td>\n",
              "      <td>1002.5</td>\n",
              "      <td>1009.8</td>\n",
              "      <td>1.1</td>\n",
              "      <td>2.3</td>\n",
              "      <td>0.5</td>\n",
              "      <td>1008.7</td>\n",
              "      <td>12.3</td>\n",
              "      <td>1001.6</td>\n",
              "      <td>69.1</td>\n",
              "      <td>8.2</td>\n",
              "      <td>10.7</td>\n",
              "      <td>1010.1</td>\n",
              "      <td>0.0</td>\n",
              "      <td>256.4</td>\n",
              "      <td>0.0</td>\n",
              "      <td>77.2</td>\n",
              "      <td>62.6</td>\n",
              "      <td>0.0</td>\n",
              "    </tr>\n",
              "    <tr>\n",
              "      <th>1</th>\n",
              "      <td>9.3</td>\n",
              "      <td>988.9</td>\n",
              "      <td>1.7</td>\n",
              "      <td>1.9</td>\n",
              "      <td>0.0</td>\n",
              "      <td>1009.3</td>\n",
              "      <td>989.6</td>\n",
              "      <td>12.1</td>\n",
              "      <td>1010.0</td>\n",
              "      <td>1009.9</td>\n",
              "      <td>0.0</td>\n",
              "      <td>0.0</td>\n",
              "      <td>81.2</td>\n",
              "      <td>121.8</td>\n",
              "      <td>0.0</td>\n",
              "      <td>165.3</td>\n",
              "      <td>0.0</td>\n",
              "      <td>0.0</td>\n",
              "      <td>0.4</td>\n",
              "      <td>0.0</td>\n",
              "      <td>91.9</td>\n",
              "      <td>0.0</td>\n",
              "      <td>1002.5</td>\n",
              "      <td>1009.9</td>\n",
              "      <td>0.0</td>\n",
              "      <td>0.0</td>\n",
              "      <td>0.0</td>\n",
              "      <td>1008.7</td>\n",
              "      <td>12.1</td>\n",
              "      <td>1001.7</td>\n",
              "      <td>70.3</td>\n",
              "      <td>8.3</td>\n",
              "      <td>10.3</td>\n",
              "      <td>1010.1</td>\n",
              "      <td>0.0</td>\n",
              "      <td>215.4</td>\n",
              "      <td>0.0</td>\n",
              "      <td>77.3</td>\n",
              "      <td>63.5</td>\n",
              "      <td>0.0</td>\n",
              "    </tr>\n",
              "  </tbody>\n",
              "</table>\n",
              "</div>"
            ],
            "text/plain": [
              "   X00    X01  X02  X03  X04     X05  ...  X34    X35  X36   X37   X38  X39\n",
              "0  9.7  988.8  1.2  0.6  0.0  1009.3  ...  0.0  256.4  0.0  77.2  62.6  0.0\n",
              "1  9.3  988.9  1.7  1.9  0.0  1009.3  ...  0.0  215.4  0.0  77.3  63.5  0.0\n",
              "\n",
              "[2 rows x 40 columns]"
            ]
          },
          "metadata": {
            "tags": []
          },
          "execution_count": 74
        }
      ]
    },
    {
      "cell_type": "markdown",
      "metadata": {
        "id": "YlEwV5WMgIjN",
        "colab_type": "text"
      },
      "source": [
        "### 기온"
      ]
    },
    {
      "cell_type": "code",
      "metadata": {
        "id": "IucXGifWrbCb",
        "colab_type": "code",
        "colab": {
          "base_uri": "https://localhost:8080/",
          "height": 300
        },
        "outputId": "450cbdbd-9398-4743-99c7-34bdd09e3bbd"
      },
      "source": [
        "df[feat_temp].describe()"
      ],
      "execution_count": 107,
      "outputs": [
        {
          "output_type": "execute_result",
          "data": {
            "text/html": [
              "<div>\n",
              "<style scoped>\n",
              "    .dataframe tbody tr th:only-of-type {\n",
              "        vertical-align: middle;\n",
              "    }\n",
              "\n",
              "    .dataframe tbody tr th {\n",
              "        vertical-align: top;\n",
              "    }\n",
              "\n",
              "    .dataframe thead th {\n",
              "        text-align: right;\n",
              "    }\n",
              "</style>\n",
              "<table border=\"1\" class=\"dataframe\">\n",
              "  <thead>\n",
              "    <tr style=\"text-align: right;\">\n",
              "      <th></th>\n",
              "      <th>X00</th>\n",
              "      <th>X07</th>\n",
              "      <th>X28</th>\n",
              "      <th>X31</th>\n",
              "      <th>X32</th>\n",
              "    </tr>\n",
              "  </thead>\n",
              "  <tbody>\n",
              "    <tr>\n",
              "      <th>count</th>\n",
              "      <td>4752.000000</td>\n",
              "      <td>4752.000000</td>\n",
              "      <td>4752.000000</td>\n",
              "      <td>4752.000000</td>\n",
              "      <td>4752.000000</td>\n",
              "    </tr>\n",
              "    <tr>\n",
              "      <th>mean</th>\n",
              "      <td>20.227904</td>\n",
              "      <td>21.658081</td>\n",
              "      <td>22.079040</td>\n",
              "      <td>19.846528</td>\n",
              "      <td>20.012984</td>\n",
              "    </tr>\n",
              "    <tr>\n",
              "      <th>std</th>\n",
              "      <td>4.707570</td>\n",
              "      <td>4.377216</td>\n",
              "      <td>4.225203</td>\n",
              "      <td>5.520259</td>\n",
              "      <td>5.271630</td>\n",
              "    </tr>\n",
              "    <tr>\n",
              "      <th>min</th>\n",
              "      <td>8.300000</td>\n",
              "      <td>11.600000</td>\n",
              "      <td>10.300000</td>\n",
              "      <td>5.300000</td>\n",
              "      <td>5.500000</td>\n",
              "    </tr>\n",
              "    <tr>\n",
              "      <th>25%</th>\n",
              "      <td>16.900000</td>\n",
              "      <td>18.400000</td>\n",
              "      <td>19.000000</td>\n",
              "      <td>16.000000</td>\n",
              "      <td>16.300000</td>\n",
              "    </tr>\n",
              "    <tr>\n",
              "      <th>50%</th>\n",
              "      <td>19.900000</td>\n",
              "      <td>21.200000</td>\n",
              "      <td>21.700000</td>\n",
              "      <td>19.400000</td>\n",
              "      <td>19.600000</td>\n",
              "    </tr>\n",
              "    <tr>\n",
              "      <th>75%</th>\n",
              "      <td>24.100000</td>\n",
              "      <td>24.825000</td>\n",
              "      <td>25.200000</td>\n",
              "      <td>24.100000</td>\n",
              "      <td>24.100000</td>\n",
              "    </tr>\n",
              "    <tr>\n",
              "      <th>max</th>\n",
              "      <td>30.900000</td>\n",
              "      <td>32.700000</td>\n",
              "      <td>33.200000</td>\n",
              "      <td>33.100000</td>\n",
              "      <td>32.900000</td>\n",
              "    </tr>\n",
              "  </tbody>\n",
              "</table>\n",
              "</div>"
            ],
            "text/plain": [
              "               X00          X07          X28          X31          X32\n",
              "count  4752.000000  4752.000000  4752.000000  4752.000000  4752.000000\n",
              "mean     20.227904    21.658081    22.079040    19.846528    20.012984\n",
              "std       4.707570     4.377216     4.225203     5.520259     5.271630\n",
              "min       8.300000    11.600000    10.300000     5.300000     5.500000\n",
              "25%      16.900000    18.400000    19.000000    16.000000    16.300000\n",
              "50%      19.900000    21.200000    21.700000    19.400000    19.600000\n",
              "75%      24.100000    24.825000    25.200000    24.100000    24.100000\n",
              "max      30.900000    32.700000    33.200000    33.100000    32.900000"
            ]
          },
          "metadata": {
            "tags": []
          },
          "execution_count": 107
        }
      ]
    },
    {
      "cell_type": "code",
      "metadata": {
        "id": "xNDkZv8tQEOB",
        "colab_type": "code",
        "colab": {
          "base_uri": "https://localhost:8080/",
          "height": 206
        },
        "outputId": "667e1fd6-3764-4362-f24e-8a8f379e4a25"
      },
      "source": [
        "df[feat_temp].corr()"
      ],
      "execution_count": 73,
      "outputs": [
        {
          "output_type": "execute_result",
          "data": {
            "text/html": [
              "<div>\n",
              "<style scoped>\n",
              "    .dataframe tbody tr th:only-of-type {\n",
              "        vertical-align: middle;\n",
              "    }\n",
              "\n",
              "    .dataframe tbody tr th {\n",
              "        vertical-align: top;\n",
              "    }\n",
              "\n",
              "    .dataframe thead th {\n",
              "        text-align: right;\n",
              "    }\n",
              "</style>\n",
              "<table border=\"1\" class=\"dataframe\">\n",
              "  <thead>\n",
              "    <tr style=\"text-align: right;\">\n",
              "      <th></th>\n",
              "      <th>X00</th>\n",
              "      <th>X07</th>\n",
              "      <th>X28</th>\n",
              "      <th>X31</th>\n",
              "      <th>X32</th>\n",
              "    </tr>\n",
              "  </thead>\n",
              "  <tbody>\n",
              "    <tr>\n",
              "      <th>X00</th>\n",
              "      <td>1.000000</td>\n",
              "      <td>0.957922</td>\n",
              "      <td>0.941699</td>\n",
              "      <td>0.961053</td>\n",
              "      <td>0.963055</td>\n",
              "    </tr>\n",
              "    <tr>\n",
              "      <th>X07</th>\n",
              "      <td>0.957922</td>\n",
              "      <td>1.000000</td>\n",
              "      <td>0.981081</td>\n",
              "      <td>0.954865</td>\n",
              "      <td>0.962826</td>\n",
              "    </tr>\n",
              "    <tr>\n",
              "      <th>X28</th>\n",
              "      <td>0.941699</td>\n",
              "      <td>0.981081</td>\n",
              "      <td>1.000000</td>\n",
              "      <td>0.935156</td>\n",
              "      <td>0.938572</td>\n",
              "    </tr>\n",
              "    <tr>\n",
              "      <th>X31</th>\n",
              "      <td>0.961053</td>\n",
              "      <td>0.954865</td>\n",
              "      <td>0.935156</td>\n",
              "      <td>1.000000</td>\n",
              "      <td>0.979312</td>\n",
              "    </tr>\n",
              "    <tr>\n",
              "      <th>X32</th>\n",
              "      <td>0.963055</td>\n",
              "      <td>0.962826</td>\n",
              "      <td>0.938572</td>\n",
              "      <td>0.979312</td>\n",
              "      <td>1.000000</td>\n",
              "    </tr>\n",
              "  </tbody>\n",
              "</table>\n",
              "</div>"
            ],
            "text/plain": [
              "          X00       X07       X28       X31       X32\n",
              "X00  1.000000  0.957922  0.941699  0.961053  0.963055\n",
              "X07  0.957922  1.000000  0.981081  0.954865  0.962826\n",
              "X28  0.941699  0.981081  1.000000  0.935156  0.938572\n",
              "X31  0.961053  0.954865  0.935156  1.000000  0.979312\n",
              "X32  0.963055  0.962826  0.938572  0.979312  1.000000"
            ]
          },
          "metadata": {
            "tags": []
          },
          "execution_count": 73
        }
      ]
    },
    {
      "cell_type": "code",
      "metadata": {
        "id": "r3IGdA_SeG52",
        "colab_type": "code",
        "colab": {
          "base_uri": "https://localhost:8080/",
          "height": 286
        },
        "outputId": "794de2d4-2f7b-4161-9f27-f71b7c195472"
      },
      "source": [
        "sns.heatmap(df[feat_temp].corr(), cmap='coolwarm')"
      ],
      "execution_count": 77,
      "outputs": [
        {
          "output_type": "execute_result",
          "data": {
            "text/plain": [
              "<matplotlib.axes._subplots.AxesSubplot at 0x7f1fcaa503c8>"
            ]
          },
          "metadata": {
            "tags": []
          },
          "execution_count": 77
        },
        {
          "output_type": "display_data",
          "data": {
            "image/png": "[encoded data removed]",
            "text/plain": [
              "<Figure size 432x288 with 2 Axes>"
            ]
          },
          "metadata": {
            "tags": []
          }
        }
      ]
    },
    {
      "cell_type": "code",
      "metadata": {
        "id": "cLicmmMckuwU",
        "colab_type": "code",
        "colab": {}
      },
      "source": [
        ""
      ],
      "execution_count": 0,
      "outputs": []
    },
    {
      "cell_type": "markdown",
      "metadata": {
        "id": "lf3EVOjBkwEh",
        "colab_type": "text"
      },
      "source": [
        "### 현지기압"
      ]
    },
    {
      "cell_type": "code",
      "metadata": {
        "id": "t2obfjqCsPua",
        "colab_type": "code",
        "colab": {
          "base_uri": "https://localhost:8080/",
          "height": 300
        },
        "outputId": "e2b206e7-91d8-46a2-a9b7-d4b11a04ee93"
      },
      "source": [
        "df[feat_air_press].describe()"
      ],
      "execution_count": 108,
      "outputs": [
        {
          "output_type": "execute_result",
          "data": {
            "text/html": [
              "<div>\n",
              "<style scoped>\n",
              "    .dataframe tbody tr th:only-of-type {\n",
              "        vertical-align: middle;\n",
              "    }\n",
              "\n",
              "    .dataframe tbody tr th {\n",
              "        vertical-align: top;\n",
              "    }\n",
              "\n",
              "    .dataframe thead th {\n",
              "        text-align: right;\n",
              "    }\n",
              "</style>\n",
              "<table border=\"1\" class=\"dataframe\">\n",
              "  <thead>\n",
              "    <tr style=\"text-align: right;\">\n",
              "      <th></th>\n",
              "      <th>X01</th>\n",
              "      <th>X06</th>\n",
              "      <th>X22</th>\n",
              "      <th>X27</th>\n",
              "      <th>X29</th>\n",
              "    </tr>\n",
              "  </thead>\n",
              "  <tbody>\n",
              "    <tr>\n",
              "      <th>count</th>\n",
              "      <td>4752.000000</td>\n",
              "      <td>4752.000000</td>\n",
              "      <td>4752.000000</td>\n",
              "      <td>4752.000000</td>\n",
              "      <td>4752.000000</td>\n",
              "    </tr>\n",
              "    <tr>\n",
              "      <th>mean</th>\n",
              "      <td>988.621107</td>\n",
              "      <td>989.005093</td>\n",
              "      <td>1001.773190</td>\n",
              "      <td>1007.554924</td>\n",
              "      <td>1000.811932</td>\n",
              "    </tr>\n",
              "    <tr>\n",
              "      <th>std</th>\n",
              "      <td>3.359916</td>\n",
              "      <td>3.403714</td>\n",
              "      <td>3.367735</td>\n",
              "      <td>3.446475</td>\n",
              "      <td>3.390206</td>\n",
              "    </tr>\n",
              "    <tr>\n",
              "      <th>min</th>\n",
              "      <td>977.300000</td>\n",
              "      <td>978.100000</td>\n",
              "      <td>990.800000</td>\n",
              "      <td>997.200000</td>\n",
              "      <td>989.700000</td>\n",
              "    </tr>\n",
              "    <tr>\n",
              "      <th>25%</th>\n",
              "      <td>986.800000</td>\n",
              "      <td>987.100000</td>\n",
              "      <td>999.900000</td>\n",
              "      <td>1005.500000</td>\n",
              "      <td>998.900000</td>\n",
              "    </tr>\n",
              "    <tr>\n",
              "      <th>50%</th>\n",
              "      <td>988.600000</td>\n",
              "      <td>989.100000</td>\n",
              "      <td>1001.900000</td>\n",
              "      <td>1007.700000</td>\n",
              "      <td>1000.900000</td>\n",
              "    </tr>\n",
              "    <tr>\n",
              "      <th>75%</th>\n",
              "      <td>991.000000</td>\n",
              "      <td>991.600000</td>\n",
              "      <td>1004.200000</td>\n",
              "      <td>1010.200000</td>\n",
              "      <td>1003.400000</td>\n",
              "    </tr>\n",
              "    <tr>\n",
              "      <th>max</th>\n",
              "      <td>997.200000</td>\n",
              "      <td>997.400000</td>\n",
              "      <td>1010.100000</td>\n",
              "      <td>1015.400000</td>\n",
              "      <td>1009.000000</td>\n",
              "    </tr>\n",
              "  </tbody>\n",
              "</table>\n",
              "</div>"
            ],
            "text/plain": [
              "               X01          X06          X22          X27          X29\n",
              "count  4752.000000  4752.000000  4752.000000  4752.000000  4752.000000\n",
              "mean    988.621107   989.005093  1001.773190  1007.554924  1000.811932\n",
              "std       3.359916     3.403714     3.367735     3.446475     3.390206\n",
              "min     977.300000   978.100000   990.800000   997.200000   989.700000\n",
              "25%     986.800000   987.100000   999.900000  1005.500000   998.900000\n",
              "50%     988.600000   989.100000  1001.900000  1007.700000  1000.900000\n",
              "75%     991.000000   991.600000  1004.200000  1010.200000  1003.400000\n",
              "max     997.200000   997.400000  1010.100000  1015.400000  1009.000000"
            ]
          },
          "metadata": {
            "tags": []
          },
          "execution_count": 108
        }
      ]
    },
    {
      "cell_type": "code",
      "metadata": {
        "id": "krk3xUmrkuzy",
        "colab_type": "code",
        "colab": {
          "base_uri": "https://localhost:8080/",
          "height": 206
        },
        "outputId": "a3b4057d-edef-4047-b72b-76f0e8843ae2"
      },
      "source": [
        "df[feat_air_press].corr()"
      ],
      "execution_count": 78,
      "outputs": [
        {
          "output_type": "execute_result",
          "data": {
            "text/html": [
              "<div>\n",
              "<style scoped>\n",
              "    .dataframe tbody tr th:only-of-type {\n",
              "        vertical-align: middle;\n",
              "    }\n",
              "\n",
              "    .dataframe tbody tr th {\n",
              "        vertical-align: top;\n",
              "    }\n",
              "\n",
              "    .dataframe thead th {\n",
              "        text-align: right;\n",
              "    }\n",
              "</style>\n",
              "<table border=\"1\" class=\"dataframe\">\n",
              "  <thead>\n",
              "    <tr style=\"text-align: right;\">\n",
              "      <th></th>\n",
              "      <th>X01</th>\n",
              "      <th>X06</th>\n",
              "      <th>X22</th>\n",
              "      <th>X27</th>\n",
              "      <th>X29</th>\n",
              "    </tr>\n",
              "  </thead>\n",
              "  <tbody>\n",
              "    <tr>\n",
              "      <th>X01</th>\n",
              "      <td>1.000000</td>\n",
              "      <td>0.995284</td>\n",
              "      <td>0.996746</td>\n",
              "      <td>0.987752</td>\n",
              "      <td>0.996157</td>\n",
              "    </tr>\n",
              "    <tr>\n",
              "      <th>X06</th>\n",
              "      <td>0.995284</td>\n",
              "      <td>1.000000</td>\n",
              "      <td>0.994807</td>\n",
              "      <td>0.995303</td>\n",
              "      <td>0.997819</td>\n",
              "    </tr>\n",
              "    <tr>\n",
              "      <th>X22</th>\n",
              "      <td>0.996746</td>\n",
              "      <td>0.994807</td>\n",
              "      <td>1.000000</td>\n",
              "      <td>0.991352</td>\n",
              "      <td>0.997923</td>\n",
              "    </tr>\n",
              "    <tr>\n",
              "      <th>X27</th>\n",
              "      <td>0.987752</td>\n",
              "      <td>0.995303</td>\n",
              "      <td>0.991352</td>\n",
              "      <td>1.000000</td>\n",
              "      <td>0.995237</td>\n",
              "    </tr>\n",
              "    <tr>\n",
              "      <th>X29</th>\n",
              "      <td>0.996157</td>\n",
              "      <td>0.997819</td>\n",
              "      <td>0.997923</td>\n",
              "      <td>0.995237</td>\n",
              "      <td>1.000000</td>\n",
              "    </tr>\n",
              "  </tbody>\n",
              "</table>\n",
              "</div>"
            ],
            "text/plain": [
              "          X01       X06       X22       X27       X29\n",
              "X01  1.000000  0.995284  0.996746  0.987752  0.996157\n",
              "X06  0.995284  1.000000  0.994807  0.995303  0.997819\n",
              "X22  0.996746  0.994807  1.000000  0.991352  0.997923\n",
              "X27  0.987752  0.995303  0.991352  1.000000  0.995237\n",
              "X29  0.996157  0.997819  0.997923  0.995237  1.000000"
            ]
          },
          "metadata": {
            "tags": []
          },
          "execution_count": 78
        }
      ]
    },
    {
      "cell_type": "code",
      "metadata": {
        "id": "6Ih0L2Ldku3H",
        "colab_type": "code",
        "colab": {
          "base_uri": "https://localhost:8080/",
          "height": 286
        },
        "outputId": "5b64bdcd-877c-4e21-bd2c-17cbb0428bdc"
      },
      "source": [
        "sns.heatmap(df[feat_air_press].corr(), cmap='coolwarm')"
      ],
      "execution_count": 79,
      "outputs": [
        {
          "output_type": "execute_result",
          "data": {
            "text/plain": [
              "<matplotlib.axes._subplots.AxesSubplot at 0x7f1fca97c9b0>"
            ]
          },
          "metadata": {
            "tags": []
          },
          "execution_count": 79
        },
        {
          "output_type": "display_data",
          "data": {
            "image/png": "[encoded data removed]",
            "text/plain": [
              "<Figure size 432x288 with 2 Axes>"
            ]
          },
          "metadata": {
            "tags": []
          }
        }
      ]
    },
    {
      "cell_type": "code",
      "metadata": {
        "id": "haJi2SxDku6c",
        "colab_type": "code",
        "colab": {}
      },
      "source": [
        ""
      ],
      "execution_count": 0,
      "outputs": []
    },
    {
      "cell_type": "markdown",
      "metadata": {
        "id": "EvdejSHelJgK",
        "colab_type": "text"
      },
      "source": [
        "### 풍속"
      ]
    },
    {
      "cell_type": "code",
      "metadata": {
        "id": "ASKxsRr8smX9",
        "colab_type": "code",
        "colab": {
          "base_uri": "https://localhost:8080/",
          "height": 300
        },
        "outputId": "c4fb4def-8d4e-4ba1-e892-b4fc9ae68595"
      },
      "source": [
        "df[feat_wind_speed].describe()"
      ],
      "execution_count": 111,
      "outputs": [
        {
          "output_type": "execute_result",
          "data": {
            "text/html": [
              "<div>\n",
              "<style scoped>\n",
              "    .dataframe tbody tr th:only-of-type {\n",
              "        vertical-align: middle;\n",
              "    }\n",
              "\n",
              "    .dataframe tbody tr th {\n",
              "        vertical-align: top;\n",
              "    }\n",
              "\n",
              "    .dataframe thead th {\n",
              "        text-align: right;\n",
              "    }\n",
              "</style>\n",
              "<table border=\"1\" class=\"dataframe\">\n",
              "  <thead>\n",
              "    <tr style=\"text-align: right;\">\n",
              "      <th></th>\n",
              "      <th>X02</th>\n",
              "      <th>X03</th>\n",
              "      <th>X18</th>\n",
              "      <th>X24</th>\n",
              "      <th>X26</th>\n",
              "    </tr>\n",
              "  </thead>\n",
              "  <tbody>\n",
              "    <tr>\n",
              "      <th>count</th>\n",
              "      <td>4752.000000</td>\n",
              "      <td>4752.000000</td>\n",
              "      <td>4752.000000</td>\n",
              "      <td>4752.000000</td>\n",
              "      <td>4752.000000</td>\n",
              "    </tr>\n",
              "    <tr>\n",
              "      <th>mean</th>\n",
              "      <td>1.509764</td>\n",
              "      <td>1.453157</td>\n",
              "      <td>1.377462</td>\n",
              "      <td>0.985059</td>\n",
              "      <td>1.369886</td>\n",
              "    </tr>\n",
              "    <tr>\n",
              "      <th>std</th>\n",
              "      <td>1.071858</td>\n",
              "      <td>0.936151</td>\n",
              "      <td>1.155024</td>\n",
              "      <td>1.091314</td>\n",
              "      <td>1.240900</td>\n",
              "    </tr>\n",
              "    <tr>\n",
              "      <th>min</th>\n",
              "      <td>0.000000</td>\n",
              "      <td>0.000000</td>\n",
              "      <td>0.000000</td>\n",
              "      <td>0.000000</td>\n",
              "      <td>0.000000</td>\n",
              "    </tr>\n",
              "    <tr>\n",
              "      <th>25%</th>\n",
              "      <td>0.700000</td>\n",
              "      <td>0.800000</td>\n",
              "      <td>0.500000</td>\n",
              "      <td>0.000000</td>\n",
              "      <td>0.300000</td>\n",
              "    </tr>\n",
              "    <tr>\n",
              "      <th>50%</th>\n",
              "      <td>1.300000</td>\n",
              "      <td>1.300000</td>\n",
              "      <td>1.000000</td>\n",
              "      <td>0.700000</td>\n",
              "      <td>1.100000</td>\n",
              "    </tr>\n",
              "    <tr>\n",
              "      <th>75%</th>\n",
              "      <td>2.100000</td>\n",
              "      <td>2.000000</td>\n",
              "      <td>2.100000</td>\n",
              "      <td>1.700000</td>\n",
              "      <td>2.100000</td>\n",
              "    </tr>\n",
              "    <tr>\n",
              "      <th>max</th>\n",
              "      <td>10.200000</td>\n",
              "      <td>5.800000</td>\n",
              "      <td>8.900000</td>\n",
              "      <td>6.000000</td>\n",
              "      <td>6.800000</td>\n",
              "    </tr>\n",
              "  </tbody>\n",
              "</table>\n",
              "</div>"
            ],
            "text/plain": [
              "               X02          X03          X18          X24          X26\n",
              "count  4752.000000  4752.000000  4752.000000  4752.000000  4752.000000\n",
              "mean      1.509764     1.453157     1.377462     0.985059     1.369886\n",
              "std       1.071858     0.936151     1.155024     1.091314     1.240900\n",
              "min       0.000000     0.000000     0.000000     0.000000     0.000000\n",
              "25%       0.700000     0.800000     0.500000     0.000000     0.300000\n",
              "50%       1.300000     1.300000     1.000000     0.700000     1.100000\n",
              "75%       2.100000     2.000000     2.100000     1.700000     2.100000\n",
              "max      10.200000     5.800000     8.900000     6.000000     6.800000"
            ]
          },
          "metadata": {
            "tags": []
          },
          "execution_count": 111
        }
      ]
    },
    {
      "cell_type": "code",
      "metadata": {
        "id": "U9tVoG9Uku9U",
        "colab_type": "code",
        "colab": {
          "base_uri": "https://localhost:8080/",
          "height": 206
        },
        "outputId": "151513a9-d8a0-421a-a1fc-9f43606f0814"
      },
      "source": [
        "df[feat_wind_speed].corr()"
      ],
      "execution_count": 110,
      "outputs": [
        {
          "output_type": "execute_result",
          "data": {
            "text/html": [
              "<div>\n",
              "<style scoped>\n",
              "    .dataframe tbody tr th:only-of-type {\n",
              "        vertical-align: middle;\n",
              "    }\n",
              "\n",
              "    .dataframe tbody tr th {\n",
              "        vertical-align: top;\n",
              "    }\n",
              "\n",
              "    .dataframe thead th {\n",
              "        text-align: right;\n",
              "    }\n",
              "</style>\n",
              "<table border=\"1\" class=\"dataframe\">\n",
              "  <thead>\n",
              "    <tr style=\"text-align: right;\">\n",
              "      <th></th>\n",
              "      <th>X02</th>\n",
              "      <th>X03</th>\n",
              "      <th>X18</th>\n",
              "      <th>X24</th>\n",
              "      <th>X26</th>\n",
              "    </tr>\n",
              "  </thead>\n",
              "  <tbody>\n",
              "    <tr>\n",
              "      <th>X02</th>\n",
              "      <td>1.000000</td>\n",
              "      <td>0.384300</td>\n",
              "      <td>0.357250</td>\n",
              "      <td>0.417393</td>\n",
              "      <td>0.400025</td>\n",
              "    </tr>\n",
              "    <tr>\n",
              "      <th>X03</th>\n",
              "      <td>0.384300</td>\n",
              "      <td>1.000000</td>\n",
              "      <td>0.481811</td>\n",
              "      <td>0.500993</td>\n",
              "      <td>0.537470</td>\n",
              "    </tr>\n",
              "    <tr>\n",
              "      <th>X18</th>\n",
              "      <td>0.357250</td>\n",
              "      <td>0.481811</td>\n",
              "      <td>1.000000</td>\n",
              "      <td>0.607754</td>\n",
              "      <td>0.623131</td>\n",
              "    </tr>\n",
              "    <tr>\n",
              "      <th>X24</th>\n",
              "      <td>0.417393</td>\n",
              "      <td>0.500993</td>\n",
              "      <td>0.607754</td>\n",
              "      <td>1.000000</td>\n",
              "      <td>0.634738</td>\n",
              "    </tr>\n",
              "    <tr>\n",
              "      <th>X26</th>\n",
              "      <td>0.400025</td>\n",
              "      <td>0.537470</td>\n",
              "      <td>0.623131</td>\n",
              "      <td>0.634738</td>\n",
              "      <td>1.000000</td>\n",
              "    </tr>\n",
              "  </tbody>\n",
              "</table>\n",
              "</div>"
            ],
            "text/plain": [
              "          X02       X03       X18       X24       X26\n",
              "X02  1.000000  0.384300  0.357250  0.417393  0.400025\n",
              "X03  0.384300  1.000000  0.481811  0.500993  0.537470\n",
              "X18  0.357250  0.481811  1.000000  0.607754  0.623131\n",
              "X24  0.417393  0.500993  0.607754  1.000000  0.634738\n",
              "X26  0.400025  0.537470  0.623131  0.634738  1.000000"
            ]
          },
          "metadata": {
            "tags": []
          },
          "execution_count": 110
        }
      ]
    },
    {
      "cell_type": "code",
      "metadata": {
        "id": "Aq8GCGKlkvAb",
        "colab_type": "code",
        "colab": {
          "base_uri": "https://localhost:8080/",
          "height": 286
        },
        "outputId": "e6860396-bab4-4c04-90ea-fbf587e12dc9"
      },
      "source": [
        "sns.heatmap(df[feat_wind_speed].corr(), cmap='coolwarm')"
      ],
      "execution_count": 81,
      "outputs": [
        {
          "output_type": "execute_result",
          "data": {
            "text/plain": [
              "<matplotlib.axes._subplots.AxesSubplot at 0x7f1fca898e10>"
            ]
          },
          "metadata": {
            "tags": []
          },
          "execution_count": 81
        },
        {
          "output_type": "display_data",
          "data": {
            "image/png": "[encoded data removed]",
            "text/plain": [
              "<Figure size 432x288 with 2 Axes>"
            ]
          },
          "metadata": {
            "tags": []
          }
        }
      ]
    },
    {
      "cell_type": "code",
      "metadata": {
        "id": "dj-Ee2CnkvD3",
        "colab_type": "code",
        "colab": {}
      },
      "source": [
        ""
      ],
      "execution_count": 0,
      "outputs": []
    },
    {
      "cell_type": "markdown",
      "metadata": {
        "id": "iB_77BgAlJkg",
        "colab_type": "text"
      },
      "source": [
        "### 일일 누적강수량"
      ]
    },
    {
      "cell_type": "code",
      "metadata": {
        "id": "WYtTtQV8stfK",
        "colab_type": "code",
        "colab": {
          "base_uri": "https://localhost:8080/",
          "height": 300
        },
        "outputId": "8ba52ef3-b790-4b6b-8bc0-d6526e74bbcc"
      },
      "source": [
        "df[feat_rainfall].describe()"
      ],
      "execution_count": 112,
      "outputs": [
        {
          "output_type": "execute_result",
          "data": {
            "text/html": [
              "<div>\n",
              "<style scoped>\n",
              "    .dataframe tbody tr th:only-of-type {\n",
              "        vertical-align: middle;\n",
              "    }\n",
              "\n",
              "    .dataframe tbody tr th {\n",
              "        vertical-align: top;\n",
              "    }\n",
              "\n",
              "    .dataframe thead th {\n",
              "        text-align: right;\n",
              "    }\n",
              "</style>\n",
              "<table border=\"1\" class=\"dataframe\">\n",
              "  <thead>\n",
              "    <tr style=\"text-align: right;\">\n",
              "      <th></th>\n",
              "      <th>X04</th>\n",
              "      <th>X10</th>\n",
              "      <th>X21</th>\n",
              "      <th>X36</th>\n",
              "      <th>X39</th>\n",
              "    </tr>\n",
              "  </thead>\n",
              "  <tbody>\n",
              "    <tr>\n",
              "      <th>count</th>\n",
              "      <td>4752.000000</td>\n",
              "      <td>4752.000000</td>\n",
              "      <td>4752.000000</td>\n",
              "      <td>4752.000000</td>\n",
              "      <td>4752.000000</td>\n",
              "    </tr>\n",
              "    <tr>\n",
              "      <th>mean</th>\n",
              "      <td>1.270223</td>\n",
              "      <td>1.006734</td>\n",
              "      <td>1.138363</td>\n",
              "      <td>1.533817</td>\n",
              "      <td>1.083123</td>\n",
              "    </tr>\n",
              "    <tr>\n",
              "      <th>std</th>\n",
              "      <td>4.429852</td>\n",
              "      <td>3.324415</td>\n",
              "      <td>4.079039</td>\n",
              "      <td>5.578607</td>\n",
              "      <td>4.617366</td>\n",
              "    </tr>\n",
              "    <tr>\n",
              "      <th>min</th>\n",
              "      <td>0.000000</td>\n",
              "      <td>0.000000</td>\n",
              "      <td>0.000000</td>\n",
              "      <td>0.000000</td>\n",
              "      <td>0.000000</td>\n",
              "    </tr>\n",
              "    <tr>\n",
              "      <th>25%</th>\n",
              "      <td>0.000000</td>\n",
              "      <td>0.000000</td>\n",
              "      <td>0.000000</td>\n",
              "      <td>0.000000</td>\n",
              "      <td>0.000000</td>\n",
              "    </tr>\n",
              "    <tr>\n",
              "      <th>50%</th>\n",
              "      <td>0.000000</td>\n",
              "      <td>0.000000</td>\n",
              "      <td>0.000000</td>\n",
              "      <td>0.000000</td>\n",
              "      <td>0.000000</td>\n",
              "    </tr>\n",
              "    <tr>\n",
              "      <th>75%</th>\n",
              "      <td>0.000000</td>\n",
              "      <td>0.000000</td>\n",
              "      <td>0.000000</td>\n",
              "      <td>0.000000</td>\n",
              "      <td>0.000000</td>\n",
              "    </tr>\n",
              "    <tr>\n",
              "      <th>max</th>\n",
              "      <td>25.600000</td>\n",
              "      <td>18.500000</td>\n",
              "      <td>21.000000</td>\n",
              "      <td>33.600000</td>\n",
              "      <td>28.000000</td>\n",
              "    </tr>\n",
              "  </tbody>\n",
              "</table>\n",
              "</div>"
            ],
            "text/plain": [
              "               X04          X10          X21          X36          X39\n",
              "count  4752.000000  4752.000000  4752.000000  4752.000000  4752.000000\n",
              "mean      1.270223     1.006734     1.138363     1.533817     1.083123\n",
              "std       4.429852     3.324415     4.079039     5.578607     4.617366\n",
              "min       0.000000     0.000000     0.000000     0.000000     0.000000\n",
              "25%       0.000000     0.000000     0.000000     0.000000     0.000000\n",
              "50%       0.000000     0.000000     0.000000     0.000000     0.000000\n",
              "75%       0.000000     0.000000     0.000000     0.000000     0.000000\n",
              "max      25.600000    18.500000    21.000000    33.600000    28.000000"
            ]
          },
          "metadata": {
            "tags": []
          },
          "execution_count": 112
        }
      ]
    },
    {
      "cell_type": "code",
      "metadata": {
        "id": "qR-X0HyVlLaA",
        "colab_type": "code",
        "colab": {
          "base_uri": "https://localhost:8080/",
          "height": 206
        },
        "outputId": "446538b9-34c0-423e-f18a-1527ad561599"
      },
      "source": [
        "df[feat_rainfall].corr()"
      ],
      "execution_count": 82,
      "outputs": [
        {
          "output_type": "execute_result",
          "data": {
            "text/html": [
              "<div>\n",
              "<style scoped>\n",
              "    .dataframe tbody tr th:only-of-type {\n",
              "        vertical-align: middle;\n",
              "    }\n",
              "\n",
              "    .dataframe tbody tr th {\n",
              "        vertical-align: top;\n",
              "    }\n",
              "\n",
              "    .dataframe thead th {\n",
              "        text-align: right;\n",
              "    }\n",
              "</style>\n",
              "<table border=\"1\" class=\"dataframe\">\n",
              "  <thead>\n",
              "    <tr style=\"text-align: right;\">\n",
              "      <th></th>\n",
              "      <th>X04</th>\n",
              "      <th>X10</th>\n",
              "      <th>X21</th>\n",
              "      <th>X36</th>\n",
              "      <th>X39</th>\n",
              "    </tr>\n",
              "  </thead>\n",
              "  <tbody>\n",
              "    <tr>\n",
              "      <th>X04</th>\n",
              "      <td>1.000000</td>\n",
              "      <td>0.815176</td>\n",
              "      <td>0.934104</td>\n",
              "      <td>0.986345</td>\n",
              "      <td>0.747254</td>\n",
              "    </tr>\n",
              "    <tr>\n",
              "      <th>X10</th>\n",
              "      <td>0.815176</td>\n",
              "      <td>1.000000</td>\n",
              "      <td>0.796809</td>\n",
              "      <td>0.740117</td>\n",
              "      <td>0.813190</td>\n",
              "    </tr>\n",
              "    <tr>\n",
              "      <th>X21</th>\n",
              "      <td>0.934104</td>\n",
              "      <td>0.796809</td>\n",
              "      <td>1.000000</td>\n",
              "      <td>0.904654</td>\n",
              "      <td>0.868231</td>\n",
              "    </tr>\n",
              "    <tr>\n",
              "      <th>X36</th>\n",
              "      <td>0.986345</td>\n",
              "      <td>0.740117</td>\n",
              "      <td>0.904654</td>\n",
              "      <td>1.000000</td>\n",
              "      <td>0.676623</td>\n",
              "    </tr>\n",
              "    <tr>\n",
              "      <th>X39</th>\n",
              "      <td>0.747254</td>\n",
              "      <td>0.813190</td>\n",
              "      <td>0.868231</td>\n",
              "      <td>0.676623</td>\n",
              "      <td>1.000000</td>\n",
              "    </tr>\n",
              "  </tbody>\n",
              "</table>\n",
              "</div>"
            ],
            "text/plain": [
              "          X04       X10       X21       X36       X39\n",
              "X04  1.000000  0.815176  0.934104  0.986345  0.747254\n",
              "X10  0.815176  1.000000  0.796809  0.740117  0.813190\n",
              "X21  0.934104  0.796809  1.000000  0.904654  0.868231\n",
              "X36  0.986345  0.740117  0.904654  1.000000  0.676623\n",
              "X39  0.747254  0.813190  0.868231  0.676623  1.000000"
            ]
          },
          "metadata": {
            "tags": []
          },
          "execution_count": 82
        }
      ]
    },
    {
      "cell_type": "code",
      "metadata": {
        "id": "ymZ1wcFalLdv",
        "colab_type": "code",
        "colab": {
          "base_uri": "https://localhost:8080/",
          "height": 286
        },
        "outputId": "566ef60c-3664-44b9-86e3-287f8469eb96"
      },
      "source": [
        "sns.heatmap(df[feat_rainfall].corr(), cmap='coolwarm')"
      ],
      "execution_count": 98,
      "outputs": [
        {
          "output_type": "execute_result",
          "data": {
            "text/plain": [
              "<matplotlib.axes._subplots.AxesSubplot at 0x7f1fca1e5c88>"
            ]
          },
          "metadata": {
            "tags": []
          },
          "execution_count": 98
        },
        {
          "output_type": "display_data",
          "data": {
            "image/png": "[encoded data removed]",
            "text/plain": [
              "<Figure size 432x288 with 2 Axes>"
            ]
          },
          "metadata": {
            "tags": []
          }
        }
      ]
    },
    {
      "cell_type": "code",
      "metadata": {
        "id": "3Bo7PBColLk_",
        "colab_type": "code",
        "colab": {}
      },
      "source": [
        ""
      ],
      "execution_count": 0,
      "outputs": []
    },
    {
      "cell_type": "markdown",
      "metadata": {
        "colab_type": "text",
        "id": "0fzb5Tmal9bO"
      },
      "source": [
        "### 해면기압"
      ]
    },
    {
      "cell_type": "code",
      "metadata": {
        "id": "PcWIwF3ys_xt",
        "colab_type": "code",
        "colab": {
          "base_uri": "https://localhost:8080/",
          "height": 300
        },
        "outputId": "3e32def4-38b3-41b1-b59c-a43b548e70b1"
      },
      "source": [
        "df[feat_sea_press].describe()"
      ],
      "execution_count": 113,
      "outputs": [
        {
          "output_type": "execute_result",
          "data": {
            "text/html": [
              "<div>\n",
              "<style scoped>\n",
              "    .dataframe tbody tr th:only-of-type {\n",
              "        vertical-align: middle;\n",
              "    }\n",
              "\n",
              "    .dataframe tbody tr th {\n",
              "        vertical-align: top;\n",
              "    }\n",
              "\n",
              "    .dataframe thead th {\n",
              "        text-align: right;\n",
              "    }\n",
              "</style>\n",
              "<table border=\"1\" class=\"dataframe\">\n",
              "  <thead>\n",
              "    <tr style=\"text-align: right;\">\n",
              "      <th></th>\n",
              "      <th>X05</th>\n",
              "      <th>X08</th>\n",
              "      <th>X09</th>\n",
              "      <th>X23</th>\n",
              "      <th>X33</th>\n",
              "    </tr>\n",
              "  </thead>\n",
              "  <tbody>\n",
              "    <tr>\n",
              "      <th>count</th>\n",
              "      <td>4752.000000</td>\n",
              "      <td>4752.000000</td>\n",
              "      <td>4752.000000</td>\n",
              "      <td>4752.000000</td>\n",
              "      <td>4752.000000</td>\n",
              "    </tr>\n",
              "    <tr>\n",
              "      <th>mean</th>\n",
              "      <td>1008.333902</td>\n",
              "      <td>1008.790341</td>\n",
              "      <td>1008.394171</td>\n",
              "      <td>1008.850989</td>\n",
              "      <td>1009.074747</td>\n",
              "    </tr>\n",
              "    <tr>\n",
              "      <th>std</th>\n",
              "      <td>3.395037</td>\n",
              "      <td>3.520317</td>\n",
              "      <td>3.546180</td>\n",
              "      <td>3.417633</td>\n",
              "      <td>3.440669</td>\n",
              "    </tr>\n",
              "    <tr>\n",
              "      <th>min</th>\n",
              "      <td>997.200000</td>\n",
              "      <td>997.300000</td>\n",
              "      <td>996.300000</td>\n",
              "      <td>997.500000</td>\n",
              "      <td>998.700000</td>\n",
              "    </tr>\n",
              "    <tr>\n",
              "      <th>25%</th>\n",
              "      <td>1006.500000</td>\n",
              "      <td>1006.700000</td>\n",
              "      <td>1006.300000</td>\n",
              "      <td>1006.900000</td>\n",
              "      <td>1007.075000</td>\n",
              "    </tr>\n",
              "    <tr>\n",
              "      <th>50%</th>\n",
              "      <td>1008.500000</td>\n",
              "      <td>1008.800000</td>\n",
              "      <td>1008.400000</td>\n",
              "      <td>1008.900000</td>\n",
              "      <td>1009.200000</td>\n",
              "    </tr>\n",
              "    <tr>\n",
              "      <th>75%</th>\n",
              "      <td>1010.800000</td>\n",
              "      <td>1011.400000</td>\n",
              "      <td>1010.900000</td>\n",
              "      <td>1011.400000</td>\n",
              "      <td>1011.700000</td>\n",
              "    </tr>\n",
              "    <tr>\n",
              "      <th>max</th>\n",
              "      <td>1016.800000</td>\n",
              "      <td>1017.500000</td>\n",
              "      <td>1018.000000</td>\n",
              "      <td>1017.100000</td>\n",
              "      <td>1016.800000</td>\n",
              "    </tr>\n",
              "  </tbody>\n",
              "</table>\n",
              "</div>"
            ],
            "text/plain": [
              "               X05          X08          X09          X23          X33\n",
              "count  4752.000000  4752.000000  4752.000000  4752.000000  4752.000000\n",
              "mean   1008.333902  1008.790341  1008.394171  1008.850989  1009.074747\n",
              "std       3.395037     3.520317     3.546180     3.417633     3.440669\n",
              "min     997.200000   997.300000   996.300000   997.500000   998.700000\n",
              "25%    1006.500000  1006.700000  1006.300000  1006.900000  1007.075000\n",
              "50%    1008.500000  1008.800000  1008.400000  1008.900000  1009.200000\n",
              "75%    1010.800000  1011.400000  1010.900000  1011.400000  1011.700000\n",
              "max    1016.800000  1017.500000  1018.000000  1017.100000  1016.800000"
            ]
          },
          "metadata": {
            "tags": []
          },
          "execution_count": 113
        }
      ]
    },
    {
      "cell_type": "code",
      "metadata": {
        "colab_type": "code",
        "id": "qOgbsagal9bp",
        "colab": {
          "base_uri": "https://localhost:8080/",
          "height": 206
        },
        "outputId": "cdac375a-2c48-4c2a-c68d-23d1e26d1d29"
      },
      "source": [
        "df[feat_sea_press].corr()"
      ],
      "execution_count": 84,
      "outputs": [
        {
          "output_type": "execute_result",
          "data": {
            "text/html": [
              "<div>\n",
              "<style scoped>\n",
              "    .dataframe tbody tr th:only-of-type {\n",
              "        vertical-align: middle;\n",
              "    }\n",
              "\n",
              "    .dataframe tbody tr th {\n",
              "        vertical-align: top;\n",
              "    }\n",
              "\n",
              "    .dataframe thead th {\n",
              "        text-align: right;\n",
              "    }\n",
              "</style>\n",
              "<table border=\"1\" class=\"dataframe\">\n",
              "  <thead>\n",
              "    <tr style=\"text-align: right;\">\n",
              "      <th></th>\n",
              "      <th>X05</th>\n",
              "      <th>X08</th>\n",
              "      <th>X09</th>\n",
              "      <th>X23</th>\n",
              "      <th>X33</th>\n",
              "    </tr>\n",
              "  </thead>\n",
              "  <tbody>\n",
              "    <tr>\n",
              "      <th>X05</th>\n",
              "      <td>1.000000</td>\n",
              "      <td>0.991330</td>\n",
              "      <td>0.989875</td>\n",
              "      <td>0.997819</td>\n",
              "      <td>0.990969</td>\n",
              "    </tr>\n",
              "    <tr>\n",
              "      <th>X08</th>\n",
              "      <td>0.991330</td>\n",
              "      <td>1.000000</td>\n",
              "      <td>0.991651</td>\n",
              "      <td>0.994129</td>\n",
              "      <td>0.988586</td>\n",
              "    </tr>\n",
              "    <tr>\n",
              "      <th>X09</th>\n",
              "      <td>0.989875</td>\n",
              "      <td>0.991651</td>\n",
              "      <td>1.000000</td>\n",
              "      <td>0.988561</td>\n",
              "      <td>0.977810</td>\n",
              "    </tr>\n",
              "    <tr>\n",
              "      <th>X23</th>\n",
              "      <td>0.997819</td>\n",
              "      <td>0.994129</td>\n",
              "      <td>0.988561</td>\n",
              "      <td>1.000000</td>\n",
              "      <td>0.994468</td>\n",
              "    </tr>\n",
              "    <tr>\n",
              "      <th>X33</th>\n",
              "      <td>0.990969</td>\n",
              "      <td>0.988586</td>\n",
              "      <td>0.977810</td>\n",
              "      <td>0.994468</td>\n",
              "      <td>1.000000</td>\n",
              "    </tr>\n",
              "  </tbody>\n",
              "</table>\n",
              "</div>"
            ],
            "text/plain": [
              "          X05       X08       X09       X23       X33\n",
              "X05  1.000000  0.991330  0.989875  0.997819  0.990969\n",
              "X08  0.991330  1.000000  0.991651  0.994129  0.988586\n",
              "X09  0.989875  0.991651  1.000000  0.988561  0.977810\n",
              "X23  0.997819  0.994129  0.988561  1.000000  0.994468\n",
              "X33  0.990969  0.988586  0.977810  0.994468  1.000000"
            ]
          },
          "metadata": {
            "tags": []
          },
          "execution_count": 84
        }
      ]
    },
    {
      "cell_type": "code",
      "metadata": {
        "colab_type": "code",
        "id": "kCBKpjBFl9cA",
        "colab": {
          "base_uri": "https://localhost:8080/",
          "height": 286
        },
        "outputId": "895e2954-bdfa-40b0-8364-e47693370905"
      },
      "source": [
        "sns.heatmap(df[feat_sea_press].corr(), cmap='coolwarm')"
      ],
      "execution_count": 85,
      "outputs": [
        {
          "output_type": "execute_result",
          "data": {
            "text/plain": [
              "<matplotlib.axes._subplots.AxesSubplot at 0x7f1fca7a77f0>"
            ]
          },
          "metadata": {
            "tags": []
          },
          "execution_count": 85
        },
        {
          "output_type": "display_data",
          "data": {
            "image/png": "[encoded data removed]",
            "text/plain": [
              "<Figure size 432x288 with 2 Axes>"
            ]
          },
          "metadata": {
            "tags": []
          }
        }
      ]
    },
    {
      "cell_type": "markdown",
      "metadata": {
        "id": "8aFJuvkrmJYe",
        "colab_type": "text"
      },
      "source": [
        "### 일일 누적일사량"
      ]
    },
    {
      "cell_type": "markdown",
      "metadata": {
        "id": "JKTi0h1kpN4O",
        "colab_type": "text"
      },
      "source": [
        "X14, 16, 19는 일사량이 전부 0이다.  \n",
        "일일 누적일사량을 사용하지 않는 것도 방법일 것이다. "
      ]
    },
    {
      "cell_type": "code",
      "metadata": {
        "id": "jys3mESmtFbM",
        "colab_type": "code",
        "colab": {
          "base_uri": "https://localhost:8080/",
          "height": 300
        },
        "outputId": "2fff29ce-434f-47c5-847b-3558f54e3188"
      },
      "source": [
        "df[feat_insol].describe()"
      ],
      "execution_count": 114,
      "outputs": [
        {
          "output_type": "execute_result",
          "data": {
            "text/html": [
              "<div>\n",
              "<style scoped>\n",
              "    .dataframe tbody tr th:only-of-type {\n",
              "        vertical-align: middle;\n",
              "    }\n",
              "\n",
              "    .dataframe tbody tr th {\n",
              "        vertical-align: top;\n",
              "    }\n",
              "\n",
              "    .dataframe thead th {\n",
              "        text-align: right;\n",
              "    }\n",
              "</style>\n",
              "<table border=\"1\" class=\"dataframe\">\n",
              "  <thead>\n",
              "    <tr style=\"text-align: right;\">\n",
              "      <th></th>\n",
              "      <th>X11</th>\n",
              "      <th>X14</th>\n",
              "      <th>X16</th>\n",
              "      <th>X19</th>\n",
              "      <th>X34</th>\n",
              "    </tr>\n",
              "  </thead>\n",
              "  <tbody>\n",
              "    <tr>\n",
              "      <th>count</th>\n",
              "      <td>4752.000000</td>\n",
              "      <td>4752.0</td>\n",
              "      <td>4752.0</td>\n",
              "      <td>4752.0</td>\n",
              "      <td>4752.000000</td>\n",
              "    </tr>\n",
              "    <tr>\n",
              "      <th>mean</th>\n",
              "      <td>11.008479</td>\n",
              "      <td>0.0</td>\n",
              "      <td>0.0</td>\n",
              "      <td>0.0</td>\n",
              "      <td>11.567563</td>\n",
              "    </tr>\n",
              "    <tr>\n",
              "      <th>std</th>\n",
              "      <td>10.873539</td>\n",
              "      <td>0.0</td>\n",
              "      <td>0.0</td>\n",
              "      <td>0.0</td>\n",
              "      <td>11.386727</td>\n",
              "    </tr>\n",
              "    <tr>\n",
              "      <th>min</th>\n",
              "      <td>0.000000</td>\n",
              "      <td>0.0</td>\n",
              "      <td>0.0</td>\n",
              "      <td>0.0</td>\n",
              "      <td>0.000000</td>\n",
              "    </tr>\n",
              "    <tr>\n",
              "      <th>25%</th>\n",
              "      <td>0.020000</td>\n",
              "      <td>0.0</td>\n",
              "      <td>0.0</td>\n",
              "      <td>0.0</td>\n",
              "      <td>0.030000</td>\n",
              "    </tr>\n",
              "    <tr>\n",
              "      <th>50%</th>\n",
              "      <td>7.690000</td>\n",
              "      <td>0.0</td>\n",
              "      <td>0.0</td>\n",
              "      <td>0.0</td>\n",
              "      <td>8.210000</td>\n",
              "    </tr>\n",
              "    <tr>\n",
              "      <th>75%</th>\n",
              "      <td>22.190000</td>\n",
              "      <td>0.0</td>\n",
              "      <td>0.0</td>\n",
              "      <td>0.0</td>\n",
              "      <td>22.562500</td>\n",
              "    </tr>\n",
              "    <tr>\n",
              "      <th>max</th>\n",
              "      <td>30.700000</td>\n",
              "      <td>0.0</td>\n",
              "      <td>0.0</td>\n",
              "      <td>0.0</td>\n",
              "      <td>32.240000</td>\n",
              "    </tr>\n",
              "  </tbody>\n",
              "</table>\n",
              "</div>"
            ],
            "text/plain": [
              "               X11     X14     X16     X19          X34\n",
              "count  4752.000000  4752.0  4752.0  4752.0  4752.000000\n",
              "mean     11.008479     0.0     0.0     0.0    11.567563\n",
              "std      10.873539     0.0     0.0     0.0    11.386727\n",
              "min       0.000000     0.0     0.0     0.0     0.000000\n",
              "25%       0.020000     0.0     0.0     0.0     0.030000\n",
              "50%       7.690000     0.0     0.0     0.0     8.210000\n",
              "75%      22.190000     0.0     0.0     0.0    22.562500\n",
              "max      30.700000     0.0     0.0     0.0    32.240000"
            ]
          },
          "metadata": {
            "tags": []
          },
          "execution_count": 114
        }
      ]
    },
    {
      "cell_type": "code",
      "metadata": {
        "colab_type": "code",
        "id": "i3W0bWFMl31u",
        "colab": {
          "base_uri": "https://localhost:8080/",
          "height": 206
        },
        "outputId": "d3714253-282f-4e19-cd6e-8dd195ef09ed"
      },
      "source": [
        "df[feat_insol].corr()"
      ],
      "execution_count": 86,
      "outputs": [
        {
          "output_type": "execute_result",
          "data": {
            "text/html": [
              "<div>\n",
              "<style scoped>\n",
              "    .dataframe tbody tr th:only-of-type {\n",
              "        vertical-align: middle;\n",
              "    }\n",
              "\n",
              "    .dataframe tbody tr th {\n",
              "        vertical-align: top;\n",
              "    }\n",
              "\n",
              "    .dataframe thead th {\n",
              "        text-align: right;\n",
              "    }\n",
              "</style>\n",
              "<table border=\"1\" class=\"dataframe\">\n",
              "  <thead>\n",
              "    <tr style=\"text-align: right;\">\n",
              "      <th></th>\n",
              "      <th>X11</th>\n",
              "      <th>X14</th>\n",
              "      <th>X16</th>\n",
              "      <th>X19</th>\n",
              "      <th>X34</th>\n",
              "    </tr>\n",
              "  </thead>\n",
              "  <tbody>\n",
              "    <tr>\n",
              "      <th>X11</th>\n",
              "      <td>1.000000</td>\n",
              "      <td>NaN</td>\n",
              "      <td>NaN</td>\n",
              "      <td>NaN</td>\n",
              "      <td>0.995187</td>\n",
              "    </tr>\n",
              "    <tr>\n",
              "      <th>X14</th>\n",
              "      <td>NaN</td>\n",
              "      <td>NaN</td>\n",
              "      <td>NaN</td>\n",
              "      <td>NaN</td>\n",
              "      <td>NaN</td>\n",
              "    </tr>\n",
              "    <tr>\n",
              "      <th>X16</th>\n",
              "      <td>NaN</td>\n",
              "      <td>NaN</td>\n",
              "      <td>NaN</td>\n",
              "      <td>NaN</td>\n",
              "      <td>NaN</td>\n",
              "    </tr>\n",
              "    <tr>\n",
              "      <th>X19</th>\n",
              "      <td>NaN</td>\n",
              "      <td>NaN</td>\n",
              "      <td>NaN</td>\n",
              "      <td>NaN</td>\n",
              "      <td>NaN</td>\n",
              "    </tr>\n",
              "    <tr>\n",
              "      <th>X34</th>\n",
              "      <td>0.995187</td>\n",
              "      <td>NaN</td>\n",
              "      <td>NaN</td>\n",
              "      <td>NaN</td>\n",
              "      <td>1.000000</td>\n",
              "    </tr>\n",
              "  </tbody>\n",
              "</table>\n",
              "</div>"
            ],
            "text/plain": [
              "          X11  X14  X16  X19       X34\n",
              "X11  1.000000  NaN  NaN  NaN  0.995187\n",
              "X14       NaN  NaN  NaN  NaN       NaN\n",
              "X16       NaN  NaN  NaN  NaN       NaN\n",
              "X19       NaN  NaN  NaN  NaN       NaN\n",
              "X34  0.995187  NaN  NaN  NaN  1.000000"
            ]
          },
          "metadata": {
            "tags": []
          },
          "execution_count": 86
        }
      ]
    },
    {
      "cell_type": "code",
      "metadata": {
        "colab_type": "code",
        "id": "q0Cs558Ql31x",
        "colab": {
          "base_uri": "https://localhost:8080/",
          "height": 286
        },
        "outputId": "68ebaeb4-6c98-4cf2-8c77-d6611eed2751"
      },
      "source": [
        "sns.heatmap(df[feat_insol].corr(), cmap='coolwarm')"
      ],
      "execution_count": 96,
      "outputs": [
        {
          "output_type": "execute_result",
          "data": {
            "text/plain": [
              "<matplotlib.axes._subplots.AxesSubplot at 0x7f1fca331cf8>"
            ]
          },
          "metadata": {
            "tags": []
          },
          "execution_count": 96
        },
        {
          "output_type": "display_data",
          "data": {
            "image/png": "[encoded data removed]",
            "text/plain": [
              "<Figure size 432x288 with 2 Axes>"
            ]
          },
          "metadata": {
            "tags": []
          }
        }
      ]
    },
    {
      "cell_type": "markdown",
      "metadata": {
        "id": "O30HJjPmmPRU",
        "colab_type": "text"
      },
      "source": [
        "### 습도"
      ]
    },
    {
      "cell_type": "code",
      "metadata": {
        "id": "mJ2CIjzntNwZ",
        "colab_type": "code",
        "colab": {
          "base_uri": "https://localhost:8080/",
          "height": 300
        },
        "outputId": "f683df3e-765c-40a6-8887-bccc56f0718f"
      },
      "source": [
        "df[feat_humid].describe()"
      ],
      "execution_count": 115,
      "outputs": [
        {
          "output_type": "execute_result",
          "data": {
            "text/html": [
              "<div>\n",
              "<style scoped>\n",
              "    .dataframe tbody tr th:only-of-type {\n",
              "        vertical-align: middle;\n",
              "    }\n",
              "\n",
              "    .dataframe tbody tr th {\n",
              "        vertical-align: top;\n",
              "    }\n",
              "\n",
              "    .dataframe thead th {\n",
              "        text-align: right;\n",
              "    }\n",
              "</style>\n",
              "<table border=\"1\" class=\"dataframe\">\n",
              "  <thead>\n",
              "    <tr style=\"text-align: right;\">\n",
              "      <th></th>\n",
              "      <th>X12</th>\n",
              "      <th>X20</th>\n",
              "      <th>X30</th>\n",
              "      <th>X37</th>\n",
              "      <th>X38</th>\n",
              "    </tr>\n",
              "  </thead>\n",
              "  <tbody>\n",
              "    <tr>\n",
              "      <th>count</th>\n",
              "      <td>4752.000000</td>\n",
              "      <td>4752.000000</td>\n",
              "      <td>4752.000000</td>\n",
              "      <td>4752.000000</td>\n",
              "      <td>4752.000000</td>\n",
              "    </tr>\n",
              "    <tr>\n",
              "      <th>mean</th>\n",
              "      <td>68.209827</td>\n",
              "      <td>71.478872</td>\n",
              "      <td>65.657639</td>\n",
              "      <td>65.918771</td>\n",
              "      <td>58.178704</td>\n",
              "    </tr>\n",
              "    <tr>\n",
              "      <th>std</th>\n",
              "      <td>22.278053</td>\n",
              "      <td>21.830446</td>\n",
              "      <td>21.525699</td>\n",
              "      <td>19.527173</td>\n",
              "      <td>18.368285</td>\n",
              "    </tr>\n",
              "    <tr>\n",
              "      <th>min</th>\n",
              "      <td>16.400000</td>\n",
              "      <td>19.700000</td>\n",
              "      <td>17.400000</td>\n",
              "      <td>17.500000</td>\n",
              "      <td>17.900000</td>\n",
              "    </tr>\n",
              "    <tr>\n",
              "      <th>25%</th>\n",
              "      <td>49.500000</td>\n",
              "      <td>53.075000</td>\n",
              "      <td>48.075000</td>\n",
              "      <td>51.500000</td>\n",
              "      <td>44.600000</td>\n",
              "    </tr>\n",
              "    <tr>\n",
              "      <th>50%</th>\n",
              "      <td>72.150000</td>\n",
              "      <td>74.200000</td>\n",
              "      <td>69.400000</td>\n",
              "      <td>67.300000</td>\n",
              "      <td>59.100000</td>\n",
              "    </tr>\n",
              "    <tr>\n",
              "      <th>75%</th>\n",
              "      <td>89.025000</td>\n",
              "      <td>92.600000</td>\n",
              "      <td>85.600000</td>\n",
              "      <td>81.900000</td>\n",
              "      <td>72.700000</td>\n",
              "    </tr>\n",
              "    <tr>\n",
              "      <th>max</th>\n",
              "      <td>97.900000</td>\n",
              "      <td>97.900000</td>\n",
              "      <td>97.200000</td>\n",
              "      <td>97.800000</td>\n",
              "      <td>94.800000</td>\n",
              "    </tr>\n",
              "  </tbody>\n",
              "</table>\n",
              "</div>"
            ],
            "text/plain": [
              "               X12          X20          X30          X37          X38\n",
              "count  4752.000000  4752.000000  4752.000000  4752.000000  4752.000000\n",
              "mean     68.209827    71.478872    65.657639    65.918771    58.178704\n",
              "std      22.278053    21.830446    21.525699    19.527173    18.368285\n",
              "min      16.400000    19.700000    17.400000    17.500000    17.900000\n",
              "25%      49.500000    53.075000    48.075000    51.500000    44.600000\n",
              "50%      72.150000    74.200000    69.400000    67.300000    59.100000\n",
              "75%      89.025000    92.600000    85.600000    81.900000    72.700000\n",
              "max      97.900000    97.900000    97.200000    97.800000    94.800000"
            ]
          },
          "metadata": {
            "tags": []
          },
          "execution_count": 115
        }
      ]
    },
    {
      "cell_type": "code",
      "metadata": {
        "colab_type": "code",
        "id": "ZUnAzjSKl3s8",
        "colab": {
          "base_uri": "https://localhost:8080/",
          "height": 206
        },
        "outputId": "009ecede-f6b5-41bd-a0a8-67142e232cb7"
      },
      "source": [
        "df[feat_humid].corr()"
      ],
      "execution_count": 100,
      "outputs": [
        {
          "output_type": "execute_result",
          "data": {
            "text/html": [
              "<div>\n",
              "<style scoped>\n",
              "    .dataframe tbody tr th:only-of-type {\n",
              "        vertical-align: middle;\n",
              "    }\n",
              "\n",
              "    .dataframe tbody tr th {\n",
              "        vertical-align: top;\n",
              "    }\n",
              "\n",
              "    .dataframe thead th {\n",
              "        text-align: right;\n",
              "    }\n",
              "</style>\n",
              "<table border=\"1\" class=\"dataframe\">\n",
              "  <thead>\n",
              "    <tr style=\"text-align: right;\">\n",
              "      <th></th>\n",
              "      <th>X12</th>\n",
              "      <th>X20</th>\n",
              "      <th>X30</th>\n",
              "      <th>X37</th>\n",
              "      <th>X38</th>\n",
              "    </tr>\n",
              "  </thead>\n",
              "  <tbody>\n",
              "    <tr>\n",
              "      <th>X12</th>\n",
              "      <td>1.000000</td>\n",
              "      <td>0.937239</td>\n",
              "      <td>0.952855</td>\n",
              "      <td>0.908078</td>\n",
              "      <td>0.853899</td>\n",
              "    </tr>\n",
              "    <tr>\n",
              "      <th>X20</th>\n",
              "      <td>0.937239</td>\n",
              "      <td>1.000000</td>\n",
              "      <td>0.928021</td>\n",
              "      <td>0.900590</td>\n",
              "      <td>0.855513</td>\n",
              "    </tr>\n",
              "    <tr>\n",
              "      <th>X30</th>\n",
              "      <td>0.952855</td>\n",
              "      <td>0.928021</td>\n",
              "      <td>1.000000</td>\n",
              "      <td>0.921706</td>\n",
              "      <td>0.851052</td>\n",
              "    </tr>\n",
              "    <tr>\n",
              "      <th>X37</th>\n",
              "      <td>0.908078</td>\n",
              "      <td>0.900590</td>\n",
              "      <td>0.921706</td>\n",
              "      <td>1.000000</td>\n",
              "      <td>0.931389</td>\n",
              "    </tr>\n",
              "    <tr>\n",
              "      <th>X38</th>\n",
              "      <td>0.853899</td>\n",
              "      <td>0.855513</td>\n",
              "      <td>0.851052</td>\n",
              "      <td>0.931389</td>\n",
              "      <td>1.000000</td>\n",
              "    </tr>\n",
              "  </tbody>\n",
              "</table>\n",
              "</div>"
            ],
            "text/plain": [
              "          X12       X20       X30       X37       X38\n",
              "X12  1.000000  0.937239  0.952855  0.908078  0.853899\n",
              "X20  0.937239  1.000000  0.928021  0.900590  0.855513\n",
              "X30  0.952855  0.928021  1.000000  0.921706  0.851052\n",
              "X37  0.908078  0.900590  0.921706  1.000000  0.931389\n",
              "X38  0.853899  0.855513  0.851052  0.931389  1.000000"
            ]
          },
          "metadata": {
            "tags": []
          },
          "execution_count": 100
        }
      ]
    },
    {
      "cell_type": "code",
      "metadata": {
        "colab_type": "code",
        "id": "mEIoVUVul3tB",
        "colab": {
          "base_uri": "https://localhost:8080/",
          "height": 286
        },
        "outputId": "07adf5e8-fddd-4b09-e98d-8f0eed6bbb3c"
      },
      "source": [
        "sns.heatmap(df[feat_humid].corr(), cmap='coolwarm')"
      ],
      "execution_count": 99,
      "outputs": [
        {
          "output_type": "execute_result",
          "data": {
            "text/plain": [
              "<matplotlib.axes._subplots.AxesSubplot at 0x7f1fca18b438>"
            ]
          },
          "metadata": {
            "tags": []
          },
          "execution_count": 99
        },
        {
          "output_type": "display_data",
          "data": {
            "image/png": "[encoded data removed]",
            "text/plain": [
              "<Figure size 432x288 with 2 Axes>"
            ]
          },
          "metadata": {
            "tags": []
          }
        }
      ]
    },
    {
      "cell_type": "code",
      "metadata": {
        "colab_type": "code",
        "id": "eARKoCnNl3tG",
        "colab": {}
      },
      "source": [
        ""
      ],
      "execution_count": 0,
      "outputs": []
    },
    {
      "cell_type": "code",
      "metadata": {
        "id": "1HfBU9ZomY0a",
        "colab_type": "code",
        "colab": {}
      },
      "source": [
        ""
      ],
      "execution_count": 0,
      "outputs": []
    },
    {
      "cell_type": "markdown",
      "metadata": {
        "id": "XHbsWazamZKu",
        "colab_type": "text"
      },
      "source": [
        "### 풍향"
      ]
    },
    {
      "cell_type": "code",
      "metadata": {
        "id": "WBOJ011MtXGV",
        "colab_type": "code",
        "colab": {
          "base_uri": "https://localhost:8080/",
          "height": 300
        },
        "outputId": "05792989-73b1-434e-d517-244f1d699726"
      },
      "source": [
        "df[feat_dir_wind].describe()"
      ],
      "execution_count": 116,
      "outputs": [
        {
          "output_type": "execute_result",
          "data": {
            "text/html": [
              "<div>\n",
              "<style scoped>\n",
              "    .dataframe tbody tr th:only-of-type {\n",
              "        vertical-align: middle;\n",
              "    }\n",
              "\n",
              "    .dataframe tbody tr th {\n",
              "        vertical-align: top;\n",
              "    }\n",
              "\n",
              "    .dataframe thead th {\n",
              "        text-align: right;\n",
              "    }\n",
              "</style>\n",
              "<table border=\"1\" class=\"dataframe\">\n",
              "  <thead>\n",
              "    <tr style=\"text-align: right;\">\n",
              "      <th></th>\n",
              "      <th>X13</th>\n",
              "      <th>X15</th>\n",
              "      <th>X17</th>\n",
              "      <th>X25</th>\n",
              "      <th>X35</th>\n",
              "    </tr>\n",
              "  </thead>\n",
              "  <tbody>\n",
              "    <tr>\n",
              "      <th>count</th>\n",
              "      <td>4752.000000</td>\n",
              "      <td>4752.000000</td>\n",
              "      <td>4752.000000</td>\n",
              "      <td>4752.000000</td>\n",
              "      <td>4752.000000</td>\n",
              "    </tr>\n",
              "    <tr>\n",
              "      <th>mean</th>\n",
              "      <td>161.357639</td>\n",
              "      <td>174.346654</td>\n",
              "      <td>161.823864</td>\n",
              "      <td>139.524453</td>\n",
              "      <td>208.400505</td>\n",
              "    </tr>\n",
              "    <tr>\n",
              "      <th>std</th>\n",
              "      <td>98.787460</td>\n",
              "      <td>97.785811</td>\n",
              "      <td>115.943382</td>\n",
              "      <td>131.438036</td>\n",
              "      <td>99.580562</td>\n",
              "    </tr>\n",
              "    <tr>\n",
              "      <th>min</th>\n",
              "      <td>0.000000</td>\n",
              "      <td>0.000000</td>\n",
              "      <td>0.000000</td>\n",
              "      <td>0.000000</td>\n",
              "      <td>0.000000</td>\n",
              "    </tr>\n",
              "    <tr>\n",
              "      <th>25%</th>\n",
              "      <td>69.225000</td>\n",
              "      <td>115.600000</td>\n",
              "      <td>33.875000</td>\n",
              "      <td>0.000000</td>\n",
              "      <td>155.300000</td>\n",
              "    </tr>\n",
              "    <tr>\n",
              "      <th>50%</th>\n",
              "      <td>182.600000</td>\n",
              "      <td>170.250000</td>\n",
              "      <td>190.450000</td>\n",
              "      <td>134.150000</td>\n",
              "      <td>240.850000</td>\n",
              "    </tr>\n",
              "    <tr>\n",
              "      <th>75%</th>\n",
              "      <td>228.925000</td>\n",
              "      <td>258.400000</td>\n",
              "      <td>253.125000</td>\n",
              "      <td>270.900000</td>\n",
              "      <td>277.800000</td>\n",
              "    </tr>\n",
              "    <tr>\n",
              "      <th>max</th>\n",
              "      <td>360.000000</td>\n",
              "      <td>359.900000</td>\n",
              "      <td>360.000000</td>\n",
              "      <td>359.900000</td>\n",
              "      <td>359.900000</td>\n",
              "    </tr>\n",
              "  </tbody>\n",
              "</table>\n",
              "</div>"
            ],
            "text/plain": [
              "               X13          X15          X17          X25          X35\n",
              "count  4752.000000  4752.000000  4752.000000  4752.000000  4752.000000\n",
              "mean    161.357639   174.346654   161.823864   139.524453   208.400505\n",
              "std      98.787460    97.785811   115.943382   131.438036    99.580562\n",
              "min       0.000000     0.000000     0.000000     0.000000     0.000000\n",
              "25%      69.225000   115.600000    33.875000     0.000000   155.300000\n",
              "50%     182.600000   170.250000   190.450000   134.150000   240.850000\n",
              "75%     228.925000   258.400000   253.125000   270.900000   277.800000\n",
              "max     360.000000   359.900000   360.000000   359.900000   359.900000"
            ]
          },
          "metadata": {
            "tags": []
          },
          "execution_count": 116
        }
      ]
    },
    {
      "cell_type": "code",
      "metadata": {
        "colab_type": "code",
        "id": "gvqlL5Ucl3bc",
        "colab": {
          "base_uri": "https://localhost:8080/",
          "height": 206
        },
        "outputId": "970dbc03-29b2-4ac5-95d1-6d0a7523fadf"
      },
      "source": [
        "df[feat_dir_wind].corr()"
      ],
      "execution_count": 101,
      "outputs": [
        {
          "output_type": "execute_result",
          "data": {
            "text/html": [
              "<div>\n",
              "<style scoped>\n",
              "    .dataframe tbody tr th:only-of-type {\n",
              "        vertical-align: middle;\n",
              "    }\n",
              "\n",
              "    .dataframe tbody tr th {\n",
              "        vertical-align: top;\n",
              "    }\n",
              "\n",
              "    .dataframe thead th {\n",
              "        text-align: right;\n",
              "    }\n",
              "</style>\n",
              "<table border=\"1\" class=\"dataframe\">\n",
              "  <thead>\n",
              "    <tr style=\"text-align: right;\">\n",
              "      <th></th>\n",
              "      <th>X13</th>\n",
              "      <th>X15</th>\n",
              "      <th>X17</th>\n",
              "      <th>X25</th>\n",
              "      <th>X35</th>\n",
              "    </tr>\n",
              "  </thead>\n",
              "  <tbody>\n",
              "    <tr>\n",
              "      <th>X13</th>\n",
              "      <td>1.000000</td>\n",
              "      <td>0.120568</td>\n",
              "      <td>-0.003977</td>\n",
              "      <td>0.029207</td>\n",
              "      <td>0.053072</td>\n",
              "    </tr>\n",
              "    <tr>\n",
              "      <th>X15</th>\n",
              "      <td>0.120568</td>\n",
              "      <td>1.000000</td>\n",
              "      <td>0.133061</td>\n",
              "      <td>0.144404</td>\n",
              "      <td>0.093405</td>\n",
              "    </tr>\n",
              "    <tr>\n",
              "      <th>X17</th>\n",
              "      <td>-0.003977</td>\n",
              "      <td>0.133061</td>\n",
              "      <td>1.000000</td>\n",
              "      <td>0.354239</td>\n",
              "      <td>0.205332</td>\n",
              "    </tr>\n",
              "    <tr>\n",
              "      <th>X25</th>\n",
              "      <td>0.029207</td>\n",
              "      <td>0.144404</td>\n",
              "      <td>0.354239</td>\n",
              "      <td>1.000000</td>\n",
              "      <td>0.303246</td>\n",
              "    </tr>\n",
              "    <tr>\n",
              "      <th>X35</th>\n",
              "      <td>0.053072</td>\n",
              "      <td>0.093405</td>\n",
              "      <td>0.205332</td>\n",
              "      <td>0.303246</td>\n",
              "      <td>1.000000</td>\n",
              "    </tr>\n",
              "  </tbody>\n",
              "</table>\n",
              "</div>"
            ],
            "text/plain": [
              "          X13       X15       X17       X25       X35\n",
              "X13  1.000000  0.120568 -0.003977  0.029207  0.053072\n",
              "X15  0.120568  1.000000  0.133061  0.144404  0.093405\n",
              "X17 -0.003977  0.133061  1.000000  0.354239  0.205332\n",
              "X25  0.029207  0.144404  0.354239  1.000000  0.303246\n",
              "X35  0.053072  0.093405  0.205332  0.303246  1.000000"
            ]
          },
          "metadata": {
            "tags": []
          },
          "execution_count": 101
        }
      ]
    },
    {
      "cell_type": "code",
      "metadata": {
        "colab_type": "code",
        "id": "zVYe2M4il3b1",
        "colab": {
          "base_uri": "https://localhost:8080/",
          "height": 286
        },
        "outputId": "9a508ece-e58a-4461-8d77-6175a65a1c8f"
      },
      "source": [
        "sns.heatmap(df[feat_dir_wind].corr(), cmap='coolwarm')"
      ],
      "execution_count": 102,
      "outputs": [
        {
          "output_type": "execute_result",
          "data": {
            "text/plain": [
              "<matplotlib.axes._subplots.AxesSubplot at 0x7f1fca0babe0>"
            ]
          },
          "metadata": {
            "tags": []
          },
          "execution_count": 102
        },
        {
          "output_type": "display_data",
          "data": {
            "image/png": "[encoded data removed]",
            "text/plain": [
              "<Figure size 432x288 with 2 Axes>"
            ]
          },
          "metadata": {
            "tags": []
          }
        }
      ]
    },
    {
      "cell_type": "code",
      "metadata": {
        "colab_type": "code",
        "id": "7wcAZskyl3b_",
        "colab": {}
      },
      "source": [
        ""
      ],
      "execution_count": 0,
      "outputs": []
    },
    {
      "cell_type": "markdown",
      "metadata": {
        "id": "YDNoDj9ylJoF",
        "colab_type": "text"
      },
      "source": [
        "## y"
      ]
    },
    {
      "cell_type": "code",
      "metadata": {
        "id": "OohHQJHslMgN",
        "colab_type": "code",
        "colab": {}
      },
      "source": [
        "feat_y = ['Y00', 'Y01', 'Y02', 'Y03', 'Y04', 'Y05', 'Y06', 'Y07', 'Y08', 'Y09', 'Y10', 'Y11', 'Y12', 'Y13', 'Y14', 'Y15', 'Y16', 'Y17']"
      ],
      "execution_count": 0,
      "outputs": []
    },
    {
      "cell_type": "code",
      "metadata": {
        "id": "QrbG9Yfjun58",
        "colab_type": "code",
        "colab": {
          "base_uri": "https://localhost:8080/",
          "height": 34
        },
        "outputId": "e96191e8-0652-4af0-a059-b616e7944fe5"
      },
      "source": [
        "df[feat_y].shape"
      ],
      "execution_count": 121,
      "outputs": [
        {
          "output_type": "execute_result",
          "data": {
            "text/plain": [
              "(4752, 18)"
            ]
          },
          "metadata": {
            "tags": []
          },
          "execution_count": 121
        }
      ]
    },
    {
      "cell_type": "markdown",
      "metadata": {
        "id": "vi5uB3Bevaif",
        "colab_type": "text"
      },
      "source": [
        "null 값이 없는 부분만 추출 "
      ]
    },
    {
      "cell_type": "code",
      "metadata": {
        "id": "Guw6xTMuun_o",
        "colab_type": "code",
        "colab": {
          "base_uri": "https://localhost:8080/",
          "height": 34
        },
        "outputId": "668a7646-adfb-4b49-a692-85434366a457"
      },
      "source": [
        "df_y = df[feat_y][:4320]\n",
        "df_y.shape "
      ],
      "execution_count": 124,
      "outputs": [
        {
          "output_type": "execute_result",
          "data": {
            "text/plain": [
              "(4320, 18)"
            ]
          },
          "metadata": {
            "tags": []
          },
          "execution_count": 124
        }
      ]
    },
    {
      "cell_type": "code",
      "metadata": {
        "id": "HoyoZqhjuoDY",
        "colab_type": "code",
        "colab": {
          "base_uri": "https://localhost:8080/",
          "height": 416
        },
        "outputId": "fbf3c169-6df4-4f0a-f732-0d7c6728a4fe"
      },
      "source": [
        "df_y.info()"
      ],
      "execution_count": 126,
      "outputs": [
        {
          "output_type": "stream",
          "text": [
            "<class 'pandas.core.frame.DataFrame'>\n",
            "RangeIndex: 4320 entries, 0 to 4319\n",
            "Data columns (total 18 columns):\n",
            "Y00    4320 non-null float64\n",
            "Y01    4320 non-null float64\n",
            "Y02    4320 non-null float64\n",
            "Y03    4320 non-null float64\n",
            "Y04    4320 non-null float64\n",
            "Y05    4320 non-null float64\n",
            "Y06    4320 non-null float64\n",
            "Y07    4320 non-null float64\n",
            "Y08    4320 non-null float64\n",
            "Y09    4320 non-null float64\n",
            "Y10    4320 non-null float64\n",
            "Y11    4320 non-null float64\n",
            "Y12    4320 non-null float64\n",
            "Y13    4320 non-null float64\n",
            "Y14    4320 non-null float64\n",
            "Y15    4320 non-null float64\n",
            "Y16    4320 non-null float64\n",
            "Y17    4320 non-null float64\n",
            "dtypes: float64(18)\n",
            "memory usage: 607.6 KB\n"
          ],
          "name": "stdout"
        }
      ]
    },
    {
      "cell_type": "code",
      "metadata": {
        "id": "qCQcKl1K2inI",
        "colab_type": "code",
        "colab": {
          "base_uri": "https://localhost:8080/",
          "height": 320
        },
        "outputId": "61785fc4-c034-4e2b-a9b3-0c5d4d05c940"
      },
      "source": [
        "df_y.describe()"
      ],
      "execution_count": 130,
      "outputs": [
        {
          "output_type": "execute_result",
          "data": {
            "text/html": [
              "<div>\n",
              "<style scoped>\n",
              "    .dataframe tbody tr th:only-of-type {\n",
              "        vertical-align: middle;\n",
              "    }\n",
              "\n",
              "    .dataframe tbody tr th {\n",
              "        vertical-align: top;\n",
              "    }\n",
              "\n",
              "    .dataframe thead th {\n",
              "        text-align: right;\n",
              "    }\n",
              "</style>\n",
              "<table border=\"1\" class=\"dataframe\">\n",
              "  <thead>\n",
              "    <tr style=\"text-align: right;\">\n",
              "      <th></th>\n",
              "      <th>Y00</th>\n",
              "      <th>Y01</th>\n",
              "      <th>Y02</th>\n",
              "      <th>Y03</th>\n",
              "      <th>Y04</th>\n",
              "      <th>Y05</th>\n",
              "      <th>Y06</th>\n",
              "      <th>Y07</th>\n",
              "      <th>Y08</th>\n",
              "      <th>Y09</th>\n",
              "      <th>Y10</th>\n",
              "      <th>Y11</th>\n",
              "      <th>Y12</th>\n",
              "      <th>Y13</th>\n",
              "      <th>Y14</th>\n",
              "      <th>Y15</th>\n",
              "      <th>Y16</th>\n",
              "      <th>Y17</th>\n",
              "    </tr>\n",
              "  </thead>\n",
              "  <tbody>\n",
              "    <tr>\n",
              "      <th>count</th>\n",
              "      <td>4320.000000</td>\n",
              "      <td>4320.000000</td>\n",
              "      <td>4320.000000</td>\n",
              "      <td>4320.000000</td>\n",
              "      <td>4320.000000</td>\n",
              "      <td>4320.000000</td>\n",
              "      <td>4320.000000</td>\n",
              "      <td>4320.000000</td>\n",
              "      <td>4320.000000</td>\n",
              "      <td>4320.000000</td>\n",
              "      <td>4320.000000</td>\n",
              "      <td>4320.000000</td>\n",
              "      <td>4320.000000</td>\n",
              "      <td>4320.000000</td>\n",
              "      <td>4320.000000</td>\n",
              "      <td>4320.000000</td>\n",
              "      <td>4320.000000</td>\n",
              "      <td>4320.000000</td>\n",
              "    </tr>\n",
              "    <tr>\n",
              "      <th>mean</th>\n",
              "      <td>21.324190</td>\n",
              "      <td>23.664583</td>\n",
              "      <td>23.623611</td>\n",
              "      <td>24.498958</td>\n",
              "      <td>24.510301</td>\n",
              "      <td>24.165856</td>\n",
              "      <td>22.530671</td>\n",
              "      <td>23.786574</td>\n",
              "      <td>24.016898</td>\n",
              "      <td>22.222801</td>\n",
              "      <td>23.737269</td>\n",
              "      <td>24.649653</td>\n",
              "      <td>23.641898</td>\n",
              "      <td>20.926157</td>\n",
              "      <td>21.319444</td>\n",
              "      <td>21.564468</td>\n",
              "      <td>22.969097</td>\n",
              "      <td>23.381829</td>\n",
              "    </tr>\n",
              "    <tr>\n",
              "      <th>std</th>\n",
              "      <td>4.309451</td>\n",
              "      <td>7.566614</td>\n",
              "      <td>7.423344</td>\n",
              "      <td>3.343437</td>\n",
              "      <td>3.437558</td>\n",
              "      <td>8.589213</td>\n",
              "      <td>7.468692</td>\n",
              "      <td>8.732548</td>\n",
              "      <td>9.832279</td>\n",
              "      <td>9.112299</td>\n",
              "      <td>10.599000</td>\n",
              "      <td>12.214870</td>\n",
              "      <td>8.400081</td>\n",
              "      <td>6.106031</td>\n",
              "      <td>7.066149</td>\n",
              "      <td>6.810084</td>\n",
              "      <td>8.054272</td>\n",
              "      <td>9.275172</td>\n",
              "    </tr>\n",
              "    <tr>\n",
              "      <th>min</th>\n",
              "      <td>11.500000</td>\n",
              "      <td>7.000000</td>\n",
              "      <td>7.000000</td>\n",
              "      <td>16.000000</td>\n",
              "      <td>15.500000</td>\n",
              "      <td>7.500000</td>\n",
              "      <td>6.500000</td>\n",
              "      <td>7.500000</td>\n",
              "      <td>7.000000</td>\n",
              "      <td>3.500000</td>\n",
              "      <td>4.000000</td>\n",
              "      <td>3.000000</td>\n",
              "      <td>6.000000</td>\n",
              "      <td>7.500000</td>\n",
              "      <td>7.500000</td>\n",
              "      <td>7.000000</td>\n",
              "      <td>6.000000</td>\n",
              "      <td>7.000000</td>\n",
              "    </tr>\n",
              "    <tr>\n",
              "      <th>25%</th>\n",
              "      <td>18.000000</td>\n",
              "      <td>17.500000</td>\n",
              "      <td>17.500000</td>\n",
              "      <td>22.000000</td>\n",
              "      <td>22.000000</td>\n",
              "      <td>17.500000</td>\n",
              "      <td>16.500000</td>\n",
              "      <td>17.000000</td>\n",
              "      <td>17.000000</td>\n",
              "      <td>15.500000</td>\n",
              "      <td>15.500000</td>\n",
              "      <td>15.000000</td>\n",
              "      <td>17.000000</td>\n",
              "      <td>16.500000</td>\n",
              "      <td>16.500000</td>\n",
              "      <td>16.500000</td>\n",
              "      <td>16.500000</td>\n",
              "      <td>16.000000</td>\n",
              "    </tr>\n",
              "    <tr>\n",
              "      <th>50%</th>\n",
              "      <td>21.000000</td>\n",
              "      <td>22.000000</td>\n",
              "      <td>22.000000</td>\n",
              "      <td>24.500000</td>\n",
              "      <td>24.500000</td>\n",
              "      <td>22.000000</td>\n",
              "      <td>21.000000</td>\n",
              "      <td>21.500000</td>\n",
              "      <td>21.000000</td>\n",
              "      <td>20.000000</td>\n",
              "      <td>20.500000</td>\n",
              "      <td>21.000000</td>\n",
              "      <td>22.000000</td>\n",
              "      <td>19.500000</td>\n",
              "      <td>19.500000</td>\n",
              "      <td>20.000000</td>\n",
              "      <td>21.500000</td>\n",
              "      <td>20.000000</td>\n",
              "    </tr>\n",
              "    <tr>\n",
              "      <th>75%</th>\n",
              "      <td>24.500000</td>\n",
              "      <td>30.000000</td>\n",
              "      <td>29.500000</td>\n",
              "      <td>27.000000</td>\n",
              "      <td>27.000000</td>\n",
              "      <td>30.000000</td>\n",
              "      <td>28.500000</td>\n",
              "      <td>29.500000</td>\n",
              "      <td>29.000000</td>\n",
              "      <td>30.500000</td>\n",
              "      <td>32.500000</td>\n",
              "      <td>34.500000</td>\n",
              "      <td>30.500000</td>\n",
              "      <td>25.000000</td>\n",
              "      <td>25.000000</td>\n",
              "      <td>27.000000</td>\n",
              "      <td>30.000000</td>\n",
              "      <td>32.000000</td>\n",
              "    </tr>\n",
              "    <tr>\n",
              "      <th>max</th>\n",
              "      <td>32.000000</td>\n",
              "      <td>40.500000</td>\n",
              "      <td>39.500000</td>\n",
              "      <td>32.000000</td>\n",
              "      <td>33.000000</td>\n",
              "      <td>53.000000</td>\n",
              "      <td>45.000000</td>\n",
              "      <td>52.000000</td>\n",
              "      <td>54.500000</td>\n",
              "      <td>42.000000</td>\n",
              "      <td>49.000000</td>\n",
              "      <td>53.000000</td>\n",
              "      <td>43.500000</td>\n",
              "      <td>38.000000</td>\n",
              "      <td>42.500000</td>\n",
              "      <td>40.500000</td>\n",
              "      <td>41.500000</td>\n",
              "      <td>43.500000</td>\n",
              "    </tr>\n",
              "  </tbody>\n",
              "</table>\n",
              "</div>"
            ],
            "text/plain": [
              "               Y00          Y01  ...          Y16          Y17\n",
              "count  4320.000000  4320.000000  ...  4320.000000  4320.000000\n",
              "mean     21.324190    23.664583  ...    22.969097    23.381829\n",
              "std       4.309451     7.566614  ...     8.054272     9.275172\n",
              "min      11.500000     7.000000  ...     6.000000     7.000000\n",
              "25%      18.000000    17.500000  ...    16.500000    16.000000\n",
              "50%      21.000000    22.000000  ...    21.500000    20.000000\n",
              "75%      24.500000    30.000000  ...    30.000000    32.000000\n",
              "max      32.000000    40.500000  ...    41.500000    43.500000\n",
              "\n",
              "[8 rows x 18 columns]"
            ]
          },
          "metadata": {
            "tags": []
          },
          "execution_count": 130
        }
      ]
    },
    {
      "cell_type": "code",
      "metadata": {
        "colab_type": "code",
        "id": "aVqDOV4Tlzsz",
        "colab": {
          "base_uri": "https://localhost:8080/",
          "height": 170
        },
        "outputId": "867b2350-904d-489b-f9e3-75d883106fd0"
      },
      "source": [
        "df_y.corr().apply()"
      ],
      "execution_count": 133,
      "outputs": [
        {
          "output_type": "error",
          "ename": "TypeError",
          "evalue": "ignored",
          "traceback": [
            "\u001b[0;31m---------------------------------------------------------------------------\u001b[0m",
            "\u001b[0;31mTypeError\u001b[0m                                 Traceback (most recent call last)",
            "\u001b[0;32m<ipython-input-133-3960069c6bd7>\u001b[0m in \u001b[0;36m<module>\u001b[0;34m()\u001b[0m\n\u001b[0;32m----> 1\u001b[0;31m \u001b[0mdf_y\u001b[0m\u001b[0;34m.\u001b[0m\u001b[0mcorr\u001b[0m\u001b[0;34m(\u001b[0m\u001b[0;34m)\u001b[0m\u001b[0;34m.\u001b[0m\u001b[0mapply\u001b[0m\u001b[0;34m(\u001b[0m\u001b[0mround\u001b[0m\u001b[0;34m(\u001b[0m\u001b[0;34m)\u001b[0m\u001b[0;34m)\u001b[0m\u001b[0;34m\u001b[0m\u001b[0;34m\u001b[0m\u001b[0m\n\u001b[0m",
            "\u001b[0;31mTypeError\u001b[0m: Required argument 'number' (pos 1) not found"
          ]
        }
      ]
    },
    {
      "cell_type": "code",
      "metadata": {
        "colab_type": "code",
        "id": "ReUwiNzzlztK",
        "colab": {
          "base_uri": "https://localhost:8080/",
          "height": 293
        },
        "outputId": "e794e153-afd1-4c92-e46c-027d33965c4e"
      },
      "source": [
        "sns.heatmap(df_y.corr(), cmap='coolwarm')"
      ],
      "execution_count": 129,
      "outputs": [
        {
          "output_type": "execute_result",
          "data": {
            "text/plain": [
              "<matplotlib.axes._subplots.AxesSubplot at 0x7f1fc9f4d198>"
            ]
          },
          "metadata": {
            "tags": []
          },
          "execution_count": 129
        },
        {
          "output_type": "display_data",
          "data": {
            "image/png": "[encoded data removed]",
            "text/plain": [
              "<Figure size 432x288 with 2 Axes>"
            ]
          },
          "metadata": {
            "tags": []
          }
        }
      ]
    },
    {
      "cell_type": "code",
      "metadata": {
        "id": "zvr3hHvJ19gH",
        "colab_type": "code",
        "colab": {}
      },
      "source": [
        ""
      ],
      "execution_count": 0,
      "outputs": []
    },
    {
      "cell_type": "code",
      "metadata": {
        "id": "MTXw7OID19kn",
        "colab_type": "code",
        "colab": {}
      },
      "source": [
        ""
      ],
      "execution_count": 0,
      "outputs": []
    },
    {
      "cell_type": "code",
      "metadata": {
        "id": "k7VThBHV19oY",
        "colab_type": "code",
        "colab": {}
      },
      "source": [
        ""
      ],
      "execution_count": 0,
      "outputs": []
    },
    {
      "cell_type": "markdown",
      "metadata": {
        "colab_type": "text",
        "id": "I3rwv5-Ulzsr"
      },
      "source": [
        "### ㄹㄹ "
      ]
    },
    {
      "cell_type": "code",
      "metadata": {
        "colab_type": "code",
        "id": "c9HgJKG-lztW",
        "colab": {}
      },
      "source": [
        ""
      ],
      "execution_count": 0,
      "outputs": []
    },
    {
      "cell_type": "code",
      "metadata": {
        "colab_type": "code",
        "id": "PY5OgOrrlzU-",
        "colab": {}
      },
      "source": [
        "df[].corr()"
      ],
      "execution_count": 0,
      "outputs": []
    },
    {
      "cell_type": "code",
      "metadata": {
        "colab_type": "code",
        "id": "5syXXYz-lzVE",
        "colab": {}
      },
      "source": [
        "sns.heatmap(df[].corr(), cmap='coolwarm')"
      ],
      "execution_count": 0,
      "outputs": []
    },
    {
      "cell_type": "code",
      "metadata": {
        "colab_type": "code",
        "id": "akVutT8rlzVJ",
        "colab": {}
      },
      "source": [
        ""
      ],
      "execution_count": 0,
      "outputs": []
    },
    {
      "cell_type": "code",
      "metadata": {
        "colab_type": "code",
        "id": "L_WPhiQWly7Z",
        "colab": {}
      },
      "source": [
        "df[].corr()"
      ],
      "execution_count": 0,
      "outputs": []
    },
    {
      "cell_type": "code",
      "metadata": {
        "colab_type": "code",
        "id": "45R-ZSnvly7y",
        "colab": {}
      },
      "source": [
        "sns.heatmap(df[].corr(), cmap='coolwarm')"
      ],
      "execution_count": 0,
      "outputs": []
    },
    {
      "cell_type": "code",
      "metadata": {
        "colab_type": "code",
        "id": "SYgi6WRSly79",
        "colab": {}
      },
      "source": [
        ""
      ],
      "execution_count": 0,
      "outputs": []
    },
    {
      "cell_type": "code",
      "metadata": {
        "id": "vO2brk6TlMjs",
        "colab_type": "code",
        "colab": {}
      },
      "source": [
        ""
      ],
      "execution_count": 0,
      "outputs": []
    },
    {
      "cell_type": "code",
      "metadata": {
        "id": "3muHycwClMm0",
        "colab_type": "code",
        "colab": {}
      },
      "source": [
        ""
      ],
      "execution_count": 0,
      "outputs": []
    },
    {
      "cell_type": "code",
      "metadata": {
        "id": "fUp0t27elMqQ",
        "colab_type": "code",
        "colab": {}
      },
      "source": [
        ""
      ],
      "execution_count": 0,
      "outputs": []
    },
    {
      "cell_type": "markdown",
      "metadata": {
        "id": "EfDJ718elJul",
        "colab_type": "text"
      },
      "source": [
        ""
      ]
    },
    {
      "cell_type": "code",
      "metadata": {
        "id": "v8g6fDtBlOde",
        "colab_type": "code",
        "colab": {}
      },
      "source": [
        ""
      ],
      "execution_count": 0,
      "outputs": []
    },
    {
      "cell_type": "code",
      "metadata": {
        "id": "ZW7JsMPslOgy",
        "colab_type": "code",
        "colab": {}
      },
      "source": [
        ""
      ],
      "execution_count": 0,
      "outputs": []
    },
    {
      "cell_type": "code",
      "metadata": {
        "id": "7EKRdENdlOkE",
        "colab_type": "code",
        "colab": {}
      },
      "source": [
        ""
      ],
      "execution_count": 0,
      "outputs": []
    },
    {
      "cell_type": "code",
      "metadata": {
        "id": "N0Pluc5keG8_",
        "colab_type": "code",
        "colab": {}
      },
      "source": [
        ""
      ],
      "execution_count": 0,
      "outputs": []
    },
    {
      "cell_type": "code",
      "metadata": {
        "id": "a_WnfdI7eHCK",
        "colab_type": "code",
        "colab": {
          "base_uri": "https://localhost:8080/",
          "height": 34
        },
        "outputId": "b0a80a81-8da9-495b-b93b-78c8fe18cc2d"
      },
      "source": [
        "temp = 'X13, X15, X17, X25, X35'\n",
        "for i in range(18):\n",
        "    print(\"'Y{:02}',\".format(i), end=' ')"
      ],
      "execution_count": 117,
      "outputs": [
        {
          "output_type": "stream",
          "text": [
            "'Y00', 'Y01', 'Y02', 'Y03', 'Y04', 'Y05', 'Y06', 'Y07', 'Y08', 'Y09', 'Y10', 'Y11', 'Y12', 'Y13', 'Y14', 'Y15', 'Y16', 'Y17', "
          ],
          "name": "stdout"
        }
      ]
    },
    {
      "cell_type": "code",
      "metadata": {
        "id": "Qz9vMJJ-eHFO",
        "colab_type": "code",
        "colab": {}
      },
      "source": [
        "temp = 'X13, X15, X17, X25, X35'\n",
        "for i in temp.split(', '):\n",
        "    print(\"'{}',\".format(i), end=' ')"
      ],
      "execution_count": 0,
      "outputs": []
    }
  ]
}