{
  "nbformat": 4,
  "nbformat_minor": 0,
  "metadata": {
    "colab": {
      "name": "eda.ipynb",
      "provenance": [],
      "collapsed_sections": [],
      "toc_visible": true
    },
    "kernelspec": {
      "name": "python3",
      "display_name": "Python 3"
    }
  },
  "cells": [
    {
      "cell_type": "code",
      "metadata": {
        "id": "7ASe8u1m4F13",
        "colab_type": "code",
        "colab": {}
      },
      "source": [
        "import numpy as np \n",
        "import pandas as pd\n",
        "import matplotlib.pyplot as plt\n",
        "import seaborn as sns"
      ],
      "execution_count": 0,
      "outputs": []
    },
    {
      "cell_type": "markdown",
      "metadata": {
        "id": "GnzbKvgWkMry",
        "colab_type": "text"
      },
      "source": [
        "# 0 한글 폰트"
      ]
    },
    {
      "cell_type": "code",
      "metadata": {
        "id": "C6K3dLGCcJly",
        "colab_type": "code",
        "outputId": "41797e3b-78e2-4604-9fce-e88566757f6a",
        "colab": {
          "base_uri": "https://localhost:8080/",
          "height": 278
        }
      },
      "source": [
        "!wget \"https://noto-website-2.storage.googleapis.com/pkgs/NotoSansCJKkr-hinted.zip\"\n",
        "!unzip \"NotoSansCJKkr-hinted.zip\""
      ],
      "execution_count": 0,
      "outputs": [
        {
          "output_type": "stream",
          "text": [
            "--2020-03-09 18:28:14--  https://noto-website-2.storage.googleapis.com/pkgs/NotoSansCJKkr-hinted.zip\n",
            "Resolving noto-website-2.storage.googleapis.com (noto-website-2.storage.googleapis.com)... 64.233.189.128, 2404:6800:4008:c07::80\n",
            "Connecting to noto-website-2.storage.googleapis.com (noto-website-2.storage.googleapis.com)|64.233.189.128|:443... connected.\n",
            "HTTP request sent, awaiting response... 200 OK\n",
            "Length: 121163981 (116M) [application/zip]\n",
            "Saving to: ‘NotoSansCJKkr-hinted.zip.1’\n",
            "\n",
            "NotoSansCJKkr-hinte 100%[===================>] 115.55M  30.4MB/s    in 3.8s    \n",
            "\n",
            "2020-03-09 18:28:18 (30.4 MB/s) - ‘NotoSansCJKkr-hinted.zip.1’ saved [121163981/121163981]\n",
            "\n",
            "Archive:  NotoSansCJKkr-hinted.zip\n",
            "replace LICENSE_OFL.txt? [y]es, [n]o, [A]ll, [N]one, [r]ename: n\n",
            "replace NotoSansCJKkr-Black.otf? [y]es, [n]o, [A]ll, [N]one, [r]ename: N\n",
            "  inflating: NotoSansCJKkr-Medium.otf  \n"
          ],
          "name": "stdout"
        }
      ]
    },
    {
      "cell_type": "code",
      "metadata": {
        "id": "fzQ6HS3Ne5dn",
        "colab_type": "code",
        "colab": {}
      },
      "source": [
        "!mv NotoSansCJKkr-Medium.otf /usr/share/fonts/truetype/"
      ],
      "execution_count": 0,
      "outputs": []
    },
    {
      "cell_type": "code",
      "metadata": {
        "id": "0YfjC4ZHe62p",
        "colab_type": "code",
        "colab": {}
      },
      "source": [
        "import matplotlib.pyplot as plt\n",
        "import matplotlib.font_manager as fm\n",
        "\n",
        "font_dirs = ['/usr/share/fonts/truetype']\n",
        "font_files = fm.findSystemFonts(fontpaths=font_dirs)\n",
        "font_list = fm.createFontList(font_files)\n",
        "fm.fontManager.ttflist.extend(font_list)\n",
        "plt.rcParams['font.family'] = \"Noto Sans CJK KR\""
      ],
      "execution_count": 0,
      "outputs": []
    },
    {
      "cell_type": "markdown",
      "metadata": {
        "id": "wM7X5C35N-4n",
        "colab_type": "text"
      },
      "source": [
        "# 1. 데이터 읽기 "
      ]
    },
    {
      "cell_type": "markdown",
      "metadata": {
        "id": "1CatWTjLPg_Q",
        "colab_type": "text"
      },
      "source": [
        "Contents of the Notebook:\n",
        "Part1: Exploratory Data Analysis(EDA):\n",
        "\n",
        "1)Analysis of the features.\n",
        "\n",
        "2)Finding any relations or trends considering multiple features.\n",
        "Part2: Feature Engineering and Data Cleaning:\n",
        "\n",
        "1)Adding any few features.\n",
        "\n",
        "2)Removing redundant features.\n",
        "\n",
        "3)Converting features into suitable form for modeling.\n",
        "Part3: Predictive Modeling\n",
        "\n",
        "1)Running Basic Algorithms.\n",
        "\n",
        "2)Cross Validation.\n",
        "\n",
        "3)Ensembling.\n",
        "\n",
        "4)Important Features Extraction"
      ]
    },
    {
      "cell_type": "markdown",
      "metadata": {
        "id": "PSHLZvJmcPRs",
        "colab_type": "text"
      },
      "source": [
        "# 1. 데이터 불러오기"
      ]
    },
    {
      "cell_type": "code",
      "metadata": {
        "id": "4UP_N36kWbEw",
        "colab_type": "code",
        "outputId": "23d7eb2b-29ea-4c4f-9822-c2d04723795b",
        "colab": {
          "base_uri": "https://localhost:8080/",
          "height": 34
        }
      },
      "source": [
        "from google.colab import drive\n",
        "drive.mount('/content/drive')"
      ],
      "execution_count": 0,
      "outputs": [
        {
          "output_type": "stream",
          "text": [
            "Drive already mounted at /content/drive; to attempt to forcibly remount, call drive.mount(\"/content/drive\", force_remount=True).\n"
          ],
          "name": "stdout"
        }
      ]
    },
    {
      "cell_type": "code",
      "metadata": {
        "id": "8MOGX2r-bdaG",
        "colab_type": "code",
        "colab": {}
      },
      "source": [
        "data_dir = \"/content/drive/My Drive/\" + \"_data/data_dacon/temperature_forecasts/\""
      ],
      "execution_count": 0,
      "outputs": []
    },
    {
      "cell_type": "code",
      "metadata": {
        "id": "0Q_lQowbbf9h",
        "colab_type": "code",
        "outputId": "9caa2ce4-278f-4e43-89d2-6b792fee8485",
        "colab": {
          "base_uri": "https://localhost:8080/",
          "height": 34
        }
      },
      "source": [
        "df = pd.read_csv(data_dir+'train.csv')\n",
        "df.shape"
      ],
      "execution_count": 0,
      "outputs": [
        {
          "output_type": "execute_result",
          "data": {
            "text/plain": [
              "(4752, 60)"
            ]
          },
          "metadata": {
            "tags": []
          },
          "execution_count": 181
        }
      ]
    },
    {
      "cell_type": "markdown",
      "metadata": {
        "id": "Bo_lvrxI_-yr",
        "colab_type": "text"
      },
      "source": [
        "* 4320개(30일)\n",
        "* 432개(3일) "
      ]
    },
    {
      "cell_type": "markdown",
      "metadata": {
        "id": "yCOC3PZLSQnI",
        "colab_type": "text"
      },
      "source": [
        "# 2 데이터 살펴보기"
      ]
    },
    {
      "cell_type": "markdown",
      "metadata": {
        "id": "9k4dS_DVAL7j",
        "colab_type": "text"
      },
      "source": [
        "|-|30일(train)|3일(train)|80일(test)|\n",
        "|---|---|---|---|\n",
        "|Y18|NULL|432개|NULL|\n",
        "|Y00-Y17|4320개|NULL|NULL|\n",
        "|X00-X17|4320개|432개|11520개|"
      ]
    },
    {
      "cell_type": "code",
      "metadata": {
        "id": "sBmyVGEc_wo5",
        "colab_type": "code",
        "colab": {}
      },
      "source": [
        "n = 4320"
      ],
      "execution_count": 0,
      "outputs": []
    },
    {
      "cell_type": "markdown",
      "metadata": {
        "id": "F7LRE4dgT_zt",
        "colab_type": "text"
      },
      "source": [
        "## 데이터 보기"
      ]
    },
    {
      "cell_type": "code",
      "metadata": {
        "id": "__K-1Vii6ieo",
        "colab_type": "code",
        "outputId": "21ffd555-d847-4e27-828c-ce6c1bf0cd65",
        "colab": {
          "base_uri": "https://localhost:8080/",
          "height": 383
        }
      },
      "source": [
        "df.head(10)"
      ],
      "execution_count": 0,
      "outputs": [
        {
          "output_type": "execute_result",
          "data": {
            "text/html": [
              "<div>\n",
              "<style scoped>\n",
              "    .dataframe tbody tr th:only-of-type {\n",
              "        vertical-align: middle;\n",
              "    }\n",
              "\n",
              "    .dataframe tbody tr th {\n",
              "        vertical-align: top;\n",
              "    }\n",
              "\n",
              "    .dataframe thead th {\n",
              "        text-align: right;\n",
              "    }\n",
              "</style>\n",
              "<table border=\"1\" class=\"dataframe\">\n",
              "  <thead>\n",
              "    <tr style=\"text-align: right;\">\n",
              "      <th></th>\n",
              "      <th>id</th>\n",
              "      <th>X00</th>\n",
              "      <th>X01</th>\n",
              "      <th>X02</th>\n",
              "      <th>X03</th>\n",
              "      <th>X04</th>\n",
              "      <th>X05</th>\n",
              "      <th>X06</th>\n",
              "      <th>X07</th>\n",
              "      <th>X08</th>\n",
              "      <th>X09</th>\n",
              "      <th>X10</th>\n",
              "      <th>X11</th>\n",
              "      <th>X12</th>\n",
              "      <th>X13</th>\n",
              "      <th>X14</th>\n",
              "      <th>X15</th>\n",
              "      <th>X16</th>\n",
              "      <th>X17</th>\n",
              "      <th>X18</th>\n",
              "      <th>X19</th>\n",
              "      <th>X20</th>\n",
              "      <th>X21</th>\n",
              "      <th>X22</th>\n",
              "      <th>X23</th>\n",
              "      <th>X24</th>\n",
              "      <th>X25</th>\n",
              "      <th>X26</th>\n",
              "      <th>X27</th>\n",
              "      <th>X28</th>\n",
              "      <th>X29</th>\n",
              "      <th>X30</th>\n",
              "      <th>X31</th>\n",
              "      <th>X32</th>\n",
              "      <th>X33</th>\n",
              "      <th>X34</th>\n",
              "      <th>X35</th>\n",
              "      <th>X36</th>\n",
              "      <th>X37</th>\n",
              "      <th>X38</th>\n",
              "      <th>X39</th>\n",
              "      <th>Y00</th>\n",
              "      <th>Y01</th>\n",
              "      <th>Y02</th>\n",
              "      <th>Y03</th>\n",
              "      <th>Y04</th>\n",
              "      <th>Y05</th>\n",
              "      <th>Y06</th>\n",
              "      <th>Y07</th>\n",
              "      <th>Y08</th>\n",
              "      <th>Y09</th>\n",
              "      <th>Y10</th>\n",
              "      <th>Y11</th>\n",
              "      <th>Y12</th>\n",
              "      <th>Y13</th>\n",
              "      <th>Y14</th>\n",
              "      <th>Y15</th>\n",
              "      <th>Y16</th>\n",
              "      <th>Y17</th>\n",
              "      <th>Y18</th>\n",
              "    </tr>\n",
              "  </thead>\n",
              "  <tbody>\n",
              "    <tr>\n",
              "      <th>0</th>\n",
              "      <td>0</td>\n",
              "      <td>9.7</td>\n",
              "      <td>988.8</td>\n",
              "      <td>1.2</td>\n",
              "      <td>0.6</td>\n",
              "      <td>0.0</td>\n",
              "      <td>1009.3</td>\n",
              "      <td>989.6</td>\n",
              "      <td>12.2</td>\n",
              "      <td>1009.9</td>\n",
              "      <td>1009.8</td>\n",
              "      <td>0.0</td>\n",
              "      <td>0.0</td>\n",
              "      <td>82.4</td>\n",
              "      <td>71.3</td>\n",
              "      <td>0.0</td>\n",
              "      <td>101.1</td>\n",
              "      <td>0.0</td>\n",
              "      <td>56.1</td>\n",
              "      <td>0.3</td>\n",
              "      <td>0.0</td>\n",
              "      <td>91.0</td>\n",
              "      <td>0.0</td>\n",
              "      <td>1002.5</td>\n",
              "      <td>1009.8</td>\n",
              "      <td>1.1</td>\n",
              "      <td>2.3</td>\n",
              "      <td>0.5</td>\n",
              "      <td>1008.7</td>\n",
              "      <td>12.3</td>\n",
              "      <td>1001.6</td>\n",
              "      <td>69.1</td>\n",
              "      <td>8.2</td>\n",
              "      <td>10.7</td>\n",
              "      <td>1010.1</td>\n",
              "      <td>0.0</td>\n",
              "      <td>256.4</td>\n",
              "      <td>0.0</td>\n",
              "      <td>77.2</td>\n",
              "      <td>62.6</td>\n",
              "      <td>0.0</td>\n",
              "      <td>12.5</td>\n",
              "      <td>11.5</td>\n",
              "      <td>11.0</td>\n",
              "      <td>20.0</td>\n",
              "      <td>20.0</td>\n",
              "      <td>10.5</td>\n",
              "      <td>10.0</td>\n",
              "      <td>10.5</td>\n",
              "      <td>10.0</td>\n",
              "      <td>7.0</td>\n",
              "      <td>7.5</td>\n",
              "      <td>7.0</td>\n",
              "      <td>9.0</td>\n",
              "      <td>10.0</td>\n",
              "      <td>9.5</td>\n",
              "      <td>9.0</td>\n",
              "      <td>8.0</td>\n",
              "      <td>9.0</td>\n",
              "      <td>NaN</td>\n",
              "    </tr>\n",
              "    <tr>\n",
              "      <th>1</th>\n",
              "      <td>1</td>\n",
              "      <td>9.3</td>\n",
              "      <td>988.9</td>\n",
              "      <td>1.7</td>\n",
              "      <td>1.9</td>\n",
              "      <td>0.0</td>\n",
              "      <td>1009.3</td>\n",
              "      <td>989.6</td>\n",
              "      <td>12.1</td>\n",
              "      <td>1010.0</td>\n",
              "      <td>1009.9</td>\n",
              "      <td>0.0</td>\n",
              "      <td>0.0</td>\n",
              "      <td>81.2</td>\n",
              "      <td>121.8</td>\n",
              "      <td>0.0</td>\n",
              "      <td>165.3</td>\n",
              "      <td>0.0</td>\n",
              "      <td>0.0</td>\n",
              "      <td>0.4</td>\n",
              "      <td>0.0</td>\n",
              "      <td>91.9</td>\n",
              "      <td>0.0</td>\n",
              "      <td>1002.5</td>\n",
              "      <td>1009.9</td>\n",
              "      <td>0.0</td>\n",
              "      <td>0.0</td>\n",
              "      <td>0.0</td>\n",
              "      <td>1008.7</td>\n",
              "      <td>12.1</td>\n",
              "      <td>1001.7</td>\n",
              "      <td>70.3</td>\n",
              "      <td>8.3</td>\n",
              "      <td>10.3</td>\n",
              "      <td>1010.1</td>\n",
              "      <td>0.0</td>\n",
              "      <td>215.4</td>\n",
              "      <td>0.0</td>\n",
              "      <td>77.3</td>\n",
              "      <td>63.5</td>\n",
              "      <td>0.0</td>\n",
              "      <td>12.5</td>\n",
              "      <td>11.0</td>\n",
              "      <td>11.0</td>\n",
              "      <td>20.0</td>\n",
              "      <td>20.0</td>\n",
              "      <td>10.0</td>\n",
              "      <td>9.5</td>\n",
              "      <td>10.0</td>\n",
              "      <td>9.5</td>\n",
              "      <td>6.5</td>\n",
              "      <td>7.5</td>\n",
              "      <td>7.0</td>\n",
              "      <td>8.5</td>\n",
              "      <td>10.0</td>\n",
              "      <td>9.5</td>\n",
              "      <td>9.0</td>\n",
              "      <td>7.5</td>\n",
              "      <td>9.0</td>\n",
              "      <td>NaN</td>\n",
              "    </tr>\n",
              "    <tr>\n",
              "      <th>2</th>\n",
              "      <td>2</td>\n",
              "      <td>9.4</td>\n",
              "      <td>989.0</td>\n",
              "      <td>1.1</td>\n",
              "      <td>2.3</td>\n",
              "      <td>0.0</td>\n",
              "      <td>1009.2</td>\n",
              "      <td>989.7</td>\n",
              "      <td>12.1</td>\n",
              "      <td>1010.1</td>\n",
              "      <td>1010.1</td>\n",
              "      <td>0.0</td>\n",
              "      <td>0.0</td>\n",
              "      <td>86.1</td>\n",
              "      <td>232.0</td>\n",
              "      <td>0.0</td>\n",
              "      <td>144.0</td>\n",
              "      <td>0.0</td>\n",
              "      <td>0.0</td>\n",
              "      <td>0.6</td>\n",
              "      <td>0.0</td>\n",
              "      <td>93.3</td>\n",
              "      <td>0.0</td>\n",
              "      <td>1002.4</td>\n",
              "      <td>1009.8</td>\n",
              "      <td>0.0</td>\n",
              "      <td>0.0</td>\n",
              "      <td>0.0</td>\n",
              "      <td>1008.6</td>\n",
              "      <td>12.1</td>\n",
              "      <td>1001.6</td>\n",
              "      <td>71.5</td>\n",
              "      <td>8.0</td>\n",
              "      <td>9.7</td>\n",
              "      <td>1010.0</td>\n",
              "      <td>0.0</td>\n",
              "      <td>235.2</td>\n",
              "      <td>0.0</td>\n",
              "      <td>77.3</td>\n",
              "      <td>63.9</td>\n",
              "      <td>0.0</td>\n",
              "      <td>12.0</td>\n",
              "      <td>11.0</td>\n",
              "      <td>11.0</td>\n",
              "      <td>19.5</td>\n",
              "      <td>19.5</td>\n",
              "      <td>10.0</td>\n",
              "      <td>9.0</td>\n",
              "      <td>10.0</td>\n",
              "      <td>9.0</td>\n",
              "      <td>6.5</td>\n",
              "      <td>7.5</td>\n",
              "      <td>6.5</td>\n",
              "      <td>8.0</td>\n",
              "      <td>9.5</td>\n",
              "      <td>9.5</td>\n",
              "      <td>8.5</td>\n",
              "      <td>7.5</td>\n",
              "      <td>8.5</td>\n",
              "      <td>NaN</td>\n",
              "    </tr>\n",
              "    <tr>\n",
              "      <th>3</th>\n",
              "      <td>3</td>\n",
              "      <td>9.4</td>\n",
              "      <td>988.9</td>\n",
              "      <td>1.5</td>\n",
              "      <td>0.7</td>\n",
              "      <td>0.0</td>\n",
              "      <td>1009.2</td>\n",
              "      <td>989.6</td>\n",
              "      <td>12.0</td>\n",
              "      <td>1010.0</td>\n",
              "      <td>1010.0</td>\n",
              "      <td>0.0</td>\n",
              "      <td>0.0</td>\n",
              "      <td>87.7</td>\n",
              "      <td>0.0</td>\n",
              "      <td>0.0</td>\n",
              "      <td>115.9</td>\n",
              "      <td>0.0</td>\n",
              "      <td>294.1</td>\n",
              "      <td>0.1</td>\n",
              "      <td>0.0</td>\n",
              "      <td>93.4</td>\n",
              "      <td>0.0</td>\n",
              "      <td>1002.4</td>\n",
              "      <td>1009.7</td>\n",
              "      <td>0.0</td>\n",
              "      <td>0.0</td>\n",
              "      <td>0.2</td>\n",
              "      <td>1008.7</td>\n",
              "      <td>12.1</td>\n",
              "      <td>1001.5</td>\n",
              "      <td>73.2</td>\n",
              "      <td>7.7</td>\n",
              "      <td>9.4</td>\n",
              "      <td>1010.1</td>\n",
              "      <td>0.0</td>\n",
              "      <td>214.0</td>\n",
              "      <td>0.0</td>\n",
              "      <td>77.5</td>\n",
              "      <td>64.5</td>\n",
              "      <td>0.0</td>\n",
              "      <td>12.0</td>\n",
              "      <td>11.0</td>\n",
              "      <td>11.0</td>\n",
              "      <td>19.5</td>\n",
              "      <td>19.5</td>\n",
              "      <td>9.5</td>\n",
              "      <td>9.0</td>\n",
              "      <td>9.5</td>\n",
              "      <td>9.0</td>\n",
              "      <td>6.0</td>\n",
              "      <td>7.0</td>\n",
              "      <td>6.0</td>\n",
              "      <td>8.0</td>\n",
              "      <td>9.5</td>\n",
              "      <td>9.0</td>\n",
              "      <td>8.5</td>\n",
              "      <td>7.5</td>\n",
              "      <td>8.5</td>\n",
              "      <td>NaN</td>\n",
              "    </tr>\n",
              "    <tr>\n",
              "      <th>4</th>\n",
              "      <td>4</td>\n",
              "      <td>9.2</td>\n",
              "      <td>988.9</td>\n",
              "      <td>0.8</td>\n",
              "      <td>1.7</td>\n",
              "      <td>0.0</td>\n",
              "      <td>1009.2</td>\n",
              "      <td>989.7</td>\n",
              "      <td>12.0</td>\n",
              "      <td>1010.1</td>\n",
              "      <td>1010.0</td>\n",
              "      <td>0.0</td>\n",
              "      <td>0.0</td>\n",
              "      <td>88.9</td>\n",
              "      <td>0.0</td>\n",
              "      <td>0.0</td>\n",
              "      <td>124.7</td>\n",
              "      <td>0.0</td>\n",
              "      <td>0.0</td>\n",
              "      <td>0.0</td>\n",
              "      <td>0.0</td>\n",
              "      <td>94.1</td>\n",
              "      <td>0.0</td>\n",
              "      <td>1002.4</td>\n",
              "      <td>1009.7</td>\n",
              "      <td>0.0</td>\n",
              "      <td>0.0</td>\n",
              "      <td>0.0</td>\n",
              "      <td>1008.7</td>\n",
              "      <td>12.0</td>\n",
              "      <td>1001.5</td>\n",
              "      <td>74.3</td>\n",
              "      <td>7.4</td>\n",
              "      <td>9.4</td>\n",
              "      <td>1010.1</td>\n",
              "      <td>0.0</td>\n",
              "      <td>174.9</td>\n",
              "      <td>0.0</td>\n",
              "      <td>78.0</td>\n",
              "      <td>65.0</td>\n",
              "      <td>0.0</td>\n",
              "      <td>12.0</td>\n",
              "      <td>10.5</td>\n",
              "      <td>10.5</td>\n",
              "      <td>19.0</td>\n",
              "      <td>19.5</td>\n",
              "      <td>9.5</td>\n",
              "      <td>8.5</td>\n",
              "      <td>9.5</td>\n",
              "      <td>8.5</td>\n",
              "      <td>6.0</td>\n",
              "      <td>7.0</td>\n",
              "      <td>6.0</td>\n",
              "      <td>7.5</td>\n",
              "      <td>9.5</td>\n",
              "      <td>9.0</td>\n",
              "      <td>8.5</td>\n",
              "      <td>7.5</td>\n",
              "      <td>8.5</td>\n",
              "      <td>NaN</td>\n",
              "    </tr>\n",
              "    <tr>\n",
              "      <th>5</th>\n",
              "      <td>5</td>\n",
              "      <td>9.1</td>\n",
              "      <td>988.9</td>\n",
              "      <td>1.3</td>\n",
              "      <td>0.7</td>\n",
              "      <td>0.0</td>\n",
              "      <td>1009.1</td>\n",
              "      <td>989.6</td>\n",
              "      <td>12.0</td>\n",
              "      <td>1010.0</td>\n",
              "      <td>1010.0</td>\n",
              "      <td>0.0</td>\n",
              "      <td>0.0</td>\n",
              "      <td>90.7</td>\n",
              "      <td>222.0</td>\n",
              "      <td>0.0</td>\n",
              "      <td>174.2</td>\n",
              "      <td>0.0</td>\n",
              "      <td>0.0</td>\n",
              "      <td>0.2</td>\n",
              "      <td>0.0</td>\n",
              "      <td>94.6</td>\n",
              "      <td>0.0</td>\n",
              "      <td>1002.3</td>\n",
              "      <td>1009.7</td>\n",
              "      <td>0.0</td>\n",
              "      <td>0.0</td>\n",
              "      <td>0.0</td>\n",
              "      <td>1008.7</td>\n",
              "      <td>12.0</td>\n",
              "      <td>1001.5</td>\n",
              "      <td>75.7</td>\n",
              "      <td>7.3</td>\n",
              "      <td>9.1</td>\n",
              "      <td>1010.1</td>\n",
              "      <td>0.0</td>\n",
              "      <td>243.1</td>\n",
              "      <td>0.0</td>\n",
              "      <td>78.7</td>\n",
              "      <td>65.1</td>\n",
              "      <td>0.0</td>\n",
              "      <td>12.0</td>\n",
              "      <td>10.5</td>\n",
              "      <td>10.5</td>\n",
              "      <td>19.0</td>\n",
              "      <td>19.0</td>\n",
              "      <td>9.5</td>\n",
              "      <td>8.5</td>\n",
              "      <td>9.5</td>\n",
              "      <td>8.5</td>\n",
              "      <td>6.0</td>\n",
              "      <td>7.0</td>\n",
              "      <td>6.0</td>\n",
              "      <td>7.5</td>\n",
              "      <td>9.0</td>\n",
              "      <td>9.0</td>\n",
              "      <td>8.5</td>\n",
              "      <td>7.0</td>\n",
              "      <td>8.5</td>\n",
              "      <td>NaN</td>\n",
              "    </tr>\n",
              "    <tr>\n",
              "      <th>6</th>\n",
              "      <td>6</td>\n",
              "      <td>9.1</td>\n",
              "      <td>988.8</td>\n",
              "      <td>2.4</td>\n",
              "      <td>1.9</td>\n",
              "      <td>0.0</td>\n",
              "      <td>1009.1</td>\n",
              "      <td>989.6</td>\n",
              "      <td>12.0</td>\n",
              "      <td>1010.1</td>\n",
              "      <td>1010.0</td>\n",
              "      <td>0.0</td>\n",
              "      <td>0.0</td>\n",
              "      <td>90.2</td>\n",
              "      <td>257.8</td>\n",
              "      <td>0.0</td>\n",
              "      <td>168.9</td>\n",
              "      <td>0.0</td>\n",
              "      <td>0.0</td>\n",
              "      <td>0.3</td>\n",
              "      <td>0.0</td>\n",
              "      <td>94.9</td>\n",
              "      <td>0.0</td>\n",
              "      <td>1002.3</td>\n",
              "      <td>1009.6</td>\n",
              "      <td>0.0</td>\n",
              "      <td>0.0</td>\n",
              "      <td>0.0</td>\n",
              "      <td>1008.7</td>\n",
              "      <td>11.8</td>\n",
              "      <td>1001.4</td>\n",
              "      <td>79.0</td>\n",
              "      <td>7.1</td>\n",
              "      <td>8.6</td>\n",
              "      <td>1010.1</td>\n",
              "      <td>0.0</td>\n",
              "      <td>195.8</td>\n",
              "      <td>0.0</td>\n",
              "      <td>78.6</td>\n",
              "      <td>65.5</td>\n",
              "      <td>0.0</td>\n",
              "      <td>12.0</td>\n",
              "      <td>10.0</td>\n",
              "      <td>10.0</td>\n",
              "      <td>19.0</td>\n",
              "      <td>19.0</td>\n",
              "      <td>9.0</td>\n",
              "      <td>8.0</td>\n",
              "      <td>9.0</td>\n",
              "      <td>8.5</td>\n",
              "      <td>5.5</td>\n",
              "      <td>6.5</td>\n",
              "      <td>5.5</td>\n",
              "      <td>7.5</td>\n",
              "      <td>9.0</td>\n",
              "      <td>8.5</td>\n",
              "      <td>8.0</td>\n",
              "      <td>7.0</td>\n",
              "      <td>8.0</td>\n",
              "      <td>NaN</td>\n",
              "    </tr>\n",
              "    <tr>\n",
              "      <th>7</th>\n",
              "      <td>7</td>\n",
              "      <td>8.9</td>\n",
              "      <td>988.9</td>\n",
              "      <td>1.0</td>\n",
              "      <td>1.2</td>\n",
              "      <td>0.0</td>\n",
              "      <td>1009.2</td>\n",
              "      <td>989.7</td>\n",
              "      <td>11.9</td>\n",
              "      <td>1010.1</td>\n",
              "      <td>1010.1</td>\n",
              "      <td>0.0</td>\n",
              "      <td>0.0</td>\n",
              "      <td>91.9</td>\n",
              "      <td>226.4</td>\n",
              "      <td>0.0</td>\n",
              "      <td>112.8</td>\n",
              "      <td>0.0</td>\n",
              "      <td>0.0</td>\n",
              "      <td>0.4</td>\n",
              "      <td>0.0</td>\n",
              "      <td>95.0</td>\n",
              "      <td>0.0</td>\n",
              "      <td>1002.4</td>\n",
              "      <td>1009.7</td>\n",
              "      <td>0.0</td>\n",
              "      <td>0.0</td>\n",
              "      <td>0.0</td>\n",
              "      <td>1008.7</td>\n",
              "      <td>11.8</td>\n",
              "      <td>1001.5</td>\n",
              "      <td>78.2</td>\n",
              "      <td>7.1</td>\n",
              "      <td>8.8</td>\n",
              "      <td>1010.1</td>\n",
              "      <td>0.0</td>\n",
              "      <td>262.7</td>\n",
              "      <td>0.0</td>\n",
              "      <td>78.6</td>\n",
              "      <td>65.7</td>\n",
              "      <td>0.0</td>\n",
              "      <td>12.0</td>\n",
              "      <td>10.0</td>\n",
              "      <td>10.0</td>\n",
              "      <td>19.0</td>\n",
              "      <td>19.0</td>\n",
              "      <td>9.0</td>\n",
              "      <td>8.0</td>\n",
              "      <td>9.0</td>\n",
              "      <td>8.5</td>\n",
              "      <td>5.5</td>\n",
              "      <td>6.0</td>\n",
              "      <td>5.5</td>\n",
              "      <td>7.5</td>\n",
              "      <td>9.0</td>\n",
              "      <td>8.5</td>\n",
              "      <td>8.0</td>\n",
              "      <td>7.0</td>\n",
              "      <td>8.0</td>\n",
              "      <td>NaN</td>\n",
              "    </tr>\n",
              "    <tr>\n",
              "      <th>8</th>\n",
              "      <td>8</td>\n",
              "      <td>9.0</td>\n",
              "      <td>988.9</td>\n",
              "      <td>1.5</td>\n",
              "      <td>0.1</td>\n",
              "      <td>0.0</td>\n",
              "      <td>1009.2</td>\n",
              "      <td>989.6</td>\n",
              "      <td>11.9</td>\n",
              "      <td>1010.0</td>\n",
              "      <td>1010.1</td>\n",
              "      <td>0.0</td>\n",
              "      <td>0.0</td>\n",
              "      <td>92.2</td>\n",
              "      <td>215.0</td>\n",
              "      <td>0.0</td>\n",
              "      <td>157.4</td>\n",
              "      <td>0.0</td>\n",
              "      <td>0.0</td>\n",
              "      <td>0.6</td>\n",
              "      <td>0.0</td>\n",
              "      <td>95.5</td>\n",
              "      <td>0.0</td>\n",
              "      <td>1002.4</td>\n",
              "      <td>1009.7</td>\n",
              "      <td>0.0</td>\n",
              "      <td>0.0</td>\n",
              "      <td>0.0</td>\n",
              "      <td>1008.7</td>\n",
              "      <td>11.6</td>\n",
              "      <td>1001.5</td>\n",
              "      <td>77.5</td>\n",
              "      <td>7.0</td>\n",
              "      <td>8.8</td>\n",
              "      <td>1010.1</td>\n",
              "      <td>0.0</td>\n",
              "      <td>236.1</td>\n",
              "      <td>0.0</td>\n",
              "      <td>78.8</td>\n",
              "      <td>66.5</td>\n",
              "      <td>0.0</td>\n",
              "      <td>12.0</td>\n",
              "      <td>10.0</td>\n",
              "      <td>10.0</td>\n",
              "      <td>19.0</td>\n",
              "      <td>19.0</td>\n",
              "      <td>9.0</td>\n",
              "      <td>8.0</td>\n",
              "      <td>9.0</td>\n",
              "      <td>8.0</td>\n",
              "      <td>5.0</td>\n",
              "      <td>6.0</td>\n",
              "      <td>5.0</td>\n",
              "      <td>7.0</td>\n",
              "      <td>9.0</td>\n",
              "      <td>8.5</td>\n",
              "      <td>8.0</td>\n",
              "      <td>7.0</td>\n",
              "      <td>8.0</td>\n",
              "      <td>NaN</td>\n",
              "    </tr>\n",
              "    <tr>\n",
              "      <th>9</th>\n",
              "      <td>9</td>\n",
              "      <td>8.8</td>\n",
              "      <td>988.9</td>\n",
              "      <td>1.4</td>\n",
              "      <td>0.4</td>\n",
              "      <td>0.0</td>\n",
              "      <td>1009.4</td>\n",
              "      <td>989.6</td>\n",
              "      <td>11.8</td>\n",
              "      <td>1010.1</td>\n",
              "      <td>1010.1</td>\n",
              "      <td>0.0</td>\n",
              "      <td>0.0</td>\n",
              "      <td>92.7</td>\n",
              "      <td>214.4</td>\n",
              "      <td>0.0</td>\n",
              "      <td>134.0</td>\n",
              "      <td>0.0</td>\n",
              "      <td>0.0</td>\n",
              "      <td>0.6</td>\n",
              "      <td>0.0</td>\n",
              "      <td>95.6</td>\n",
              "      <td>0.0</td>\n",
              "      <td>1002.5</td>\n",
              "      <td>1009.7</td>\n",
              "      <td>0.0</td>\n",
              "      <td>0.0</td>\n",
              "      <td>0.0</td>\n",
              "      <td>1008.6</td>\n",
              "      <td>11.5</td>\n",
              "      <td>1001.5</td>\n",
              "      <td>79.3</td>\n",
              "      <td>7.1</td>\n",
              "      <td>8.5</td>\n",
              "      <td>1010.0</td>\n",
              "      <td>0.0</td>\n",
              "      <td>230.9</td>\n",
              "      <td>0.0</td>\n",
              "      <td>78.8</td>\n",
              "      <td>67.6</td>\n",
              "      <td>0.0</td>\n",
              "      <td>12.0</td>\n",
              "      <td>10.0</td>\n",
              "      <td>9.5</td>\n",
              "      <td>18.5</td>\n",
              "      <td>18.5</td>\n",
              "      <td>9.0</td>\n",
              "      <td>8.0</td>\n",
              "      <td>9.0</td>\n",
              "      <td>8.0</td>\n",
              "      <td>4.5</td>\n",
              "      <td>5.5</td>\n",
              "      <td>5.0</td>\n",
              "      <td>7.0</td>\n",
              "      <td>8.5</td>\n",
              "      <td>8.5</td>\n",
              "      <td>8.0</td>\n",
              "      <td>7.0</td>\n",
              "      <td>8.0</td>\n",
              "      <td>NaN</td>\n",
              "    </tr>\n",
              "  </tbody>\n",
              "</table>\n",
              "</div>"
            ],
            "text/plain": [
              "   id  X00    X01  X02  X03  X04     X05  ...  Y12   Y13  Y14  Y15  Y16  Y17  Y18\n",
              "0   0  9.7  988.8  1.2  0.6  0.0  1009.3  ...  9.0  10.0  9.5  9.0  8.0  9.0  NaN\n",
              "1   1  9.3  988.9  1.7  1.9  0.0  1009.3  ...  8.5  10.0  9.5  9.0  7.5  9.0  NaN\n",
              "2   2  9.4  989.0  1.1  2.3  0.0  1009.2  ...  8.0   9.5  9.5  8.5  7.5  8.5  NaN\n",
              "3   3  9.4  988.9  1.5  0.7  0.0  1009.2  ...  8.0   9.5  9.0  8.5  7.5  8.5  NaN\n",
              "4   4  9.2  988.9  0.8  1.7  0.0  1009.2  ...  7.5   9.5  9.0  8.5  7.5  8.5  NaN\n",
              "5   5  9.1  988.9  1.3  0.7  0.0  1009.1  ...  7.5   9.0  9.0  8.5  7.0  8.5  NaN\n",
              "6   6  9.1  988.8  2.4  1.9  0.0  1009.1  ...  7.5   9.0  8.5  8.0  7.0  8.0  NaN\n",
              "7   7  8.9  988.9  1.0  1.2  0.0  1009.2  ...  7.5   9.0  8.5  8.0  7.0  8.0  NaN\n",
              "8   8  9.0  988.9  1.5  0.1  0.0  1009.2  ...  7.0   9.0  8.5  8.0  7.0  8.0  NaN\n",
              "9   9  8.8  988.9  1.4  0.4  0.0  1009.4  ...  7.0   8.5  8.5  8.0  7.0  8.0  NaN\n",
              "\n",
              "[10 rows x 60 columns]"
            ]
          },
          "metadata": {
            "tags": []
          },
          "execution_count": 183
        }
      ]
    },
    {
      "cell_type": "code",
      "metadata": {
        "id": "wHzWFEyyQD5W",
        "colab_type": "code",
        "outputId": "be2fa6fa-59a7-4764-ad61-0a5f874f5cec",
        "colab": {
          "base_uri": "https://localhost:8080/",
          "height": 383
        }
      },
      "source": [
        "df.tail(10)"
      ],
      "execution_count": 0,
      "outputs": [
        {
          "output_type": "execute_result",
          "data": {
            "text/html": [
              "<div>\n",
              "<style scoped>\n",
              "    .dataframe tbody tr th:only-of-type {\n",
              "        vertical-align: middle;\n",
              "    }\n",
              "\n",
              "    .dataframe tbody tr th {\n",
              "        vertical-align: top;\n",
              "    }\n",
              "\n",
              "    .dataframe thead th {\n",
              "        text-align: right;\n",
              "    }\n",
              "</style>\n",
              "<table border=\"1\" class=\"dataframe\">\n",
              "  <thead>\n",
              "    <tr style=\"text-align: right;\">\n",
              "      <th></th>\n",
              "      <th>id</th>\n",
              "      <th>X00</th>\n",
              "      <th>X01</th>\n",
              "      <th>X02</th>\n",
              "      <th>X03</th>\n",
              "      <th>X04</th>\n",
              "      <th>X05</th>\n",
              "      <th>X06</th>\n",
              "      <th>X07</th>\n",
              "      <th>X08</th>\n",
              "      <th>X09</th>\n",
              "      <th>X10</th>\n",
              "      <th>X11</th>\n",
              "      <th>X12</th>\n",
              "      <th>X13</th>\n",
              "      <th>X14</th>\n",
              "      <th>X15</th>\n",
              "      <th>X16</th>\n",
              "      <th>X17</th>\n",
              "      <th>X18</th>\n",
              "      <th>X19</th>\n",
              "      <th>X20</th>\n",
              "      <th>X21</th>\n",
              "      <th>X22</th>\n",
              "      <th>X23</th>\n",
              "      <th>X24</th>\n",
              "      <th>X25</th>\n",
              "      <th>X26</th>\n",
              "      <th>X27</th>\n",
              "      <th>X28</th>\n",
              "      <th>X29</th>\n",
              "      <th>X30</th>\n",
              "      <th>X31</th>\n",
              "      <th>X32</th>\n",
              "      <th>X33</th>\n",
              "      <th>X34</th>\n",
              "      <th>X35</th>\n",
              "      <th>X36</th>\n",
              "      <th>X37</th>\n",
              "      <th>X38</th>\n",
              "      <th>X39</th>\n",
              "      <th>Y00</th>\n",
              "      <th>Y01</th>\n",
              "      <th>Y02</th>\n",
              "      <th>Y03</th>\n",
              "      <th>Y04</th>\n",
              "      <th>Y05</th>\n",
              "      <th>Y06</th>\n",
              "      <th>Y07</th>\n",
              "      <th>Y08</th>\n",
              "      <th>Y09</th>\n",
              "      <th>Y10</th>\n",
              "      <th>Y11</th>\n",
              "      <th>Y12</th>\n",
              "      <th>Y13</th>\n",
              "      <th>Y14</th>\n",
              "      <th>Y15</th>\n",
              "      <th>Y16</th>\n",
              "      <th>Y17</th>\n",
              "      <th>Y18</th>\n",
              "    </tr>\n",
              "  </thead>\n",
              "  <tbody>\n",
              "    <tr>\n",
              "      <th>4742</th>\n",
              "      <td>4742</td>\n",
              "      <td>20.9</td>\n",
              "      <td>987.7</td>\n",
              "      <td>0.2</td>\n",
              "      <td>2.0</td>\n",
              "      <td>0.0</td>\n",
              "      <td>1006.6</td>\n",
              "      <td>987.8</td>\n",
              "      <td>22.2</td>\n",
              "      <td>1007.7</td>\n",
              "      <td>1007.4</td>\n",
              "      <td>2.5</td>\n",
              "      <td>23.88</td>\n",
              "      <td>93.6</td>\n",
              "      <td>29.2</td>\n",
              "      <td>0.0</td>\n",
              "      <td>201.1</td>\n",
              "      <td>0.0</td>\n",
              "      <td>168.1</td>\n",
              "      <td>0.9</td>\n",
              "      <td>0.0</td>\n",
              "      <td>86.8</td>\n",
              "      <td>10.5</td>\n",
              "      <td>1000.1</td>\n",
              "      <td>1007.6</td>\n",
              "      <td>0.4</td>\n",
              "      <td>271.0</td>\n",
              "      <td>1.4</td>\n",
              "      <td>1006.0</td>\n",
              "      <td>24.5</td>\n",
              "      <td>999.6</td>\n",
              "      <td>89.2</td>\n",
              "      <td>18.5</td>\n",
              "      <td>19.6</td>\n",
              "      <td>1007.6</td>\n",
              "      <td>22.16</td>\n",
              "      <td>152.3</td>\n",
              "      <td>0.0</td>\n",
              "      <td>79.0</td>\n",
              "      <td>56.0</td>\n",
              "      <td>0.5</td>\n",
              "      <td>NaN</td>\n",
              "      <td>NaN</td>\n",
              "      <td>NaN</td>\n",
              "      <td>NaN</td>\n",
              "      <td>NaN</td>\n",
              "      <td>NaN</td>\n",
              "      <td>NaN</td>\n",
              "      <td>NaN</td>\n",
              "      <td>NaN</td>\n",
              "      <td>NaN</td>\n",
              "      <td>NaN</td>\n",
              "      <td>NaN</td>\n",
              "      <td>NaN</td>\n",
              "      <td>NaN</td>\n",
              "      <td>NaN</td>\n",
              "      <td>NaN</td>\n",
              "      <td>NaN</td>\n",
              "      <td>NaN</td>\n",
              "      <td>22.5</td>\n",
              "    </tr>\n",
              "    <tr>\n",
              "      <th>4743</th>\n",
              "      <td>4743</td>\n",
              "      <td>20.8</td>\n",
              "      <td>987.6</td>\n",
              "      <td>2.6</td>\n",
              "      <td>2.0</td>\n",
              "      <td>0.0</td>\n",
              "      <td>1006.8</td>\n",
              "      <td>987.6</td>\n",
              "      <td>22.0</td>\n",
              "      <td>1007.3</td>\n",
              "      <td>1007.3</td>\n",
              "      <td>2.5</td>\n",
              "      <td>23.88</td>\n",
              "      <td>94.0</td>\n",
              "      <td>14.8</td>\n",
              "      <td>0.0</td>\n",
              "      <td>135.6</td>\n",
              "      <td>0.0</td>\n",
              "      <td>148.7</td>\n",
              "      <td>1.3</td>\n",
              "      <td>0.0</td>\n",
              "      <td>87.1</td>\n",
              "      <td>10.5</td>\n",
              "      <td>1000.3</td>\n",
              "      <td>1007.4</td>\n",
              "      <td>0.0</td>\n",
              "      <td>0.0</td>\n",
              "      <td>1.2</td>\n",
              "      <td>1006.0</td>\n",
              "      <td>24.2</td>\n",
              "      <td>999.4</td>\n",
              "      <td>88.8</td>\n",
              "      <td>18.2</td>\n",
              "      <td>19.5</td>\n",
              "      <td>1007.6</td>\n",
              "      <td>22.16</td>\n",
              "      <td>147.4</td>\n",
              "      <td>0.0</td>\n",
              "      <td>79.4</td>\n",
              "      <td>56.5</td>\n",
              "      <td>0.5</td>\n",
              "      <td>NaN</td>\n",
              "      <td>NaN</td>\n",
              "      <td>NaN</td>\n",
              "      <td>NaN</td>\n",
              "      <td>NaN</td>\n",
              "      <td>NaN</td>\n",
              "      <td>NaN</td>\n",
              "      <td>NaN</td>\n",
              "      <td>NaN</td>\n",
              "      <td>NaN</td>\n",
              "      <td>NaN</td>\n",
              "      <td>NaN</td>\n",
              "      <td>NaN</td>\n",
              "      <td>NaN</td>\n",
              "      <td>NaN</td>\n",
              "      <td>NaN</td>\n",
              "      <td>NaN</td>\n",
              "      <td>NaN</td>\n",
              "      <td>22.0</td>\n",
              "    </tr>\n",
              "    <tr>\n",
              "      <th>4744</th>\n",
              "      <td>4744</td>\n",
              "      <td>20.5</td>\n",
              "      <td>987.7</td>\n",
              "      <td>1.1</td>\n",
              "      <td>2.0</td>\n",
              "      <td>0.0</td>\n",
              "      <td>1006.8</td>\n",
              "      <td>987.8</td>\n",
              "      <td>21.9</td>\n",
              "      <td>1007.7</td>\n",
              "      <td>1007.4</td>\n",
              "      <td>2.5</td>\n",
              "      <td>23.88</td>\n",
              "      <td>94.5</td>\n",
              "      <td>304.7</td>\n",
              "      <td>0.0</td>\n",
              "      <td>227.1</td>\n",
              "      <td>0.0</td>\n",
              "      <td>267.7</td>\n",
              "      <td>0.7</td>\n",
              "      <td>0.0</td>\n",
              "      <td>88.0</td>\n",
              "      <td>10.5</td>\n",
              "      <td>1000.3</td>\n",
              "      <td>1007.4</td>\n",
              "      <td>1.6</td>\n",
              "      <td>113.4</td>\n",
              "      <td>0.6</td>\n",
              "      <td>1006.1</td>\n",
              "      <td>24.3</td>\n",
              "      <td>999.4</td>\n",
              "      <td>89.7</td>\n",
              "      <td>18.0</td>\n",
              "      <td>19.7</td>\n",
              "      <td>1007.7</td>\n",
              "      <td>22.16</td>\n",
              "      <td>149.1</td>\n",
              "      <td>0.0</td>\n",
              "      <td>80.4</td>\n",
              "      <td>56.4</td>\n",
              "      <td>0.5</td>\n",
              "      <td>NaN</td>\n",
              "      <td>NaN</td>\n",
              "      <td>NaN</td>\n",
              "      <td>NaN</td>\n",
              "      <td>NaN</td>\n",
              "      <td>NaN</td>\n",
              "      <td>NaN</td>\n",
              "      <td>NaN</td>\n",
              "      <td>NaN</td>\n",
              "      <td>NaN</td>\n",
              "      <td>NaN</td>\n",
              "      <td>NaN</td>\n",
              "      <td>NaN</td>\n",
              "      <td>NaN</td>\n",
              "      <td>NaN</td>\n",
              "      <td>NaN</td>\n",
              "      <td>NaN</td>\n",
              "      <td>NaN</td>\n",
              "      <td>22.0</td>\n",
              "    </tr>\n",
              "    <tr>\n",
              "      <th>4745</th>\n",
              "      <td>4745</td>\n",
              "      <td>20.2</td>\n",
              "      <td>987.8</td>\n",
              "      <td>1.1</td>\n",
              "      <td>1.6</td>\n",
              "      <td>0.0</td>\n",
              "      <td>1006.9</td>\n",
              "      <td>987.8</td>\n",
              "      <td>21.7</td>\n",
              "      <td>1007.7</td>\n",
              "      <td>1007.6</td>\n",
              "      <td>2.5</td>\n",
              "      <td>23.88</td>\n",
              "      <td>94.7</td>\n",
              "      <td>222.9</td>\n",
              "      <td>0.0</td>\n",
              "      <td>224.2</td>\n",
              "      <td>0.0</td>\n",
              "      <td>235.1</td>\n",
              "      <td>0.4</td>\n",
              "      <td>0.0</td>\n",
              "      <td>92.1</td>\n",
              "      <td>10.5</td>\n",
              "      <td>1000.4</td>\n",
              "      <td>1007.5</td>\n",
              "      <td>0.4</td>\n",
              "      <td>124.2</td>\n",
              "      <td>1.0</td>\n",
              "      <td>1006.1</td>\n",
              "      <td>24.2</td>\n",
              "      <td>999.4</td>\n",
              "      <td>88.6</td>\n",
              "      <td>17.8</td>\n",
              "      <td>19.6</td>\n",
              "      <td>1007.7</td>\n",
              "      <td>22.16</td>\n",
              "      <td>184.5</td>\n",
              "      <td>0.0</td>\n",
              "      <td>81.5</td>\n",
              "      <td>56.4</td>\n",
              "      <td>0.5</td>\n",
              "      <td>NaN</td>\n",
              "      <td>NaN</td>\n",
              "      <td>NaN</td>\n",
              "      <td>NaN</td>\n",
              "      <td>NaN</td>\n",
              "      <td>NaN</td>\n",
              "      <td>NaN</td>\n",
              "      <td>NaN</td>\n",
              "      <td>NaN</td>\n",
              "      <td>NaN</td>\n",
              "      <td>NaN</td>\n",
              "      <td>NaN</td>\n",
              "      <td>NaN</td>\n",
              "      <td>NaN</td>\n",
              "      <td>NaN</td>\n",
              "      <td>NaN</td>\n",
              "      <td>NaN</td>\n",
              "      <td>NaN</td>\n",
              "      <td>22.0</td>\n",
              "    </tr>\n",
              "    <tr>\n",
              "      <th>4746</th>\n",
              "      <td>4746</td>\n",
              "      <td>20.1</td>\n",
              "      <td>987.9</td>\n",
              "      <td>0.3</td>\n",
              "      <td>1.1</td>\n",
              "      <td>0.0</td>\n",
              "      <td>1006.9</td>\n",
              "      <td>987.7</td>\n",
              "      <td>21.7</td>\n",
              "      <td>1007.4</td>\n",
              "      <td>1007.7</td>\n",
              "      <td>2.5</td>\n",
              "      <td>23.88</td>\n",
              "      <td>95.2</td>\n",
              "      <td>298.4</td>\n",
              "      <td>0.0</td>\n",
              "      <td>234.9</td>\n",
              "      <td>0.0</td>\n",
              "      <td>240.1</td>\n",
              "      <td>0.9</td>\n",
              "      <td>0.0</td>\n",
              "      <td>90.8</td>\n",
              "      <td>10.5</td>\n",
              "      <td>1000.4</td>\n",
              "      <td>1007.5</td>\n",
              "      <td>0.0</td>\n",
              "      <td>0.0</td>\n",
              "      <td>1.3</td>\n",
              "      <td>1006.1</td>\n",
              "      <td>24.1</td>\n",
              "      <td>999.4</td>\n",
              "      <td>88.6</td>\n",
              "      <td>17.7</td>\n",
              "      <td>19.5</td>\n",
              "      <td>1007.7</td>\n",
              "      <td>22.16</td>\n",
              "      <td>215.2</td>\n",
              "      <td>0.0</td>\n",
              "      <td>82.1</td>\n",
              "      <td>56.9</td>\n",
              "      <td>0.5</td>\n",
              "      <td>NaN</td>\n",
              "      <td>NaN</td>\n",
              "      <td>NaN</td>\n",
              "      <td>NaN</td>\n",
              "      <td>NaN</td>\n",
              "      <td>NaN</td>\n",
              "      <td>NaN</td>\n",
              "      <td>NaN</td>\n",
              "      <td>NaN</td>\n",
              "      <td>NaN</td>\n",
              "      <td>NaN</td>\n",
              "      <td>NaN</td>\n",
              "      <td>NaN</td>\n",
              "      <td>NaN</td>\n",
              "      <td>NaN</td>\n",
              "      <td>NaN</td>\n",
              "      <td>NaN</td>\n",
              "      <td>NaN</td>\n",
              "      <td>22.0</td>\n",
              "    </tr>\n",
              "    <tr>\n",
              "      <th>4747</th>\n",
              "      <td>4747</td>\n",
              "      <td>19.9</td>\n",
              "      <td>987.6</td>\n",
              "      <td>0.9</td>\n",
              "      <td>0.8</td>\n",
              "      <td>0.0</td>\n",
              "      <td>1006.9</td>\n",
              "      <td>987.7</td>\n",
              "      <td>21.7</td>\n",
              "      <td>1007.5</td>\n",
              "      <td>1007.4</td>\n",
              "      <td>2.5</td>\n",
              "      <td>23.88</td>\n",
              "      <td>95.3</td>\n",
              "      <td>333.1</td>\n",
              "      <td>0.0</td>\n",
              "      <td>274.9</td>\n",
              "      <td>0.0</td>\n",
              "      <td>275.5</td>\n",
              "      <td>0.9</td>\n",
              "      <td>0.0</td>\n",
              "      <td>89.7</td>\n",
              "      <td>10.5</td>\n",
              "      <td>1000.4</td>\n",
              "      <td>1007.5</td>\n",
              "      <td>0.0</td>\n",
              "      <td>0.0</td>\n",
              "      <td>1.2</td>\n",
              "      <td>1006.0</td>\n",
              "      <td>23.8</td>\n",
              "      <td>999.4</td>\n",
              "      <td>89.9</td>\n",
              "      <td>17.7</td>\n",
              "      <td>19.1</td>\n",
              "      <td>1007.5</td>\n",
              "      <td>22.16</td>\n",
              "      <td>218.6</td>\n",
              "      <td>0.0</td>\n",
              "      <td>82.3</td>\n",
              "      <td>58.6</td>\n",
              "      <td>0.5</td>\n",
              "      <td>NaN</td>\n",
              "      <td>NaN</td>\n",
              "      <td>NaN</td>\n",
              "      <td>NaN</td>\n",
              "      <td>NaN</td>\n",
              "      <td>NaN</td>\n",
              "      <td>NaN</td>\n",
              "      <td>NaN</td>\n",
              "      <td>NaN</td>\n",
              "      <td>NaN</td>\n",
              "      <td>NaN</td>\n",
              "      <td>NaN</td>\n",
              "      <td>NaN</td>\n",
              "      <td>NaN</td>\n",
              "      <td>NaN</td>\n",
              "      <td>NaN</td>\n",
              "      <td>NaN</td>\n",
              "      <td>NaN</td>\n",
              "      <td>21.5</td>\n",
              "    </tr>\n",
              "    <tr>\n",
              "      <th>4748</th>\n",
              "      <td>4748</td>\n",
              "      <td>19.9</td>\n",
              "      <td>987.6</td>\n",
              "      <td>0.5</td>\n",
              "      <td>0.7</td>\n",
              "      <td>0.0</td>\n",
              "      <td>1006.8</td>\n",
              "      <td>987.7</td>\n",
              "      <td>21.6</td>\n",
              "      <td>1007.5</td>\n",
              "      <td>1007.4</td>\n",
              "      <td>2.5</td>\n",
              "      <td>23.88</td>\n",
              "      <td>95.6</td>\n",
              "      <td>216.4</td>\n",
              "      <td>0.0</td>\n",
              "      <td>277.3</td>\n",
              "      <td>0.0</td>\n",
              "      <td>247.0</td>\n",
              "      <td>1.0</td>\n",
              "      <td>0.0</td>\n",
              "      <td>90.1</td>\n",
              "      <td>10.5</td>\n",
              "      <td>1000.3</td>\n",
              "      <td>1007.5</td>\n",
              "      <td>0.0</td>\n",
              "      <td>0.0</td>\n",
              "      <td>1.3</td>\n",
              "      <td>1006.0</td>\n",
              "      <td>23.6</td>\n",
              "      <td>999.4</td>\n",
              "      <td>91.3</td>\n",
              "      <td>17.7</td>\n",
              "      <td>19.2</td>\n",
              "      <td>1007.5</td>\n",
              "      <td>22.16</td>\n",
              "      <td>161.7</td>\n",
              "      <td>0.0</td>\n",
              "      <td>82.5</td>\n",
              "      <td>59.1</td>\n",
              "      <td>0.5</td>\n",
              "      <td>NaN</td>\n",
              "      <td>NaN</td>\n",
              "      <td>NaN</td>\n",
              "      <td>NaN</td>\n",
              "      <td>NaN</td>\n",
              "      <td>NaN</td>\n",
              "      <td>NaN</td>\n",
              "      <td>NaN</td>\n",
              "      <td>NaN</td>\n",
              "      <td>NaN</td>\n",
              "      <td>NaN</td>\n",
              "      <td>NaN</td>\n",
              "      <td>NaN</td>\n",
              "      <td>NaN</td>\n",
              "      <td>NaN</td>\n",
              "      <td>NaN</td>\n",
              "      <td>NaN</td>\n",
              "      <td>NaN</td>\n",
              "      <td>21.5</td>\n",
              "    </tr>\n",
              "    <tr>\n",
              "      <th>4749</th>\n",
              "      <td>4749</td>\n",
              "      <td>19.7</td>\n",
              "      <td>987.7</td>\n",
              "      <td>0.9</td>\n",
              "      <td>0.6</td>\n",
              "      <td>0.0</td>\n",
              "      <td>1006.9</td>\n",
              "      <td>987.6</td>\n",
              "      <td>21.4</td>\n",
              "      <td>1007.4</td>\n",
              "      <td>1007.5</td>\n",
              "      <td>2.5</td>\n",
              "      <td>23.88</td>\n",
              "      <td>95.9</td>\n",
              "      <td>127.8</td>\n",
              "      <td>0.0</td>\n",
              "      <td>256.1</td>\n",
              "      <td>0.0</td>\n",
              "      <td>299.1</td>\n",
              "      <td>0.6</td>\n",
              "      <td>0.0</td>\n",
              "      <td>90.8</td>\n",
              "      <td>10.5</td>\n",
              "      <td>1000.4</td>\n",
              "      <td>1007.6</td>\n",
              "      <td>0.0</td>\n",
              "      <td>0.0</td>\n",
              "      <td>0.2</td>\n",
              "      <td>1006.0</td>\n",
              "      <td>23.6</td>\n",
              "      <td>999.5</td>\n",
              "      <td>90.2</td>\n",
              "      <td>17.8</td>\n",
              "      <td>19.2</td>\n",
              "      <td>1007.5</td>\n",
              "      <td>22.16</td>\n",
              "      <td>254.2</td>\n",
              "      <td>0.0</td>\n",
              "      <td>83.0</td>\n",
              "      <td>58.9</td>\n",
              "      <td>0.5</td>\n",
              "      <td>NaN</td>\n",
              "      <td>NaN</td>\n",
              "      <td>NaN</td>\n",
              "      <td>NaN</td>\n",
              "      <td>NaN</td>\n",
              "      <td>NaN</td>\n",
              "      <td>NaN</td>\n",
              "      <td>NaN</td>\n",
              "      <td>NaN</td>\n",
              "      <td>NaN</td>\n",
              "      <td>NaN</td>\n",
              "      <td>NaN</td>\n",
              "      <td>NaN</td>\n",
              "      <td>NaN</td>\n",
              "      <td>NaN</td>\n",
              "      <td>NaN</td>\n",
              "      <td>NaN</td>\n",
              "      <td>NaN</td>\n",
              "      <td>21.5</td>\n",
              "    </tr>\n",
              "    <tr>\n",
              "      <th>4750</th>\n",
              "      <td>4750</td>\n",
              "      <td>19.4</td>\n",
              "      <td>987.7</td>\n",
              "      <td>0.9</td>\n",
              "      <td>0.8</td>\n",
              "      <td>0.0</td>\n",
              "      <td>1006.9</td>\n",
              "      <td>987.8</td>\n",
              "      <td>21.3</td>\n",
              "      <td>1007.6</td>\n",
              "      <td>1007.5</td>\n",
              "      <td>2.5</td>\n",
              "      <td>23.88</td>\n",
              "      <td>95.9</td>\n",
              "      <td>323.8</td>\n",
              "      <td>0.0</td>\n",
              "      <td>255.1</td>\n",
              "      <td>0.0</td>\n",
              "      <td>0.0</td>\n",
              "      <td>0.6</td>\n",
              "      <td>0.0</td>\n",
              "      <td>91.5</td>\n",
              "      <td>10.5</td>\n",
              "      <td>1000.4</td>\n",
              "      <td>1007.6</td>\n",
              "      <td>0.0</td>\n",
              "      <td>0.0</td>\n",
              "      <td>0.1</td>\n",
              "      <td>1006.0</td>\n",
              "      <td>23.3</td>\n",
              "      <td>999.5</td>\n",
              "      <td>90.1</td>\n",
              "      <td>17.7</td>\n",
              "      <td>19.3</td>\n",
              "      <td>1007.6</td>\n",
              "      <td>22.16</td>\n",
              "      <td>300.0</td>\n",
              "      <td>0.0</td>\n",
              "      <td>83.2</td>\n",
              "      <td>59.8</td>\n",
              "      <td>0.5</td>\n",
              "      <td>NaN</td>\n",
              "      <td>NaN</td>\n",
              "      <td>NaN</td>\n",
              "      <td>NaN</td>\n",
              "      <td>NaN</td>\n",
              "      <td>NaN</td>\n",
              "      <td>NaN</td>\n",
              "      <td>NaN</td>\n",
              "      <td>NaN</td>\n",
              "      <td>NaN</td>\n",
              "      <td>NaN</td>\n",
              "      <td>NaN</td>\n",
              "      <td>NaN</td>\n",
              "      <td>NaN</td>\n",
              "      <td>NaN</td>\n",
              "      <td>NaN</td>\n",
              "      <td>NaN</td>\n",
              "      <td>NaN</td>\n",
              "      <td>21.5</td>\n",
              "    </tr>\n",
              "    <tr>\n",
              "      <th>4751</th>\n",
              "      <td>4751</td>\n",
              "      <td>19.1</td>\n",
              "      <td>987.6</td>\n",
              "      <td>1.0</td>\n",
              "      <td>0.3</td>\n",
              "      <td>0.0</td>\n",
              "      <td>1006.8</td>\n",
              "      <td>987.8</td>\n",
              "      <td>21.2</td>\n",
              "      <td>1007.5</td>\n",
              "      <td>1007.4</td>\n",
              "      <td>2.5</td>\n",
              "      <td>23.88</td>\n",
              "      <td>96.2</td>\n",
              "      <td>0.0</td>\n",
              "      <td>0.0</td>\n",
              "      <td>237.2</td>\n",
              "      <td>0.0</td>\n",
              "      <td>17.7</td>\n",
              "      <td>0.0</td>\n",
              "      <td>0.0</td>\n",
              "      <td>93.0</td>\n",
              "      <td>10.5</td>\n",
              "      <td>1000.3</td>\n",
              "      <td>1007.6</td>\n",
              "      <td>0.0</td>\n",
              "      <td>0.0</td>\n",
              "      <td>0.1</td>\n",
              "      <td>1006.1</td>\n",
              "      <td>23.2</td>\n",
              "      <td>999.5</td>\n",
              "      <td>89.6</td>\n",
              "      <td>17.7</td>\n",
              "      <td>19.5</td>\n",
              "      <td>1007.7</td>\n",
              "      <td>22.16</td>\n",
              "      <td>157.5</td>\n",
              "      <td>0.0</td>\n",
              "      <td>84.0</td>\n",
              "      <td>59.5</td>\n",
              "      <td>0.5</td>\n",
              "      <td>NaN</td>\n",
              "      <td>NaN</td>\n",
              "      <td>NaN</td>\n",
              "      <td>NaN</td>\n",
              "      <td>NaN</td>\n",
              "      <td>NaN</td>\n",
              "      <td>NaN</td>\n",
              "      <td>NaN</td>\n",
              "      <td>NaN</td>\n",
              "      <td>NaN</td>\n",
              "      <td>NaN</td>\n",
              "      <td>NaN</td>\n",
              "      <td>NaN</td>\n",
              "      <td>NaN</td>\n",
              "      <td>NaN</td>\n",
              "      <td>NaN</td>\n",
              "      <td>NaN</td>\n",
              "      <td>NaN</td>\n",
              "      <td>21.0</td>\n",
              "    </tr>\n",
              "  </tbody>\n",
              "</table>\n",
              "</div>"
            ],
            "text/plain": [
              "        id   X00    X01  X02  X03  X04  ...  Y13  Y14  Y15  Y16  Y17   Y18\n",
              "4742  4742  20.9  987.7  0.2  2.0  0.0  ...  NaN  NaN  NaN  NaN  NaN  22.5\n",
              "4743  4743  20.8  987.6  2.6  2.0  0.0  ...  NaN  NaN  NaN  NaN  NaN  22.0\n",
              "4744  4744  20.5  987.7  1.1  2.0  0.0  ...  NaN  NaN  NaN  NaN  NaN  22.0\n",
              "4745  4745  20.2  987.8  1.1  1.6  0.0  ...  NaN  NaN  NaN  NaN  NaN  22.0\n",
              "4746  4746  20.1  987.9  0.3  1.1  0.0  ...  NaN  NaN  NaN  NaN  NaN  22.0\n",
              "4747  4747  19.9  987.6  0.9  0.8  0.0  ...  NaN  NaN  NaN  NaN  NaN  21.5\n",
              "4748  4748  19.9  987.6  0.5  0.7  0.0  ...  NaN  NaN  NaN  NaN  NaN  21.5\n",
              "4749  4749  19.7  987.7  0.9  0.6  0.0  ...  NaN  NaN  NaN  NaN  NaN  21.5\n",
              "4750  4750  19.4  987.7  0.9  0.8  0.0  ...  NaN  NaN  NaN  NaN  NaN  21.5\n",
              "4751  4751  19.1  987.6  1.0  0.3  0.0  ...  NaN  NaN  NaN  NaN  NaN  21.0\n",
              "\n",
              "[10 rows x 60 columns]"
            ]
          },
          "metadata": {
            "tags": []
          },
          "execution_count": 184
        }
      ]
    },
    {
      "cell_type": "markdown",
      "metadata": {
        "id": "Bc_W6SIVU66K",
        "colab_type": "text"
      },
      "source": [
        "## id\n",
        "\n",
        "\n",
        "\n",
        "```\n",
        "temp = 'X13, X15, X17, X25, X35'\n",
        "for i in temp.split(', '):\n",
        "    print(\"'{}',\".format(i), end=' ')\n",
        "```\n",
        "\n"
      ]
    },
    {
      "cell_type": "code",
      "metadata": {
        "id": "jj-Uwv1KQD8T",
        "colab_type": "code",
        "outputId": "0ab75a86-4ac5-4582-d05e-a6282f145291",
        "colab": {
          "base_uri": "https://localhost:8080/",
          "height": 121
        }
      },
      "source": [
        "pd.DataFrame(df['id']).info()"
      ],
      "execution_count": 0,
      "outputs": [
        {
          "output_type": "stream",
          "text": [
            "<class 'pandas.core.frame.DataFrame'>\n",
            "RangeIndex: 4752 entries, 0 to 4751\n",
            "Data columns (total 1 columns):\n",
            "id    4752 non-null int64\n",
            "dtypes: int64(1)\n",
            "memory usage: 37.2 KB\n"
          ],
          "name": "stdout"
        }
      ]
    },
    {
      "cell_type": "markdown",
      "metadata": {
        "id": "BoVcePUUenSg",
        "colab_type": "text"
      },
      "source": [
        "## x"
      ]
    },
    {
      "cell_type": "markdown",
      "metadata": {
        "id": "HK-xZpb6eroq",
        "colab_type": "text"
      },
      "source": [
        "* feat_temp: 기온 \n",
        "* feat_air_press: 현지기압\n",
        "* feat_wind_speed: 풍속\n",
        "* feat_rainfall: 일일 누적강수량 \n",
        "* feat_sea_press: 해면기압\n",
        "* feat_insol: 일일 누적일사량\n",
        "* feat_humid: 습도\n",
        "* feat_dir_wind: 풍향\n",
        "\n"
      ]
    },
    {
      "cell_type": "code",
      "metadata": {
        "id": "JEdugNkuQEHm",
        "colab_type": "code",
        "colab": {}
      },
      "source": [
        "#feat_x = [feat_temp, feat_air_press, feat_wind_speed, feat_rainfall, feat_sea_press, feat_insol, feat_humid, feat_dir_wind]\n",
        "feat_x = ['X00', 'X01', 'X02', 'X03', 'X04', 'X05', 'X06', 'X07', 'X08', 'X09', \n",
        "          'X10', 'X11', 'X12', 'X13', 'X14', 'X15', 'X16', 'X17', 'X18', 'X19', \n",
        "          'X20', 'X21', 'X22', 'X23', 'X24', 'X25', 'X26', 'X27', 'X28', 'X29', \n",
        "          'X30', 'X31', 'X32', 'X33', 'X34', 'X35', 'X36', 'X37', 'X38', 'X39']\n",
        "feat_temp = ['X00', 'X07', 'X28', 'X31', 'X32']\n",
        "feat_air_press = ['X01', 'X06', 'X22', 'X27', 'X29']\n",
        "feat_wind_speed = ['X02', 'X03', 'X18', 'X24', 'X26']\n",
        "feat_rainfall = ['X04', 'X10', 'X21', 'X36', 'X39']\n",
        "feat_sea_press = ['X05', 'X08', 'X09', 'X23', 'X33']\n",
        "feat_insol = ['X11', 'X14', 'X16', 'X19', 'X34']\n",
        "feat_humid = ['X12', 'X20', 'X30', 'X37', 'X38']\n",
        "feat_dir_wind = ['X13', 'X15', 'X17', 'X25', 'X35']"
      ],
      "execution_count": 0,
      "outputs": []
    },
    {
      "cell_type": "code",
      "metadata": {
        "id": "lvYlhcYLQELJ",
        "colab_type": "code",
        "outputId": "bba9388e-b5a3-4829-c74d-c8d2a33e5fca",
        "colab": {
          "base_uri": "https://localhost:8080/",
          "height": 112
        }
      },
      "source": [
        "df[feat_x].head(2)"
      ],
      "execution_count": 0,
      "outputs": [
        {
          "output_type": "execute_result",
          "data": {
            "text/html": [
              "<div>\n",
              "<style scoped>\n",
              "    .dataframe tbody tr th:only-of-type {\n",
              "        vertical-align: middle;\n",
              "    }\n",
              "\n",
              "    .dataframe tbody tr th {\n",
              "        vertical-align: top;\n",
              "    }\n",
              "\n",
              "    .dataframe thead th {\n",
              "        text-align: right;\n",
              "    }\n",
              "</style>\n",
              "<table border=\"1\" class=\"dataframe\">\n",
              "  <thead>\n",
              "    <tr style=\"text-align: right;\">\n",
              "      <th></th>\n",
              "      <th>X00</th>\n",
              "      <th>X01</th>\n",
              "      <th>X02</th>\n",
              "      <th>X03</th>\n",
              "      <th>X04</th>\n",
              "      <th>X05</th>\n",
              "      <th>X06</th>\n",
              "      <th>X07</th>\n",
              "      <th>X08</th>\n",
              "      <th>X09</th>\n",
              "      <th>X10</th>\n",
              "      <th>X11</th>\n",
              "      <th>X12</th>\n",
              "      <th>X13</th>\n",
              "      <th>X14</th>\n",
              "      <th>X15</th>\n",
              "      <th>X16</th>\n",
              "      <th>X17</th>\n",
              "      <th>X18</th>\n",
              "      <th>X19</th>\n",
              "      <th>X20</th>\n",
              "      <th>X21</th>\n",
              "      <th>X22</th>\n",
              "      <th>X23</th>\n",
              "      <th>X24</th>\n",
              "      <th>X25</th>\n",
              "      <th>X26</th>\n",
              "      <th>X27</th>\n",
              "      <th>X28</th>\n",
              "      <th>X29</th>\n",
              "      <th>X30</th>\n",
              "      <th>X31</th>\n",
              "      <th>X32</th>\n",
              "      <th>X33</th>\n",
              "      <th>X34</th>\n",
              "      <th>X35</th>\n",
              "      <th>X36</th>\n",
              "      <th>X37</th>\n",
              "      <th>X38</th>\n",
              "      <th>X39</th>\n",
              "    </tr>\n",
              "  </thead>\n",
              "  <tbody>\n",
              "    <tr>\n",
              "      <th>0</th>\n",
              "      <td>9.7</td>\n",
              "      <td>988.8</td>\n",
              "      <td>1.2</td>\n",
              "      <td>0.6</td>\n",
              "      <td>0.0</td>\n",
              "      <td>1009.3</td>\n",
              "      <td>989.6</td>\n",
              "      <td>12.2</td>\n",
              "      <td>1009.9</td>\n",
              "      <td>1009.8</td>\n",
              "      <td>0.0</td>\n",
              "      <td>0.0</td>\n",
              "      <td>82.4</td>\n",
              "      <td>71.3</td>\n",
              "      <td>0.0</td>\n",
              "      <td>101.1</td>\n",
              "      <td>0.0</td>\n",
              "      <td>56.1</td>\n",
              "      <td>0.3</td>\n",
              "      <td>0.0</td>\n",
              "      <td>91.0</td>\n",
              "      <td>0.0</td>\n",
              "      <td>1002.5</td>\n",
              "      <td>1009.8</td>\n",
              "      <td>1.1</td>\n",
              "      <td>2.3</td>\n",
              "      <td>0.5</td>\n",
              "      <td>1008.7</td>\n",
              "      <td>12.3</td>\n",
              "      <td>1001.6</td>\n",
              "      <td>69.1</td>\n",
              "      <td>8.2</td>\n",
              "      <td>10.7</td>\n",
              "      <td>1010.1</td>\n",
              "      <td>0.0</td>\n",
              "      <td>256.4</td>\n",
              "      <td>0.0</td>\n",
              "      <td>77.2</td>\n",
              "      <td>62.6</td>\n",
              "      <td>0.0</td>\n",
              "    </tr>\n",
              "    <tr>\n",
              "      <th>1</th>\n",
              "      <td>9.3</td>\n",
              "      <td>988.9</td>\n",
              "      <td>1.7</td>\n",
              "      <td>1.9</td>\n",
              "      <td>0.0</td>\n",
              "      <td>1009.3</td>\n",
              "      <td>989.6</td>\n",
              "      <td>12.1</td>\n",
              "      <td>1010.0</td>\n",
              "      <td>1009.9</td>\n",
              "      <td>0.0</td>\n",
              "      <td>0.0</td>\n",
              "      <td>81.2</td>\n",
              "      <td>121.8</td>\n",
              "      <td>0.0</td>\n",
              "      <td>165.3</td>\n",
              "      <td>0.0</td>\n",
              "      <td>0.0</td>\n",
              "      <td>0.4</td>\n",
              "      <td>0.0</td>\n",
              "      <td>91.9</td>\n",
              "      <td>0.0</td>\n",
              "      <td>1002.5</td>\n",
              "      <td>1009.9</td>\n",
              "      <td>0.0</td>\n",
              "      <td>0.0</td>\n",
              "      <td>0.0</td>\n",
              "      <td>1008.7</td>\n",
              "      <td>12.1</td>\n",
              "      <td>1001.7</td>\n",
              "      <td>70.3</td>\n",
              "      <td>8.3</td>\n",
              "      <td>10.3</td>\n",
              "      <td>1010.1</td>\n",
              "      <td>0.0</td>\n",
              "      <td>215.4</td>\n",
              "      <td>0.0</td>\n",
              "      <td>77.3</td>\n",
              "      <td>63.5</td>\n",
              "      <td>0.0</td>\n",
              "    </tr>\n",
              "  </tbody>\n",
              "</table>\n",
              "</div>"
            ],
            "text/plain": [
              "   X00    X01  X02  X03  X04     X05  ...  X34    X35  X36   X37   X38  X39\n",
              "0  9.7  988.8  1.2  0.6  0.0  1009.3  ...  0.0  256.4  0.0  77.2  62.6  0.0\n",
              "1  9.3  988.9  1.7  1.9  0.0  1009.3  ...  0.0  215.4  0.0  77.3  63.5  0.0\n",
              "\n",
              "[2 rows x 40 columns]"
            ]
          },
          "metadata": {
            "tags": []
          },
          "execution_count": 192
        }
      ]
    },
    {
      "cell_type": "markdown",
      "metadata": {
        "id": "YlEwV5WMgIjN",
        "colab_type": "text"
      },
      "source": [
        "### 기온"
      ]
    },
    {
      "cell_type": "code",
      "metadata": {
        "id": "IucXGifWrbCb",
        "colab_type": "code",
        "outputId": "fd3a66f3-2518-445c-d662-4ba0ed6c8cf4",
        "colab": {
          "base_uri": "https://localhost:8080/",
          "height": 301
        }
      },
      "source": [
        "df[feat_temp].describe()"
      ],
      "execution_count": 0,
      "outputs": [
        {
          "output_type": "execute_result",
          "data": {
            "text/html": [
              "<div>\n",
              "<style scoped>\n",
              "    .dataframe tbody tr th:only-of-type {\n",
              "        vertical-align: middle;\n",
              "    }\n",
              "\n",
              "    .dataframe tbody tr th {\n",
              "        vertical-align: top;\n",
              "    }\n",
              "\n",
              "    .dataframe thead th {\n",
              "        text-align: right;\n",
              "    }\n",
              "</style>\n",
              "<table border=\"1\" class=\"dataframe\">\n",
              "  <thead>\n",
              "    <tr style=\"text-align: right;\">\n",
              "      <th></th>\n",
              "      <th>X00</th>\n",
              "      <th>X07</th>\n",
              "      <th>X28</th>\n",
              "      <th>X31</th>\n",
              "      <th>X32</th>\n",
              "    </tr>\n",
              "  </thead>\n",
              "  <tbody>\n",
              "    <tr>\n",
              "      <th>count</th>\n",
              "      <td>4752.000000</td>\n",
              "      <td>4752.000000</td>\n",
              "      <td>4752.000000</td>\n",
              "      <td>4752.000000</td>\n",
              "      <td>4752.000000</td>\n",
              "    </tr>\n",
              "    <tr>\n",
              "      <th>mean</th>\n",
              "      <td>20.227904</td>\n",
              "      <td>21.658081</td>\n",
              "      <td>22.079040</td>\n",
              "      <td>19.846528</td>\n",
              "      <td>20.012984</td>\n",
              "    </tr>\n",
              "    <tr>\n",
              "      <th>std</th>\n",
              "      <td>4.707570</td>\n",
              "      <td>4.377216</td>\n",
              "      <td>4.225203</td>\n",
              "      <td>5.520259</td>\n",
              "      <td>5.271630</td>\n",
              "    </tr>\n",
              "    <tr>\n",
              "      <th>min</th>\n",
              "      <td>8.300000</td>\n",
              "      <td>11.600000</td>\n",
              "      <td>10.300000</td>\n",
              "      <td>5.300000</td>\n",
              "      <td>5.500000</td>\n",
              "    </tr>\n",
              "    <tr>\n",
              "      <th>25%</th>\n",
              "      <td>16.900000</td>\n",
              "      <td>18.400000</td>\n",
              "      <td>19.000000</td>\n",
              "      <td>16.000000</td>\n",
              "      <td>16.300000</td>\n",
              "    </tr>\n",
              "    <tr>\n",
              "      <th>50%</th>\n",
              "      <td>19.900000</td>\n",
              "      <td>21.200000</td>\n",
              "      <td>21.700000</td>\n",
              "      <td>19.400000</td>\n",
              "      <td>19.600000</td>\n",
              "    </tr>\n",
              "    <tr>\n",
              "      <th>75%</th>\n",
              "      <td>24.100000</td>\n",
              "      <td>24.825000</td>\n",
              "      <td>25.200000</td>\n",
              "      <td>24.100000</td>\n",
              "      <td>24.100000</td>\n",
              "    </tr>\n",
              "    <tr>\n",
              "      <th>max</th>\n",
              "      <td>30.900000</td>\n",
              "      <td>32.700000</td>\n",
              "      <td>33.200000</td>\n",
              "      <td>33.100000</td>\n",
              "      <td>32.900000</td>\n",
              "    </tr>\n",
              "  </tbody>\n",
              "</table>\n",
              "</div>"
            ],
            "text/plain": [
              "               X00          X07          X28          X31          X32\n",
              "count  4752.000000  4752.000000  4752.000000  4752.000000  4752.000000\n",
              "mean     20.227904    21.658081    22.079040    19.846528    20.012984\n",
              "std       4.707570     4.377216     4.225203     5.520259     5.271630\n",
              "min       8.300000    11.600000    10.300000     5.300000     5.500000\n",
              "25%      16.900000    18.400000    19.000000    16.000000    16.300000\n",
              "50%      19.900000    21.200000    21.700000    19.400000    19.600000\n",
              "75%      24.100000    24.825000    25.200000    24.100000    24.100000\n",
              "max      30.900000    32.700000    33.200000    33.100000    32.900000"
            ]
          },
          "metadata": {
            "tags": []
          },
          "execution_count": 193
        }
      ]
    },
    {
      "cell_type": "code",
      "metadata": {
        "id": "xNDkZv8tQEOB",
        "colab_type": "code",
        "outputId": "9839a3f9-7291-472d-8256-edd2eb6d32f0",
        "colab": {
          "base_uri": "https://localhost:8080/",
          "height": 206
        }
      },
      "source": [
        "df[feat_temp].corr()"
      ],
      "execution_count": 0,
      "outputs": [
        {
          "output_type": "execute_result",
          "data": {
            "text/html": [
              "<div>\n",
              "<style scoped>\n",
              "    .dataframe tbody tr th:only-of-type {\n",
              "        vertical-align: middle;\n",
              "    }\n",
              "\n",
              "    .dataframe tbody tr th {\n",
              "        vertical-align: top;\n",
              "    }\n",
              "\n",
              "    .dataframe thead th {\n",
              "        text-align: right;\n",
              "    }\n",
              "</style>\n",
              "<table border=\"1\" class=\"dataframe\">\n",
              "  <thead>\n",
              "    <tr style=\"text-align: right;\">\n",
              "      <th></th>\n",
              "      <th>X00</th>\n",
              "      <th>X07</th>\n",
              "      <th>X28</th>\n",
              "      <th>X31</th>\n",
              "      <th>X32</th>\n",
              "    </tr>\n",
              "  </thead>\n",
              "  <tbody>\n",
              "    <tr>\n",
              "      <th>X00</th>\n",
              "      <td>1.000000</td>\n",
              "      <td>0.957922</td>\n",
              "      <td>0.941699</td>\n",
              "      <td>0.961053</td>\n",
              "      <td>0.963055</td>\n",
              "    </tr>\n",
              "    <tr>\n",
              "      <th>X07</th>\n",
              "      <td>0.957922</td>\n",
              "      <td>1.000000</td>\n",
              "      <td>0.981081</td>\n",
              "      <td>0.954865</td>\n",
              "      <td>0.962826</td>\n",
              "    </tr>\n",
              "    <tr>\n",
              "      <th>X28</th>\n",
              "      <td>0.941699</td>\n",
              "      <td>0.981081</td>\n",
              "      <td>1.000000</td>\n",
              "      <td>0.935156</td>\n",
              "      <td>0.938572</td>\n",
              "    </tr>\n",
              "    <tr>\n",
              "      <th>X31</th>\n",
              "      <td>0.961053</td>\n",
              "      <td>0.954865</td>\n",
              "      <td>0.935156</td>\n",
              "      <td>1.000000</td>\n",
              "      <td>0.979312</td>\n",
              "    </tr>\n",
              "    <tr>\n",
              "      <th>X32</th>\n",
              "      <td>0.963055</td>\n",
              "      <td>0.962826</td>\n",
              "      <td>0.938572</td>\n",
              "      <td>0.979312</td>\n",
              "      <td>1.000000</td>\n",
              "    </tr>\n",
              "  </tbody>\n",
              "</table>\n",
              "</div>"
            ],
            "text/plain": [
              "          X00       X07       X28       X31       X32\n",
              "X00  1.000000  0.957922  0.941699  0.961053  0.963055\n",
              "X07  0.957922  1.000000  0.981081  0.954865  0.962826\n",
              "X28  0.941699  0.981081  1.000000  0.935156  0.938572\n",
              "X31  0.961053  0.954865  0.935156  1.000000  0.979312\n",
              "X32  0.963055  0.962826  0.938572  0.979312  1.000000"
            ]
          },
          "metadata": {
            "tags": []
          },
          "execution_count": 194
        }
      ]
    },
    {
      "cell_type": "code",
      "metadata": {
        "id": "r3IGdA_SeG52",
        "colab_type": "code",
        "outputId": "fcd22eb5-41e4-452f-85c1-a9a435cae2d6",
        "colab": {
          "base_uri": "https://localhost:8080/",
          "height": 286
        }
      },
      "source": [
        "sns.heatmap(df[feat_temp].corr(), cmap='coolwarm')"
      ],
      "execution_count": 0,
      "outputs": [
        {
          "output_type": "execute_result",
          "data": {
            "text/plain": [
              "<matplotlib.axes._subplots.AxesSubplot at 0x7fc7a79184a8>"
            ]
          },
          "metadata": {
            "tags": []
          },
          "execution_count": 195
        },
        {
          "output_type": "display_data",
          "data": {
            "image/png": "[encoded data removed]",
            "text/plain": [
              "<Figure size 432x288 with 2 Axes>"
            ]
          },
          "metadata": {
            "tags": []
          }
        }
      ]
    },
    {
      "cell_type": "markdown",
      "metadata": {
        "id": "tEiZyAqnni7O",
        "colab_type": "text"
      },
      "source": [
        "#### 30일 평균 온도와 3일 평균 온도 차이 "
      ]
    },
    {
      "cell_type": "code",
      "metadata": {
        "id": "QjDKPA8_niUY",
        "colab_type": "code",
        "colab": {
          "base_uri": "https://localhost:8080/",
          "height": 300
        },
        "outputId": "7a7ea2fb-f918-4bd1-d0e0-02f88ce8d781"
      },
      "source": [
        "df[feat_temp][:n].describe()"
      ],
      "execution_count": 285,
      "outputs": [
        {
          "output_type": "execute_result",
          "data": {
            "text/html": [
              "<div>\n",
              "<style scoped>\n",
              "    .dataframe tbody tr th:only-of-type {\n",
              "        vertical-align: middle;\n",
              "    }\n",
              "\n",
              "    .dataframe tbody tr th {\n",
              "        vertical-align: top;\n",
              "    }\n",
              "\n",
              "    .dataframe thead th {\n",
              "        text-align: right;\n",
              "    }\n",
              "</style>\n",
              "<table border=\"1\" class=\"dataframe\">\n",
              "  <thead>\n",
              "    <tr style=\"text-align: right;\">\n",
              "      <th></th>\n",
              "      <th>X00</th>\n",
              "      <th>X07</th>\n",
              "      <th>X28</th>\n",
              "      <th>X31</th>\n",
              "      <th>X32</th>\n",
              "    </tr>\n",
              "  </thead>\n",
              "  <tbody>\n",
              "    <tr>\n",
              "      <th>count</th>\n",
              "      <td>4320.000000</td>\n",
              "      <td>4320.000000</td>\n",
              "      <td>4320.000000</td>\n",
              "      <td>4320.000000</td>\n",
              "      <td>4320.000000</td>\n",
              "    </tr>\n",
              "    <tr>\n",
              "      <th>mean</th>\n",
              "      <td>19.965602</td>\n",
              "      <td>21.437014</td>\n",
              "      <td>21.898565</td>\n",
              "      <td>19.603796</td>\n",
              "      <td>19.750347</td>\n",
              "    </tr>\n",
              "    <tr>\n",
              "      <th>std</th>\n",
              "      <td>4.745137</td>\n",
              "      <td>4.423139</td>\n",
              "      <td>4.275935</td>\n",
              "      <td>5.612736</td>\n",
              "      <td>5.345214</td>\n",
              "    </tr>\n",
              "    <tr>\n",
              "      <th>min</th>\n",
              "      <td>8.300000</td>\n",
              "      <td>11.600000</td>\n",
              "      <td>10.300000</td>\n",
              "      <td>5.300000</td>\n",
              "      <td>5.500000</td>\n",
              "    </tr>\n",
              "    <tr>\n",
              "      <th>25%</th>\n",
              "      <td>16.500000</td>\n",
              "      <td>18.100000</td>\n",
              "      <td>18.700000</td>\n",
              "      <td>15.700000</td>\n",
              "      <td>16.000000</td>\n",
              "    </tr>\n",
              "    <tr>\n",
              "      <th>50%</th>\n",
              "      <td>19.500000</td>\n",
              "      <td>20.900000</td>\n",
              "      <td>21.600000</td>\n",
              "      <td>19.100000</td>\n",
              "      <td>19.200000</td>\n",
              "    </tr>\n",
              "    <tr>\n",
              "      <th>75%</th>\n",
              "      <td>23.800000</td>\n",
              "      <td>24.600000</td>\n",
              "      <td>25.000000</td>\n",
              "      <td>23.900000</td>\n",
              "      <td>23.900000</td>\n",
              "    </tr>\n",
              "    <tr>\n",
              "      <th>max</th>\n",
              "      <td>30.900000</td>\n",
              "      <td>32.700000</td>\n",
              "      <td>33.200000</td>\n",
              "      <td>33.100000</td>\n",
              "      <td>32.900000</td>\n",
              "    </tr>\n",
              "  </tbody>\n",
              "</table>\n",
              "</div>"
            ],
            "text/plain": [
              "               X00          X07          X28          X31          X32\n",
              "count  4320.000000  4320.000000  4320.000000  4320.000000  4320.000000\n",
              "mean     19.965602    21.437014    21.898565    19.603796    19.750347\n",
              "std       4.745137     4.423139     4.275935     5.612736     5.345214\n",
              "min       8.300000    11.600000    10.300000     5.300000     5.500000\n",
              "25%      16.500000    18.100000    18.700000    15.700000    16.000000\n",
              "50%      19.500000    20.900000    21.600000    19.100000    19.200000\n",
              "75%      23.800000    24.600000    25.000000    23.900000    23.900000\n",
              "max      30.900000    32.700000    33.200000    33.100000    32.900000"
            ]
          },
          "metadata": {
            "tags": []
          },
          "execution_count": 285
        }
      ]
    },
    {
      "cell_type": "code",
      "metadata": {
        "id": "HZpm3cXtn7Aw",
        "colab_type": "code",
        "colab": {
          "base_uri": "https://localhost:8080/",
          "height": 300
        },
        "outputId": "f9f04f56-fa3c-474a-9c46-d74ac381b3f8"
      },
      "source": [
        "df[feat_temp][n:].describe()"
      ],
      "execution_count": 286,
      "outputs": [
        {
          "output_type": "execute_result",
          "data": {
            "text/html": [
              "<div>\n",
              "<style scoped>\n",
              "    .dataframe tbody tr th:only-of-type {\n",
              "        vertical-align: middle;\n",
              "    }\n",
              "\n",
              "    .dataframe tbody tr th {\n",
              "        vertical-align: top;\n",
              "    }\n",
              "\n",
              "    .dataframe thead th {\n",
              "        text-align: right;\n",
              "    }\n",
              "</style>\n",
              "<table border=\"1\" class=\"dataframe\">\n",
              "  <thead>\n",
              "    <tr style=\"text-align: right;\">\n",
              "      <th></th>\n",
              "      <th>X00</th>\n",
              "      <th>X07</th>\n",
              "      <th>X28</th>\n",
              "      <th>X31</th>\n",
              "      <th>X32</th>\n",
              "    </tr>\n",
              "  </thead>\n",
              "  <tbody>\n",
              "    <tr>\n",
              "      <th>count</th>\n",
              "      <td>432.000000</td>\n",
              "      <td>432.000000</td>\n",
              "      <td>432.000000</td>\n",
              "      <td>432.000000</td>\n",
              "      <td>432.000000</td>\n",
              "    </tr>\n",
              "    <tr>\n",
              "      <th>mean</th>\n",
              "      <td>22.850926</td>\n",
              "      <td>23.868750</td>\n",
              "      <td>23.883796</td>\n",
              "      <td>22.273843</td>\n",
              "      <td>22.639352</td>\n",
              "    </tr>\n",
              "    <tr>\n",
              "      <th>std</th>\n",
              "      <td>3.326899</td>\n",
              "      <td>3.125128</td>\n",
              "      <td>3.159241</td>\n",
              "      <td>3.705534</td>\n",
              "      <td>3.524311</td>\n",
              "    </tr>\n",
              "    <tr>\n",
              "      <th>min</th>\n",
              "      <td>16.500000</td>\n",
              "      <td>19.200000</td>\n",
              "      <td>19.000000</td>\n",
              "      <td>16.400000</td>\n",
              "      <td>16.900000</td>\n",
              "    </tr>\n",
              "    <tr>\n",
              "      <th>25%</th>\n",
              "      <td>20.000000</td>\n",
              "      <td>21.000000</td>\n",
              "      <td>20.975000</td>\n",
              "      <td>19.175000</td>\n",
              "      <td>19.500000</td>\n",
              "    </tr>\n",
              "    <tr>\n",
              "      <th>50%</th>\n",
              "      <td>22.900000</td>\n",
              "      <td>23.150000</td>\n",
              "      <td>23.700000</td>\n",
              "      <td>21.600000</td>\n",
              "      <td>21.800000</td>\n",
              "    </tr>\n",
              "    <tr>\n",
              "      <th>75%</th>\n",
              "      <td>25.700000</td>\n",
              "      <td>27.000000</td>\n",
              "      <td>26.925000</td>\n",
              "      <td>25.900000</td>\n",
              "      <td>26.000000</td>\n",
              "    </tr>\n",
              "    <tr>\n",
              "      <th>max</th>\n",
              "      <td>28.900000</td>\n",
              "      <td>29.700000</td>\n",
              "      <td>30.100000</td>\n",
              "      <td>28.900000</td>\n",
              "      <td>29.500000</td>\n",
              "    </tr>\n",
              "  </tbody>\n",
              "</table>\n",
              "</div>"
            ],
            "text/plain": [
              "              X00         X07         X28         X31         X32\n",
              "count  432.000000  432.000000  432.000000  432.000000  432.000000\n",
              "mean    22.850926   23.868750   23.883796   22.273843   22.639352\n",
              "std      3.326899    3.125128    3.159241    3.705534    3.524311\n",
              "min     16.500000   19.200000   19.000000   16.400000   16.900000\n",
              "25%     20.000000   21.000000   20.975000   19.175000   19.500000\n",
              "50%     22.900000   23.150000   23.700000   21.600000   21.800000\n",
              "75%     25.700000   27.000000   26.925000   25.900000   26.000000\n",
              "max     28.900000   29.700000   30.100000   28.900000   29.500000"
            ]
          },
          "metadata": {
            "tags": []
          },
          "execution_count": 286
        }
      ]
    },
    {
      "cell_type": "markdown",
      "metadata": {
        "id": "zpFjBqIsoDUk",
        "colab_type": "text"
      },
      "source": [
        "30일 평균 온도와 그 이후 3일 평균 온도의 차이가 대략 2도정도 난다는 것을 알 수 있다. "
      ]
    },
    {
      "cell_type": "code",
      "metadata": {
        "id": "_etr64bTn7Je",
        "colab_type": "code",
        "colab": {
          "base_uri": "https://localhost:8080/",
          "height": 121
        },
        "outputId": "498513ab-9103-4403-8cc4-cc17cfcb5dd6"
      },
      "source": [
        "df[feat_temp][n:].mean()-df[feat_temp][:n].mean()"
      ],
      "execution_count": 287,
      "outputs": [
        {
          "output_type": "execute_result",
          "data": {
            "text/plain": [
              "X00    2.885324\n",
              "X07    2.431736\n",
              "X28    1.985231\n",
              "X31    2.670046\n",
              "X32    2.889005\n",
              "dtype: float64"
            ]
          },
          "metadata": {
            "tags": []
          },
          "execution_count": 287
        }
      ]
    },
    {
      "cell_type": "markdown",
      "metadata": {
        "id": "lf3EVOjBkwEh",
        "colab_type": "text"
      },
      "source": [
        "### 현지기압"
      ]
    },
    {
      "cell_type": "code",
      "metadata": {
        "id": "t2obfjqCsPua",
        "colab_type": "code",
        "outputId": "e26754c3-f245-4d75-9369-96fdd027c949",
        "colab": {
          "base_uri": "https://localhost:8080/",
          "height": 301
        }
      },
      "source": [
        "df[feat_air_press].describe()"
      ],
      "execution_count": 0,
      "outputs": [
        {
          "output_type": "execute_result",
          "data": {
            "text/html": [
              "<div>\n",
              "<style scoped>\n",
              "    .dataframe tbody tr th:only-of-type {\n",
              "        vertical-align: middle;\n",
              "    }\n",
              "\n",
              "    .dataframe tbody tr th {\n",
              "        vertical-align: top;\n",
              "    }\n",
              "\n",
              "    .dataframe thead th {\n",
              "        text-align: right;\n",
              "    }\n",
              "</style>\n",
              "<table border=\"1\" class=\"dataframe\">\n",
              "  <thead>\n",
              "    <tr style=\"text-align: right;\">\n",
              "      <th></th>\n",
              "      <th>X01</th>\n",
              "      <th>X06</th>\n",
              "      <th>X22</th>\n",
              "      <th>X27</th>\n",
              "      <th>X29</th>\n",
              "    </tr>\n",
              "  </thead>\n",
              "  <tbody>\n",
              "    <tr>\n",
              "      <th>count</th>\n",
              "      <td>4752.000000</td>\n",
              "      <td>4752.000000</td>\n",
              "      <td>4752.000000</td>\n",
              "      <td>4752.000000</td>\n",
              "      <td>4752.000000</td>\n",
              "    </tr>\n",
              "    <tr>\n",
              "      <th>mean</th>\n",
              "      <td>988.621107</td>\n",
              "      <td>989.005093</td>\n",
              "      <td>1001.773190</td>\n",
              "      <td>1007.554924</td>\n",
              "      <td>1000.811932</td>\n",
              "    </tr>\n",
              "    <tr>\n",
              "      <th>std</th>\n",
              "      <td>3.359916</td>\n",
              "      <td>3.403714</td>\n",
              "      <td>3.367735</td>\n",
              "      <td>3.446475</td>\n",
              "      <td>3.390206</td>\n",
              "    </tr>\n",
              "    <tr>\n",
              "      <th>min</th>\n",
              "      <td>977.300000</td>\n",
              "      <td>978.100000</td>\n",
              "      <td>990.800000</td>\n",
              "      <td>997.200000</td>\n",
              "      <td>989.700000</td>\n",
              "    </tr>\n",
              "    <tr>\n",
              "      <th>25%</th>\n",
              "      <td>986.800000</td>\n",
              "      <td>987.100000</td>\n",
              "      <td>999.900000</td>\n",
              "      <td>1005.500000</td>\n",
              "      <td>998.900000</td>\n",
              "    </tr>\n",
              "    <tr>\n",
              "      <th>50%</th>\n",
              "      <td>988.600000</td>\n",
              "      <td>989.100000</td>\n",
              "      <td>1001.900000</td>\n",
              "      <td>1007.700000</td>\n",
              "      <td>1000.900000</td>\n",
              "    </tr>\n",
              "    <tr>\n",
              "      <th>75%</th>\n",
              "      <td>991.000000</td>\n",
              "      <td>991.600000</td>\n",
              "      <td>1004.200000</td>\n",
              "      <td>1010.200000</td>\n",
              "      <td>1003.400000</td>\n",
              "    </tr>\n",
              "    <tr>\n",
              "      <th>max</th>\n",
              "      <td>997.200000</td>\n",
              "      <td>997.400000</td>\n",
              "      <td>1010.100000</td>\n",
              "      <td>1015.400000</td>\n",
              "      <td>1009.000000</td>\n",
              "    </tr>\n",
              "  </tbody>\n",
              "</table>\n",
              "</div>"
            ],
            "text/plain": [
              "               X01          X06          X22          X27          X29\n",
              "count  4752.000000  4752.000000  4752.000000  4752.000000  4752.000000\n",
              "mean    988.621107   989.005093  1001.773190  1007.554924  1000.811932\n",
              "std       3.359916     3.403714     3.367735     3.446475     3.390206\n",
              "min     977.300000   978.100000   990.800000   997.200000   989.700000\n",
              "25%     986.800000   987.100000   999.900000  1005.500000   998.900000\n",
              "50%     988.600000   989.100000  1001.900000  1007.700000  1000.900000\n",
              "75%     991.000000   991.600000  1004.200000  1010.200000  1003.400000\n",
              "max     997.200000   997.400000  1010.100000  1015.400000  1009.000000"
            ]
          },
          "metadata": {
            "tags": []
          },
          "execution_count": 220
        }
      ]
    },
    {
      "cell_type": "code",
      "metadata": {
        "id": "krk3xUmrkuzy",
        "colab_type": "code",
        "outputId": "5b919459-d514-4ac5-b385-c6697e30f293",
        "colab": {
          "base_uri": "https://localhost:8080/",
          "height": 206
        }
      },
      "source": [
        "df[feat_air_press].corr()"
      ],
      "execution_count": 0,
      "outputs": [
        {
          "output_type": "execute_result",
          "data": {
            "text/html": [
              "<div>\n",
              "<style scoped>\n",
              "    .dataframe tbody tr th:only-of-type {\n",
              "        vertical-align: middle;\n",
              "    }\n",
              "\n",
              "    .dataframe tbody tr th {\n",
              "        vertical-align: top;\n",
              "    }\n",
              "\n",
              "    .dataframe thead th {\n",
              "        text-align: right;\n",
              "    }\n",
              "</style>\n",
              "<table border=\"1\" class=\"dataframe\">\n",
              "  <thead>\n",
              "    <tr style=\"text-align: right;\">\n",
              "      <th></th>\n",
              "      <th>X01</th>\n",
              "      <th>X06</th>\n",
              "      <th>X22</th>\n",
              "      <th>X27</th>\n",
              "      <th>X29</th>\n",
              "    </tr>\n",
              "  </thead>\n",
              "  <tbody>\n",
              "    <tr>\n",
              "      <th>X01</th>\n",
              "      <td>1.000000</td>\n",
              "      <td>0.995284</td>\n",
              "      <td>0.996746</td>\n",
              "      <td>0.987752</td>\n",
              "      <td>0.996157</td>\n",
              "    </tr>\n",
              "    <tr>\n",
              "      <th>X06</th>\n",
              "      <td>0.995284</td>\n",
              "      <td>1.000000</td>\n",
              "      <td>0.994807</td>\n",
              "      <td>0.995303</td>\n",
              "      <td>0.997819</td>\n",
              "    </tr>\n",
              "    <tr>\n",
              "      <th>X22</th>\n",
              "      <td>0.996746</td>\n",
              "      <td>0.994807</td>\n",
              "      <td>1.000000</td>\n",
              "      <td>0.991352</td>\n",
              "      <td>0.997923</td>\n",
              "    </tr>\n",
              "    <tr>\n",
              "      <th>X27</th>\n",
              "      <td>0.987752</td>\n",
              "      <td>0.995303</td>\n",
              "      <td>0.991352</td>\n",
              "      <td>1.000000</td>\n",
              "      <td>0.995237</td>\n",
              "    </tr>\n",
              "    <tr>\n",
              "      <th>X29</th>\n",
              "      <td>0.996157</td>\n",
              "      <td>0.997819</td>\n",
              "      <td>0.997923</td>\n",
              "      <td>0.995237</td>\n",
              "      <td>1.000000</td>\n",
              "    </tr>\n",
              "  </tbody>\n",
              "</table>\n",
              "</div>"
            ],
            "text/plain": [
              "          X01       X06       X22       X27       X29\n",
              "X01  1.000000  0.995284  0.996746  0.987752  0.996157\n",
              "X06  0.995284  1.000000  0.994807  0.995303  0.997819\n",
              "X22  0.996746  0.994807  1.000000  0.991352  0.997923\n",
              "X27  0.987752  0.995303  0.991352  1.000000  0.995237\n",
              "X29  0.996157  0.997819  0.997923  0.995237  1.000000"
            ]
          },
          "metadata": {
            "tags": []
          },
          "execution_count": 221
        }
      ]
    },
    {
      "cell_type": "code",
      "metadata": {
        "id": "6Ih0L2Ldku3H",
        "colab_type": "code",
        "outputId": "060ab9d3-489d-4364-a6a7-23639c723f46",
        "colab": {
          "base_uri": "https://localhost:8080/",
          "height": 286
        }
      },
      "source": [
        "sns.heatmap(df[feat_air_press].corr(), cmap='coolwarm')"
      ],
      "execution_count": 0,
      "outputs": [
        {
          "output_type": "execute_result",
          "data": {
            "text/plain": [
              "<matplotlib.axes._subplots.AxesSubplot at 0x7fc7a74af978>"
            ]
          },
          "metadata": {
            "tags": []
          },
          "execution_count": 222
        },
        {
          "output_type": "display_data",
          "data": {
            "image/png": "[encoded data removed]",
            "text/plain": [
              "<Figure size 432x288 with 2 Axes>"
            ]
          },
          "metadata": {
            "tags": []
          }
        }
      ]
    },
    {
      "cell_type": "code",
      "metadata": {
        "id": "haJi2SxDku6c",
        "colab_type": "code",
        "colab": {}
      },
      "source": [
        ""
      ],
      "execution_count": 0,
      "outputs": []
    },
    {
      "cell_type": "markdown",
      "metadata": {
        "id": "EvdejSHelJgK",
        "colab_type": "text"
      },
      "source": [
        "### 풍속"
      ]
    },
    {
      "cell_type": "code",
      "metadata": {
        "id": "ASKxsRr8smX9",
        "colab_type": "code",
        "outputId": "8f2ee317-a876-4f65-bcaf-48921320cd5c",
        "colab": {
          "base_uri": "https://localhost:8080/",
          "height": 301
        }
      },
      "source": [
        "df[feat_wind_speed].describe()"
      ],
      "execution_count": 0,
      "outputs": [
        {
          "output_type": "execute_result",
          "data": {
            "text/html": [
              "<div>\n",
              "<style scoped>\n",
              "    .dataframe tbody tr th:only-of-type {\n",
              "        vertical-align: middle;\n",
              "    }\n",
              "\n",
              "    .dataframe tbody tr th {\n",
              "        vertical-align: top;\n",
              "    }\n",
              "\n",
              "    .dataframe thead th {\n",
              "        text-align: right;\n",
              "    }\n",
              "</style>\n",
              "<table border=\"1\" class=\"dataframe\">\n",
              "  <thead>\n",
              "    <tr style=\"text-align: right;\">\n",
              "      <th></th>\n",
              "      <th>X02</th>\n",
              "      <th>X03</th>\n",
              "      <th>X18</th>\n",
              "      <th>X24</th>\n",
              "      <th>X26</th>\n",
              "    </tr>\n",
              "  </thead>\n",
              "  <tbody>\n",
              "    <tr>\n",
              "      <th>count</th>\n",
              "      <td>4752.000000</td>\n",
              "      <td>4752.000000</td>\n",
              "      <td>4752.000000</td>\n",
              "      <td>4752.000000</td>\n",
              "      <td>4752.000000</td>\n",
              "    </tr>\n",
              "    <tr>\n",
              "      <th>mean</th>\n",
              "      <td>1.509764</td>\n",
              "      <td>1.453157</td>\n",
              "      <td>1.377462</td>\n",
              "      <td>0.985059</td>\n",
              "      <td>1.369886</td>\n",
              "    </tr>\n",
              "    <tr>\n",
              "      <th>std</th>\n",
              "      <td>1.071858</td>\n",
              "      <td>0.936151</td>\n",
              "      <td>1.155024</td>\n",
              "      <td>1.091314</td>\n",
              "      <td>1.240900</td>\n",
              "    </tr>\n",
              "    <tr>\n",
              "      <th>min</th>\n",
              "      <td>0.000000</td>\n",
              "      <td>0.000000</td>\n",
              "      <td>0.000000</td>\n",
              "      <td>0.000000</td>\n",
              "      <td>0.000000</td>\n",
              "    </tr>\n",
              "    <tr>\n",
              "      <th>25%</th>\n",
              "      <td>0.700000</td>\n",
              "      <td>0.800000</td>\n",
              "      <td>0.500000</td>\n",
              "      <td>0.000000</td>\n",
              "      <td>0.300000</td>\n",
              "    </tr>\n",
              "    <tr>\n",
              "      <th>50%</th>\n",
              "      <td>1.300000</td>\n",
              "      <td>1.300000</td>\n",
              "      <td>1.000000</td>\n",
              "      <td>0.700000</td>\n",
              "      <td>1.100000</td>\n",
              "    </tr>\n",
              "    <tr>\n",
              "      <th>75%</th>\n",
              "      <td>2.100000</td>\n",
              "      <td>2.000000</td>\n",
              "      <td>2.100000</td>\n",
              "      <td>1.700000</td>\n",
              "      <td>2.100000</td>\n",
              "    </tr>\n",
              "    <tr>\n",
              "      <th>max</th>\n",
              "      <td>10.200000</td>\n",
              "      <td>5.800000</td>\n",
              "      <td>8.900000</td>\n",
              "      <td>6.000000</td>\n",
              "      <td>6.800000</td>\n",
              "    </tr>\n",
              "  </tbody>\n",
              "</table>\n",
              "</div>"
            ],
            "text/plain": [
              "               X02          X03          X18          X24          X26\n",
              "count  4752.000000  4752.000000  4752.000000  4752.000000  4752.000000\n",
              "mean      1.509764     1.453157     1.377462     0.985059     1.369886\n",
              "std       1.071858     0.936151     1.155024     1.091314     1.240900\n",
              "min       0.000000     0.000000     0.000000     0.000000     0.000000\n",
              "25%       0.700000     0.800000     0.500000     0.000000     0.300000\n",
              "50%       1.300000     1.300000     1.000000     0.700000     1.100000\n",
              "75%       2.100000     2.000000     2.100000     1.700000     2.100000\n",
              "max      10.200000     5.800000     8.900000     6.000000     6.800000"
            ]
          },
          "metadata": {
            "tags": []
          },
          "execution_count": 223
        }
      ]
    },
    {
      "cell_type": "code",
      "metadata": {
        "id": "U9tVoG9Uku9U",
        "colab_type": "code",
        "outputId": "13bd2023-bc2c-4439-a0d4-804d9e55b93a",
        "colab": {
          "base_uri": "https://localhost:8080/",
          "height": 206
        }
      },
      "source": [
        "df[feat_wind_speed].corr()"
      ],
      "execution_count": 0,
      "outputs": [
        {
          "output_type": "execute_result",
          "data": {
            "text/html": [
              "<div>\n",
              "<style scoped>\n",
              "    .dataframe tbody tr th:only-of-type {\n",
              "        vertical-align: middle;\n",
              "    }\n",
              "\n",
              "    .dataframe tbody tr th {\n",
              "        vertical-align: top;\n",
              "    }\n",
              "\n",
              "    .dataframe thead th {\n",
              "        text-align: right;\n",
              "    }\n",
              "</style>\n",
              "<table border=\"1\" class=\"dataframe\">\n",
              "  <thead>\n",
              "    <tr style=\"text-align: right;\">\n",
              "      <th></th>\n",
              "      <th>X02</th>\n",
              "      <th>X03</th>\n",
              "      <th>X18</th>\n",
              "      <th>X24</th>\n",
              "      <th>X26</th>\n",
              "    </tr>\n",
              "  </thead>\n",
              "  <tbody>\n",
              "    <tr>\n",
              "      <th>X02</th>\n",
              "      <td>1.000000</td>\n",
              "      <td>0.384300</td>\n",
              "      <td>0.357250</td>\n",
              "      <td>0.417393</td>\n",
              "      <td>0.400025</td>\n",
              "    </tr>\n",
              "    <tr>\n",
              "      <th>X03</th>\n",
              "      <td>0.384300</td>\n",
              "      <td>1.000000</td>\n",
              "      <td>0.481811</td>\n",
              "      <td>0.500993</td>\n",
              "      <td>0.537470</td>\n",
              "    </tr>\n",
              "    <tr>\n",
              "      <th>X18</th>\n",
              "      <td>0.357250</td>\n",
              "      <td>0.481811</td>\n",
              "      <td>1.000000</td>\n",
              "      <td>0.607754</td>\n",
              "      <td>0.623131</td>\n",
              "    </tr>\n",
              "    <tr>\n",
              "      <th>X24</th>\n",
              "      <td>0.417393</td>\n",
              "      <td>0.500993</td>\n",
              "      <td>0.607754</td>\n",
              "      <td>1.000000</td>\n",
              "      <td>0.634738</td>\n",
              "    </tr>\n",
              "    <tr>\n",
              "      <th>X26</th>\n",
              "      <td>0.400025</td>\n",
              "      <td>0.537470</td>\n",
              "      <td>0.623131</td>\n",
              "      <td>0.634738</td>\n",
              "      <td>1.000000</td>\n",
              "    </tr>\n",
              "  </tbody>\n",
              "</table>\n",
              "</div>"
            ],
            "text/plain": [
              "          X02       X03       X18       X24       X26\n",
              "X02  1.000000  0.384300  0.357250  0.417393  0.400025\n",
              "X03  0.384300  1.000000  0.481811  0.500993  0.537470\n",
              "X18  0.357250  0.481811  1.000000  0.607754  0.623131\n",
              "X24  0.417393  0.500993  0.607754  1.000000  0.634738\n",
              "X26  0.400025  0.537470  0.623131  0.634738  1.000000"
            ]
          },
          "metadata": {
            "tags": []
          },
          "execution_count": 224
        }
      ]
    },
    {
      "cell_type": "code",
      "metadata": {
        "id": "Aq8GCGKlkvAb",
        "colab_type": "code",
        "outputId": "bb1bca99-997f-4c8b-93f9-eae65b850477",
        "colab": {
          "base_uri": "https://localhost:8080/",
          "height": 286
        }
      },
      "source": [
        "sns.heatmap(df[feat_wind_speed].corr(), cmap='coolwarm')"
      ],
      "execution_count": 0,
      "outputs": [
        {
          "output_type": "execute_result",
          "data": {
            "text/plain": [
              "<matplotlib.axes._subplots.AxesSubplot at 0x7fc7a755e6d8>"
            ]
          },
          "metadata": {
            "tags": []
          },
          "execution_count": 225
        },
        {
          "output_type": "display_data",
          "data": {
            "image/png": "[encoded data removed]",
            "text/plain": [
              "<Figure size 432x288 with 2 Axes>"
            ]
          },
          "metadata": {
            "tags": []
          }
        }
      ]
    },
    {
      "cell_type": "code",
      "metadata": {
        "id": "dj-Ee2CnkvD3",
        "colab_type": "code",
        "colab": {}
      },
      "source": [
        ""
      ],
      "execution_count": 0,
      "outputs": []
    },
    {
      "cell_type": "markdown",
      "metadata": {
        "id": "iB_77BgAlJkg",
        "colab_type": "text"
      },
      "source": [
        "### 일일 누적강수량"
      ]
    },
    {
      "cell_type": "code",
      "metadata": {
        "id": "WYtTtQV8stfK",
        "colab_type": "code",
        "outputId": "d20a2950-b9b3-4f78-90f3-862e390574cb",
        "colab": {
          "base_uri": "https://localhost:8080/",
          "height": 301
        }
      },
      "source": [
        "df[feat_rainfall].describe()"
      ],
      "execution_count": 0,
      "outputs": [
        {
          "output_type": "execute_result",
          "data": {
            "text/html": [
              "<div>\n",
              "<style scoped>\n",
              "    .dataframe tbody tr th:only-of-type {\n",
              "        vertical-align: middle;\n",
              "    }\n",
              "\n",
              "    .dataframe tbody tr th {\n",
              "        vertical-align: top;\n",
              "    }\n",
              "\n",
              "    .dataframe thead th {\n",
              "        text-align: right;\n",
              "    }\n",
              "</style>\n",
              "<table border=\"1\" class=\"dataframe\">\n",
              "  <thead>\n",
              "    <tr style=\"text-align: right;\">\n",
              "      <th></th>\n",
              "      <th>X04</th>\n",
              "      <th>X10</th>\n",
              "      <th>X21</th>\n",
              "      <th>X36</th>\n",
              "      <th>X39</th>\n",
              "    </tr>\n",
              "  </thead>\n",
              "  <tbody>\n",
              "    <tr>\n",
              "      <th>count</th>\n",
              "      <td>4752.000000</td>\n",
              "      <td>4752.000000</td>\n",
              "      <td>4752.000000</td>\n",
              "      <td>4752.000000</td>\n",
              "      <td>4752.000000</td>\n",
              "    </tr>\n",
              "    <tr>\n",
              "      <th>mean</th>\n",
              "      <td>1.270223</td>\n",
              "      <td>1.006734</td>\n",
              "      <td>1.138363</td>\n",
              "      <td>1.533817</td>\n",
              "      <td>1.083123</td>\n",
              "    </tr>\n",
              "    <tr>\n",
              "      <th>std</th>\n",
              "      <td>4.429852</td>\n",
              "      <td>3.324415</td>\n",
              "      <td>4.079039</td>\n",
              "      <td>5.578607</td>\n",
              "      <td>4.617366</td>\n",
              "    </tr>\n",
              "    <tr>\n",
              "      <th>min</th>\n",
              "      <td>0.000000</td>\n",
              "      <td>0.000000</td>\n",
              "      <td>0.000000</td>\n",
              "      <td>0.000000</td>\n",
              "      <td>0.000000</td>\n",
              "    </tr>\n",
              "    <tr>\n",
              "      <th>25%</th>\n",
              "      <td>0.000000</td>\n",
              "      <td>0.000000</td>\n",
              "      <td>0.000000</td>\n",
              "      <td>0.000000</td>\n",
              "      <td>0.000000</td>\n",
              "    </tr>\n",
              "    <tr>\n",
              "      <th>50%</th>\n",
              "      <td>0.000000</td>\n",
              "      <td>0.000000</td>\n",
              "      <td>0.000000</td>\n",
              "      <td>0.000000</td>\n",
              "      <td>0.000000</td>\n",
              "    </tr>\n",
              "    <tr>\n",
              "      <th>75%</th>\n",
              "      <td>0.000000</td>\n",
              "      <td>0.000000</td>\n",
              "      <td>0.000000</td>\n",
              "      <td>0.000000</td>\n",
              "      <td>0.000000</td>\n",
              "    </tr>\n",
              "    <tr>\n",
              "      <th>max</th>\n",
              "      <td>25.600000</td>\n",
              "      <td>18.500000</td>\n",
              "      <td>21.000000</td>\n",
              "      <td>33.600000</td>\n",
              "      <td>28.000000</td>\n",
              "    </tr>\n",
              "  </tbody>\n",
              "</table>\n",
              "</div>"
            ],
            "text/plain": [
              "               X04          X10          X21          X36          X39\n",
              "count  4752.000000  4752.000000  4752.000000  4752.000000  4752.000000\n",
              "mean      1.270223     1.006734     1.138363     1.533817     1.083123\n",
              "std       4.429852     3.324415     4.079039     5.578607     4.617366\n",
              "min       0.000000     0.000000     0.000000     0.000000     0.000000\n",
              "25%       0.000000     0.000000     0.000000     0.000000     0.000000\n",
              "50%       0.000000     0.000000     0.000000     0.000000     0.000000\n",
              "75%       0.000000     0.000000     0.000000     0.000000     0.000000\n",
              "max      25.600000    18.500000    21.000000    33.600000    28.000000"
            ]
          },
          "metadata": {
            "tags": []
          },
          "execution_count": 226
        }
      ]
    },
    {
      "cell_type": "code",
      "metadata": {
        "id": "qR-X0HyVlLaA",
        "colab_type": "code",
        "outputId": "f14b1c7a-a920-4e30-acaf-4a237fd82f35",
        "colab": {
          "base_uri": "https://localhost:8080/",
          "height": 206
        }
      },
      "source": [
        "df[feat_rainfall].corr()"
      ],
      "execution_count": 0,
      "outputs": [
        {
          "output_type": "execute_result",
          "data": {
            "text/html": [
              "<div>\n",
              "<style scoped>\n",
              "    .dataframe tbody tr th:only-of-type {\n",
              "        vertical-align: middle;\n",
              "    }\n",
              "\n",
              "    .dataframe tbody tr th {\n",
              "        vertical-align: top;\n",
              "    }\n",
              "\n",
              "    .dataframe thead th {\n",
              "        text-align: right;\n",
              "    }\n",
              "</style>\n",
              "<table border=\"1\" class=\"dataframe\">\n",
              "  <thead>\n",
              "    <tr style=\"text-align: right;\">\n",
              "      <th></th>\n",
              "      <th>X04</th>\n",
              "      <th>X10</th>\n",
              "      <th>X21</th>\n",
              "      <th>X36</th>\n",
              "      <th>X39</th>\n",
              "    </tr>\n",
              "  </thead>\n",
              "  <tbody>\n",
              "    <tr>\n",
              "      <th>X04</th>\n",
              "      <td>1.000000</td>\n",
              "      <td>0.815176</td>\n",
              "      <td>0.934104</td>\n",
              "      <td>0.986345</td>\n",
              "      <td>0.747254</td>\n",
              "    </tr>\n",
              "    <tr>\n",
              "      <th>X10</th>\n",
              "      <td>0.815176</td>\n",
              "      <td>1.000000</td>\n",
              "      <td>0.796809</td>\n",
              "      <td>0.740117</td>\n",
              "      <td>0.813190</td>\n",
              "    </tr>\n",
              "    <tr>\n",
              "      <th>X21</th>\n",
              "      <td>0.934104</td>\n",
              "      <td>0.796809</td>\n",
              "      <td>1.000000</td>\n",
              "      <td>0.904654</td>\n",
              "      <td>0.868231</td>\n",
              "    </tr>\n",
              "    <tr>\n",
              "      <th>X36</th>\n",
              "      <td>0.986345</td>\n",
              "      <td>0.740117</td>\n",
              "      <td>0.904654</td>\n",
              "      <td>1.000000</td>\n",
              "      <td>0.676623</td>\n",
              "    </tr>\n",
              "    <tr>\n",
              "      <th>X39</th>\n",
              "      <td>0.747254</td>\n",
              "      <td>0.813190</td>\n",
              "      <td>0.868231</td>\n",
              "      <td>0.676623</td>\n",
              "      <td>1.000000</td>\n",
              "    </tr>\n",
              "  </tbody>\n",
              "</table>\n",
              "</div>"
            ],
            "text/plain": [
              "          X04       X10       X21       X36       X39\n",
              "X04  1.000000  0.815176  0.934104  0.986345  0.747254\n",
              "X10  0.815176  1.000000  0.796809  0.740117  0.813190\n",
              "X21  0.934104  0.796809  1.000000  0.904654  0.868231\n",
              "X36  0.986345  0.740117  0.904654  1.000000  0.676623\n",
              "X39  0.747254  0.813190  0.868231  0.676623  1.000000"
            ]
          },
          "metadata": {
            "tags": []
          },
          "execution_count": 227
        }
      ]
    },
    {
      "cell_type": "code",
      "metadata": {
        "id": "ymZ1wcFalLdv",
        "colab_type": "code",
        "outputId": "93366361-c1e5-4799-a23b-c9851d98499c",
        "colab": {
          "base_uri": "https://localhost:8080/",
          "height": 286
        }
      },
      "source": [
        "sns.heatmap(df[feat_rainfall].corr(), cmap='coolwarm')"
      ],
      "execution_count": 0,
      "outputs": [
        {
          "output_type": "execute_result",
          "data": {
            "text/plain": [
              "<matplotlib.axes._subplots.AxesSubplot at 0x7fc7a76812e8>"
            ]
          },
          "metadata": {
            "tags": []
          },
          "execution_count": 228
        },
        {
          "output_type": "display_data",
          "data": {
            "image/png": "[encoded data removed]",
            "text/plain": [
              "<Figure size 432x288 with 2 Axes>"
            ]
          },
          "metadata": {
            "tags": []
          }
        }
      ]
    },
    {
      "cell_type": "code",
      "metadata": {
        "id": "3Bo7PBColLk_",
        "colab_type": "code",
        "colab": {}
      },
      "source": [
        ""
      ],
      "execution_count": 0,
      "outputs": []
    },
    {
      "cell_type": "markdown",
      "metadata": {
        "colab_type": "text",
        "id": "0fzb5Tmal9bO"
      },
      "source": [
        "### 해면기압"
      ]
    },
    {
      "cell_type": "code",
      "metadata": {
        "id": "PcWIwF3ys_xt",
        "colab_type": "code",
        "outputId": "17facabf-07b1-4807-c147-941fba02b171",
        "colab": {
          "base_uri": "https://localhost:8080/",
          "height": 301
        }
      },
      "source": [
        "df[feat_sea_press].describe()"
      ],
      "execution_count": 0,
      "outputs": [
        {
          "output_type": "execute_result",
          "data": {
            "text/html": [
              "<div>\n",
              "<style scoped>\n",
              "    .dataframe tbody tr th:only-of-type {\n",
              "        vertical-align: middle;\n",
              "    }\n",
              "\n",
              "    .dataframe tbody tr th {\n",
              "        vertical-align: top;\n",
              "    }\n",
              "\n",
              "    .dataframe thead th {\n",
              "        text-align: right;\n",
              "    }\n",
              "</style>\n",
              "<table border=\"1\" class=\"dataframe\">\n",
              "  <thead>\n",
              "    <tr style=\"text-align: right;\">\n",
              "      <th></th>\n",
              "      <th>X05</th>\n",
              "      <th>X08</th>\n",
              "      <th>X09</th>\n",
              "      <th>X23</th>\n",
              "      <th>X33</th>\n",
              "    </tr>\n",
              "  </thead>\n",
              "  <tbody>\n",
              "    <tr>\n",
              "      <th>count</th>\n",
              "      <td>4752.000000</td>\n",
              "      <td>4752.000000</td>\n",
              "      <td>4752.000000</td>\n",
              "      <td>4752.000000</td>\n",
              "      <td>4752.000000</td>\n",
              "    </tr>\n",
              "    <tr>\n",
              "      <th>mean</th>\n",
              "      <td>1008.333902</td>\n",
              "      <td>1008.790341</td>\n",
              "      <td>1008.394171</td>\n",
              "      <td>1008.850989</td>\n",
              "      <td>1009.074747</td>\n",
              "    </tr>\n",
              "    <tr>\n",
              "      <th>std</th>\n",
              "      <td>3.395037</td>\n",
              "      <td>3.520317</td>\n",
              "      <td>3.546180</td>\n",
              "      <td>3.417633</td>\n",
              "      <td>3.440669</td>\n",
              "    </tr>\n",
              "    <tr>\n",
              "      <th>min</th>\n",
              "      <td>997.200000</td>\n",
              "      <td>997.300000</td>\n",
              "      <td>996.300000</td>\n",
              "      <td>997.500000</td>\n",
              "      <td>998.700000</td>\n",
              "    </tr>\n",
              "    <tr>\n",
              "      <th>25%</th>\n",
              "      <td>1006.500000</td>\n",
              "      <td>1006.700000</td>\n",
              "      <td>1006.300000</td>\n",
              "      <td>1006.900000</td>\n",
              "      <td>1007.075000</td>\n",
              "    </tr>\n",
              "    <tr>\n",
              "      <th>50%</th>\n",
              "      <td>1008.500000</td>\n",
              "      <td>1008.800000</td>\n",
              "      <td>1008.400000</td>\n",
              "      <td>1008.900000</td>\n",
              "      <td>1009.200000</td>\n",
              "    </tr>\n",
              "    <tr>\n",
              "      <th>75%</th>\n",
              "      <td>1010.800000</td>\n",
              "      <td>1011.400000</td>\n",
              "      <td>1010.900000</td>\n",
              "      <td>1011.400000</td>\n",
              "      <td>1011.700000</td>\n",
              "    </tr>\n",
              "    <tr>\n",
              "      <th>max</th>\n",
              "      <td>1016.800000</td>\n",
              "      <td>1017.500000</td>\n",
              "      <td>1018.000000</td>\n",
              "      <td>1017.100000</td>\n",
              "      <td>1016.800000</td>\n",
              "    </tr>\n",
              "  </tbody>\n",
              "</table>\n",
              "</div>"
            ],
            "text/plain": [
              "               X05          X08          X09          X23          X33\n",
              "count  4752.000000  4752.000000  4752.000000  4752.000000  4752.000000\n",
              "mean   1008.333902  1008.790341  1008.394171  1008.850989  1009.074747\n",
              "std       3.395037     3.520317     3.546180     3.417633     3.440669\n",
              "min     997.200000   997.300000   996.300000   997.500000   998.700000\n",
              "25%    1006.500000  1006.700000  1006.300000  1006.900000  1007.075000\n",
              "50%    1008.500000  1008.800000  1008.400000  1008.900000  1009.200000\n",
              "75%    1010.800000  1011.400000  1010.900000  1011.400000  1011.700000\n",
              "max    1016.800000  1017.500000  1018.000000  1017.100000  1016.800000"
            ]
          },
          "metadata": {
            "tags": []
          },
          "execution_count": 229
        }
      ]
    },
    {
      "cell_type": "code",
      "metadata": {
        "colab_type": "code",
        "id": "qOgbsagal9bp",
        "outputId": "165e6425-7d83-44d6-9dc4-4df7eee43f46",
        "colab": {
          "base_uri": "https://localhost:8080/",
          "height": 206
        }
      },
      "source": [
        "df[feat_sea_press].corr()"
      ],
      "execution_count": 0,
      "outputs": [
        {
          "output_type": "execute_result",
          "data": {
            "text/html": [
              "<div>\n",
              "<style scoped>\n",
              "    .dataframe tbody tr th:only-of-type {\n",
              "        vertical-align: middle;\n",
              "    }\n",
              "\n",
              "    .dataframe tbody tr th {\n",
              "        vertical-align: top;\n",
              "    }\n",
              "\n",
              "    .dataframe thead th {\n",
              "        text-align: right;\n",
              "    }\n",
              "</style>\n",
              "<table border=\"1\" class=\"dataframe\">\n",
              "  <thead>\n",
              "    <tr style=\"text-align: right;\">\n",
              "      <th></th>\n",
              "      <th>X05</th>\n",
              "      <th>X08</th>\n",
              "      <th>X09</th>\n",
              "      <th>X23</th>\n",
              "      <th>X33</th>\n",
              "    </tr>\n",
              "  </thead>\n",
              "  <tbody>\n",
              "    <tr>\n",
              "      <th>X05</th>\n",
              "      <td>1.000000</td>\n",
              "      <td>0.991330</td>\n",
              "      <td>0.989875</td>\n",
              "      <td>0.997819</td>\n",
              "      <td>0.990969</td>\n",
              "    </tr>\n",
              "    <tr>\n",
              "      <th>X08</th>\n",
              "      <td>0.991330</td>\n",
              "      <td>1.000000</td>\n",
              "      <td>0.991651</td>\n",
              "      <td>0.994129</td>\n",
              "      <td>0.988586</td>\n",
              "    </tr>\n",
              "    <tr>\n",
              "      <th>X09</th>\n",
              "      <td>0.989875</td>\n",
              "      <td>0.991651</td>\n",
              "      <td>1.000000</td>\n",
              "      <td>0.988561</td>\n",
              "      <td>0.977810</td>\n",
              "    </tr>\n",
              "    <tr>\n",
              "      <th>X23</th>\n",
              "      <td>0.997819</td>\n",
              "      <td>0.994129</td>\n",
              "      <td>0.988561</td>\n",
              "      <td>1.000000</td>\n",
              "      <td>0.994468</td>\n",
              "    </tr>\n",
              "    <tr>\n",
              "      <th>X33</th>\n",
              "      <td>0.990969</td>\n",
              "      <td>0.988586</td>\n",
              "      <td>0.977810</td>\n",
              "      <td>0.994468</td>\n",
              "      <td>1.000000</td>\n",
              "    </tr>\n",
              "  </tbody>\n",
              "</table>\n",
              "</div>"
            ],
            "text/plain": [
              "          X05       X08       X09       X23       X33\n",
              "X05  1.000000  0.991330  0.989875  0.997819  0.990969\n",
              "X08  0.991330  1.000000  0.991651  0.994129  0.988586\n",
              "X09  0.989875  0.991651  1.000000  0.988561  0.977810\n",
              "X23  0.997819  0.994129  0.988561  1.000000  0.994468\n",
              "X33  0.990969  0.988586  0.977810  0.994468  1.000000"
            ]
          },
          "metadata": {
            "tags": []
          },
          "execution_count": 230
        }
      ]
    },
    {
      "cell_type": "code",
      "metadata": {
        "colab_type": "code",
        "id": "kCBKpjBFl9cA",
        "outputId": "3d99ba63-bf3b-49d2-998d-4ce7916b2322",
        "colab": {
          "base_uri": "https://localhost:8080/",
          "height": 286
        }
      },
      "source": [
        "sns.heatmap(df[feat_sea_press].corr(), cmap='coolwarm')"
      ],
      "execution_count": 0,
      "outputs": [
        {
          "output_type": "execute_result",
          "data": {
            "text/plain": [
              "<matplotlib.axes._subplots.AxesSubplot at 0x7fc7a71565c0>"
            ]
          },
          "metadata": {
            "tags": []
          },
          "execution_count": 231
        },
        {
          "output_type": "display_data",
          "data": {
            "image/png": "[encoded data removed]",
            "text/plain": [
              "<Figure size 432x288 with 2 Axes>"
            ]
          },
          "metadata": {
            "tags": []
          }
        }
      ]
    },
    {
      "cell_type": "markdown",
      "metadata": {
        "id": "8aFJuvkrmJYe",
        "colab_type": "text"
      },
      "source": [
        "### 일일 누적일사량"
      ]
    },
    {
      "cell_type": "markdown",
      "metadata": {
        "id": "JKTi0h1kpN4O",
        "colab_type": "text"
      },
      "source": [
        "**X14, 16, 19는 일사량이 전부 0이다.  \n",
        "일일 누적일사량을 사용하지 않는 것도 방법일 것이다.**"
      ]
    },
    {
      "cell_type": "code",
      "metadata": {
        "id": "jys3mESmtFbM",
        "colab_type": "code",
        "outputId": "04a4c48e-0a08-4b40-be18-a9d976bb1370",
        "colab": {
          "base_uri": "https://localhost:8080/",
          "height": 301
        }
      },
      "source": [
        "df[feat_insol].describe()"
      ],
      "execution_count": 0,
      "outputs": [
        {
          "output_type": "execute_result",
          "data": {
            "text/html": [
              "<div>\n",
              "<style scoped>\n",
              "    .dataframe tbody tr th:only-of-type {\n",
              "        vertical-align: middle;\n",
              "    }\n",
              "\n",
              "    .dataframe tbody tr th {\n",
              "        vertical-align: top;\n",
              "    }\n",
              "\n",
              "    .dataframe thead th {\n",
              "        text-align: right;\n",
              "    }\n",
              "</style>\n",
              "<table border=\"1\" class=\"dataframe\">\n",
              "  <thead>\n",
              "    <tr style=\"text-align: right;\">\n",
              "      <th></th>\n",
              "      <th>X11</th>\n",
              "      <th>X14</th>\n",
              "      <th>X16</th>\n",
              "      <th>X19</th>\n",
              "      <th>X34</th>\n",
              "    </tr>\n",
              "  </thead>\n",
              "  <tbody>\n",
              "    <tr>\n",
              "      <th>count</th>\n",
              "      <td>4752.000000</td>\n",
              "      <td>4752.0</td>\n",
              "      <td>4752.0</td>\n",
              "      <td>4752.0</td>\n",
              "      <td>4752.000000</td>\n",
              "    </tr>\n",
              "    <tr>\n",
              "      <th>mean</th>\n",
              "      <td>11.008479</td>\n",
              "      <td>0.0</td>\n",
              "      <td>0.0</td>\n",
              "      <td>0.0</td>\n",
              "      <td>11.567563</td>\n",
              "    </tr>\n",
              "    <tr>\n",
              "      <th>std</th>\n",
              "      <td>10.873539</td>\n",
              "      <td>0.0</td>\n",
              "      <td>0.0</td>\n",
              "      <td>0.0</td>\n",
              "      <td>11.386727</td>\n",
              "    </tr>\n",
              "    <tr>\n",
              "      <th>min</th>\n",
              "      <td>0.000000</td>\n",
              "      <td>0.0</td>\n",
              "      <td>0.0</td>\n",
              "      <td>0.0</td>\n",
              "      <td>0.000000</td>\n",
              "    </tr>\n",
              "    <tr>\n",
              "      <th>25%</th>\n",
              "      <td>0.020000</td>\n",
              "      <td>0.0</td>\n",
              "      <td>0.0</td>\n",
              "      <td>0.0</td>\n",
              "      <td>0.030000</td>\n",
              "    </tr>\n",
              "    <tr>\n",
              "      <th>50%</th>\n",
              "      <td>7.690000</td>\n",
              "      <td>0.0</td>\n",
              "      <td>0.0</td>\n",
              "      <td>0.0</td>\n",
              "      <td>8.210000</td>\n",
              "    </tr>\n",
              "    <tr>\n",
              "      <th>75%</th>\n",
              "      <td>22.190000</td>\n",
              "      <td>0.0</td>\n",
              "      <td>0.0</td>\n",
              "      <td>0.0</td>\n",
              "      <td>22.562500</td>\n",
              "    </tr>\n",
              "    <tr>\n",
              "      <th>max</th>\n",
              "      <td>30.700000</td>\n",
              "      <td>0.0</td>\n",
              "      <td>0.0</td>\n",
              "      <td>0.0</td>\n",
              "      <td>32.240000</td>\n",
              "    </tr>\n",
              "  </tbody>\n",
              "</table>\n",
              "</div>"
            ],
            "text/plain": [
              "               X11     X14     X16     X19          X34\n",
              "count  4752.000000  4752.0  4752.0  4752.0  4752.000000\n",
              "mean     11.008479     0.0     0.0     0.0    11.567563\n",
              "std      10.873539     0.0     0.0     0.0    11.386727\n",
              "min       0.000000     0.0     0.0     0.0     0.000000\n",
              "25%       0.020000     0.0     0.0     0.0     0.030000\n",
              "50%       7.690000     0.0     0.0     0.0     8.210000\n",
              "75%      22.190000     0.0     0.0     0.0    22.562500\n",
              "max      30.700000     0.0     0.0     0.0    32.240000"
            ]
          },
          "metadata": {
            "tags": []
          },
          "execution_count": 232
        }
      ]
    },
    {
      "cell_type": "code",
      "metadata": {
        "colab_type": "code",
        "id": "i3W0bWFMl31u",
        "outputId": "16b4fada-dbc8-42da-8e4d-22d81a6254ce",
        "colab": {
          "base_uri": "https://localhost:8080/",
          "height": 206
        }
      },
      "source": [
        "df[feat_insol].corr()"
      ],
      "execution_count": 0,
      "outputs": [
        {
          "output_type": "execute_result",
          "data": {
            "text/html": [
              "<div>\n",
              "<style scoped>\n",
              "    .dataframe tbody tr th:only-of-type {\n",
              "        vertical-align: middle;\n",
              "    }\n",
              "\n",
              "    .dataframe tbody tr th {\n",
              "        vertical-align: top;\n",
              "    }\n",
              "\n",
              "    .dataframe thead th {\n",
              "        text-align: right;\n",
              "    }\n",
              "</style>\n",
              "<table border=\"1\" class=\"dataframe\">\n",
              "  <thead>\n",
              "    <tr style=\"text-align: right;\">\n",
              "      <th></th>\n",
              "      <th>X11</th>\n",
              "      <th>X14</th>\n",
              "      <th>X16</th>\n",
              "      <th>X19</th>\n",
              "      <th>X34</th>\n",
              "    </tr>\n",
              "  </thead>\n",
              "  <tbody>\n",
              "    <tr>\n",
              "      <th>X11</th>\n",
              "      <td>1.000000</td>\n",
              "      <td>NaN</td>\n",
              "      <td>NaN</td>\n",
              "      <td>NaN</td>\n",
              "      <td>0.995187</td>\n",
              "    </tr>\n",
              "    <tr>\n",
              "      <th>X14</th>\n",
              "      <td>NaN</td>\n",
              "      <td>NaN</td>\n",
              "      <td>NaN</td>\n",
              "      <td>NaN</td>\n",
              "      <td>NaN</td>\n",
              "    </tr>\n",
              "    <tr>\n",
              "      <th>X16</th>\n",
              "      <td>NaN</td>\n",
              "      <td>NaN</td>\n",
              "      <td>NaN</td>\n",
              "      <td>NaN</td>\n",
              "      <td>NaN</td>\n",
              "    </tr>\n",
              "    <tr>\n",
              "      <th>X19</th>\n",
              "      <td>NaN</td>\n",
              "      <td>NaN</td>\n",
              "      <td>NaN</td>\n",
              "      <td>NaN</td>\n",
              "      <td>NaN</td>\n",
              "    </tr>\n",
              "    <tr>\n",
              "      <th>X34</th>\n",
              "      <td>0.995187</td>\n",
              "      <td>NaN</td>\n",
              "      <td>NaN</td>\n",
              "      <td>NaN</td>\n",
              "      <td>1.000000</td>\n",
              "    </tr>\n",
              "  </tbody>\n",
              "</table>\n",
              "</div>"
            ],
            "text/plain": [
              "          X11  X14  X16  X19       X34\n",
              "X11  1.000000  NaN  NaN  NaN  0.995187\n",
              "X14       NaN  NaN  NaN  NaN       NaN\n",
              "X16       NaN  NaN  NaN  NaN       NaN\n",
              "X19       NaN  NaN  NaN  NaN       NaN\n",
              "X34  0.995187  NaN  NaN  NaN  1.000000"
            ]
          },
          "metadata": {
            "tags": []
          },
          "execution_count": 233
        }
      ]
    },
    {
      "cell_type": "code",
      "metadata": {
        "colab_type": "code",
        "id": "q0Cs558Ql31x",
        "outputId": "1e568b4c-9e6b-4588-e295-25f0e8a2a2ee",
        "colab": {
          "base_uri": "https://localhost:8080/",
          "height": 286
        }
      },
      "source": [
        "sns.heatmap(df[feat_insol].corr(), cmap='coolwarm')"
      ],
      "execution_count": 0,
      "outputs": [
        {
          "output_type": "execute_result",
          "data": {
            "text/plain": [
              "<matplotlib.axes._subplots.AxesSubplot at 0x7fc7a79bbb70>"
            ]
          },
          "metadata": {
            "tags": []
          },
          "execution_count": 216
        },
        {
          "output_type": "display_data",
          "data": {
            "image/png": "[encoded data removed]",
            "text/plain": [
              "<Figure size 432x288 with 2 Axes>"
            ]
          },
          "metadata": {
            "tags": []
          }
        }
      ]
    },
    {
      "cell_type": "markdown",
      "metadata": {
        "id": "O30HJjPmmPRU",
        "colab_type": "text"
      },
      "source": [
        "### 습도"
      ]
    },
    {
      "cell_type": "code",
      "metadata": {
        "id": "mJ2CIjzntNwZ",
        "colab_type": "code",
        "outputId": "38487630-4a6b-42f4-9fcc-16e9cd7922c4",
        "colab": {
          "base_uri": "https://localhost:8080/",
          "height": 301
        }
      },
      "source": [
        "df[feat_humid].describe()"
      ],
      "execution_count": 0,
      "outputs": [
        {
          "output_type": "execute_result",
          "data": {
            "text/html": [
              "<div>\n",
              "<style scoped>\n",
              "    .dataframe tbody tr th:only-of-type {\n",
              "        vertical-align: middle;\n",
              "    }\n",
              "\n",
              "    .dataframe tbody tr th {\n",
              "        vertical-align: top;\n",
              "    }\n",
              "\n",
              "    .dataframe thead th {\n",
              "        text-align: right;\n",
              "    }\n",
              "</style>\n",
              "<table border=\"1\" class=\"dataframe\">\n",
              "  <thead>\n",
              "    <tr style=\"text-align: right;\">\n",
              "      <th></th>\n",
              "      <th>X12</th>\n",
              "      <th>X20</th>\n",
              "      <th>X30</th>\n",
              "      <th>X37</th>\n",
              "      <th>X38</th>\n",
              "    </tr>\n",
              "  </thead>\n",
              "  <tbody>\n",
              "    <tr>\n",
              "      <th>count</th>\n",
              "      <td>4752.000000</td>\n",
              "      <td>4752.000000</td>\n",
              "      <td>4752.000000</td>\n",
              "      <td>4752.000000</td>\n",
              "      <td>4752.000000</td>\n",
              "    </tr>\n",
              "    <tr>\n",
              "      <th>mean</th>\n",
              "      <td>68.209827</td>\n",
              "      <td>71.478872</td>\n",
              "      <td>65.657639</td>\n",
              "      <td>65.918771</td>\n",
              "      <td>58.178704</td>\n",
              "    </tr>\n",
              "    <tr>\n",
              "      <th>std</th>\n",
              "      <td>22.278053</td>\n",
              "      <td>21.830446</td>\n",
              "      <td>21.525699</td>\n",
              "      <td>19.527173</td>\n",
              "      <td>18.368285</td>\n",
              "    </tr>\n",
              "    <tr>\n",
              "      <th>min</th>\n",
              "      <td>16.400000</td>\n",
              "      <td>19.700000</td>\n",
              "      <td>17.400000</td>\n",
              "      <td>17.500000</td>\n",
              "      <td>17.900000</td>\n",
              "    </tr>\n",
              "    <tr>\n",
              "      <th>25%</th>\n",
              "      <td>49.500000</td>\n",
              "      <td>53.075000</td>\n",
              "      <td>48.075000</td>\n",
              "      <td>51.500000</td>\n",
              "      <td>44.600000</td>\n",
              "    </tr>\n",
              "    <tr>\n",
              "      <th>50%</th>\n",
              "      <td>72.150000</td>\n",
              "      <td>74.200000</td>\n",
              "      <td>69.400000</td>\n",
              "      <td>67.300000</td>\n",
              "      <td>59.100000</td>\n",
              "    </tr>\n",
              "    <tr>\n",
              "      <th>75%</th>\n",
              "      <td>89.025000</td>\n",
              "      <td>92.600000</td>\n",
              "      <td>85.600000</td>\n",
              "      <td>81.900000</td>\n",
              "      <td>72.700000</td>\n",
              "    </tr>\n",
              "    <tr>\n",
              "      <th>max</th>\n",
              "      <td>97.900000</td>\n",
              "      <td>97.900000</td>\n",
              "      <td>97.200000</td>\n",
              "      <td>97.800000</td>\n",
              "      <td>94.800000</td>\n",
              "    </tr>\n",
              "  </tbody>\n",
              "</table>\n",
              "</div>"
            ],
            "text/plain": [
              "               X12          X20          X30          X37          X38\n",
              "count  4752.000000  4752.000000  4752.000000  4752.000000  4752.000000\n",
              "mean     68.209827    71.478872    65.657639    65.918771    58.178704\n",
              "std      22.278053    21.830446    21.525699    19.527173    18.368285\n",
              "min      16.400000    19.700000    17.400000    17.500000    17.900000\n",
              "25%      49.500000    53.075000    48.075000    51.500000    44.600000\n",
              "50%      72.150000    74.200000    69.400000    67.300000    59.100000\n",
              "75%      89.025000    92.600000    85.600000    81.900000    72.700000\n",
              "max      97.900000    97.900000    97.200000    97.800000    94.800000"
            ]
          },
          "metadata": {
            "tags": []
          },
          "execution_count": 217
        }
      ]
    },
    {
      "cell_type": "code",
      "metadata": {
        "colab_type": "code",
        "id": "ZUnAzjSKl3s8",
        "outputId": "c95ab2e4-ae09-43ae-c545-c3e854d3d16e",
        "colab": {
          "base_uri": "https://localhost:8080/",
          "height": 206
        }
      },
      "source": [
        "df[feat_humid].corr()"
      ],
      "execution_count": 0,
      "outputs": [
        {
          "output_type": "execute_result",
          "data": {
            "text/html": [
              "<div>\n",
              "<style scoped>\n",
              "    .dataframe tbody tr th:only-of-type {\n",
              "        vertical-align: middle;\n",
              "    }\n",
              "\n",
              "    .dataframe tbody tr th {\n",
              "        vertical-align: top;\n",
              "    }\n",
              "\n",
              "    .dataframe thead th {\n",
              "        text-align: right;\n",
              "    }\n",
              "</style>\n",
              "<table border=\"1\" class=\"dataframe\">\n",
              "  <thead>\n",
              "    <tr style=\"text-align: right;\">\n",
              "      <th></th>\n",
              "      <th>X12</th>\n",
              "      <th>X20</th>\n",
              "      <th>X30</th>\n",
              "      <th>X37</th>\n",
              "      <th>X38</th>\n",
              "    </tr>\n",
              "  </thead>\n",
              "  <tbody>\n",
              "    <tr>\n",
              "      <th>X12</th>\n",
              "      <td>1.000000</td>\n",
              "      <td>0.937239</td>\n",
              "      <td>0.952855</td>\n",
              "      <td>0.908078</td>\n",
              "      <td>0.853899</td>\n",
              "    </tr>\n",
              "    <tr>\n",
              "      <th>X20</th>\n",
              "      <td>0.937239</td>\n",
              "      <td>1.000000</td>\n",
              "      <td>0.928021</td>\n",
              "      <td>0.900590</td>\n",
              "      <td>0.855513</td>\n",
              "    </tr>\n",
              "    <tr>\n",
              "      <th>X30</th>\n",
              "      <td>0.952855</td>\n",
              "      <td>0.928021</td>\n",
              "      <td>1.000000</td>\n",
              "      <td>0.921706</td>\n",
              "      <td>0.851052</td>\n",
              "    </tr>\n",
              "    <tr>\n",
              "      <th>X37</th>\n",
              "      <td>0.908078</td>\n",
              "      <td>0.900590</td>\n",
              "      <td>0.921706</td>\n",
              "      <td>1.000000</td>\n",
              "      <td>0.931389</td>\n",
              "    </tr>\n",
              "    <tr>\n",
              "      <th>X38</th>\n",
              "      <td>0.853899</td>\n",
              "      <td>0.855513</td>\n",
              "      <td>0.851052</td>\n",
              "      <td>0.931389</td>\n",
              "      <td>1.000000</td>\n",
              "    </tr>\n",
              "  </tbody>\n",
              "</table>\n",
              "</div>"
            ],
            "text/plain": [
              "          X12       X20       X30       X37       X38\n",
              "X12  1.000000  0.937239  0.952855  0.908078  0.853899\n",
              "X20  0.937239  1.000000  0.928021  0.900590  0.855513\n",
              "X30  0.952855  0.928021  1.000000  0.921706  0.851052\n",
              "X37  0.908078  0.900590  0.921706  1.000000  0.931389\n",
              "X38  0.853899  0.855513  0.851052  0.931389  1.000000"
            ]
          },
          "metadata": {
            "tags": []
          },
          "execution_count": 218
        }
      ]
    },
    {
      "cell_type": "code",
      "metadata": {
        "colab_type": "code",
        "id": "mEIoVUVul3tB",
        "outputId": "3eaa0803-5bbf-4cea-d88a-75d472a7ee64",
        "colab": {
          "base_uri": "https://localhost:8080/",
          "height": 286
        }
      },
      "source": [
        "sns.heatmap(df[feat_humid].corr(), cmap='coolwarm')"
      ],
      "execution_count": 0,
      "outputs": [
        {
          "output_type": "execute_result",
          "data": {
            "text/plain": [
              "<matplotlib.axes._subplots.AxesSubplot at 0x7fc7a73992b0>"
            ]
          },
          "metadata": {
            "tags": []
          },
          "execution_count": 219
        },
        {
          "output_type": "display_data",
          "data": {
            "image/png": "[encoded data removed]",
            "text/plain": [
              "<Figure size 432x288 with 2 Axes>"
            ]
          },
          "metadata": {
            "tags": []
          }
        }
      ]
    },
    {
      "cell_type": "markdown",
      "metadata": {
        "id": "XHbsWazamZKu",
        "colab_type": "text"
      },
      "source": [
        "### 풍향"
      ]
    },
    {
      "cell_type": "code",
      "metadata": {
        "id": "WBOJ011MtXGV",
        "colab_type": "code",
        "outputId": "08bbeaa3-000b-4f0a-bcfd-683fe4356176",
        "colab": {
          "base_uri": "https://localhost:8080/",
          "height": 300
        }
      },
      "source": [
        "df[feat_dir_wind].describe()"
      ],
      "execution_count": 0,
      "outputs": [
        {
          "output_type": "execute_result",
          "data": {
            "text/html": [
              "<div>\n",
              "<style scoped>\n",
              "    .dataframe tbody tr th:only-of-type {\n",
              "        vertical-align: middle;\n",
              "    }\n",
              "\n",
              "    .dataframe tbody tr th {\n",
              "        vertical-align: top;\n",
              "    }\n",
              "\n",
              "    .dataframe thead th {\n",
              "        text-align: right;\n",
              "    }\n",
              "</style>\n",
              "<table border=\"1\" class=\"dataframe\">\n",
              "  <thead>\n",
              "    <tr style=\"text-align: right;\">\n",
              "      <th></th>\n",
              "      <th>X13</th>\n",
              "      <th>X15</th>\n",
              "      <th>X17</th>\n",
              "      <th>X25</th>\n",
              "      <th>X35</th>\n",
              "    </tr>\n",
              "  </thead>\n",
              "  <tbody>\n",
              "    <tr>\n",
              "      <th>count</th>\n",
              "      <td>4752.000000</td>\n",
              "      <td>4752.000000</td>\n",
              "      <td>4752.000000</td>\n",
              "      <td>4752.000000</td>\n",
              "      <td>4752.000000</td>\n",
              "    </tr>\n",
              "    <tr>\n",
              "      <th>mean</th>\n",
              "      <td>161.357639</td>\n",
              "      <td>174.346654</td>\n",
              "      <td>161.823864</td>\n",
              "      <td>139.524453</td>\n",
              "      <td>208.400505</td>\n",
              "    </tr>\n",
              "    <tr>\n",
              "      <th>std</th>\n",
              "      <td>98.787460</td>\n",
              "      <td>97.785811</td>\n",
              "      <td>115.943382</td>\n",
              "      <td>131.438036</td>\n",
              "      <td>99.580562</td>\n",
              "    </tr>\n",
              "    <tr>\n",
              "      <th>min</th>\n",
              "      <td>0.000000</td>\n",
              "      <td>0.000000</td>\n",
              "      <td>0.000000</td>\n",
              "      <td>0.000000</td>\n",
              "      <td>0.000000</td>\n",
              "    </tr>\n",
              "    <tr>\n",
              "      <th>25%</th>\n",
              "      <td>69.225000</td>\n",
              "      <td>115.600000</td>\n",
              "      <td>33.875000</td>\n",
              "      <td>0.000000</td>\n",
              "      <td>155.300000</td>\n",
              "    </tr>\n",
              "    <tr>\n",
              "      <th>50%</th>\n",
              "      <td>182.600000</td>\n",
              "      <td>170.250000</td>\n",
              "      <td>190.450000</td>\n",
              "      <td>134.150000</td>\n",
              "      <td>240.850000</td>\n",
              "    </tr>\n",
              "    <tr>\n",
              "      <th>75%</th>\n",
              "      <td>228.925000</td>\n",
              "      <td>258.400000</td>\n",
              "      <td>253.125000</td>\n",
              "      <td>270.900000</td>\n",
              "      <td>277.800000</td>\n",
              "    </tr>\n",
              "    <tr>\n",
              "      <th>max</th>\n",
              "      <td>360.000000</td>\n",
              "      <td>359.900000</td>\n",
              "      <td>360.000000</td>\n",
              "      <td>359.900000</td>\n",
              "      <td>359.900000</td>\n",
              "    </tr>\n",
              "  </tbody>\n",
              "</table>\n",
              "</div>"
            ],
            "text/plain": [
              "               X13          X15          X17          X25          X35\n",
              "count  4752.000000  4752.000000  4752.000000  4752.000000  4752.000000\n",
              "mean    161.357639   174.346654   161.823864   139.524453   208.400505\n",
              "std      98.787460    97.785811   115.943382   131.438036    99.580562\n",
              "min       0.000000     0.000000     0.000000     0.000000     0.000000\n",
              "25%      69.225000   115.600000    33.875000     0.000000   155.300000\n",
              "50%     182.600000   170.250000   190.450000   134.150000   240.850000\n",
              "75%     228.925000   258.400000   253.125000   270.900000   277.800000\n",
              "max     360.000000   359.900000   360.000000   359.900000   359.900000"
            ]
          },
          "metadata": {
            "tags": []
          },
          "execution_count": 36
        }
      ]
    },
    {
      "cell_type": "code",
      "metadata": {
        "colab_type": "code",
        "id": "gvqlL5Ucl3bc",
        "outputId": "4e670585-6ca7-4594-e1f4-c25e8d70617b",
        "colab": {
          "base_uri": "https://localhost:8080/",
          "height": 206
        }
      },
      "source": [
        "df[feat_dir_wind].corr()"
      ],
      "execution_count": 0,
      "outputs": [
        {
          "output_type": "execute_result",
          "data": {
            "text/html": [
              "<div>\n",
              "<style scoped>\n",
              "    .dataframe tbody tr th:only-of-type {\n",
              "        vertical-align: middle;\n",
              "    }\n",
              "\n",
              "    .dataframe tbody tr th {\n",
              "        vertical-align: top;\n",
              "    }\n",
              "\n",
              "    .dataframe thead th {\n",
              "        text-align: right;\n",
              "    }\n",
              "</style>\n",
              "<table border=\"1\" class=\"dataframe\">\n",
              "  <thead>\n",
              "    <tr style=\"text-align: right;\">\n",
              "      <th></th>\n",
              "      <th>X13</th>\n",
              "      <th>X15</th>\n",
              "      <th>X17</th>\n",
              "      <th>X25</th>\n",
              "      <th>X35</th>\n",
              "    </tr>\n",
              "  </thead>\n",
              "  <tbody>\n",
              "    <tr>\n",
              "      <th>X13</th>\n",
              "      <td>1.000000</td>\n",
              "      <td>0.120568</td>\n",
              "      <td>-0.003977</td>\n",
              "      <td>0.029207</td>\n",
              "      <td>0.053072</td>\n",
              "    </tr>\n",
              "    <tr>\n",
              "      <th>X15</th>\n",
              "      <td>0.120568</td>\n",
              "      <td>1.000000</td>\n",
              "      <td>0.133061</td>\n",
              "      <td>0.144404</td>\n",
              "      <td>0.093405</td>\n",
              "    </tr>\n",
              "    <tr>\n",
              "      <th>X17</th>\n",
              "      <td>-0.003977</td>\n",
              "      <td>0.133061</td>\n",
              "      <td>1.000000</td>\n",
              "      <td>0.354239</td>\n",
              "      <td>0.205332</td>\n",
              "    </tr>\n",
              "    <tr>\n",
              "      <th>X25</th>\n",
              "      <td>0.029207</td>\n",
              "      <td>0.144404</td>\n",
              "      <td>0.354239</td>\n",
              "      <td>1.000000</td>\n",
              "      <td>0.303246</td>\n",
              "    </tr>\n",
              "    <tr>\n",
              "      <th>X35</th>\n",
              "      <td>0.053072</td>\n",
              "      <td>0.093405</td>\n",
              "      <td>0.205332</td>\n",
              "      <td>0.303246</td>\n",
              "      <td>1.000000</td>\n",
              "    </tr>\n",
              "  </tbody>\n",
              "</table>\n",
              "</div>"
            ],
            "text/plain": [
              "          X13       X15       X17       X25       X35\n",
              "X13  1.000000  0.120568 -0.003977  0.029207  0.053072\n",
              "X15  0.120568  1.000000  0.133061  0.144404  0.093405\n",
              "X17 -0.003977  0.133061  1.000000  0.354239  0.205332\n",
              "X25  0.029207  0.144404  0.354239  1.000000  0.303246\n",
              "X35  0.053072  0.093405  0.205332  0.303246  1.000000"
            ]
          },
          "metadata": {
            "tags": []
          },
          "execution_count": 37
        }
      ]
    },
    {
      "cell_type": "code",
      "metadata": {
        "colab_type": "code",
        "id": "zVYe2M4il3b1",
        "outputId": "83f5fccc-6819-48b8-a788-dd2b49d0449d",
        "colab": {
          "base_uri": "https://localhost:8080/",
          "height": 286
        }
      },
      "source": [
        "sns.heatmap(df[feat_dir_wind].corr(), cmap='coolwarm')"
      ],
      "execution_count": 0,
      "outputs": [
        {
          "output_type": "execute_result",
          "data": {
            "text/plain": [
              "<matplotlib.axes._subplots.AxesSubplot at 0x7fc7a85a0048>"
            ]
          },
          "metadata": {
            "tags": []
          },
          "execution_count": 38
        },
        {
          "output_type": "display_data",
          "data": {
            "image/png": "[encoded data removed]",
            "text/plain": [
              "<Figure size 432x288 with 2 Axes>"
            ]
          },
          "metadata": {
            "tags": []
          }
        }
      ]
    },
    {
      "cell_type": "code",
      "metadata": {
        "colab_type": "code",
        "id": "7wcAZskyl3b_",
        "colab": {}
      },
      "source": [
        ""
      ],
      "execution_count": 0,
      "outputs": []
    },
    {
      "cell_type": "markdown",
      "metadata": {
        "id": "YDNoDj9ylJoF",
        "colab_type": "text"
      },
      "source": [
        "## y"
      ]
    },
    {
      "cell_type": "markdown",
      "metadata": {
        "id": "N9bZ-cXPG-ug",
        "colab_type": "text"
      },
      "source": [
        "### feat_y"
      ]
    },
    {
      "cell_type": "code",
      "metadata": {
        "id": "OohHQJHslMgN",
        "colab_type": "code",
        "colab": {}
      },
      "source": [
        "feat_y = ['Y00', 'Y01', 'Y02', 'Y03', 'Y04', 'Y05', 'Y06', 'Y07', 'Y08', 'Y09', 'Y10', 'Y11', 'Y12', 'Y13', 'Y14', 'Y15', 'Y16', 'Y17']"
      ],
      "execution_count": 0,
      "outputs": []
    },
    {
      "cell_type": "code",
      "metadata": {
        "id": "QrbG9Yfjun58",
        "colab_type": "code",
        "outputId": "ae327fd5-94db-4f9d-b45b-b4304fe700f8",
        "colab": {
          "base_uri": "https://localhost:8080/",
          "height": 34
        }
      },
      "source": [
        "df[feat_y].shape"
      ],
      "execution_count": 0,
      "outputs": [
        {
          "output_type": "execute_result",
          "data": {
            "text/plain": [
              "(4752, 18)"
            ]
          },
          "metadata": {
            "tags": []
          },
          "execution_count": 235
        }
      ]
    },
    {
      "cell_type": "markdown",
      "metadata": {
        "id": "vi5uB3Bevaif",
        "colab_type": "text"
      },
      "source": [
        "null 값이 없는 부분만 추출 "
      ]
    },
    {
      "cell_type": "code",
      "metadata": {
        "id": "Guw6xTMuun_o",
        "colab_type": "code",
        "outputId": "ce283dc8-76f1-4004-aac3-c12e90171102",
        "colab": {
          "base_uri": "https://localhost:8080/",
          "height": 34
        }
      },
      "source": [
        "df_y = df[feat_y][:n]\n",
        "df_y.shape "
      ],
      "execution_count": 0,
      "outputs": [
        {
          "output_type": "execute_result",
          "data": {
            "text/plain": [
              "(4320, 18)"
            ]
          },
          "metadata": {
            "tags": []
          },
          "execution_count": 236
        }
      ]
    },
    {
      "cell_type": "code",
      "metadata": {
        "id": "HoyoZqhjuoDY",
        "colab_type": "code",
        "outputId": "3e67bab2-3ff5-42fe-9342-39c8a3cd7f63",
        "colab": {
          "base_uri": "https://localhost:8080/",
          "height": 416
        }
      },
      "source": [
        "df_y.info()"
      ],
      "execution_count": 0,
      "outputs": [
        {
          "output_type": "stream",
          "text": [
            "<class 'pandas.core.frame.DataFrame'>\n",
            "RangeIndex: 4320 entries, 0 to 4319\n",
            "Data columns (total 18 columns):\n",
            "Y00    4320 non-null float64\n",
            "Y01    4320 non-null float64\n",
            "Y02    4320 non-null float64\n",
            "Y03    4320 non-null float64\n",
            "Y04    4320 non-null float64\n",
            "Y05    4320 non-null float64\n",
            "Y06    4320 non-null float64\n",
            "Y07    4320 non-null float64\n",
            "Y08    4320 non-null float64\n",
            "Y09    4320 non-null float64\n",
            "Y10    4320 non-null float64\n",
            "Y11    4320 non-null float64\n",
            "Y12    4320 non-null float64\n",
            "Y13    4320 non-null float64\n",
            "Y14    4320 non-null float64\n",
            "Y15    4320 non-null float64\n",
            "Y16    4320 non-null float64\n",
            "Y17    4320 non-null float64\n",
            "dtypes: float64(18)\n",
            "memory usage: 607.6 KB\n"
          ],
          "name": "stdout"
        }
      ]
    },
    {
      "cell_type": "code",
      "metadata": {
        "id": "qCQcKl1K2inI",
        "colab_type": "code",
        "outputId": "5b8ddcd2-0f7d-41e7-b640-2ee2d40fd8b2",
        "colab": {
          "base_uri": "https://localhost:8080/",
          "height": 301
        }
      },
      "source": [
        "df_y.describe().round(1)"
      ],
      "execution_count": 0,
      "outputs": [
        {
          "output_type": "execute_result",
          "data": {
            "text/html": [
              "<div>\n",
              "<style scoped>\n",
              "    .dataframe tbody tr th:only-of-type {\n",
              "        vertical-align: middle;\n",
              "    }\n",
              "\n",
              "    .dataframe tbody tr th {\n",
              "        vertical-align: top;\n",
              "    }\n",
              "\n",
              "    .dataframe thead th {\n",
              "        text-align: right;\n",
              "    }\n",
              "</style>\n",
              "<table border=\"1\" class=\"dataframe\">\n",
              "  <thead>\n",
              "    <tr style=\"text-align: right;\">\n",
              "      <th></th>\n",
              "      <th>Y00</th>\n",
              "      <th>Y01</th>\n",
              "      <th>Y02</th>\n",
              "      <th>Y03</th>\n",
              "      <th>Y04</th>\n",
              "      <th>Y05</th>\n",
              "      <th>Y06</th>\n",
              "      <th>Y07</th>\n",
              "      <th>Y08</th>\n",
              "      <th>Y09</th>\n",
              "      <th>Y10</th>\n",
              "      <th>Y11</th>\n",
              "      <th>Y12</th>\n",
              "      <th>Y13</th>\n",
              "      <th>Y14</th>\n",
              "      <th>Y15</th>\n",
              "      <th>Y16</th>\n",
              "      <th>Y17</th>\n",
              "    </tr>\n",
              "  </thead>\n",
              "  <tbody>\n",
              "    <tr>\n",
              "      <th>count</th>\n",
              "      <td>4320.0</td>\n",
              "      <td>4320.0</td>\n",
              "      <td>4320.0</td>\n",
              "      <td>4320.0</td>\n",
              "      <td>4320.0</td>\n",
              "      <td>4320.0</td>\n",
              "      <td>4320.0</td>\n",
              "      <td>4320.0</td>\n",
              "      <td>4320.0</td>\n",
              "      <td>4320.0</td>\n",
              "      <td>4320.0</td>\n",
              "      <td>4320.0</td>\n",
              "      <td>4320.0</td>\n",
              "      <td>4320.0</td>\n",
              "      <td>4320.0</td>\n",
              "      <td>4320.0</td>\n",
              "      <td>4320.0</td>\n",
              "      <td>4320.0</td>\n",
              "    </tr>\n",
              "    <tr>\n",
              "      <th>mean</th>\n",
              "      <td>21.3</td>\n",
              "      <td>23.7</td>\n",
              "      <td>23.6</td>\n",
              "      <td>24.5</td>\n",
              "      <td>24.5</td>\n",
              "      <td>24.2</td>\n",
              "      <td>22.5</td>\n",
              "      <td>23.8</td>\n",
              "      <td>24.0</td>\n",
              "      <td>22.2</td>\n",
              "      <td>23.7</td>\n",
              "      <td>24.6</td>\n",
              "      <td>23.6</td>\n",
              "      <td>20.9</td>\n",
              "      <td>21.3</td>\n",
              "      <td>21.6</td>\n",
              "      <td>23.0</td>\n",
              "      <td>23.4</td>\n",
              "    </tr>\n",
              "    <tr>\n",
              "      <th>std</th>\n",
              "      <td>4.3</td>\n",
              "      <td>7.6</td>\n",
              "      <td>7.4</td>\n",
              "      <td>3.3</td>\n",
              "      <td>3.4</td>\n",
              "      <td>8.6</td>\n",
              "      <td>7.5</td>\n",
              "      <td>8.7</td>\n",
              "      <td>9.8</td>\n",
              "      <td>9.1</td>\n",
              "      <td>10.6</td>\n",
              "      <td>12.2</td>\n",
              "      <td>8.4</td>\n",
              "      <td>6.1</td>\n",
              "      <td>7.1</td>\n",
              "      <td>6.8</td>\n",
              "      <td>8.1</td>\n",
              "      <td>9.3</td>\n",
              "    </tr>\n",
              "    <tr>\n",
              "      <th>min</th>\n",
              "      <td>11.5</td>\n",
              "      <td>7.0</td>\n",
              "      <td>7.0</td>\n",
              "      <td>16.0</td>\n",
              "      <td>15.5</td>\n",
              "      <td>7.5</td>\n",
              "      <td>6.5</td>\n",
              "      <td>7.5</td>\n",
              "      <td>7.0</td>\n",
              "      <td>3.5</td>\n",
              "      <td>4.0</td>\n",
              "      <td>3.0</td>\n",
              "      <td>6.0</td>\n",
              "      <td>7.5</td>\n",
              "      <td>7.5</td>\n",
              "      <td>7.0</td>\n",
              "      <td>6.0</td>\n",
              "      <td>7.0</td>\n",
              "    </tr>\n",
              "    <tr>\n",
              "      <th>25%</th>\n",
              "      <td>18.0</td>\n",
              "      <td>17.5</td>\n",
              "      <td>17.5</td>\n",
              "      <td>22.0</td>\n",
              "      <td>22.0</td>\n",
              "      <td>17.5</td>\n",
              "      <td>16.5</td>\n",
              "      <td>17.0</td>\n",
              "      <td>17.0</td>\n",
              "      <td>15.5</td>\n",
              "      <td>15.5</td>\n",
              "      <td>15.0</td>\n",
              "      <td>17.0</td>\n",
              "      <td>16.5</td>\n",
              "      <td>16.5</td>\n",
              "      <td>16.5</td>\n",
              "      <td>16.5</td>\n",
              "      <td>16.0</td>\n",
              "    </tr>\n",
              "    <tr>\n",
              "      <th>50%</th>\n",
              "      <td>21.0</td>\n",
              "      <td>22.0</td>\n",
              "      <td>22.0</td>\n",
              "      <td>24.5</td>\n",
              "      <td>24.5</td>\n",
              "      <td>22.0</td>\n",
              "      <td>21.0</td>\n",
              "      <td>21.5</td>\n",
              "      <td>21.0</td>\n",
              "      <td>20.0</td>\n",
              "      <td>20.5</td>\n",
              "      <td>21.0</td>\n",
              "      <td>22.0</td>\n",
              "      <td>19.5</td>\n",
              "      <td>19.5</td>\n",
              "      <td>20.0</td>\n",
              "      <td>21.5</td>\n",
              "      <td>20.0</td>\n",
              "    </tr>\n",
              "    <tr>\n",
              "      <th>75%</th>\n",
              "      <td>24.5</td>\n",
              "      <td>30.0</td>\n",
              "      <td>29.5</td>\n",
              "      <td>27.0</td>\n",
              "      <td>27.0</td>\n",
              "      <td>30.0</td>\n",
              "      <td>28.5</td>\n",
              "      <td>29.5</td>\n",
              "      <td>29.0</td>\n",
              "      <td>30.5</td>\n",
              "      <td>32.5</td>\n",
              "      <td>34.5</td>\n",
              "      <td>30.5</td>\n",
              "      <td>25.0</td>\n",
              "      <td>25.0</td>\n",
              "      <td>27.0</td>\n",
              "      <td>30.0</td>\n",
              "      <td>32.0</td>\n",
              "    </tr>\n",
              "    <tr>\n",
              "      <th>max</th>\n",
              "      <td>32.0</td>\n",
              "      <td>40.5</td>\n",
              "      <td>39.5</td>\n",
              "      <td>32.0</td>\n",
              "      <td>33.0</td>\n",
              "      <td>53.0</td>\n",
              "      <td>45.0</td>\n",
              "      <td>52.0</td>\n",
              "      <td>54.5</td>\n",
              "      <td>42.0</td>\n",
              "      <td>49.0</td>\n",
              "      <td>53.0</td>\n",
              "      <td>43.5</td>\n",
              "      <td>38.0</td>\n",
              "      <td>42.5</td>\n",
              "      <td>40.5</td>\n",
              "      <td>41.5</td>\n",
              "      <td>43.5</td>\n",
              "    </tr>\n",
              "  </tbody>\n",
              "</table>\n",
              "</div>"
            ],
            "text/plain": [
              "          Y00     Y01     Y02     Y03  ...     Y14     Y15     Y16     Y17\n",
              "count  4320.0  4320.0  4320.0  4320.0  ...  4320.0  4320.0  4320.0  4320.0\n",
              "mean     21.3    23.7    23.6    24.5  ...    21.3    21.6    23.0    23.4\n",
              "std       4.3     7.6     7.4     3.3  ...     7.1     6.8     8.1     9.3\n",
              "min      11.5     7.0     7.0    16.0  ...     7.5     7.0     6.0     7.0\n",
              "25%      18.0    17.5    17.5    22.0  ...    16.5    16.5    16.5    16.0\n",
              "50%      21.0    22.0    22.0    24.5  ...    19.5    20.0    21.5    20.0\n",
              "75%      24.5    30.0    29.5    27.0  ...    25.0    27.0    30.0    32.0\n",
              "max      32.0    40.5    39.5    32.0  ...    42.5    40.5    41.5    43.5\n",
              "\n",
              "[8 rows x 18 columns]"
            ]
          },
          "metadata": {
            "tags": []
          },
          "execution_count": 238
        }
      ]
    },
    {
      "cell_type": "markdown",
      "metadata": {
        "id": "dq2z-YMjHBsv",
        "colab_type": "text"
      },
      "source": [
        "### y correlation"
      ]
    },
    {
      "cell_type": "markdown",
      "metadata": {
        "id": "gM_ahaoWHGly",
        "colab_type": "text"
      },
      "source": [
        "y를 비슷한 것끼리 그룹화 해보기 "
      ]
    },
    {
      "cell_type": "code",
      "metadata": {
        "colab_type": "code",
        "id": "aVqDOV4Tlzsz",
        "outputId": "16f16e33-d59a-4c81-c842-bb42c6d93acd",
        "colab": {
          "base_uri": "https://localhost:8080/",
          "height": 614
        }
      },
      "source": [
        "df_y.corr().round(3)"
      ],
      "execution_count": 0,
      "outputs": [
        {
          "output_type": "execute_result",
          "data": {
            "text/html": [
              "<div>\n",
              "<style scoped>\n",
              "    .dataframe tbody tr th:only-of-type {\n",
              "        vertical-align: middle;\n",
              "    }\n",
              "\n",
              "    .dataframe tbody tr th {\n",
              "        vertical-align: top;\n",
              "    }\n",
              "\n",
              "    .dataframe thead th {\n",
              "        text-align: right;\n",
              "    }\n",
              "</style>\n",
              "<table border=\"1\" class=\"dataframe\">\n",
              "  <thead>\n",
              "    <tr style=\"text-align: right;\">\n",
              "      <th></th>\n",
              "      <th>Y00</th>\n",
              "      <th>Y01</th>\n",
              "      <th>Y02</th>\n",
              "      <th>Y03</th>\n",
              "      <th>Y04</th>\n",
              "      <th>Y05</th>\n",
              "      <th>Y06</th>\n",
              "      <th>Y07</th>\n",
              "      <th>Y08</th>\n",
              "      <th>Y09</th>\n",
              "      <th>Y10</th>\n",
              "      <th>Y11</th>\n",
              "      <th>Y12</th>\n",
              "      <th>Y13</th>\n",
              "      <th>Y14</th>\n",
              "      <th>Y15</th>\n",
              "      <th>Y16</th>\n",
              "      <th>Y17</th>\n",
              "    </tr>\n",
              "  </thead>\n",
              "  <tbody>\n",
              "    <tr>\n",
              "      <th>Y00</th>\n",
              "      <td>1.000</td>\n",
              "      <td>0.945</td>\n",
              "      <td>0.947</td>\n",
              "      <td>0.921</td>\n",
              "      <td>0.920</td>\n",
              "      <td>0.818</td>\n",
              "      <td>0.690</td>\n",
              "      <td>0.586</td>\n",
              "      <td>0.837</td>\n",
              "      <td>0.851</td>\n",
              "      <td>0.870</td>\n",
              "      <td>0.844</td>\n",
              "      <td>0.663</td>\n",
              "      <td>0.910</td>\n",
              "      <td>0.898</td>\n",
              "      <td>0.827</td>\n",
              "      <td>0.799</td>\n",
              "      <td>0.798</td>\n",
              "    </tr>\n",
              "    <tr>\n",
              "      <th>Y01</th>\n",
              "      <td>0.945</td>\n",
              "      <td>1.000</td>\n",
              "      <td>0.996</td>\n",
              "      <td>0.807</td>\n",
              "      <td>0.808</td>\n",
              "      <td>0.913</td>\n",
              "      <td>0.800</td>\n",
              "      <td>0.700</td>\n",
              "      <td>0.933</td>\n",
              "      <td>0.954</td>\n",
              "      <td>0.968</td>\n",
              "      <td>0.960</td>\n",
              "      <td>0.786</td>\n",
              "      <td>0.967</td>\n",
              "      <td>0.943</td>\n",
              "      <td>0.920</td>\n",
              "      <td>0.909</td>\n",
              "      <td>0.920</td>\n",
              "    </tr>\n",
              "    <tr>\n",
              "      <th>Y02</th>\n",
              "      <td>0.947</td>\n",
              "      <td>0.996</td>\n",
              "      <td>1.000</td>\n",
              "      <td>0.804</td>\n",
              "      <td>0.805</td>\n",
              "      <td>0.912</td>\n",
              "      <td>0.814</td>\n",
              "      <td>0.719</td>\n",
              "      <td>0.928</td>\n",
              "      <td>0.956</td>\n",
              "      <td>0.965</td>\n",
              "      <td>0.960</td>\n",
              "      <td>0.796</td>\n",
              "      <td>0.965</td>\n",
              "      <td>0.936</td>\n",
              "      <td>0.927</td>\n",
              "      <td>0.913</td>\n",
              "      <td>0.921</td>\n",
              "    </tr>\n",
              "    <tr>\n",
              "      <th>Y03</th>\n",
              "      <td>0.921</td>\n",
              "      <td>0.807</td>\n",
              "      <td>0.804</td>\n",
              "      <td>1.000</td>\n",
              "      <td>0.997</td>\n",
              "      <td>0.612</td>\n",
              "      <td>0.437</td>\n",
              "      <td>0.323</td>\n",
              "      <td>0.661</td>\n",
              "      <td>0.639</td>\n",
              "      <td>0.677</td>\n",
              "      <td>0.639</td>\n",
              "      <td>0.404</td>\n",
              "      <td>0.738</td>\n",
              "      <td>0.757</td>\n",
              "      <td>0.606</td>\n",
              "      <td>0.564</td>\n",
              "      <td>0.570</td>\n",
              "    </tr>\n",
              "    <tr>\n",
              "      <th>Y04</th>\n",
              "      <td>0.920</td>\n",
              "      <td>0.808</td>\n",
              "      <td>0.805</td>\n",
              "      <td>0.997</td>\n",
              "      <td>1.000</td>\n",
              "      <td>0.612</td>\n",
              "      <td>0.436</td>\n",
              "      <td>0.323</td>\n",
              "      <td>0.661</td>\n",
              "      <td>0.639</td>\n",
              "      <td>0.677</td>\n",
              "      <td>0.638</td>\n",
              "      <td>0.403</td>\n",
              "      <td>0.737</td>\n",
              "      <td>0.760</td>\n",
              "      <td>0.604</td>\n",
              "      <td>0.563</td>\n",
              "      <td>0.572</td>\n",
              "    </tr>\n",
              "    <tr>\n",
              "      <th>Y05</th>\n",
              "      <td>0.818</td>\n",
              "      <td>0.913</td>\n",
              "      <td>0.912</td>\n",
              "      <td>0.612</td>\n",
              "      <td>0.612</td>\n",
              "      <td>1.000</td>\n",
              "      <td>0.840</td>\n",
              "      <td>0.765</td>\n",
              "      <td>0.959</td>\n",
              "      <td>0.939</td>\n",
              "      <td>0.934</td>\n",
              "      <td>0.946</td>\n",
              "      <td>0.848</td>\n",
              "      <td>0.945</td>\n",
              "      <td>0.916</td>\n",
              "      <td>0.910</td>\n",
              "      <td>0.948</td>\n",
              "      <td>0.925</td>\n",
              "    </tr>\n",
              "    <tr>\n",
              "      <th>Y06</th>\n",
              "      <td>0.690</td>\n",
              "      <td>0.800</td>\n",
              "      <td>0.814</td>\n",
              "      <td>0.437</td>\n",
              "      <td>0.436</td>\n",
              "      <td>0.840</td>\n",
              "      <td>1.000</td>\n",
              "      <td>0.965</td>\n",
              "      <td>0.759</td>\n",
              "      <td>0.907</td>\n",
              "      <td>0.866</td>\n",
              "      <td>0.871</td>\n",
              "      <td>0.981</td>\n",
              "      <td>0.815</td>\n",
              "      <td>0.721</td>\n",
              "      <td>0.925</td>\n",
              "      <td>0.942</td>\n",
              "      <td>0.909</td>\n",
              "    </tr>\n",
              "    <tr>\n",
              "      <th>Y07</th>\n",
              "      <td>0.586</td>\n",
              "      <td>0.700</td>\n",
              "      <td>0.719</td>\n",
              "      <td>0.323</td>\n",
              "      <td>0.323</td>\n",
              "      <td>0.765</td>\n",
              "      <td>0.965</td>\n",
              "      <td>1.000</td>\n",
              "      <td>0.664</td>\n",
              "      <td>0.829</td>\n",
              "      <td>0.776</td>\n",
              "      <td>0.787</td>\n",
              "      <td>0.957</td>\n",
              "      <td>0.715</td>\n",
              "      <td>0.627</td>\n",
              "      <td>0.855</td>\n",
              "      <td>0.874</td>\n",
              "      <td>0.852</td>\n",
              "    </tr>\n",
              "    <tr>\n",
              "      <th>Y08</th>\n",
              "      <td>0.837</td>\n",
              "      <td>0.933</td>\n",
              "      <td>0.928</td>\n",
              "      <td>0.661</td>\n",
              "      <td>0.661</td>\n",
              "      <td>0.959</td>\n",
              "      <td>0.759</td>\n",
              "      <td>0.664</td>\n",
              "      <td>1.000</td>\n",
              "      <td>0.931</td>\n",
              "      <td>0.941</td>\n",
              "      <td>0.951</td>\n",
              "      <td>0.765</td>\n",
              "      <td>0.966</td>\n",
              "      <td>0.954</td>\n",
              "      <td>0.894</td>\n",
              "      <td>0.909</td>\n",
              "      <td>0.918</td>\n",
              "    </tr>\n",
              "    <tr>\n",
              "      <th>Y09</th>\n",
              "      <td>0.851</td>\n",
              "      <td>0.954</td>\n",
              "      <td>0.956</td>\n",
              "      <td>0.639</td>\n",
              "      <td>0.639</td>\n",
              "      <td>0.939</td>\n",
              "      <td>0.907</td>\n",
              "      <td>0.829</td>\n",
              "      <td>0.931</td>\n",
              "      <td>1.000</td>\n",
              "      <td>0.991</td>\n",
              "      <td>0.987</td>\n",
              "      <td>0.894</td>\n",
              "      <td>0.960</td>\n",
              "      <td>0.904</td>\n",
              "      <td>0.976</td>\n",
              "      <td>0.970</td>\n",
              "      <td>0.980</td>\n",
              "    </tr>\n",
              "    <tr>\n",
              "      <th>Y10</th>\n",
              "      <td>0.870</td>\n",
              "      <td>0.968</td>\n",
              "      <td>0.965</td>\n",
              "      <td>0.677</td>\n",
              "      <td>0.677</td>\n",
              "      <td>0.934</td>\n",
              "      <td>0.866</td>\n",
              "      <td>0.776</td>\n",
              "      <td>0.941</td>\n",
              "      <td>0.991</td>\n",
              "      <td>1.000</td>\n",
              "      <td>0.989</td>\n",
              "      <td>0.855</td>\n",
              "      <td>0.968</td>\n",
              "      <td>0.918</td>\n",
              "      <td>0.966</td>\n",
              "      <td>0.951</td>\n",
              "      <td>0.968</td>\n",
              "    </tr>\n",
              "    <tr>\n",
              "      <th>Y11</th>\n",
              "      <td>0.844</td>\n",
              "      <td>0.960</td>\n",
              "      <td>0.960</td>\n",
              "      <td>0.639</td>\n",
              "      <td>0.638</td>\n",
              "      <td>0.946</td>\n",
              "      <td>0.871</td>\n",
              "      <td>0.787</td>\n",
              "      <td>0.951</td>\n",
              "      <td>0.987</td>\n",
              "      <td>0.989</td>\n",
              "      <td>1.000</td>\n",
              "      <td>0.862</td>\n",
              "      <td>0.961</td>\n",
              "      <td>0.906</td>\n",
              "      <td>0.961</td>\n",
              "      <td>0.956</td>\n",
              "      <td>0.965</td>\n",
              "    </tr>\n",
              "    <tr>\n",
              "      <th>Y12</th>\n",
              "      <td>0.663</td>\n",
              "      <td>0.786</td>\n",
              "      <td>0.796</td>\n",
              "      <td>0.404</td>\n",
              "      <td>0.403</td>\n",
              "      <td>0.848</td>\n",
              "      <td>0.981</td>\n",
              "      <td>0.957</td>\n",
              "      <td>0.765</td>\n",
              "      <td>0.894</td>\n",
              "      <td>0.855</td>\n",
              "      <td>0.862</td>\n",
              "      <td>1.000</td>\n",
              "      <td>0.805</td>\n",
              "      <td>0.716</td>\n",
              "      <td>0.910</td>\n",
              "      <td>0.948</td>\n",
              "      <td>0.902</td>\n",
              "    </tr>\n",
              "    <tr>\n",
              "      <th>Y13</th>\n",
              "      <td>0.910</td>\n",
              "      <td>0.967</td>\n",
              "      <td>0.965</td>\n",
              "      <td>0.738</td>\n",
              "      <td>0.737</td>\n",
              "      <td>0.945</td>\n",
              "      <td>0.815</td>\n",
              "      <td>0.715</td>\n",
              "      <td>0.966</td>\n",
              "      <td>0.960</td>\n",
              "      <td>0.968</td>\n",
              "      <td>0.961</td>\n",
              "      <td>0.805</td>\n",
              "      <td>1.000</td>\n",
              "      <td>0.963</td>\n",
              "      <td>0.945</td>\n",
              "      <td>0.933</td>\n",
              "      <td>0.935</td>\n",
              "    </tr>\n",
              "    <tr>\n",
              "      <th>Y14</th>\n",
              "      <td>0.898</td>\n",
              "      <td>0.943</td>\n",
              "      <td>0.936</td>\n",
              "      <td>0.757</td>\n",
              "      <td>0.760</td>\n",
              "      <td>0.916</td>\n",
              "      <td>0.721</td>\n",
              "      <td>0.627</td>\n",
              "      <td>0.954</td>\n",
              "      <td>0.904</td>\n",
              "      <td>0.918</td>\n",
              "      <td>0.906</td>\n",
              "      <td>0.716</td>\n",
              "      <td>0.963</td>\n",
              "      <td>1.000</td>\n",
              "      <td>0.863</td>\n",
              "      <td>0.865</td>\n",
              "      <td>0.897</td>\n",
              "    </tr>\n",
              "    <tr>\n",
              "      <th>Y15</th>\n",
              "      <td>0.827</td>\n",
              "      <td>0.920</td>\n",
              "      <td>0.927</td>\n",
              "      <td>0.606</td>\n",
              "      <td>0.604</td>\n",
              "      <td>0.910</td>\n",
              "      <td>0.925</td>\n",
              "      <td>0.855</td>\n",
              "      <td>0.894</td>\n",
              "      <td>0.976</td>\n",
              "      <td>0.966</td>\n",
              "      <td>0.961</td>\n",
              "      <td>0.910</td>\n",
              "      <td>0.945</td>\n",
              "      <td>0.863</td>\n",
              "      <td>1.000</td>\n",
              "      <td>0.963</td>\n",
              "      <td>0.962</td>\n",
              "    </tr>\n",
              "    <tr>\n",
              "      <th>Y16</th>\n",
              "      <td>0.799</td>\n",
              "      <td>0.909</td>\n",
              "      <td>0.913</td>\n",
              "      <td>0.564</td>\n",
              "      <td>0.563</td>\n",
              "      <td>0.948</td>\n",
              "      <td>0.942</td>\n",
              "      <td>0.874</td>\n",
              "      <td>0.909</td>\n",
              "      <td>0.970</td>\n",
              "      <td>0.951</td>\n",
              "      <td>0.956</td>\n",
              "      <td>0.948</td>\n",
              "      <td>0.933</td>\n",
              "      <td>0.865</td>\n",
              "      <td>0.963</td>\n",
              "      <td>1.000</td>\n",
              "      <td>0.956</td>\n",
              "    </tr>\n",
              "    <tr>\n",
              "      <th>Y17</th>\n",
              "      <td>0.798</td>\n",
              "      <td>0.920</td>\n",
              "      <td>0.921</td>\n",
              "      <td>0.570</td>\n",
              "      <td>0.572</td>\n",
              "      <td>0.925</td>\n",
              "      <td>0.909</td>\n",
              "      <td>0.852</td>\n",
              "      <td>0.918</td>\n",
              "      <td>0.980</td>\n",
              "      <td>0.968</td>\n",
              "      <td>0.965</td>\n",
              "      <td>0.902</td>\n",
              "      <td>0.935</td>\n",
              "      <td>0.897</td>\n",
              "      <td>0.962</td>\n",
              "      <td>0.956</td>\n",
              "      <td>1.000</td>\n",
              "    </tr>\n",
              "  </tbody>\n",
              "</table>\n",
              "</div>"
            ],
            "text/plain": [
              "       Y00    Y01    Y02    Y03    Y04  ...    Y13    Y14    Y15    Y16    Y17\n",
              "Y00  1.000  0.945  0.947  0.921  0.920  ...  0.910  0.898  0.827  0.799  0.798\n",
              "Y01  0.945  1.000  0.996  0.807  0.808  ...  0.967  0.943  0.920  0.909  0.920\n",
              "Y02  0.947  0.996  1.000  0.804  0.805  ...  0.965  0.936  0.927  0.913  0.921\n",
              "Y03  0.921  0.807  0.804  1.000  0.997  ...  0.738  0.757  0.606  0.564  0.570\n",
              "Y04  0.920  0.808  0.805  0.997  1.000  ...  0.737  0.760  0.604  0.563  0.572\n",
              "Y05  0.818  0.913  0.912  0.612  0.612  ...  0.945  0.916  0.910  0.948  0.925\n",
              "Y06  0.690  0.800  0.814  0.437  0.436  ...  0.815  0.721  0.925  0.942  0.909\n",
              "Y07  0.586  0.700  0.719  0.323  0.323  ...  0.715  0.627  0.855  0.874  0.852\n",
              "Y08  0.837  0.933  0.928  0.661  0.661  ...  0.966  0.954  0.894  0.909  0.918\n",
              "Y09  0.851  0.954  0.956  0.639  0.639  ...  0.960  0.904  0.976  0.970  0.980\n",
              "Y10  0.870  0.968  0.965  0.677  0.677  ...  0.968  0.918  0.966  0.951  0.968\n",
              "Y11  0.844  0.960  0.960  0.639  0.638  ...  0.961  0.906  0.961  0.956  0.965\n",
              "Y12  0.663  0.786  0.796  0.404  0.403  ...  0.805  0.716  0.910  0.948  0.902\n",
              "Y13  0.910  0.967  0.965  0.738  0.737  ...  1.000  0.963  0.945  0.933  0.935\n",
              "Y14  0.898  0.943  0.936  0.757  0.760  ...  0.963  1.000  0.863  0.865  0.897\n",
              "Y15  0.827  0.920  0.927  0.606  0.604  ...  0.945  0.863  1.000  0.963  0.962\n",
              "Y16  0.799  0.909  0.913  0.564  0.563  ...  0.933  0.865  0.963  1.000  0.956\n",
              "Y17  0.798  0.920  0.921  0.570  0.572  ...  0.935  0.897  0.962  0.956  1.000\n",
              "\n",
              "[18 rows x 18 columns]"
            ]
          },
          "metadata": {
            "tags": []
          },
          "execution_count": 239
        }
      ]
    },
    {
      "cell_type": "code",
      "metadata": {
        "colab_type": "code",
        "id": "ReUwiNzzlztK",
        "outputId": "fc92b48b-a705-4098-da36-3a5329b5d8c3",
        "colab": {
          "base_uri": "https://localhost:8080/",
          "height": 704
        }
      },
      "source": [
        "plt.figure(figsize=(15,12))\n",
        "ax = sns.heatmap(df_y.corr(), cmap='coolwarm')"
      ],
      "execution_count": 0,
      "outputs": [
        {
          "output_type": "display_data",
          "data": {
            "image/png": "[encoded data removed]",
            "text/plain": [
              "<Figure size 1080x864 with 2 Axes>"
            ]
          },
          "metadata": {
            "tags": []
          }
        }
      ]
    },
    {
      "cell_type": "code",
      "metadata": {
        "id": "zvr3hHvJ19gH",
        "colab_type": "code",
        "colab": {}
      },
      "source": [
        ""
      ],
      "execution_count": 0,
      "outputs": []
    },
    {
      "cell_type": "markdown",
      "metadata": {
        "id": "Mfc0SFy2L3ex",
        "colab_type": "text"
      },
      "source": [
        "순서 바꿔서 보기 "
      ]
    },
    {
      "cell_type": "code",
      "metadata": {
        "id": "fkcs6wBWJKv7",
        "colab_type": "code",
        "outputId": "65ab507e-d7c3-4bf0-d617-aac5e17aa325",
        "colab": {
          "base_uri": "https://localhost:8080/",
          "height": 704
        }
      },
      "source": [
        "df_y_ = df_y[['Y03', 'Y04', 'Y00', 'Y05', 'Y08', 'Y14',  'Y13','Y01', 'Y02',  'Y11', 'Y10','Y09',  'Y17', 'Y15', 'Y16', 'Y12', 'Y06', 'Y07']]\n",
        "\n",
        "plt.figure(figsize=(15,12))\n",
        "ax = sns.heatmap(df_y_.corr(), cmap='coolwarm', vmin = 0.3) # 명확하게 보기 위해 vmin 지정해 보았음"
      ],
      "execution_count": 0,
      "outputs": [
        {
          "output_type": "display_data",
          "data": {
            "image/png": "[encoded data removed]",
            "text/plain": [
              "<Figure size 1080x864 with 2 Axes>"
            ]
          },
          "metadata": {
            "tags": []
          }
        }
      ]
    },
    {
      "cell_type": "code",
      "metadata": {
        "id": "oxGloqPZJTCI",
        "colab_type": "code",
        "outputId": "20ec8a73-b1a4-46aa-deac-19e1d76e1a1b",
        "colab": {
          "base_uri": "https://localhost:8080/",
          "height": 614
        }
      },
      "source": [
        "pd.DataFrame(df_y_.corr()>0.965, dtype=int)*111"
      ],
      "execution_count": 0,
      "outputs": [
        {
          "output_type": "execute_result",
          "data": {
            "text/html": [
              "<div>\n",
              "<style scoped>\n",
              "    .dataframe tbody tr th:only-of-type {\n",
              "        vertical-align: middle;\n",
              "    }\n",
              "\n",
              "    .dataframe tbody tr th {\n",
              "        vertical-align: top;\n",
              "    }\n",
              "\n",
              "    .dataframe thead th {\n",
              "        text-align: right;\n",
              "    }\n",
              "</style>\n",
              "<table border=\"1\" class=\"dataframe\">\n",
              "  <thead>\n",
              "    <tr style=\"text-align: right;\">\n",
              "      <th></th>\n",
              "      <th>Y03</th>\n",
              "      <th>Y04</th>\n",
              "      <th>Y00</th>\n",
              "      <th>Y05</th>\n",
              "      <th>Y08</th>\n",
              "      <th>Y14</th>\n",
              "      <th>Y13</th>\n",
              "      <th>Y01</th>\n",
              "      <th>Y02</th>\n",
              "      <th>Y11</th>\n",
              "      <th>Y10</th>\n",
              "      <th>Y09</th>\n",
              "      <th>Y17</th>\n",
              "      <th>Y15</th>\n",
              "      <th>Y16</th>\n",
              "      <th>Y12</th>\n",
              "      <th>Y06</th>\n",
              "      <th>Y07</th>\n",
              "    </tr>\n",
              "  </thead>\n",
              "  <tbody>\n",
              "    <tr>\n",
              "      <th>Y03</th>\n",
              "      <td>111</td>\n",
              "      <td>111</td>\n",
              "      <td>0</td>\n",
              "      <td>0</td>\n",
              "      <td>0</td>\n",
              "      <td>0</td>\n",
              "      <td>0</td>\n",
              "      <td>0</td>\n",
              "      <td>0</td>\n",
              "      <td>0</td>\n",
              "      <td>0</td>\n",
              "      <td>0</td>\n",
              "      <td>0</td>\n",
              "      <td>0</td>\n",
              "      <td>0</td>\n",
              "      <td>0</td>\n",
              "      <td>0</td>\n",
              "      <td>0</td>\n",
              "    </tr>\n",
              "    <tr>\n",
              "      <th>Y04</th>\n",
              "      <td>111</td>\n",
              "      <td>111</td>\n",
              "      <td>0</td>\n",
              "      <td>0</td>\n",
              "      <td>0</td>\n",
              "      <td>0</td>\n",
              "      <td>0</td>\n",
              "      <td>0</td>\n",
              "      <td>0</td>\n",
              "      <td>0</td>\n",
              "      <td>0</td>\n",
              "      <td>0</td>\n",
              "      <td>0</td>\n",
              "      <td>0</td>\n",
              "      <td>0</td>\n",
              "      <td>0</td>\n",
              "      <td>0</td>\n",
              "      <td>0</td>\n",
              "    </tr>\n",
              "    <tr>\n",
              "      <th>Y00</th>\n",
              "      <td>0</td>\n",
              "      <td>0</td>\n",
              "      <td>111</td>\n",
              "      <td>0</td>\n",
              "      <td>0</td>\n",
              "      <td>0</td>\n",
              "      <td>0</td>\n",
              "      <td>0</td>\n",
              "      <td>0</td>\n",
              "      <td>0</td>\n",
              "      <td>0</td>\n",
              "      <td>0</td>\n",
              "      <td>0</td>\n",
              "      <td>0</td>\n",
              "      <td>0</td>\n",
              "      <td>0</td>\n",
              "      <td>0</td>\n",
              "      <td>0</td>\n",
              "    </tr>\n",
              "    <tr>\n",
              "      <th>Y05</th>\n",
              "      <td>0</td>\n",
              "      <td>0</td>\n",
              "      <td>0</td>\n",
              "      <td>111</td>\n",
              "      <td>0</td>\n",
              "      <td>0</td>\n",
              "      <td>0</td>\n",
              "      <td>0</td>\n",
              "      <td>0</td>\n",
              "      <td>0</td>\n",
              "      <td>0</td>\n",
              "      <td>0</td>\n",
              "      <td>0</td>\n",
              "      <td>0</td>\n",
              "      <td>0</td>\n",
              "      <td>0</td>\n",
              "      <td>0</td>\n",
              "      <td>0</td>\n",
              "    </tr>\n",
              "    <tr>\n",
              "      <th>Y08</th>\n",
              "      <td>0</td>\n",
              "      <td>0</td>\n",
              "      <td>0</td>\n",
              "      <td>0</td>\n",
              "      <td>111</td>\n",
              "      <td>0</td>\n",
              "      <td>111</td>\n",
              "      <td>0</td>\n",
              "      <td>0</td>\n",
              "      <td>0</td>\n",
              "      <td>0</td>\n",
              "      <td>0</td>\n",
              "      <td>0</td>\n",
              "      <td>0</td>\n",
              "      <td>0</td>\n",
              "      <td>0</td>\n",
              "      <td>0</td>\n",
              "      <td>0</td>\n",
              "    </tr>\n",
              "    <tr>\n",
              "      <th>Y14</th>\n",
              "      <td>0</td>\n",
              "      <td>0</td>\n",
              "      <td>0</td>\n",
              "      <td>0</td>\n",
              "      <td>0</td>\n",
              "      <td>111</td>\n",
              "      <td>0</td>\n",
              "      <td>0</td>\n",
              "      <td>0</td>\n",
              "      <td>0</td>\n",
              "      <td>0</td>\n",
              "      <td>0</td>\n",
              "      <td>0</td>\n",
              "      <td>0</td>\n",
              "      <td>0</td>\n",
              "      <td>0</td>\n",
              "      <td>0</td>\n",
              "      <td>0</td>\n",
              "    </tr>\n",
              "    <tr>\n",
              "      <th>Y13</th>\n",
              "      <td>0</td>\n",
              "      <td>0</td>\n",
              "      <td>0</td>\n",
              "      <td>0</td>\n",
              "      <td>111</td>\n",
              "      <td>0</td>\n",
              "      <td>111</td>\n",
              "      <td>111</td>\n",
              "      <td>111</td>\n",
              "      <td>0</td>\n",
              "      <td>111</td>\n",
              "      <td>0</td>\n",
              "      <td>0</td>\n",
              "      <td>0</td>\n",
              "      <td>0</td>\n",
              "      <td>0</td>\n",
              "      <td>0</td>\n",
              "      <td>0</td>\n",
              "    </tr>\n",
              "    <tr>\n",
              "      <th>Y01</th>\n",
              "      <td>0</td>\n",
              "      <td>0</td>\n",
              "      <td>0</td>\n",
              "      <td>0</td>\n",
              "      <td>0</td>\n",
              "      <td>0</td>\n",
              "      <td>111</td>\n",
              "      <td>111</td>\n",
              "      <td>111</td>\n",
              "      <td>0</td>\n",
              "      <td>111</td>\n",
              "      <td>0</td>\n",
              "      <td>0</td>\n",
              "      <td>0</td>\n",
              "      <td>0</td>\n",
              "      <td>0</td>\n",
              "      <td>0</td>\n",
              "      <td>0</td>\n",
              "    </tr>\n",
              "    <tr>\n",
              "      <th>Y02</th>\n",
              "      <td>0</td>\n",
              "      <td>0</td>\n",
              "      <td>0</td>\n",
              "      <td>0</td>\n",
              "      <td>0</td>\n",
              "      <td>0</td>\n",
              "      <td>111</td>\n",
              "      <td>111</td>\n",
              "      <td>111</td>\n",
              "      <td>0</td>\n",
              "      <td>111</td>\n",
              "      <td>0</td>\n",
              "      <td>0</td>\n",
              "      <td>0</td>\n",
              "      <td>0</td>\n",
              "      <td>0</td>\n",
              "      <td>0</td>\n",
              "      <td>0</td>\n",
              "    </tr>\n",
              "    <tr>\n",
              "      <th>Y11</th>\n",
              "      <td>0</td>\n",
              "      <td>0</td>\n",
              "      <td>0</td>\n",
              "      <td>0</td>\n",
              "      <td>0</td>\n",
              "      <td>0</td>\n",
              "      <td>0</td>\n",
              "      <td>0</td>\n",
              "      <td>0</td>\n",
              "      <td>111</td>\n",
              "      <td>111</td>\n",
              "      <td>111</td>\n",
              "      <td>0</td>\n",
              "      <td>0</td>\n",
              "      <td>0</td>\n",
              "      <td>0</td>\n",
              "      <td>0</td>\n",
              "      <td>0</td>\n",
              "    </tr>\n",
              "    <tr>\n",
              "      <th>Y10</th>\n",
              "      <td>0</td>\n",
              "      <td>0</td>\n",
              "      <td>0</td>\n",
              "      <td>0</td>\n",
              "      <td>0</td>\n",
              "      <td>0</td>\n",
              "      <td>111</td>\n",
              "      <td>111</td>\n",
              "      <td>111</td>\n",
              "      <td>111</td>\n",
              "      <td>111</td>\n",
              "      <td>111</td>\n",
              "      <td>111</td>\n",
              "      <td>111</td>\n",
              "      <td>0</td>\n",
              "      <td>0</td>\n",
              "      <td>0</td>\n",
              "      <td>0</td>\n",
              "    </tr>\n",
              "    <tr>\n",
              "      <th>Y09</th>\n",
              "      <td>0</td>\n",
              "      <td>0</td>\n",
              "      <td>0</td>\n",
              "      <td>0</td>\n",
              "      <td>0</td>\n",
              "      <td>0</td>\n",
              "      <td>0</td>\n",
              "      <td>0</td>\n",
              "      <td>0</td>\n",
              "      <td>111</td>\n",
              "      <td>111</td>\n",
              "      <td>111</td>\n",
              "      <td>111</td>\n",
              "      <td>111</td>\n",
              "      <td>111</td>\n",
              "      <td>0</td>\n",
              "      <td>0</td>\n",
              "      <td>0</td>\n",
              "    </tr>\n",
              "    <tr>\n",
              "      <th>Y17</th>\n",
              "      <td>0</td>\n",
              "      <td>0</td>\n",
              "      <td>0</td>\n",
              "      <td>0</td>\n",
              "      <td>0</td>\n",
              "      <td>0</td>\n",
              "      <td>0</td>\n",
              "      <td>0</td>\n",
              "      <td>0</td>\n",
              "      <td>0</td>\n",
              "      <td>111</td>\n",
              "      <td>111</td>\n",
              "      <td>111</td>\n",
              "      <td>0</td>\n",
              "      <td>0</td>\n",
              "      <td>0</td>\n",
              "      <td>0</td>\n",
              "      <td>0</td>\n",
              "    </tr>\n",
              "    <tr>\n",
              "      <th>Y15</th>\n",
              "      <td>0</td>\n",
              "      <td>0</td>\n",
              "      <td>0</td>\n",
              "      <td>0</td>\n",
              "      <td>0</td>\n",
              "      <td>0</td>\n",
              "      <td>0</td>\n",
              "      <td>0</td>\n",
              "      <td>0</td>\n",
              "      <td>0</td>\n",
              "      <td>111</td>\n",
              "      <td>111</td>\n",
              "      <td>0</td>\n",
              "      <td>111</td>\n",
              "      <td>0</td>\n",
              "      <td>0</td>\n",
              "      <td>0</td>\n",
              "      <td>0</td>\n",
              "    </tr>\n",
              "    <tr>\n",
              "      <th>Y16</th>\n",
              "      <td>0</td>\n",
              "      <td>0</td>\n",
              "      <td>0</td>\n",
              "      <td>0</td>\n",
              "      <td>0</td>\n",
              "      <td>0</td>\n",
              "      <td>0</td>\n",
              "      <td>0</td>\n",
              "      <td>0</td>\n",
              "      <td>0</td>\n",
              "      <td>0</td>\n",
              "      <td>111</td>\n",
              "      <td>0</td>\n",
              "      <td>0</td>\n",
              "      <td>111</td>\n",
              "      <td>0</td>\n",
              "      <td>0</td>\n",
              "      <td>0</td>\n",
              "    </tr>\n",
              "    <tr>\n",
              "      <th>Y12</th>\n",
              "      <td>0</td>\n",
              "      <td>0</td>\n",
              "      <td>0</td>\n",
              "      <td>0</td>\n",
              "      <td>0</td>\n",
              "      <td>0</td>\n",
              "      <td>0</td>\n",
              "      <td>0</td>\n",
              "      <td>0</td>\n",
              "      <td>0</td>\n",
              "      <td>0</td>\n",
              "      <td>0</td>\n",
              "      <td>0</td>\n",
              "      <td>0</td>\n",
              "      <td>0</td>\n",
              "      <td>111</td>\n",
              "      <td>111</td>\n",
              "      <td>0</td>\n",
              "    </tr>\n",
              "    <tr>\n",
              "      <th>Y06</th>\n",
              "      <td>0</td>\n",
              "      <td>0</td>\n",
              "      <td>0</td>\n",
              "      <td>0</td>\n",
              "      <td>0</td>\n",
              "      <td>0</td>\n",
              "      <td>0</td>\n",
              "      <td>0</td>\n",
              "      <td>0</td>\n",
              "      <td>0</td>\n",
              "      <td>0</td>\n",
              "      <td>0</td>\n",
              "      <td>0</td>\n",
              "      <td>0</td>\n",
              "      <td>0</td>\n",
              "      <td>111</td>\n",
              "      <td>111</td>\n",
              "      <td>111</td>\n",
              "    </tr>\n",
              "    <tr>\n",
              "      <th>Y07</th>\n",
              "      <td>0</td>\n",
              "      <td>0</td>\n",
              "      <td>0</td>\n",
              "      <td>0</td>\n",
              "      <td>0</td>\n",
              "      <td>0</td>\n",
              "      <td>0</td>\n",
              "      <td>0</td>\n",
              "      <td>0</td>\n",
              "      <td>0</td>\n",
              "      <td>0</td>\n",
              "      <td>0</td>\n",
              "      <td>0</td>\n",
              "      <td>0</td>\n",
              "      <td>0</td>\n",
              "      <td>0</td>\n",
              "      <td>111</td>\n",
              "      <td>111</td>\n",
              "    </tr>\n",
              "  </tbody>\n",
              "</table>\n",
              "</div>"
            ],
            "text/plain": [
              "     Y03  Y04  Y00  Y05  Y08  Y14  Y13  ...  Y09  Y17  Y15  Y16  Y12  Y06  Y07\n",
              "Y03  111  111    0    0    0    0    0  ...    0    0    0    0    0    0    0\n",
              "Y04  111  111    0    0    0    0    0  ...    0    0    0    0    0    0    0\n",
              "Y00    0    0  111    0    0    0    0  ...    0    0    0    0    0    0    0\n",
              "Y05    0    0    0  111    0    0    0  ...    0    0    0    0    0    0    0\n",
              "Y08    0    0    0    0  111    0  111  ...    0    0    0    0    0    0    0\n",
              "Y14    0    0    0    0    0  111    0  ...    0    0    0    0    0    0    0\n",
              "Y13    0    0    0    0  111    0  111  ...    0    0    0    0    0    0    0\n",
              "Y01    0    0    0    0    0    0  111  ...    0    0    0    0    0    0    0\n",
              "Y02    0    0    0    0    0    0  111  ...    0    0    0    0    0    0    0\n",
              "Y11    0    0    0    0    0    0    0  ...  111    0    0    0    0    0    0\n",
              "Y10    0    0    0    0    0    0  111  ...  111  111  111    0    0    0    0\n",
              "Y09    0    0    0    0    0    0    0  ...  111  111  111  111    0    0    0\n",
              "Y17    0    0    0    0    0    0    0  ...  111  111    0    0    0    0    0\n",
              "Y15    0    0    0    0    0    0    0  ...  111    0  111    0    0    0    0\n",
              "Y16    0    0    0    0    0    0    0  ...  111    0    0  111    0    0    0\n",
              "Y12    0    0    0    0    0    0    0  ...    0    0    0    0  111  111    0\n",
              "Y06    0    0    0    0    0    0    0  ...    0    0    0    0  111  111  111\n",
              "Y07    0    0    0    0    0    0    0  ...    0    0    0    0    0  111  111\n",
              "\n",
              "[18 rows x 18 columns]"
            ]
          },
          "metadata": {
            "tags": []
          },
          "execution_count": 242
        }
      ]
    },
    {
      "cell_type": "markdown",
      "metadata": {
        "id": "VgcW7IYmO6Qd",
        "colab_type": "text"
      },
      "source": [
        "6개의 그룹으로 나눠보기로 한다. \n",
        "\n",
        "'Y03', 'Y04'  \n",
        "'Y00'  \n",
        "'Y05', 'Y08', 'Y14'  \n",
        "'Y13','Y01', 'Y02'  \n",
        "'Y09', 'Y10', 'Y11', 'Y17', 'Y15',  Y16'  \n",
        "'Y12', 'Y06', 'Y07'\n",
        "\n"
      ]
    },
    {
      "cell_type": "code",
      "metadata": {
        "id": "InLo6FDTZyHN",
        "colab_type": "code",
        "colab": {}
      },
      "source": [
        "df_y_g1 = df_y[['Y03', 'Y04']]\n",
        "df_y_g2 = df_y[['Y00']]\n",
        "df_y_g3 = df_y[['Y05', 'Y08', 'Y14']]\n",
        "df_y_g4 = df_y[['Y13','Y01', 'Y02']]\n",
        "df_y_g5 = df_y[['Y09', 'Y10', 'Y11', 'Y17', 'Y15', 'Y16']]\n",
        "df_y_g6 = df_y[['Y12', 'Y06', 'Y07']]"
      ],
      "execution_count": 0,
      "outputs": []
    },
    {
      "cell_type": "markdown",
      "metadata": {
        "id": "Fsa3s0w1l5CX",
        "colab_type": "text"
      },
      "source": [
        "## Y18"
      ]
    },
    {
      "cell_type": "code",
      "metadata": {
        "id": "gpsLdYYvl3TC",
        "colab_type": "code",
        "colab": {
          "base_uri": "https://localhost:8080/",
          "height": 34
        },
        "outputId": "e91ead69-8dc2-4f04-b198-0b5a6a9fe4b6"
      },
      "source": [
        "df_y18 = df['Y18'][n:]\n",
        "df_y18.shape "
      ],
      "execution_count": 274,
      "outputs": [
        {
          "output_type": "execute_result",
          "data": {
            "text/plain": [
              "(432,)"
            ]
          },
          "metadata": {
            "tags": []
          },
          "execution_count": 274
        }
      ]
    },
    {
      "cell_type": "code",
      "metadata": {
        "id": "Va_TwqXImKOn",
        "colab_type": "code",
        "colab": {
          "base_uri": "https://localhost:8080/",
          "height": 173
        },
        "outputId": "d2d80018-c6a8-45e2-f9bc-0f3baa288a29"
      },
      "source": [
        "df_y18.describe()"
      ],
      "execution_count": 277,
      "outputs": [
        {
          "output_type": "execute_result",
          "data": {
            "text/plain": [
              "count    432.000000\n",
              "mean      26.687500\n",
              "std        6.286621\n",
              "min       18.500000\n",
              "25%       21.000000\n",
              "50%       25.000000\n",
              "75%       31.500000\n",
              "max       41.500000\n",
              "Name: Y18, dtype: float64"
            ]
          },
          "metadata": {
            "tags": []
          },
          "execution_count": 277
        }
      ]
    },
    {
      "cell_type": "code",
      "metadata": {
        "id": "q9pFvE2rmSGw",
        "colab_type": "code",
        "colab": {
          "base_uri": "https://localhost:8080/",
          "height": 34
        },
        "outputId": "83dde9b6-0689-4c0a-ade0-2bb74842d6b1"
      },
      "source": [
        "df_y18.isnull().sum()"
      ],
      "execution_count": 278,
      "outputs": [
        {
          "output_type": "execute_result",
          "data": {
            "text/plain": [
              "0"
            ]
          },
          "metadata": {
            "tags": []
          },
          "execution_count": 278
        }
      ]
    },
    {
      "cell_type": "markdown",
      "metadata": {
        "id": "zNj4jZIn-jYc",
        "colab_type": "text"
      },
      "source": [
        "## x[feat_temp],  y"
      ]
    },
    {
      "cell_type": "markdown",
      "metadata": {
        "id": "LHAc7EsyV81v",
        "colab_type": "text"
      },
      "source": [
        "관측소 5곳 온도와 그룹화된 y들을 비교해본다. "
      ]
    },
    {
      "cell_type": "code",
      "metadata": {
        "id": "OdvAfujKV7uO",
        "colab_type": "code",
        "colab": {}
      },
      "source": [
        "class correlation_x_y():\n",
        "    def __init__(self, dfX, dfY):\n",
        "        self.df = pd.concat([dfX, dfY], axis=1, sort=False)\n",
        "        self.df_corr = self.df.corr()\n",
        "        self.kX = len(dfX.columns)\n",
        "        self.kY = len(dfY.columns)\n",
        "        self.df.describe()\n",
        "    def corr(self):\n",
        "        print(self.df_corr.iloc[:self.kX, -self.kY:])\n",
        "    def heatmap(self, figsize = (5, 4), cmap='coolwarm', vmin=0.8):\n",
        "        plt.figure(figsize=figsize)\n",
        "        sns.heatmap(self.df_corr.iloc[:self.kX, -self.kY:], cmap=cmap, vmin=vmin) \n",
        "    def corr_mean(self):\n",
        "        print(self.df_corr.iloc[:self.kX, -self.kY:].mean(axis=0))"
      ],
      "execution_count": 0,
      "outputs": []
    },
    {
      "cell_type": "markdown",
      "metadata": {
        "id": "PJHnpBrfbXcJ",
        "colab_type": "text"
      },
      "source": [
        "### x[feat_temp], y_g1"
      ]
    },
    {
      "cell_type": "code",
      "metadata": {
        "id": "-5W6cRMNbfh7",
        "colab_type": "code",
        "outputId": "5ac80a70-52f3-404f-e017-14ae6ef5501a",
        "colab": {
          "base_uri": "https://localhost:8080/",
          "height": 69
        }
      },
      "source": [
        "tmp_df = df_y_g1\n",
        "g = correlation_x_y(tmp_df, df.loc[:n-1, feat_temp])\n",
        "g.corr()"
      ],
      "execution_count": 0,
      "outputs": [
        {
          "output_type": "stream",
          "text": [
            "          X00       X07       X28       X31       X32\n",
            "Y03  0.729502  0.841002  0.857562  0.758773  0.747431\n",
            "Y04  0.728564  0.840372  0.856534  0.758412  0.746524\n"
          ],
          "name": "stdout"
        }
      ]
    },
    {
      "cell_type": "code",
      "metadata": {
        "id": "iVWjohpukvMx",
        "colab_type": "code",
        "outputId": "40676bb7-67f5-4e43-86ba-0afc6a43d17b",
        "colab": {
          "base_uri": "https://localhost:8080/",
          "height": 301
        }
      },
      "source": [
        "g.df.describe()"
      ],
      "execution_count": 0,
      "outputs": [
        {
          "output_type": "execute_result",
          "data": {
            "text/html": [
              "<div>\n",
              "<style scoped>\n",
              "    .dataframe tbody tr th:only-of-type {\n",
              "        vertical-align: middle;\n",
              "    }\n",
              "\n",
              "    .dataframe tbody tr th {\n",
              "        vertical-align: top;\n",
              "    }\n",
              "\n",
              "    .dataframe thead th {\n",
              "        text-align: right;\n",
              "    }\n",
              "</style>\n",
              "<table border=\"1\" class=\"dataframe\">\n",
              "  <thead>\n",
              "    <tr style=\"text-align: right;\">\n",
              "      <th></th>\n",
              "      <th>Y03</th>\n",
              "      <th>Y04</th>\n",
              "      <th>X00</th>\n",
              "      <th>X07</th>\n",
              "      <th>X28</th>\n",
              "      <th>X31</th>\n",
              "      <th>X32</th>\n",
              "    </tr>\n",
              "  </thead>\n",
              "  <tbody>\n",
              "    <tr>\n",
              "      <th>count</th>\n",
              "      <td>4320.000000</td>\n",
              "      <td>4320.000000</td>\n",
              "      <td>4320.000000</td>\n",
              "      <td>4320.000000</td>\n",
              "      <td>4320.000000</td>\n",
              "      <td>4320.000000</td>\n",
              "      <td>4320.000000</td>\n",
              "    </tr>\n",
              "    <tr>\n",
              "      <th>mean</th>\n",
              "      <td>24.498958</td>\n",
              "      <td>24.510301</td>\n",
              "      <td>19.965602</td>\n",
              "      <td>21.437014</td>\n",
              "      <td>21.898565</td>\n",
              "      <td>19.603796</td>\n",
              "      <td>19.750347</td>\n",
              "    </tr>\n",
              "    <tr>\n",
              "      <th>std</th>\n",
              "      <td>3.343437</td>\n",
              "      <td>3.437558</td>\n",
              "      <td>4.745137</td>\n",
              "      <td>4.423139</td>\n",
              "      <td>4.275935</td>\n",
              "      <td>5.612736</td>\n",
              "      <td>5.345214</td>\n",
              "    </tr>\n",
              "    <tr>\n",
              "      <th>min</th>\n",
              "      <td>16.000000</td>\n",
              "      <td>15.500000</td>\n",
              "      <td>8.300000</td>\n",
              "      <td>11.600000</td>\n",
              "      <td>10.300000</td>\n",
              "      <td>5.300000</td>\n",
              "      <td>5.500000</td>\n",
              "    </tr>\n",
              "    <tr>\n",
              "      <th>25%</th>\n",
              "      <td>22.000000</td>\n",
              "      <td>22.000000</td>\n",
              "      <td>16.500000</td>\n",
              "      <td>18.100000</td>\n",
              "      <td>18.700000</td>\n",
              "      <td>15.700000</td>\n",
              "      <td>16.000000</td>\n",
              "    </tr>\n",
              "    <tr>\n",
              "      <th>50%</th>\n",
              "      <td>24.500000</td>\n",
              "      <td>24.500000</td>\n",
              "      <td>19.500000</td>\n",
              "      <td>20.900000</td>\n",
              "      <td>21.600000</td>\n",
              "      <td>19.100000</td>\n",
              "      <td>19.200000</td>\n",
              "    </tr>\n",
              "    <tr>\n",
              "      <th>75%</th>\n",
              "      <td>27.000000</td>\n",
              "      <td>27.000000</td>\n",
              "      <td>23.800000</td>\n",
              "      <td>24.600000</td>\n",
              "      <td>25.000000</td>\n",
              "      <td>23.900000</td>\n",
              "      <td>23.900000</td>\n",
              "    </tr>\n",
              "    <tr>\n",
              "      <th>max</th>\n",
              "      <td>32.000000</td>\n",
              "      <td>33.000000</td>\n",
              "      <td>30.900000</td>\n",
              "      <td>32.700000</td>\n",
              "      <td>33.200000</td>\n",
              "      <td>33.100000</td>\n",
              "      <td>32.900000</td>\n",
              "    </tr>\n",
              "  </tbody>\n",
              "</table>\n",
              "</div>"
            ],
            "text/plain": [
              "               Y03          Y04  ...          X31          X32\n",
              "count  4320.000000  4320.000000  ...  4320.000000  4320.000000\n",
              "mean     24.498958    24.510301  ...    19.603796    19.750347\n",
              "std       3.343437     3.437558  ...     5.612736     5.345214\n",
              "min      16.000000    15.500000  ...     5.300000     5.500000\n",
              "25%      22.000000    22.000000  ...    15.700000    16.000000\n",
              "50%      24.500000    24.500000  ...    19.100000    19.200000\n",
              "75%      27.000000    27.000000  ...    23.900000    23.900000\n",
              "max      32.000000    33.000000  ...    33.100000    32.900000\n",
              "\n",
              "[8 rows x 7 columns]"
            ]
          },
          "metadata": {
            "tags": []
          },
          "execution_count": 249
        }
      ]
    },
    {
      "cell_type": "code",
      "metadata": {
        "id": "bsZNCSCrbcNL",
        "colab_type": "code",
        "outputId": "4c63bdb6-77c7-4304-9216-189d5328fa01",
        "colab": {
          "base_uri": "https://localhost:8080/",
          "height": 265
        }
      },
      "source": [
        "g.heatmap()"
      ],
      "execution_count": 0,
      "outputs": [
        {
          "output_type": "display_data",
          "data": {
            "image/png": "[encoded data removed]",
            "text/plain": [
              "<Figure size 360x288 with 2 Axes>"
            ]
          },
          "metadata": {
            "tags": []
          }
        }
      ]
    },
    {
      "cell_type": "code",
      "metadata": {
        "id": "of2kWzsFbcRR",
        "colab_type": "code",
        "outputId": "5b793f00-6bf7-4a1f-9f7e-1969768ac6bb",
        "colab": {
          "base_uri": "https://localhost:8080/",
          "height": 121
        }
      },
      "source": [
        "g.corr_mean()"
      ],
      "execution_count": 0,
      "outputs": [
        {
          "output_type": "stream",
          "text": [
            "X00    0.729033\n",
            "X07    0.840687\n",
            "X28    0.857048\n",
            "X31    0.758593\n",
            "X32    0.746978\n",
            "dtype: float64\n"
          ],
          "name": "stdout"
        }
      ]
    },
    {
      "cell_type": "markdown",
      "metadata": {
        "id": "rrmgOuJwgIzd",
        "colab_type": "text"
      },
      "source": [
        "g1은 평균적으로 X28, X07과 가장 유사하다.  "
      ]
    },
    {
      "cell_type": "markdown",
      "metadata": {
        "colab_type": "text",
        "id": "fvezGNC9X5QV"
      },
      "source": [
        "### x[feat_temp], y_g2"
      ]
    },
    {
      "cell_type": "code",
      "metadata": {
        "colab_type": "code",
        "outputId": "265f2090-5ffe-454b-fe61-df9b269b69d7",
        "id": "mD-6HS9CX5Q0",
        "colab": {
          "base_uri": "https://localhost:8080/",
          "height": 52
        }
      },
      "source": [
        "tmp_df = df_y_g2\n",
        "g = correlation_x_y(tmp_df, df.loc[:n-1, feat_temp])\n",
        "g.corr()"
      ],
      "execution_count": 0,
      "outputs": [
        {
          "output_type": "stream",
          "text": [
            "          X00       X07      X28       X31       X32\n",
            "Y00  0.912809  0.979172  0.97449  0.918779  0.921823\n"
          ],
          "name": "stdout"
        }
      ]
    },
    {
      "cell_type": "code",
      "metadata": {
        "id": "zswUfRlWk1i8",
        "colab_type": "code",
        "outputId": "ae43eaf2-3b45-47f4-c8dd-18b4aed4b377",
        "colab": {
          "base_uri": "https://localhost:8080/",
          "height": 301
        }
      },
      "source": [
        "g.df.describe()"
      ],
      "execution_count": 0,
      "outputs": [
        {
          "output_type": "execute_result",
          "data": {
            "text/html": [
              "<div>\n",
              "<style scoped>\n",
              "    .dataframe tbody tr th:only-of-type {\n",
              "        vertical-align: middle;\n",
              "    }\n",
              "\n",
              "    .dataframe tbody tr th {\n",
              "        vertical-align: top;\n",
              "    }\n",
              "\n",
              "    .dataframe thead th {\n",
              "        text-align: right;\n",
              "    }\n",
              "</style>\n",
              "<table border=\"1\" class=\"dataframe\">\n",
              "  <thead>\n",
              "    <tr style=\"text-align: right;\">\n",
              "      <th></th>\n",
              "      <th>Y00</th>\n",
              "      <th>X00</th>\n",
              "      <th>X07</th>\n",
              "      <th>X28</th>\n",
              "      <th>X31</th>\n",
              "      <th>X32</th>\n",
              "    </tr>\n",
              "  </thead>\n",
              "  <tbody>\n",
              "    <tr>\n",
              "      <th>count</th>\n",
              "      <td>4320.000000</td>\n",
              "      <td>4320.000000</td>\n",
              "      <td>4320.000000</td>\n",
              "      <td>4320.000000</td>\n",
              "      <td>4320.000000</td>\n",
              "      <td>4320.000000</td>\n",
              "    </tr>\n",
              "    <tr>\n",
              "      <th>mean</th>\n",
              "      <td>21.324190</td>\n",
              "      <td>19.965602</td>\n",
              "      <td>21.437014</td>\n",
              "      <td>21.898565</td>\n",
              "      <td>19.603796</td>\n",
              "      <td>19.750347</td>\n",
              "    </tr>\n",
              "    <tr>\n",
              "      <th>std</th>\n",
              "      <td>4.309451</td>\n",
              "      <td>4.745137</td>\n",
              "      <td>4.423139</td>\n",
              "      <td>4.275935</td>\n",
              "      <td>5.612736</td>\n",
              "      <td>5.345214</td>\n",
              "    </tr>\n",
              "    <tr>\n",
              "      <th>min</th>\n",
              "      <td>11.500000</td>\n",
              "      <td>8.300000</td>\n",
              "      <td>11.600000</td>\n",
              "      <td>10.300000</td>\n",
              "      <td>5.300000</td>\n",
              "      <td>5.500000</td>\n",
              "    </tr>\n",
              "    <tr>\n",
              "      <th>25%</th>\n",
              "      <td>18.000000</td>\n",
              "      <td>16.500000</td>\n",
              "      <td>18.100000</td>\n",
              "      <td>18.700000</td>\n",
              "      <td>15.700000</td>\n",
              "      <td>16.000000</td>\n",
              "    </tr>\n",
              "    <tr>\n",
              "      <th>50%</th>\n",
              "      <td>21.000000</td>\n",
              "      <td>19.500000</td>\n",
              "      <td>20.900000</td>\n",
              "      <td>21.600000</td>\n",
              "      <td>19.100000</td>\n",
              "      <td>19.200000</td>\n",
              "    </tr>\n",
              "    <tr>\n",
              "      <th>75%</th>\n",
              "      <td>24.500000</td>\n",
              "      <td>23.800000</td>\n",
              "      <td>24.600000</td>\n",
              "      <td>25.000000</td>\n",
              "      <td>23.900000</td>\n",
              "      <td>23.900000</td>\n",
              "    </tr>\n",
              "    <tr>\n",
              "      <th>max</th>\n",
              "      <td>32.000000</td>\n",
              "      <td>30.900000</td>\n",
              "      <td>32.700000</td>\n",
              "      <td>33.200000</td>\n",
              "      <td>33.100000</td>\n",
              "      <td>32.900000</td>\n",
              "    </tr>\n",
              "  </tbody>\n",
              "</table>\n",
              "</div>"
            ],
            "text/plain": [
              "               Y00          X00  ...          X31          X32\n",
              "count  4320.000000  4320.000000  ...  4320.000000  4320.000000\n",
              "mean     21.324190    19.965602  ...    19.603796    19.750347\n",
              "std       4.309451     4.745137  ...     5.612736     5.345214\n",
              "min      11.500000     8.300000  ...     5.300000     5.500000\n",
              "25%      18.000000    16.500000  ...    15.700000    16.000000\n",
              "50%      21.000000    19.500000  ...    19.100000    19.200000\n",
              "75%      24.500000    23.800000  ...    23.900000    23.900000\n",
              "max      32.000000    30.900000  ...    33.100000    32.900000\n",
              "\n",
              "[8 rows x 6 columns]"
            ]
          },
          "metadata": {
            "tags": []
          },
          "execution_count": 253
        }
      ]
    },
    {
      "cell_type": "code",
      "metadata": {
        "colab_type": "code",
        "outputId": "9eb868c1-f872-4d2d-9f7f-1b95dab6de27",
        "id": "J388_dDoX5RM",
        "colab": {
          "base_uri": "https://localhost:8080/",
          "height": 102
        }
      },
      "source": [
        "g.heatmap((6, 1))"
      ],
      "execution_count": 0,
      "outputs": [
        {
          "output_type": "display_data",
          "data": {
            "image/png": "[encoded data removed]",
            "text/plain": [
              "<Figure size 432x72 with 2 Axes>"
            ]
          },
          "metadata": {
            "tags": []
          }
        }
      ]
    },
    {
      "cell_type": "code",
      "metadata": {
        "colab_type": "code",
        "outputId": "bc16b7e0-52a5-4e8d-9f08-c1936f0872f4",
        "id": "fnngtTQ_YImA",
        "colab": {
          "base_uri": "https://localhost:8080/",
          "height": 121
        }
      },
      "source": [
        "g.corr_mean()"
      ],
      "execution_count": 0,
      "outputs": [
        {
          "output_type": "stream",
          "text": [
            "X00    0.912809\n",
            "X07    0.979172\n",
            "X28    0.974490\n",
            "X31    0.918779\n",
            "X32    0.921823\n",
            "dtype: float64\n"
          ],
          "name": "stdout"
        }
      ]
    },
    {
      "cell_type": "markdown",
      "metadata": {
        "colab_type": "text",
        "id": "Cp5QGkf0X5Re"
      },
      "source": [
        "g2는 X7과 X28과 가장 유사하다. "
      ]
    },
    {
      "cell_type": "markdown",
      "metadata": {
        "colab_type": "text",
        "id": "t5yNJ2zIX57Q"
      },
      "source": [
        "### x[feat_temp], y_g3"
      ]
    },
    {
      "cell_type": "code",
      "metadata": {
        "colab_type": "code",
        "outputId": "3e3dce9c-3db6-41ad-89d7-af8662b31246",
        "id": "P7l0XchsX57d",
        "colab": {
          "base_uri": "https://localhost:8080/",
          "height": 86
        }
      },
      "source": [
        "tmp_df = df_y_g3\n",
        "g = correlation_x_y(tmp_df, df.loc[:n-1, feat_temp])\n",
        "g.corr()"
      ],
      "execution_count": 0,
      "outputs": [
        {
          "output_type": "stream",
          "text": [
            "          X00       X07       X28       X31       X32\n",
            "Y05  0.906096  0.892414  0.864041  0.899776  0.901241\n",
            "Y08  0.902829  0.897089  0.872612  0.896547  0.894345\n",
            "Y14  0.911123  0.931548  0.916300  0.915336  0.906674\n"
          ],
          "name": "stdout"
        }
      ]
    },
    {
      "cell_type": "code",
      "metadata": {
        "id": "OflkNWSZk3uC",
        "colab_type": "code",
        "outputId": "e9934d27-533a-48f9-9b70-18bd3aa4e80d",
        "colab": {
          "base_uri": "https://localhost:8080/",
          "height": 301
        }
      },
      "source": [
        "g.df.describe()"
      ],
      "execution_count": 0,
      "outputs": [
        {
          "output_type": "execute_result",
          "data": {
            "text/html": [
              "<div>\n",
              "<style scoped>\n",
              "    .dataframe tbody tr th:only-of-type {\n",
              "        vertical-align: middle;\n",
              "    }\n",
              "\n",
              "    .dataframe tbody tr th {\n",
              "        vertical-align: top;\n",
              "    }\n",
              "\n",
              "    .dataframe thead th {\n",
              "        text-align: right;\n",
              "    }\n",
              "</style>\n",
              "<table border=\"1\" class=\"dataframe\">\n",
              "  <thead>\n",
              "    <tr style=\"text-align: right;\">\n",
              "      <th></th>\n",
              "      <th>Y05</th>\n",
              "      <th>Y08</th>\n",
              "      <th>Y14</th>\n",
              "      <th>X00</th>\n",
              "      <th>X07</th>\n",
              "      <th>X28</th>\n",
              "      <th>X31</th>\n",
              "      <th>X32</th>\n",
              "    </tr>\n",
              "  </thead>\n",
              "  <tbody>\n",
              "    <tr>\n",
              "      <th>count</th>\n",
              "      <td>4320.000000</td>\n",
              "      <td>4320.000000</td>\n",
              "      <td>4320.000000</td>\n",
              "      <td>4320.000000</td>\n",
              "      <td>4320.000000</td>\n",
              "      <td>4320.000000</td>\n",
              "      <td>4320.000000</td>\n",
              "      <td>4320.000000</td>\n",
              "    </tr>\n",
              "    <tr>\n",
              "      <th>mean</th>\n",
              "      <td>24.165856</td>\n",
              "      <td>24.016898</td>\n",
              "      <td>21.319444</td>\n",
              "      <td>19.965602</td>\n",
              "      <td>21.437014</td>\n",
              "      <td>21.898565</td>\n",
              "      <td>19.603796</td>\n",
              "      <td>19.750347</td>\n",
              "    </tr>\n",
              "    <tr>\n",
              "      <th>std</th>\n",
              "      <td>8.589213</td>\n",
              "      <td>9.832279</td>\n",
              "      <td>7.066149</td>\n",
              "      <td>4.745137</td>\n",
              "      <td>4.423139</td>\n",
              "      <td>4.275935</td>\n",
              "      <td>5.612736</td>\n",
              "      <td>5.345214</td>\n",
              "    </tr>\n",
              "    <tr>\n",
              "      <th>min</th>\n",
              "      <td>7.500000</td>\n",
              "      <td>7.000000</td>\n",
              "      <td>7.500000</td>\n",
              "      <td>8.300000</td>\n",
              "      <td>11.600000</td>\n",
              "      <td>10.300000</td>\n",
              "      <td>5.300000</td>\n",
              "      <td>5.500000</td>\n",
              "    </tr>\n",
              "    <tr>\n",
              "      <th>25%</th>\n",
              "      <td>17.500000</td>\n",
              "      <td>17.000000</td>\n",
              "      <td>16.500000</td>\n",
              "      <td>16.500000</td>\n",
              "      <td>18.100000</td>\n",
              "      <td>18.700000</td>\n",
              "      <td>15.700000</td>\n",
              "      <td>16.000000</td>\n",
              "    </tr>\n",
              "    <tr>\n",
              "      <th>50%</th>\n",
              "      <td>22.000000</td>\n",
              "      <td>21.000000</td>\n",
              "      <td>19.500000</td>\n",
              "      <td>19.500000</td>\n",
              "      <td>20.900000</td>\n",
              "      <td>21.600000</td>\n",
              "      <td>19.100000</td>\n",
              "      <td>19.200000</td>\n",
              "    </tr>\n",
              "    <tr>\n",
              "      <th>75%</th>\n",
              "      <td>30.000000</td>\n",
              "      <td>29.000000</td>\n",
              "      <td>25.000000</td>\n",
              "      <td>23.800000</td>\n",
              "      <td>24.600000</td>\n",
              "      <td>25.000000</td>\n",
              "      <td>23.900000</td>\n",
              "      <td>23.900000</td>\n",
              "    </tr>\n",
              "    <tr>\n",
              "      <th>max</th>\n",
              "      <td>53.000000</td>\n",
              "      <td>54.500000</td>\n",
              "      <td>42.500000</td>\n",
              "      <td>30.900000</td>\n",
              "      <td>32.700000</td>\n",
              "      <td>33.200000</td>\n",
              "      <td>33.100000</td>\n",
              "      <td>32.900000</td>\n",
              "    </tr>\n",
              "  </tbody>\n",
              "</table>\n",
              "</div>"
            ],
            "text/plain": [
              "               Y05          Y08  ...          X31          X32\n",
              "count  4320.000000  4320.000000  ...  4320.000000  4320.000000\n",
              "mean     24.165856    24.016898  ...    19.603796    19.750347\n",
              "std       8.589213     9.832279  ...     5.612736     5.345214\n",
              "min       7.500000     7.000000  ...     5.300000     5.500000\n",
              "25%      17.500000    17.000000  ...    15.700000    16.000000\n",
              "50%      22.000000    21.000000  ...    19.100000    19.200000\n",
              "75%      30.000000    29.000000  ...    23.900000    23.900000\n",
              "max      53.000000    54.500000  ...    33.100000    32.900000\n",
              "\n",
              "[8 rows x 8 columns]"
            ]
          },
          "metadata": {
            "tags": []
          },
          "execution_count": 257
        }
      ]
    },
    {
      "cell_type": "code",
      "metadata": {
        "colab_type": "code",
        "outputId": "10731b3a-1c6f-487c-ce0c-d156f1401bb3",
        "id": "Rj1s-Ol6X571",
        "colab": {
          "base_uri": "https://localhost:8080/",
          "height": 265
        }
      },
      "source": [
        "g.heatmap()"
      ],
      "execution_count": 0,
      "outputs": [
        {
          "output_type": "display_data",
          "data": {
            "image/png": "[encoded data removed]",
            "text/plain": [
              "<Figure size 360x288 with 2 Axes>"
            ]
          },
          "metadata": {
            "tags": []
          }
        }
      ]
    },
    {
      "cell_type": "code",
      "metadata": {
        "colab_type": "code",
        "outputId": "0d1827a0-24f7-4316-d452-cfc6ca6eab77",
        "id": "fGVa89TgX58A",
        "colab": {
          "base_uri": "https://localhost:8080/",
          "height": 121
        }
      },
      "source": [
        "g.corr_mean()"
      ],
      "execution_count": 0,
      "outputs": [
        {
          "output_type": "stream",
          "text": [
            "X00    0.906683\n",
            "X07    0.907017\n",
            "X28    0.884318\n",
            "X31    0.903886\n",
            "X32    0.900753\n",
            "dtype: float64\n"
          ],
          "name": "stdout"
        }
      ]
    },
    {
      "cell_type": "markdown",
      "metadata": {
        "colab_type": "text",
        "id": "I2kF6Q2PX58H"
      },
      "source": [
        "g3은 평균적으로 4군데와 비슷한 수준으로 유사하다.\n"
      ]
    },
    {
      "cell_type": "markdown",
      "metadata": {
        "colab_type": "text",
        "id": "UkjnFoqIX6_T"
      },
      "source": [
        "### x[feat_temp], y_g4"
      ]
    },
    {
      "cell_type": "code",
      "metadata": {
        "colab_type": "code",
        "outputId": "473cb69f-41bc-4029-a05b-9726775c3c24",
        "id": "K1QKzLm1X6_d",
        "colab": {
          "base_uri": "https://localhost:8080/",
          "height": 86
        }
      },
      "source": [
        "tmp_df = df_y_g4\n",
        "g = correlation_x_y(tmp_df, df.loc[:n-1, feat_temp])\n",
        "g.corr()"
      ],
      "execution_count": 0,
      "outputs": [
        {
          "output_type": "stream",
          "text": [
            "          X00       X07       X28       X31       X32\n",
            "Y13  0.951228  0.958731  0.938310  0.950045  0.950898\n",
            "Y01  0.951641  0.970238  0.953917  0.956140  0.956146\n",
            "Y02  0.954500  0.973252  0.958521  0.957152  0.960426\n"
          ],
          "name": "stdout"
        }
      ]
    },
    {
      "cell_type": "code",
      "metadata": {
        "id": "6G2EW5C5k5eE",
        "colab_type": "code",
        "outputId": "48e245e6-6974-4ed9-c901-804a0dcf858b",
        "colab": {
          "base_uri": "https://localhost:8080/",
          "height": 301
        }
      },
      "source": [
        "g.df.describe()"
      ],
      "execution_count": 0,
      "outputs": [
        {
          "output_type": "execute_result",
          "data": {
            "text/html": [
              "<div>\n",
              "<style scoped>\n",
              "    .dataframe tbody tr th:only-of-type {\n",
              "        vertical-align: middle;\n",
              "    }\n",
              "\n",
              "    .dataframe tbody tr th {\n",
              "        vertical-align: top;\n",
              "    }\n",
              "\n",
              "    .dataframe thead th {\n",
              "        text-align: right;\n",
              "    }\n",
              "</style>\n",
              "<table border=\"1\" class=\"dataframe\">\n",
              "  <thead>\n",
              "    <tr style=\"text-align: right;\">\n",
              "      <th></th>\n",
              "      <th>Y13</th>\n",
              "      <th>Y01</th>\n",
              "      <th>Y02</th>\n",
              "      <th>X00</th>\n",
              "      <th>X07</th>\n",
              "      <th>X28</th>\n",
              "      <th>X31</th>\n",
              "      <th>X32</th>\n",
              "    </tr>\n",
              "  </thead>\n",
              "  <tbody>\n",
              "    <tr>\n",
              "      <th>count</th>\n",
              "      <td>4320.000000</td>\n",
              "      <td>4320.000000</td>\n",
              "      <td>4320.000000</td>\n",
              "      <td>4320.000000</td>\n",
              "      <td>4320.000000</td>\n",
              "      <td>4320.000000</td>\n",
              "      <td>4320.000000</td>\n",
              "      <td>4320.000000</td>\n",
              "    </tr>\n",
              "    <tr>\n",
              "      <th>mean</th>\n",
              "      <td>20.926157</td>\n",
              "      <td>23.664583</td>\n",
              "      <td>23.623611</td>\n",
              "      <td>19.965602</td>\n",
              "      <td>21.437014</td>\n",
              "      <td>21.898565</td>\n",
              "      <td>19.603796</td>\n",
              "      <td>19.750347</td>\n",
              "    </tr>\n",
              "    <tr>\n",
              "      <th>std</th>\n",
              "      <td>6.106031</td>\n",
              "      <td>7.566614</td>\n",
              "      <td>7.423344</td>\n",
              "      <td>4.745137</td>\n",
              "      <td>4.423139</td>\n",
              "      <td>4.275935</td>\n",
              "      <td>5.612736</td>\n",
              "      <td>5.345214</td>\n",
              "    </tr>\n",
              "    <tr>\n",
              "      <th>min</th>\n",
              "      <td>7.500000</td>\n",
              "      <td>7.000000</td>\n",
              "      <td>7.000000</td>\n",
              "      <td>8.300000</td>\n",
              "      <td>11.600000</td>\n",
              "      <td>10.300000</td>\n",
              "      <td>5.300000</td>\n",
              "      <td>5.500000</td>\n",
              "    </tr>\n",
              "    <tr>\n",
              "      <th>25%</th>\n",
              "      <td>16.500000</td>\n",
              "      <td>17.500000</td>\n",
              "      <td>17.500000</td>\n",
              "      <td>16.500000</td>\n",
              "      <td>18.100000</td>\n",
              "      <td>18.700000</td>\n",
              "      <td>15.700000</td>\n",
              "      <td>16.000000</td>\n",
              "    </tr>\n",
              "    <tr>\n",
              "      <th>50%</th>\n",
              "      <td>19.500000</td>\n",
              "      <td>22.000000</td>\n",
              "      <td>22.000000</td>\n",
              "      <td>19.500000</td>\n",
              "      <td>20.900000</td>\n",
              "      <td>21.600000</td>\n",
              "      <td>19.100000</td>\n",
              "      <td>19.200000</td>\n",
              "    </tr>\n",
              "    <tr>\n",
              "      <th>75%</th>\n",
              "      <td>25.000000</td>\n",
              "      <td>30.000000</td>\n",
              "      <td>29.500000</td>\n",
              "      <td>23.800000</td>\n",
              "      <td>24.600000</td>\n",
              "      <td>25.000000</td>\n",
              "      <td>23.900000</td>\n",
              "      <td>23.900000</td>\n",
              "    </tr>\n",
              "    <tr>\n",
              "      <th>max</th>\n",
              "      <td>38.000000</td>\n",
              "      <td>40.500000</td>\n",
              "      <td>39.500000</td>\n",
              "      <td>30.900000</td>\n",
              "      <td>32.700000</td>\n",
              "      <td>33.200000</td>\n",
              "      <td>33.100000</td>\n",
              "      <td>32.900000</td>\n",
              "    </tr>\n",
              "  </tbody>\n",
              "</table>\n",
              "</div>"
            ],
            "text/plain": [
              "               Y13          Y01  ...          X31          X32\n",
              "count  4320.000000  4320.000000  ...  4320.000000  4320.000000\n",
              "mean     20.926157    23.664583  ...    19.603796    19.750347\n",
              "std       6.106031     7.566614  ...     5.612736     5.345214\n",
              "min       7.500000     7.000000  ...     5.300000     5.500000\n",
              "25%      16.500000    17.500000  ...    15.700000    16.000000\n",
              "50%      19.500000    22.000000  ...    19.100000    19.200000\n",
              "75%      25.000000    30.000000  ...    23.900000    23.900000\n",
              "max      38.000000    40.500000  ...    33.100000    32.900000\n",
              "\n",
              "[8 rows x 8 columns]"
            ]
          },
          "metadata": {
            "tags": []
          },
          "execution_count": 261
        }
      ]
    },
    {
      "cell_type": "code",
      "metadata": {
        "colab_type": "code",
        "outputId": "6311929c-a752-4366-a2bc-ff5baad91b23",
        "id": "K257YrfwX6_z",
        "colab": {
          "base_uri": "https://localhost:8080/",
          "height": 265
        }
      },
      "source": [
        "g.heatmap()"
      ],
      "execution_count": 0,
      "outputs": [
        {
          "output_type": "display_data",
          "data": {
            "image/png": "[encoded data removed]",
            "text/plain": [
              "<Figure size 360x288 with 2 Axes>"
            ]
          },
          "metadata": {
            "tags": []
          }
        }
      ]
    },
    {
      "cell_type": "code",
      "metadata": {
        "colab_type": "code",
        "outputId": "61d0e9dc-a98a-448f-87a8-91b232483ff6",
        "id": "mw1ahlVBX7AB",
        "colab": {
          "base_uri": "https://localhost:8080/",
          "height": 121
        }
      },
      "source": [
        "g.corr_mean()"
      ],
      "execution_count": 0,
      "outputs": [
        {
          "output_type": "stream",
          "text": [
            "X00    0.952456\n",
            "X07    0.967407\n",
            "X28    0.950249\n",
            "X31    0.954445\n",
            "X32    0.955823\n",
            "dtype: float64\n"
          ],
          "name": "stdout"
        }
      ]
    },
    {
      "cell_type": "markdown",
      "metadata": {
        "colab_type": "text",
        "id": "jhzmH3AwX7AK"
      },
      "source": [
        "g4는 평균적으로 모든 지역과 비슷한 수준으로 유사하다. "
      ]
    },
    {
      "cell_type": "markdown",
      "metadata": {
        "colab_type": "text",
        "id": "q46cMyOcX14h"
      },
      "source": [
        "### x[feat_temp], y_g5"
      ]
    },
    {
      "cell_type": "code",
      "metadata": {
        "colab_type": "code",
        "outputId": "8f0f977f-e9a5-408d-aa43-642d1543bd19",
        "id": "Fxv0UOqPX148",
        "colab": {
          "base_uri": "https://localhost:8080/",
          "height": 139
        }
      },
      "source": [
        "tmp_df = df_y_g5\n",
        "g = correlation_x_y(tmp_df, df.loc[:n-1, feat_temp])\n",
        "g.corr()"
      ],
      "execution_count": 0,
      "outputs": [
        {
          "output_type": "stream",
          "text": [
            "          X00       X07       X28       X31       X32\n",
            "Y09  0.947931  0.923403  0.889321  0.947002  0.951074\n",
            "Y10  0.945833  0.931275  0.899919  0.947893  0.950790\n",
            "Y11  0.933180  0.911746  0.879923  0.932860  0.936655\n",
            "Y17  0.911654  0.885659  0.849162  0.905867  0.911813\n",
            "Y15  0.925800  0.906402  0.874344  0.919587  0.929539\n",
            "Y16  0.923968  0.891921  0.855365  0.917060  0.923795\n"
          ],
          "name": "stdout"
        }
      ]
    },
    {
      "cell_type": "code",
      "metadata": {
        "id": "afpo7ju7k7n0",
        "colab_type": "code",
        "outputId": "5e48f569-00f2-49dd-d4d1-21836a13d8bd",
        "colab": {
          "base_uri": "https://localhost:8080/",
          "height": 301
        }
      },
      "source": [
        "g.df.describe()"
      ],
      "execution_count": 0,
      "outputs": [
        {
          "output_type": "execute_result",
          "data": {
            "text/html": [
              "<div>\n",
              "<style scoped>\n",
              "    .dataframe tbody tr th:only-of-type {\n",
              "        vertical-align: middle;\n",
              "    }\n",
              "\n",
              "    .dataframe tbody tr th {\n",
              "        vertical-align: top;\n",
              "    }\n",
              "\n",
              "    .dataframe thead th {\n",
              "        text-align: right;\n",
              "    }\n",
              "</style>\n",
              "<table border=\"1\" class=\"dataframe\">\n",
              "  <thead>\n",
              "    <tr style=\"text-align: right;\">\n",
              "      <th></th>\n",
              "      <th>Y09</th>\n",
              "      <th>Y10</th>\n",
              "      <th>Y11</th>\n",
              "      <th>Y17</th>\n",
              "      <th>Y15</th>\n",
              "      <th>Y16</th>\n",
              "      <th>X00</th>\n",
              "      <th>X07</th>\n",
              "      <th>X28</th>\n",
              "      <th>X31</th>\n",
              "      <th>X32</th>\n",
              "    </tr>\n",
              "  </thead>\n",
              "  <tbody>\n",
              "    <tr>\n",
              "      <th>count</th>\n",
              "      <td>4320.000000</td>\n",
              "      <td>4320.000000</td>\n",
              "      <td>4320.000000</td>\n",
              "      <td>4320.000000</td>\n",
              "      <td>4320.000000</td>\n",
              "      <td>4320.000000</td>\n",
              "      <td>4320.000000</td>\n",
              "      <td>4320.000000</td>\n",
              "      <td>4320.000000</td>\n",
              "      <td>4320.000000</td>\n",
              "      <td>4320.000000</td>\n",
              "    </tr>\n",
              "    <tr>\n",
              "      <th>mean</th>\n",
              "      <td>22.222801</td>\n",
              "      <td>23.737269</td>\n",
              "      <td>24.649653</td>\n",
              "      <td>23.381829</td>\n",
              "      <td>21.564468</td>\n",
              "      <td>22.969097</td>\n",
              "      <td>19.965602</td>\n",
              "      <td>21.437014</td>\n",
              "      <td>21.898565</td>\n",
              "      <td>19.603796</td>\n",
              "      <td>19.750347</td>\n",
              "    </tr>\n",
              "    <tr>\n",
              "      <th>std</th>\n",
              "      <td>9.112299</td>\n",
              "      <td>10.599000</td>\n",
              "      <td>12.214870</td>\n",
              "      <td>9.275172</td>\n",
              "      <td>6.810084</td>\n",
              "      <td>8.054272</td>\n",
              "      <td>4.745137</td>\n",
              "      <td>4.423139</td>\n",
              "      <td>4.275935</td>\n",
              "      <td>5.612736</td>\n",
              "      <td>5.345214</td>\n",
              "    </tr>\n",
              "    <tr>\n",
              "      <th>min</th>\n",
              "      <td>3.500000</td>\n",
              "      <td>4.000000</td>\n",
              "      <td>3.000000</td>\n",
              "      <td>7.000000</td>\n",
              "      <td>7.000000</td>\n",
              "      <td>6.000000</td>\n",
              "      <td>8.300000</td>\n",
              "      <td>11.600000</td>\n",
              "      <td>10.300000</td>\n",
              "      <td>5.300000</td>\n",
              "      <td>5.500000</td>\n",
              "    </tr>\n",
              "    <tr>\n",
              "      <th>25%</th>\n",
              "      <td>15.500000</td>\n",
              "      <td>15.500000</td>\n",
              "      <td>15.000000</td>\n",
              "      <td>16.000000</td>\n",
              "      <td>16.500000</td>\n",
              "      <td>16.500000</td>\n",
              "      <td>16.500000</td>\n",
              "      <td>18.100000</td>\n",
              "      <td>18.700000</td>\n",
              "      <td>15.700000</td>\n",
              "      <td>16.000000</td>\n",
              "    </tr>\n",
              "    <tr>\n",
              "      <th>50%</th>\n",
              "      <td>20.000000</td>\n",
              "      <td>20.500000</td>\n",
              "      <td>21.000000</td>\n",
              "      <td>20.000000</td>\n",
              "      <td>20.000000</td>\n",
              "      <td>21.500000</td>\n",
              "      <td>19.500000</td>\n",
              "      <td>20.900000</td>\n",
              "      <td>21.600000</td>\n",
              "      <td>19.100000</td>\n",
              "      <td>19.200000</td>\n",
              "    </tr>\n",
              "    <tr>\n",
              "      <th>75%</th>\n",
              "      <td>30.500000</td>\n",
              "      <td>32.500000</td>\n",
              "      <td>34.500000</td>\n",
              "      <td>32.000000</td>\n",
              "      <td>27.000000</td>\n",
              "      <td>30.000000</td>\n",
              "      <td>23.800000</td>\n",
              "      <td>24.600000</td>\n",
              "      <td>25.000000</td>\n",
              "      <td>23.900000</td>\n",
              "      <td>23.900000</td>\n",
              "    </tr>\n",
              "    <tr>\n",
              "      <th>max</th>\n",
              "      <td>42.000000</td>\n",
              "      <td>49.000000</td>\n",
              "      <td>53.000000</td>\n",
              "      <td>43.500000</td>\n",
              "      <td>40.500000</td>\n",
              "      <td>41.500000</td>\n",
              "      <td>30.900000</td>\n",
              "      <td>32.700000</td>\n",
              "      <td>33.200000</td>\n",
              "      <td>33.100000</td>\n",
              "      <td>32.900000</td>\n",
              "    </tr>\n",
              "  </tbody>\n",
              "</table>\n",
              "</div>"
            ],
            "text/plain": [
              "               Y09          Y10  ...          X31          X32\n",
              "count  4320.000000  4320.000000  ...  4320.000000  4320.000000\n",
              "mean     22.222801    23.737269  ...    19.603796    19.750347\n",
              "std       9.112299    10.599000  ...     5.612736     5.345214\n",
              "min       3.500000     4.000000  ...     5.300000     5.500000\n",
              "25%      15.500000    15.500000  ...    15.700000    16.000000\n",
              "50%      20.000000    20.500000  ...    19.100000    19.200000\n",
              "75%      30.500000    32.500000  ...    23.900000    23.900000\n",
              "max      42.000000    49.000000  ...    33.100000    32.900000\n",
              "\n",
              "[8 rows x 11 columns]"
            ]
          },
          "metadata": {
            "tags": []
          },
          "execution_count": 265
        }
      ]
    },
    {
      "cell_type": "code",
      "metadata": {
        "colab_type": "code",
        "outputId": "a17dd67a-0057-4d80-8fed-e79c01297060",
        "id": "ouE0OU4uX15S",
        "colab": {
          "base_uri": "https://localhost:8080/",
          "height": 265
        }
      },
      "source": [
        "g.heatmap()"
      ],
      "execution_count": 0,
      "outputs": [
        {
          "output_type": "display_data",
          "data": {
            "image/png": "[encoded data removed]",
            "text/plain": [
              "<Figure size 360x288 with 2 Axes>"
            ]
          },
          "metadata": {
            "tags": []
          }
        }
      ]
    },
    {
      "cell_type": "code",
      "metadata": {
        "colab_type": "code",
        "outputId": "f6ba3aa8-c474-4786-bd9c-871efab5f2d9",
        "id": "14qiv6zKX15c",
        "colab": {
          "base_uri": "https://localhost:8080/",
          "height": 121
        }
      },
      "source": [
        "g.corr_mean()"
      ],
      "execution_count": 0,
      "outputs": [
        {
          "output_type": "stream",
          "text": [
            "X00    0.931394\n",
            "X07    0.908401\n",
            "X28    0.874672\n",
            "X31    0.928378\n",
            "X32    0.933944\n",
            "dtype: float64\n"
          ],
          "name": "stdout"
        }
      ]
    },
    {
      "cell_type": "markdown",
      "metadata": {
        "colab_type": "text",
        "id": "QAKYpi5EX15i"
      },
      "source": [
        "g5은 평균적으로 X32, X00와 가장 유사하다.  "
      ]
    },
    {
      "cell_type": "markdown",
      "metadata": {
        "colab_type": "text",
        "id": "ta-mcye4XwnV"
      },
      "source": [
        "### x[feat_temp], y_g6"
      ]
    },
    {
      "cell_type": "code",
      "metadata": {
        "colab_type": "code",
        "outputId": "07a27d19-6729-48c7-e246-34623cac3812",
        "id": "eLNtFk1CXwne",
        "colab": {
          "base_uri": "https://localhost:8080/",
          "height": 86
        }
      },
      "source": [
        "tmp_df = df_y_g6\n",
        "g = correlation_x_y(tmp_df, df.loc[:n-1, feat_temp])\n",
        "g.corr()"
      ],
      "execution_count": 0,
      "outputs": [
        {
          "output_type": "stream",
          "text": [
            "          X00       X07       X28       X31       X32\n",
            "Y12  0.825280  0.778135  0.733078  0.817218  0.830264\n",
            "Y06  0.840827  0.795471  0.752037  0.838379  0.852777\n",
            "Y07  0.746129  0.698961  0.652907  0.743822  0.763417\n"
          ],
          "name": "stdout"
        }
      ]
    },
    {
      "cell_type": "code",
      "metadata": {
        "id": "msU1BC64k-EL",
        "colab_type": "code",
        "outputId": "c85b91eb-b5ee-4162-c001-1f6bd80f8e4f",
        "colab": {
          "base_uri": "https://localhost:8080/",
          "height": 301
        }
      },
      "source": [
        "g.df.describe()"
      ],
      "execution_count": 0,
      "outputs": [
        {
          "output_type": "execute_result",
          "data": {
            "text/html": [
              "<div>\n",
              "<style scoped>\n",
              "    .dataframe tbody tr th:only-of-type {\n",
              "        vertical-align: middle;\n",
              "    }\n",
              "\n",
              "    .dataframe tbody tr th {\n",
              "        vertical-align: top;\n",
              "    }\n",
              "\n",
              "    .dataframe thead th {\n",
              "        text-align: right;\n",
              "    }\n",
              "</style>\n",
              "<table border=\"1\" class=\"dataframe\">\n",
              "  <thead>\n",
              "    <tr style=\"text-align: right;\">\n",
              "      <th></th>\n",
              "      <th>Y12</th>\n",
              "      <th>Y06</th>\n",
              "      <th>Y07</th>\n",
              "      <th>X00</th>\n",
              "      <th>X07</th>\n",
              "      <th>X28</th>\n",
              "      <th>X31</th>\n",
              "      <th>X32</th>\n",
              "    </tr>\n",
              "  </thead>\n",
              "  <tbody>\n",
              "    <tr>\n",
              "      <th>count</th>\n",
              "      <td>4320.000000</td>\n",
              "      <td>4320.000000</td>\n",
              "      <td>4320.000000</td>\n",
              "      <td>4320.000000</td>\n",
              "      <td>4320.000000</td>\n",
              "      <td>4320.000000</td>\n",
              "      <td>4320.000000</td>\n",
              "      <td>4320.000000</td>\n",
              "    </tr>\n",
              "    <tr>\n",
              "      <th>mean</th>\n",
              "      <td>23.641898</td>\n",
              "      <td>22.530671</td>\n",
              "      <td>23.786574</td>\n",
              "      <td>19.965602</td>\n",
              "      <td>21.437014</td>\n",
              "      <td>21.898565</td>\n",
              "      <td>19.603796</td>\n",
              "      <td>19.750347</td>\n",
              "    </tr>\n",
              "    <tr>\n",
              "      <th>std</th>\n",
              "      <td>8.400081</td>\n",
              "      <td>7.468692</td>\n",
              "      <td>8.732548</td>\n",
              "      <td>4.745137</td>\n",
              "      <td>4.423139</td>\n",
              "      <td>4.275935</td>\n",
              "      <td>5.612736</td>\n",
              "      <td>5.345214</td>\n",
              "    </tr>\n",
              "    <tr>\n",
              "      <th>min</th>\n",
              "      <td>6.000000</td>\n",
              "      <td>6.500000</td>\n",
              "      <td>7.500000</td>\n",
              "      <td>8.300000</td>\n",
              "      <td>11.600000</td>\n",
              "      <td>10.300000</td>\n",
              "      <td>5.300000</td>\n",
              "      <td>5.500000</td>\n",
              "    </tr>\n",
              "    <tr>\n",
              "      <th>25%</th>\n",
              "      <td>17.000000</td>\n",
              "      <td>16.500000</td>\n",
              "      <td>17.000000</td>\n",
              "      <td>16.500000</td>\n",
              "      <td>18.100000</td>\n",
              "      <td>18.700000</td>\n",
              "      <td>15.700000</td>\n",
              "      <td>16.000000</td>\n",
              "    </tr>\n",
              "    <tr>\n",
              "      <th>50%</th>\n",
              "      <td>22.000000</td>\n",
              "      <td>21.000000</td>\n",
              "      <td>21.500000</td>\n",
              "      <td>19.500000</td>\n",
              "      <td>20.900000</td>\n",
              "      <td>21.600000</td>\n",
              "      <td>19.100000</td>\n",
              "      <td>19.200000</td>\n",
              "    </tr>\n",
              "    <tr>\n",
              "      <th>75%</th>\n",
              "      <td>30.500000</td>\n",
              "      <td>28.500000</td>\n",
              "      <td>29.500000</td>\n",
              "      <td>23.800000</td>\n",
              "      <td>24.600000</td>\n",
              "      <td>25.000000</td>\n",
              "      <td>23.900000</td>\n",
              "      <td>23.900000</td>\n",
              "    </tr>\n",
              "    <tr>\n",
              "      <th>max</th>\n",
              "      <td>43.500000</td>\n",
              "      <td>45.000000</td>\n",
              "      <td>52.000000</td>\n",
              "      <td>30.900000</td>\n",
              "      <td>32.700000</td>\n",
              "      <td>33.200000</td>\n",
              "      <td>33.100000</td>\n",
              "      <td>32.900000</td>\n",
              "    </tr>\n",
              "  </tbody>\n",
              "</table>\n",
              "</div>"
            ],
            "text/plain": [
              "               Y12          Y06  ...          X31          X32\n",
              "count  4320.000000  4320.000000  ...  4320.000000  4320.000000\n",
              "mean     23.641898    22.530671  ...    19.603796    19.750347\n",
              "std       8.400081     7.468692  ...     5.612736     5.345214\n",
              "min       6.000000     6.500000  ...     5.300000     5.500000\n",
              "25%      17.000000    16.500000  ...    15.700000    16.000000\n",
              "50%      22.000000    21.000000  ...    19.100000    19.200000\n",
              "75%      30.500000    28.500000  ...    23.900000    23.900000\n",
              "max      43.500000    45.000000  ...    33.100000    32.900000\n",
              "\n",
              "[8 rows x 8 columns]"
            ]
          },
          "metadata": {
            "tags": []
          },
          "execution_count": 269
        }
      ]
    },
    {
      "cell_type": "code",
      "metadata": {
        "colab_type": "code",
        "outputId": "601e1cd9-ed98-4594-9bd0-7784df7bcebd",
        "id": "Wy5oFHLPXwnj",
        "colab": {
          "base_uri": "https://localhost:8080/",
          "height": 265
        }
      },
      "source": [
        "g.heatmap()"
      ],
      "execution_count": 0,
      "outputs": [
        {
          "output_type": "display_data",
          "data": {
            "image/png": "[encoded data removed]",
            "text/plain": [
              "<Figure size 360x288 with 2 Axes>"
            ]
          },
          "metadata": {
            "tags": []
          }
        }
      ]
    },
    {
      "cell_type": "code",
      "metadata": {
        "colab_type": "code",
        "outputId": "5966623d-3f77-4bb7-9ccc-4793d8ea7dc1",
        "id": "ubMnplc1Xwnq",
        "colab": {
          "base_uri": "https://localhost:8080/",
          "height": 121
        }
      },
      "source": [
        "g.corr_mean()"
      ],
      "execution_count": 0,
      "outputs": [
        {
          "output_type": "stream",
          "text": [
            "X00    0.804078\n",
            "X07    0.757522\n",
            "X28    0.712674\n",
            "X31    0.799806\n",
            "X32    0.815486\n",
            "dtype: float64\n"
          ],
          "name": "stdout"
        }
      ]
    },
    {
      "cell_type": "markdown",
      "metadata": {
        "id": "591_rfSLZFRW",
        "colab_type": "text"
      },
      "source": [
        "다른 그룹들 보다는 유사성이 떨어지는 것처럼 보이지만 여전히 0.7이 넘는 높은 상관관계를 갖는다."
      ]
    },
    {
      "cell_type": "markdown",
      "metadata": {
        "id": "fXlKPpiJYA_4",
        "colab_type": "text"
      },
      "source": [
        "# tmp"
      ]
    },
    {
      "cell_type": "code",
      "metadata": {
        "id": "a_WnfdI7eHCK",
        "colab_type": "code",
        "outputId": "b0a80a81-8da9-495b-b93b-78c8fe18cc2d",
        "colab": {
          "base_uri": "https://localhost:8080/",
          "height": 34
        }
      },
      "source": [
        "for i in range(18):\n",
        "    print(\"'Y{:02}',\".format(i), end=' ')"
      ],
      "execution_count": 0,
      "outputs": [
        {
          "output_type": "stream",
          "text": [
            "'Y00', 'Y01', 'Y02', 'Y03', 'Y04', 'Y05', 'Y06', 'Y07', 'Y08', 'Y09', 'Y10', 'Y11', 'Y12', 'Y13', 'Y14', 'Y15', 'Y16', 'Y17', "
          ],
          "name": "stdout"
        }
      ]
    },
    {
      "cell_type": "code",
      "metadata": {
        "id": "Qz9vMJJ-eHFO",
        "colab_type": "code",
        "colab": {}
      },
      "source": [
        "tmp = 'X13, X15, X17, X25, X35'\n",
        "for i in tmp.split(', '):\n",
        "    print(\"'{}',\".format(i), end=' ')"
      ],
      "execution_count": 0,
      "outputs": []
    }
  ]
}