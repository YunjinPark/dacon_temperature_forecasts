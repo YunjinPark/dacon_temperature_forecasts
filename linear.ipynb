{
  "nbformat": 4,
  "nbformat_minor": 0,
  "metadata": {
    "colab": {
      "name": "eda.ipynb",
      "provenance": [],
      "collapsed_sections": [],
      "toc_visible": true
    },
    "kernelspec": {
      "name": "python3",
      "display_name": "Python 3"
    }
  },
  "cells": [
    {
      "cell_type": "code",
      "metadata": {
        "id": "7ASe8u1m4F13",
        "colab_type": "code",
        "colab": {}
      },
      "source": [
        "import numpy as np \n",
        "import pandas as pd\n",
        "import matplotlib.pyplot as plt\n",
        "import seaborn as sns"
      ],
      "execution_count": 0,
      "outputs": []
    },
    {
      "cell_type": "markdown",
      "metadata": {
        "id": "GnzbKvgWkMry",
        "colab_type": "text"
      },
      "source": [
        "# 0 한글 폰트"
      ]
    },
    {
      "cell_type": "code",
      "metadata": {
        "id": "C6K3dLGCcJly",
        "colab_type": "code",
        "outputId": "a6cc186b-74d4-4265-f276-0d735ae07625",
        "colab": {
          "base_uri": "https://localhost:8080/",
          "height": 243
        }
      },
      "source": [
        "!wget \"https://noto-website-2.storage.googleapis.com/pkgs/NotoSansCJKkr-hinted.zip\"\n",
        "!unzip \"NotoSansCJKkr-hinted.zip\""
      ],
      "execution_count": 19,
      "outputs": [
        {
          "output_type": "stream",
          "text": [
            "--2020-03-10 03:44:52--  https://noto-website-2.storage.googleapis.com/pkgs/NotoSansCJKkr-hinted.zip\n",
            "Resolving noto-website-2.storage.googleapis.com (noto-website-2.storage.googleapis.com)... 172.217.204.128, 2607:f8b0:400c:c15::80\n",
            "Connecting to noto-website-2.storage.googleapis.com (noto-website-2.storage.googleapis.com)|172.217.204.128|:443... connected.\n",
            "HTTP request sent, awaiting response... 200 OK\n",
            "Length: 121163981 (116M) [application/zip]\n",
            "Saving to: ‘NotoSansCJKkr-hinted.zip.1’\n",
            "\n",
            "NotoSansCJKkr-hinte 100%[===================>] 115.55M   159MB/s    in 0.7s    \n",
            "\n",
            "2020-03-10 03:44:53 (159 MB/s) - ‘NotoSansCJKkr-hinted.zip.1’ saved [121163981/121163981]\n",
            "\n",
            "Archive:  NotoSansCJKkr-hinted.zip\n",
            "replace LICENSE_OFL.txt? [y]es, [n]o, [A]ll, [N]one, [r]ename: N\n"
          ],
          "name": "stdout"
        }
      ]
    },
    {
      "cell_type": "code",
      "metadata": {
        "id": "fzQ6HS3Ne5dn",
        "colab_type": "code",
        "colab": {}
      },
      "source": [
        "!mv NotoSansCJKkr-Medium.otf /usr/share/fonts/truetype/"
      ],
      "execution_count": 0,
      "outputs": []
    },
    {
      "cell_type": "code",
      "metadata": {
        "id": "0YfjC4ZHe62p",
        "colab_type": "code",
        "colab": {}
      },
      "source": [
        "import matplotlib.pyplot as plt\n",
        "import matplotlib.font_manager as fm\n",
        "\n",
        "font_dirs = ['/usr/share/fonts/truetype']\n",
        "font_files = fm.findSystemFonts(fontpaths=font_dirs)\n",
        "font_list = fm.createFontList(font_files)\n",
        "fm.fontManager.ttflist.extend(font_list)\n",
        "plt.rcParams['font.family'] = \"Noto Sans CJK KR\""
      ],
      "execution_count": 0,
      "outputs": []
    },
    {
      "cell_type": "markdown",
      "metadata": {
        "id": "wM7X5C35N-4n",
        "colab_type": "text"
      },
      "source": [
        "# 1. 데이터 읽기 "
      ]
    },
    {
      "cell_type": "markdown",
      "metadata": {
        "id": "1CatWTjLPg_Q",
        "colab_type": "text"
      },
      "source": [
        "Contents of the Notebook:\n",
        "Part1: Exploratory Data Analysis(EDA):\n",
        "\n",
        "1)Analysis of the features.\n",
        "\n",
        "2)Finding any relations or trends considering multiple features.\n",
        "Part2: Feature Engineering and Data Cleaning:\n",
        "\n",
        "1)Adding any few features.\n",
        "\n",
        "2)Removing redundant features.\n",
        "\n",
        "3)Converting features into suitable form for modeling.\n",
        "Part3: Predictive Modeling\n",
        "\n",
        "1)Running Basic Algorithms.\n",
        "\n",
        "2)Cross Validation.\n",
        "\n",
        "3)Ensembling.\n",
        "\n",
        "4)Important Features Extraction"
      ]
    },
    {
      "cell_type": "markdown",
      "metadata": {
        "id": "PSHLZvJmcPRs",
        "colab_type": "text"
      },
      "source": [
        "# 1. 데이터 불러오기"
      ]
    },
    {
      "cell_type": "code",
      "metadata": {
        "id": "4UP_N36kWbEw",
        "colab_type": "code",
        "outputId": "e58e07ca-44c2-4145-dc02-b0405bdf559c",
        "colab": {
          "base_uri": "https://localhost:8080/",
          "height": 34
        }
      },
      "source": [
        "from google.colab import drive\n",
        "drive.mount('/content/drive')"
      ],
      "execution_count": 22,
      "outputs": [
        {
          "output_type": "stream",
          "text": [
            "Drive already mounted at /content/drive; to attempt to forcibly remount, call drive.mount(\"/content/drive\", force_remount=True).\n"
          ],
          "name": "stdout"
        }
      ]
    },
    {
      "cell_type": "code",
      "metadata": {
        "id": "p83KetSckP5E",
        "colab_type": "code",
        "colab": {
          "base_uri": "https://localhost:8080/",
          "height": 34
        },
        "outputId": "184eee7d-b692-4e93-c16d-07dfeba08138"
      },
      "source": [
        "import os\n",
        "from pathlib import Path\n",
        "\n",
        "folder = \"Colab Notebooks/dacon\"\n",
        "project_dir = \"temperature_forecasting\"\n",
        "\n",
        "base_path = Path(\"/content/drive/My Drive/\")\n",
        "project_path = base_path / folder / project_dir\n",
        "os.chdir(project_path)\n",
        "# for x in list(project_path.glob(\"*\")):\n",
        "#     if x.is_dir():\n",
        "#         dir_name = str(x.relative_to(project_path))\n",
        "#         os.rename(dir_name, dir_name.split(\" \", 1)[0])\n",
        "print(f\"현재 디렉토리 위치: {os.getcwd()}\")"
      ],
      "execution_count": 65,
      "outputs": [
        {
          "output_type": "stream",
          "text": [
            "현재 디렉토리 위치: /content/drive/My Drive/Colab Notebooks/dacon/temperature_forecasting\n"
          ],
          "name": "stdout"
        }
      ]
    },
    {
      "cell_type": "code",
      "metadata": {
        "id": "0Q_lQowbbf9h",
        "colab_type": "code",
        "outputId": "f84332e0-89e1-46f0-b65b-249e617fe8ff",
        "colab": {
          "base_uri": "https://localhost:8080/",
          "height": 34
        }
      },
      "source": [
        "df = pd.read_csv('./data/'+'train.csv')\n",
        "df.shape"
      ],
      "execution_count": 68,
      "outputs": [
        {
          "output_type": "execute_result",
          "data": {
            "text/plain": [
              "(4752, 60)"
            ]
          },
          "metadata": {
            "tags": []
          },
          "execution_count": 68
        }
      ]
    },
    {
      "cell_type": "markdown",
      "metadata": {
        "id": "Bo_lvrxI_-yr",
        "colab_type": "text"
      },
      "source": [
        "* 4320개(30일)\n",
        "* 432개(3일) "
      ]
    },
    {
      "cell_type": "markdown",
      "metadata": {
        "id": "9k4dS_DVAL7j",
        "colab_type": "text"
      },
      "source": [
        "|-|30일(train)|3일(train)|80일(test)|\n",
        "|---|---|---|---|\n",
        "|Y18|NULL|432개|NULL|\n",
        "|Y00-Y17|4320개|NULL|NULL|\n",
        "|X00-X17|4320개|432개|11520개|"
      ]
    },
    {
      "cell_type": "code",
      "metadata": {
        "id": "sBmyVGEc_wo5",
        "colab_type": "code",
        "colab": {}
      },
      "source": [
        "n = 4320"
      ],
      "execution_count": 0,
      "outputs": []
    },
    {
      "cell_type": "markdown",
      "metadata": {
        "id": "BoVcePUUenSg",
        "colab_type": "text"
      },
      "source": [
        "## x"
      ]
    },
    {
      "cell_type": "markdown",
      "metadata": {
        "id": "HK-xZpb6eroq",
        "colab_type": "text"
      },
      "source": [
        "* feat_temp: 기온 \n",
        "* feat_air_press: 현지기압\n",
        "* feat_wind_speed: 풍속\n",
        "* feat_rainfall: 일일 누적강수량 \n",
        "* feat_sea_press: 해면기압\n",
        "* feat_insol: 일일 누적일사량\n",
        "* feat_humid: 습도\n",
        "* feat_dir_wind: 풍향\n",
        "\n"
      ]
    },
    {
      "cell_type": "code",
      "metadata": {
        "id": "JEdugNkuQEHm",
        "colab_type": "code",
        "colab": {}
      },
      "source": [
        "#feat_x = [feat_temp, feat_air_press, feat_wind_speed, feat_rainfall, feat_sea_press, feat_insol, feat_humid, feat_dir_wind]\n",
        "feat_x = ['X00', 'X01', 'X02', 'X03', 'X04', 'X05', 'X06', 'X07', 'X08', 'X09', \n",
        "          'X10', 'X11', 'X12', 'X13', 'X14', 'X15', 'X16', 'X17', 'X18', 'X19', \n",
        "          'X20', 'X21', 'X22', 'X23', 'X24', 'X25', 'X26', 'X27', 'X28', 'X29', \n",
        "          'X30', 'X31', 'X32', 'X33', 'X34', 'X35', 'X36', 'X37', 'X38', 'X39']\n",
        "feat_temp = ['X00', 'X07', 'X28', 'X31', 'X32']\n",
        "feat_air_press = ['X01', 'X06', 'X22', 'X27', 'X29']\n",
        "feat_wind_speed = ['X02', 'X03', 'X18', 'X24', 'X26']\n",
        "feat_rainfall = ['X04', 'X10', 'X21', 'X36', 'X39']\n",
        "feat_sea_press = ['X05', 'X08', 'X09', 'X23', 'X33']\n",
        "feat_insol = ['X11', 'X14', 'X16', 'X19', 'X34']\n",
        "feat_humid = ['X12', 'X20', 'X30', 'X37', 'X38']\n",
        "feat_dir_wind = ['X13', 'X15', 'X17', 'X25', 'X35']"
      ],
      "execution_count": 0,
      "outputs": []
    },
    {
      "cell_type": "code",
      "metadata": {
        "id": "lvYlhcYLQELJ",
        "colab_type": "code",
        "outputId": "61fbea7d-b035-48eb-accd-8c89d1e9c2ee",
        "colab": {
          "base_uri": "https://localhost:8080/",
          "height": 163
        }
      },
      "source": [
        "df[feat_x].head(3)"
      ],
      "execution_count": 71,
      "outputs": [
        {
          "output_type": "execute_result",
          "data": {
            "text/html": [
              "<div>\n",
              "<style scoped>\n",
              "    .dataframe tbody tr th:only-of-type {\n",
              "        vertical-align: middle;\n",
              "    }\n",
              "\n",
              "    .dataframe tbody tr th {\n",
              "        vertical-align: top;\n",
              "    }\n",
              "\n",
              "    .dataframe thead th {\n",
              "        text-align: right;\n",
              "    }\n",
              "</style>\n",
              "<table border=\"1\" class=\"dataframe\">\n",
              "  <thead>\n",
              "    <tr style=\"text-align: right;\">\n",
              "      <th></th>\n",
              "      <th>X00</th>\n",
              "      <th>X01</th>\n",
              "      <th>X02</th>\n",
              "      <th>X03</th>\n",
              "      <th>X04</th>\n",
              "      <th>X05</th>\n",
              "      <th>X06</th>\n",
              "      <th>X07</th>\n",
              "      <th>X08</th>\n",
              "      <th>X09</th>\n",
              "      <th>X10</th>\n",
              "      <th>X11</th>\n",
              "      <th>X12</th>\n",
              "      <th>X13</th>\n",
              "      <th>X14</th>\n",
              "      <th>X15</th>\n",
              "      <th>X16</th>\n",
              "      <th>X17</th>\n",
              "      <th>X18</th>\n",
              "      <th>X19</th>\n",
              "      <th>X20</th>\n",
              "      <th>X21</th>\n",
              "      <th>X22</th>\n",
              "      <th>X23</th>\n",
              "      <th>X24</th>\n",
              "      <th>X25</th>\n",
              "      <th>X26</th>\n",
              "      <th>X27</th>\n",
              "      <th>X28</th>\n",
              "      <th>X29</th>\n",
              "      <th>X30</th>\n",
              "      <th>X31</th>\n",
              "      <th>X32</th>\n",
              "      <th>X33</th>\n",
              "      <th>X34</th>\n",
              "      <th>X35</th>\n",
              "      <th>X36</th>\n",
              "      <th>X37</th>\n",
              "      <th>X38</th>\n",
              "      <th>X39</th>\n",
              "    </tr>\n",
              "  </thead>\n",
              "  <tbody>\n",
              "    <tr>\n",
              "      <th>0</th>\n",
              "      <td>9.7</td>\n",
              "      <td>988.8</td>\n",
              "      <td>1.2</td>\n",
              "      <td>0.6</td>\n",
              "      <td>0.0</td>\n",
              "      <td>1009.3</td>\n",
              "      <td>989.6</td>\n",
              "      <td>12.2</td>\n",
              "      <td>1009.9</td>\n",
              "      <td>1009.8</td>\n",
              "      <td>0.0</td>\n",
              "      <td>0.0</td>\n",
              "      <td>82.4</td>\n",
              "      <td>71.3</td>\n",
              "      <td>0.0</td>\n",
              "      <td>101.1</td>\n",
              "      <td>0.0</td>\n",
              "      <td>56.1</td>\n",
              "      <td>0.3</td>\n",
              "      <td>0.0</td>\n",
              "      <td>91.0</td>\n",
              "      <td>0.0</td>\n",
              "      <td>1002.5</td>\n",
              "      <td>1009.8</td>\n",
              "      <td>1.1</td>\n",
              "      <td>2.3</td>\n",
              "      <td>0.5</td>\n",
              "      <td>1008.7</td>\n",
              "      <td>12.3</td>\n",
              "      <td>1001.6</td>\n",
              "      <td>69.1</td>\n",
              "      <td>8.2</td>\n",
              "      <td>10.7</td>\n",
              "      <td>1010.1</td>\n",
              "      <td>0.0</td>\n",
              "      <td>256.4</td>\n",
              "      <td>0.0</td>\n",
              "      <td>77.2</td>\n",
              "      <td>62.6</td>\n",
              "      <td>0.0</td>\n",
              "    </tr>\n",
              "    <tr>\n",
              "      <th>1</th>\n",
              "      <td>9.3</td>\n",
              "      <td>988.9</td>\n",
              "      <td>1.7</td>\n",
              "      <td>1.9</td>\n",
              "      <td>0.0</td>\n",
              "      <td>1009.3</td>\n",
              "      <td>989.6</td>\n",
              "      <td>12.1</td>\n",
              "      <td>1010.0</td>\n",
              "      <td>1009.9</td>\n",
              "      <td>0.0</td>\n",
              "      <td>0.0</td>\n",
              "      <td>81.2</td>\n",
              "      <td>121.8</td>\n",
              "      <td>0.0</td>\n",
              "      <td>165.3</td>\n",
              "      <td>0.0</td>\n",
              "      <td>0.0</td>\n",
              "      <td>0.4</td>\n",
              "      <td>0.0</td>\n",
              "      <td>91.9</td>\n",
              "      <td>0.0</td>\n",
              "      <td>1002.5</td>\n",
              "      <td>1009.9</td>\n",
              "      <td>0.0</td>\n",
              "      <td>0.0</td>\n",
              "      <td>0.0</td>\n",
              "      <td>1008.7</td>\n",
              "      <td>12.1</td>\n",
              "      <td>1001.7</td>\n",
              "      <td>70.3</td>\n",
              "      <td>8.3</td>\n",
              "      <td>10.3</td>\n",
              "      <td>1010.1</td>\n",
              "      <td>0.0</td>\n",
              "      <td>215.4</td>\n",
              "      <td>0.0</td>\n",
              "      <td>77.3</td>\n",
              "      <td>63.5</td>\n",
              "      <td>0.0</td>\n",
              "    </tr>\n",
              "    <tr>\n",
              "      <th>2</th>\n",
              "      <td>9.4</td>\n",
              "      <td>989.0</td>\n",
              "      <td>1.1</td>\n",
              "      <td>2.3</td>\n",
              "      <td>0.0</td>\n",
              "      <td>1009.2</td>\n",
              "      <td>989.7</td>\n",
              "      <td>12.1</td>\n",
              "      <td>1010.1</td>\n",
              "      <td>1010.1</td>\n",
              "      <td>0.0</td>\n",
              "      <td>0.0</td>\n",
              "      <td>86.1</td>\n",
              "      <td>232.0</td>\n",
              "      <td>0.0</td>\n",
              "      <td>144.0</td>\n",
              "      <td>0.0</td>\n",
              "      <td>0.0</td>\n",
              "      <td>0.6</td>\n",
              "      <td>0.0</td>\n",
              "      <td>93.3</td>\n",
              "      <td>0.0</td>\n",
              "      <td>1002.4</td>\n",
              "      <td>1009.8</td>\n",
              "      <td>0.0</td>\n",
              "      <td>0.0</td>\n",
              "      <td>0.0</td>\n",
              "      <td>1008.6</td>\n",
              "      <td>12.1</td>\n",
              "      <td>1001.6</td>\n",
              "      <td>71.5</td>\n",
              "      <td>8.0</td>\n",
              "      <td>9.7</td>\n",
              "      <td>1010.0</td>\n",
              "      <td>0.0</td>\n",
              "      <td>235.2</td>\n",
              "      <td>0.0</td>\n",
              "      <td>77.3</td>\n",
              "      <td>63.9</td>\n",
              "      <td>0.0</td>\n",
              "    </tr>\n",
              "  </tbody>\n",
              "</table>\n",
              "</div>"
            ],
            "text/plain": [
              "   X00    X01  X02  X03  X04     X05  ...  X34    X35  X36   X37   X38  X39\n",
              "0  9.7  988.8  1.2  0.6  0.0  1009.3  ...  0.0  256.4  0.0  77.2  62.6  0.0\n",
              "1  9.3  988.9  1.7  1.9  0.0  1009.3  ...  0.0  215.4  0.0  77.3  63.5  0.0\n",
              "2  9.4  989.0  1.1  2.3  0.0  1009.2  ...  0.0  235.2  0.0  77.3  63.9  0.0\n",
              "\n",
              "[3 rows x 40 columns]"
            ]
          },
          "metadata": {
            "tags": []
          },
          "execution_count": 71
        }
      ]
    },
    {
      "cell_type": "code",
      "metadata": {
        "id": "CQgIo_-fYIs-",
        "colab_type": "code",
        "outputId": "77c15062-408a-48cb-f0ce-264a3dfaa8aa",
        "colab": {
          "base_uri": "https://localhost:8080/",
          "height": 163
        }
      },
      "source": [
        "df[feat_x].tail(3)"
      ],
      "execution_count": 72,
      "outputs": [
        {
          "output_type": "execute_result",
          "data": {
            "text/html": [
              "<div>\n",
              "<style scoped>\n",
              "    .dataframe tbody tr th:only-of-type {\n",
              "        vertical-align: middle;\n",
              "    }\n",
              "\n",
              "    .dataframe tbody tr th {\n",
              "        vertical-align: top;\n",
              "    }\n",
              "\n",
              "    .dataframe thead th {\n",
              "        text-align: right;\n",
              "    }\n",
              "</style>\n",
              "<table border=\"1\" class=\"dataframe\">\n",
              "  <thead>\n",
              "    <tr style=\"text-align: right;\">\n",
              "      <th></th>\n",
              "      <th>X00</th>\n",
              "      <th>X01</th>\n",
              "      <th>X02</th>\n",
              "      <th>X03</th>\n",
              "      <th>X04</th>\n",
              "      <th>X05</th>\n",
              "      <th>X06</th>\n",
              "      <th>X07</th>\n",
              "      <th>X08</th>\n",
              "      <th>X09</th>\n",
              "      <th>X10</th>\n",
              "      <th>X11</th>\n",
              "      <th>X12</th>\n",
              "      <th>X13</th>\n",
              "      <th>X14</th>\n",
              "      <th>X15</th>\n",
              "      <th>X16</th>\n",
              "      <th>X17</th>\n",
              "      <th>X18</th>\n",
              "      <th>X19</th>\n",
              "      <th>X20</th>\n",
              "      <th>X21</th>\n",
              "      <th>X22</th>\n",
              "      <th>X23</th>\n",
              "      <th>X24</th>\n",
              "      <th>X25</th>\n",
              "      <th>X26</th>\n",
              "      <th>X27</th>\n",
              "      <th>X28</th>\n",
              "      <th>X29</th>\n",
              "      <th>X30</th>\n",
              "      <th>X31</th>\n",
              "      <th>X32</th>\n",
              "      <th>X33</th>\n",
              "      <th>X34</th>\n",
              "      <th>X35</th>\n",
              "      <th>X36</th>\n",
              "      <th>X37</th>\n",
              "      <th>X38</th>\n",
              "      <th>X39</th>\n",
              "    </tr>\n",
              "  </thead>\n",
              "  <tbody>\n",
              "    <tr>\n",
              "      <th>4749</th>\n",
              "      <td>19.7</td>\n",
              "      <td>987.7</td>\n",
              "      <td>0.9</td>\n",
              "      <td>0.6</td>\n",
              "      <td>0.0</td>\n",
              "      <td>1006.9</td>\n",
              "      <td>987.6</td>\n",
              "      <td>21.4</td>\n",
              "      <td>1007.4</td>\n",
              "      <td>1007.5</td>\n",
              "      <td>2.5</td>\n",
              "      <td>23.88</td>\n",
              "      <td>95.9</td>\n",
              "      <td>127.8</td>\n",
              "      <td>0.0</td>\n",
              "      <td>256.1</td>\n",
              "      <td>0.0</td>\n",
              "      <td>299.1</td>\n",
              "      <td>0.6</td>\n",
              "      <td>0.0</td>\n",
              "      <td>90.8</td>\n",
              "      <td>10.5</td>\n",
              "      <td>1000.4</td>\n",
              "      <td>1007.6</td>\n",
              "      <td>0.0</td>\n",
              "      <td>0.0</td>\n",
              "      <td>0.2</td>\n",
              "      <td>1006.0</td>\n",
              "      <td>23.6</td>\n",
              "      <td>999.5</td>\n",
              "      <td>90.2</td>\n",
              "      <td>17.8</td>\n",
              "      <td>19.2</td>\n",
              "      <td>1007.5</td>\n",
              "      <td>22.16</td>\n",
              "      <td>254.2</td>\n",
              "      <td>0.0</td>\n",
              "      <td>83.0</td>\n",
              "      <td>58.9</td>\n",
              "      <td>0.5</td>\n",
              "    </tr>\n",
              "    <tr>\n",
              "      <th>4750</th>\n",
              "      <td>19.4</td>\n",
              "      <td>987.7</td>\n",
              "      <td>0.9</td>\n",
              "      <td>0.8</td>\n",
              "      <td>0.0</td>\n",
              "      <td>1006.9</td>\n",
              "      <td>987.8</td>\n",
              "      <td>21.3</td>\n",
              "      <td>1007.6</td>\n",
              "      <td>1007.5</td>\n",
              "      <td>2.5</td>\n",
              "      <td>23.88</td>\n",
              "      <td>95.9</td>\n",
              "      <td>323.8</td>\n",
              "      <td>0.0</td>\n",
              "      <td>255.1</td>\n",
              "      <td>0.0</td>\n",
              "      <td>0.0</td>\n",
              "      <td>0.6</td>\n",
              "      <td>0.0</td>\n",
              "      <td>91.5</td>\n",
              "      <td>10.5</td>\n",
              "      <td>1000.4</td>\n",
              "      <td>1007.6</td>\n",
              "      <td>0.0</td>\n",
              "      <td>0.0</td>\n",
              "      <td>0.1</td>\n",
              "      <td>1006.0</td>\n",
              "      <td>23.3</td>\n",
              "      <td>999.5</td>\n",
              "      <td>90.1</td>\n",
              "      <td>17.7</td>\n",
              "      <td>19.3</td>\n",
              "      <td>1007.6</td>\n",
              "      <td>22.16</td>\n",
              "      <td>300.0</td>\n",
              "      <td>0.0</td>\n",
              "      <td>83.2</td>\n",
              "      <td>59.8</td>\n",
              "      <td>0.5</td>\n",
              "    </tr>\n",
              "    <tr>\n",
              "      <th>4751</th>\n",
              "      <td>19.1</td>\n",
              "      <td>987.6</td>\n",
              "      <td>1.0</td>\n",
              "      <td>0.3</td>\n",
              "      <td>0.0</td>\n",
              "      <td>1006.8</td>\n",
              "      <td>987.8</td>\n",
              "      <td>21.2</td>\n",
              "      <td>1007.5</td>\n",
              "      <td>1007.4</td>\n",
              "      <td>2.5</td>\n",
              "      <td>23.88</td>\n",
              "      <td>96.2</td>\n",
              "      <td>0.0</td>\n",
              "      <td>0.0</td>\n",
              "      <td>237.2</td>\n",
              "      <td>0.0</td>\n",
              "      <td>17.7</td>\n",
              "      <td>0.0</td>\n",
              "      <td>0.0</td>\n",
              "      <td>93.0</td>\n",
              "      <td>10.5</td>\n",
              "      <td>1000.3</td>\n",
              "      <td>1007.6</td>\n",
              "      <td>0.0</td>\n",
              "      <td>0.0</td>\n",
              "      <td>0.1</td>\n",
              "      <td>1006.1</td>\n",
              "      <td>23.2</td>\n",
              "      <td>999.5</td>\n",
              "      <td>89.6</td>\n",
              "      <td>17.7</td>\n",
              "      <td>19.5</td>\n",
              "      <td>1007.7</td>\n",
              "      <td>22.16</td>\n",
              "      <td>157.5</td>\n",
              "      <td>0.0</td>\n",
              "      <td>84.0</td>\n",
              "      <td>59.5</td>\n",
              "      <td>0.5</td>\n",
              "    </tr>\n",
              "  </tbody>\n",
              "</table>\n",
              "</div>"
            ],
            "text/plain": [
              "       X00    X01  X02  X03  X04     X05  ...    X34    X35  X36   X37   X38  X39\n",
              "4749  19.7  987.7  0.9  0.6  0.0  1006.9  ...  22.16  254.2  0.0  83.0  58.9  0.5\n",
              "4750  19.4  987.7  0.9  0.8  0.0  1006.9  ...  22.16  300.0  0.0  83.2  59.8  0.5\n",
              "4751  19.1  987.6  1.0  0.3  0.0  1006.8  ...  22.16  157.5  0.0  84.0  59.5  0.5\n",
              "\n",
              "[3 rows x 40 columns]"
            ]
          },
          "metadata": {
            "tags": []
          },
          "execution_count": 72
        }
      ]
    },
    {
      "cell_type": "markdown",
      "metadata": {
        "id": "YDNoDj9ylJoF",
        "colab_type": "text"
      },
      "source": [
        "## y"
      ]
    },
    {
      "cell_type": "markdown",
      "metadata": {
        "id": "N9bZ-cXPG-ug",
        "colab_type": "text"
      },
      "source": [
        "### feat_y"
      ]
    },
    {
      "cell_type": "code",
      "metadata": {
        "id": "OohHQJHslMgN",
        "colab_type": "code",
        "colab": {}
      },
      "source": [
        "feat_y = ['Y00', 'Y01', 'Y02', 'Y03', 'Y04', 'Y05', 'Y06', 'Y07', 'Y08', 'Y09', 'Y10', 'Y11', 'Y12', 'Y13', 'Y14', 'Y15', 'Y16', 'Y17']"
      ],
      "execution_count": 0,
      "outputs": []
    },
    {
      "cell_type": "code",
      "metadata": {
        "id": "QrbG9Yfjun58",
        "colab_type": "code",
        "colab": {
          "base_uri": "https://localhost:8080/",
          "height": 34
        },
        "outputId": "ec6fa462-da7d-46d8-e696-074cee82a74b"
      },
      "source": [
        "df[feat_y].shape"
      ],
      "execution_count": 74,
      "outputs": [
        {
          "output_type": "execute_result",
          "data": {
            "text/plain": [
              "(4752, 18)"
            ]
          },
          "metadata": {
            "tags": []
          },
          "execution_count": 74
        }
      ]
    },
    {
      "cell_type": "markdown",
      "metadata": {
        "id": "vi5uB3Bevaif",
        "colab_type": "text"
      },
      "source": [
        "null 값이 없는 부분만 추출 "
      ]
    },
    {
      "cell_type": "code",
      "metadata": {
        "id": "Guw6xTMuun_o",
        "colab_type": "code",
        "colab": {
          "base_uri": "https://localhost:8080/",
          "height": 34
        },
        "outputId": "93620d3e-650e-44c6-e634-d231721380ce"
      },
      "source": [
        "df_y = df[feat_y][:n]\n",
        "df_y.shape "
      ],
      "execution_count": 75,
      "outputs": [
        {
          "output_type": "execute_result",
          "data": {
            "text/plain": [
              "(4320, 18)"
            ]
          },
          "metadata": {
            "tags": []
          },
          "execution_count": 75
        }
      ]
    },
    {
      "cell_type": "markdown",
      "metadata": {
        "id": "dq2z-YMjHBsv",
        "colab_type": "text"
      },
      "source": [
        "### y 그룹화"
      ]
    },
    {
      "cell_type": "markdown",
      "metadata": {
        "id": "VgcW7IYmO6Qd",
        "colab_type": "text"
      },
      "source": [
        "6개의 그룹으로 나눠보기로 한다. \n",
        "\n",
        "'Y03', 'Y04'  \n",
        "'Y00'  \n",
        "'Y05', 'Y08', 'Y14'  \n",
        "'Y13','Y01', 'Y02'  \n",
        "'Y09', 'Y10', 'Y11', 'Y17', 'Y15',  Y16'  \n",
        "'Y12', 'Y06', 'Y07'\n",
        "\n"
      ]
    },
    {
      "cell_type": "code",
      "metadata": {
        "id": "InLo6FDTZyHN",
        "colab_type": "code",
        "colab": {}
      },
      "source": [
        "df_y_g1 = df_y[['Y03', 'Y04']]\n",
        "df_y_g2 = df_y[['Y00']]\n",
        "df_y_g3 = df_y[['Y05', 'Y08', 'Y14']]\n",
        "df_y_g4 = df_y[['Y13','Y01', 'Y02']]\n",
        "df_y_g5 = df_y[['Y09', 'Y10', 'Y11', 'Y17', 'Y15', 'Y16']]\n",
        "df_y_g6 = df_y[['Y12', 'Y06', 'Y07']]"
      ],
      "execution_count": 0,
      "outputs": []
    },
    {
      "cell_type": "markdown",
      "metadata": {
        "id": "sZ9abzQ7dTGx",
        "colab_type": "text"
      },
      "source": [
        "# model"
      ]
    },
    {
      "cell_type": "markdown",
      "metadata": {
        "id": "ucUowkh0fimN",
        "colab_type": "text"
      },
      "source": [
        "간단한 모델을 구성해보자  \n",
        "\n",
        "\n",
        "1.   X 중 기온 데이터인 feat_temp만 사용해서 Y00~17의 온도를 추정하는 모델 만들기 \n",
        "2.   1번에서 만든 모델로 Y00 ~ Y17의 비어있는 3일간의 데이터를 예측  \n",
        "3.   2번에서 추정한 Y00 ~ Y17의 온도, Y18을 이용해서 Y00~17로 Y18을 추정하는 모델 만들기\n",
        "4.   test data에 대해 1번에서 만든 모델로 Y00 ~ Y17을 예측. 예측한 Y00 ~ Y17과 3번에서 만든 모델로 Y18 온도를 예측  \n",
        "\n"
      ]
    },
    {
      "cell_type": "code",
      "metadata": {
        "id": "GyZEIHm2bJZT",
        "colab_type": "code",
        "outputId": "5b80edcb-ecde-4eba-df2b-828d3b577913",
        "colab": {
          "base_uri": "https://localhost:8080/",
          "height": 98
        }
      },
      "source": [
        "from __future__ import absolute_import\n",
        "from __future__ import division\n",
        "from __future__ import print_function\n",
        "from __future__ import unicode_literals\n",
        "\n",
        "import check_util.checker as checker\n",
        "from IPython.display import clear_output\n",
        "\n",
        "import os\n",
        "import time\n",
        "import glob\n",
        "import csv\n",
        "import numpy as np\n",
        "import matplotlib.pyplot as plt\n",
        "%matplotlib inline\n",
        "\n",
        "import tensorflow as tf\n",
        "from tensorflow.keras import layers\n",
        "\n",
        "print('tensorflow version: {}'.format(tf.__version__))\n",
        "print('GPU 사용 가능 여부: {}'.format(tf.test.is_gpu_available()))"
      ],
      "execution_count": 77,
      "outputs": [
        {
          "output_type": "display_data",
          "data": {
            "text/html": [
              "<p style=\"color: red;\">\n",
              "The default version of TensorFlow in Colab will soon switch to TensorFlow 2.x.<br>\n",
              "We recommend you <a href=\"https://www.tensorflow.org/guide/migrate\" target=\"_blank\">upgrade</a> now \n",
              "or ensure your notebook will continue to use TensorFlow 1.x via the <code>%tensorflow_version 1.x</code> magic:\n",
              "<a href=\"https://colab.research.google.com/notebooks/tensorflow_version.ipynb\" target=\"_blank\">more info</a>.</p>\n"
            ],
            "text/plain": [
              "<IPython.core.display.HTML object>"
            ]
          },
          "metadata": {
            "tags": []
          }
        },
        {
          "output_type": "stream",
          "text": [
            "tensorflow version: 1.15.0\n",
            "GPU 사용 가능 여부: False\n"
          ],
          "name": "stdout"
        }
      ]
    },
    {
      "cell_type": "markdown",
      "metadata": {
        "id": "l96ARh-Thzq_",
        "colab_type": "text"
      },
      "source": [
        "## 1.\n",
        "df_y_g4에 대해 모델링 해보기 (X 5군데와 전체적으로 유사해서 선택함) "
      ]
    },
    {
      "cell_type": "markdown",
      "metadata": {
        "id": "7lRcJ6V8pWUQ",
        "colab_type": "text"
      },
      "source": [
        "데이터 변형"
      ]
    },
    {
      "cell_type": "code",
      "metadata": {
        "id": "iUU_0EF2dZaM",
        "colab_type": "code",
        "colab": {
          "base_uri": "https://localhost:8080/",
          "height": 135
        },
        "outputId": "f35f9eac-6377-4b74-cb46-a98643a16e8f"
      },
      "source": [
        "def "
      ],
      "execution_count": 78,
      "outputs": [
        {
          "output_type": "error",
          "ename": "SyntaxError",
          "evalue": "ignored",
          "traceback": [
            "\u001b[0;36m  File \u001b[0;32m\"<ipython-input-78-455680ca2399>\"\u001b[0;36m, line \u001b[0;32m1\u001b[0m\n\u001b[0;31m    def\u001b[0m\n\u001b[0m        ^\u001b[0m\n\u001b[0;31mSyntaxError\u001b[0m\u001b[0;31m:\u001b[0m invalid syntax\n"
          ]
        }
      ]
    },
    {
      "cell_type": "code",
      "metadata": {
        "id": "xHQ5WVzHbIJP",
        "colab_type": "code",
        "colab": {}
      },
      "source": [
        "ls"
      ],
      "execution_count": 0,
      "outputs": []
    },
    {
      "cell_type": "code",
      "metadata": {
        "id": "Gp2rgP59hsWa",
        "colab_type": "code",
        "colab": {}
      },
      "source": [
        ""
      ],
      "execution_count": 0,
      "outputs": []
    }
  ]
}