{
  "nbformat": 4,
  "nbformat_minor": 0,
  "metadata": {
    "colab": {
      "name": "eda.ipynb",
      "provenance": [],
      "collapsed_sections": [],
      "toc_visible": true
    },
    "kernelspec": {
      "name": "python3",
      "display_name": "Python 3"
    }
  },
  "cells": [
    {
      "cell_type": "code",
      "metadata": {
        "id": "7ASe8u1m4F13",
        "colab_type": "code",
        "colab": {}
      },
      "source": [
        "import numpy as np \n",
        "import pandas as pd\n",
        "import matplotlib.pyplot as plt\n",
        "import seaborn as sns"
      ],
      "execution_count": 0,
      "outputs": []
    },
    {
      "cell_type": "markdown",
      "metadata": {
        "id": "GnzbKvgWkMry",
        "colab_type": "text"
      },
      "source": [
        "# 0 한글 폰트"
      ]
    },
    {
      "cell_type": "code",
      "metadata": {
        "id": "C6K3dLGCcJly",
        "colab_type": "code",
        "outputId": "c9fb1ad2-3f3a-4a2b-d9a9-0706da1138a0",
        "colab": {
          "base_uri": "https://localhost:8080/",
          "height": 416
        }
      },
      "source": [
        "!wget \"https://noto-website-2.storage.googleapis.com/pkgs/NotoSansCJKkr-hinted.zip\"\n",
        "!unzip \"NotoSansCJKkr-hinted.zip\""
      ],
      "execution_count": 2,
      "outputs": [
        {
          "output_type": "stream",
          "text": [
            "--2020-03-09 17:57:32--  https://noto-website-2.storage.googleapis.com/pkgs/NotoSansCJKkr-hinted.zip\n",
            "Resolving noto-website-2.storage.googleapis.com (noto-website-2.storage.googleapis.com)... 64.233.191.128, 2607:f8b0:4001:c0c::80\n",
            "Connecting to noto-website-2.storage.googleapis.com (noto-website-2.storage.googleapis.com)|64.233.191.128|:443... connected.\n",
            "HTTP request sent, awaiting response... 200 OK\n",
            "Length: 121163981 (116M) [application/zip]\n",
            "Saving to: ‘NotoSansCJKkr-hinted.zip’\n",
            "\n",
            "NotoSansCJKkr-hinte 100%[===================>] 115.55M  54.7MB/s    in 2.1s    \n",
            "\n",
            "2020-03-09 17:57:35 (54.7 MB/s) - ‘NotoSansCJKkr-hinted.zip’ saved [121163981/121163981]\n",
            "\n",
            "Archive:  NotoSansCJKkr-hinted.zip\n",
            "  inflating: LICENSE_OFL.txt         \n",
            "  inflating: NotoSansCJKkr-Black.otf  \n",
            "  inflating: NotoSansCJKkr-Bold.otf  \n",
            "  inflating: NotoSansCJKkr-DemiLight.otf  \n",
            "  inflating: NotoSansCJKkr-Light.otf  \n",
            "  inflating: NotoSansCJKkr-Medium.otf  \n",
            "  inflating: NotoSansCJKkr-Regular.otf  \n",
            "  inflating: NotoSansCJKkr-Thin.otf  \n",
            "  inflating: NotoSansMonoCJKkr-Bold.otf  \n",
            "  inflating: NotoSansMonoCJKkr-Regular.otf  \n",
            "  inflating: README                  \n"
          ],
          "name": "stdout"
        }
      ]
    },
    {
      "cell_type": "code",
      "metadata": {
        "id": "fzQ6HS3Ne5dn",
        "colab_type": "code",
        "colab": {}
      },
      "source": [
        "!mv NotoSansCJKkr-Medium.otf /usr/share/fonts/truetype/"
      ],
      "execution_count": 0,
      "outputs": []
    },
    {
      "cell_type": "code",
      "metadata": {
        "id": "0YfjC4ZHe62p",
        "colab_type": "code",
        "colab": {}
      },
      "source": [
        "import matplotlib.pyplot as plt\n",
        "import matplotlib.font_manager as fm\n",
        "\n",
        "font_dirs = ['/usr/share/fonts/truetype']\n",
        "font_files = fm.findSystemFonts(fontpaths=font_dirs)\n",
        "font_list = fm.createFontList(font_files)\n",
        "fm.fontManager.ttflist.extend(font_list)\n",
        "plt.rcParams['font.family'] = \"Noto Sans CJK KR\""
      ],
      "execution_count": 0,
      "outputs": []
    },
    {
      "cell_type": "markdown",
      "metadata": {
        "id": "wM7X5C35N-4n",
        "colab_type": "text"
      },
      "source": [
        "# 1. 데이터 읽기 "
      ]
    },
    {
      "cell_type": "markdown",
      "metadata": {
        "id": "1CatWTjLPg_Q",
        "colab_type": "text"
      },
      "source": [
        "Contents of the Notebook:\n",
        "Part1: Exploratory Data Analysis(EDA):\n",
        "\n",
        "1)Analysis of the features.\n",
        "\n",
        "2)Finding any relations or trends considering multiple features.\n",
        "Part2: Feature Engineering and Data Cleaning:\n",
        "\n",
        "1)Adding any few features.\n",
        "\n",
        "2)Removing redundant features.\n",
        "\n",
        "3)Converting features into suitable form for modeling.\n",
        "Part3: Predictive Modeling\n",
        "\n",
        "1)Running Basic Algorithms.\n",
        "\n",
        "2)Cross Validation.\n",
        "\n",
        "3)Ensembling.\n",
        "\n",
        "4)Important Features Extraction"
      ]
    },
    {
      "cell_type": "markdown",
      "metadata": {
        "id": "PSHLZvJmcPRs",
        "colab_type": "text"
      },
      "source": [
        "# 1. 데이터 불러오기"
      ]
    },
    {
      "cell_type": "code",
      "metadata": {
        "id": "4UP_N36kWbEw",
        "colab_type": "code",
        "outputId": "e0f6296e-f81a-4b79-9266-577e46314584",
        "colab": {
          "base_uri": "https://localhost:8080/",
          "height": 124
        }
      },
      "source": [
        "from google.colab import drive\n",
        "drive.mount('/content/drive')"
      ],
      "execution_count": 6,
      "outputs": [
        {
          "output_type": "stream",
          "text": [
            "Go to this URL in a browser: https://accounts.google.com/o/oauth2/auth?client_id=947318989803-6bn6qk8qdgf4n4g3pfee6491hc0brc4i.apps.googleusercontent.com&redirect_uri=urn%3aietf%3awg%3aoauth%3a2.0%3aoob&response_type=code&scope=email%20https%3a%2f%2fwww.googleapis.com%2fauth%2fdocs.test%20https%3a%2f%2fwww.googleapis.com%2fauth%2fdrive%20https%3a%2f%2fwww.googleapis.com%2fauth%2fdrive.photos.readonly%20https%3a%2f%2fwww.googleapis.com%2fauth%2fpeopleapi.readonly\n",
            "\n",
            "Enter your authorization code:\n",
            "··········\n",
            "Mounted at /content/drive\n"
          ],
          "name": "stdout"
        }
      ]
    },
    {
      "cell_type": "code",
      "metadata": {
        "id": "8MOGX2r-bdaG",
        "colab_type": "code",
        "colab": {}
      },
      "source": [
        "data_dir = \"/content/drive/My Drive/\" + \"_data/data_dacon/temperature_forecasts/\""
      ],
      "execution_count": 0,
      "outputs": []
    },
    {
      "cell_type": "code",
      "metadata": {
        "id": "0Q_lQowbbf9h",
        "colab_type": "code",
        "outputId": "8d8e689c-b55c-43fc-a0fc-29ced9fab45b",
        "colab": {
          "base_uri": "https://localhost:8080/",
          "height": 34
        }
      },
      "source": [
        "df = pd.read_csv(data_dir+'train.csv')\n",
        "df.shape"
      ],
      "execution_count": 8,
      "outputs": [
        {
          "output_type": "execute_result",
          "data": {
            "text/plain": [
              "(4752, 60)"
            ]
          },
          "metadata": {
            "tags": []
          },
          "execution_count": 8
        }
      ]
    },
    {
      "cell_type": "markdown",
      "metadata": {
        "id": "Bo_lvrxI_-yr",
        "colab_type": "text"
      },
      "source": [
        "* 4320개(30일)\n",
        "* 432개(3일) "
      ]
    },
    {
      "cell_type": "markdown",
      "metadata": {
        "id": "9k4dS_DVAL7j",
        "colab_type": "text"
      },
      "source": [
        "|-|30일(train)|3일(train)|80일(test)|\n",
        "|---|---|---|---|\n",
        "|Y18|NULL|432개|NULL|\n",
        "|Y00-Y17|4320개|NULL|NULL|\n",
        "|X00-X17|4320개|432개|11520개|"
      ]
    },
    {
      "cell_type": "code",
      "metadata": {
        "id": "sBmyVGEc_wo5",
        "colab_type": "code",
        "colab": {}
      },
      "source": [
        "n = 4320"
      ],
      "execution_count": 0,
      "outputs": []
    },
    {
      "cell_type": "markdown",
      "metadata": {
        "id": "BoVcePUUenSg",
        "colab_type": "text"
      },
      "source": [
        "## x"
      ]
    },
    {
      "cell_type": "markdown",
      "metadata": {
        "id": "HK-xZpb6eroq",
        "colab_type": "text"
      },
      "source": [
        "* feat_temp: 기온 \n",
        "* feat_air_press: 현지기압\n",
        "* feat_wind_speed: 풍속\n",
        "* feat_rainfall: 일일 누적강수량 \n",
        "* feat_sea_press: 해면기압\n",
        "* feat_insol: 일일 누적일사량\n",
        "* feat_humid: 습도\n",
        "* feat_dir_wind: 풍향\n",
        "\n"
      ]
    },
    {
      "cell_type": "code",
      "metadata": {
        "id": "JEdugNkuQEHm",
        "colab_type": "code",
        "colab": {}
      },
      "source": [
        "#feat_x = [feat_temp, feat_air_press, feat_wind_speed, feat_rainfall, feat_sea_press, feat_insol, feat_humid, feat_dir_wind]\n",
        "feat_x = ['X00', 'X01', 'X02', 'X03', 'X04', 'X05', 'X06', 'X07', 'X08', 'X09', \n",
        "          'X10', 'X11', 'X12', 'X13', 'X14', 'X15', 'X16', 'X17', 'X18', 'X19', \n",
        "          'X20', 'X21', 'X22', 'X23', 'X24', 'X25', 'X26', 'X27', 'X28', 'X29', \n",
        "          'X30', 'X31', 'X32', 'X33', 'X34', 'X35', 'X36', 'X37', 'X38', 'X39']\n",
        "feat_temp = ['X00', 'X07', 'X28', 'X31', 'X32']\n",
        "feat_air_press = ['X01', 'X06', 'X22', 'X27', 'X29']\n",
        "feat_wind_speed = ['X02', 'X03', 'X18', 'X24', 'X26']\n",
        "feat_rainfall = ['X04', 'X10', 'X21', 'X36', 'X39']\n",
        "feat_sea_press = ['X05', 'X08', 'X09', 'X23', 'X33']\n",
        "feat_insol = ['X11', 'X14', 'X16', 'X19', 'X34']\n",
        "feat_humid = ['X12', 'X20', 'X30', 'X37', 'X38']\n",
        "feat_dir_wind = ['X13', 'X15', 'X17', 'X25', 'X35']"
      ],
      "execution_count": 0,
      "outputs": []
    },
    {
      "cell_type": "code",
      "metadata": {
        "id": "lvYlhcYLQELJ",
        "colab_type": "code",
        "outputId": "984b9e97-9c94-4e82-edd1-22f2fd8c1ee8",
        "colab": {
          "base_uri": "https://localhost:8080/",
          "height": 132
        }
      },
      "source": [
        "df[feat_x].head(2)"
      ],
      "execution_count": 11,
      "outputs": [
        {
          "output_type": "execute_result",
          "data": {
            "text/html": [
              "<div>\n",
              "<style scoped>\n",
              "    .dataframe tbody tr th:only-of-type {\n",
              "        vertical-align: middle;\n",
              "    }\n",
              "\n",
              "    .dataframe tbody tr th {\n",
              "        vertical-align: top;\n",
              "    }\n",
              "\n",
              "    .dataframe thead th {\n",
              "        text-align: right;\n",
              "    }\n",
              "</style>\n",
              "<table border=\"1\" class=\"dataframe\">\n",
              "  <thead>\n",
              "    <tr style=\"text-align: right;\">\n",
              "      <th></th>\n",
              "      <th>X00</th>\n",
              "      <th>X01</th>\n",
              "      <th>X02</th>\n",
              "      <th>X03</th>\n",
              "      <th>X04</th>\n",
              "      <th>X05</th>\n",
              "      <th>X06</th>\n",
              "      <th>X07</th>\n",
              "      <th>X08</th>\n",
              "      <th>X09</th>\n",
              "      <th>X10</th>\n",
              "      <th>X11</th>\n",
              "      <th>X12</th>\n",
              "      <th>X13</th>\n",
              "      <th>X14</th>\n",
              "      <th>X15</th>\n",
              "      <th>X16</th>\n",
              "      <th>X17</th>\n",
              "      <th>X18</th>\n",
              "      <th>X19</th>\n",
              "      <th>X20</th>\n",
              "      <th>X21</th>\n",
              "      <th>X22</th>\n",
              "      <th>X23</th>\n",
              "      <th>X24</th>\n",
              "      <th>X25</th>\n",
              "      <th>X26</th>\n",
              "      <th>X27</th>\n",
              "      <th>X28</th>\n",
              "      <th>X29</th>\n",
              "      <th>X30</th>\n",
              "      <th>X31</th>\n",
              "      <th>X32</th>\n",
              "      <th>X33</th>\n",
              "      <th>X34</th>\n",
              "      <th>X35</th>\n",
              "      <th>X36</th>\n",
              "      <th>X37</th>\n",
              "      <th>X38</th>\n",
              "      <th>X39</th>\n",
              "    </tr>\n",
              "  </thead>\n",
              "  <tbody>\n",
              "    <tr>\n",
              "      <th>0</th>\n",
              "      <td>9.7</td>\n",
              "      <td>988.8</td>\n",
              "      <td>1.2</td>\n",
              "      <td>0.6</td>\n",
              "      <td>0.0</td>\n",
              "      <td>1009.3</td>\n",
              "      <td>989.6</td>\n",
              "      <td>12.2</td>\n",
              "      <td>1009.9</td>\n",
              "      <td>1009.8</td>\n",
              "      <td>0.0</td>\n",
              "      <td>0.0</td>\n",
              "      <td>82.4</td>\n",
              "      <td>71.3</td>\n",
              "      <td>0.0</td>\n",
              "      <td>101.1</td>\n",
              "      <td>0.0</td>\n",
              "      <td>56.1</td>\n",
              "      <td>0.3</td>\n",
              "      <td>0.0</td>\n",
              "      <td>91.0</td>\n",
              "      <td>0.0</td>\n",
              "      <td>1002.5</td>\n",
              "      <td>1009.8</td>\n",
              "      <td>1.1</td>\n",
              "      <td>2.3</td>\n",
              "      <td>0.5</td>\n",
              "      <td>1008.7</td>\n",
              "      <td>12.3</td>\n",
              "      <td>1001.6</td>\n",
              "      <td>69.1</td>\n",
              "      <td>8.2</td>\n",
              "      <td>10.7</td>\n",
              "      <td>1010.1</td>\n",
              "      <td>0.0</td>\n",
              "      <td>256.4</td>\n",
              "      <td>0.0</td>\n",
              "      <td>77.2</td>\n",
              "      <td>62.6</td>\n",
              "      <td>0.0</td>\n",
              "    </tr>\n",
              "    <tr>\n",
              "      <th>1</th>\n",
              "      <td>9.3</td>\n",
              "      <td>988.9</td>\n",
              "      <td>1.7</td>\n",
              "      <td>1.9</td>\n",
              "      <td>0.0</td>\n",
              "      <td>1009.3</td>\n",
              "      <td>989.6</td>\n",
              "      <td>12.1</td>\n",
              "      <td>1010.0</td>\n",
              "      <td>1009.9</td>\n",
              "      <td>0.0</td>\n",
              "      <td>0.0</td>\n",
              "      <td>81.2</td>\n",
              "      <td>121.8</td>\n",
              "      <td>0.0</td>\n",
              "      <td>165.3</td>\n",
              "      <td>0.0</td>\n",
              "      <td>0.0</td>\n",
              "      <td>0.4</td>\n",
              "      <td>0.0</td>\n",
              "      <td>91.9</td>\n",
              "      <td>0.0</td>\n",
              "      <td>1002.5</td>\n",
              "      <td>1009.9</td>\n",
              "      <td>0.0</td>\n",
              "      <td>0.0</td>\n",
              "      <td>0.0</td>\n",
              "      <td>1008.7</td>\n",
              "      <td>12.1</td>\n",
              "      <td>1001.7</td>\n",
              "      <td>70.3</td>\n",
              "      <td>8.3</td>\n",
              "      <td>10.3</td>\n",
              "      <td>1010.1</td>\n",
              "      <td>0.0</td>\n",
              "      <td>215.4</td>\n",
              "      <td>0.0</td>\n",
              "      <td>77.3</td>\n",
              "      <td>63.5</td>\n",
              "      <td>0.0</td>\n",
              "    </tr>\n",
              "  </tbody>\n",
              "</table>\n",
              "</div>"
            ],
            "text/plain": [
              "   X00    X01  X02  X03  X04     X05  ...  X34    X35  X36   X37   X38  X39\n",
              "0  9.7  988.8  1.2  0.6  0.0  1009.3  ...  0.0  256.4  0.0  77.2  62.6  0.0\n",
              "1  9.3  988.9  1.7  1.9  0.0  1009.3  ...  0.0  215.4  0.0  77.3  63.5  0.0\n",
              "\n",
              "[2 rows x 40 columns]"
            ]
          },
          "metadata": {
            "tags": []
          },
          "execution_count": 11
        }
      ]
    },
    {
      "cell_type": "markdown",
      "metadata": {
        "id": "YDNoDj9ylJoF",
        "colab_type": "text"
      },
      "source": [
        "## y"
      ]
    },
    {
      "cell_type": "markdown",
      "metadata": {
        "id": "N9bZ-cXPG-ug",
        "colab_type": "text"
      },
      "source": [
        "### feat_y"
      ]
    },
    {
      "cell_type": "code",
      "metadata": {
        "id": "OohHQJHslMgN",
        "colab_type": "code",
        "colab": {}
      },
      "source": [
        "feat_y = ['Y00', 'Y01', 'Y02', 'Y03', 'Y04', 'Y05', 'Y06', 'Y07', 'Y08', 'Y09', 'Y10', 'Y11', 'Y12', 'Y13', 'Y14', 'Y15', 'Y16', 'Y17']"
      ],
      "execution_count": 0,
      "outputs": []
    },
    {
      "cell_type": "code",
      "metadata": {
        "id": "QrbG9Yfjun58",
        "colab_type": "code",
        "outputId": "1b836cad-2ec1-43c2-cd24-7221363d52be",
        "colab": {
          "base_uri": "https://localhost:8080/",
          "height": 34
        }
      },
      "source": [
        "df[feat_y].shape"
      ],
      "execution_count": 13,
      "outputs": [
        {
          "output_type": "execute_result",
          "data": {
            "text/plain": [
              "(4752, 18)"
            ]
          },
          "metadata": {
            "tags": []
          },
          "execution_count": 13
        }
      ]
    },
    {
      "cell_type": "markdown",
      "metadata": {
        "id": "vi5uB3Bevaif",
        "colab_type": "text"
      },
      "source": [
        "null 값이 없는 부분만 추출 "
      ]
    },
    {
      "cell_type": "code",
      "metadata": {
        "id": "Guw6xTMuun_o",
        "colab_type": "code",
        "outputId": "21354457-1669-4e4f-b587-5b90824da9ec",
        "colab": {
          "base_uri": "https://localhost:8080/",
          "height": 34
        }
      },
      "source": [
        "df_y = df[feat_y][:n]\n",
        "df_y.shape "
      ],
      "execution_count": 14,
      "outputs": [
        {
          "output_type": "execute_result",
          "data": {
            "text/plain": [
              "(4320, 18)"
            ]
          },
          "metadata": {
            "tags": []
          },
          "execution_count": 14
        }
      ]
    },
    {
      "cell_type": "markdown",
      "metadata": {
        "id": "dq2z-YMjHBsv",
        "colab_type": "text"
      },
      "source": [
        "### y 그룹화"
      ]
    },
    {
      "cell_type": "markdown",
      "metadata": {
        "id": "VgcW7IYmO6Qd",
        "colab_type": "text"
      },
      "source": [
        "6개의 그룹으로 나눠보기로 한다. \n",
        "\n",
        "'Y03', 'Y04'  \n",
        "'Y00'  \n",
        "'Y05', 'Y08', 'Y14'  \n",
        "'Y13','Y01', 'Y02'  \n",
        "'Y09', 'Y10', 'Y11', 'Y17', 'Y15',  Y16'  \n",
        "'Y12', 'Y06', 'Y07'\n",
        "\n"
      ]
    },
    {
      "cell_type": "code",
      "metadata": {
        "id": "InLo6FDTZyHN",
        "colab_type": "code",
        "colab": {}
      },
      "source": [
        "df_y_g1 = df_y[['Y03', 'Y04']]\n",
        "df_y_g2 = df_y[['Y00']]\n",
        "df_y_g3 = df_y[['Y05', 'Y08', 'Y14']]\n",
        "df_y_g4 = df_y[['Y13','Y01', 'Y02']]\n",
        "df_y_g5 = df_y[['Y09', 'Y10', 'Y11', 'Y17', 'Y15', 'Y16']]\n",
        "df_y_g6 = df_y[['Y12', 'Y06', 'Y07']]"
      ],
      "execution_count": 0,
      "outputs": []
    },
    {
      "cell_type": "markdown",
      "metadata": {
        "id": "sZ9abzQ7dTGx",
        "colab_type": "text"
      },
      "source": [
        "# g1"
      ]
    },
    {
      "cell_type": "code",
      "metadata": {
        "id": "iUU_0EF2dZaM",
        "colab_type": "code",
        "colab": {}
      },
      "source": [
        ""
      ],
      "execution_count": 0,
      "outputs": []
    },
    {
      "cell_type": "markdown",
      "metadata": {
        "id": "zNj4jZIn-jYc",
        "colab_type": "text"
      },
      "source": [
        "## x[feat_temp],  y"
      ]
    },
    {
      "cell_type": "markdown",
      "metadata": {
        "id": "LHAc7EsyV81v",
        "colab_type": "text"
      },
      "source": [
        "관측소 5곳 온도와 그룹화된 y들을 비교해본다. "
      ]
    },
    {
      "cell_type": "code",
      "metadata": {
        "id": "OdvAfujKV7uO",
        "colab_type": "code",
        "colab": {}
      },
      "source": [
        "class correlation_x_y():\n",
        "    def __init__(self, dfX, dfY):\n",
        "        self.df = pd.concat([dfX, dfY], axis=1, sort=False)\n",
        "        self.df_corr = self.df.corr()\n",
        "        self.kX = len(dfX.columns)\n",
        "        self.kY = len(dfY.columns)\n",
        "        self.df.describe()\n",
        "    def corr(self):\n",
        "        print(self.df_corr.iloc[:self.kX, -self.kY:])\n",
        "    def heatmap(self, figsize = (5, 4), cmap='coolwarm', vmin=0.8):\n",
        "        plt.figure(figsize=figsize)\n",
        "        sns.heatmap(self.df_corr.iloc[:self.kX, -self.kY:], cmap=cmap, vmin=vmin) \n",
        "    def corr_mean(self):\n",
        "        print(self.df_corr.iloc[:self.kX, -self.kY:].mean(axis=0))"
      ],
      "execution_count": 0,
      "outputs": []
    },
    {
      "cell_type": "markdown",
      "metadata": {
        "id": "PJHnpBrfbXcJ",
        "colab_type": "text"
      },
      "source": [
        "### x[feat_temp], y_g1"
      ]
    },
    {
      "cell_type": "code",
      "metadata": {
        "id": "-5W6cRMNbfh7",
        "colab_type": "code",
        "outputId": "e3d46fd0-ffce-4d46-d990-21421a0d95a3",
        "colab": {
          "base_uri": "https://localhost:8080/",
          "height": 69
        }
      },
      "source": [
        "tmp_df = df_y_g1\n",
        "g = correlation_x_y(tmp_df, df.loc[:n-1, feat_temp])\n",
        "g.corr()"
      ],
      "execution_count": 0,
      "outputs": [
        {
          "output_type": "stream",
          "text": [
            "          X00       X07       X28       X31       X32\n",
            "Y03  0.729502  0.841002  0.857562  0.758773  0.747431\n",
            "Y04  0.728564  0.840372  0.856534  0.758412  0.746524\n"
          ],
          "name": "stdout"
        }
      ]
    },
    {
      "cell_type": "code",
      "metadata": {
        "id": "bsZNCSCrbcNL",
        "colab_type": "code",
        "outputId": "44d3781a-1d4c-431f-9478-5add33a08e06",
        "colab": {
          "base_uri": "https://localhost:8080/",
          "height": 265
        }
      },
      "source": [
        "g.heatmap()"
      ],
      "execution_count": 0,
      "outputs": [
        {
          "output_type": "display_data",
          "data": {
            "image/png": "[encoded data removed]",
            "text/plain": [
              "<Figure size 360x288 with 2 Axes>"
            ]
          },
          "metadata": {
            "tags": []
          }
        }
      ]
    },
    {
      "cell_type": "code",
      "metadata": {
        "id": "of2kWzsFbcRR",
        "colab_type": "code",
        "outputId": "11117c0d-3838-4171-ca2a-bcf8d76f8291",
        "colab": {
          "base_uri": "https://localhost:8080/",
          "height": 121
        }
      },
      "source": [
        "g.corr_mean()"
      ],
      "execution_count": 0,
      "outputs": [
        {
          "output_type": "stream",
          "text": [
            "X00    0.729033\n",
            "X07    0.840687\n",
            "X28    0.857048\n",
            "X31    0.758593\n",
            "X32    0.746978\n",
            "dtype: float64\n"
          ],
          "name": "stdout"
        }
      ]
    },
    {
      "cell_type": "markdown",
      "metadata": {
        "id": "rrmgOuJwgIzd",
        "colab_type": "text"
      },
      "source": [
        "g1은 평균적으로 X28, X07과 가장 유사하다.  "
      ]
    },
    {
      "cell_type": "markdown",
      "metadata": {
        "colab_type": "text",
        "id": "fvezGNC9X5QV"
      },
      "source": [
        "### x[feat_temp], y_g2"
      ]
    },
    {
      "cell_type": "code",
      "metadata": {
        "colab_type": "code",
        "outputId": "aeb51e53-c443-4810-842b-52601dc8dee8",
        "id": "mD-6HS9CX5Q0",
        "colab": {
          "base_uri": "https://localhost:8080/",
          "height": 52
        }
      },
      "source": [
        "tmp_df = df_y_g2\n",
        "g = correlation_x_y(tmp_df, df.loc[:n-1, feat_temp])\n",
        "g.corr()"
      ],
      "execution_count": 0,
      "outputs": [
        {
          "output_type": "stream",
          "text": [
            "          X00       X07      X28       X31       X32\n",
            "Y00  0.912809  0.979172  0.97449  0.918779  0.921823\n"
          ],
          "name": "stdout"
        }
      ]
    },
    {
      "cell_type": "code",
      "metadata": {
        "colab_type": "code",
        "outputId": "416f3e17-4bd6-40bb-bb0c-de0e10573a17",
        "id": "J388_dDoX5RM",
        "colab": {
          "base_uri": "https://localhost:8080/",
          "height": 102
        }
      },
      "source": [
        "g.heatmap((6, 1))"
      ],
      "execution_count": 0,
      "outputs": [
        {
          "output_type": "display_data",
          "data": {
            "image/png": "[encoded data removed]",
            "text/plain": [
              "<Figure size 432x72 with 2 Axes>"
            ]
          },
          "metadata": {
            "tags": []
          }
        }
      ]
    },
    {
      "cell_type": "code",
      "metadata": {
        "colab_type": "code",
        "outputId": "389a8316-53a1-424c-85de-f432c93bfbd3",
        "id": "fnngtTQ_YImA",
        "colab": {
          "base_uri": "https://localhost:8080/",
          "height": 121
        }
      },
      "source": [
        "g.corr_mean()"
      ],
      "execution_count": 0,
      "outputs": [
        {
          "output_type": "stream",
          "text": [
            "X00    0.912809\n",
            "X07    0.979172\n",
            "X28    0.974490\n",
            "X31    0.918779\n",
            "X32    0.921823\n",
            "dtype: float64\n"
          ],
          "name": "stdout"
        }
      ]
    },
    {
      "cell_type": "markdown",
      "metadata": {
        "colab_type": "text",
        "id": "Cp5QGkf0X5Re"
      },
      "source": [
        "g2는 X7과 X28과 가장 유사하다. "
      ]
    },
    {
      "cell_type": "markdown",
      "metadata": {
        "colab_type": "text",
        "id": "t5yNJ2zIX57Q"
      },
      "source": [
        "### x[feat_temp], y_g3"
      ]
    },
    {
      "cell_type": "code",
      "metadata": {
        "colab_type": "code",
        "outputId": "da9f17d1-e468-4cfb-ddf9-f62cc704e741",
        "id": "P7l0XchsX57d",
        "colab": {
          "base_uri": "https://localhost:8080/",
          "height": 86
        }
      },
      "source": [
        "tmp_df = df_y_g3\n",
        "g = correlation_x_y(tmp_df, df.loc[:n-1, feat_temp])\n",
        "g.corr()"
      ],
      "execution_count": 0,
      "outputs": [
        {
          "output_type": "stream",
          "text": [
            "          X00       X07       X28       X31       X32\n",
            "Y05  0.906096  0.892414  0.864041  0.899776  0.901241\n",
            "Y08  0.902829  0.897089  0.872612  0.896547  0.894345\n",
            "Y14  0.911123  0.931548  0.916300  0.915336  0.906674\n"
          ],
          "name": "stdout"
        }
      ]
    },
    {
      "cell_type": "code",
      "metadata": {
        "colab_type": "code",
        "outputId": "1816cb89-851c-4b68-d314-22aa7dca8d35",
        "id": "Rj1s-Ol6X571",
        "colab": {
          "base_uri": "https://localhost:8080/",
          "height": 265
        }
      },
      "source": [
        "g.heatmap()"
      ],
      "execution_count": 0,
      "outputs": [
        {
          "output_type": "display_data",
          "data": {
            "image/png": "[encoded data removed]",
            "text/plain": [
              "<Figure size 360x288 with 2 Axes>"
            ]
          },
          "metadata": {
            "tags": []
          }
        }
      ]
    },
    {
      "cell_type": "code",
      "metadata": {
        "colab_type": "code",
        "outputId": "0dae2a46-887f-41fb-9194-324e07d735fe",
        "id": "fGVa89TgX58A",
        "colab": {
          "base_uri": "https://localhost:8080/",
          "height": 121
        }
      },
      "source": [
        "g.corr_mean()"
      ],
      "execution_count": 0,
      "outputs": [
        {
          "output_type": "stream",
          "text": [
            "X00    0.906683\n",
            "X07    0.907017\n",
            "X28    0.884318\n",
            "X31    0.903886\n",
            "X32    0.900753\n",
            "dtype: float64\n"
          ],
          "name": "stdout"
        }
      ]
    },
    {
      "cell_type": "markdown",
      "metadata": {
        "colab_type": "text",
        "id": "I2kF6Q2PX58H"
      },
      "source": [
        "g3은 평균적으로 4군데와 비슷한 수준으로 유사하다.\n"
      ]
    },
    {
      "cell_type": "markdown",
      "metadata": {
        "colab_type": "text",
        "id": "UkjnFoqIX6_T"
      },
      "source": [
        "### x[feat_temp], y_g4"
      ]
    },
    {
      "cell_type": "code",
      "metadata": {
        "colab_type": "code",
        "outputId": "55526b96-8eb8-46a4-94a3-4f4f17777f4c",
        "id": "K1QKzLm1X6_d",
        "colab": {
          "base_uri": "https://localhost:8080/",
          "height": 86
        }
      },
      "source": [
        "tmp_df = df_y_g4\n",
        "g = correlation_x_y(tmp_df, df.loc[:n-1, feat_temp])\n",
        "g.corr()"
      ],
      "execution_count": 0,
      "outputs": [
        {
          "output_type": "stream",
          "text": [
            "          X00       X07       X28       X31       X32\n",
            "Y13  0.951228  0.958731  0.938310  0.950045  0.950898\n",
            "Y01  0.951641  0.970238  0.953917  0.956140  0.956146\n",
            "Y02  0.954500  0.973252  0.958521  0.957152  0.960426\n"
          ],
          "name": "stdout"
        }
      ]
    },
    {
      "cell_type": "code",
      "metadata": {
        "colab_type": "code",
        "outputId": "1ee8080a-b2b5-484e-a086-0b1524981862",
        "id": "K257YrfwX6_z",
        "colab": {
          "base_uri": "https://localhost:8080/",
          "height": 265
        }
      },
      "source": [
        "g.heatmap()"
      ],
      "execution_count": 0,
      "outputs": [
        {
          "output_type": "display_data",
          "data": {
            "image/png": "[encoded data removed]",
            "text/plain": [
              "<Figure size 360x288 with 2 Axes>"
            ]
          },
          "metadata": {
            "tags": []
          }
        }
      ]
    },
    {
      "cell_type": "code",
      "metadata": {
        "colab_type": "code",
        "outputId": "dbff7b84-d1a3-40e9-9b7b-b3afb532816f",
        "id": "mw1ahlVBX7AB",
        "colab": {
          "base_uri": "https://localhost:8080/",
          "height": 121
        }
      },
      "source": [
        "g.corr_mean()"
      ],
      "execution_count": 0,
      "outputs": [
        {
          "output_type": "stream",
          "text": [
            "X00    0.952456\n",
            "X07    0.967407\n",
            "X28    0.950249\n",
            "X31    0.954445\n",
            "X32    0.955823\n",
            "dtype: float64\n"
          ],
          "name": "stdout"
        }
      ]
    },
    {
      "cell_type": "markdown",
      "metadata": {
        "colab_type": "text",
        "id": "jhzmH3AwX7AK"
      },
      "source": [
        "g4는 평균적으로 모든 지역과 비슷한 수준으로 유사하다. "
      ]
    },
    {
      "cell_type": "markdown",
      "metadata": {
        "colab_type": "text",
        "id": "q46cMyOcX14h"
      },
      "source": [
        "### x[feat_temp], y_g5"
      ]
    },
    {
      "cell_type": "code",
      "metadata": {
        "colab_type": "code",
        "outputId": "43770c28-e911-48e7-adc5-36bf9b63eafc",
        "id": "Fxv0UOqPX148",
        "colab": {
          "base_uri": "https://localhost:8080/",
          "height": 139
        }
      },
      "source": [
        "tmp_df = df_y_g5\n",
        "g = correlation_x_y(tmp_df, df.loc[:n-1, feat_temp])\n",
        "g.corr()"
      ],
      "execution_count": 0,
      "outputs": [
        {
          "output_type": "stream",
          "text": [
            "          X00       X07       X28       X31       X32\n",
            "Y09  0.947931  0.923403  0.889321  0.947002  0.951074\n",
            "Y10  0.945833  0.931275  0.899919  0.947893  0.950790\n",
            "Y11  0.933180  0.911746  0.879923  0.932860  0.936655\n",
            "Y17  0.911654  0.885659  0.849162  0.905867  0.911813\n",
            "Y15  0.925800  0.906402  0.874344  0.919587  0.929539\n",
            "Y16  0.923968  0.891921  0.855365  0.917060  0.923795\n"
          ],
          "name": "stdout"
        }
      ]
    },
    {
      "cell_type": "code",
      "metadata": {
        "colab_type": "code",
        "outputId": "6d3aa828-56fd-472d-d225-e5987034330d",
        "id": "ouE0OU4uX15S",
        "colab": {
          "base_uri": "https://localhost:8080/",
          "height": 265
        }
      },
      "source": [
        "g.heatmap()"
      ],
      "execution_count": 0,
      "outputs": [
        {
          "output_type": "display_data",
          "data": {
            "image/png": "[encoded data removed]",
            "text/plain": [
              "<Figure size 360x288 with 2 Axes>"
            ]
          },
          "metadata": {
            "tags": []
          }
        }
      ]
    },
    {
      "cell_type": "code",
      "metadata": {
        "colab_type": "code",
        "outputId": "d22f7b85-8ccf-4ffb-9dee-0840ba051f32",
        "id": "14qiv6zKX15c",
        "colab": {
          "base_uri": "https://localhost:8080/",
          "height": 121
        }
      },
      "source": [
        "g.corr_mean()"
      ],
      "execution_count": 0,
      "outputs": [
        {
          "output_type": "stream",
          "text": [
            "X00    0.931394\n",
            "X07    0.908401\n",
            "X28    0.874672\n",
            "X31    0.928378\n",
            "X32    0.933944\n",
            "dtype: float64\n"
          ],
          "name": "stdout"
        }
      ]
    },
    {
      "cell_type": "markdown",
      "metadata": {
        "colab_type": "text",
        "id": "QAKYpi5EX15i"
      },
      "source": [
        "g5은 평균적으로 X32, X00와 가장 유사하다.  "
      ]
    },
    {
      "cell_type": "markdown",
      "metadata": {
        "colab_type": "text",
        "id": "ta-mcye4XwnV"
      },
      "source": [
        "### x[feat_temp], y_g6"
      ]
    },
    {
      "cell_type": "code",
      "metadata": {
        "colab_type": "code",
        "outputId": "ab068a6c-bff3-4db9-d353-243816e08622",
        "id": "eLNtFk1CXwne",
        "colab": {
          "base_uri": "https://localhost:8080/",
          "height": 86
        }
      },
      "source": [
        "tmp_df = df_y_g6\n",
        "g = correlation_x_y(tmp_df, df.loc[:n-1, feat_temp])\n",
        "g.corr()"
      ],
      "execution_count": 0,
      "outputs": [
        {
          "output_type": "stream",
          "text": [
            "          X00       X07       X28       X31       X32\n",
            "Y12  0.825280  0.778135  0.733078  0.817218  0.830264\n",
            "Y06  0.840827  0.795471  0.752037  0.838379  0.852777\n",
            "Y07  0.746129  0.698961  0.652907  0.743822  0.763417\n"
          ],
          "name": "stdout"
        }
      ]
    },
    {
      "cell_type": "code",
      "metadata": {
        "colab_type": "code",
        "outputId": "d0220a6d-12a3-4faa-c6e5-9f2beadb4431",
        "id": "Wy5oFHLPXwnj",
        "colab": {
          "base_uri": "https://localhost:8080/",
          "height": 265
        }
      },
      "source": [
        "g.heatmap()"
      ],
      "execution_count": 0,
      "outputs": [
        {
          "output_type": "display_data",
          "data": {
            "image/png": "[encoded data removed]",
            "text/plain": [
              "<Figure size 360x288 with 2 Axes>"
            ]
          },
          "metadata": {
            "tags": []
          }
        }
      ]
    },
    {
      "cell_type": "code",
      "metadata": {
        "colab_type": "code",
        "outputId": "1685fa17-9021-4e8f-cc1a-921b8f8225e0",
        "id": "ubMnplc1Xwnq",
        "colab": {
          "base_uri": "https://localhost:8080/",
          "height": 121
        }
      },
      "source": [
        "g.corr_mean()"
      ],
      "execution_count": 0,
      "outputs": [
        {
          "output_type": "stream",
          "text": [
            "X00    0.804078\n",
            "X07    0.757522\n",
            "X28    0.712674\n",
            "X31    0.799806\n",
            "X32    0.815486\n",
            "dtype: float64\n"
          ],
          "name": "stdout"
        }
      ]
    },
    {
      "cell_type": "markdown",
      "metadata": {
        "id": "591_rfSLZFRW",
        "colab_type": "text"
      },
      "source": [
        "다른 그룹들 보다는 유사성이 떨어지는 것처럼 보이지만 여전히 0.7이 넘는 높은 상관관계를 갖는다."
      ]
    },
    {
      "cell_type": "markdown",
      "metadata": {
        "id": "fXlKPpiJYA_4",
        "colab_type": "text"
      },
      "source": [
        "# tmp"
      ]
    },
    {
      "cell_type": "code",
      "metadata": {
        "id": "a_WnfdI7eHCK",
        "colab_type": "code",
        "outputId": "b0a80a81-8da9-495b-b93b-78c8fe18cc2d",
        "colab": {
          "base_uri": "https://localhost:8080/",
          "height": 34
        }
      },
      "source": [
        "for i in range(18):\n",
        "    print(\"'Y{:02}',\".format(i), end=' ')"
      ],
      "execution_count": 0,
      "outputs": [
        {
          "output_type": "stream",
          "text": [
            "'Y00', 'Y01', 'Y02', 'Y03', 'Y04', 'Y05', 'Y06', 'Y07', 'Y08', 'Y09', 'Y10', 'Y11', 'Y12', 'Y13', 'Y14', 'Y15', 'Y16', 'Y17', "
          ],
          "name": "stdout"
        }
      ]
    },
    {
      "cell_type": "code",
      "metadata": {
        "id": "Qz9vMJJ-eHFO",
        "colab_type": "code",
        "colab": {}
      },
      "source": [
        "tmp = 'X13, X15, X17, X25, X35'\n",
        "for i in tmp.split(', '):\n",
        "    print(\"'{}',\".format(i), end=' ')"
      ],
      "execution_count": 0,
      "outputs": []
    }
  ]
}